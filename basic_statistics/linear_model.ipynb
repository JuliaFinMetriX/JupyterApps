{
 "metadata": {
  "language": "Julia",
  "name": "",
  "signature": "sha256:4d823bc8459279fbdf84ebf1c98a06966ee0d9e09a328350592fa868f503856f"
 },
 "nbformat": 3,
 "nbformat_minor": 0,
 "worksheets": [
  {
   "cells": [
    {
     "cell_type": "markdown",
     "metadata": {},
     "source": [
      "This notebook provides an overview over different ways of estimating a linear model in Julia."
     ]
    },
    {
     "cell_type": "heading",
     "level": 4,
     "metadata": {},
     "source": [
      "Creating data"
     ]
    },
    {
     "cell_type": "code",
     "collapsed": false,
     "input": [
      "x1 = randn(100)\n",
      "x2 = randn(100)\n",
      "eps = randn(100)\n",
      "y = 0.4*x1 + 0.3*x2 + 0.4*eps;"
     ],
     "language": "python",
     "metadata": {},
     "outputs": [],
     "prompt_number": 1
    },
    {
     "cell_type": "heading",
     "level": 4,
     "metadata": {},
     "source": [
      "Without packages - coefficient estimates only"
     ]
    },
    {
     "cell_type": "markdown",
     "metadata": {},
     "source": [
      "Without loading any additional packages, we can use function `linreg` to perform an ordinary least square estimation. However, this does automatically estimate an intercept as well, which sometimes might not be what you want. Also, the function does not provide standard errors or t statistics."
     ]
    },
    {
     "cell_type": "code",
     "collapsed": false,
     "input": [
      "betaHat1 = linreg([x1 x2], y)"
     ],
     "language": "python",
     "metadata": {},
     "outputs": [
      {
       "metadata": {},
       "output_type": "pyout",
       "prompt_number": 2,
       "text": [
        "3-element Array{Float64,1}:\n",
        " -0.00547373\n",
        "  0.367426  \n",
        "  0.224688  "
       ]
      }
     ],
     "prompt_number": 2
    },
    {
     "cell_type": "heading",
     "level": 4,
     "metadata": {},
     "source": [
      "With package GLM"
     ]
    },
    {
     "cell_type": "markdown",
     "metadata": {},
     "source": [
      "We can alternatively use functions provided by package GLM, and either use the very general GLS framework or a simplified syntax for linear models. Also, data not necessarily needs to be stored as `DataFrame`."
     ]
    },
    {
     "cell_type": "code",
     "collapsed": false,
     "input": [
      "using GLM\n",
      "using DataFrames\n",
      "\n",
      "# without keeping data as DataFrame\n",
      "olsFit1 = lm([x1 x2], y)"
     ],
     "language": "python",
     "metadata": {},
     "outputs": [
      {
       "metadata": {},
       "output_type": "pyout",
       "prompt_number": 3,
       "text": [
        "LinearModel{DensePredQR{Float64}}:\n",
        "\n",
        "Coefficients:     Estimate Std.Error t value Pr(>|t|)\n",
        "x1   0.367209 0.0387186 9.48404   <1e-14\n",
        "x2   0.224297 0.0423938 5.29079    <1e-6\n",
        "\n"
       ]
      }
     ],
     "prompt_number": 3
    },
    {
     "cell_type": "markdown",
     "metadata": {},
     "source": [
      "Since you can build your design matrix on your own, you can also manually include an intercept:"
     ]
    },
    {
     "cell_type": "code",
     "collapsed": false,
     "input": [
      "olsFit2 = lm([ones(size(x1)) x1 x2], y)"
     ],
     "language": "python",
     "metadata": {},
     "outputs": [
      {
       "metadata": {},
       "output_type": "pyout",
       "prompt_number": 4,
       "text": [
        "LinearModel{DensePredQR{Float64}}:\n",
        "\n",
        "Coefficients:        Estimate Std.Error   t value Pr(>|t|)\n",
        "x1   -0.00547373 0.0415064 -0.131877   0.8954\n",
        "x2      0.367426  0.038949   9.43352   <1e-14\n",
        "x3      0.224688 0.0427108   5.26068    <1e-6\n",
        "\n"
       ]
      }
     ],
     "prompt_number": 4
    },
    {
     "cell_type": "markdown",
     "metadata": {},
     "source": [
      "In addition, there are also three ways that allow estimation by specifying a formula similar to R. This way, however, data needs to be stored as `DataFrame`. Estimating a linear model with intercept, we get:"
     ]
    },
    {
     "cell_type": "code",
     "collapsed": false,
     "input": [
      "# get data as DataFrame\n",
      "df = DataFrame(y = y, x1 = x1, x2 = x2)\n",
      "\n",
      "# using function lm\n",
      "olsFit3 = lm(y ~ x1 + x2, df)\n",
      "\n",
      "# using function fit\n",
      "olsFit4 = fit(LinearModel, y~x1+x2, df)\n",
      "\n",
      "# using function glm\n",
      "olsFit5 = glm(y~x1+x2,df,Normal(),IdentityLink())"
     ],
     "language": "python",
     "metadata": {},
     "outputs": [
      {
       "metadata": {},
       "output_type": "pyout",
       "prompt_number": 5,
       "text": [
        "DataFrameRegressionModel{GeneralizedLinearModel,Float64}:\n",
        "\n",
        "Coefficients:\n",
        "                Estimate Std.Error   z value Pr(>|z|)\n",
        "(Intercept)  -0.00547373 0.0415064 -0.131877   0.8951\n",
        "x1              0.367426  0.038949   9.43352   <1e-20\n",
        "x2              0.224688 0.0427108   5.26068    <1e-6\n"
       ]
      }
     ],
     "prompt_number": 5
    },
    {
     "cell_type": "markdown",
     "metadata": {},
     "source": [
      "Or, if we do not want to estimate an intercept:"
     ]
    },
    {
     "cell_type": "code",
     "collapsed": false,
     "input": [
      "# using function lm\n",
      "olsFit6 = lm(y ~ 0 + x1 + x2, df)\n",
      "\n",
      "# using function fit\n",
      "olsFit7 = fit(LinearModel, y~0+x1+x2, df)\n",
      "\n",
      "# using function glm\n",
      "olsFit8 = glm(y~0+x1+x2,df,Normal(),IdentityLink())"
     ],
     "language": "python",
     "metadata": {},
     "outputs": [
      {
       "metadata": {},
       "output_type": "pyout",
       "prompt_number": 7,
       "text": [
        "DataFrameRegressionModel{GeneralizedLinearModel,Float64}:\n",
        "\n",
        "Coefficients:\n",
        "     Estimate Std.Error z value Pr(>|z|)\n",
        "x1   0.367209 0.0387186 9.48404   <1e-20\n",
        "x2   0.224297 0.0423938 5.29079    <1e-6\n"
       ]
      }
     ],
     "prompt_number": 7
    },
    {
     "cell_type": "heading",
     "level": 2,
     "metadata": {},
     "source": [
      "Session info"
     ]
    },
    {
     "cell_type": "code",
     "collapsed": false,
     "input": [
      "versioninfo()"
     ],
     "language": "python",
     "metadata": {},
     "outputs": [
      {
       "output_type": "stream",
       "stream": "stdout",
       "text": [
        "Julia Version 0.3.5\n"
       ]
      },
      {
       "output_type": "stream",
       "stream": "stdout",
       "text": [
        "Commit a05f87b* (2015-01-08 22:33 UTC)\n",
        "Platform Info:\n",
        "  System: Linux (x86_64-linux-gnu)\n",
        "  CPU: Intel(R) Core(TM) i3-3240 CPU @ 3.40GHz\n",
        "  WORD_SIZE: 64\n",
        "  BLAS: libopenblas (NO_LAPACK NO_LAPACKE DYNAMIC_ARCH NO_AFFINITY Sandybridge)\n",
        "  LAPACK: liblapack.so.3\n",
        "  LIBM: libopenlibm\n",
        "  LLVM: libLLVM-3.3\n"
       ]
      }
     ],
     "prompt_number": 1
    },
    {
     "cell_type": "code",
     "collapsed": false,
     "input": [
      "Pkg.status()"
     ],
     "language": "python",
     "metadata": {},
     "outputs": [
      {
       "output_type": "stream",
       "stream": "stdout",
       "text": [
        "19 required packages:\n"
       ]
      },
      {
       "output_type": "stream",
       "stream": "stdout",
       "text": [
        " - Cpp                           0.1.0              47b1a7f4 (dirty)\n",
        " - DataArrays                    0.2.5\n",
        " - DataFrames                    0.5.11\n",
        " - Dates                         0.3.2\n",
        " - Debug                         0.0.4\n",
        " - Distributions                 0.5.5\n",
        " - GLM                           0.4.2\n",
        " - Gadfly                        0.3.9\n",
        " - IJulia                        0.1.15\n",
        " - Jewel                         0.9.0\n",
        " - JuMP                          0.6.3\n",
        " - MATLAB                        0.1.2\n",
        " - NLopt                         0.1.3\n",
        " - PyCall                        0.4.10\n",
        " - Quandl                        0.3.14\n",
        " - RDatasets                     0.1.1\n",
        " - Taro                          0.1.1\n",
        " - TimeSeries                    0.4.5\n",
        " - Winston                       0.11.6\n",
        "61 additional packages:\n",
        " - ArrayViews                    0.4.8\n",
        " - AssetMgmt                     0.0.0-             "
       ]
      },
      {
       "output_type": "stream",
       "stream": "stdout",
       "text": [
        "master (unregistered)\n",
        " - BinDeps                       0.3.6\n",
        " - Cairo                         0.2.20\n",
        " - Calculus                      0.1.5\n",
        " - Codecs                        0.1.2\n",
        " - Color                         0.3.10\n",
        " - Compat                        0.1.0\n",
        " - Compose                       0.3.9\n",
        " - Contour                       0.0.5\n",
        " - Copulas                       0.0.0-             master (unregistered, dirty)\n",
        " - DataStructures                0.3.5\n",
        " - Distances                     0.2.0\n",
        " - DualNumbers                   0.1.0\n",
        " - EconDatasets                  0.0.2+             master (dirty)\n",
        " - Econometrics                  0.0.0-             master (unregistered)\n",
        " - FactCheck                     0.1.2\n",
        " - FixedPointNumbers             0.0.4\n",
        " - GZip                          0.2.13\n",
        " - GnuTLS                        0.0.1\n",
        " - Graphs                        0.4.3\n",
        " - Gumbo                         0.1.0\n",
        " - HDF5                          0.4.6\n",
        " - HTTPClient                    0.1.4\n",
        " - Hexagons                      0.0.2\n",
        " - HttpCommon                    0.0.10\n",
        " - HttpParser                    0.0.10\n",
        " - ImmutableArrays               0.0.6\n",
        " - IniFile                       0.2.4\n",
        " - Iterators                     0.1.7\n",
        " - JSON                          0.3.9\n",
        " - JavaCall                      0.2.0\n",
        " - JuliaParser                   0.5.3\n",
        " - KernelDensity                 0.0.2\n",
        " - LNR                           0.0.1\n",
        " - Lazy                          0.5.0\n",
        " - LibCURL                       0.1.4\n",
        " - Loess                         0.0.3\n",
        " - MAT                           0.2.8\n",
        " - MathProgBase                  0.3.3\n",
        " - Memoize                       0.0.0\n",
        " - Nettle                        0.1.6\n",
        " - NumericExtensions             0.6.2\n",
        " - NumericFuns                   0.2.3\n",
        " - PDMats                        0.2.4\n",
        " - Plotly                        0.0.0-             master (unregistered)\n",
        " - REPLCompletions               0.0.3\n",
        " - Reexport                      0.0.2\n",
        " - Requests                      0.0.6\n",
        " - ReverseDiffSparse             0.1.4\n",
        " - SHA                           0.0.3\n",
        " - Showoff                       0.0.2\n",
        " - SortingAlgorithms             0.0.2\n",
        " - StatsBase                     0.6.9\n",
        " - TimeData                      0.5.1+             master (dirty)\n",
        " - Tk                            0.2.15\n",
        " - URIParser                     0.0.3\n",
        " - Vines                         0.0.0-             master (unregistered)\n",
        " - WorldBankDataTd               0.0.0-             "
       ]
      },
      {
       "output_type": "stream",
       "stream": "stdout",
       "text": [
        "master (unregistered)\n",
        " - ZMQ                           0.1.14\n",
        " - Zlib                          0.1.7\n"
       ]
      }
     ],
     "prompt_number": 2
    }
   ],
   "metadata": {}
  }
 ]
}