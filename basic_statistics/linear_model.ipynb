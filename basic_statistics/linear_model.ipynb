{
 "cells": [
  {
   "cell_type": "markdown",
   "metadata": {},
   "source": [
    "This notebook provides an overview over different ways of estimating a linear model in Julia."
   ]
  },
  {
   "cell_type": "markdown",
   "metadata": {},
   "source": [
    "#### Creating data"
   ]
  },
  {
   "cell_type": "code",
   "execution_count": 1,
   "metadata": {
    "collapsed": false
   },
   "outputs": [],
   "source": [
    "x1 = randn(100)\n",
    "x2 = randn(100)\n",
    "eps = randn(100)\n",
    "y = 0.4*x1 + 0.3*x2 + 0.4*eps;"
   ]
  },
  {
   "cell_type": "markdown",
   "metadata": {},
   "source": [
    "#### Without packages - coefficient estimates only"
   ]
  },
  {
   "cell_type": "markdown",
   "metadata": {},
   "source": [
    "Without loading any additional packages, we can use function `linreg` to perform an ordinary least square estimation. However, this does automatically estimate an intercept as well, which sometimes might not be what you want. Also, the function does not provide standard errors or t statistics."
   ]
  },
  {
   "cell_type": "code",
   "execution_count": 2,
   "metadata": {
    "collapsed": false
   },
   "outputs": [
    {
     "data": {
      "text/plain": [
       "3-element Array{Float64,1}:\n",
       " 0.0209388\n",
       " 0.321078 \n",
       " 0.287667 "
      ]
     },
     "execution_count": 2,
     "metadata": {},
     "output_type": "execute_result"
    }
   ],
   "source": [
    "betaHat1 = linreg([x1 x2], y)"
   ]
  },
  {
   "cell_type": "markdown",
   "metadata": {},
   "source": [
    "#### With package GLM"
   ]
  },
  {
   "cell_type": "markdown",
   "metadata": {},
   "source": [
    "We can alternatively use functions provided by package GLM, and either use the very general GLS framework or a simplified syntax for linear models. Also, data not necessarily needs to be stored as `DataFrame`."
   ]
  },
  {
   "cell_type": "code",
   "execution_count": 3,
   "metadata": {
    "collapsed": false
   },
   "outputs": [
    {
     "name": "stderr",
     "output_type": "stream",
     "text": [
      "Warning: could not import Base.add! into NumericExtensions\n"
     ]
    },
    {
     "data": {
      "text/plain": [
       "LinearModel{DensePredQR{Float64}}:\n",
       "\n",
       "Coefficients:     Estimate Std.Error t value Pr(>|t|)\n",
       "x1   0.322123 0.0491006 6.56048    <1e-8\n",
       "x2   0.282875  0.043889 6.44522    <1e-8\n",
       "\n"
      ]
     },
     "execution_count": 3,
     "metadata": {},
     "output_type": "execute_result"
    }
   ],
   "source": [
    "using GLM\n",
    "using DataFrames\n",
    "\n",
    "# without keeping data as DataFrame\n",
    "olsFit1 = lm([x1 x2], y)"
   ]
  },
  {
   "cell_type": "markdown",
   "metadata": {},
   "source": [
    "Since you can build your design matrix on your own, you can also manually include an intercept:"
   ]
  },
  {
   "cell_type": "code",
   "execution_count": 4,
   "metadata": {
    "collapsed": false
   },
   "outputs": [
    {
     "data": {
      "text/plain": [
       "LinearModel{DensePredQR{Float64}}:\n",
       "\n",
       "Coefficients:      Estimate Std.Error  t value Pr(>|t|)\n",
       "x1   0.0209388 0.0480059 0.436171   0.6637\n",
       "x2    0.321078 0.0493628  6.50445    <1e-8\n",
       "x3    0.287667 0.0454205  6.33342    <1e-8\n",
       "\n"
      ]
     },
     "execution_count": 4,
     "metadata": {},
     "output_type": "execute_result"
    }
   ],
   "source": [
    "olsFit2 = lm([ones(size(x1)) x1 x2], y)"
   ]
  },
  {
   "cell_type": "markdown",
   "metadata": {},
   "source": [
    "In addition, there are also three ways that allow estimation by specifying a formula similar to R. This way, however, data needs to be stored as `DataFrame`. Estimating a linear model with intercept, we get:"
   ]
  },
  {
   "cell_type": "code",
   "execution_count": 5,
   "metadata": {
    "collapsed": false
   },
   "outputs": [
    {
     "data": {
      "text/plain": [
       "DataFrameRegressionModel{GeneralizedLinearModel,Float64}:\n",
       "\n",
       "Coefficients:\n",
       "              Estimate Std.Error  z value Pr(>|z|)\n",
       "(Intercept)  0.0209388 0.0480059 0.436171   0.6627\n",
       "x1            0.321078 0.0493628  6.50445   <1e-10\n",
       "x2            0.287667 0.0454205  6.33342    <1e-9\n"
      ]
     },
     "execution_count": 5,
     "metadata": {},
     "output_type": "execute_result"
    }
   ],
   "source": [
    "# get data as DataFrame\n",
    "df = DataFrame(y = y, x1 = x1, x2 = x2)\n",
    "\n",
    "# using function lm\n",
    "olsFit3 = lm(y ~ x1 + x2, df)\n",
    "\n",
    "# using function fit\n",
    "olsFit4 = fit(LinearModel, y~x1+x2, df)\n",
    "\n",
    "# using function glm\n",
    "olsFit5 = glm(y~x1+x2,df,Normal(),IdentityLink())"
   ]
  },
  {
   "cell_type": "markdown",
   "metadata": {},
   "source": [
    "Or, if we do not want to estimate an intercept:"
   ]
  },
  {
   "cell_type": "code",
   "execution_count": 6,
   "metadata": {
    "collapsed": false
   },
   "outputs": [
    {
     "data": {
      "text/plain": [
       "DataFrameRegressionModel{GeneralizedLinearModel,Float64}:\n",
       "\n",
       "Coefficients:\n",
       "     Estimate Std.Error z value Pr(>|z|)\n",
       "x1   0.322123 0.0491006 6.56048   <1e-10\n",
       "x2   0.282875  0.043889 6.44522    <1e-9\n"
      ]
     },
     "execution_count": 6,
     "metadata": {},
     "output_type": "execute_result"
    }
   ],
   "source": [
    "# using function lm\n",
    "olsFit6 = lm(y ~ 0 + x1 + x2, df)\n",
    "\n",
    "# using function fit\n",
    "olsFit7 = fit(LinearModel, y~0+x1+x2, df)\n",
    "\n",
    "# using function glm\n",
    "olsFit8 = glm(y~0+x1+x2,df,Normal(),IdentityLink())"
   ]
  },
  {
   "cell_type": "markdown",
   "metadata": {},
   "source": [
    "## Session info"
   ]
  },
  {
   "cell_type": "code",
   "execution_count": 7,
   "metadata": {
    "collapsed": false
   },
   "outputs": [
    {
     "name": "stdout",
     "output_type": "stream",
     "text": [
      "Julia Version 0.3.5\n",
      "Commit a05f87b* (2015-01-08 22:33 UTC)\n",
      "Platform Info:\n",
      "  System: Linux (x86_64-linux-gnu)\n",
      "  CPU: Intel(R) Core(TM) i3-3240 CPU @ 3.40GHz\n",
      "  WORD_SIZE: 64\n",
      "  BLAS: libblas.so.3\n",
      "  LAPACK: liblapack.so.3\n",
      "  LIBM: libopenlibm\n",
      "  LLVM: libLLVM-3.3\n"
     ]
    }
   ],
   "source": [
    "versioninfo()"
   ]
  },
  {
   "cell_type": "code",
   "execution_count": 8,
   "metadata": {
    "collapsed": false
   },
   "outputs": [
    {
     "name": "stdout",
     "output_type": "stream",
     "text": [
      "18 required packages:\n",
      " - DataArrays                    0.2.9\n",
      " - DataFrames                    0.6.0\n",
      " - Dates                         0.3.2\n",
      " - Debug                         0.0.4\n",
      " - Distributions                 0.6.3\n",
      " - EconDatasets                  0.0.2\n",
      " - GLM                           0.4.2\n",
      " - Gadfly                        0.3.10\n",
      " - IJulia                        0.1.16\n",
      " - JuMP                          0.7.3\n",
      " - MAT                           0.2.9\n",
      " - NLopt                         0.2.0\n",
      " - Quandl                        0.4.0\n",
      " - RDatasets                     0.1.1\n",
      " - Taro                          0.1.2\n",
      " - TimeData                      0.5.1\n",
      " - TimeSeries                    0.4.6\n",
      " - Winston                       0.11.7\n",
      "56 additional packages:\n",
      " - ArrayViews                    0.4.8\n",
      " - BinDeps                       0.3.7\n",
      " - Blosc                         0.1.1\n",
      " - Cairo                         0.2.22\n",
      " - Calculus                      0.1.5\n",
      " - Codecs                        0.1.3\n",
      " - Color                         0.3.15\n",
      " - Compat                        0.2.10\n",
      " - Compose                       0.3.10\n",
      " - Contour                       0.0.6\n",
      " - Copulas                       0.0.0-             master (unregistered, dirty)\n",
      " - DataStructures                0.3.5\n",
      " - Distances                     0.2.0\n",
      " - DualNumbers                   0.1.1\n",
      " - Econometrics                  0.0.0-             master (unregistered)\n",
      " - FixedPointNumbers             0.0.6\n",
      " - GZip                          0.2.13\n",
      " - GnuTLS                        0.0.1\n",
      " - Graphs                        0.5.0\n",
      " - Grid                          0.3.7\n",
      " - Gumbo                         0.1.2\n",
      " - HDF5                          0.4.10\n",
      " - HTTPClient                    0.1.4\n",
      " - Hexagons                      0.0.2\n",
      " - HttpCommon                    0.0.11\n",
      " - HttpParser                    0.0.10\n",
      " - ImmutableArrays               0.0.6\n",
      " - IniFile                       0.2.4\n",
      " - Iterators                     0.1.7\n",
      " - JSON                          0.4.0\n",
      " - JavaCall                      0.2.0\n",
      " - KernelDensity                 0.1.0              b2c9f7d6 (dirty)\n",
      " - LibCURL                       0.1.4\n",
      " - Loess                         0.0.3\n",
      " - MathProgBase                  0.3.8\n",
      " - Memoize                       0.0.0\n",
      " - NaNMath                       0.0.2\n",
      " - Nettle                        0.1.7\n",
      " - NumericExtensions             0.6.2\n",
      " - NumericFuns                   0.2.3\n",
      " - Optim                         0.4.0\n",
      " - PDMats                        0.3.1\n",
      " - Plotly                        0.0.0-             master (unregistered)\n",
      " - REPLCompletions               0.0.3\n",
      " - Reexport                      0.0.2\n",
      " - Requests                      0.0.6\n",
      " - ReverseDiffSparse             0.1.10\n",
      " - SHA                           0.0.3\n",
      " - Showoff                       0.0.3\n",
      " - SortingAlgorithms             0.0.2\n",
      " - StatsBase                     0.6.10\n",
      " - Tk                            0.2.16\n",
      " - URIParser                     0.0.3\n",
      " - WorldBankDataTd               0.0.0-             master (unregistered)\n",
      " - ZMQ                           0.1.15\n",
      " - Zlib                          0.1.7\n"
     ]
    }
   ],
   "source": [
    "Pkg.status()"
   ]
  }
 ],
 "metadata": {
  "kernelspec": {
   "display_name": "Julia",
   "name": "julia"
  },
  "language": "Julia",
  "language_info": {
   "name": "julia",
   "version": "0.3.5"
  }
 },
 "nbformat": 4,
 "nbformat_minor": 0
}
