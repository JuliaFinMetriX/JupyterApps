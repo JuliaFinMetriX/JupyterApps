{
 "metadata": {
  "language": "Julia",
  "name": "",
  "signature": "sha256:dd942dcdbd8f8fb3f5f7c873f180373ca7830b95219d84080b7efe37f973cf21"
 },
 "nbformat": 3,
 "nbformat_minor": 0,
 "worksheets": [
  {
   "cells": [
    {
     "cell_type": "markdown",
     "metadata": {},
     "source": [
      "This notebook provides an overview over different ways of estimating a linear model in Julia."
     ]
    },
    {
     "cell_type": "heading",
     "level": 4,
     "metadata": {},
     "source": [
      "Creating data"
     ]
    },
    {
     "cell_type": "code",
     "collapsed": false,
     "input": [
      "x1 = randn(100)\n",
      "x2 = randn(100)\n",
      "eps = randn(100)\n",
      "y = 0.4*x1 + 0.3*x2 + 0.4*eps;"
     ],
     "language": "python",
     "metadata": {},
     "outputs": [],
     "prompt_number": 1
    },
    {
     "cell_type": "heading",
     "level": 4,
     "metadata": {},
     "source": [
      "Without packages - coefficient estimates only"
     ]
    },
    {
     "cell_type": "markdown",
     "metadata": {},
     "source": [
      "Without loading any additional packages, we can use function `linreg` to perform an ordinary least square estimation. However, this does automatically estimate an intercept as well, which sometimes might not be what you want. Also, the function does not provide standard errors or t statistics."
     ]
    },
    {
     "cell_type": "code",
     "collapsed": false,
     "input": [
      "betaHat1 = linreg([x1 x2], y)"
     ],
     "language": "python",
     "metadata": {},
     "outputs": [
      {
       "metadata": {},
       "output_type": "pyout",
       "prompt_number": 2,
       "text": [
        "3-element Array{Float64,1}:\n",
        " -0.00547373\n",
        "  0.367426  \n",
        "  0.224688  "
       ]
      }
     ],
     "prompt_number": 2
    },
    {
     "cell_type": "heading",
     "level": 4,
     "metadata": {},
     "source": [
      "With package GLM"
     ]
    },
    {
     "cell_type": "markdown",
     "metadata": {},
     "source": [
      "We can alternatively use functions provided by package GLM, and either use the very general GLS framework or a simplified syntax for linear models. Also, data not necessarily needs to be stored as `DataFrame`."
     ]
    },
    {
     "cell_type": "code",
     "collapsed": false,
     "input": [
      "using GLM\n",
      "using DataFrames\n",
      "\n",
      "# without keeping data as DataFrame\n",
      "olsFit1 = lm([x1 x2], y)"
     ],
     "language": "python",
     "metadata": {},
     "outputs": [
      {
       "metadata": {},
       "output_type": "pyout",
       "prompt_number": 3,
       "text": [
        "LinearModel{DensePredQR{Float64}}:\n",
        "\n",
        "Coefficients:     Estimate Std.Error t value Pr(>|t|)\n",
        "x1   0.367209 0.0387186 9.48404   <1e-14\n",
        "x2   0.224297 0.0423938 5.29079    <1e-6\n",
        "\n"
       ]
      }
     ],
     "prompt_number": 3
    },
    {
     "cell_type": "markdown",
     "metadata": {},
     "source": [
      "Since you can build your design matrix on your own, you can also manually include an intercept:"
     ]
    },
    {
     "cell_type": "code",
     "collapsed": false,
     "input": [
      "olsFit2 = lm([ones(size(x1)) x1 x2], y)"
     ],
     "language": "python",
     "metadata": {},
     "outputs": [
      {
       "metadata": {},
       "output_type": "pyout",
       "prompt_number": 4,
       "text": [
        "LinearModel{DensePredQR{Float64}}:\n",
        "\n",
        "Coefficients:        Estimate Std.Error   t value Pr(>|t|)\n",
        "x1   -0.00547373 0.0415064 -0.131877   0.8954\n",
        "x2      0.367426  0.038949   9.43352   <1e-14\n",
        "x3      0.224688 0.0427108   5.26068    <1e-6\n",
        "\n"
       ]
      }
     ],
     "prompt_number": 4
    },
    {
     "cell_type": "markdown",
     "metadata": {},
     "source": [
      "In addition, there are also three ways that allow estimation by specifying a formula similar to R. This way, however, data needs to be stored as `DataFrame`. Estimating a linear model with intercept, we get:"
     ]
    },
    {
     "cell_type": "code",
     "collapsed": false,
     "input": [
      "# get data as DataFrame\n",
      "df = DataFrame(y = y, x1 = x1, x2 = x2)\n",
      "\n",
      "# using function lm\n",
      "olsFit3 = lm(y ~ x1 + x2, df)\n",
      "\n",
      "# using function fit\n",
      "olsFit4 = fit(LinearModel, y~x1+x2, df)\n",
      "\n",
      "# using function glm\n",
      "olsFit5 = glm(y~x1+x2,df,Normal(),IdentityLink())"
     ],
     "language": "python",
     "metadata": {},
     "outputs": [
      {
       "metadata": {},
       "output_type": "pyout",
       "prompt_number": 5,
       "text": [
        "DataFrameRegressionModel{GeneralizedLinearModel,Float64}:\n",
        "\n",
        "Coefficients:\n",
        "                Estimate Std.Error   z value Pr(>|z|)\n",
        "(Intercept)  -0.00547373 0.0415064 -0.131877   0.8951\n",
        "x1              0.367426  0.038949   9.43352   <1e-20\n",
        "x2              0.224688 0.0427108   5.26068    <1e-6\n"
       ]
      }
     ],
     "prompt_number": 5
    },
    {
     "cell_type": "markdown",
     "metadata": {},
     "source": [
      "Or, if we do not want to estimate an intercept:"
     ]
    },
    {
     "cell_type": "code",
     "collapsed": false,
     "input": [
      "# using function lm\n",
      "olsFit6 = lm(y ~ 0 + x1 + x2, df)\n",
      "\n",
      "# using function fit\n",
      "olsFit7 = fit(LinearModel, y~0+x1+x2, df)\n",
      "\n",
      "# using function glm\n",
      "olsFit8 = glm(y~0+x1+x2,df,Normal(),IdentityLink())"
     ],
     "language": "python",
     "metadata": {},
     "outputs": [
      {
       "metadata": {},
       "output_type": "pyout",
       "prompt_number": 7,
       "text": [
        "DataFrameRegressionModel{GeneralizedLinearModel,Float64}:\n",
        "\n",
        "Coefficients:\n",
        "     Estimate Std.Error z value Pr(>|z|)\n",
        "x1   0.367209 0.0387186 9.48404   <1e-20\n",
        "x2   0.224297 0.0423938 5.29079    <1e-6\n"
       ]
      }
     ],
     "prompt_number": 7
    }
   ],
   "metadata": {}
  }
 ]
}