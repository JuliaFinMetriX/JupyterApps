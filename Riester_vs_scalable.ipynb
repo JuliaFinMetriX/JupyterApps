{
 "cells": [
  {
   "cell_type": "code",
   "execution_count": 37,
   "metadata": {},
   "outputs": [
    {
     "data": {
      "text/plain": [
       "(86800, 190408.47234838468, 103608.47234838468)"
      ]
     },
     "execution_count": 37,
     "metadata": {},
     "output_type": "execute_result"
    }
   ],
   "source": [
    "monthlyPayment = 160\n",
    "monthlySubsidy = 150\n",
    "annualFee = 150\n",
    "monthlyFee = 150/12\n",
    "nYears = 40\n",
    "nMonths = 12*nYears\n",
    "iRates = 1\n",
    "\n",
    "initAmount = 10000\n",
    "aggrPayment = initAmount\n",
    "aggrAccount = initAmount\n",
    "for ii=1:nMonths\n",
    "    aggrPayment += monthlyPayment\n",
    "    aggrAccount = (1+iRates/100/12)*aggrAccount + monthlyPayment + monthlySubsidy - monthlyFee\n",
    "end\n",
    "\n",
    "fullGain = (aggrAccount - aggrPayment)\n",
    "(aggrPayment, aggrAccount, fullGain)"
   ]
  },
  {
   "cell_type": "code",
   "execution_count": 38,
   "metadata": {},
   "outputs": [
    {
     "data": {
      "text/plain": [
       "(86800, 194557.81610789723, 107757.81610789723)"
      ]
     },
     "execution_count": 38,
     "metadata": {},
     "output_type": "execute_result"
    }
   ],
   "source": [
    "monthlyPayment = 160\n",
    "monthlySubsidy = 0\n",
    "annualFee = 150\n",
    "monthlyFee = 150/12\n",
    "nYears = 40\n",
    "nMonths = 12*nYears\n",
    "iRates = 3.5\n",
    "\n",
    "initAmount = 10000\n",
    "aggrPayment = initAmount\n",
    "aggrAccount = initAmount\n",
    "for ii=1:nMonths\n",
    "    aggrPayment += monthlyPayment\n",
    "    aggrAccount = (1+iRates/100/12)*aggrAccount + monthlyPayment + monthlySubsidy - monthlyFee\n",
    "end\n",
    "\n",
    "fullGain = (aggrAccount - aggrPayment)\n",
    "(aggrPayment, aggrAccount, fullGain)"
   ]
  }
 ],
 "metadata": {
  "kernelspec": {
   "display_name": "Julia 0.6.0",
   "language": "julia",
   "name": "julia-0.6"
  },
  "language_info": {
   "file_extension": ".jl",
   "mimetype": "application/julia",
   "name": "julia",
   "version": "0.6.0"
  }
 },
 "nbformat": 4,
 "nbformat_minor": 2
}
