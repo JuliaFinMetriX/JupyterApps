{
 "cells": [
  {
   "cell_type": "code",
   "execution_count": 1,
   "metadata": {},
   "outputs": [
    {
     "data": {
      "text/plain": [
       "(86800, 178101.94148886143, 91301.94148886143)"
      ]
     },
     "execution_count": 1,
     "metadata": {},
     "output_type": "execute_result"
    }
   ],
   "source": [
    "monthlyPayment = 160\n",
    "monthlySubsidy = (150 + 450)/12\n",
    "annualFee = 150\n",
    "monthlyFee = annualFee/12\n",
    "nYears = 40\n",
    "nMonths = 12*nYears\n",
    "iRates = 2.25\n",
    "\n",
    "initAmount = 10000\n",
    "aggrPayment = initAmount\n",
    "aggrAccount = initAmount\n",
    "for ii=1:nMonths\n",
    "    aggrPayment += monthlyPayment\n",
    "    aggrAccount = (1+iRates/100/12)*aggrAccount + monthlyPayment + monthlySubsidy - monthlyFee\n",
    "end\n",
    "\n",
    "fullGain = (aggrAccount - aggrPayment)\n",
    "(aggrPayment, aggrAccount, fullGain)"
   ]
  },
  {
   "cell_type": "code",
   "execution_count": 2,
   "metadata": {},
   "outputs": [
    {
     "data": {
      "text/plain": [
       "(86800, 169667.3072331015, 82867.30723310151)"
      ]
     },
     "execution_count": 2,
     "metadata": {},
     "output_type": "execute_result"
    }
   ],
   "source": [
    "monthlyPayment = 160\n",
    "monthlySubsidy = 0\n",
    "nYears = 40\n",
    "nMonths = 12*nYears\n",
    "iRates = 3.5\n",
    "\n",
    "initAmount = 10000\n",
    "aggrPayment = initAmount\n",
    "aggrAccount = initAmount\n",
    "for ii=1:nMonths\n",
    "    monthlyFee = 0.0075/12*aggrAccount\n",
    "    aggrPayment += monthlyPayment\n",
    "    aggrAccount = (1+iRates/100/12)*aggrAccount + monthlyPayment + monthlySubsidy - monthlyFee\n",
    "end\n",
    "\n",
    "fullGain = (aggrAccount - aggrPayment)\n",
    "(aggrPayment, aggrAccount, fullGain)"
   ]
  }
 ],
 "metadata": {
  "kernelspec": {
   "display_name": "Julia 0.6.0",
   "language": "julia",
   "name": "julia-0.6"
  },
  "language_info": {
   "file_extension": ".jl",
   "mimetype": "application/julia",
   "name": "julia",
   "version": "0.6.0"
  }
 },
 "nbformat": 4,
 "nbformat_minor": 2
}
