{
 "cells": [
  {
   "cell_type": "markdown",
   "metadata": {
    "slideshow": {
     "slide_type": "slide"
    }
   },
   "source": [
    "## Motivation"
   ]
  },
  {
   "cell_type": "markdown",
   "metadata": {
    "slideshow": {
     "slide_type": "-"
    }
   },
   "source": [
    "This IJulia notebook is a **list of nice tweaks** of the Julia language. Features should roughly be listed with **ascending importance**. \n",
    "\n",
    "**How does your favorite technical computing language compare to this?**"
   ]
  },
  {
   "cell_type": "markdown",
   "metadata": {
    "slideshow": {
     "slide_type": "slide"
    }
   },
   "source": [
    "## Unicode characters"
   ]
  },
  {
   "cell_type": "markdown",
   "metadata": {
    "slideshow": {
     "slide_type": "-"
    }
   },
   "source": [
    "When using variable names, you have the full range of **special characters** at your disposal."
   ]
  },
  {
   "cell_type": "code",
   "execution_count": 1,
   "metadata": {
    "collapsed": false,
    "slideshow": {
     "slide_type": "-"
    }
   },
   "outputs": [
    {
     "name": "stdout",
     "output_type": "stream",
     "text": [
      "3.4"
     ]
    },
    {
     "data": {
      "text/plain": [
       "π = 3.1415926535897..."
      ]
     },
     "execution_count": 1,
     "metadata": {},
     "output_type": "execute_result"
    }
   ],
   "source": [
    "α = 3.4\n",
    "print(α)\n",
    "pi"
   ]
  },
  {
   "cell_type": "markdown",
   "metadata": {
    "slideshow": {
     "slide_type": "slide"
    }
   },
   "source": [
    "## Scalar multiplication"
   ]
  },
  {
   "cell_type": "markdown",
   "metadata": {
    "slideshow": {
     "slide_type": "-"
    }
   },
   "source": [
    "When multiplying variables with scalar values, computer code allows the same abbreviation that is used in common **mathematical notation**."
   ]
  },
  {
   "cell_type": "code",
   "execution_count": 2,
   "metadata": {
    "collapsed": false,
    "slideshow": {
     "slide_type": "-"
    }
   },
   "outputs": [
    {
     "data": {
      "text/plain": [
       "144"
      ]
     },
     "execution_count": 2,
     "metadata": {},
     "output_type": "execute_result"
    }
   ],
   "source": [
    "f = x -> 3x^3 + 8x^2 - 3x\n",
    "f(3)"
   ]
  },
  {
   "cell_type": "markdown",
   "metadata": {
    "slideshow": {
     "slide_type": "slide"
    }
   },
   "source": [
    "## Chaining comparisons"
   ]
  },
  {
   "cell_type": "markdown",
   "metadata": {
    "slideshow": {
     "slide_type": "-"
    }
   },
   "source": [
    "**Multiple comparisons** can be **simultaneously** checked in one line."
   ]
  },
  {
   "cell_type": "code",
   "execution_count": 3,
   "metadata": {
    "collapsed": false,
    "slideshow": {
     "slide_type": "-"
    }
   },
   "outputs": [
    {
     "data": {
      "text/plain": [
       "13-element Array{Float64,1}:\n",
       " 0.201635\n",
       " 0.527303\n",
       " 0.328445\n",
       " 0.525737\n",
       " 0.446058\n",
       " 0.54903 \n",
       " 0.375686\n",
       " 0.518639\n",
       " 0.37518 \n",
       " 0.379145\n",
       " 0.505113\n",
       " 0.585748\n",
       " 0.238779"
      ]
     },
     "execution_count": 3,
     "metadata": {},
     "output_type": "execute_result"
    }
   ],
   "source": [
    "vals = rand(40)\n",
    "\n",
    "intermediate = 0.2 .<= vals .<= 0.6\n",
    "vals[intermediate]"
   ]
  },
  {
   "cell_type": "markdown",
   "metadata": {
    "slideshow": {
     "slide_type": "slide"
    }
   },
   "source": [
    "## Pipes"
   ]
  },
  {
   "cell_type": "markdown",
   "metadata": {
    "slideshow": {
     "slide_type": "-"
    }
   },
   "source": [
    "To avoid cluttering your workspace, **successive operations** on an input can also be written as a **pipe** similar to linux shell commands."
   ]
  },
  {
   "cell_type": "code",
   "execution_count": 4,
   "metadata": {
    "collapsed": false,
    "slideshow": {
     "slide_type": "-"
    }
   },
   "outputs": [
    {
     "data": {
      "text/plain": [
       "0.2829726154196466"
      ]
     },
     "execution_count": 4,
     "metadata": {},
     "output_type": "execute_result"
    }
   ],
   "source": [
    "a = rand(400)\n",
    "\n",
    "# manually compute standard deviation of b\n",
    "b = exp(a)\n",
    "mu = mean(b)\n",
    "centralized = b - mu\n",
    "std = mean(centralized.^2)"
   ]
  },
  {
   "cell_type": "code",
   "execution_count": 5,
   "metadata": {
    "collapsed": false,
    "slideshow": {
     "slide_type": "subslide"
    }
   },
   "outputs": [
    {
     "data": {
      "text/plain": [
       "0.2829726154196466"
      ]
     },
     "execution_count": 5,
     "metadata": {},
     "output_type": "execute_result"
    }
   ],
   "source": [
    "# written with pipe\n",
    "std = a |>\n",
    "    exp |>\n",
    "    x -> x - mean(x) |>\n",
    "    x -> x.^2 |>\n",
    "    mean\n"
   ]
  },
  {
   "cell_type": "markdown",
   "metadata": {
    "slideshow": {
     "slide_type": "slide"
    }
   },
   "source": [
    "## String interpolation"
   ]
  },
  {
   "cell_type": "markdown",
   "metadata": {
    "slideshow": {
     "slide_type": "-"
    }
   },
   "source": [
    "Variable values can easily be incorporated into a string."
   ]
  },
  {
   "cell_type": "code",
   "execution_count": 6,
   "metadata": {
    "collapsed": false,
    "slideshow": {
     "slide_type": "-"
    }
   },
   "outputs": [
    {
     "name": "stdout",
     "output_type": "stream",
     "text": [
      "The values are stored in data.csv\n"
     ]
    }
   ],
   "source": [
    "fileName = \"data.csv\"\n",
    "println(\"The values are stored in $fileName\")"
   ]
  },
  {
   "cell_type": "code",
   "execution_count": 7,
   "metadata": {
    "collapsed": false,
    "slideshow": {
     "slide_type": "fragment"
    }
   },
   "outputs": [
    {
     "name": "stdout",
     "output_type": "stream",
     "text": [
      "The values of a are: [1,2,3]\n"
     ]
    }
   ],
   "source": [
    "a = [1; 2; 3]\n",
    "println(\"The values of a are: $a\")"
   ]
  },
  {
   "cell_type": "markdown",
   "metadata": {
    "slideshow": {
     "slide_type": "slide"
    }
   },
   "source": [
    "## Ternary operators"
   ]
  },
  {
   "cell_type": "markdown",
   "metadata": {
    "slideshow": {
     "slide_type": "-"
    }
   },
   "source": [
    "Ternary operators are an abbreviation for **if ... else ... end** expressions. The expression before \"?\" is the condition expression, and the ternary operation evaluates the expression before the \":\" if the condition is true, or the expression after the \":\" if it is false."
   ]
  },
  {
   "cell_type": "code",
   "execution_count": 8,
   "metadata": {
    "collapsed": false,
    "slideshow": {
     "slide_type": "-"
    }
   },
   "outputs": [
    {
     "name": "stdout",
     "output_type": "stream",
     "text": [
      "greater than 3\n"
     ]
    }
   ],
   "source": [
    "kk = 4\n",
    "if kk > 3\n",
    "    println(\"greater than 3\")\n",
    "else\n",
    "    println(\"smaller than 3\")\n",
    "end"
   ]
  },
  {
   "cell_type": "code",
   "execution_count": 9,
   "metadata": {
    "collapsed": false,
    "slideshow": {
     "slide_type": "fragment"
    }
   },
   "outputs": [
    {
     "name": "stdout",
     "output_type": "stream",
     "text": [
      "greater than 3\n"
     ]
    }
   ],
   "source": [
    "kk > 3 ? println(\"greater than 3\") : println(\"smaller than 3\")"
   ]
  },
  {
   "cell_type": "markdown",
   "metadata": {
    "slideshow": {
     "slide_type": "slide"
    }
   },
   "source": [
    "## Iterators"
   ]
  },
  {
   "cell_type": "markdown",
   "metadata": {
    "slideshow": {
     "slide_type": "-"
    }
   },
   "source": [
    "**Iteration** over all entries of a variable can be done **without** manual **indexing**."
   ]
  },
  {
   "cell_type": "code",
   "execution_count": 10,
   "metadata": {
    "collapsed": false,
    "slideshow": {
     "slide_type": "-"
    }
   },
   "outputs": [
    {
     "name": "stdout",
     "output_type": "stream",
     "text": [
      "1, 2, 3, "
     ]
    }
   ],
   "source": [
    "a = [1; 2; 3]\n",
    "for ii=1:length(a)\n",
    "    print(a[ii], \", \")\n",
    "end"
   ]
  },
  {
   "cell_type": "code",
   "execution_count": 11,
   "metadata": {
    "collapsed": false,
    "slideshow": {
     "slide_type": "fragment"
    }
   },
   "outputs": [
    {
     "name": "stdout",
     "output_type": "stream",
     "text": [
      "1, 2, 3, "
     ]
    }
   ],
   "source": [
    "for entry in a\n",
    "    print(entry, \", \")\n",
    "end"
   ]
  },
  {
   "cell_type": "markdown",
   "metadata": {
    "slideshow": {
     "slide_type": "slide"
    }
   },
   "source": [
    "## Multiple simultaneous assignments"
   ]
  },
  {
   "cell_type": "markdown",
   "metadata": {
    "slideshow": {
     "slide_type": "-"
    }
   },
   "source": [
    "Values of a tuple or array can be **simultaneously** be **assigned** to individual variables."
   ]
  },
  {
   "cell_type": "code",
   "execution_count": 12,
   "metadata": {
    "collapsed": false,
    "slideshow": {
     "slide_type": "-"
    }
   },
   "outputs": [
    {
     "data": {
      "text/plain": [
       "10"
      ]
     },
     "execution_count": 12,
     "metadata": {},
     "output_type": "execute_result"
    }
   ],
   "source": [
    "a = rand(10, 2)\n",
    "(nRows, nCol) = size(a)\n",
    "nRows\n"
   ]
  },
  {
   "cell_type": "code",
   "execution_count": 13,
   "metadata": {
    "collapsed": false,
    "slideshow": {
     "slide_type": "fragment"
    }
   },
   "outputs": [
    {
     "data": {
      "text/plain": [
       "0.5271161360696317"
      ]
     },
     "execution_count": 13,
     "metadata": {},
     "output_type": "execute_result"
    }
   ],
   "source": [
    "(mu1, mu2) = mean(a, 1)\n",
    "mu1"
   ]
  },
  {
   "cell_type": "code",
   "execution_count": 14,
   "metadata": {
    "collapsed": false,
    "slideshow": {
     "slide_type": "fragment"
    }
   },
   "outputs": [
    {
     "data": {
      "text/plain": [
       "0.426256324570898"
      ]
     },
     "execution_count": 14,
     "metadata": {},
     "output_type": "execute_result"
    }
   ],
   "source": [
    "mu2"
   ]
  },
  {
   "cell_type": "markdown",
   "metadata": {
    "slideshow": {
     "slide_type": "slide"
    }
   },
   "source": [
    "## Comprehensions"
   ]
  },
  {
   "cell_type": "markdown",
   "metadata": {
    "slideshow": {
     "slide_type": "-"
    }
   },
   "source": [
    "Comprehension is an easy way to **create arrays** where individual entries follow some structure."
   ]
  },
  {
   "cell_type": "code",
   "execution_count": 15,
   "metadata": {
    "collapsed": false,
    "slideshow": {
     "slide_type": "-"
    }
   },
   "outputs": [
    {
     "data": {
      "text/plain": [
       "10-element Array{Int64,1}:\n",
       "  1\n",
       "  2\n",
       "  3\n",
       "  4\n",
       "  5\n",
       "  6\n",
       "  7\n",
       "  8\n",
       "  9\n",
       " 10"
      ]
     },
     "execution_count": 15,
     "metadata": {},
     "output_type": "execute_result"
    }
   ],
   "source": [
    "a = [1:10]"
   ]
  },
  {
   "cell_type": "code",
   "execution_count": 16,
   "metadata": {
    "collapsed": false,
    "slideshow": {
     "slide_type": "subslide"
    }
   },
   "outputs": [
    {
     "data": {
      "text/plain": [
       "10-element Array{Int64,1}:\n",
       "  1\n",
       "  2\n",
       "  3\n",
       "  4\n",
       "  5\n",
       "  6\n",
       "  7\n",
       "  8\n",
       "  9\n",
       " 10"
      ]
     },
     "execution_count": 16,
     "metadata": {},
     "output_type": "execute_result"
    }
   ],
   "source": [
    "a = [ii for ii=1:10]"
   ]
  },
  {
   "cell_type": "code",
   "execution_count": 17,
   "metadata": {
    "collapsed": false,
    "slideshow": {
     "slide_type": "subslide"
    }
   },
   "outputs": [
    {
     "data": {
      "text/plain": [
       "10-element Array{Float64,1}:\n",
       "     4.71828\n",
       "     9.38906\n",
       "    22.0855 \n",
       "    56.5982 \n",
       "   150.413  \n",
       "   405.429  \n",
       "  1098.63   \n",
       "  2982.96   \n",
       "  8105.08   \n",
       " 22028.5    "
      ]
     },
     "execution_count": 17,
     "metadata": {},
     "output_type": "execute_result"
    }
   ],
   "source": [
    "a = [exp(ii)+2 for ii=1:10]"
   ]
  },
  {
   "cell_type": "code",
   "execution_count": 18,
   "metadata": {
    "collapsed": false,
    "slideshow": {
     "slide_type": "subslide"
    }
   },
   "outputs": [
    {
     "data": {
      "text/plain": [
       "(\n",
       "10x10 Array{Int64,2}:\n",
       "  1   1   1   1   1   1   1   1   1   1\n",
       "  2   2   2   2   2   2   2   2   2   2\n",
       "  3   3   3   3   3   3   3   3   3   3\n",
       "  4   4   4   4   4   4   4   4   4   4\n",
       "  5   5   5   5   5   5   5   5   5   5\n",
       "  6   6   6   6   6   6   6   6   6   6\n",
       "  7   7   7   7   7   7   7   7   7   7\n",
       "  8   8   8   8   8   8   8   8   8   8\n",
       "  9   9   9   9   9   9   9   9   9   9\n",
       " 10  10  10  10  10  10  10  10  10  10,\n",
       "\n",
       "10x10 Array{Int64,2}:\n",
       " 1  2  3  4  5  6  7  8  9  10\n",
       " 1  2  3  4  5  6  7  8  9  10\n",
       " 1  2  3  4  5  6  7  8  9  10\n",
       " 1  2  3  4  5  6  7  8  9  10\n",
       " 1  2  3  4  5  6  7  8  9  10\n",
       " 1  2  3  4  5  6  7  8  9  10\n",
       " 1  2  3  4  5  6  7  8  9  10\n",
       " 1  2  3  4  5  6  7  8  9  10\n",
       " 1  2  3  4  5  6  7  8  9  10\n",
       " 1  2  3  4  5  6  7  8  9  10)"
      ]
     },
     "execution_count": 18,
     "metadata": {},
     "output_type": "execute_result"
    }
   ],
   "source": [
    "a = [ii for ii=1:10, jj=1:10]\n",
    "b = [jj for ii=1:10, jj=1:10]\n",
    "(a, b)"
   ]
  },
  {
   "cell_type": "code",
   "execution_count": 19,
   "metadata": {
    "collapsed": false,
    "slideshow": {
     "slide_type": "subslide"
    }
   },
   "outputs": [
    {
     "data": {
      "text/plain": [
       "10-element Array{Date,1}:\n",
       " 2012-04-01\n",
       " 2012-04-02\n",
       " 2012-04-03\n",
       " 2012-04-04\n",
       " 2012-04-05\n",
       " 2012-04-06\n",
       " 2012-04-07\n",
       " 2012-04-08\n",
       " 2012-04-09\n",
       " 2012-04-10"
      ]
     },
     "execution_count": 19,
     "metadata": {},
     "output_type": "execute_result"
    }
   ],
   "source": [
    "using Dates\n",
    "dats = [Date(2012, 4, ii) for ii=1:10]"
   ]
  },
  {
   "cell_type": "code",
   "execution_count": 20,
   "metadata": {
    "collapsed": false,
    "slideshow": {
     "slide_type": "subslide"
    }
   },
   "outputs": [
    {
     "data": {
      "text/plain": [
       "10-element Array{Any,1}:\n",
       " 2012\n",
       " 2012\n",
       " 2012\n",
       " 2012\n",
       " 2012\n",
       " 2012\n",
       " 2012\n",
       " 2012\n",
       " 2012\n",
       " 2012"
      ]
     },
     "execution_count": 20,
     "metadata": {},
     "output_type": "execute_result"
    }
   ],
   "source": [
    "whichYear = [year(dt) for dt in dats]"
   ]
  },
  {
   "cell_type": "markdown",
   "metadata": {
    "slideshow": {
     "slide_type": "slide"
    }
   },
   "source": [
    "## Square bracket indexing"
   ]
  },
  {
   "cell_type": "markdown",
   "metadata": {
    "slideshow": {
     "slide_type": "-"
    }
   },
   "source": [
    "The syntax for **indexing** of variables makes use of with **square brackets**. This way, **functions and variables** can immediately **be distinguished** at first sight. Some languages - Matlab, for example - do not share this property."
   ]
  },
  {
   "cell_type": "code",
   "execution_count": 21,
   "metadata": {
    "collapsed": false,
    "slideshow": {
     "slide_type": "-"
    }
   },
   "outputs": [
    {
     "data": {
      "text/plain": [
       "2"
      ]
     },
     "execution_count": 21,
     "metadata": {},
     "output_type": "execute_result"
    }
   ],
   "source": [
    "a[2]"
   ]
  },
  {
   "cell_type": "markdown",
   "metadata": {
    "slideshow": {
     "slide_type": "slide"
    }
   },
   "source": [
    "## Inline function definitions"
   ]
  },
  {
   "cell_type": "markdown",
   "metadata": {
    "slideshow": {
     "slide_type": "-"
    }
   },
   "source": [
    "**Functions** can be **defined anywhere** in the file, and need not reside in a separate file. This allows easy and natural decomposition of **large tasks into separate pieces**."
   ]
  },
  {
   "cell_type": "code",
   "execution_count": 22,
   "metadata": {
    "collapsed": false,
    "slideshow": {
     "slide_type": "-"
    }
   },
   "outputs": [
    {
     "data": {
      "text/plain": [
       "addTwo (generic function with 1 method)"
      ]
     },
     "execution_count": 22,
     "metadata": {},
     "output_type": "execute_result"
    }
   ],
   "source": [
    "function addTwo(x)\n",
    "    y = x + 2\n",
    "    return y\n",
    "end"
   ]
  },
  {
   "cell_type": "code",
   "execution_count": 23,
   "metadata": {
    "collapsed": false,
    "slideshow": {
     "slide_type": "-"
    }
   },
   "outputs": [
    {
     "data": {
      "text/plain": [
       "4"
      ]
     },
     "execution_count": 23,
     "metadata": {},
     "output_type": "execute_result"
    }
   ],
   "source": [
    "addTwo(a[2])"
   ]
  },
  {
   "cell_type": "markdown",
   "metadata": {
    "slideshow": {
     "slide_type": "subslide"
    }
   },
   "source": [
    "Like in other languages, functions **naturally extend to vector inputs**."
   ]
  },
  {
   "cell_type": "code",
   "execution_count": 24,
   "metadata": {
    "collapsed": false,
    "slideshow": {
     "slide_type": "-"
    }
   },
   "outputs": [
    {
     "data": {
      "text/plain": [
       "10x10 Array{Int64,2}:\n",
       "  3   3   3   3   3   3   3   3   3   3\n",
       "  4   4   4   4   4   4   4   4   4   4\n",
       "  5   5   5   5   5   5   5   5   5   5\n",
       "  6   6   6   6   6   6   6   6   6   6\n",
       "  7   7   7   7   7   7   7   7   7   7\n",
       "  8   8   8   8   8   8   8   8   8   8\n",
       "  9   9   9   9   9   9   9   9   9   9\n",
       " 10  10  10  10  10  10  10  10  10  10\n",
       " 11  11  11  11  11  11  11  11  11  11\n",
       " 12  12  12  12  12  12  12  12  12  12"
      ]
     },
     "execution_count": 24,
     "metadata": {},
     "output_type": "execute_result"
    }
   ],
   "source": [
    "addTwo(a)"
   ]
  },
  {
   "cell_type": "markdown",
   "metadata": {
    "slideshow": {
     "slide_type": "slide"
    }
   },
   "source": [
    "## Splicing"
   ]
  },
  {
   "cell_type": "markdown",
   "metadata": {
    "slideshow": {
     "slide_type": "-"
    }
   },
   "source": [
    "Splicing function arguments allows seamlessly switching between functions that require **separate arguments** on the one hand, and functions that require **individual arguments combined in one array**."
   ]
  },
  {
   "cell_type": "code",
   "execution_count": 25,
   "metadata": {
    "collapsed": false,
    "slideshow": {
     "slide_type": "-"
    }
   },
   "outputs": [
    {
     "data": {
      "text/plain": [
       "multipleArguments (generic function with 1 method)"
      ]
     },
     "execution_count": 25,
     "metadata": {},
     "output_type": "execute_result"
    }
   ],
   "source": [
    "function multipleArguments(a, b, c, d, e, f)\n",
    "    return a + b + c + d + e + f\n",
    "end"
   ]
  },
  {
   "cell_type": "code",
   "execution_count": 26,
   "metadata": {
    "collapsed": false,
    "slideshow": {
     "slide_type": "subslide"
    }
   },
   "outputs": [
    {
     "data": {
      "text/plain": [
       "21"
      ]
     },
     "execution_count": 26,
     "metadata": {},
     "output_type": "execute_result"
    }
   ],
   "source": [
    "vals = (1, 2, 3, 4, 5, 6)\n",
    "multipleArguments(vals...)"
   ]
  },
  {
   "cell_type": "code",
   "execution_count": 27,
   "metadata": {
    "collapsed": false,
    "slideshow": {
     "slide_type": "fragment"
    }
   },
   "outputs": [
    {
     "data": {
      "text/plain": [
       "21"
      ]
     },
     "execution_count": 27,
     "metadata": {},
     "output_type": "execute_result"
    }
   ],
   "source": [
    "vals = [1:6]\n",
    "multipleArguments(vals...)"
   ]
  },
  {
   "cell_type": "markdown",
   "metadata": {
    "slideshow": {
     "slide_type": "slide"
    }
   },
   "source": [
    "## Multiple dispatch"
   ]
  },
  {
   "cell_type": "markdown",
   "metadata": {
    "slideshow": {
     "slide_type": "-"
    }
   },
   "source": [
    "**Function behaviour** may vary **depending on** the type of the **arguments**. This way, multiple functions with equal name may co-exist. "
   ]
  },
  {
   "cell_type": "code",
   "execution_count": 28,
   "metadata": {
    "collapsed": false,
    "slideshow": {
     "slide_type": "-"
    }
   },
   "outputs": [
    {
     "data": {
      "text/plain": [
       "reciprocalValue (generic function with 3 methods)"
      ]
     },
     "execution_count": 28,
     "metadata": {},
     "output_type": "execute_result"
    }
   ],
   "source": [
    "function reciprocalValue(x::Int)\n",
    "    return 1/x\n",
    "end\n",
    "\n",
    "function reciprocalValue(x::ASCIIString)\n",
    "    return uppercase(x)\n",
    "end\n",
    "\n",
    "function reciprocalValue(x)\n",
    "    println(\"Method only makes sense for numbers and strings\")\n",
    "end"
   ]
  },
  {
   "cell_type": "code",
   "execution_count": 29,
   "metadata": {
    "collapsed": false,
    "slideshow": {
     "slide_type": "subslide"
    }
   },
   "outputs": [
    {
     "data": {
      "text/plain": [
       "0.125"
      ]
     },
     "execution_count": 29,
     "metadata": {},
     "output_type": "execute_result"
    }
   ],
   "source": [
    "reciprocalValue(8)"
   ]
  },
  {
   "cell_type": "code",
   "execution_count": 30,
   "metadata": {
    "collapsed": false,
    "slideshow": {
     "slide_type": "fragment"
    }
   },
   "outputs": [
    {
     "data": {
      "text/plain": [
       "\"HELLO\""
      ]
     },
     "execution_count": 30,
     "metadata": {},
     "output_type": "execute_result"
    }
   ],
   "source": [
    "reciprocalValue(\"hello\")"
   ]
  },
  {
   "cell_type": "code",
   "execution_count": 31,
   "metadata": {
    "collapsed": false,
    "slideshow": {
     "slide_type": "fragment"
    }
   },
   "outputs": [
    {
     "name": "stdout",
     "output_type": "stream",
     "text": [
      "Method only makes sense for numbers and strings\n"
     ]
    }
   ],
   "source": [
    "reciprocalValue(NaN)"
   ]
  },
  {
   "cell_type": "markdown",
   "metadata": {
    "slideshow": {
     "slide_type": "slide"
    }
   },
   "source": [
    "## Composite types"
   ]
  },
  {
   "cell_type": "markdown",
   "metadata": {
    "slideshow": {
     "slide_type": "-"
    }
   },
   "source": [
    "One can easily define highly customized **own types**. Through multiple dispatch, behaviour of common **mathematical operators** can be **defined for any new type**."
   ]
  },
  {
   "cell_type": "code",
   "execution_count": 32,
   "metadata": {
    "collapsed": false,
    "slideshow": {
     "slide_type": "-"
    }
   },
   "outputs": [],
   "source": [
    "type simplexPoint\n",
    "    x\n",
    "    y\n",
    "end"
   ]
  },
  {
   "cell_type": "code",
   "execution_count": 33,
   "metadata": {
    "collapsed": false,
    "slideshow": {
     "slide_type": "-"
    }
   },
   "outputs": [
    {
     "data": {
      "text/plain": [
       "simplexPoint(0.4,0.6)"
      ]
     },
     "execution_count": 33,
     "metadata": {},
     "output_type": "execute_result"
    }
   ],
   "source": [
    "sp = simplexPoint(0.4, 0.6)"
   ]
  },
  {
   "cell_type": "code",
   "execution_count": 34,
   "metadata": {
    "collapsed": false,
    "slideshow": {
     "slide_type": "subslide"
    }
   },
   "outputs": [
    {
     "data": {
      "text/plain": [
       "simplexPoint(0.6,0.4)"
      ]
     },
     "execution_count": 34,
     "metadata": {},
     "output_type": "execute_result"
    }
   ],
   "source": [
    "function reciprocalValue(sp::simplexPoint)\n",
    "    return simplexPoint(sp.y, sp.x)\n",
    "end\n",
    "\n",
    "reciprocalValue(sp)"
   ]
  },
  {
   "cell_type": "markdown",
   "metadata": {
    "slideshow": {
     "slide_type": "slide"
    }
   },
   "source": [
    "## Macros"
   ]
  },
  {
   "cell_type": "markdown",
   "metadata": {
    "slideshow": {
     "slide_type": "-"
    }
   },
   "source": [
    "Julia comes with quite powerful **metaprogramming skills**. This allows you to work with both the values that are stored in the variables and the names of variables and functions that were used in the call. This way, you can **take some code, manipulate it, and only then you evaluate it**.\n",
    "\n",
    "One example is the **@stoptime macro**. Before the macro evaluates the input, it starts a stopwatch, and it displays the time that was required after the evalution."
   ]
  },
  {
   "cell_type": "code",
   "execution_count": 35,
   "metadata": {
    "collapsed": false,
    "slideshow": {
     "slide_type": "-"
    }
   },
   "outputs": [],
   "source": [
    "macro stoptime(expr)\n",
    "    quote\n",
    "        hhhh = 3 # some line of nonsense to show variable scope\n",
    "        tic()\n",
    "        $(esc(expr))\n",
    "        toc()\n",
    "    end\n",
    "end"
   ]
  },
  {
   "cell_type": "code",
   "execution_count": 36,
   "metadata": {
    "collapsed": false,
    "slideshow": {
     "slide_type": "subslide"
    }
   },
   "outputs": [
    {
     "name": "stdout",
     "output_type": "stream",
     "text": [
      "elapsed time: 0.949734229 seconds\n"
     ]
    },
    {
     "data": {
      "text/plain": [
       "1000x1000 Array{Float64,2}:\n",
       "  0.178363   -0.162743   -0.0254373   …  -0.00384031  -0.063538   \n",
       " -0.0803985   0.118439    0.01193         0.0903718    0.0675967  \n",
       " -0.0284457  -0.0390301  -0.0196053       0.00446068  -0.000667719\n",
       "  0.150812    0.0126206   0.0236722       0.0308458   -0.0932575  \n",
       " -0.123411   -0.0426361  -0.0873105      -0.00503272   0.0157746  \n",
       "  0.214565   -0.115128   -0.0318926   …   0.0969399   -0.0998336  \n",
       " -0.347367   -0.0609739  -0.172953       -0.0747402    0.122522   \n",
       " -0.204523   -0.0351727  -0.0692144      -0.0144602   -0.00136389 \n",
       "  0.13185    -0.0733354  -0.0482174       0.0287405   -0.143989   \n",
       "  0.0883469  -0.0947949  -0.0697139       0.0313077   -0.105953   \n",
       " -0.129635    0.0566574   0.065695    …  -0.0798233    0.0216424  \n",
       "  0.0717952   0.0307056   0.104658       -0.0263899    0.0151857  \n",
       " -0.439015    0.22097     0.166334       -0.00273109   0.0900819  \n",
       "  ⋮                                   ⋱                           \n",
       " -0.0784419  -0.183168   -0.140212       -0.0602018    0.0352725  \n",
       " -0.298269   -0.0771679  -0.108061       -0.00613091   0.105007   \n",
       "  0.170605    0.0200547   0.0724004   …   0.0164545   -0.0615973  \n",
       "  0.0881894   0.140063    0.0796897       0.0677917    0.0218051  \n",
       " -0.0776588  -0.171787   -0.128733        0.0106796   -0.0193732  \n",
       " -0.152816   -0.0519178  -0.0670922      -0.00816523   0.0980098  \n",
       " -0.31304    -0.0735723  -0.0405657       0.00675744   0.129876   \n",
       "  0.204485    0.0854393   0.0869174   …   0.0458707    0.00223715 \n",
       "  0.384736    0.106793    0.210468       -0.079883    -0.250716   \n",
       "  0.48209     0.0383054   0.0766118       0.0662156   -0.255816   \n",
       "  0.10385    -0.029067   -0.00391804      0.00494362  -0.0123786  \n",
       " -0.0113096  -0.0315841  -0.0529644      -0.0250712    0.0265644  "
      ]
     },
     "execution_count": 36,
     "metadata": {},
     "output_type": "execute_result"
    }
   ],
   "source": [
    "@stoptime repChar = inv(rand(1000, 1000))\n",
    "repChar"
   ]
  },
  {
   "cell_type": "markdown",
   "metadata": {
    "slideshow": {
     "slide_type": "subslide"
    }
   },
   "source": [
    "Macros evaluate in a **separate workspace**."
   ]
  },
  {
   "cell_type": "code",
   "execution_count": 37,
   "metadata": {
    "collapsed": false,
    "slideshow": {
     "slide_type": "-"
    }
   },
   "outputs": [
    {
     "name": "stdout",
     "output_type": "stream",
     "text": [
      "UndefVarError(:hhhh)"
     ]
    }
   ],
   "source": [
    "try\n",
    "    hhhh\n",
    "    catch e\n",
    "    show(e)\n",
    "end"
   ]
  },
  {
   "cell_type": "markdown",
   "metadata": {
    "slideshow": {
     "slide_type": "subslide"
    }
   },
   "source": [
    "Using the *macroexpand* function one can easily look at the complete code that gets evaluated by the macro."
   ]
  },
  {
   "cell_type": "code",
   "execution_count": 38,
   "metadata": {
    "collapsed": false,
    "slideshow": {
     "slide_type": "-"
    }
   },
   "outputs": [
    {
     "data": {
      "text/plain": [
       "quote  # In[35], line 3:\n",
       "    #412#hhhh = 3 # line 4:\n",
       "    tic() # line 5:\n",
       "    repChar = inv(rand(1000,1000)) # line 6:\n",
       "    toc()\n",
       "end"
      ]
     },
     "execution_count": 38,
     "metadata": {},
     "output_type": "execute_result"
    }
   ],
   "source": [
    "macroexpand(:(@stoptime repChar = inv(rand(1000, 1000))))"
   ]
  },
  {
   "cell_type": "markdown",
   "metadata": {
    "slideshow": {
     "slide_type": "-"
    }
   },
   "source": [
    "Of course, this stopwatch macro already exists in Julia. It is called @time."
   ]
  },
  {
   "cell_type": "markdown",
   "metadata": {
    "slideshow": {
     "slide_type": "subslide"
    }
   },
   "source": [
    "Another example is the @test macro, which allows extremely convenient testing of code."
   ]
  },
  {
   "cell_type": "code",
   "execution_count": 39,
   "metadata": {
    "collapsed": false,
    "slideshow": {
     "slide_type": "-"
    }
   },
   "outputs": [],
   "source": [
    "using Base.Test\n",
    "@test 3 == (2+1)"
   ]
  },
  {
   "cell_type": "markdown",
   "metadata": {
    "slideshow": {
     "slide_type": "-"
    }
   },
   "source": [
    "As a macro also receives the actual variable names during its call, it can print out the actual call if the test fails."
   ]
  },
  {
   "cell_type": "code",
   "execution_count": 40,
   "metadata": {
    "collapsed": false,
    "slideshow": {
     "slide_type": "fragment"
    }
   },
   "outputs": [
    {
     "name": "stdout",
     "output_type": "stream",
     "text": [
      "ErrorException(\"test failed: kk == 2 + 1\")"
     ]
    }
   ],
   "source": [
    "kk = 4\n",
    "try\n",
    "    @test kk == (2+1)\n",
    "    catch e\n",
    "    show(e)\n",
    "end"
   ]
  },
  {
   "cell_type": "markdown",
   "metadata": {
    "slideshow": {
     "slide_type": "subslide"
    }
   },
   "source": [
    "##### Example: squaredVariable"
   ]
  },
  {
   "cell_type": "markdown",
   "metadata": {
    "slideshow": {
     "slide_type": "-"
    }
   },
   "source": [
    "Another example, though not the best style, is the following macro that returns the squared value of any given variable. The value will be stored in a variable that matches the name of the original input variable, but with \"_squared\" appended. Hence, **his macro messes with the current workspace**, which is generally NOT recommended.\n",
    "\n",
    "In this example, however, we explicitly want the code to conduct changes to the workspace that are not directly induced through the expression that is handed over to the macro. The macro uses *eval* to create a new variable with ending \"_squared\" in the workspace."
   ]
  },
  {
   "cell_type": "code",
   "execution_count": 41,
   "metadata": {
    "collapsed": false,
    "slideshow": {
     "slide_type": "-"
    }
   },
   "outputs": [],
   "source": [
    "macro squaredVariable(a)\n",
    "    println(\"Calculating the squared value of $a:\")\n",
    "    newVariableName = symbol(string(a, \"_squared\"))\n",
    "    eval(:($newVariableName = $a^2))\n",
    "end\n"
   ]
  },
  {
   "cell_type": "code",
   "execution_count": 42,
   "metadata": {
    "collapsed": false,
    "slideshow": {
     "slide_type": "subslide"
    }
   },
   "outputs": [
    {
     "name": "stdout",
     "output_type": "stream",
     "text": [
      "Calculating the squared value of k:\n"
     ]
    },
    {
     "data": {
      "text/plain": [
       "64"
      ]
     },
     "execution_count": 42,
     "metadata": {},
     "output_type": "execute_result"
    }
   ],
   "source": [
    "k = 8\n",
    "@squaredVariable k"
   ]
  },
  {
   "cell_type": "code",
   "execution_count": 43,
   "metadata": {
    "collapsed": false,
    "slideshow": {
     "slide_type": "fragment"
    }
   },
   "outputs": [
    {
     "data": {
      "text/plain": [
       "64"
      ]
     },
     "execution_count": 43,
     "metadata": {},
     "output_type": "execute_result"
    }
   ],
   "source": [
    "k_squared"
   ]
  },
  {
   "cell_type": "markdown",
   "metadata": {
    "slideshow": {
     "slide_type": "slide"
    }
   },
   "source": [
    "## Metaprogramming"
   ]
  },
  {
   "cell_type": "markdown",
   "metadata": {
    "slideshow": {
     "slide_type": "-"
    }
   },
   "source": [
    "A crucial feature of the Julia language is that the **syntax itself** is just **implemented in the language** just like any other type (Int, Char, ...). Its type is *Expr*."
   ]
  },
  {
   "cell_type": "code",
   "execution_count": 44,
   "metadata": {
    "collapsed": false,
    "slideshow": {
     "slide_type": "-"
    }
   },
   "outputs": [
    {
     "data": {
      "text/plain": [
       "Expr"
      ]
     },
     "execution_count": 44,
     "metadata": {},
     "output_type": "execute_result"
    }
   ],
   "source": [
    "cmd = :(x = mean(rand(10)))\n",
    "typeof(cmd)"
   ]
  },
  {
   "cell_type": "markdown",
   "metadata": {
    "slideshow": {
     "slide_type": "-"
    }
   },
   "source": [
    "As with any other type, you can access its fields, which are:"
   ]
  },
  {
   "cell_type": "code",
   "execution_count": 45,
   "metadata": {
    "collapsed": false,
    "slideshow": {
     "slide_type": "-"
    }
   },
   "outputs": [
    {
     "data": {
      "text/plain": [
       "3-element Array{Symbol,1}:\n",
       " :head\n",
       " :args\n",
       " :typ "
      ]
     },
     "execution_count": 45,
     "metadata": {},
     "output_type": "execute_result"
    }
   ],
   "source": [
    "names(cmd)"
   ]
  },
  {
   "cell_type": "markdown",
   "metadata": {
    "slideshow": {
     "slide_type": "subslide"
    }
   },
   "source": [
    "Hence, you can find the operation in the *:head* field, and its arguments in the *:args* field."
   ]
  },
  {
   "cell_type": "code",
   "execution_count": 46,
   "metadata": {
    "collapsed": false,
    "slideshow": {
     "slide_type": "-"
    }
   },
   "outputs": [
    {
     "data": {
      "text/plain": [
       ":(=)"
      ]
     },
     "execution_count": 46,
     "metadata": {},
     "output_type": "execute_result"
    }
   ],
   "source": [
    "cmd.head"
   ]
  },
  {
   "cell_type": "code",
   "execution_count": 47,
   "metadata": {
    "collapsed": false,
    "slideshow": {
     "slide_type": "-"
    }
   },
   "outputs": [
    {
     "data": {
      "text/plain": [
       "2-element Array{Any,1}:\n",
       " :x               \n",
       " :(mean(rand(10)))"
      ]
     },
     "execution_count": 47,
     "metadata": {},
     "output_type": "execute_result"
    }
   ],
   "source": [
    "cmd.args"
   ]
  },
  {
   "cell_type": "markdown",
   "metadata": {
    "slideshow": {
     "slide_type": "slide"
    }
   },
   "source": [
    "## Example application: bootstrap macro"
   ]
  },
  {
   "cell_type": "markdown",
   "metadata": {
    "slideshow": {
     "slide_type": "-"
    }
   },
   "source": [
    "Using macros and other metaprogramming capabilities, some quite complicated applications can be implemented very concisely. As an example, we now want to implement a macro called *bootstrap*. For any given Julia function call that evaluates some statistics for some given data sample, the macro shall **re-calculate the same statistics for a given number of times with bootstrapped data**."
   ]
  },
  {
   "cell_type": "markdown",
   "metadata": {
    "slideshow": {
     "slide_type": "subslide"
    }
   },
   "source": [
    "To make the steps a little bit more obvious, let's see step by step, how a given command can be decomposed into the necessary parts."
   ]
  },
  {
   "cell_type": "code",
   "execution_count": 48,
   "metadata": {
    "collapsed": false,
    "slideshow": {
     "slide_type": "-"
    }
   },
   "outputs": [
    {
     "data": {
      "text/plain": [
       ":(mu = mean(x))"
      ]
     },
     "execution_count": 48,
     "metadata": {},
     "output_type": "execute_result"
    }
   ],
   "source": [
    "expr = :(mu = mean(x))"
   ]
  },
  {
   "cell_type": "markdown",
   "metadata": {
    "slideshow": {
     "slide_type": "-"
    }
   },
   "source": [
    "At the top level, the command is an assignment."
   ]
  },
  {
   "cell_type": "code",
   "execution_count": 49,
   "metadata": {
    "collapsed": false,
    "slideshow": {
     "slide_type": "-"
    }
   },
   "outputs": [
    {
     "data": {
      "text/plain": [
       ":(=)"
      ]
     },
     "execution_count": 49,
     "metadata": {},
     "output_type": "execute_result"
    }
   ],
   "source": [
    "expr.head"
   ]
  },
  {
   "cell_type": "markdown",
   "metadata": {
    "slideshow": {
     "slide_type": "subslide"
    }
   },
   "source": [
    "The left hand of the assignment can be accessed as follows:"
   ]
  },
  {
   "cell_type": "code",
   "execution_count": 50,
   "metadata": {
    "collapsed": false,
    "slideshow": {
     "slide_type": "-"
    }
   },
   "outputs": [
    {
     "data": {
      "text/plain": [
       ":mu"
      ]
     },
     "execution_count": 50,
     "metadata": {},
     "output_type": "execute_result"
    }
   ],
   "source": [
    "expr.args[1]"
   ]
  },
  {
   "cell_type": "markdown",
   "metadata": {
    "slideshow": {
     "slide_type": "-"
    }
   },
   "source": [
    "And the right hand is the complete function call:"
   ]
  },
  {
   "cell_type": "code",
   "execution_count": 51,
   "metadata": {
    "collapsed": false,
    "slideshow": {
     "slide_type": "-"
    }
   },
   "outputs": [
    {
     "data": {
      "text/plain": [
       ":(mean(x))"
      ]
     },
     "execution_count": 51,
     "metadata": {},
     "output_type": "execute_result"
    }
   ],
   "source": [
    "expr.args[2]"
   ]
  },
  {
   "cell_type": "markdown",
   "metadata": {
    "slideshow": {
     "slide_type": "subslide"
    }
   },
   "source": [
    "Again, this can be decomposed into the function that is called,"
   ]
  },
  {
   "cell_type": "code",
   "execution_count": 52,
   "metadata": {
    "collapsed": false,
    "slideshow": {
     "slide_type": "-"
    }
   },
   "outputs": [
    {
     "data": {
      "text/plain": [
       ":mean"
      ]
     },
     "execution_count": 52,
     "metadata": {},
     "output_type": "execute_result"
    }
   ],
   "source": [
    "expr.args[2].args[1]"
   ]
  },
  {
   "cell_type": "markdown",
   "metadata": {
    "slideshow": {
     "slide_type": "-"
    }
   },
   "source": [
    "and the name of the data variable that needs to be resampled:"
   ]
  },
  {
   "cell_type": "code",
   "execution_count": 53,
   "metadata": {
    "collapsed": false,
    "slideshow": {
     "slide_type": "-"
    }
   },
   "outputs": [
    {
     "data": {
      "text/plain": [
       ":x"
      ]
     },
     "execution_count": 53,
     "metadata": {},
     "output_type": "execute_result"
    }
   ],
   "source": [
    "expr.args[2].args[2]"
   ]
  },
  {
   "cell_type": "markdown",
   "metadata": {
    "slideshow": {
     "slide_type": "subslide"
    }
   },
   "source": [
    "Hence, we now could **isolate both the sample data and the function** that calculates the required statistics. We can then apply the same function to bootstrapped data samples."
   ]
  },
  {
   "cell_type": "code",
   "execution_count": 54,
   "metadata": {
    "collapsed": false,
    "slideshow": {
     "slide_type": "-"
    }
   },
   "outputs": [],
   "source": [
    "macro bootstrap(nTimes, expr)\n",
    "    quote\n",
    "        # get real value\n",
    "        $(esc(expr))\n",
    "\n",
    "        # get function to resample\n",
    "        func = $(expr.args[2].args[1])\n",
    "\n",
    "        # get data as first argument to function\n",
    "        data = $(expr.args[2].args[2])\n",
    "        nObs = length(data)\n",
    "        bootstrVals = Array(Any, $nTimes)\n",
    "        for ii=1:$nTimes\n",
    "            sampInd = rand(1:nObs, nObs)\n",
    "            samp = data[sampInd]\n",
    "        \n",
    "            # apply function to sample\n",
    "            bootstrVals[ii] = func(samp)\n",
    "        end\n",
    "        res = bootstrVals\n",
    "    end\n",
    "end"
   ]
  },
  {
   "cell_type": "markdown",
   "metadata": {
    "slideshow": {
     "slide_type": "subslide"
    }
   },
   "source": [
    "As we can see, the bootstrap macro works:"
   ]
  },
  {
   "cell_type": "code",
   "execution_count": 55,
   "metadata": {
    "collapsed": false,
    "slideshow": {
     "slide_type": "-"
    }
   },
   "outputs": [
    {
     "data": {
      "text/plain": [
       "quote  # In[54], line 4:\n",
       "    mu = mean(x) # line 7:\n",
       "    #413#func = mean # line 10:\n",
       "    #414#data = x # line 11:\n",
       "    #415#nObs = length(#414#data) # line 12:\n",
       "    #416#bootstrVals = Array(Any,1500000) # line 13:\n",
       "    for #417#ii = 1:1500000 # line 14:\n",
       "        #418#sampInd = rand(1:#415#nObs,#415#nObs) # line 15:\n",
       "        #419#samp = #414#data[#418#sampInd] # line 18:\n",
       "        #416#bootstrVals[#417#ii] = #413#func(#419#samp)\n",
       "    end # line 20:\n",
       "    #420#res = #416#bootstrVals\n",
       "end"
      ]
     },
     "execution_count": 55,
     "metadata": {},
     "output_type": "execute_result"
    }
   ],
   "source": [
    "macroexpand(:(@bootstrap 1500000 mu = mean(x)))"
   ]
  },
  {
   "cell_type": "code",
   "execution_count": 56,
   "metadata": {
    "collapsed": false,
    "slideshow": {
     "slide_type": "subslide"
    }
   },
   "outputs": [
    {
     "data": {
      "text/plain": [
       "0.5093330623878153"
      ]
     },
     "execution_count": 56,
     "metadata": {},
     "output_type": "execute_result"
    }
   ],
   "source": [
    "x = rand(200)\n",
    "muBstr = @bootstrap 150000 mu = mean(x)\n",
    "mu"
   ]
  },
  {
   "cell_type": "code",
   "execution_count": 57,
   "metadata": {
    "collapsed": false,
    "slideshow": {
     "slide_type": "-"
    }
   },
   "outputs": [
    {
     "data": {
      "text/plain": [
       "150000-element Array{Any,1}:\n",
       " 0.51001 \n",
       " 0.534658\n",
       " 0.515049\n",
       " 0.504732\n",
       " 0.513977\n",
       " 0.514036\n",
       " 0.491998\n",
       " 0.523921\n",
       " 0.534615\n",
       " 0.525906\n",
       " 0.494712\n",
       " 0.489036\n",
       " 0.500321\n",
       " ⋮       \n",
       " 0.528564\n",
       " 0.545485\n",
       " 0.532547\n",
       " 0.520392\n",
       " 0.525585\n",
       " 0.530451\n",
       " 0.518228\n",
       " 0.533759\n",
       " 0.529191\n",
       " 0.530825\n",
       " 0.504388\n",
       " 0.532594"
      ]
     },
     "execution_count": 57,
     "metadata": {},
     "output_type": "execute_result"
    }
   ],
   "source": [
    "muBstr"
   ]
  },
  {
   "cell_type": "markdown",
   "metadata": {
    "slideshow": {
     "slide_type": "subslide"
    }
   },
   "source": [
    "Although the bootstrap macro only allows functions with only one argument, its reach can easily be extended through the use of anonymous functions."
   ]
  },
  {
   "cell_type": "code",
   "execution_count": 58,
   "metadata": {
    "collapsed": false,
    "slideshow": {
     "slide_type": "-"
    }
   },
   "outputs": [
    {
     "data": {
      "text/plain": [
       "150-element Array{Any,1}:\n",
       " 0.932387\n",
       " 0.955608\n",
       " 0.965272\n",
       " 0.966714\n",
       " 0.931518\n",
       " 0.965272\n",
       " 0.965344\n",
       " 0.955608\n",
       " 0.9551  \n",
       " 0.937821\n",
       " 0.966714\n",
       " 0.937387\n",
       " 0.955608\n",
       " ⋮       \n",
       " 0.936851\n",
       " 0.966714\n",
       " 0.965344\n",
       " 0.937455\n",
       " 0.936383\n",
       " 0.937312\n",
       " 0.953814\n",
       " 0.966714\n",
       " 0.966714\n",
       " 0.936994\n",
       " 0.953814\n",
       " 0.955608"
      ]
     },
     "execution_count": 58,
     "metadata": {},
     "output_type": "execute_result"
    }
   ],
   "source": [
    "varNineFive = x -> quantile(x, 0.95)\n",
    "VaR_btstr = @bootstrap 150 VaR = varNineFive(x)"
   ]
  },
  {
   "cell_type": "markdown",
   "metadata": {
    "slideshow": {
     "slide_type": "slide"
    }
   },
   "source": [
    "## Session info"
   ]
  },
  {
   "cell_type": "code",
   "execution_count": 59,
   "metadata": {
    "collapsed": false,
    "slideshow": {
     "slide_type": "subslide"
    }
   },
   "outputs": [
    {
     "name": "stdout",
     "output_type": "stream",
     "text": [
      "Julia Version 0.3.5\n",
      "Commit a05f87b* (2015-01-08 22:33 UTC)\n",
      "Platform Info:\n",
      "  System: Linux (x86_64-linux-gnu)\n",
      "  CPU: Intel(R) Core(TM) i3-3240 CPU @ 3.40GHz\n",
      "  WORD_SIZE: 64\n",
      "  BLAS: libblas.so.3\n",
      "  LAPACK: liblapack.so.3\n",
      "  LIBM: libopenlibm\n",
      "  LLVM: libLLVM-3.3\n"
     ]
    }
   ],
   "source": [
    "versioninfo()"
   ]
  },
  {
   "cell_type": "code",
   "execution_count": 60,
   "metadata": {
    "collapsed": false,
    "slideshow": {
     "slide_type": "subslide"
    }
   },
   "outputs": [
    {
     "name": "stdout",
     "output_type": "stream",
     "text": [
      "18 required packages:\n",
      " - DataArrays                    0.2.9\n",
      " - DataFrames                    0.6.0\n",
      " - Dates                         0.3.2\n",
      " - Debug                         0.0.4\n",
      " - Distributions                 0.6.3\n",
      " - EconDatasets                  0.0.2\n",
      " - GLM                           0.4.2\n",
      " - Gadfly                        0.3.10\n",
      " - IJulia                        0.1.16\n",
      " - JuMP                          0.7.3\n",
      " - MAT                           0.2.9\n",
      " - NLopt                         0.2.0\n",
      " - Quandl                        0.4.0\n",
      " - RDatasets                     0.1.1\n",
      " - Taro                          0.1.2\n",
      " - TimeData                      0.5.1\n",
      " - TimeSeries                    0.4.6\n",
      " - Winston                       0.11.7\n",
      "56 additional packages:\n",
      " - ArrayViews                    0.4.8\n",
      " - BinDeps                       0.3.7\n",
      " - Blosc                         0.1.1\n",
      " - Cairo                         0.2.22\n",
      " - Calculus                      0.1.5\n",
      " - Codecs                        0.1.3\n",
      " - Color                         0.3.15\n",
      " - Compat                        0.2.10\n",
      " - Compose                       0.3.10\n",
      " - Contour                       0.0.6\n",
      " - Copulas                       0.0.0-             master (unregistered, dirty)\n",
      " - DataStructures                0.3.5\n",
      " - Distances                     0.2.0\n",
      " - DualNumbers                   0.1.1\n",
      " - Econometrics                  0.0.0-             master (unregistered)\n",
      " - FixedPointNumbers             0.0.6\n",
      " - GZip                          0.2.13\n",
      " - GnuTLS                        0.0.1\n",
      " - Graphs                        0.5.0\n",
      " - Grid                          0.3.7\n",
      " - Gumbo                         0.1.2\n",
      " - HDF5                          0.4.10\n",
      " - HTTPClient                    0.1.4\n",
      " - Hexagons                      0.0.2\n",
      " - HttpCommon                    0.0.11\n",
      " - HttpParser                    0.0.10\n",
      " - ImmutableArrays               0.0.6\n",
      " - IniFile                       0.2.4\n",
      " - Iterators                     0.1.7\n",
      " - JSON                          0.4.0\n",
      " - JavaCall                      0.2.0\n",
      " - KernelDensity                 0.1.0              b2c9f7d6 (dirty)\n",
      " - LibCURL                       0.1.4\n",
      " - Loess                         0.0.3\n",
      " - MathProgBase                  0.3.8\n",
      " - Memoize                       0.0.0\n",
      " - NaNMath                       0.0.2\n",
      " - Nettle                        0.1.7\n",
      " - NumericExtensions             0.6.2\n",
      " - NumericFuns                   0.2.3\n",
      " - Optim                         0.4.0\n",
      " - PDMats                        0.3.1\n",
      " - Plotly                        0.0.0-             master (unregistered)\n",
      " - REPLCompletions               0.0.3\n",
      " - Reexport                      0.0.2\n",
      " - Requests                      0.0.6\n",
      " - ReverseDiffSparse             0.1.10\n",
      " - SHA                           0.0.3\n",
      " - Showoff                       0.0.3\n",
      " - SortingAlgorithms             0.0.2\n",
      " - StatsBase                     0.6.10\n",
      " - Tk                            0.2.16\n",
      " - URIParser                     0.0.3\n",
      " - WorldBankDataTd               0.0.0-             master (unregistered)\n",
      " - ZMQ                           0.1.15\n",
      " - Zlib                          0.1.7\n"
     ]
    }
   ],
   "source": [
    "Pkg.status()"
   ]
  }
 ],
 "metadata": {
  "celltoolbar": "Slideshow",
  "kernelspec": {
   "display_name": "Julia",
   "name": "julia"
  },
  "language": "Julia",
  "language_info": {
   "name": "julia",
   "version": "0.3.5"
  }
 },
 "nbformat": 4,
 "nbformat_minor": 0
}
