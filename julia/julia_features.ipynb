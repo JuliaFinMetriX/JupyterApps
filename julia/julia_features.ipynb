{
 "metadata": {
  "celltoolbar": "Slideshow",
  "language": "Julia",
  "name": "",
  "signature": "sha256:4725b7cbc2c1f6045a647c469d14a58a73708295aeeef02a108547dec54739cf"
 },
 "nbformat": 3,
 "nbformat_minor": 0,
 "worksheets": [
  {
   "cells": [
    {
     "cell_type": "heading",
     "level": 2,
     "metadata": {
      "slideshow": {
       "slide_type": "slide"
      }
     },
     "source": [
      "Motivation"
     ]
    },
    {
     "cell_type": "markdown",
     "metadata": {
      "slideshow": {
       "slide_type": "-"
      }
     },
     "source": [
      "This IJulia notebook is a **list of nice tweaks** of the Julia language. Features should roughly be listed with **ascending importance**. \n",
      "\n",
      "**How does your favorite technical computing language compare to this?**"
     ]
    },
    {
     "cell_type": "heading",
     "level": 2,
     "metadata": {
      "slideshow": {
       "slide_type": "slide"
      }
     },
     "source": [
      "Unicode characters"
     ]
    },
    {
     "cell_type": "markdown",
     "metadata": {
      "slideshow": {
       "slide_type": "-"
      }
     },
     "source": [
      "When using variable names, you have the full range of **special characters** at your disposal."
     ]
    },
    {
     "cell_type": "code",
     "collapsed": false,
     "input": [
      "\u03b1 = 3.4\n",
      "print(\u03b1)\n",
      "pi"
     ],
     "language": "python",
     "metadata": {
      "slideshow": {
       "slide_type": "-"
      }
     },
     "outputs": [
      {
       "output_type": "stream",
       "stream": "stdout",
       "text": [
        "3."
       ]
      },
      {
       "output_type": "stream",
       "stream": "stdout",
       "text": [
        "4"
       ]
      },
      {
       "metadata": {},
       "output_type": "pyout",
       "prompt_number": 1,
       "text": [
        "\u03c0 = 3.1415926535897..."
       ]
      }
     ],
     "prompt_number": 1
    },
    {
     "cell_type": "heading",
     "level": 2,
     "metadata": {
      "slideshow": {
       "slide_type": "slide"
      }
     },
     "source": [
      "Scalar multiplication"
     ]
    },
    {
     "cell_type": "markdown",
     "metadata": {
      "slideshow": {
       "slide_type": "-"
      }
     },
     "source": [
      "When multiplying variables with scalar values, computer code allows the same abbreviation that is used in common **mathematical notation**."
     ]
    },
    {
     "cell_type": "code",
     "collapsed": false,
     "input": [
      "f = x -> 3x^3 + 8x^2 - 3x\n",
      "f(3)"
     ],
     "language": "python",
     "metadata": {
      "slideshow": {
       "slide_type": "-"
      }
     },
     "outputs": [
      {
       "metadata": {},
       "output_type": "pyout",
       "prompt_number": 2,
       "text": [
        "144"
       ]
      }
     ],
     "prompt_number": 2
    },
    {
     "cell_type": "heading",
     "level": 2,
     "metadata": {
      "slideshow": {
       "slide_type": "slide"
      }
     },
     "source": [
      "Chaining comparisons"
     ]
    },
    {
     "cell_type": "markdown",
     "metadata": {
      "slideshow": {
       "slide_type": "-"
      }
     },
     "source": [
      "**Multiple comparisons** can be **simultaneously** checked in one line."
     ]
    },
    {
     "cell_type": "code",
     "collapsed": false,
     "input": [
      "vals = rand(40)\n",
      "\n",
      "intermediate = 0.2 .<= vals .<= 0.6\n",
      "vals[intermediate]"
     ],
     "language": "python",
     "metadata": {
      "slideshow": {
       "slide_type": "-"
      }
     },
     "outputs": [
      {
       "metadata": {},
       "output_type": "pyout",
       "prompt_number": 3,
       "text": [
        "14-element Array{Float64,1}:\n",
        " 0.281082\n",
        " 0.243255\n",
        " 0.27387 \n",
        " 0.358739\n",
        " 0.497444\n",
        " 0.315504\n",
        " 0.285137\n",
        " 0.345139\n",
        " 0.513343\n",
        " 0.391034\n",
        " 0.332487\n",
        " 0.583098\n",
        " 0.20377 \n",
        " 0.328923"
       ]
      }
     ],
     "prompt_number": 3
    },
    {
     "cell_type": "heading",
     "level": 2,
     "metadata": {
      "slideshow": {
       "slide_type": "slide"
      }
     },
     "source": [
      "Pipes"
     ]
    },
    {
     "cell_type": "markdown",
     "metadata": {
      "slideshow": {
       "slide_type": "-"
      }
     },
     "source": [
      "To avoid cluttering your workspace, **successive operations** on an input can also be written as a **pipe** similar to linux shell commands."
     ]
    },
    {
     "cell_type": "code",
     "collapsed": false,
     "input": [
      "a = rand(400)\n",
      "\n",
      "# manually compute standard deviation of b\n",
      "b = exp(a)\n",
      "mu = mean(b)\n",
      "centralized = b - mu\n",
      "std = mean(centralized.^2)"
     ],
     "language": "python",
     "metadata": {
      "slideshow": {
       "slide_type": "-"
      }
     },
     "outputs": [
      {
       "metadata": {},
       "output_type": "pyout",
       "prompt_number": 4,
       "text": [
        "0.239736124001288"
       ]
      }
     ],
     "prompt_number": 4
    },
    {
     "cell_type": "code",
     "collapsed": false,
     "input": [
      "# written with pipe\n",
      "std = a |>\n",
      "    exp |>\n",
      "    x -> x - mean(x) |>\n",
      "    x -> x.^2 |>\n",
      "    mean\n"
     ],
     "language": "python",
     "metadata": {
      "slideshow": {
       "slide_type": "subslide"
      }
     },
     "outputs": [
      {
       "metadata": {},
       "output_type": "pyout",
       "prompt_number": 5,
       "text": [
        "0.239736124001288"
       ]
      }
     ],
     "prompt_number": 5
    },
    {
     "cell_type": "heading",
     "level": 2,
     "metadata": {
      "slideshow": {
       "slide_type": "slide"
      }
     },
     "source": [
      "String interpolation"
     ]
    },
    {
     "cell_type": "markdown",
     "metadata": {
      "slideshow": {
       "slide_type": "-"
      }
     },
     "source": [
      "Variable values can easily be incorporated into a string."
     ]
    },
    {
     "cell_type": "code",
     "collapsed": false,
     "input": [
      "fileName = \"data.csv\"\n",
      "println(\"The values are stored in $fileName\")"
     ],
     "language": "python",
     "metadata": {
      "slideshow": {
       "slide_type": "-"
      }
     },
     "outputs": [
      {
       "output_type": "stream",
       "stream": "stdout",
       "text": [
        "The values are stored in data.csv\n"
       ]
      }
     ],
     "prompt_number": 6
    },
    {
     "cell_type": "code",
     "collapsed": false,
     "input": [
      "a = [1; 2; 3]\n",
      "println(\"The values of a are: $a\")"
     ],
     "language": "python",
     "metadata": {
      "slideshow": {
       "slide_type": "fragment"
      }
     },
     "outputs": [
      {
       "output_type": "stream",
       "stream": "stdout",
       "text": [
        "The values of a are: [1,2,3]\n"
       ]
      }
     ],
     "prompt_number": 7
    },
    {
     "cell_type": "heading",
     "level": 2,
     "metadata": {
      "slideshow": {
       "slide_type": "slide"
      }
     },
     "source": [
      "Ternary operators"
     ]
    },
    {
     "cell_type": "markdown",
     "metadata": {
      "slideshow": {
       "slide_type": "-"
      }
     },
     "source": [
      "Ternary operators are an abbreviation for **if ... else ... end** expressions. The expression before \"?\" is the condition expression, and the ternary operation evaluates the expression before the \":\" if the condition is true, or the expression after the \":\" if it is false."
     ]
    },
    {
     "cell_type": "code",
     "collapsed": false,
     "input": [
      "kk = 4\n",
      "if kk > 3\n",
      "    println(\"greater than 3\")\n",
      "else\n",
      "    println(\"smaller than 3\")\n",
      "end"
     ],
     "language": "python",
     "metadata": {
      "slideshow": {
       "slide_type": "-"
      }
     },
     "outputs": [
      {
       "output_type": "stream",
       "stream": "stdout",
       "text": [
        "greater than 3\n"
       ]
      }
     ],
     "prompt_number": 8
    },
    {
     "cell_type": "code",
     "collapsed": false,
     "input": [
      "kk > 3 ? println(\"greater than 3\") : println(\"smaller than 3\")"
     ],
     "language": "python",
     "metadata": {
      "slideshow": {
       "slide_type": "fragment"
      }
     },
     "outputs": [
      {
       "output_type": "stream",
       "stream": "stdout",
       "text": [
        "greater than 3\n"
       ]
      }
     ],
     "prompt_number": 9
    },
    {
     "cell_type": "heading",
     "level": 2,
     "metadata": {
      "slideshow": {
       "slide_type": "slide"
      }
     },
     "source": [
      "Iterators"
     ]
    },
    {
     "cell_type": "markdown",
     "metadata": {
      "slideshow": {
       "slide_type": "-"
      }
     },
     "source": [
      "**Iteration** over all entries of a variable can be done **without** manual **indexing**."
     ]
    },
    {
     "cell_type": "code",
     "collapsed": false,
     "input": [
      "a = [1; 2; 3]\n",
      "for ii=1:length(a)\n",
      "    print(a[ii], \", \")\n",
      "end"
     ],
     "language": "python",
     "metadata": {
      "slideshow": {
       "slide_type": "-"
      }
     },
     "outputs": [
      {
       "output_type": "stream",
       "stream": "stdout",
       "text": [
        "1, "
       ]
      },
      {
       "output_type": "stream",
       "stream": "stdout",
       "text": [
        "2, 3, "
       ]
      }
     ],
     "prompt_number": 10
    },
    {
     "cell_type": "code",
     "collapsed": false,
     "input": [
      "for entry in a\n",
      "    print(entry, \", \")\n",
      "end"
     ],
     "language": "python",
     "metadata": {
      "slideshow": {
       "slide_type": "fragment"
      }
     },
     "outputs": [
      {
       "output_type": "stream",
       "stream": "stdout",
       "text": [
        "1, "
       ]
      },
      {
       "output_type": "stream",
       "stream": "stdout",
       "text": [
        "2, 3, "
       ]
      }
     ],
     "prompt_number": 11
    },
    {
     "cell_type": "heading",
     "level": 2,
     "metadata": {
      "slideshow": {
       "slide_type": "slide"
      }
     },
     "source": [
      "Multiple simultaneous assignments"
     ]
    },
    {
     "cell_type": "markdown",
     "metadata": {
      "slideshow": {
       "slide_type": "-"
      }
     },
     "source": [
      "Values of a tuple or array can be **simultaneously** be **assigned** to individual variables."
     ]
    },
    {
     "cell_type": "code",
     "collapsed": false,
     "input": [
      "a = rand(10, 2)\n",
      "(nRows, nCol) = size(a)\n",
      "nRows\n"
     ],
     "language": "python",
     "metadata": {
      "slideshow": {
       "slide_type": "-"
      }
     },
     "outputs": [
      {
       "metadata": {},
       "output_type": "pyout",
       "prompt_number": 12,
       "text": [
        "10"
       ]
      }
     ],
     "prompt_number": 12
    },
    {
     "cell_type": "code",
     "collapsed": false,
     "input": [
      "(mu1, mu2) = mean(a, 1)\n",
      "mu1"
     ],
     "language": "python",
     "metadata": {
      "slideshow": {
       "slide_type": "fragment"
      }
     },
     "outputs": [
      {
       "metadata": {},
       "output_type": "pyout",
       "prompt_number": 13,
       "text": [
        "0.34600031445736656"
       ]
      }
     ],
     "prompt_number": 13
    },
    {
     "cell_type": "code",
     "collapsed": false,
     "input": [
      "mu2"
     ],
     "language": "python",
     "metadata": {
      "slideshow": {
       "slide_type": "fragment"
      }
     },
     "outputs": [
      {
       "metadata": {},
       "output_type": "pyout",
       "prompt_number": 14,
       "text": [
        "0.5445430803232325"
       ]
      }
     ],
     "prompt_number": 14
    },
    {
     "cell_type": "heading",
     "level": 2,
     "metadata": {
      "slideshow": {
       "slide_type": "slide"
      }
     },
     "source": [
      "Comprehensions"
     ]
    },
    {
     "cell_type": "markdown",
     "metadata": {
      "slideshow": {
       "slide_type": "-"
      }
     },
     "source": [
      "Comprehension is an easy way to **create arrays** where individual entries follow some structure."
     ]
    },
    {
     "cell_type": "code",
     "collapsed": false,
     "input": [
      "a = [1:10]"
     ],
     "language": "python",
     "metadata": {
      "slideshow": {
       "slide_type": "-"
      }
     },
     "outputs": [
      {
       "metadata": {},
       "output_type": "pyout",
       "prompt_number": 15,
       "text": [
        "10-element Array{Int64,1}:\n",
        "  1\n",
        "  2\n",
        "  3\n",
        "  4\n",
        "  5\n",
        "  6\n",
        "  7\n",
        "  8\n",
        "  9\n",
        " 10"
       ]
      }
     ],
     "prompt_number": 15
    },
    {
     "cell_type": "code",
     "collapsed": false,
     "input": [
      "a = [ii for ii=1:10]"
     ],
     "language": "python",
     "metadata": {
      "slideshow": {
       "slide_type": "subslide"
      }
     },
     "outputs": [
      {
       "metadata": {},
       "output_type": "pyout",
       "prompt_number": 16,
       "text": [
        "10-element Array{Int64,1}:\n",
        "  1\n",
        "  2\n",
        "  3\n",
        "  4\n",
        "  5\n",
        "  6\n",
        "  7\n",
        "  8\n",
        "  9\n",
        " 10"
       ]
      }
     ],
     "prompt_number": 16
    },
    {
     "cell_type": "code",
     "collapsed": false,
     "input": [
      "a = [exp(ii)+2 for ii=1:10]"
     ],
     "language": "python",
     "metadata": {
      "slideshow": {
       "slide_type": "subslide"
      }
     },
     "outputs": [
      {
       "metadata": {},
       "output_type": "pyout",
       "prompt_number": 17,
       "text": [
        "10-element Array{Float64,1}:\n",
        "     4.71828\n",
        "     9.38906\n",
        "    22.0855 \n",
        "    56.5982 \n",
        "   150.413  \n",
        "   405.429  \n",
        "  1098.63   \n",
        "  2982.96   \n",
        "  8105.08   \n",
        " 22028.5    "
       ]
      }
     ],
     "prompt_number": 17
    },
    {
     "cell_type": "code",
     "collapsed": false,
     "input": [
      "a = [ii for ii=1:10, jj=1:10]\n",
      "b = [jj for ii=1:10, jj=1:10]\n",
      "(a, b)"
     ],
     "language": "python",
     "metadata": {
      "slideshow": {
       "slide_type": "subslide"
      }
     },
     "outputs": [
      {
       "metadata": {},
       "output_type": "pyout",
       "prompt_number": 18,
       "text": [
        "(\n",
        "10x10 Array{Int64,2}:\n",
        "  1   1   1   1   1   1   1   1   1   1\n",
        "  2   2   2   2   2   2   2   2   2   2\n",
        "  3   3   3   3   3   3   3   3   3   3\n",
        "  4   4   4   4   4   4   4   4   4   4\n",
        "  5   5   5   5   5   5   5   5   5   5\n",
        "  6   6   6   6   6   6   6   6   6   6\n",
        "  7   7   7   7   7   7   7   7   7   7\n",
        "  8   8   8   8   8   8   8   8   8   8\n",
        "  9   9   9   9   9   9   9   9   9   9\n",
        " 10  10  10  10  10  10  10  10  10  10,\n",
        "\n",
        "10x10 Array{Int64,2}:\n",
        " 1  2  3  4  5  6  7  8  9  10\n",
        " 1  2  3  4  5  6  7  8  9  10\n",
        " 1  2  3  4  5  6  7  8  9  10\n",
        " 1  2  3  4  5  6  7  8  9  10\n",
        " 1  2  3  4  5  6  7  8  9  10\n",
        " 1  2  3  4  5  6  7  8  9  10\n",
        " 1  2  3  4  5  6  7  8  9  10\n",
        " 1  2  3  4  5  6  7  8  9  10\n",
        " 1  2  3  4  5  6  7  8  9  10\n",
        " 1  2  3  4  5  6  7  8  9  10)"
       ]
      }
     ],
     "prompt_number": 18
    },
    {
     "cell_type": "code",
     "collapsed": false,
     "input": [
      "using Dates\n",
      "dats = [Date(2012, 4, ii) for ii=1:10]"
     ],
     "language": "python",
     "metadata": {
      "slideshow": {
       "slide_type": "subslide"
      }
     },
     "outputs": [
      {
       "metadata": {},
       "output_type": "pyout",
       "prompt_number": 20,
       "text": [
        "10-element Array{Date,1}:\n",
        " 2012-04-01\n",
        " 2012-04-02\n",
        " 2012-04-03\n",
        " 2012-04-04\n",
        " 2012-04-05\n",
        " 2012-04-06\n",
        " 2012-04-07\n",
        " 2012-04-08\n",
        " 2012-04-09\n",
        " 2012-04-10"
       ]
      }
     ],
     "prompt_number": 20
    },
    {
     "cell_type": "code",
     "collapsed": false,
     "input": [
      "whichYear = [year(dt) for dt in dats]"
     ],
     "language": "python",
     "metadata": {
      "slideshow": {
       "slide_type": "subslide"
      }
     },
     "outputs": [
      {
       "metadata": {},
       "output_type": "pyout",
       "prompt_number": 21,
       "text": [
        "10-element Array{Any,1}:\n",
        " 2012\n",
        " 2012\n",
        " 2012\n",
        " 2012\n",
        " 2012\n",
        " 2012\n",
        " 2012\n",
        " 2012\n",
        " 2012\n",
        " 2012"
       ]
      }
     ],
     "prompt_number": 21
    },
    {
     "cell_type": "heading",
     "level": 2,
     "metadata": {
      "slideshow": {
       "slide_type": "slide"
      }
     },
     "source": [
      "Square bracket indexing"
     ]
    },
    {
     "cell_type": "markdown",
     "metadata": {
      "slideshow": {
       "slide_type": "-"
      }
     },
     "source": [
      "The syntax for **indexing** of variables makes use of with **square brackets**. This way, **functions and variables** can immediately **be distinguished** at first sight. Some languages - Matlab, for example - do not share this property."
     ]
    },
    {
     "cell_type": "code",
     "collapsed": false,
     "input": [
      "a[2]"
     ],
     "language": "python",
     "metadata": {
      "slideshow": {
       "slide_type": "-"
      }
     },
     "outputs": [
      {
       "metadata": {},
       "output_type": "pyout",
       "prompt_number": 22,
       "text": [
        "2"
       ]
      }
     ],
     "prompt_number": 22
    },
    {
     "cell_type": "heading",
     "level": 2,
     "metadata": {
      "slideshow": {
       "slide_type": "slide"
      }
     },
     "source": [
      "Inline function definitions"
     ]
    },
    {
     "cell_type": "markdown",
     "metadata": {
      "slideshow": {
       "slide_type": "-"
      }
     },
     "source": [
      "**Functions** can be **defined anywhere** in the file, and need not reside in a separate file. This allows easy and natural decomposition of **large tasks into separate pieces**."
     ]
    },
    {
     "cell_type": "code",
     "collapsed": false,
     "input": [
      "function addTwo(x)\n",
      "    y = x + 2\n",
      "    return y\n",
      "end"
     ],
     "language": "python",
     "metadata": {
      "slideshow": {
       "slide_type": "-"
      }
     },
     "outputs": [
      {
       "metadata": {},
       "output_type": "pyout",
       "prompt_number": 23,
       "text": [
        "addTwo (generic function with 1 method)"
       ]
      }
     ],
     "prompt_number": 23
    },
    {
     "cell_type": "code",
     "collapsed": false,
     "input": [
      "addTwo(a[2])"
     ],
     "language": "python",
     "metadata": {
      "slideshow": {
       "slide_type": "-"
      }
     },
     "outputs": [
      {
       "metadata": {},
       "output_type": "pyout",
       "prompt_number": 24,
       "text": [
        "4"
       ]
      }
     ],
     "prompt_number": 24
    },
    {
     "cell_type": "markdown",
     "metadata": {
      "slideshow": {
       "slide_type": "subslide"
      }
     },
     "source": [
      "Like in other languages, functions **naturally extend to vector inputs**."
     ]
    },
    {
     "cell_type": "code",
     "collapsed": false,
     "input": [
      "addTwo(a)"
     ],
     "language": "python",
     "metadata": {
      "slideshow": {
       "slide_type": "-"
      }
     },
     "outputs": [
      {
       "metadata": {},
       "output_type": "pyout",
       "prompt_number": 25,
       "text": [
        "10x10 Array{Int64,2}:\n",
        "  3   3   3   3   3   3   3   3   3   3\n",
        "  4   4   4   4   4   4   4   4   4   4\n",
        "  5   5   5   5   5   5   5   5   5   5\n",
        "  6   6   6   6   6   6   6   6   6   6\n",
        "  7   7   7   7   7   7   7   7   7   7\n",
        "  8   8   8   8   8   8   8   8   8   8\n",
        "  9   9   9   9   9   9   9   9   9   9\n",
        " 10  10  10  10  10  10  10  10  10  10\n",
        " 11  11  11  11  11  11  11  11  11  11\n",
        " 12  12  12  12  12  12  12  12  12  12"
       ]
      }
     ],
     "prompt_number": 25
    },
    {
     "cell_type": "heading",
     "level": 2,
     "metadata": {
      "slideshow": {
       "slide_type": "slide"
      }
     },
     "source": [
      "Splicing"
     ]
    },
    {
     "cell_type": "markdown",
     "metadata": {
      "slideshow": {
       "slide_type": "-"
      }
     },
     "source": [
      "Splicing function arguments allows seamlessly switching between functions that require **separate arguments** on the one hand, and functions that require **individual arguments combined in one array**."
     ]
    },
    {
     "cell_type": "code",
     "collapsed": false,
     "input": [
      "function multipleArguments(a, b, c, d, e, f)\n",
      "    return a + b + c + d + e + f\n",
      "end"
     ],
     "language": "python",
     "metadata": {
      "slideshow": {
       "slide_type": "-"
      }
     },
     "outputs": [
      {
       "metadata": {},
       "output_type": "pyout",
       "prompt_number": 26,
       "text": [
        "multipleArguments (generic function with 1 method)"
       ]
      }
     ],
     "prompt_number": 26
    },
    {
     "cell_type": "code",
     "collapsed": false,
     "input": [
      "vals = (1, 2, 3, 4, 5, 6)\n",
      "multipleArguments(vals...)"
     ],
     "language": "python",
     "metadata": {
      "slideshow": {
       "slide_type": "subslide"
      }
     },
     "outputs": [
      {
       "metadata": {},
       "output_type": "pyout",
       "prompt_number": 27,
       "text": [
        "21"
       ]
      }
     ],
     "prompt_number": 27
    },
    {
     "cell_type": "code",
     "collapsed": false,
     "input": [
      "vals = [1:6]\n",
      "multipleArguments(vals...)"
     ],
     "language": "python",
     "metadata": {
      "slideshow": {
       "slide_type": "fragment"
      }
     },
     "outputs": [
      {
       "metadata": {},
       "output_type": "pyout",
       "prompt_number": 28,
       "text": [
        "21"
       ]
      }
     ],
     "prompt_number": 28
    },
    {
     "cell_type": "heading",
     "level": 2,
     "metadata": {
      "slideshow": {
       "slide_type": "slide"
      }
     },
     "source": [
      "Multiple dispatch"
     ]
    },
    {
     "cell_type": "markdown",
     "metadata": {
      "slideshow": {
       "slide_type": "-"
      }
     },
     "source": [
      "**Function behaviour** may vary **depending on** the type of the **arguments**. This way, multiple functions with equal name may co-exist. "
     ]
    },
    {
     "cell_type": "code",
     "collapsed": false,
     "input": [
      "function reciprocalValue(x::Int)\n",
      "    return 1/x\n",
      "end\n",
      "\n",
      "function reciprocalValue(x::ASCIIString)\n",
      "    return uppercase(x)\n",
      "end\n",
      "\n",
      "function reciprocalValue(x)\n",
      "    println(\"Method only makes sense for numbers and strings\")\n",
      "end"
     ],
     "language": "python",
     "metadata": {
      "slideshow": {
       "slide_type": "-"
      }
     },
     "outputs": [
      {
       "metadata": {},
       "output_type": "pyout",
       "prompt_number": 29,
       "text": [
        "reciprocalValue (generic function with 3 methods)"
       ]
      }
     ],
     "prompt_number": 29
    },
    {
     "cell_type": "code",
     "collapsed": false,
     "input": [
      "reciprocalValue(8)"
     ],
     "language": "python",
     "metadata": {
      "slideshow": {
       "slide_type": "subslide"
      }
     },
     "outputs": [
      {
       "metadata": {},
       "output_type": "pyout",
       "prompt_number": 30,
       "text": [
        "0.125"
       ]
      }
     ],
     "prompt_number": 30
    },
    {
     "cell_type": "code",
     "collapsed": false,
     "input": [
      "reciprocalValue(\"hello\")"
     ],
     "language": "python",
     "metadata": {
      "slideshow": {
       "slide_type": "fragment"
      }
     },
     "outputs": [
      {
       "metadata": {},
       "output_type": "pyout",
       "prompt_number": 31,
       "text": [
        "\"HELLO\""
       ]
      }
     ],
     "prompt_number": 31
    },
    {
     "cell_type": "code",
     "collapsed": false,
     "input": [
      "reciprocalValue(NaN)"
     ],
     "language": "python",
     "metadata": {
      "slideshow": {
       "slide_type": "fragment"
      }
     },
     "outputs": [
      {
       "output_type": "stream",
       "stream": "stdout",
       "text": [
        "Method only makes sense for numbers and strings\n"
       ]
      }
     ],
     "prompt_number": 32
    },
    {
     "cell_type": "heading",
     "level": 2,
     "metadata": {
      "slideshow": {
       "slide_type": "slide"
      }
     },
     "source": [
      "Composite types"
     ]
    },
    {
     "cell_type": "markdown",
     "metadata": {
      "slideshow": {
       "slide_type": "-"
      }
     },
     "source": [
      "One can easily define highly customized **own types**. Through multiple dispatch, behaviour of common **mathematical operators** can be **defined for any new type**."
     ]
    },
    {
     "cell_type": "code",
     "collapsed": false,
     "input": [
      "type simplexPoint\n",
      "    x\n",
      "    y\n",
      "end"
     ],
     "language": "python",
     "metadata": {
      "slideshow": {
       "slide_type": "-"
      }
     },
     "outputs": [],
     "prompt_number": 33
    },
    {
     "cell_type": "code",
     "collapsed": false,
     "input": [
      "sp = simplexPoint(0.4, 0.6)"
     ],
     "language": "python",
     "metadata": {
      "slideshow": {
       "slide_type": "-"
      }
     },
     "outputs": [
      {
       "metadata": {},
       "output_type": "pyout",
       "prompt_number": 34,
       "text": [
        "simplexPoint(0.4,0.6)"
       ]
      }
     ],
     "prompt_number": 34
    },
    {
     "cell_type": "code",
     "collapsed": false,
     "input": [
      "function reciprocalValue(sp::simplexPoint)\n",
      "    return simplexPoint(sp.y, sp.x)\n",
      "end\n",
      "\n",
      "reciprocalValue(sp)"
     ],
     "language": "python",
     "metadata": {
      "slideshow": {
       "slide_type": "subslide"
      }
     },
     "outputs": [
      {
       "metadata": {},
       "output_type": "pyout",
       "prompt_number": 35,
       "text": [
        "simplexPoint(0.6,0.4)"
       ]
      }
     ],
     "prompt_number": 35
    },
    {
     "cell_type": "heading",
     "level": 2,
     "metadata": {
      "slideshow": {
       "slide_type": "slide"
      }
     },
     "source": [
      "Macros"
     ]
    },
    {
     "cell_type": "markdown",
     "metadata": {
      "slideshow": {
       "slide_type": "-"
      }
     },
     "source": [
      "Julia comes with quite powerful **metaprogramming skills**. This allows you to work with both the values that are stored in the variables and the names of variables and functions that were used in the call. This way, you can **take some code, manipulate it, and only then you evaluate it**.\n",
      "\n",
      "One example is the **@stoptime macro**. Before the macro evaluates the input, it starts a stopwatch, and it displays the time that was required after the evalution."
     ]
    },
    {
     "cell_type": "code",
     "collapsed": false,
     "input": [
      "macro stoptime(expr)\n",
      "    quote\n",
      "        hhhh = 3 # some line of nonsense to show variable scope\n",
      "        tic()\n",
      "        $(esc(expr))\n",
      "        toc()\n",
      "    end\n",
      "end"
     ],
     "language": "python",
     "metadata": {
      "slideshow": {
       "slide_type": "-"
      }
     },
     "outputs": [],
     "prompt_number": 36
    },
    {
     "cell_type": "code",
     "collapsed": false,
     "input": [
      "@stoptime repChar = inv(rand(1000, 1000))\n",
      "repChar"
     ],
     "language": "python",
     "metadata": {
      "slideshow": {
       "slide_type": "subslide"
      }
     },
     "outputs": [
      {
       "output_type": "stream",
       "stream": "stdout",
       "text": [
        "elapsed time: 0."
       ]
      },
      {
       "output_type": "stream",
       "stream": "stdout",
       "text": [
        "294224736 seconds\n"
       ]
      },
      {
       "metadata": {},
       "output_type": "pyout",
       "prompt_number": 37,
       "text": [
        "1000x1000 Array{Float64,2}:\n",
        " -0.342388    -0.411484   \u2026   0.0605209   -0.449373    0.179797 \n",
        " -0.144654    -0.252142       0.0447122   -0.243382    0.258109 \n",
        " -1.08293     -1.21964        0.0343268   -0.77008     0.957486 \n",
        "  0.503694     0.530021      -0.109307     0.478211   -0.382349 \n",
        "  1.47593      1.6693        -0.0699685    1.23394    -1.16555  \n",
        "  0.65306      0.66133    \u2026  -0.022142     0.554644   -0.496793 \n",
        "  0.385386     0.349652      -0.0801348    0.331287   -0.172761 \n",
        " -0.222912    -0.202274      -0.0420313   -0.128       0.199523 \n",
        "  0.837146     0.967284      -0.0467327    0.764212   -0.65473  \n",
        " -0.307463    -0.234868       0.00187839  -0.13811     0.242039 \n",
        " -0.129392    -0.107034   \u2026   0.00776935  -0.0681994   0.0992294\n",
        "  0.143856     0.275848      -0.0435966    0.278302   -0.104662 \n",
        " -0.344921    -0.286796      -0.00160953  -0.213003    0.397367 \n",
        "  \u22ee                       \u22f1                                     \n",
        " -0.963924    -1.07128        0.0556173   -0.762202    0.80998  \n",
        "  0.548333     0.550316       0.011714     0.356399   -0.355474 \n",
        " -0.149552    -0.206945   \u2026   0.040668    -0.140967    0.12921  \n",
        "  0.30673      0.317753      -0.0492951    0.139403   -0.176652 \n",
        "  0.00854674  -0.0397933     -0.0492775   -0.0795765   0.0244758\n",
        " -0.026799     0.0148661      0.0240072    0.0374211  -0.14079  \n",
        "  1.05196      1.13585       -0.0122965    0.852662   -0.843081 \n",
        " -1.46678     -1.56931    \u2026   0.0166155   -1.18105     1.15244  \n",
        "  0.439739     0.524362      -0.0637075    0.436455   -0.349183 \n",
        " -0.338791    -0.390977      -0.00529411  -0.26478     0.183703 \n",
        " -0.119888    -0.15607        0.0258578   -0.0733304   0.0239957\n",
        " -0.00945782   0.0970432     -0.0245499    0.094148   -0.0352465"
       ]
      }
     ],
     "prompt_number": 37
    },
    {
     "cell_type": "markdown",
     "metadata": {
      "slideshow": {
       "slide_type": "subslide"
      }
     },
     "source": [
      "Macros evaluate in a **separate workspace**."
     ]
    },
    {
     "cell_type": "code",
     "collapsed": false,
     "input": [
      "try\n",
      "    hhhh\n",
      "    catch e\n",
      "    show(e)\n",
      "end"
     ],
     "language": "python",
     "metadata": {
      "slideshow": {
       "slide_type": "-"
      }
     },
     "outputs": [
      {
       "output_type": "stream",
       "stream": "stdout",
       "text": [
        "UndefVarError("
       ]
      },
      {
       "output_type": "stream",
       "stream": "stdout",
       "text": [
        ":hhhh)"
       ]
      }
     ],
     "prompt_number": 40
    },
    {
     "cell_type": "markdown",
     "metadata": {
      "slideshow": {
       "slide_type": "subslide"
      }
     },
     "source": [
      "Using the *macroexpand* function one can easily look at the complete code that gets evaluated by the macro."
     ]
    },
    {
     "cell_type": "code",
     "collapsed": false,
     "input": [
      "macroexpand(:(@stoptime repChar = inv(rand(1000, 1000))))"
     ],
     "language": "python",
     "metadata": {
      "slideshow": {
       "slide_type": "-"
      }
     },
     "outputs": [
      {
       "metadata": {},
       "output_type": "pyout",
       "prompt_number": 41,
       "text": [
        "quote  # In[36], line 3:\n",
        "    #526#hhhh = 3 # line 4:\n",
        "    tic() # line 5:\n",
        "    repChar = inv(rand(1000,1000)) # line 6:\n",
        "    toc()\n",
        "end"
       ]
      }
     ],
     "prompt_number": 41
    },
    {
     "cell_type": "markdown",
     "metadata": {
      "slideshow": {
       "slide_type": "-"
      }
     },
     "source": [
      "Of course, this stopwatch macro already exists in Julia. It is called @time."
     ]
    },
    {
     "cell_type": "markdown",
     "metadata": {
      "slideshow": {
       "slide_type": "subslide"
      }
     },
     "source": [
      "Another example is the @test macro, which allows extremely convenient testing of code."
     ]
    },
    {
     "cell_type": "code",
     "collapsed": false,
     "input": [
      "using Base.Test\n",
      "@test 3 == (2+1)"
     ],
     "language": "python",
     "metadata": {
      "slideshow": {
       "slide_type": "-"
      }
     },
     "outputs": [],
     "prompt_number": 42
    },
    {
     "cell_type": "markdown",
     "metadata": {
      "slideshow": {
       "slide_type": "-"
      }
     },
     "source": [
      "As a macro also receives the actual variable names during its call, it can print out the actual call if the test fails."
     ]
    },
    {
     "cell_type": "code",
     "collapsed": false,
     "input": [
      "kk = 4\n",
      "try\n",
      "    @test kk == (2+1)\n",
      "    catch e\n",
      "    show(e)\n",
      "end"
     ],
     "language": "python",
     "metadata": {
      "slideshow": {
       "slide_type": "fragment"
      }
     },
     "outputs": [
      {
       "ename": "LoadError",
       "evalue": "test failed: kk == 2 + 1\nwhile loading In[44], in expression starting on line 2",
       "output_type": "pyerr",
       "traceback": [
        "test failed: kk == 2 + 1\nwhile loading In[44], in expression starting on line 2",
        "",
        " in error at error.jl:21",
        " in default_handler at test.jl:19",
        " in do_test at test.jl:39"
       ]
      }
     ],
     "prompt_number": 44
    },
    {
     "cell_type": "heading",
     "level": 5,
     "metadata": {
      "slideshow": {
       "slide_type": "subslide"
      }
     },
     "source": [
      "Example: squaredVariable"
     ]
    },
    {
     "cell_type": "markdown",
     "metadata": {
      "slideshow": {
       "slide_type": "-"
      }
     },
     "source": [
      "Another example, though not the best style, is the following macro that returns the squared value of any given variable. The value will be stored in a variable that matches the name of the original input variable, but with \"_squared\" appended. Hence, **his macro messes with the current workspace**, which is generally NOT recommended.\n",
      "\n",
      "In this example, however, we explicitly want the code to conduct changes to the workspace that are not directly induced through the expression that is handed over to the macro. The macro uses *eval* to create a new variable with ending \"_squared\" in the workspace."
     ]
    },
    {
     "cell_type": "code",
     "collapsed": false,
     "input": [
      "macro squaredVariable(a)\n",
      "    println(\"Calculating the squared value of $a:\")\n",
      "    newVariableName = symbol(string(a, \"_squared\"))\n",
      "    eval(:($newVariableName = $a^2))\n",
      "end\n"
     ],
     "language": "python",
     "metadata": {
      "slideshow": {
       "slide_type": "-"
      }
     },
     "outputs": [],
     "prompt_number": 45
    },
    {
     "cell_type": "code",
     "collapsed": false,
     "input": [
      "k = 8\n",
      "@squaredVariable k"
     ],
     "language": "python",
     "metadata": {
      "slideshow": {
       "slide_type": "subslide"
      }
     },
     "outputs": [
      {
       "output_type": "stream",
       "stream": "stdout",
       "text": [
        "Calculating the squared value of k:\n"
       ]
      },
      {
       "metadata": {},
       "output_type": "pyout",
       "prompt_number": 46,
       "text": [
        "64"
       ]
      }
     ],
     "prompt_number": 46
    },
    {
     "cell_type": "code",
     "collapsed": false,
     "input": [
      "k_squared"
     ],
     "language": "python",
     "metadata": {
      "slideshow": {
       "slide_type": "fragment"
      }
     },
     "outputs": [
      {
       "metadata": {},
       "output_type": "pyout",
       "prompt_number": 47,
       "text": [
        "64"
       ]
      }
     ],
     "prompt_number": 47
    },
    {
     "cell_type": "heading",
     "level": 2,
     "metadata": {
      "slideshow": {
       "slide_type": "slide"
      }
     },
     "source": [
      "Metaprogramming"
     ]
    },
    {
     "cell_type": "markdown",
     "metadata": {
      "slideshow": {
       "slide_type": "-"
      }
     },
     "source": [
      "A crucial feature of the Julia language is that the **syntax itself** is just **implemented in the language** just like any other type (Int, Char, ...). Its type is *Expr*."
     ]
    },
    {
     "cell_type": "code",
     "collapsed": false,
     "input": [
      "cmd = :(x = mean(rand(10)))\n",
      "typeof(cmd)"
     ],
     "language": "python",
     "metadata": {
      "slideshow": {
       "slide_type": "-"
      }
     },
     "outputs": [
      {
       "metadata": {},
       "output_type": "pyout",
       "prompt_number": 48,
       "text": [
        "Expr"
       ]
      }
     ],
     "prompt_number": 48
    },
    {
     "cell_type": "markdown",
     "metadata": {
      "slideshow": {
       "slide_type": "-"
      }
     },
     "source": [
      "As with any other type, you can access its fields, which are:"
     ]
    },
    {
     "cell_type": "code",
     "collapsed": false,
     "input": [
      "names(cmd)"
     ],
     "language": "python",
     "metadata": {
      "slideshow": {
       "slide_type": "-"
      }
     },
     "outputs": [
      {
       "metadata": {},
       "output_type": "pyout",
       "prompt_number": 49,
       "text": [
        "3-element Array{Symbol,1}:\n",
        " :head\n",
        " :args\n",
        " :typ "
       ]
      }
     ],
     "prompt_number": 49
    },
    {
     "cell_type": "markdown",
     "metadata": {
      "slideshow": {
       "slide_type": "subslide"
      }
     },
     "source": [
      "Hence, you can find the operation in the *:head* field, and its arguments in the *:args* field."
     ]
    },
    {
     "cell_type": "code",
     "collapsed": false,
     "input": [
      "cmd.head"
     ],
     "language": "python",
     "metadata": {
      "slideshow": {
       "slide_type": "-"
      }
     },
     "outputs": [
      {
       "metadata": {},
       "output_type": "pyout",
       "prompt_number": 50,
       "text": [
        ":(=)"
       ]
      }
     ],
     "prompt_number": 50
    },
    {
     "cell_type": "code",
     "collapsed": false,
     "input": [
      "cmd.args"
     ],
     "language": "python",
     "metadata": {
      "slideshow": {
       "slide_type": "-"
      }
     },
     "outputs": [
      {
       "metadata": {},
       "output_type": "pyout",
       "prompt_number": 51,
       "text": [
        "2-element Array{Any,1}:\n",
        " :x               \n",
        " :(mean(rand(10)))"
       ]
      }
     ],
     "prompt_number": 51
    },
    {
     "cell_type": "heading",
     "level": 2,
     "metadata": {
      "slideshow": {
       "slide_type": "slide"
      }
     },
     "source": [
      "Example application: bootstrap macro"
     ]
    },
    {
     "cell_type": "markdown",
     "metadata": {
      "slideshow": {
       "slide_type": "-"
      }
     },
     "source": [
      "Using macros and other metaprogramming capabilities, some quite complicated applications can be implemented very concisely. As an example, we now want to implement a macro called *bootstrap*. For any given Julia function call that evaluates some statistics for some given data sample, the macro shall **re-calculate the same statistics for a given number of times with bootstrapped data**."
     ]
    },
    {
     "cell_type": "markdown",
     "metadata": {
      "slideshow": {
       "slide_type": "subslide"
      }
     },
     "source": [
      "To make the steps a little bit more obvious, let's see step by step, how a given command can be decomposed into the necessary parts."
     ]
    },
    {
     "cell_type": "code",
     "collapsed": false,
     "input": [
      "expr = :(mu = mean(x))"
     ],
     "language": "python",
     "metadata": {
      "slideshow": {
       "slide_type": "-"
      }
     },
     "outputs": [
      {
       "metadata": {},
       "output_type": "pyout",
       "prompt_number": 52,
       "text": [
        ":(mu = mean(x))"
       ]
      }
     ],
     "prompt_number": 52
    },
    {
     "cell_type": "markdown",
     "metadata": {
      "slideshow": {
       "slide_type": "-"
      }
     },
     "source": [
      "At the top level, the command is an assignment."
     ]
    },
    {
     "cell_type": "code",
     "collapsed": false,
     "input": [
      "expr.head"
     ],
     "language": "python",
     "metadata": {
      "slideshow": {
       "slide_type": "-"
      }
     },
     "outputs": [
      {
       "metadata": {},
       "output_type": "pyout",
       "prompt_number": 53,
       "text": [
        ":(=)"
       ]
      }
     ],
     "prompt_number": 53
    },
    {
     "cell_type": "markdown",
     "metadata": {
      "slideshow": {
       "slide_type": "subslide"
      }
     },
     "source": [
      "The left hand of the assignment can be accessed as follows:"
     ]
    },
    {
     "cell_type": "code",
     "collapsed": false,
     "input": [
      "expr.args[1]"
     ],
     "language": "python",
     "metadata": {
      "slideshow": {
       "slide_type": "-"
      }
     },
     "outputs": [
      {
       "metadata": {},
       "output_type": "pyout",
       "prompt_number": 54,
       "text": [
        ":mu"
       ]
      }
     ],
     "prompt_number": 54
    },
    {
     "cell_type": "markdown",
     "metadata": {
      "slideshow": {
       "slide_type": "-"
      }
     },
     "source": [
      "And the right hand is the complete function call:"
     ]
    },
    {
     "cell_type": "code",
     "collapsed": false,
     "input": [
      "expr.args[2]"
     ],
     "language": "python",
     "metadata": {
      "slideshow": {
       "slide_type": "-"
      }
     },
     "outputs": [
      {
       "metadata": {},
       "output_type": "pyout",
       "prompt_number": 55,
       "text": [
        ":(mean(x))"
       ]
      }
     ],
     "prompt_number": 55
    },
    {
     "cell_type": "markdown",
     "metadata": {
      "slideshow": {
       "slide_type": "subslide"
      }
     },
     "source": [
      "Again, this can be decomposed into the function that is called,"
     ]
    },
    {
     "cell_type": "code",
     "collapsed": false,
     "input": [
      "expr.args[2].args[1]"
     ],
     "language": "python",
     "metadata": {
      "slideshow": {
       "slide_type": "-"
      }
     },
     "outputs": [
      {
       "metadata": {},
       "output_type": "pyout",
       "prompt_number": 56,
       "text": [
        ":mean"
       ]
      }
     ],
     "prompt_number": 56
    },
    {
     "cell_type": "markdown",
     "metadata": {
      "slideshow": {
       "slide_type": "-"
      }
     },
     "source": [
      "and the name of the data variable that needs to be resampled:"
     ]
    },
    {
     "cell_type": "code",
     "collapsed": false,
     "input": [
      "expr.args[2].args[2]"
     ],
     "language": "python",
     "metadata": {
      "slideshow": {
       "slide_type": "-"
      }
     },
     "outputs": [
      {
       "metadata": {},
       "output_type": "pyout",
       "prompt_number": 57,
       "text": [
        ":x"
       ]
      }
     ],
     "prompt_number": 57
    },
    {
     "cell_type": "markdown",
     "metadata": {
      "slideshow": {
       "slide_type": "subslide"
      }
     },
     "source": [
      "Hence, we now could **isolate both the sample data and the function** that calculates the required statistics. We can then apply the same function to bootstrapped data samples."
     ]
    },
    {
     "cell_type": "code",
     "collapsed": false,
     "input": [
      "macro bootstrap(nTimes, expr)\n",
      "    quote\n",
      "        # get real value\n",
      "        $(esc(expr))\n",
      "\n",
      "        # get function to resample\n",
      "        func = $(expr.args[2].args[1])\n",
      "\n",
      "        # get data as first argument to function\n",
      "        data = $(expr.args[2].args[2])\n",
      "        nObs = length(data)\n",
      "        bootstrVals = Array(Any, $nTimes)\n",
      "        for ii=1:$nTimes\n",
      "            sampInd = rand(1:nObs, nObs)\n",
      "            samp = data[sampInd]\n",
      "        \n",
      "            # apply function to sample\n",
      "            bootstrVals[ii] = func(samp)\n",
      "        end\n",
      "        res = bootstrVals\n",
      "    end\n",
      "end"
     ],
     "language": "python",
     "metadata": {
      "slideshow": {
       "slide_type": "-"
      }
     },
     "outputs": [],
     "prompt_number": 58
    },
    {
     "cell_type": "markdown",
     "metadata": {
      "slideshow": {
       "slide_type": "subslide"
      }
     },
     "source": [
      "As we can see, the bootstrap macro works:"
     ]
    },
    {
     "cell_type": "code",
     "collapsed": false,
     "input": [
      "macroexpand(:(@bootstrap 1500000 mu = mean(x)))"
     ],
     "language": "python",
     "metadata": {
      "slideshow": {
       "slide_type": "-"
      }
     },
     "outputs": [
      {
       "metadata": {},
       "output_type": "pyout",
       "prompt_number": 59,
       "text": [
        "quote  # In[58], line 4:\n",
        "    mu = mean(x) # line 7:\n",
        "    #527#func = mean # line 10:\n",
        "    #528#data = x # line 11:\n",
        "    #529#nObs = length(#528#data) # line 12:\n",
        "    #530#bootstrVals = Array(Any,1500000) # line 13:\n",
        "    for #531#ii = 1:1500000 # line 14:\n",
        "        #532#sampInd = rand(1:#529#nObs,#529#nObs) # line 15:\n",
        "        #533#samp = #528#data[#532#sampInd] # line 18:\n",
        "        #530#bootstrVals[#531#ii] = #527#func(#533#samp)\n",
        "    end # line 20:\n",
        "    #534#res = #530#bootstrVals\n",
        "end"
       ]
      }
     ],
     "prompt_number": 59
    },
    {
     "cell_type": "code",
     "collapsed": false,
     "input": [
      "x = rand(200)\n",
      "muBstr = @bootstrap 150000 mu = mean(x)\n",
      "mu"
     ],
     "language": "python",
     "metadata": {
      "slideshow": {
       "slide_type": "subslide"
      }
     },
     "outputs": [
      {
       "metadata": {},
       "output_type": "pyout",
       "prompt_number": 60,
       "text": [
        "0.5163725779546943"
       ]
      }
     ],
     "prompt_number": 60
    },
    {
     "cell_type": "code",
     "collapsed": false,
     "input": [
      "muBstr"
     ],
     "language": "python",
     "metadata": {
      "slideshow": {
       "slide_type": "-"
      }
     },
     "outputs": [
      {
       "metadata": {},
       "output_type": "pyout",
       "prompt_number": 61,
       "text": [
        "150000-element Array{Any,1}:\n",
        " 0.548126\n",
        " 0.553535\n",
        " 0.527   \n",
        " 0.540555\n",
        " 0.495058\n",
        " 0.54335 \n",
        " 0.506348\n",
        " 0.517204\n",
        " 0.487617\n",
        " 0.522487\n",
        " 0.535411\n",
        " 0.516184\n",
        " 0.493645\n",
        " \u22ee       \n",
        " 0.501768\n",
        " 0.498029\n",
        " 0.532167\n",
        " 0.525329\n",
        " 0.519135\n",
        " 0.513228\n",
        " 0.53106 \n",
        " 0.510895\n",
        " 0.52626 \n",
        " 0.507993\n",
        " 0.536119\n",
        " 0.513536"
       ]
      }
     ],
     "prompt_number": 61
    },
    {
     "cell_type": "markdown",
     "metadata": {
      "slideshow": {
       "slide_type": "subslide"
      }
     },
     "source": [
      "Although the bootstrap macro only allows functions with only one argument, its reach can easily be extended through the use of anonymous functions."
     ]
    },
    {
     "cell_type": "code",
     "collapsed": false,
     "input": [
      "varNineFive = x -> quantile(x, 0.95)\n",
      "VaR_btstr = @bootstrap 150 VaR = varNineFive(x)"
     ],
     "language": "python",
     "metadata": {
      "slideshow": {
       "slide_type": "-"
      }
     },
     "outputs": [
      {
       "metadata": {},
       "output_type": "pyout",
       "prompt_number": 62,
       "text": [
        "150-element Array{Any,1}:\n",
        " 0.933071\n",
        " 0.928234\n",
        " 0.945202\n",
        " 0.914507\n",
        " 0.945202\n",
        " 0.942458\n",
        " 0.946482\n",
        " 0.945139\n",
        " 0.93989 \n",
        " 0.927064\n",
        " 0.964991\n",
        " 0.930594\n",
        " 0.945202\n",
        " \u22ee       \n",
        " 0.946482\n",
        " 0.93989 \n",
        " 0.930466\n",
        " 0.928142\n",
        " 0.93989 \n",
        " 0.932459\n",
        " 0.927064\n",
        " 0.946131\n",
        " 0.974134\n",
        " 0.940018\n",
        " 0.940018\n",
        " 0.916365"
       ]
      }
     ],
     "prompt_number": 62
    },
    {
     "cell_type": "heading",
     "level": 2,
     "metadata": {
      "slideshow": {
       "slide_type": "slide"
      }
     },
     "source": [
      "Session info"
     ]
    },
    {
     "cell_type": "code",
     "collapsed": false,
     "input": [
      "versioninfo()"
     ],
     "language": "python",
     "metadata": {
      "slideshow": {
       "slide_type": "subslide"
      }
     },
     "outputs": [
      {
       "output_type": "stream",
       "stream": "stdout",
       "text": [
        "Julia Version 0.3.5\n"
       ]
      },
      {
       "output_type": "stream",
       "stream": "stdout",
       "text": [
        "Commit a05f87b* (2015-01-08 22:33 UTC)\n",
        "Platform Info:\n",
        "  System: Linux (x86_64-linux-gnu)\n",
        "  CPU: Intel(R) Core(TM) i3-3240 CPU @ 3.40GHz\n",
        "  WORD_SIZE: 64\n",
        "  BLAS: libopenblas (NO_LAPACK NO_LAPACKE DYNAMIC_ARCH NO_AFFINITY Sandybridge)\n",
        "  LAPACK: liblapack.so.3\n",
        "  LIBM: libopenlibm\n",
        "  LLVM: libLLVM-3.3\n"
       ]
      }
     ],
     "prompt_number": 2
    },
    {
     "cell_type": "code",
     "collapsed": false,
     "input": [
      "Pkg.status()"
     ],
     "language": "python",
     "metadata": {
      "slideshow": {
       "slide_type": "subslide"
      }
     },
     "outputs": [
      {
       "output_type": "stream",
       "stream": "stdout",
       "text": [
        "19 required packages:\n"
       ]
      },
      {
       "output_type": "stream",
       "stream": "stdout",
       "text": [
        " - Cpp                           0.1.0              47b1a7f4 (dirty)\n",
        " - DataArrays                    0.2.5\n",
        " - DataFrames                    0.5.11\n",
        " - Dates                         0.3.2\n",
        " - Debug                         0.0.4\n",
        " - Distributions                 0.5.5\n",
        " - GLM                           0.4.2\n",
        " - Gadfly                        0.3.9\n",
        " - IJulia                        0.1.15\n",
        " - Jewel                         0.9.0\n",
        " - JuMP                          0.6.3\n",
        " - MATLAB                        0.1.2\n",
        " - NLopt                         0.1.3\n",
        " - PyCall                        0.4.10\n",
        " - Quandl                        0.3.14\n",
        " - RDatasets                     0.1.1\n",
        " - Taro                          0.1.1\n",
        " - TimeSeries                    0.4.5\n",
        " - Winston                       0.11.6\n",
        "61 additional packages:\n",
        " - ArrayViews                    0.4.8\n",
        " - AssetMgmt                     0.0.0-             "
       ]
      },
      {
       "output_type": "stream",
       "stream": "stdout",
       "text": [
        "master (unregistered)\n",
        " - BinDeps                       0.3.6\n",
        " - Cairo                         0.2.20\n",
        " - Calculus                      0.1.5\n",
        " - Codecs                        0.1.2\n",
        " - Color                         0.3.10\n",
        " - Compat                        0.1.0\n",
        " - Compose                       0.3.9\n",
        " - Contour                       0.0.5\n",
        " - Copulas                       0.0.0-             master (unregistered, dirty)\n",
        " - DataStructures                0.3.5\n",
        " - Distances                     0.2.0\n",
        " - DualNumbers                   0.1.0\n",
        " - EconDatasets                  0.0.2+             master (dirty)\n",
        " - Econometrics                  0.0.0-             master (unregistered)\n",
        " - FactCheck                     0.1.2\n",
        " - FixedPointNumbers             0.0.4\n",
        " - GZip                          0.2.13\n",
        " - GnuTLS                        0.0.1\n",
        " - Graphs                        0.4.3\n",
        " - Gumbo                         0.1.0\n",
        " - HDF5                          0.4.6\n",
        " - HTTPClient                    0.1.4\n",
        " - Hexagons                      0.0.2\n",
        " - HttpCommon                    0.0.10\n",
        " - HttpParser                    0.0.10\n",
        " - ImmutableArrays               0.0.6\n",
        " - IniFile                       0.2.4\n",
        " - Iterators                     0.1.7\n",
        " - JSON                          0.3.9\n",
        " - JavaCall                      0.2.0\n",
        " - JuliaParser                   0.5.3\n",
        " - KernelDensity                 0.0.2\n",
        " - LNR                           0.0.1\n",
        " - Lazy                          0.5.0\n",
        " - LibCURL                       0.1.4\n",
        " - Loess                         0.0.3\n",
        " - MAT                           0.2.8\n",
        " - MathProgBase                  0.3.3\n",
        " - Memoize                       0.0.0\n",
        " - Nettle                        0.1.6\n",
        " - NumericExtensions             0.6.2\n",
        " - NumericFuns                   0.2.3\n",
        " - PDMats                        0.2.4\n",
        " - Plotly                        0.0.0-             master (unregistered)\n",
        " - REPLCompletions               0.0.3\n",
        " - Reexport                      0.0.2\n",
        " - Requests                      0.0.6\n",
        " - ReverseDiffSparse             0.1.4\n",
        " - SHA                           0.0.3\n",
        " - Showoff                       0.0.2\n",
        " - SortingAlgorithms             0.0.2\n",
        " - StatsBase                     0.6.9\n",
        " - TimeData                      0.5.1+             master (dirty)\n",
        " - Tk                            0.2.15\n",
        " - URIParser                     0.0.3\n",
        " - Vines                         0.0.0-             master (unregistered)\n",
        " - WorldBankDataTd               0.0.0-             "
       ]
      },
      {
       "output_type": "stream",
       "stream": "stdout",
       "text": [
        "master (unregistered)\n",
        " - ZMQ                           0.1.14\n",
        " - Zlib                          0.1.7\n"
       ]
      }
     ],
     "prompt_number": 3
    }
   ],
   "metadata": {}
  }
 ]
}