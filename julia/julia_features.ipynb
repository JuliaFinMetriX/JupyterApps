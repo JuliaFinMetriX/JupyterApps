{
 "cells": [
  {
   "cell_type": "markdown",
   "metadata": {
    "slideshow": {
     "slide_type": "slide"
    }
   },
   "source": [
    "## Motivation"
   ]
  },
  {
   "cell_type": "markdown",
   "metadata": {
    "slideshow": {
     "slide_type": "-"
    }
   },
   "source": [
    "This IJulia notebook is a **list of nice tweaks** of the Julia language. Features should roughly be listed with **ascending importance**. \n",
    "\n",
    "**How does your favorite technical computing language compare to this?**"
   ]
  },
  {
   "cell_type": "markdown",
   "metadata": {
    "slideshow": {
     "slide_type": "slide"
    }
   },
   "source": [
    "## Unicode characters"
   ]
  },
  {
   "cell_type": "markdown",
   "metadata": {
    "slideshow": {
     "slide_type": "-"
    }
   },
   "source": [
    "When using variable names, you have the full range of **special characters** at your disposal."
   ]
  },
  {
   "cell_type": "code",
   "execution_count": 1,
   "metadata": {
    "slideshow": {
     "slide_type": "-"
    }
   },
   "outputs": [
    {
     "name": "stdout",
     "output_type": "stream",
     "text": [
      "3.4"
     ]
    },
    {
     "data": {
      "text/plain": [
       "π = 3.1415926535897..."
      ]
     },
     "execution_count": 1,
     "metadata": {},
     "output_type": "execute_result"
    }
   ],
   "source": [
    "α = 3.4\n",
    "print(α)\n",
    "pi"
   ]
  },
  {
   "cell_type": "markdown",
   "metadata": {
    "slideshow": {
     "slide_type": "slide"
    }
   },
   "source": [
    "## Scalar multiplication"
   ]
  },
  {
   "cell_type": "markdown",
   "metadata": {
    "slideshow": {
     "slide_type": "-"
    }
   },
   "source": [
    "When multiplying variables with scalar values, computer code allows the same abbreviation that is used in common **mathematical notation**."
   ]
  },
  {
   "cell_type": "code",
   "execution_count": 2,
   "metadata": {
    "slideshow": {
     "slide_type": "-"
    }
   },
   "outputs": [
    {
     "data": {
      "text/plain": [
       "144"
      ]
     },
     "execution_count": 2,
     "metadata": {},
     "output_type": "execute_result"
    }
   ],
   "source": [
    "f = x -> 3x^3 + 8x^2 - 3x\n",
    "f(3)"
   ]
  },
  {
   "cell_type": "markdown",
   "metadata": {
    "slideshow": {
     "slide_type": "slide"
    }
   },
   "source": [
    "## Chaining comparisons"
   ]
  },
  {
   "cell_type": "markdown",
   "metadata": {
    "slideshow": {
     "slide_type": "-"
    }
   },
   "source": [
    "**Multiple comparisons** can be **simultaneously** checked in one line."
   ]
  },
  {
   "cell_type": "code",
   "execution_count": 3,
   "metadata": {
    "slideshow": {
     "slide_type": "-"
    }
   },
   "outputs": [
    {
     "data": {
      "text/plain": [
       "14-element Array{Float64,1}:\n",
       " 0.393638\n",
       " 0.386187\n",
       " 0.395617\n",
       " 0.249398\n",
       " 0.374925\n",
       " 0.27443 \n",
       " 0.538513\n",
       " 0.469128\n",
       " 0.375071\n",
       " 0.529514\n",
       " 0.201748\n",
       " 0.366991\n",
       " 0.459249\n",
       " 0.398469"
      ]
     },
     "execution_count": 3,
     "metadata": {},
     "output_type": "execute_result"
    }
   ],
   "source": [
    "vals = rand(40)\n",
    "\n",
    "intermediate = 0.2 .<= vals .<= 0.6\n",
    "vals[intermediate]"
   ]
  },
  {
   "cell_type": "markdown",
   "metadata": {
    "slideshow": {
     "slide_type": "slide"
    }
   },
   "source": [
    "## Pipes"
   ]
  },
  {
   "cell_type": "markdown",
   "metadata": {
    "slideshow": {
     "slide_type": "-"
    }
   },
   "source": [
    "To avoid cluttering your workspace, **successive operations** on an input can also be written as a **pipe** similar to linux shell commands."
   ]
  },
  {
   "cell_type": "code",
   "execution_count": 6,
   "metadata": {
    "slideshow": {
     "slide_type": "-"
    }
   },
   "outputs": [
    {
     "data": {
      "text/plain": [
       "0.2519874054113661"
      ]
     },
     "execution_count": 6,
     "metadata": {},
     "output_type": "execute_result"
    }
   ],
   "source": [
    "a = rand(400)\n",
    "\n",
    "# manually compute standard deviation of b\n",
    "b = exp.(a)\n",
    "mu = mean(b)\n",
    "centralized = b - mu\n",
    "std = mean(centralized.^2)"
   ]
  },
  {
   "cell_type": "code",
   "execution_count": 8,
   "metadata": {
    "slideshow": {
     "slide_type": "subslide"
    }
   },
   "outputs": [
    {
     "data": {
      "text/plain": [
       "0.2519874054113661"
      ]
     },
     "execution_count": 8,
     "metadata": {},
     "output_type": "execute_result"
    }
   ],
   "source": [
    "# written with pipe\n",
    "std = a |>\n",
    "    x -> exp.(x) |>\n",
    "    x -> x - mean(x) |>\n",
    "    x -> x.^2 |>\n",
    "    mean\n"
   ]
  },
  {
   "cell_type": "markdown",
   "metadata": {
    "slideshow": {
     "slide_type": "slide"
    }
   },
   "source": [
    "## String interpolation"
   ]
  },
  {
   "cell_type": "markdown",
   "metadata": {
    "slideshow": {
     "slide_type": "-"
    }
   },
   "source": [
    "Variable values can easily be incorporated into a string."
   ]
  },
  {
   "cell_type": "code",
   "execution_count": 9,
   "metadata": {
    "slideshow": {
     "slide_type": "-"
    }
   },
   "outputs": [
    {
     "name": "stdout",
     "output_type": "stream",
     "text": [
      "The values are stored in data.csv\n"
     ]
    }
   ],
   "source": [
    "fileName = \"data.csv\"\n",
    "println(\"The values are stored in $fileName\")"
   ]
  },
  {
   "cell_type": "code",
   "execution_count": 10,
   "metadata": {
    "slideshow": {
     "slide_type": "fragment"
    }
   },
   "outputs": [
    {
     "name": "stdout",
     "output_type": "stream",
     "text": [
      "The values of a are: [1, 2, 3]\n"
     ]
    }
   ],
   "source": [
    "a = [1; 2; 3]\n",
    "println(\"The values of a are: $a\")"
   ]
  },
  {
   "cell_type": "markdown",
   "metadata": {
    "slideshow": {
     "slide_type": "slide"
    }
   },
   "source": [
    "## Ternary operators"
   ]
  },
  {
   "cell_type": "markdown",
   "metadata": {
    "slideshow": {
     "slide_type": "-"
    }
   },
   "source": [
    "Ternary operators are an abbreviation for **if ... else ... end** expressions. The expression before \"?\" is the condition expression, and the ternary operation evaluates the expression before the \":\" if the condition is true, or the expression after the \":\" if it is false."
   ]
  },
  {
   "cell_type": "code",
   "execution_count": 11,
   "metadata": {
    "slideshow": {
     "slide_type": "-"
    }
   },
   "outputs": [
    {
     "name": "stdout",
     "output_type": "stream",
     "text": [
      "greater than 3\n"
     ]
    }
   ],
   "source": [
    "kk = 4\n",
    "if kk > 3\n",
    "    println(\"greater than 3\")\n",
    "else\n",
    "    println(\"smaller than 3\")\n",
    "end"
   ]
  },
  {
   "cell_type": "code",
   "execution_count": 12,
   "metadata": {
    "slideshow": {
     "slide_type": "fragment"
    }
   },
   "outputs": [
    {
     "name": "stdout",
     "output_type": "stream",
     "text": [
      "greater than 3\n"
     ]
    }
   ],
   "source": [
    "kk > 3 ? println(\"greater than 3\") : println(\"smaller than 3\")"
   ]
  },
  {
   "cell_type": "markdown",
   "metadata": {
    "slideshow": {
     "slide_type": "slide"
    }
   },
   "source": [
    "## Iterators"
   ]
  },
  {
   "cell_type": "markdown",
   "metadata": {
    "slideshow": {
     "slide_type": "-"
    }
   },
   "source": [
    "**Iteration** over all entries of a variable can be done **without** manual **indexing**."
   ]
  },
  {
   "cell_type": "code",
   "execution_count": 13,
   "metadata": {
    "slideshow": {
     "slide_type": "-"
    }
   },
   "outputs": [
    {
     "name": "stdout",
     "output_type": "stream",
     "text": [
      "1, 2, 3, "
     ]
    }
   ],
   "source": [
    "a = [1; 2; 3]\n",
    "for ii=1:length(a)\n",
    "    print(a[ii], \", \")\n",
    "end"
   ]
  },
  {
   "cell_type": "code",
   "execution_count": 14,
   "metadata": {
    "slideshow": {
     "slide_type": "fragment"
    }
   },
   "outputs": [
    {
     "name": "stdout",
     "output_type": "stream",
     "text": [
      "1, 2, 3, "
     ]
    }
   ],
   "source": [
    "for entry in a\n",
    "    print(entry, \", \")\n",
    "end"
   ]
  },
  {
   "cell_type": "markdown",
   "metadata": {
    "slideshow": {
     "slide_type": "slide"
    }
   },
   "source": [
    "## Multiple simultaneous assignments"
   ]
  },
  {
   "cell_type": "markdown",
   "metadata": {
    "slideshow": {
     "slide_type": "-"
    }
   },
   "source": [
    "Values of a tuple or array can be **simultaneously** be **assigned** to individual variables."
   ]
  },
  {
   "cell_type": "code",
   "execution_count": 15,
   "metadata": {
    "slideshow": {
     "slide_type": "-"
    }
   },
   "outputs": [
    {
     "data": {
      "text/plain": [
       "10"
      ]
     },
     "execution_count": 15,
     "metadata": {},
     "output_type": "execute_result"
    }
   ],
   "source": [
    "a = rand(10, 2)\n",
    "(nRows, nCol) = size(a)\n",
    "nRows\n"
   ]
  },
  {
   "cell_type": "code",
   "execution_count": 16,
   "metadata": {
    "slideshow": {
     "slide_type": "fragment"
    }
   },
   "outputs": [
    {
     "data": {
      "text/plain": [
       "0.536146318497653"
      ]
     },
     "execution_count": 16,
     "metadata": {},
     "output_type": "execute_result"
    }
   ],
   "source": [
    "(mu1, mu2) = mean(a, 1)\n",
    "mu1"
   ]
  },
  {
   "cell_type": "code",
   "execution_count": 17,
   "metadata": {
    "slideshow": {
     "slide_type": "fragment"
    }
   },
   "outputs": [
    {
     "data": {
      "text/plain": [
       "0.4080183410432085"
      ]
     },
     "execution_count": 17,
     "metadata": {},
     "output_type": "execute_result"
    }
   ],
   "source": [
    "mu2"
   ]
  },
  {
   "cell_type": "markdown",
   "metadata": {
    "slideshow": {
     "slide_type": "slide"
    }
   },
   "source": [
    "## Comprehensions"
   ]
  },
  {
   "cell_type": "markdown",
   "metadata": {
    "slideshow": {
     "slide_type": "-"
    }
   },
   "source": [
    "Comprehension is an easy way to **create arrays** where individual entries follow some structure."
   ]
  },
  {
   "cell_type": "code",
   "execution_count": 19,
   "metadata": {
    "slideshow": {
     "slide_type": "-"
    }
   },
   "outputs": [
    {
     "data": {
      "text/plain": [
       "10-element Array{Int64,1}:\n",
       "  1\n",
       "  2\n",
       "  3\n",
       "  4\n",
       "  5\n",
       "  6\n",
       "  7\n",
       "  8\n",
       "  9\n",
       " 10"
      ]
     },
     "execution_count": 19,
     "metadata": {},
     "output_type": "execute_result"
    }
   ],
   "source": [
    "a = [1:10...]"
   ]
  },
  {
   "cell_type": "code",
   "execution_count": 20,
   "metadata": {
    "slideshow": {
     "slide_type": "subslide"
    }
   },
   "outputs": [
    {
     "data": {
      "text/plain": [
       "10-element Array{Int64,1}:\n",
       "  1\n",
       "  2\n",
       "  3\n",
       "  4\n",
       "  5\n",
       "  6\n",
       "  7\n",
       "  8\n",
       "  9\n",
       " 10"
      ]
     },
     "execution_count": 20,
     "metadata": {},
     "output_type": "execute_result"
    }
   ],
   "source": [
    "a = [ii for ii=1:10]"
   ]
  },
  {
   "cell_type": "code",
   "execution_count": 21,
   "metadata": {
    "slideshow": {
     "slide_type": "subslide"
    }
   },
   "outputs": [
    {
     "data": {
      "text/plain": [
       "10-element Array{Float64,1}:\n",
       "     4.71828\n",
       "     9.38906\n",
       "    22.0855 \n",
       "    56.5982 \n",
       "   150.413  \n",
       "   405.429  \n",
       "  1098.63   \n",
       "  2982.96   \n",
       "  8105.08   \n",
       " 22028.5    "
      ]
     },
     "execution_count": 21,
     "metadata": {},
     "output_type": "execute_result"
    }
   ],
   "source": [
    "a = [exp(ii)+2 for ii=1:10]"
   ]
  },
  {
   "cell_type": "code",
   "execution_count": 23,
   "metadata": {
    "slideshow": {
     "slide_type": "subslide"
    }
   },
   "outputs": [
    {
     "data": {
      "text/plain": [
       "10×10 Array{Int64,2}:\n",
       "  1   1   1   1   1   1   1   1   1   1\n",
       "  2   2   2   2   2   2   2   2   2   2\n",
       "  3   3   3   3   3   3   3   3   3   3\n",
       "  4   4   4   4   4   4   4   4   4   4\n",
       "  5   5   5   5   5   5   5   5   5   5\n",
       "  6   6   6   6   6   6   6   6   6   6\n",
       "  7   7   7   7   7   7   7   7   7   7\n",
       "  8   8   8   8   8   8   8   8   8   8\n",
       "  9   9   9   9   9   9   9   9   9   9\n",
       " 10  10  10  10  10  10  10  10  10  10"
      ]
     },
     "execution_count": 23,
     "metadata": {},
     "output_type": "execute_result"
    }
   ],
   "source": [
    "a = [ii for ii=1:10, jj=1:10]\n",
    "b = [jj for ii=1:10, jj=1:10]\n",
    "a"
   ]
  },
  {
   "cell_type": "code",
   "execution_count": 25,
   "metadata": {
    "slideshow": {
     "slide_type": "subslide"
    }
   },
   "outputs": [
    {
     "data": {
      "text/plain": [
       "10×10 Array{Int64,2}:\n",
       " 1  2  3  4  5  6  7  8  9  10\n",
       " 1  2  3  4  5  6  7  8  9  10\n",
       " 1  2  3  4  5  6  7  8  9  10\n",
       " 1  2  3  4  5  6  7  8  9  10\n",
       " 1  2  3  4  5  6  7  8  9  10\n",
       " 1  2  3  4  5  6  7  8  9  10\n",
       " 1  2  3  4  5  6  7  8  9  10\n",
       " 1  2  3  4  5  6  7  8  9  10\n",
       " 1  2  3  4  5  6  7  8  9  10\n",
       " 1  2  3  4  5  6  7  8  9  10"
      ]
     },
     "execution_count": 25,
     "metadata": {},
     "output_type": "execute_result"
    }
   ],
   "source": [
    "b"
   ]
  },
  {
   "cell_type": "code",
   "execution_count": 27,
   "metadata": {
    "slideshow": {
     "slide_type": "subslide"
    }
   },
   "outputs": [
    {
     "data": {
      "text/plain": [
       "10-element Array{Date,1}:\n",
       " 2012-04-01\n",
       " 2012-04-02\n",
       " 2012-04-03\n",
       " 2012-04-04\n",
       " 2012-04-05\n",
       " 2012-04-06\n",
       " 2012-04-07\n",
       " 2012-04-08\n",
       " 2012-04-09\n",
       " 2012-04-10"
      ]
     },
     "execution_count": 27,
     "metadata": {},
     "output_type": "execute_result"
    }
   ],
   "source": [
    "using Base.Dates\n",
    "dats = [Date(2012, 4, ii) for ii=1:10]"
   ]
  },
  {
   "cell_type": "code",
   "execution_count": 28,
   "metadata": {
    "slideshow": {
     "slide_type": "subslide"
    }
   },
   "outputs": [
    {
     "data": {
      "text/plain": [
       "10-element Array{Int64,1}:\n",
       " 2012\n",
       " 2012\n",
       " 2012\n",
       " 2012\n",
       " 2012\n",
       " 2012\n",
       " 2012\n",
       " 2012\n",
       " 2012\n",
       " 2012"
      ]
     },
     "execution_count": 28,
     "metadata": {},
     "output_type": "execute_result"
    }
   ],
   "source": [
    "whichYear = [year(dt) for dt in dats]"
   ]
  },
  {
   "cell_type": "markdown",
   "metadata": {
    "slideshow": {
     "slide_type": "slide"
    }
   },
   "source": [
    "## Square bracket indexing"
   ]
  },
  {
   "cell_type": "markdown",
   "metadata": {
    "slideshow": {
     "slide_type": "-"
    }
   },
   "source": [
    "The syntax for **indexing** of variables makes use of with **square brackets**. This way, **functions and variables** can immediately **be distinguished** at first sight. Some languages - Matlab, for example - do not share this property."
   ]
  },
  {
   "cell_type": "code",
   "execution_count": 29,
   "metadata": {
    "slideshow": {
     "slide_type": "-"
    }
   },
   "outputs": [
    {
     "data": {
      "text/plain": [
       "2"
      ]
     },
     "execution_count": 29,
     "metadata": {},
     "output_type": "execute_result"
    }
   ],
   "source": [
    "a[2]"
   ]
  },
  {
   "cell_type": "markdown",
   "metadata": {
    "slideshow": {
     "slide_type": "slide"
    }
   },
   "source": [
    "## Inline function definitions"
   ]
  },
  {
   "cell_type": "markdown",
   "metadata": {
    "slideshow": {
     "slide_type": "-"
    }
   },
   "source": [
    "**Functions** can be **defined anywhere** in the file, and need not reside in a separate file. This allows easy and natural decomposition of **large tasks into separate pieces**."
   ]
  },
  {
   "cell_type": "code",
   "execution_count": 30,
   "metadata": {
    "slideshow": {
     "slide_type": "-"
    }
   },
   "outputs": [
    {
     "data": {
      "text/plain": [
       "addTwo (generic function with 1 method)"
      ]
     },
     "execution_count": 30,
     "metadata": {},
     "output_type": "execute_result"
    }
   ],
   "source": [
    "function addTwo(x)\n",
    "    y = x + 2\n",
    "    return y\n",
    "end"
   ]
  },
  {
   "cell_type": "code",
   "execution_count": 31,
   "metadata": {
    "slideshow": {
     "slide_type": "-"
    }
   },
   "outputs": [
    {
     "data": {
      "text/plain": [
       "4"
      ]
     },
     "execution_count": 31,
     "metadata": {},
     "output_type": "execute_result"
    }
   ],
   "source": [
    "addTwo(a[2])"
   ]
  },
  {
   "cell_type": "markdown",
   "metadata": {
    "slideshow": {
     "slide_type": "subslide"
    }
   },
   "source": [
    "Like in other languages, functions **naturally extend to vector inputs**."
   ]
  },
  {
   "cell_type": "code",
   "execution_count": 32,
   "metadata": {
    "slideshow": {
     "slide_type": "-"
    }
   },
   "outputs": [
    {
     "data": {
      "text/plain": [
       "10×10 Array{Int64,2}:\n",
       "  3   3   3   3   3   3   3   3   3   3\n",
       "  4   4   4   4   4   4   4   4   4   4\n",
       "  5   5   5   5   5   5   5   5   5   5\n",
       "  6   6   6   6   6   6   6   6   6   6\n",
       "  7   7   7   7   7   7   7   7   7   7\n",
       "  8   8   8   8   8   8   8   8   8   8\n",
       "  9   9   9   9   9   9   9   9   9   9\n",
       " 10  10  10  10  10  10  10  10  10  10\n",
       " 11  11  11  11  11  11  11  11  11  11\n",
       " 12  12  12  12  12  12  12  12  12  12"
      ]
     },
     "execution_count": 32,
     "metadata": {},
     "output_type": "execute_result"
    }
   ],
   "source": [
    "addTwo(a)"
   ]
  },
  {
   "cell_type": "markdown",
   "metadata": {
    "slideshow": {
     "slide_type": "slide"
    }
   },
   "source": [
    "## Splicing"
   ]
  },
  {
   "cell_type": "markdown",
   "metadata": {
    "slideshow": {
     "slide_type": "-"
    }
   },
   "source": [
    "Splicing function arguments allows seamlessly switching between functions that require **separate arguments** on the one hand, and functions that require **individual arguments combined in one array**."
   ]
  },
  {
   "cell_type": "code",
   "execution_count": 33,
   "metadata": {
    "slideshow": {
     "slide_type": "-"
    }
   },
   "outputs": [
    {
     "data": {
      "text/plain": [
       "multipleArguments (generic function with 1 method)"
      ]
     },
     "execution_count": 33,
     "metadata": {},
     "output_type": "execute_result"
    }
   ],
   "source": [
    "function multipleArguments(a, b, c, d, e, f)\n",
    "    return a + b + c + d + e + f\n",
    "end"
   ]
  },
  {
   "cell_type": "code",
   "execution_count": 34,
   "metadata": {
    "slideshow": {
     "slide_type": "subslide"
    }
   },
   "outputs": [
    {
     "data": {
      "text/plain": [
       "21"
      ]
     },
     "execution_count": 34,
     "metadata": {},
     "output_type": "execute_result"
    }
   ],
   "source": [
    "vals = (1, 2, 3, 4, 5, 6)\n",
    "multipleArguments(vals...)"
   ]
  },
  {
   "cell_type": "code",
   "execution_count": 36,
   "metadata": {
    "slideshow": {
     "slide_type": "fragment"
    }
   },
   "outputs": [
    {
     "data": {
      "text/plain": [
       "21"
      ]
     },
     "execution_count": 36,
     "metadata": {},
     "output_type": "execute_result"
    }
   ],
   "source": [
    "vals = 1:6\n",
    "multipleArguments(vals...)"
   ]
  },
  {
   "cell_type": "markdown",
   "metadata": {
    "slideshow": {
     "slide_type": "slide"
    }
   },
   "source": [
    "## Multiple dispatch"
   ]
  },
  {
   "cell_type": "markdown",
   "metadata": {
    "slideshow": {
     "slide_type": "-"
    }
   },
   "source": [
    "**Function behaviour** may vary **depending on** the type of the **arguments**. This way, multiple functions with equal name may co-exist. "
   ]
  },
  {
   "cell_type": "code",
   "execution_count": 38,
   "metadata": {
    "slideshow": {
     "slide_type": "-"
    }
   },
   "outputs": [
    {
     "data": {
      "text/plain": [
       "reciprocalValue (generic function with 3 methods)"
      ]
     },
     "execution_count": 38,
     "metadata": {},
     "output_type": "execute_result"
    }
   ],
   "source": [
    "function reciprocalValue(x::Int)\n",
    "    return 1/x\n",
    "end\n",
    "\n",
    "function reciprocalValue(x::String)\n",
    "    return uppercase(x)\n",
    "end\n",
    "\n",
    "function reciprocalValue(x)\n",
    "    println(\"Method only makes sense for numbers and strings\")\n",
    "end"
   ]
  },
  {
   "cell_type": "code",
   "execution_count": 39,
   "metadata": {
    "slideshow": {
     "slide_type": "subslide"
    }
   },
   "outputs": [
    {
     "data": {
      "text/plain": [
       "0.125"
      ]
     },
     "execution_count": 39,
     "metadata": {},
     "output_type": "execute_result"
    }
   ],
   "source": [
    "reciprocalValue(8)"
   ]
  },
  {
   "cell_type": "code",
   "execution_count": 40,
   "metadata": {
    "slideshow": {
     "slide_type": "fragment"
    }
   },
   "outputs": [
    {
     "data": {
      "text/plain": [
       "\"HELLO\""
      ]
     },
     "execution_count": 40,
     "metadata": {},
     "output_type": "execute_result"
    }
   ],
   "source": [
    "reciprocalValue(\"hello\")"
   ]
  },
  {
   "cell_type": "code",
   "execution_count": 41,
   "metadata": {
    "slideshow": {
     "slide_type": "fragment"
    }
   },
   "outputs": [
    {
     "name": "stdout",
     "output_type": "stream",
     "text": [
      "Method only makes sense for numbers and strings\n"
     ]
    }
   ],
   "source": [
    "reciprocalValue(NaN)"
   ]
  },
  {
   "cell_type": "markdown",
   "metadata": {
    "slideshow": {
     "slide_type": "slide"
    }
   },
   "source": [
    "## Composite types"
   ]
  },
  {
   "cell_type": "markdown",
   "metadata": {
    "slideshow": {
     "slide_type": "-"
    }
   },
   "source": [
    "One can easily define highly customized **own types**. Through multiple dispatch, behaviour of common **mathematical operators** can be **defined for any new type**."
   ]
  },
  {
   "cell_type": "code",
   "execution_count": 42,
   "metadata": {
    "slideshow": {
     "slide_type": "-"
    }
   },
   "outputs": [],
   "source": [
    "type simplexPoint\n",
    "    x\n",
    "    y\n",
    "end"
   ]
  },
  {
   "cell_type": "code",
   "execution_count": 43,
   "metadata": {
    "slideshow": {
     "slide_type": "-"
    }
   },
   "outputs": [
    {
     "data": {
      "text/plain": [
       "simplexPoint(0.4, 0.6)"
      ]
     },
     "execution_count": 43,
     "metadata": {},
     "output_type": "execute_result"
    }
   ],
   "source": [
    "sp = simplexPoint(0.4, 0.6)"
   ]
  },
  {
   "cell_type": "code",
   "execution_count": 44,
   "metadata": {
    "slideshow": {
     "slide_type": "subslide"
    }
   },
   "outputs": [
    {
     "data": {
      "text/plain": [
       "simplexPoint(0.6, 0.4)"
      ]
     },
     "execution_count": 44,
     "metadata": {},
     "output_type": "execute_result"
    }
   ],
   "source": [
    "function reciprocalValue(sp::simplexPoint)\n",
    "    return simplexPoint(sp.y, sp.x)\n",
    "end\n",
    "\n",
    "reciprocalValue(sp)"
   ]
  },
  {
   "cell_type": "markdown",
   "metadata": {
    "slideshow": {
     "slide_type": "slide"
    }
   },
   "source": [
    "## Macros"
   ]
  },
  {
   "cell_type": "markdown",
   "metadata": {
    "slideshow": {
     "slide_type": "-"
    }
   },
   "source": [
    "Julia comes with quite powerful **metaprogramming skills**. This allows you to work with both the values that are stored in the variables and the names of variables and functions that were used in the call. This way, you can **take some code, manipulate it, and only then you evaluate it**.\n",
    "\n",
    "One example is the **@stoptime macro**. Before the macro evaluates the input, it starts a stopwatch, and it displays the time that was required after the evalution."
   ]
  },
  {
   "cell_type": "code",
   "execution_count": 45,
   "metadata": {
    "slideshow": {
     "slide_type": "-"
    }
   },
   "outputs": [
    {
     "data": {
      "text/plain": [
       "@stoptime (macro with 1 method)"
      ]
     },
     "execution_count": 45,
     "metadata": {},
     "output_type": "execute_result"
    }
   ],
   "source": [
    "macro stoptime(expr)\n",
    "    quote\n",
    "        hhhh = 3 # some line of nonsense to show variable scope\n",
    "        tic()\n",
    "        $(esc(expr))\n",
    "        toc()\n",
    "    end\n",
    "end"
   ]
  },
  {
   "cell_type": "code",
   "execution_count": 49,
   "metadata": {
    "slideshow": {
     "slide_type": "subslide"
    }
   },
   "outputs": [
    {
     "name": "stdout",
     "output_type": "stream",
     "text": [
      "elapsed time: 0.161540963 seconds\n"
     ]
    },
    {
     "data": {
      "text/plain": [
       "1000×1000 Array{Float64,2}:\n",
       " -0.682405    0.677005  -0.534894  …   0.327416    0.469432    -0.445379 \n",
       " -0.0417173   0.125121  -0.164637     -0.0310278   0.210068    -0.0162045\n",
       " -1.32879     1.26999   -1.23053       0.445973    0.891994    -0.75988  \n",
       "  0.33831    -0.354663   0.390101     -0.121229   -0.167977     0.191635 \n",
       "  2.21488    -2.20582    2.16555      -0.826439   -1.37788      1.16016  \n",
       "  0.634359   -0.828889   0.759662  …  -0.0179236  -0.696717     0.428477 \n",
       " -1.387       1.21018   -1.08014       0.593618    0.785414    -0.780106 \n",
       " -0.669723    0.550873  -0.522613      0.372351    0.263017    -0.208384 \n",
       "  1.11882    -1.0904     1.17901      -0.275402   -0.778709     0.656922 \n",
       "  0.153747   -0.1386     0.117767     -0.112787   -0.00469817   0.0891723\n",
       "  0.785724   -0.916346   0.795432  …  -0.311925   -0.666801     0.481167 \n",
       "  1.22799    -1.12764    1.08164      -0.558825   -0.596854     0.530353 \n",
       " -1.56677     1.37623   -1.34775       0.735311    0.795541    -0.812727 \n",
       "  ⋮                                ⋱                                     \n",
       " -0.45662     0.342724  -0.384359      0.211192    0.118417    -0.250837 \n",
       "  0.95878    -1.08108    0.995897     -0.242517   -0.761602     0.54231  \n",
       "  0.563641   -0.401467   0.48285   …  -0.11951    -0.399226     0.396972 \n",
       "  0.820946   -0.81605    0.781763     -0.229293   -0.51732      0.427458 \n",
       " -1.81653     1.65262   -1.62561       0.723141    1.12194     -1.06298  \n",
       "  0.844173   -0.684082   0.62614      -0.455246   -0.359754     0.44996  \n",
       " -1.78058     1.75872   -1.66991       0.713754    1.0953      -0.906057 \n",
       "  0.17406    -0.260698   0.29699   …   0.0265243  -0.274551     0.0955105\n",
       " -0.698857    0.61691   -0.633076      0.304379    0.436195    -0.431875 \n",
       " -0.26619     0.285401  -0.33324       0.194062    0.140553    -0.125623 \n",
       " -0.460596    0.535916  -0.552615      0.0600725   0.445602    -0.310515 \n",
       " -0.579072    0.495696  -0.458395      0.306539    0.30384     -0.35037  "
      ]
     },
     "execution_count": 49,
     "metadata": {},
     "output_type": "execute_result"
    }
   ],
   "source": [
    "@stoptime repChar = inv(rand(1000, 1000))\n",
    "repChar"
   ]
  },
  {
   "cell_type": "markdown",
   "metadata": {
    "slideshow": {
     "slide_type": "subslide"
    }
   },
   "source": [
    "Macros evaluate in a **separate workspace**."
   ]
  },
  {
   "cell_type": "code",
   "execution_count": 50,
   "metadata": {
    "slideshow": {
     "slide_type": "-"
    }
   },
   "outputs": [
    {
     "name": "stdout",
     "output_type": "stream",
     "text": [
      "UndefVarError(:hhhh)"
     ]
    }
   ],
   "source": [
    "try\n",
    "    hhhh\n",
    "    catch e\n",
    "    show(e)\n",
    "end"
   ]
  },
  {
   "cell_type": "markdown",
   "metadata": {
    "slideshow": {
     "slide_type": "subslide"
    }
   },
   "source": [
    "Using the *macroexpand* function one can easily look at the complete code that gets evaluated by the macro."
   ]
  },
  {
   "cell_type": "code",
   "execution_count": 51,
   "metadata": {
    "slideshow": {
     "slide_type": "-"
    }
   },
   "outputs": [
    {
     "data": {
      "text/plain": [
       "quote  # In[45], line 3:\n",
       "    #20#hhhh = 3 # In[45], line 4:\n",
       "    (Main.tic)() # In[45], line 5:\n",
       "    repChar = inv(rand(1000, 1000)) # In[45], line 6:\n",
       "    (Main.toc)()\n",
       "end"
      ]
     },
     "execution_count": 51,
     "metadata": {},
     "output_type": "execute_result"
    }
   ],
   "source": [
    "macroexpand(:(@stoptime repChar = inv(rand(1000, 1000))))"
   ]
  },
  {
   "cell_type": "markdown",
   "metadata": {
    "slideshow": {
     "slide_type": "-"
    }
   },
   "source": [
    "Of course, this stopwatch macro already exists in Julia. It is called @time."
   ]
  },
  {
   "cell_type": "markdown",
   "metadata": {
    "slideshow": {
     "slide_type": "subslide"
    }
   },
   "source": [
    "Another example is the @test macro, which allows extremely convenient testing of code."
   ]
  },
  {
   "cell_type": "code",
   "execution_count": 52,
   "metadata": {
    "slideshow": {
     "slide_type": "-"
    }
   },
   "outputs": [
    {
     "data": {
      "text/plain": [
       "\u001b[1m\u001b[32mTest Passed\n",
       "\u001b[39m\u001b[22m"
      ]
     },
     "execution_count": 52,
     "metadata": {},
     "output_type": "execute_result"
    }
   ],
   "source": [
    "using Base.Test\n",
    "@test 3 == (2+1)"
   ]
  },
  {
   "cell_type": "markdown",
   "metadata": {
    "slideshow": {
     "slide_type": "-"
    }
   },
   "source": [
    "As a macro also receives the actual variable names during its call, it can print out the actual call if the test fails."
   ]
  },
  {
   "cell_type": "code",
   "execution_count": 53,
   "metadata": {
    "slideshow": {
     "slide_type": "fragment"
    }
   },
   "outputs": [
    {
     "name": "stdout",
     "output_type": "stream",
     "text": [
      "\u001b[1m\u001b[91mTest Failed\n",
      "\u001b[39m\u001b[22m  Expression: kk == 2 + 1\n",
      "   Evaluated: 4 == 3\n",
      "Base.Test.FallbackTestSetException(\"There was an error during testing\")"
     ]
    }
   ],
   "source": [
    "kk = 4\n",
    "try\n",
    "    @test kk == (2+1)\n",
    "    catch e\n",
    "    show(e)\n",
    "end"
   ]
  },
  {
   "cell_type": "markdown",
   "metadata": {
    "slideshow": {
     "slide_type": "subslide"
    }
   },
   "source": [
    "##### Example: squaredVariable"
   ]
  },
  {
   "cell_type": "markdown",
   "metadata": {
    "slideshow": {
     "slide_type": "-"
    }
   },
   "source": [
    "Another example, though not the best style, is the following macro that returns the squared value of any given variable. The value will be stored in a variable that matches the name of the original input variable, but with \"_squared\" appended. Hence, **his macro messes with the current workspace**, which is generally NOT recommended.\n",
    "\n",
    "In this example, however, we explicitly want the code to conduct changes to the workspace that are not directly induced through the expression that is handed over to the macro. The macro uses *eval* to create a new variable with ending \"_squared\" in the workspace."
   ]
  },
  {
   "cell_type": "code",
   "execution_count": 67,
   "metadata": {
    "slideshow": {
     "slide_type": "-"
    }
   },
   "outputs": [
    {
     "data": {
      "text/plain": [
       "@squaredVariable (macro with 1 method)"
      ]
     },
     "execution_count": 67,
     "metadata": {},
     "output_type": "execute_result"
    }
   ],
   "source": [
    "macro squaredVariable(a)\n",
    "    println(\"Calculating the squared value of $a:\")\n",
    "    newVariableName = Symbol(*(String(a), \"_squared\"))\n",
    "    eval(:($newVariableName = $a^2))\n",
    "end\n"
   ]
  },
  {
   "cell_type": "code",
   "execution_count": 68,
   "metadata": {
    "slideshow": {
     "slide_type": "subslide"
    }
   },
   "outputs": [
    {
     "name": "stdout",
     "output_type": "stream",
     "text": [
      "Calculating the squared value of k:\n"
     ]
    },
    {
     "data": {
      "text/plain": [
       "64"
      ]
     },
     "execution_count": 68,
     "metadata": {},
     "output_type": "execute_result"
    }
   ],
   "source": [
    "k = 8\n",
    "@squaredVariable k"
   ]
  },
  {
   "cell_type": "code",
   "execution_count": 69,
   "metadata": {
    "slideshow": {
     "slide_type": "fragment"
    }
   },
   "outputs": [
    {
     "data": {
      "text/plain": [
       "64"
      ]
     },
     "execution_count": 69,
     "metadata": {},
     "output_type": "execute_result"
    }
   ],
   "source": [
    "k_squared"
   ]
  },
  {
   "cell_type": "markdown",
   "metadata": {
    "slideshow": {
     "slide_type": "slide"
    }
   },
   "source": [
    "## Metaprogramming"
   ]
  },
  {
   "cell_type": "markdown",
   "metadata": {
    "slideshow": {
     "slide_type": "-"
    }
   },
   "source": [
    "A crucial feature of the Julia language is that the **syntax itself** is just **implemented in the language** just like any other type (Int, Char, ...). Its type is *Expr*."
   ]
  },
  {
   "cell_type": "code",
   "execution_count": 70,
   "metadata": {
    "slideshow": {
     "slide_type": "-"
    }
   },
   "outputs": [
    {
     "data": {
      "text/plain": [
       "Expr"
      ]
     },
     "execution_count": 70,
     "metadata": {},
     "output_type": "execute_result"
    }
   ],
   "source": [
    "cmd = :(x = mean(rand(10)))\n",
    "typeof(cmd)"
   ]
  },
  {
   "cell_type": "markdown",
   "metadata": {
    "slideshow": {
     "slide_type": "-"
    }
   },
   "source": [
    "As with any other type, you can access its fields, which are:"
   ]
  },
  {
   "cell_type": "code",
   "execution_count": 73,
   "metadata": {
    "slideshow": {
     "slide_type": "-"
    }
   },
   "outputs": [
    {
     "data": {
      "text/plain": [
       "3-element Array{Symbol,1}:\n",
       " :head\n",
       " :args\n",
       " :typ "
      ]
     },
     "execution_count": 73,
     "metadata": {},
     "output_type": "execute_result"
    }
   ],
   "source": [
    "fieldnames(cmd)"
   ]
  },
  {
   "cell_type": "markdown",
   "metadata": {
    "slideshow": {
     "slide_type": "subslide"
    }
   },
   "source": [
    "Hence, you can find the operation in the *:head* field, and its arguments in the *:args* field."
   ]
  },
  {
   "cell_type": "code",
   "execution_count": 74,
   "metadata": {
    "slideshow": {
     "slide_type": "-"
    }
   },
   "outputs": [
    {
     "data": {
      "text/plain": [
       ":(=)"
      ]
     },
     "execution_count": 74,
     "metadata": {},
     "output_type": "execute_result"
    }
   ],
   "source": [
    "cmd.head"
   ]
  },
  {
   "cell_type": "code",
   "execution_count": 75,
   "metadata": {
    "slideshow": {
     "slide_type": "-"
    }
   },
   "outputs": [
    {
     "data": {
      "text/plain": [
       "2-element Array{Any,1}:\n",
       " :x               \n",
       " :(mean(rand(10)))"
      ]
     },
     "execution_count": 75,
     "metadata": {},
     "output_type": "execute_result"
    }
   ],
   "source": [
    "cmd.args"
   ]
  },
  {
   "cell_type": "markdown",
   "metadata": {
    "slideshow": {
     "slide_type": "slide"
    }
   },
   "source": [
    "## Example application: bootstrap macro"
   ]
  },
  {
   "cell_type": "markdown",
   "metadata": {
    "slideshow": {
     "slide_type": "-"
    }
   },
   "source": [
    "Using macros and other metaprogramming capabilities, some quite complicated applications can be implemented very concisely. As an example, we now want to implement a macro called *bootstrap*. For any given Julia function call that evaluates some statistics for some given data sample, the macro shall **re-calculate the same statistics for a given number of times with bootstrapped data**."
   ]
  },
  {
   "cell_type": "markdown",
   "metadata": {
    "slideshow": {
     "slide_type": "subslide"
    }
   },
   "source": [
    "To make the steps a little bit more obvious, let's see step by step, how a given command can be decomposed into the necessary parts."
   ]
  },
  {
   "cell_type": "code",
   "execution_count": 76,
   "metadata": {
    "slideshow": {
     "slide_type": "-"
    }
   },
   "outputs": [
    {
     "data": {
      "text/plain": [
       ":(mu = mean(x))"
      ]
     },
     "execution_count": 76,
     "metadata": {},
     "output_type": "execute_result"
    }
   ],
   "source": [
    "expr = :(mu = mean(x))"
   ]
  },
  {
   "cell_type": "markdown",
   "metadata": {
    "slideshow": {
     "slide_type": "-"
    }
   },
   "source": [
    "At the top level, the command is an assignment."
   ]
  },
  {
   "cell_type": "code",
   "execution_count": 77,
   "metadata": {
    "slideshow": {
     "slide_type": "-"
    }
   },
   "outputs": [
    {
     "data": {
      "text/plain": [
       ":(=)"
      ]
     },
     "execution_count": 77,
     "metadata": {},
     "output_type": "execute_result"
    }
   ],
   "source": [
    "expr.head"
   ]
  },
  {
   "cell_type": "markdown",
   "metadata": {
    "slideshow": {
     "slide_type": "subslide"
    }
   },
   "source": [
    "The left hand of the assignment can be accessed as follows:"
   ]
  },
  {
   "cell_type": "code",
   "execution_count": 78,
   "metadata": {
    "slideshow": {
     "slide_type": "-"
    }
   },
   "outputs": [
    {
     "data": {
      "text/plain": [
       ":mu"
      ]
     },
     "execution_count": 78,
     "metadata": {},
     "output_type": "execute_result"
    }
   ],
   "source": [
    "expr.args[1]"
   ]
  },
  {
   "cell_type": "markdown",
   "metadata": {
    "slideshow": {
     "slide_type": "-"
    }
   },
   "source": [
    "And the right hand is the complete function call:"
   ]
  },
  {
   "cell_type": "code",
   "execution_count": 79,
   "metadata": {
    "slideshow": {
     "slide_type": "-"
    }
   },
   "outputs": [
    {
     "data": {
      "text/plain": [
       ":(mean(x))"
      ]
     },
     "execution_count": 79,
     "metadata": {},
     "output_type": "execute_result"
    }
   ],
   "source": [
    "expr.args[2]"
   ]
  },
  {
   "cell_type": "markdown",
   "metadata": {
    "slideshow": {
     "slide_type": "subslide"
    }
   },
   "source": [
    "Again, this can be decomposed into the function that is called,"
   ]
  },
  {
   "cell_type": "code",
   "execution_count": 80,
   "metadata": {
    "slideshow": {
     "slide_type": "-"
    }
   },
   "outputs": [
    {
     "data": {
      "text/plain": [
       ":mean"
      ]
     },
     "execution_count": 80,
     "metadata": {},
     "output_type": "execute_result"
    }
   ],
   "source": [
    "expr.args[2].args[1]"
   ]
  },
  {
   "cell_type": "markdown",
   "metadata": {
    "slideshow": {
     "slide_type": "-"
    }
   },
   "source": [
    "and the name of the data variable that needs to be resampled:"
   ]
  },
  {
   "cell_type": "code",
   "execution_count": 81,
   "metadata": {
    "slideshow": {
     "slide_type": "-"
    }
   },
   "outputs": [
    {
     "data": {
      "text/plain": [
       ":x"
      ]
     },
     "execution_count": 81,
     "metadata": {},
     "output_type": "execute_result"
    }
   ],
   "source": [
    "expr.args[2].args[2]"
   ]
  },
  {
   "cell_type": "markdown",
   "metadata": {
    "slideshow": {
     "slide_type": "subslide"
    }
   },
   "source": [
    "Hence, we now could **isolate both the sample data and the function** that calculates the required statistics. We can then apply the same function to bootstrapped data samples."
   ]
  },
  {
   "cell_type": "code",
   "execution_count": 85,
   "metadata": {
    "slideshow": {
     "slide_type": "-"
    }
   },
   "outputs": [
    {
     "data": {
      "text/plain": [
       "@bootstrap (macro with 1 method)"
      ]
     },
     "execution_count": 85,
     "metadata": {},
     "output_type": "execute_result"
    }
   ],
   "source": [
    "macro bootstrap(nTimes, expr)\n",
    "    quote\n",
    "        # get real value\n",
    "        $(esc(expr))\n",
    "\n",
    "        # get function to resample\n",
    "        func = $(expr.args[2].args[1])\n",
    "\n",
    "        # get data as first argument to function\n",
    "        data = $(expr.args[2].args[2])\n",
    "        nObs = length(data)\n",
    "        bootstrVals = Array{Any}($nTimes)\n",
    "        for ii=1:$nTimes\n",
    "            sampInd = rand(1:nObs, nObs)\n",
    "            samp = data[sampInd]\n",
    "        \n",
    "            # apply function to sample\n",
    "            bootstrVals[ii] = func(samp)\n",
    "        end\n",
    "        res = bootstrVals\n",
    "    end\n",
    "end"
   ]
  },
  {
   "cell_type": "markdown",
   "metadata": {
    "slideshow": {
     "slide_type": "subslide"
    }
   },
   "source": [
    "As we can see, the bootstrap macro works:"
   ]
  },
  {
   "cell_type": "code",
   "execution_count": 86,
   "metadata": {
    "slideshow": {
     "slide_type": "-"
    }
   },
   "outputs": [
    {
     "data": {
      "text/plain": [
       "quote  # In[85], line 4:\n",
       "    mu = mean(x) # In[85], line 7:\n",
       "    #39#func = Main.mean # In[85], line 10:\n",
       "    #40#data = Main.x # In[85], line 11:\n",
       "    #41#nObs = (Main.length)(#40#data) # In[85], line 12:\n",
       "    #42#bootstrVals = (Main.Array){Main.Any}(1500000) # In[85], line 13:\n",
       "    for #43#ii = 1:1500000 # In[85], line 14:\n",
       "        #44#sampInd = (Main.rand)(1:#41#nObs, #41#nObs) # In[85], line 15:\n",
       "        #45#samp = #40#data[#44#sampInd] # In[85], line 18:\n",
       "        #42#bootstrVals[#43#ii] = #39#func(#45#samp)\n",
       "    end # In[85], line 20:\n",
       "    #46#res = #42#bootstrVals\n",
       "end"
      ]
     },
     "execution_count": 86,
     "metadata": {},
     "output_type": "execute_result"
    }
   ],
   "source": [
    "macroexpand(:(@bootstrap 1500000 mu = mean(x)))"
   ]
  },
  {
   "cell_type": "code",
   "execution_count": 87,
   "metadata": {
    "slideshow": {
     "slide_type": "subslide"
    }
   },
   "outputs": [
    {
     "data": {
      "text/plain": [
       "0.5305622191467243"
      ]
     },
     "execution_count": 87,
     "metadata": {},
     "output_type": "execute_result"
    }
   ],
   "source": [
    "x = rand(200)\n",
    "muBstr = @bootstrap 150000 mu = mean(x)\n",
    "mu"
   ]
  },
  {
   "cell_type": "code",
   "execution_count": 88,
   "metadata": {
    "slideshow": {
     "slide_type": "-"
    }
   },
   "outputs": [
    {
     "data": {
      "text/plain": [
       "150000-element Array{Any,1}:\n",
       " 0.525572\n",
       " 0.547802\n",
       " 0.515933\n",
       " 0.521008\n",
       " 0.50858 \n",
       " 0.531544\n",
       " 0.5242  \n",
       " 0.507545\n",
       " 0.547265\n",
       " 0.54494 \n",
       " 0.567858\n",
       " 0.543649\n",
       " 0.52002 \n",
       " ⋮       \n",
       " 0.536794\n",
       " 0.540942\n",
       " 0.520749\n",
       " 0.528848\n",
       " 0.509562\n",
       " 0.534216\n",
       " 0.526978\n",
       " 0.560414\n",
       " 0.501126\n",
       " 0.555698\n",
       " 0.527545\n",
       " 0.533505"
      ]
     },
     "execution_count": 88,
     "metadata": {},
     "output_type": "execute_result"
    }
   ],
   "source": [
    "muBstr"
   ]
  },
  {
   "cell_type": "markdown",
   "metadata": {
    "slideshow": {
     "slide_type": "subslide"
    }
   },
   "source": [
    "Although the bootstrap macro only allows functions with only one argument, its reach can easily be extended through the use of anonymous functions."
   ]
  },
  {
   "cell_type": "code",
   "execution_count": 89,
   "metadata": {
    "slideshow": {
     "slide_type": "-"
    }
   },
   "outputs": [
    {
     "data": {
      "text/plain": [
       "150-element Array{Any,1}:\n",
       " 0.97143 \n",
       " 0.945391\n",
       " 0.97152 \n",
       " 0.926676\n",
       " 0.973226\n",
       " 0.944375\n",
       " 0.939048\n",
       " 0.973614\n",
       " 0.945391\n",
       " 0.97152 \n",
       " 0.963657\n",
       " 0.947975\n",
       " 0.939048\n",
       " ⋮       \n",
       " 0.97143 \n",
       " 0.945479\n",
       " 0.947171\n",
       " 0.930107\n",
       " 0.947975\n",
       " 0.945156\n",
       " 0.945156\n",
       " 0.937759\n",
       " 0.947975\n",
       " 0.947149\n",
       " 0.945156\n",
       " 0.926102"
      ]
     },
     "execution_count": 89,
     "metadata": {},
     "output_type": "execute_result"
    }
   ],
   "source": [
    "varNineFive = x -> quantile(x, 0.95)\n",
    "VaR_btstr = @bootstrap 150 VaR = varNineFive(x)"
   ]
  },
  {
   "cell_type": "markdown",
   "metadata": {
    "slideshow": {
     "slide_type": "slide"
    }
   },
   "source": [
    "## Session info"
   ]
  },
  {
   "cell_type": "code",
   "execution_count": 90,
   "metadata": {
    "slideshow": {
     "slide_type": "subslide"
    }
   },
   "outputs": [
    {
     "name": "stdout",
     "output_type": "stream",
     "text": [
      "Julia Version 0.6.0\n",
      "Commit 9036443 (2017-06-19 13:05 UTC)\n",
      "Platform Info:\n",
      "  OS: Linux (x86_64-pc-linux-gnu)\n",
      "  CPU: Intel(R) Core(TM) i5-4210U CPU @ 1.70GHz\n",
      "  WORD_SIZE: 64\n",
      "  BLAS: libopenblas (USE64BITINT DYNAMIC_ARCH NO_AFFINITY Haswell)\n",
      "  LAPACK: libopenblas64_\n",
      "  LIBM: libopenlibm\n",
      "  LLVM: libLLVM-3.9.1 (ORCJIT, haswell)\n"
     ]
    }
   ],
   "source": [
    "versioninfo()"
   ]
  },
  {
   "cell_type": "code",
   "execution_count": 91,
   "metadata": {
    "slideshow": {
     "slide_type": "subslide"
    }
   },
   "outputs": [
    {
     "name": "stdout",
     "output_type": "stream",
     "text": [
      "173 required packages:\n",
      " - AbstractFFTs                  0.2.0\n",
      " - Atom                          0.6.1\n",
      " - AutoGrad                      0.0.7\n",
      " - AutoHashEquals                0.1.1\n",
      " - AxisAlgorithms                0.1.6\n",
      " - AxisArrays                    0.1.4\n",
      " - BenchmarkTools                0.0.8\n",
      " - BinDeps                       0.7.0\n",
      " - Blink                         0.5.3\n",
      " - Blosc                         0.3.0\n",
      " - BufferedStreams               0.3.3\n",
      " - BusinessDays                  0.7.1\n",
      " - CSV                           0.1.4\n",
      " - Calculus                      0.2.2\n",
      " - CatIndices                    0.0.2\n",
      " - CategoricalArrays             0.1.6\n",
      " - Clustering                    0.8.0\n",
      " - CodeTools                     0.4.6\n",
      " - Codecs                        0.3.0\n",
      " - ColorTypes                    0.5.2\n",
      " - ColorVectorSpace              0.4.4\n",
      " - Colors                        0.7.4\n",
      " - Combinatorics                 0.4.1\n",
      " - Compat                        0.28.0\n",
      " - Compose                       0.5.3\n",
      " - ComputationalResources        0.0.2\n",
      " - Conda                         0.5.3\n",
      " - Contour                       0.3.0\n",
      " - Convex                        0.5.0\n",
      " - CoordinateTransformations     0.4.1\n",
      " - CoupledFields                 0.0.1\n",
      " - CustomUnitRanges              0.0.4\n",
      " - DBAPI                         0.1.0\n",
      " - DSP                           0.3.2\n",
      " - Dagger                        0.2.0\n",
      " - DataArrays                    0.6.2\n",
      " - DataFrames                    0.10.0\n",
      " - DataStreams                   0.1.3\n",
      " - DataStructures                0.6.0\n",
      " - DataTables                    0.0.3\n",
      " - DecFP                         0.3.0\n",
      " - DecisionTree                  0.6.1\n",
      " - DiffBase                      0.2.0\n",
      " - Distances                     0.4.1\n",
      " - DistributedArrays             0.4.0\n",
      " - Distributions                 0.14.2\n",
      " - DualNumbers                   0.3.0\n",
      " - FFTViews                      0.0.2\n",
      " - FFTW                          0.0.3\n",
      " - FileIO                        0.5.1\n",
      " - FixedPointNumbers             0.3.9\n",
      " - Formatting                    0.2.1\n",
      " - ForwardDiff                   0.4.2\n",
      " - GLM                           0.7.0\n",
      " - GR                            0.22.0\n",
      " - GZip                          0.3.0\n",
      " - Gadfly                        0.6.3\n",
      " - Glob                          1.1.1\n",
      " - Graphics                      0.2.0\n",
      " - HDF5                          0.8.2\n",
      " - HTTPClient                    0.2.1\n",
      " - Hexagons                      0.1.0\n",
      " - Hiccup                        0.1.1\n",
      " - HttpCommon                    0.2.7\n",
      " - HttpParser                    0.3.0\n",
      " - HttpServer                    0.2.0\n",
      " - HypothesisTests               0.5.1\n",
      " - IJulia                        1.5.1\n",
      " - IdentityRanges                0.0.1\n",
      " - ImageAxes                     0.3.1\n",
      " - ImageCore                     0.4.0\n",
      " - ImageFiltering                0.1.4\n",
      " - ImageMetadata                 0.2.3\n",
      " - ImageTransformations          0.3.1\n",
      " - Images                        0.11.0\n",
      " - IndexedTables                 0.2.1\n",
      " - IndirectArrays                0.1.1\n",
      " - Interact                      0.4.5\n",
      " - Interpolations                0.6.2\n",
      " - IntervalSets                  0.1.1\n",
      " - IterTools                     0.1.0\n",
      " - Iterators                     0.3.1\n",
      " - JDBC                          0.2.0\n",
      " - JLD                           0.6.11\n",
      " - JSON                          0.13.0\n",
      " - JavaCall                      0.5.1\n",
      " - JuMP                          0.17.1\n",
      " - JuliaWebAPI                   0.3.1\n",
      " - Juno                          0.3.0\n",
      " - KernelDensity                 0.3.2\n",
      " - Knet                          0.8.3\n",
      " - LNR                           0.0.2\n",
      " - LaTeXStrings                  0.2.1\n",
      " - Lazy                          0.11.7\n",
      " - LegacyStrings                 0.2.2\n",
      " - Libz                          0.2.4\n",
      " - LightGraphs                   0.9.4\n",
      " - LightXML                      0.5.0\n",
      " - LineSearches                  0.1.5\n",
      " - Loess                         0.3.0\n",
      " - Logging                       0.3.1\n",
      " - MLBase                        0.7.0\n",
      " - MNIST                         0.0.2\n",
      " - MacroTools                    0.3.7\n",
      " - MappedArrays                  0.0.7\n",
      " - MathProgBase                  0.6.4\n",
      " - MbedTLS                       0.4.5\n",
      " - Measures                      0.1.0\n",
      " - Media                         0.3.0\n",
      " - Mustache                      0.1.4\n",
      " - Mux                           0.2.3\n",
      " - NaNMath                       0.2.6\n",
      " - NamedArrays                   0.6.1\n",
      " - NamedTuples                   4.0.0\n",
      " - NearestNeighbors              0.3.0\n",
      " - Nettle                        0.3.0\n",
      " - NullableArrays                0.1.1\n",
      " - ODBC                          0.5.2\n",
      " - OffsetArrays                  0.3.0\n",
      " - Optim                         0.7.8\n",
      " - PDMats                        0.7.0\n",
      " - PaddedViews                   0.1.0\n",
      " - Parameters                    0.7.2\n",
      " - ParserCombinator              1.7.11\n",
      " - PlotRecipes                   0.2.0\n",
      " - PlotlyJS                      0.6.4\n",
      " - Polynomials                   0.1.5\n",
      " - PooledArrays                  0.1.1\n",
      " - PositiveFactorizations        0.0.4\n",
      " - Primes                        0.1.3\n",
      " - ProtoBuf                      0.4.0\n",
      " - PyCall                        1.14.0\n",
      " - PyPlot                        2.3.2\n",
      " - QuadGK                        0.1.2\n",
      " - QuantEcon                     0.12.1\n",
      " - Query                         0.6.0\n",
      " - RCall                         0.7.3\n",
      " - RDatasets                     0.2.0\n",
      " - RangeArrays                   0.2.0\n",
      " - Ratios                        0.1.0\n",
      " - Reactive                      0.5.2\n",
      " - Reexport                      0.0.3\n",
      " - Requests                      0.5.0\n",
      " - Requires                      0.4.3\n",
      " - ReverseDiffSparse             0.7.3\n",
      " - Rmath                         0.1.7\n",
      " - Roots                         0.4.0\n",
      " - Rotations                     0.5.0\n",
      " - Rsvg                          0.1.0\n",
      " - SCS                           0.3.3\n",
      " - SHA                           0.3.3\n",
      " - SIUnits                       0.1.0\n",
      " - ScikitLearnBase               0.3.0\n",
      " - ShowItLikeYouBuildIt          0.0.1\n",
      " - Showoff                       0.1.1\n",
      " - SimpleTraits                  0.5.0\n",
      " - SortingAlgorithms             0.1.1\n",
      " - SpecialFunctions              0.2.0\n",
      " - StatPlots                     0.4.0\n",
      " - StaticArrays                  0.6.1\n",
      " - StatsBase                     0.17.0\n",
      " - StatsFuns                     0.5.0\n",
      " - TexExtensions                 0.1.0\n",
      " - TextParse                     0.1.6\n",
      " - TiledIteration                0.0.2\n",
      " - TimeSeries                    0.10.0\n",
      " - Tokenize                      0.1.8\n",
      " - URIParser                     0.1.8\n",
      " - UnicodePlots                  0.2.4\n",
      " - WeakRefStrings                0.2.0\n",
      " - WebSockets                    0.2.3\n",
      " - WoodburyMatrices              0.2.2\n",
      " - ZMQ                           0.4.3\n",
      "18 additional packages:\n",
      " - BaseTestNext                  0.2.2\n",
      " - Cairo                         0.3.0\n",
      " - DataValues                    0.1.1\n",
      " - DocStringExtensions           0.3.3\n",
      " - Documenter                    0.11.1\n",
      " - DynAssMgmt                    0.0.0-             master (unregistered)\n",
      " - EconDatasets                  0.0.2+             master\n",
      " - FixedSizeArrays               0.2.5\n",
      " - GeometryTypes                 0.4.1\n",
      " - Gtk                           0.13.0\n",
      " - IterableTables                0.4.1\n",
      " - LibCURL                       0.2.2\n",
      " - NetworkLayout                 0.0.1\n",
      " - PlotThemes                    0.1.4\n",
      " - PlotUtils                     0.4.2\n",
      " - Plots                         0.12.0\n",
      " - RData                         0.1.0\n",
      " - RecipesBase                   0.2.0\n"
     ]
    }
   ],
   "source": [
    "Pkg.status()"
   ]
  }
 ],
 "metadata": {
  "celltoolbar": "Slideshow",
  "kernelspec": {
   "display_name": "Julia 0.6.0",
   "language": "julia",
   "name": "julia-0.6"
  },
  "language": "Julia",
  "language_info": {
   "file_extension": ".jl",
   "mimetype": "application/julia",
   "name": "julia",
   "version": "0.6.0"
  }
 },
 "nbformat": 4,
 "nbformat_minor": 1
}
