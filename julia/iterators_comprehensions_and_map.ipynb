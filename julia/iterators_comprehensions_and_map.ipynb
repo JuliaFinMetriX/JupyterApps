{
 "cells": [
  {
   "cell_type": "markdown",
   "metadata": {
    "slideshow": {
     "slide_type": "slide"
    }
   },
   "source": [
    "# Comprehensions"
   ]
  },
  {
   "cell_type": "markdown",
   "metadata": {
    "slideshow": {
     "slide_type": "subslide"
    }
   },
   "source": [
    "- load required packages"
   ]
  },
  {
   "cell_type": "code",
   "execution_count": 1,
   "metadata": {
    "collapsed": true,
    "slideshow": {
     "slide_type": "-"
    }
   },
   "outputs": [],
   "source": [
    "using DataArrays\n",
    "using DataFrames\n",
    "using Base.Dates"
   ]
  },
  {
   "cell_type": "markdown",
   "metadata": {
    "slideshow": {
     "slide_type": "subslide"
    }
   },
   "source": [
    "- **comprehensions**: easy way to build `Arrays`"
   ]
  },
  {
   "cell_type": "code",
   "execution_count": 2,
   "metadata": {
    "slideshow": {
     "slide_type": "-"
    }
   },
   "outputs": [
    {
     "data": {
      "text/plain": [
       "4-element Array{Int64,1}:\n",
       " 1\n",
       " 2\n",
       " 3\n",
       " 4"
      ]
     },
     "execution_count": 2,
     "metadata": {},
     "output_type": "execute_result"
    }
   ],
   "source": [
    "[ii for ii=1:4]"
   ]
  },
  {
   "cell_type": "markdown",
   "metadata": {
    "slideshow": {
     "slide_type": "subslide"
    }
   },
   "source": [
    "- **forcing type** of individual entries through prepending type declaration"
   ]
  },
  {
   "cell_type": "code",
   "execution_count": 3,
   "metadata": {
    "slideshow": {
     "slide_type": "-"
    }
   },
   "outputs": [
    {
     "data": {
      "text/plain": [
       "4-element Array{Float64,1}:\n",
       " 1.0\n",
       " 2.0\n",
       " 3.0\n",
       " 4.0"
      ]
     },
     "execution_count": 3,
     "metadata": {},
     "output_type": "execute_result"
    }
   ],
   "source": [
    "Float64[ii for ii=1:4]"
   ]
  },
  {
   "cell_type": "markdown",
   "metadata": {
    "slideshow": {
     "slide_type": "subslide"
    }
   },
   "source": [
    "- similar logic: collect elements of **any type** in `Array` of type `Any`"
   ]
  },
  {
   "cell_type": "code",
   "execution_count": 4,
   "metadata": {
    "slideshow": {
     "slide_type": "-"
    }
   },
   "outputs": [
    {
     "data": {
      "text/plain": [
       "1×4 Array{Any,2}:\n",
       " \"Hello\"  3  4.0  NA"
      ]
     },
     "execution_count": 4,
     "metadata": {},
     "output_type": "execute_result"
    }
   ],
   "source": [
    "Any[\"Hello\" 3 4.0 NA]"
   ]
  },
  {
   "cell_type": "markdown",
   "metadata": {
    "slideshow": {
     "slide_type": "subslide"
    }
   },
   "source": [
    "- comprehensions also can be used to capture more complex iterated output\n",
    "- for example: **iteration over** **sample size** or **parameter values**"
   ]
  },
  {
   "cell_type": "code",
   "execution_count": 5,
   "metadata": {
    "slideshow": {
     "slide_type": "-"
    }
   },
   "outputs": [
    {
     "data": {
      "text/plain": [
       "2-element Array{Array{Float64,2},1}:\n",
       " [0.938897 0.565; 0.220571 0.595751]                                              \n",
       " [0.348172 0.223396; 0.719497 0.744549; … ; 0.561501 0.0500655; 0.914669 0.105726]"
      ]
     },
     "execution_count": 5,
     "metadata": {},
     "output_type": "execute_result"
    }
   ],
   "source": [
    "[rand(nObs, 2) for nObs in [2, 10]]"
   ]
  },
  {
   "cell_type": "markdown",
   "metadata": {
    "slideshow": {
     "slide_type": "subslide"
    }
   },
   "source": [
    "- using **single index** _ii_, it is **not** directly possible to get **`Array{T, 2}`** through comprehension"
   ]
  },
  {
   "cell_type": "code",
   "execution_count": 6,
   "metadata": {
    "slideshow": {
     "slide_type": "-"
    }
   },
   "outputs": [
    {
     "data": {
      "text/plain": [
       "4-element Array{Array{Int64,2},1}:\n",
       " [1 2]\n",
       " [1 2]\n",
       " [1 2]\n",
       " [1 2]"
      ]
     },
     "execution_count": 6,
     "metadata": {},
     "output_type": "execute_result"
    }
   ],
   "source": [
    "[[1 2] for ii=1:4]"
   ]
  },
  {
   "cell_type": "markdown",
   "metadata": {
    "slideshow": {
     "slide_type": "slide"
    }
   },
   "source": [
    "## Splicing"
   ]
  },
  {
   "cell_type": "markdown",
   "metadata": {
    "slideshow": {
     "slide_type": "subslide"
    }
   },
   "source": [
    "- **successively** returning components of collection\n",
    "- could be used to **paste** elements of a **collection into function** arguments\n",
    "- allows easy **creation** of **`Arrays`**"
   ]
  },
  {
   "cell_type": "markdown",
   "metadata": {
    "slideshow": {
     "slide_type": "subslide"
    }
   },
   "source": [
    "- applying **`[ ]`** to collection only captures whole collection as **single entry of** an **`Array`**"
   ]
  },
  {
   "cell_type": "code",
   "execution_count": 7,
   "metadata": {},
   "outputs": [
    {
     "data": {
      "text/plain": [
       "1-element Array{NTuple{4,Int64},1}:\n",
       " (1, 2, 3, 4)"
      ]
     },
     "execution_count": 7,
     "metadata": {},
     "output_type": "execute_result"
    }
   ],
   "source": [
    "kk = (1, 2, 3, 4)\n",
    "[kk]"
   ]
  },
  {
   "cell_type": "markdown",
   "metadata": {
    "slideshow": {
     "slide_type": "subslide"
    }
   },
   "source": [
    "- with **splicing**: **each element** of the collection gets its **own entry** within an **`Array`**"
   ]
  },
  {
   "cell_type": "code",
   "execution_count": 8,
   "metadata": {},
   "outputs": [
    {
     "data": {
      "text/plain": [
       "4-element Array{Int64,1}:\n",
       " 1\n",
       " 2\n",
       " 3\n",
       " 4"
      ]
     },
     "execution_count": 8,
     "metadata": {},
     "output_type": "execute_result"
    }
   ],
   "source": [
    "[kk...]"
   ]
  },
  {
   "cell_type": "markdown",
   "metadata": {
    "slideshow": {
     "slide_type": "subslide"
    }
   },
   "source": [
    "- works out of the box: even **for new types**"
   ]
  },
  {
   "cell_type": "code",
   "execution_count": 9,
   "metadata": {
    "collapsed": true
   },
   "outputs": [],
   "source": [
    "type foo\n",
    "    value\n",
    "end"
   ]
  },
  {
   "cell_type": "code",
   "execution_count": 10,
   "metadata": {
    "slideshow": {
     "slide_type": "fragment"
    }
   },
   "outputs": [
    {
     "data": {
      "text/plain": [
       "foo(3)"
      ]
     },
     "execution_count": 10,
     "metadata": {},
     "output_type": "execute_result"
    }
   ],
   "source": [
    "fooObj = foo(3)"
   ]
  },
  {
   "cell_type": "code",
   "execution_count": 11,
   "metadata": {
    "slideshow": {
     "slide_type": "fragment"
    }
   },
   "outputs": [
    {
     "data": {
      "text/plain": [
       "3-element Array{foo,1}:\n",
       " foo(3)\n",
       " foo(3)\n",
       " foo(3)"
      ]
     },
     "execution_count": 11,
     "metadata": {},
     "output_type": "execute_result"
    }
   ],
   "source": [
    "kk = (fooObj, fooObj, fooObj)\n",
    "[kk...]"
   ]
  },
  {
   "cell_type": "markdown",
   "metadata": {
    "slideshow": {
     "slide_type": "subslide"
    }
   },
   "source": [
    "- for some types, there might be **more meaningful ways** to vertically **store successive values** than inside of an `Array`\n",
    "- `vcat`: allows **combination** of objects in specified **structure**"
   ]
  },
  {
   "cell_type": "code",
   "execution_count": 12,
   "metadata": {},
   "outputs": [
    {
     "data": {
      "text/plain": [
       "2×2 Array{Int64,2}:\n",
       " 1  2\n",
       " 1  2"
      ]
     },
     "execution_count": 12,
     "metadata": {},
     "output_type": "execute_result"
    }
   ],
   "source": [
    "vcat([1 2], [1 2])"
   ]
  },
  {
   "cell_type": "markdown",
   "metadata": {
    "slideshow": {
     "slide_type": "subslide"
    }
   },
   "source": [
    "- `vcat` also works for **variable** number of **input arguments**:"
   ]
  },
  {
   "cell_type": "code",
   "execution_count": 13,
   "metadata": {},
   "outputs": [
    {
     "data": {
      "text/plain": [
       "([1 2], [3 4], [5 6])"
      ]
     },
     "execution_count": 13,
     "metadata": {},
     "output_type": "execute_result"
    }
   ],
   "source": [
    "kk = ([1 2], [3 4], [5 6])"
   ]
  },
  {
   "cell_type": "code",
   "execution_count": 14,
   "metadata": {
    "slideshow": {
     "slide_type": "-"
    }
   },
   "outputs": [
    {
     "data": {
      "text/plain": [
       "3×2 Array{Int64,2}:\n",
       " 1  2\n",
       " 3  4\n",
       " 5  6"
      ]
     },
     "execution_count": 14,
     "metadata": {},
     "output_type": "execute_result"
    }
   ],
   "source": [
    "vcat(kk[1], kk[2], kk[3])"
   ]
  },
  {
   "cell_type": "markdown",
   "metadata": {
    "slideshow": {
     "slide_type": "subslide"
    }
   },
   "source": [
    "- together with splicing, `vcat` conveniently **transforms tuple** of values **into** concise **`Array`**:"
   ]
  },
  {
   "cell_type": "code",
   "execution_count": 15,
   "metadata": {},
   "outputs": [
    {
     "data": {
      "text/plain": [
       "3×2 Array{Int64,2}:\n",
       " 1  2\n",
       " 3  4\n",
       " 5  6"
      ]
     },
     "execution_count": 15,
     "metadata": {},
     "output_type": "execute_result"
    }
   ],
   "source": [
    "vcat(kk...)"
   ]
  },
  {
   "cell_type": "code",
   "execution_count": 16,
   "metadata": {
    "slideshow": {
     "slide_type": "fragment"
    }
   },
   "outputs": [
    {
     "data": {
      "text/plain": [
       "4×2 Array{Int64,2}:\n",
       " 1  2\n",
       " 1  2\n",
       " 1  2\n",
       " 1  2"
      ]
     },
     "execution_count": 16,
     "metadata": {},
     "output_type": "execute_result"
    }
   ],
   "source": [
    "vcat([[1 2] for ii=1:4]...)"
   ]
  },
  {
   "cell_type": "markdown",
   "metadata": {
    "slideshow": {
     "slide_type": "subslide"
    }
   },
   "source": [
    "- **`[ ]`** applied to **spliced elements** does not implicitly **call `vcat`** anymore\n",
    "- applied to `Array{Int,2}`, this does not result in **two-dimensional Array**"
   ]
  },
  {
   "cell_type": "code",
   "execution_count": 17,
   "metadata": {},
   "outputs": [
    {
     "data": {
      "text/plain": [
       "4-element Array{Array{Int64,2},1}:\n",
       " [1 2]\n",
       " [1 2]\n",
       " [1 2]\n",
       " [1 2]"
      ]
     },
     "execution_count": 17,
     "metadata": {},
     "output_type": "execute_result"
    }
   ],
   "source": [
    "kk = [[1 2] for ii=1:4]\n",
    "[kk...]"
   ]
  },
  {
   "cell_type": "markdown",
   "metadata": {
    "slideshow": {
     "slide_type": "subslide"
    }
   },
   "source": [
    "- **alternatively**, two-dimensional result could be achieved **without splicing** through usage of **two index variables**"
   ]
  },
  {
   "cell_type": "code",
   "execution_count": 18,
   "metadata": {},
   "outputs": [
    {
     "data": {
      "text/plain": [
       "4×2 Array{Int64,2}:\n",
       " 1  2\n",
       " 1  2\n",
       " 1  2\n",
       " 1  2"
      ]
     },
     "execution_count": 18,
     "metadata": {},
     "output_type": "execute_result"
    }
   ],
   "source": [
    "[jj for ii=1:4, jj=1:2]"
   ]
  },
  {
   "cell_type": "markdown",
   "metadata": {
    "slideshow": {
     "slide_type": "subslide"
    }
   },
   "source": [
    "- in general, **splicing and `vcat`** work for **data structures different to `Array`** \n",
    "- for **example**, application of splicing and comprehension to **`DataFrames`** will return a `DataFrame` again"
   ]
  },
  {
   "cell_type": "code",
   "execution_count": 19,
   "metadata": {
    "slideshow": {
     "slide_type": "-"
    }
   },
   "outputs": [
    {
     "data": {
      "text/html": [
       "<table class=\"data-frame\"><thead><tr><th></th><th>a</th><th>b</th></tr></thead><tbody><tr><th>1</th><td>5</td><td>8</td></tr><tr><th>2</th><td>6</td><td>NA</td></tr><tr><th>3</th><td>NA</td><td>NA</td></tr><tr><th>4</th><td>5</td><td>8</td></tr><tr><th>5</th><td>6</td><td>NA</td></tr><tr><th>6</th><td>NA</td><td>NA</td></tr></tbody></table>"
      ],
      "text/plain": [
       "6×2 DataFrames.DataFrame\n",
       "│ Row │ a  │ b  │\n",
       "├─────┼────┼────┤\n",
       "│ 1   │ 5  │ 8  │\n",
       "│ 2   │ 6  │ NA │\n",
       "│ 3   │ NA │ NA │\n",
       "│ 4   │ 5  │ 8  │\n",
       "│ 5   │ 6  │ NA │\n",
       "│ 6   │ NA │ NA │"
      ]
     },
     "execution_count": 19,
     "metadata": {},
     "output_type": "execute_result"
    }
   ],
   "source": [
    "df = DataFrame()\n",
    "df[:a] = @data([5, 6, NA])\n",
    "df[:b] = @data([8, NA, NA])\n",
    "\n",
    "kk = (df, df)\n",
    "xx = vcat(kk...)"
   ]
  },
  {
   "cell_type": "code",
   "execution_count": 20,
   "metadata": {
    "slideshow": {
     "slide_type": "fragment"
    }
   },
   "outputs": [
    {
     "data": {
      "text/plain": [
       "DataFrames.DataFrame"
      ]
     },
     "execution_count": 20,
     "metadata": {},
     "output_type": "execute_result"
    }
   ],
   "source": [
    "typeof(xx)"
   ]
  },
  {
   "cell_type": "markdown",
   "metadata": {
    "slideshow": {
     "slide_type": "slide"
    }
   },
   "source": [
    "# Iterators"
   ]
  },
  {
   "cell_type": "markdown",
   "metadata": {
    "slideshow": {
     "slide_type": "subslide"
    }
   },
   "source": [
    "under the hood, comprehensions make use of iterators:"
   ]
  },
  {
   "cell_type": "markdown",
   "metadata": {},
   "source": [
    "- iterators **successively return** values from a **collection**\n",
    "- iterators can be **specified for each type**"
   ]
  },
  {
   "cell_type": "markdown",
   "metadata": {
    "slideshow": {
     "slide_type": "subslide"
    }
   },
   "source": [
    "- for example: **column iterator of `DataFrames`**, which returns a tuple with column name and values given as `DataArray` for each column"
   ]
  },
  {
   "cell_type": "code",
   "execution_count": 21,
   "metadata": {},
   "outputs": [
    {
     "data": {
      "text/plain": [
       "2-element Array{Tuple{Symbol,DataArrays.DataArray{Int64,1}},1}:\n",
       " (:a, [5, 6, NA]) \n",
       " (:b, [8, NA, NA])"
      ]
     },
     "execution_count": 21,
     "metadata": {},
     "output_type": "execute_result"
    }
   ],
   "source": [
    "df = DataFrame()\n",
    "df[:a] = @data([5, 6, NA])\n",
    "df[:b] = @data([8, NA, NA])\n",
    "\n",
    "[col for col in eachcol(df)]"
   ]
  },
  {
   "cell_type": "markdown",
   "metadata": {
    "slideshow": {
     "slide_type": "subslide"
    }
   },
   "source": [
    "- **`DataFrame` iterator** returns tuple, so that **values only** (without column name) are obtained **through indexing**"
   ]
  },
  {
   "cell_type": "code",
   "execution_count": 22,
   "metadata": {},
   "outputs": [
    {
     "data": {
      "text/plain": [
       "2-element Array{DataArrays.DataArray{Int64,1},1}:\n",
       " [5, 6, NA] \n",
       " [8, NA, NA]"
      ]
     },
     "execution_count": 22,
     "metadata": {},
     "output_type": "execute_result"
    }
   ],
   "source": [
    "[col[2] for col in eachcol(df)]"
   ]
  },
  {
   "cell_type": "markdown",
   "metadata": {
    "slideshow": {
     "slide_type": "subslide"
    }
   },
   "source": [
    "two **applications of iterators** come to mind immediately:"
   ]
  },
  {
   "cell_type": "markdown",
   "metadata": {
    "slideshow": {
     "slide_type": "-"
    }
   },
   "source": [
    "- iteratively manipulating entries of a type\n",
    "- building a new object by iteratively using an existing object"
   ]
  },
  {
   "cell_type": "markdown",
   "metadata": {
    "slideshow": {
     "slide_type": "slide"
    }
   },
   "source": [
    "## Iteratively manipulating entries"
   ]
  },
  {
   "cell_type": "markdown",
   "metadata": {
    "slideshow": {
     "slide_type": "subslide"
    }
   },
   "source": [
    "example: **iteratively manipulating columns of `DataFrame`**"
   ]
  },
  {
   "cell_type": "markdown",
   "metadata": {},
   "source": [
    "- as seen above, values need to be referenced within column iterator tuple with subindex 2\n",
    "- **setting first entry of each column to 10**:"
   ]
  },
  {
   "cell_type": "code",
   "execution_count": 23,
   "metadata": {},
   "outputs": [
    {
     "data": {
      "text/html": [
       "<table class=\"data-frame\"><thead><tr><th></th><th>a</th><th>b</th></tr></thead><tbody><tr><th>1</th><td>10</td><td>10</td></tr><tr><th>2</th><td>6</td><td>NA</td></tr><tr><th>3</th><td>NA</td><td>NA</td></tr></tbody></table>"
      ],
      "text/plain": [
       "3×2 DataFrames.DataFrame\n",
       "│ Row │ a  │ b  │\n",
       "├─────┼────┼────┤\n",
       "│ 1   │ 10 │ 10 │\n",
       "│ 2   │ 6  │ NA │\n",
       "│ 3   │ NA │ NA │"
      ]
     },
     "execution_count": 23,
     "metadata": {},
     "output_type": "execute_result"
    }
   ],
   "source": [
    "for col in eachcol(df)\n",
    "    col[2][1] = 10\n",
    "end\n",
    "df"
   ]
  },
  {
   "cell_type": "markdown",
   "metadata": {
    "slideshow": {
     "slide_type": "subslide"
    }
   },
   "source": [
    "- let's try **multiplying each column by 10**:"
   ]
  },
  {
   "cell_type": "code",
   "execution_count": 24,
   "metadata": {},
   "outputs": [
    {
     "name": "stdout",
     "output_type": "stream",
     "text": [
      "MethodError(setindex!, ((:a, [10, 6, NA]), [100, 60, NA], 2), 0x0000000000005549)"
     ]
    }
   ],
   "source": [
    "try\n",
    "    for col in eachcol(df)\n",
    "        col[2] = col[2].*10\n",
    "    end\n",
    "catch e\n",
    "    show(e)\n",
    "end"
   ]
  },
  {
   "cell_type": "markdown",
   "metadata": {
    "slideshow": {
     "slide_type": "subslide"
    }
   },
   "source": [
    "- the **correct way** is:"
   ]
  },
  {
   "cell_type": "code",
   "execution_count": 25,
   "metadata": {},
   "outputs": [
    {
     "data": {
      "text/html": [
       "<table class=\"data-frame\"><thead><tr><th></th><th>a</th><th>b</th></tr></thead><tbody><tr><th>1</th><td>100</td><td>100</td></tr><tr><th>2</th><td>60</td><td>NA</td></tr><tr><th>3</th><td>NA</td><td>NA</td></tr></tbody></table>"
      ],
      "text/plain": [
       "3×2 DataFrames.DataFrame\n",
       "│ Row │ a   │ b   │\n",
       "├─────┼─────┼─────┤\n",
       "│ 1   │ 100 │ 100 │\n",
       "│ 2   │ 60  │ NA  │\n",
       "│ 3   │ NA  │ NA  │"
      ]
     },
     "execution_count": 25,
     "metadata": {},
     "output_type": "execute_result"
    }
   ],
   "source": [
    "for col in eachcol(df)\n",
    "    col[2][:] = col[2].*10\n",
    "end\n",
    "df"
   ]
  },
  {
   "cell_type": "markdown",
   "metadata": {
    "slideshow": {
     "slide_type": "subslide"
    }
   },
   "source": [
    "- applying a similar logic for the **manipulation of** entries of an **`Array{Int, 1}` fails**:"
   ]
  },
  {
   "cell_type": "code",
   "execution_count": 26,
   "metadata": {},
   "outputs": [
    {
     "name": "stdout",
     "output_type": "stream",
     "text": [
      "MethodError(setindex!, (1, 5, 1), 0x000000000000554a)"
     ]
    },
    {
     "data": {
      "text/plain": [
       "4-element Array{Int64,1}:\n",
       " 1\n",
       " 2\n",
       " 3\n",
       " 4"
      ]
     },
     "execution_count": 26,
     "metadata": {},
     "output_type": "execute_result"
    }
   ],
   "source": [
    "kk = [1, 2, 3, 4]\n",
    "try\n",
    "    for entry in kk\n",
    "        entry[1] = entry[1]*5\n",
    "    end\n",
    "catch e\n",
    "    show(e)\n",
    "end\n",
    "kk"
   ]
  },
  {
   "cell_type": "markdown",
   "metadata": {
    "slideshow": {
     "slide_type": "slide"
    }
   },
   "source": [
    "## Creating new objects by iteratively manipulating existing objects"
   ]
  },
  {
   "cell_type": "markdown",
   "metadata": {
    "slideshow": {
     "slide_type": "subslide"
    }
   },
   "source": [
    "- iterator protocols make **recursive data manipulation** easy\n",
    "- combined **with comprehension**, this allows for **easy creation of new objects**\n",
    "- for **example**: creating `Array` of squared entries"
   ]
  },
  {
   "cell_type": "code",
   "execution_count": 27,
   "metadata": {},
   "outputs": [
    {
     "data": {
      "text/plain": [
       "1×4 Array{Int64,2}:\n",
       " 1  4  9  16"
      ]
     },
     "execution_count": 27,
     "metadata": {},
     "output_type": "execute_result"
    }
   ],
   "source": [
    "kk = [1 2 3 4]\n",
    "kk2 = [ii.^2 for ii in kk]"
   ]
  },
  {
   "cell_type": "markdown",
   "metadata": {
    "slideshow": {
     "slide_type": "subslide"
    }
   },
   "source": [
    "- again, there might be **more meaningful ways** to combine the individual parts than an **`Array`** as we get it from comprehension"
   ]
  },
  {
   "cell_type": "code",
   "execution_count": 28,
   "metadata": {},
   "outputs": [
    {
     "data": {
      "text/html": [
       "<table class=\"data-frame\"><thead><tr><th></th><th>a</th><th>b</th></tr></thead><tbody><tr><th>1</th><td>5</td><td>8</td></tr><tr><th>2</th><td>6</td><td>NA</td></tr><tr><th>3</th><td>NA</td><td>NA</td></tr></tbody></table>"
      ],
      "text/plain": [
       "3×2 DataFrames.DataFrame\n",
       "│ Row │ a  │ b  │\n",
       "├─────┼────┼────┤\n",
       "│ 1   │ 5  │ 8  │\n",
       "│ 2   │ 6  │ NA │\n",
       "│ 3   │ NA │ NA │"
      ]
     },
     "execution_count": 28,
     "metadata": {},
     "output_type": "execute_result"
    }
   ],
   "source": [
    "df = DataFrame()\n",
    "df[:a] = @data([5, 6, NA])\n",
    "df[:b] = @data([8, NA, NA])\n",
    "df\n"
   ]
  },
  {
   "cell_type": "code",
   "execution_count": 29,
   "metadata": {
    "slideshow": {
     "slide_type": "subslide"
    }
   },
   "outputs": [
    {
     "data": {
      "text/plain": [
       "2-element Array{DataArrays.DataArray{Int64,1},1}:\n",
       " [10, 12, NA]\n",
       " [16, NA, NA]"
      ]
     },
     "execution_count": 29,
     "metadata": {},
     "output_type": "execute_result"
    }
   ],
   "source": [
    "kk = [col[2].*2 for col in eachcol(df)]"
   ]
  },
  {
   "cell_type": "markdown",
   "metadata": {
    "slideshow": {
     "slide_type": "subslide"
    }
   },
   "source": [
    "- as we **iterate over columns**, results should be **combined horizontally**\n",
    "- simple **splicing** is not sufficient here, as it **uses `vcat`**"
   ]
  },
  {
   "cell_type": "markdown",
   "metadata": {
    "slideshow": {
     "slide_type": "subslide"
    }
   },
   "source": [
    "- we need **`hcat` instead**:"
   ]
  },
  {
   "cell_type": "code",
   "execution_count": 30,
   "metadata": {},
   "outputs": [
    {
     "data": {
      "text/plain": [
       "3×2 DataArrays.DataArray{Int64,2}:\n",
       " 10    16  \n",
       " 12      NA\n",
       "   NA    NA"
      ]
     },
     "execution_count": 30,
     "metadata": {},
     "output_type": "execute_result"
    }
   ],
   "source": [
    "hcat([col[2].*2 for col in eachcol(df)]...)"
   ]
  },
  {
   "cell_type": "markdown",
   "metadata": {
    "slideshow": {
     "slide_type": "fragment"
    }
   },
   "source": [
    "- instead of manually combining manipulated values from an iterator each time, we also could define a **default data structure returned** through function **`map`**"
   ]
  },
  {
   "cell_type": "markdown",
   "metadata": {
    "slideshow": {
     "slide_type": "slide"
    }
   },
   "source": [
    "## Map"
   ]
  },
  {
   "cell_type": "markdown",
   "metadata": {
    "slideshow": {
     "slide_type": "subslide"
    }
   },
   "source": [
    "- through **multiple dispatch**, the **output** of `map` can be **customized to the iterator type** used\n",
    "- for example: **multiplication of each `DataFrame` column** could be done **in two different ways**\n",
    "- **first way**: **iterating over** entries of an **`Array`** (which contains the column names) will return an `Array`"
   ]
  },
  {
   "cell_type": "code",
   "execution_count": 31,
   "metadata": {},
   "outputs": [
    {
     "data": {
      "text/plain": [
       "2-element Array{DataArrays.DataArray{Int64,1},1}:\n",
       " [2, 4, 6]  \n",
       " [8, 10, 12]"
      ]
     },
     "execution_count": 31,
     "metadata": {},
     "output_type": "execute_result"
    }
   ],
   "source": [
    "df = DataFrame(a = [1, 2, 3], b = [4, 5, 6])\n",
    "map(nam -> df[nam].*2, names(df))"
   ]
  },
  {
   "cell_type": "markdown",
   "metadata": {
    "slideshow": {
     "slide_type": "subslide"
    }
   },
   "source": [
    "- **second way**: using method `map` for **`DataFrame` column iterator**"
   ]
  },
  {
   "cell_type": "code",
   "execution_count": 32,
   "metadata": {},
   "outputs": [
    {
     "data": {
      "text/html": [
       "<table class=\"data-frame\"><thead><tr><th></th><th>a</th><th>b</th></tr></thead><tbody><tr><th>1</th><td>2</td><td>8</td></tr><tr><th>2</th><td>4</td><td>10</td></tr><tr><th>3</th><td>6</td><td>12</td></tr></tbody></table>"
      ],
      "text/plain": [
       "3×2 DataFrames.DataFrame\n",
       "│ Row │ a │ b  │\n",
       "├─────┼───┼────┤\n",
       "│ 1   │ 2 │ 8  │\n",
       "│ 2   │ 4 │ 10 │\n",
       "│ 3   │ 6 │ 12 │"
      ]
     },
     "execution_count": 32,
     "metadata": {},
     "output_type": "execute_result"
    }
   ],
   "source": [
    "df2 = map(col -> col.*2, eachcol(df))\n",
    "df2"
   ]
  },
  {
   "cell_type": "markdown",
   "metadata": {
    "slideshow": {
     "slide_type": "subslide"
    }
   },
   "source": [
    "- `map` can also be defined for **two collections**"
   ]
  },
  {
   "cell_type": "code",
   "execution_count": 33,
   "metadata": {},
   "outputs": [
    {
     "data": {
      "text/plain": [
       "1×2 Array{Int64,2}:\n",
       " 50  21"
      ]
     },
     "execution_count": 33,
     "metadata": {},
     "output_type": "execute_result"
    }
   ],
   "source": [
    "vals1 = [10 20]\n",
    "vals2 = [40 1]\n",
    "map(+, vals1, vals2)"
   ]
  },
  {
   "cell_type": "markdown",
   "metadata": {
    "slideshow": {
     "slide_type": "slide"
    }
   },
   "source": [
    "## Reduce"
   ]
  },
  {
   "cell_type": "markdown",
   "metadata": {
    "slideshow": {
     "slide_type": "subslide"
    }
   },
   "source": [
    "- using function `reduce` **individual components** of a collection can be **aggregated**\n",
    "- through multiple dispatch, `reduce` can have **different implementations** for each **type**\n",
    "- **using `map` and `reduce`** together, individual entries of iterable collections can be **manipulated and aggregated** to a single result "
   ]
  },
  {
   "cell_type": "markdown",
   "metadata": {},
   "source": [
    "**example**: calculating **row means**"
   ]
  },
  {
   "cell_type": "code",
   "execution_count": 34,
   "metadata": {},
   "outputs": [
    {
     "data": {
      "text/html": [
       "<table class=\"data-frame\"><thead><tr><th></th><th>a</th><th>b</th></tr></thead><tbody><tr><th>1</th><td>1</td><td>4</td></tr><tr><th>2</th><td>2</td><td>5</td></tr><tr><th>3</th><td>3</td><td>6</td></tr></tbody></table>"
      ],
      "text/plain": [
       "3×2 DataFrames.DataFrame\n",
       "│ Row │ a │ b │\n",
       "├─────┼───┼───┤\n",
       "│ 1   │ 1 │ 4 │\n",
       "│ 2   │ 2 │ 5 │\n",
       "│ 3   │ 3 │ 6 │"
      ]
     },
     "execution_count": 34,
     "metadata": {},
     "output_type": "execute_result"
    }
   ],
   "source": [
    "df"
   ]
  },
  {
   "cell_type": "code",
   "execution_count": 35,
   "metadata": {
    "slideshow": {
     "slide_type": "-"
    }
   },
   "outputs": [
    {
     "data": {
      "text/plain": [
       "3-element DataArrays.DataArray{Float64,1}:\n",
       " 2.5\n",
       " 3.5\n",
       " 4.5"
      ]
     },
     "execution_count": 35,
     "metadata": {},
     "output_type": "execute_result"
    }
   ],
   "source": [
    "meanDf = reduce((x,y) -> (x[2].+y[2])./size(df, 2), eachcol(df))"
   ]
  },
  {
   "cell_type": "markdown",
   "metadata": {
    "slideshow": {
     "slide_type": "subslide"
    }
   },
   "source": [
    "**example**: calculating **row sum with weighted columns**"
   ]
  },
  {
   "cell_type": "markdown",
   "metadata": {},
   "source": [
    "- using **`map`** to calculate **weighted columns**\n",
    "- using **`reduce`** to **sum up** individual weighted columns"
   ]
  },
  {
   "cell_type": "code",
   "execution_count": 36,
   "metadata": {
    "slideshow": {
     "slide_type": "-"
    }
   },
   "outputs": [
    {
     "data": {
      "text/html": [
       "<table class=\"data-frame\"><thead><tr><th></th><th>a</th><th>b</th><th>c</th></tr></thead><tbody><tr><th>1</th><td>1</td><td>4</td><td>2</td></tr><tr><th>2</th><td>2</td><td>5</td><td>4</td></tr><tr><th>3</th><td>3</td><td>6</td><td>8</td></tr><tr><th>4</th><td>4</td><td>7</td><td>10</td></tr></tbody></table>"
      ],
      "text/plain": [
       "4×3 DataFrames.DataFrame\n",
       "│ Row │ a │ b │ c  │\n",
       "├─────┼───┼───┼────┤\n",
       "│ 1   │ 1 │ 4 │ 2  │\n",
       "│ 2   │ 2 │ 5 │ 4  │\n",
       "│ 3   │ 3 │ 6 │ 8  │\n",
       "│ 4   │ 4 │ 7 │ 10 │"
      ]
     },
     "execution_count": 36,
     "metadata": {},
     "output_type": "execute_result"
    }
   ],
   "source": [
    "df = DataFrame(a = [1, 2, 3, 4], b = [4, 5, 6, 7], c = [2, 4, 8, 10])"
   ]
  },
  {
   "cell_type": "markdown",
   "metadata": {
    "slideshow": {
     "slide_type": "subslide"
    }
   },
   "source": [
    "- getting weighted columns:"
   ]
  },
  {
   "cell_type": "code",
   "execution_count": 37,
   "metadata": {
    "slideshow": {
     "slide_type": "-"
    }
   },
   "outputs": [
    {
     "data": {
      "text/plain": [
       "3-element Array{DataArrays.DataArray{Float64,1},1}:\n",
       " [0.4, 0.8, 1.2, 1.6]\n",
       " [0.8, 1.0, 1.2, 1.4]\n",
       " [0.8, 1.6, 3.2, 4.0]"
      ]
     },
     "execution_count": 37,
     "metadata": {},
     "output_type": "execute_result"
    }
   ],
   "source": [
    "wgts = [0.4 0.2 0.4]\n",
    "kk = map((x, y) -> x.*y[2], wgts, eachcol(df))"
   ]
  },
  {
   "cell_type": "code",
   "execution_count": 38,
   "metadata": {
    "slideshow": {
     "slide_type": "-"
    }
   },
   "outputs": [
    {
     "data": {
      "text/plain": [
       "4-element Array{Float64,1}:\n",
       " 0.4\n",
       " 0.8\n",
       " 1.2\n",
       " 1.6"
      ]
     },
     "execution_count": 38,
     "metadata": {},
     "output_type": "execute_result"
    }
   ],
   "source": [
    "wgts[1] * [1, 2, 3, 4]"
   ]
  },
  {
   "cell_type": "markdown",
   "metadata": {
    "slideshow": {
     "slide_type": "subslide"
    }
   },
   "source": [
    "- aggregation with `reduce`"
   ]
  },
  {
   "cell_type": "code",
   "execution_count": 39,
   "metadata": {
    "slideshow": {
     "slide_type": "-"
    }
   },
   "outputs": [
    {
     "data": {
      "text/plain": [
       "4-element DataArrays.DataArray{Float64,1}:\n",
       " 2.0\n",
       " 3.4\n",
       " 5.6\n",
       " 7.0"
      ]
     },
     "execution_count": 39,
     "metadata": {},
     "output_type": "execute_result"
    }
   ],
   "source": [
    "reduce((x, y) -> (x .+ y), map((x, y) -> x.*y[2], wgts, eachcol(df)))"
   ]
  },
  {
   "cell_type": "markdown",
   "metadata": {
    "slideshow": {
     "slide_type": "slide"
    }
   },
   "source": [
    "## Session info"
   ]
  },
  {
   "cell_type": "code",
   "execution_count": 40,
   "metadata": {
    "slideshow": {
     "slide_type": "subslide"
    }
   },
   "outputs": [
    {
     "name": "stdout",
     "output_type": "stream",
     "text": [
      "Julia Version 0.6.0\n",
      "Commit 9036443 (2017-06-19 13:05 UTC)\n",
      "Platform Info:\n",
      "  OS: Linux (x86_64-pc-linux-gnu)\n",
      "  CPU: Intel(R) Core(TM) i5-6200U CPU @ 2.30GHz\n",
      "  WORD_SIZE: 64\n",
      "  BLAS: libopenblas (USE64BITINT DYNAMIC_ARCH NO_AFFINITY Haswell)\n",
      "  LAPACK: libopenblas64_\n",
      "  LIBM: libopenlibm\n",
      "  LLVM: libLLVM-3.9.1 (ORCJIT, skylake)\n"
     ]
    }
   ],
   "source": [
    "versioninfo()"
   ]
  },
  {
   "cell_type": "code",
   "execution_count": 41,
   "metadata": {
    "slideshow": {
     "slide_type": "subslide"
    }
   },
   "outputs": [
    {
     "name": "stdout",
     "output_type": "stream",
     "text": [
      "172 required packages:\n",
      " - AbstractFFTs                  0.2.0\n",
      " - Atom                          0.6.1\n",
      " - AutoGrad                      0.0.7\n",
      " - AutoHashEquals                0.1.1\n",
      " - AxisAlgorithms                0.1.6\n",
      " - AxisArrays                    0.1.4\n",
      " - BenchmarkTools                0.0.8\n",
      " - Blink                         0.5.3\n",
      " - Blosc                         0.3.0\n",
      " - BufferedStreams               0.3.3\n",
      " - BusinessDays                  0.7.1\n",
      " - CSV                           0.1.4\n",
      " - Calculus                      0.2.2\n",
      " - CatIndices                    0.0.2\n",
      " - CategoricalArrays             0.1.6\n",
      " - Clustering                    0.8.0\n",
      " - CodeTools                     0.4.6\n",
      " - Codecs                        0.3.0\n",
      " - ColorTypes                    0.5.2\n",
      " - ColorVectorSpace              0.4.4\n",
      " - Colors                        0.7.4\n",
      " - Combinatorics                 0.4.1\n",
      " - Compat                        0.28.0\n",
      " - Compose                       0.5.3\n",
      " - ComputationalResources        0.0.2\n",
      " - Conda                         0.5.3\n",
      " - Contour                       0.3.0\n",
      " - Convex                        0.5.0\n",
      " - CoordinateTransformations     0.4.1\n",
      " - CoupledFields                 0.0.1\n",
      " - CustomUnitRanges              0.0.4\n",
      " - DBAPI                         0.1.0\n",
      " - DSP                           0.3.2\n",
      " - Dagger                        0.2.0\n",
      " - DataArrays                    0.6.2\n",
      " - DataFrames                    0.10.0\n",
      " - DataStreams                   0.1.3\n",
      " - DataStructures                0.6.0\n",
      " - DecFP                         0.3.0\n",
      " - DecisionTree                  0.6.1\n",
      " - DiffBase                      0.2.0\n",
      " - Distances                     0.4.1\n",
      " - DistributedArrays             0.4.0\n",
      " - Distributions                 0.14.2\n",
      " - DualNumbers                   0.3.0\n",
      " - FFTViews                      0.0.2\n",
      " - FFTW                          0.0.3\n",
      " - FileIO                        0.5.1\n",
      " - FixedPointNumbers             0.3.9\n",
      " - Formatting                    0.2.1\n",
      " - ForwardDiff                   0.4.2\n",
      " - GLM                           0.7.0\n",
      " - GR                            0.23.0\n",
      " - GZip                          0.3.0\n",
      " - Gadfly                        0.6.3\n",
      " - Glob                          1.1.1\n",
      " - Graphics                      0.2.0\n",
      " - HDF5                          0.8.2\n",
      " - HTTPClient                    0.2.1\n",
      " - Hexagons                      0.1.0\n",
      " - Hiccup                        0.1.1\n",
      " - HttpCommon                    0.2.7\n",
      " - HttpParser                    0.3.0\n",
      " - HttpServer                    0.2.0\n",
      " - HypothesisTests               0.5.1\n",
      " - IJulia                        1.5.1\n",
      " - IdentityRanges                0.0.1\n",
      " - ImageAxes                     0.3.1\n",
      " - ImageCore                     0.4.0\n",
      " - ImageFiltering                0.1.4\n",
      " - ImageMetadata                 0.2.3\n",
      " - ImageTransformations          0.3.1\n",
      " - Images                        0.11.0\n",
      " - IndexedTables                 0.2.1\n",
      " - IndirectArrays                0.1.1\n",
      " - Interact                      0.4.5\n",
      " - Interpolations                0.6.2\n",
      " - IntervalSets                  0.1.1\n",
      " - IterTools                     0.1.0\n",
      " - Iterators                     0.3.1\n",
      " - JDBC                          0.2.0\n",
      " - JLD                           0.6.11\n",
      " - JSON                          0.13.0\n",
      " - JavaCall                      0.5.1\n",
      " - JuMP                          0.17.1\n",
      " - JuliaWebAPI                   0.3.1\n",
      " - Juno                          0.3.0\n",
      " - KernelDensity                 0.3.2\n",
      " - Knet                          0.8.3\n",
      " - LNR                           0.0.2\n",
      " - LaTeXStrings                  0.2.1\n",
      " - Lazy                          0.11.7\n",
      " - LegacyStrings                 0.2.2\n",
      " - Libz                          0.2.4\n",
      " - LightGraphs                   0.9.4\n",
      " - LightXML                      0.5.0\n",
      " - LineSearches                  0.1.5\n",
      " - Loess                         0.3.0\n",
      " - Logging                       0.3.1\n",
      " - MLBase                        0.7.0\n",
      " - MNIST                         0.0.2\n",
      " - MacroTools                    0.3.7\n",
      " - MappedArrays                  0.0.7\n",
      " - MathProgBase                  0.6.4\n",
      " - MbedTLS                       0.4.5\n",
      " - Measures                      0.1.0\n",
      " - Media                         0.3.0\n",
      " - Mustache                      0.1.4\n",
      " - Mux                           0.2.3\n",
      " - NaNMath                       0.2.6\n",
      " - NamedArrays                   0.6.1\n",
      " - NamedTuples                   4.0.0\n",
      " - NearestNeighbors              0.3.0\n",
      " - Nettle                        0.3.0\n",
      " - NullableArrays                0.1.1\n",
      " - ODBC                          0.5.2\n",
      " - OffsetArrays                  0.3.0\n",
      " - Optim                         0.7.8\n",
      " - PDMats                        0.7.0\n",
      " - PaddedViews                   0.1.0\n",
      " - Parameters                    0.7.2\n",
      " - ParserCombinator              1.7.11\n",
      " - PlotRecipes                   0.2.0\n",
      " - PlotlyJS                      0.6.4\n",
      " - Plots                         0.12.3+            master\n",
      " - Polynomials                   0.1.5\n",
      " - PooledArrays                  0.1.1\n",
      " - PositiveFactorizations        0.0.4\n",
      " - Primes                        0.1.3\n",
      " - ProtoBuf                      0.4.0\n",
      " - PyCall                        1.14.0\n",
      " - PyPlot                        2.3.2\n",
      " - QuadGK                        0.1.2\n",
      " - QuantEcon                     0.12.1\n",
      " - Query                         0.6.0\n",
      " - RCall                         0.7.3\n",
      " - RDatasets                     0.2.0\n",
      " - RangeArrays                   0.2.0\n",
      " - Ratios                        0.1.0\n",
      " - Reactive                      0.5.2\n",
      " - Reexport                      0.0.3\n",
      " - Requests                      0.5.0\n",
      " - Requires                      0.4.3\n",
      " - ReverseDiffSparse             0.7.3\n",
      " - Rmath                         0.1.7\n",
      " - Roots                         0.4.0\n",
      " - Rotations                     0.5.0\n",
      " - Rsvg                          0.1.0\n",
      " - SCS                           0.3.3\n",
      " - SHA                           0.3.3\n",
      " - SIUnits                       0.1.0\n",
      " - ScikitLearnBase               0.3.0\n",
      " - ShowItLikeYouBuildIt          0.0.1\n",
      " - Showoff                       0.1.1\n",
      " - SimpleTraits                  0.5.0\n",
      " - SortingAlgorithms             0.1.1\n",
      " - SpecialFunctions              0.2.0\n",
      " - StatPlots                     0.4.2\n",
      " - StaticArrays                  0.6.1\n",
      " - StatsBase                     0.17.0\n",
      " - StatsFuns                     0.5.0\n",
      " - TexExtensions                 0.1.0\n",
      " - TextParse                     0.1.6\n",
      " - TiledIteration                0.0.2\n",
      " - TimeSeries                    0.10.0\n",
      " - Tokenize                      0.1.8\n",
      " - URIParser                     0.1.8\n",
      " - UnicodePlots                  0.2.5\n",
      " - WeakRefStrings                0.2.0\n",
      " - WebSockets                    0.2.3\n",
      " - WoodburyMatrices              0.2.2\n",
      " - ZMQ                           0.4.3\n",
      "17 additional packages:\n",
      " - BaseTestNext                  0.2.2\n",
      " - BinDeps                       0.6.0\n",
      " - Cairo                         0.3.1\n",
      " - DataValues                    0.2.0\n",
      " - DocStringExtensions           0.4.0\n",
      " - Documenter                    0.11.2\n",
      " - DynAssMgmt                    0.0.0-             master (unregistered)\n",
      " - EconDatasets                  0.0.2+             master\n",
      " - GeometryTypes                 0.4.2\n",
      " - Gtk                           0.13.0\n",
      " - IterableTables                0.4.2\n",
      " - LibCURL                       0.2.2\n",
      " - NetworkLayout                 0.1.1\n",
      " - PlotThemes                    0.1.4\n",
      " - PlotUtils                     0.4.3\n",
      " - RData                         0.1.0\n",
      " - RecipesBase                   0.2.2\n"
     ]
    }
   ],
   "source": [
    "Pkg.status()"
   ]
  },
  {
   "cell_type": "code",
   "execution_count": 42,
   "metadata": {
    "slideshow": {
     "slide_type": "subslide"
    }
   },
   "outputs": [
    {
     "data": {
      "text/plain": [
       "true"
      ]
     },
     "execution_count": 42,
     "metadata": {},
     "output_type": "execute_result"
    }
   ],
   "source": [
    "scriptEndIsReached = true"
   ]
  }
 ],
 "metadata": {
  "celltoolbar": "Slideshow",
  "kernelspec": {
   "display_name": "Julia 0.6.0",
   "language": "julia",
   "name": "julia-0.6"
  },
  "language": "Julia",
  "language_info": {
   "file_extension": ".jl",
   "mimetype": "application/julia",
   "name": "julia",
   "version": "0.6.0"
  }
 },
 "nbformat": 4,
 "nbformat_minor": 1
}
