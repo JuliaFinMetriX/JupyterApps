{
 "cells": [
  {
   "cell_type": "markdown",
   "metadata": {
    "slideshow": {
     "slide_type": "slide"
    }
   },
   "source": [
    "# Comprehensions"
   ]
  },
  {
   "cell_type": "markdown",
   "metadata": {
    "slideshow": {
     "slide_type": "subslide"
    }
   },
   "source": [
    "- load required packages"
   ]
  },
  {
   "cell_type": "code",
   "execution_count": 1,
   "metadata": {
    "collapsed": false,
    "slideshow": {
     "slide_type": "-"
    }
   },
   "outputs": [],
   "source": [
    "using DataArrays\n",
    "using DataFrames\n",
    "using TimeData\n",
    "using Dates"
   ]
  },
  {
   "cell_type": "markdown",
   "metadata": {
    "slideshow": {
     "slide_type": "subslide"
    }
   },
   "source": [
    "- **comprehensions**: easy way to build `Arrays`"
   ]
  },
  {
   "cell_type": "code",
   "execution_count": 2,
   "metadata": {
    "collapsed": false,
    "slideshow": {
     "slide_type": "-"
    }
   },
   "outputs": [
    {
     "data": {
      "text/plain": [
       "4-element Array{Int64,1}:\n",
       " 1\n",
       " 2\n",
       " 3\n",
       " 4"
      ]
     },
     "execution_count": 2,
     "metadata": {},
     "output_type": "execute_result"
    }
   ],
   "source": [
    "[ii for ii=1:4]"
   ]
  },
  {
   "cell_type": "markdown",
   "metadata": {
    "slideshow": {
     "slide_type": "subslide"
    }
   },
   "source": [
    "- **forcing type** of individual entries through prepending type declaration"
   ]
  },
  {
   "cell_type": "code",
   "execution_count": 3,
   "metadata": {
    "collapsed": false,
    "slideshow": {
     "slide_type": "-"
    }
   },
   "outputs": [
    {
     "data": {
      "text/plain": [
       "4-element Array{Float64,1}:\n",
       " 1.0\n",
       " 2.0\n",
       " 3.0\n",
       " 4.0"
      ]
     },
     "execution_count": 3,
     "metadata": {},
     "output_type": "execute_result"
    }
   ],
   "source": [
    "Float64[ii for ii=1:4]"
   ]
  },
  {
   "cell_type": "markdown",
   "metadata": {
    "slideshow": {
     "slide_type": "subslide"
    }
   },
   "source": [
    "- similar logic: collect elements of **any type** in `Array` of type `Any`"
   ]
  },
  {
   "cell_type": "code",
   "execution_count": 4,
   "metadata": {
    "collapsed": false,
    "slideshow": {
     "slide_type": "-"
    }
   },
   "outputs": [
    {
     "data": {
      "text/plain": [
       "1x4 Array{Any,2}:\n",
       " \"Hello\"  3  4.0  NA"
      ]
     },
     "execution_count": 4,
     "metadata": {},
     "output_type": "execute_result"
    }
   ],
   "source": [
    "Any[\"Hello\" 3 4.0 NA]"
   ]
  },
  {
   "cell_type": "markdown",
   "metadata": {
    "slideshow": {
     "slide_type": "subslide"
    }
   },
   "source": [
    "- comprehensions also can be used to capture more complex iterated output\n",
    "- for example: **iteration over** **sample size** or **parameter values**"
   ]
  },
  {
   "cell_type": "code",
   "execution_count": 5,
   "metadata": {
    "collapsed": false,
    "slideshow": {
     "slide_type": "-"
    }
   },
   "outputs": [
    {
     "data": {
      "text/plain": [
       "2-element Array{Timematr{Int64},1}:\n",
       " Timematr{Int64}(2x2 DataFrame\n",
       "| Row | x1       | x2       |\n",
       "|-----|----------|----------|\n",
       "| 1   | 0.143767 | 0.252105 |\n",
       "| 2   | 0.954473 | 0.396473 |,[1,2])                                                                                                                                                                                                                                                                              \n",
       " Timematr{Int64}(10x2 DataFrame\n",
       "| Row | x1        | x2       |\n",
       "|-----|-----------|----------|\n",
       "| 1   | 0.129805  | 0.141181 |\n",
       "| 2   | 0.277486  | 0.106432 |\n",
       "| 3   | 0.69658   | 0.846779 |\n",
       "| 4   | 0.660322  | 0.564138 |\n",
       "| 5   | 0.927377  | 0.196321 |\n",
       "| 6   | 0.15726   | 0.928393 |\n",
       "| 7   | 0.0555973 | 0.29965  |\n",
       "| 8   | 0.994351  | 0.476713 |\n",
       "| 9   | 0.544934  | 0.877026 |\n",
       "| 10  | 0.286077  | 0.143029 |,[1,2,3,4,5,6,7,8,9,10])"
      ]
     },
     "execution_count": 5,
     "metadata": {},
     "output_type": "execute_result"
    }
   ],
   "source": [
    "[Timematr(rand(nObs, 2)) for nObs in [2, 10]]"
   ]
  },
  {
   "cell_type": "markdown",
   "metadata": {
    "slideshow": {
     "slide_type": "subslide"
    }
   },
   "source": [
    "- using **single index** _ii_, it is **not** directly possible to get **`Array{T, 2}`** through comprehension"
   ]
  },
  {
   "cell_type": "code",
   "execution_count": 6,
   "metadata": {
    "collapsed": false,
    "slideshow": {
     "slide_type": "-"
    }
   },
   "outputs": [
    {
     "data": {
      "text/plain": [
       "4-element Array{Array{Int64,2},1}:\n",
       " 1x2 Array{Int64,2}:\n",
       " 1  2\n",
       " 1x2 Array{Int64,2}:\n",
       " 1  2\n",
       " 1x2 Array{Int64,2}:\n",
       " 1  2\n",
       " 1x2 Array{Int64,2}:\n",
       " 1  2"
      ]
     },
     "execution_count": 6,
     "metadata": {},
     "output_type": "execute_result"
    }
   ],
   "source": [
    "[[1 2] for ii=1:4]"
   ]
  },
  {
   "cell_type": "markdown",
   "metadata": {
    "slideshow": {
     "slide_type": "slide"
    }
   },
   "source": [
    "## Splicing"
   ]
  },
  {
   "cell_type": "markdown",
   "metadata": {
    "slideshow": {
     "slide_type": "subslide"
    }
   },
   "source": [
    "- **successively** returning components of collection\n",
    "- could be used to **paste** elements of a **collection into function** arguments\n",
    "- allows easy **creation** of **`Arrays`**"
   ]
  },
  {
   "cell_type": "markdown",
   "metadata": {
    "slideshow": {
     "slide_type": "subslide"
    }
   },
   "source": [
    "- applying **`[ ]`** to collection only captures whole collection as **single entry of** an **`Array`**"
   ]
  },
  {
   "cell_type": "code",
   "execution_count": 7,
   "metadata": {
    "collapsed": false
   },
   "outputs": [
    {
     "data": {
      "text/plain": [
       "1-element Array{(Int64,Int64,Int64,Int64),1}:\n",
       " (1,2,3,4)"
      ]
     },
     "execution_count": 7,
     "metadata": {},
     "output_type": "execute_result"
    }
   ],
   "source": [
    "kk = (1, 2, 3, 4)\n",
    "[kk]"
   ]
  },
  {
   "cell_type": "markdown",
   "metadata": {
    "slideshow": {
     "slide_type": "subslide"
    }
   },
   "source": [
    "- with **splicing**: **each element** of the collection gets its **own entry** within an **`Array`**"
   ]
  },
  {
   "cell_type": "code",
   "execution_count": 8,
   "metadata": {
    "collapsed": false
   },
   "outputs": [
    {
     "data": {
      "text/plain": [
       "4-element Array{Int64,1}:\n",
       " 1\n",
       " 2\n",
       " 3\n",
       " 4"
      ]
     },
     "execution_count": 8,
     "metadata": {},
     "output_type": "execute_result"
    }
   ],
   "source": [
    "[kk...]"
   ]
  },
  {
   "cell_type": "markdown",
   "metadata": {
    "slideshow": {
     "slide_type": "subslide"
    }
   },
   "source": [
    "- works out of the box: even **for new types**"
   ]
  },
  {
   "cell_type": "code",
   "execution_count": 9,
   "metadata": {
    "collapsed": false
   },
   "outputs": [],
   "source": [
    "type foo\n",
    "    value\n",
    "end"
   ]
  },
  {
   "cell_type": "code",
   "execution_count": 10,
   "metadata": {
    "collapsed": false,
    "slideshow": {
     "slide_type": "fragment"
    }
   },
   "outputs": [
    {
     "data": {
      "text/plain": [
       "foo(3)"
      ]
     },
     "execution_count": 10,
     "metadata": {},
     "output_type": "execute_result"
    }
   ],
   "source": [
    "fooObj = foo(3)"
   ]
  },
  {
   "cell_type": "code",
   "execution_count": 11,
   "metadata": {
    "collapsed": false,
    "slideshow": {
     "slide_type": "fragment"
    }
   },
   "outputs": [
    {
     "data": {
      "text/plain": [
       "3-element Array{foo,1}:\n",
       " foo(3)\n",
       " foo(3)\n",
       " foo(3)"
      ]
     },
     "execution_count": 11,
     "metadata": {},
     "output_type": "execute_result"
    }
   ],
   "source": [
    "kk = (fooObj, fooObj, fooObj)\n",
    "[kk...]"
   ]
  },
  {
   "cell_type": "markdown",
   "metadata": {
    "slideshow": {
     "slide_type": "subslide"
    }
   },
   "source": [
    "- for some types, there might be **more meaningful ways** to vertically **store successive values** than inside of an `Array`\n",
    "- `vcat`: allows **combination** of objects in specified **structure**"
   ]
  },
  {
   "cell_type": "code",
   "execution_count": 12,
   "metadata": {
    "collapsed": false
   },
   "outputs": [
    {
     "data": {
      "text/plain": [
       "2x2 Array{Int64,2}:\n",
       " 1  2\n",
       " 1  2"
      ]
     },
     "execution_count": 12,
     "metadata": {},
     "output_type": "execute_result"
    }
   ],
   "source": [
    "vcat([1 2], [1 2])"
   ]
  },
  {
   "cell_type": "markdown",
   "metadata": {
    "slideshow": {
     "slide_type": "subslide"
    }
   },
   "source": [
    "- `vcat` also works for **variable** number of **input arguments**:"
   ]
  },
  {
   "cell_type": "code",
   "execution_count": 13,
   "metadata": {
    "collapsed": false
   },
   "outputs": [
    {
     "data": {
      "text/plain": [
       "(\n",
       "1x2 Array{Int64,2}:\n",
       " 1  2,\n",
       "\n",
       "1x2 Array{Int64,2}:\n",
       " 3  4,\n",
       "\n",
       "1x2 Array{Int64,2}:\n",
       " 5  6)"
      ]
     },
     "execution_count": 13,
     "metadata": {},
     "output_type": "execute_result"
    }
   ],
   "source": [
    "kk = ([1 2], [3 4], [5 6])"
   ]
  },
  {
   "cell_type": "code",
   "execution_count": 14,
   "metadata": {
    "collapsed": false,
    "slideshow": {
     "slide_type": "-"
    }
   },
   "outputs": [
    {
     "data": {
      "text/plain": [
       "3x2 Array{Int64,2}:\n",
       " 1  2\n",
       " 3  4\n",
       " 5  6"
      ]
     },
     "execution_count": 14,
     "metadata": {},
     "output_type": "execute_result"
    }
   ],
   "source": [
    "vcat(kk[1], kk[2], kk[3])"
   ]
  },
  {
   "cell_type": "markdown",
   "metadata": {
    "slideshow": {
     "slide_type": "subslide"
    }
   },
   "source": [
    "- together with splicing, `vcat` conveniently **transforms tuple** of values **into** concise **`Array`**:"
   ]
  },
  {
   "cell_type": "code",
   "execution_count": 15,
   "metadata": {
    "collapsed": false
   },
   "outputs": [
    {
     "data": {
      "text/plain": [
       "3x2 Array{Int64,2}:\n",
       " 1  2\n",
       " 3  4\n",
       " 5  6"
      ]
     },
     "execution_count": 15,
     "metadata": {},
     "output_type": "execute_result"
    }
   ],
   "source": [
    "vcat(kk...)"
   ]
  },
  {
   "cell_type": "code",
   "execution_count": 16,
   "metadata": {
    "collapsed": false,
    "slideshow": {
     "slide_type": "fragment"
    }
   },
   "outputs": [
    {
     "data": {
      "text/plain": [
       "4x2 Array{Int64,2}:\n",
       " 1  2\n",
       " 1  2\n",
       " 1  2\n",
       " 1  2"
      ]
     },
     "execution_count": 16,
     "metadata": {},
     "output_type": "execute_result"
    }
   ],
   "source": [
    "vcat([[1 2] for ii=1:4]...)"
   ]
  },
  {
   "cell_type": "markdown",
   "metadata": {
    "slideshow": {
     "slide_type": "subslide"
    }
   },
   "source": [
    "- **`[ ]`** applied to **spliced elements** implicitly **calls `vcat`**\n",
    "- applied to `Array{Int,2}`, this results in **two-dimensional Array**"
   ]
  },
  {
   "cell_type": "code",
   "execution_count": 17,
   "metadata": {
    "collapsed": false
   },
   "outputs": [
    {
     "data": {
      "text/plain": [
       "4x2 Array{Int64,2}:\n",
       " 1  2\n",
       " 1  2\n",
       " 1  2\n",
       " 1  2"
      ]
     },
     "execution_count": 17,
     "metadata": {},
     "output_type": "execute_result"
    }
   ],
   "source": [
    "kk = [[1 2] for ii=1:4]\n",
    "[kk...]"
   ]
  },
  {
   "cell_type": "markdown",
   "metadata": {
    "slideshow": {
     "slide_type": "subslide"
    }
   },
   "source": [
    "- both steps performed **simultaneously**:"
   ]
  },
  {
   "cell_type": "code",
   "execution_count": 18,
   "metadata": {
    "collapsed": false
   },
   "outputs": [
    {
     "data": {
      "text/plain": [
       "4x2 Array{Int64,2}:\n",
       " 1  2\n",
       " 1  2\n",
       " 1  2\n",
       " 1  2"
      ]
     },
     "execution_count": 18,
     "metadata": {},
     "output_type": "execute_result"
    }
   ],
   "source": [
    "[[[1 2] for ii=1:4]...]"
   ]
  },
  {
   "cell_type": "markdown",
   "metadata": {
    "slideshow": {
     "slide_type": "subslide"
    }
   },
   "source": [
    "- **alternatively**, same result could be achieved **without splicing** through usage of **two index variables**"
   ]
  },
  {
   "cell_type": "code",
   "execution_count": 19,
   "metadata": {
    "collapsed": false
   },
   "outputs": [
    {
     "data": {
      "text/plain": [
       "4x2 Array{Int64,2}:\n",
       " 1  2\n",
       " 1  2\n",
       " 1  2\n",
       " 1  2"
      ]
     },
     "execution_count": 19,
     "metadata": {},
     "output_type": "execute_result"
    }
   ],
   "source": [
    "[jj for ii=1:4, jj=1:2]"
   ]
  },
  {
   "cell_type": "markdown",
   "metadata": {
    "slideshow": {
     "slide_type": "subslide"
    }
   },
   "source": [
    "- in general, **splicing and comprehension** allows for **data structures different to `Array`** \n",
    "- for **example**, application of splicing and comprehension to **`DataFrames`** will return a `DataFrame` again"
   ]
  },
  {
   "cell_type": "code",
   "execution_count": 20,
   "metadata": {
    "collapsed": false,
    "slideshow": {
     "slide_type": "-"
    }
   },
   "outputs": [
    {
     "data": {
      "text/html": [
       "<table class=\"data-frame\"><tr><th></th><th>a</th><th>b</th></tr><tr><th>1</th><td>5</td><td>8</td></tr><tr><th>2</th><td>6</td><td>NA</td></tr><tr><th>3</th><td>NA</td><td>NA</td></tr><tr><th>4</th><td>5</td><td>8</td></tr><tr><th>5</th><td>6</td><td>NA</td></tr><tr><th>6</th><td>NA</td><td>NA</td></tr></table>"
      ],
      "text/plain": [
       "6x2 DataFrame\n",
       "| Row | a  | b  |\n",
       "|-----|----|----|\n",
       "| 1   | 5  | 8  |\n",
       "| 2   | 6  | NA |\n",
       "| 3   | NA | NA |\n",
       "| 4   | 5  | 8  |\n",
       "| 5   | 6  | NA |\n",
       "| 6   | NA | NA |"
      ]
     },
     "execution_count": 20,
     "metadata": {},
     "output_type": "execute_result"
    }
   ],
   "source": [
    "df = DataFrame()\n",
    "df[:a] = @data([5, 6, NA])\n",
    "df[:b] = @data([8, NA, NA])\n",
    "\n",
    "kk = (df, df)\n",
    "xx = [kk...]"
   ]
  },
  {
   "cell_type": "code",
   "execution_count": 21,
   "metadata": {
    "collapsed": false,
    "slideshow": {
     "slide_type": "fragment"
    }
   },
   "outputs": [
    {
     "data": {
      "text/plain": [
       "DataFrame (constructor with 11 methods)"
      ]
     },
     "execution_count": 21,
     "metadata": {},
     "output_type": "execute_result"
    }
   ],
   "source": [
    "typeof(xx)"
   ]
  },
  {
   "cell_type": "markdown",
   "metadata": {
    "slideshow": {
     "slide_type": "slide"
    }
   },
   "source": [
    "# Iterators"
   ]
  },
  {
   "cell_type": "markdown",
   "metadata": {
    "slideshow": {
     "slide_type": "subslide"
    }
   },
   "source": [
    "under the hood, comprehensions make use of iterators:"
   ]
  },
  {
   "cell_type": "markdown",
   "metadata": {},
   "source": [
    "- iterators **successively return** values from a **collection**\n",
    "- iterators can be **specified for each type**"
   ]
  },
  {
   "cell_type": "markdown",
   "metadata": {
    "slideshow": {
     "slide_type": "subslide"
    }
   },
   "source": [
    "- for example: **column iterator of `DataFrames`**, which returns a tuple with column name and values given as `DataArray` for each column"
   ]
  },
  {
   "cell_type": "code",
   "execution_count": 22,
   "metadata": {
    "collapsed": false
   },
   "outputs": [
    {
     "data": {
      "text/plain": [
       "2-element Array{(Any,Any),1}:\n",
       " (:a,[5,6,NA]) \n",
       " (:b,[8,NA,NA])"
      ]
     },
     "execution_count": 22,
     "metadata": {},
     "output_type": "execute_result"
    }
   ],
   "source": [
    "df = DataFrame()\n",
    "df[:a] = @data([5, 6, NA])\n",
    "df[:b] = @data([8, NA, NA])\n",
    "\n",
    "[col for col in eachcol(df)]"
   ]
  },
  {
   "cell_type": "markdown",
   "metadata": {
    "slideshow": {
     "slide_type": "subslide"
    }
   },
   "source": [
    "- although **comprehension** is a quite convenient way to **show the values of an iterator**, keep in mind that it also **automatically** captures the result in an **`Array`**\n",
    "- this might be **unnecessarily costly** in some regard**?** (time consuming, allocating more memory, ...)"
   ]
  },
  {
   "cell_type": "code",
   "execution_count": 23,
   "metadata": {
    "collapsed": false
   },
   "outputs": [
    {
     "data": {
      "text/plain": [
       "(:a,[5,6,NA])"
      ]
     },
     "metadata": {},
     "output_type": "display_data"
    },
    {
     "data": {
      "text/plain": [
       "(:b,[8,NA,NA])"
      ]
     },
     "metadata": {},
     "output_type": "display_data"
    },
    {
     "name": "stdout",
     "output_type": "stream",
     "text": [
      "elapsed time: 0.075189836 seconds (1745540 bytes allocated)\n"
     ]
    },
    {
     "data": {
      "text/plain": [
       "2-element Array{Any,1}:\n",
       " nothing\n",
       " nothing"
      ]
     },
     "execution_count": 23,
     "metadata": {},
     "output_type": "execute_result"
    }
   ],
   "source": [
    "@time kk = [display(col) for col in eachcol(df)]"
   ]
  },
  {
   "cell_type": "markdown",
   "metadata": {
    "slideshow": {
     "slide_type": "subslide"
    }
   },
   "source": [
    "- for comparison, only displaying iterated elements:"
   ]
  },
  {
   "cell_type": "code",
   "execution_count": 24,
   "metadata": {
    "collapsed": false
   },
   "outputs": [
    {
     "data": {
      "text/plain": [
       "(:a,[5,6,NA])"
      ]
     },
     "metadata": {},
     "output_type": "display_data"
    },
    {
     "data": {
      "text/plain": [
       "(:b,[8,NA,NA])"
      ]
     },
     "metadata": {},
     "output_type": "display_data"
    },
    {
     "name": "stdout",
     "output_type": "stream",
     "text": [
      "elapsed time: 0.001346607 seconds (32144 bytes allocated)\n"
     ]
    }
   ],
   "source": [
    "@time for col in eachcol(df)\n",
    "    display(col)\n",
    "end"
   ]
  },
  {
   "cell_type": "markdown",
   "metadata": {
    "slideshow": {
     "slide_type": "subslide"
    }
   },
   "source": [
    "- **`DataFrame` iterator** returns tuple, so that **values only** (without column name) are obtained **through indexing**"
   ]
  },
  {
   "cell_type": "code",
   "execution_count": 25,
   "metadata": {
    "collapsed": false
   },
   "outputs": [
    {
     "data": {
      "text/plain": [
       "2-element Array{Any,1}:\n",
       " [5,6,NA] \n",
       " [8,NA,NA]"
      ]
     },
     "execution_count": 25,
     "metadata": {},
     "output_type": "execute_result"
    }
   ],
   "source": [
    "[col[2] for col in eachcol(df)]"
   ]
  },
  {
   "cell_type": "markdown",
   "metadata": {
    "slideshow": {
     "slide_type": "subslide"
    }
   },
   "source": [
    "two **applications of iterators** come to mind immediately:"
   ]
  },
  {
   "cell_type": "markdown",
   "metadata": {
    "slideshow": {
     "slide_type": "-"
    }
   },
   "source": [
    "- iteratively manipulating entries of a type\n",
    "- building a new object by iteratively using an existing object"
   ]
  },
  {
   "cell_type": "markdown",
   "metadata": {
    "slideshow": {
     "slide_type": "slide"
    }
   },
   "source": [
    "## Iteratively manipulating entries"
   ]
  },
  {
   "cell_type": "markdown",
   "metadata": {
    "slideshow": {
     "slide_type": "subslide"
    }
   },
   "source": [
    "example: **iteratively manipulating columns of `DataFrame`**"
   ]
  },
  {
   "cell_type": "markdown",
   "metadata": {},
   "source": [
    "- as seen above, values need to be referenced within column iterator tuple with subindex 2\n",
    "- **setting first entry of each column to 10**:"
   ]
  },
  {
   "cell_type": "code",
   "execution_count": 26,
   "metadata": {
    "collapsed": false
   },
   "outputs": [
    {
     "data": {
      "text/html": [
       "<table class=\"data-frame\"><tr><th></th><th>a</th><th>b</th></tr><tr><th>1</th><td>10</td><td>10</td></tr><tr><th>2</th><td>6</td><td>NA</td></tr><tr><th>3</th><td>NA</td><td>NA</td></tr></table>"
      ],
      "text/plain": [
       "3x2 DataFrame\n",
       "| Row | a  | b  |\n",
       "|-----|----|----|\n",
       "| 1   | 10 | 10 |\n",
       "| 2   | 6  | NA |\n",
       "| 3   | NA | NA |"
      ]
     },
     "execution_count": 26,
     "metadata": {},
     "output_type": "execute_result"
    }
   ],
   "source": [
    "for col in eachcol(df)\n",
    "    col[2][1] = 10\n",
    "end\n",
    "df"
   ]
  },
  {
   "cell_type": "markdown",
   "metadata": {
    "slideshow": {
     "slide_type": "subslide"
    }
   },
   "source": [
    "- let's try **multiplying each column by 10**:"
   ]
  },
  {
   "cell_type": "code",
   "execution_count": 27,
   "metadata": {
    "collapsed": false
   },
   "outputs": [
    {
     "name": "stdout",
     "output_type": "stream",
     "text": [
      "MethodError(setindex!,((:a,[10,6,NA]),[100,60,NA],2))"
     ]
    }
   ],
   "source": [
    "try\n",
    "    for col in eachcol(df)\n",
    "        col[2] = col[2].*10\n",
    "    end\n",
    "catch e\n",
    "    show(e)\n",
    "end"
   ]
  },
  {
   "cell_type": "markdown",
   "metadata": {
    "slideshow": {
     "slide_type": "subslide"
    }
   },
   "source": [
    "- the **correct way** is:"
   ]
  },
  {
   "cell_type": "code",
   "execution_count": 28,
   "metadata": {
    "collapsed": false
   },
   "outputs": [
    {
     "data": {
      "text/html": [
       "<table class=\"data-frame\"><tr><th></th><th>a</th><th>b</th></tr><tr><th>1</th><td>100</td><td>100</td></tr><tr><th>2</th><td>60</td><td>NA</td></tr><tr><th>3</th><td>NA</td><td>NA</td></tr></table>"
      ],
      "text/plain": [
       "3x2 DataFrame\n",
       "| Row | a   | b   |\n",
       "|-----|-----|-----|\n",
       "| 1   | 100 | 100 |\n",
       "| 2   | 60  | NA  |\n",
       "| 3   | NA  | NA  |"
      ]
     },
     "execution_count": 28,
     "metadata": {},
     "output_type": "execute_result"
    }
   ],
   "source": [
    "for col in eachcol(df)\n",
    "    col[2][:] = col[2].*10\n",
    "end\n",
    "df"
   ]
  },
  {
   "cell_type": "markdown",
   "metadata": {
    "slideshow": {
     "slide_type": "subslide"
    }
   },
   "source": [
    "- applying a similar logic for the **manipulation of** entries of an **`Array{Int, 1}` fails**:"
   ]
  },
  {
   "cell_type": "code",
   "execution_count": 29,
   "metadata": {
    "collapsed": false
   },
   "outputs": [
    {
     "name": "stdout",
     "output_type": "stream",
     "text": [
      "MethodError(setindex!,(1,5,1))"
     ]
    },
    {
     "data": {
      "text/plain": [
       "4-element Array{Int64,1}:\n",
       " 1\n",
       " 2\n",
       " 3\n",
       " 4"
      ]
     },
     "execution_count": 29,
     "metadata": {},
     "output_type": "execute_result"
    }
   ],
   "source": [
    "kk = [1, 2, 3, 4]\n",
    "try\n",
    "    for entry in kk\n",
    "        entry[1] = entry*5\n",
    "    end\n",
    "catch e\n",
    "    show(e)\n",
    "end\n",
    "kk"
   ]
  },
  {
   "cell_type": "markdown",
   "metadata": {
    "slideshow": {
     "slide_type": "subslide"
    }
   },
   "source": [
    "- trying **similar transformation of** columns of a **`Timenum`** object"
   ]
  },
  {
   "cell_type": "code",
   "execution_count": 30,
   "metadata": {
    "collapsed": false
   },
   "outputs": [
    {
     "data": {
      "text/html": [
       "<p><strong>Timenum{Date}</strong></p><p>Dimensions: <strong>(3, 2)</strong></p><p>From: <strong>2014-01-01</strong>, To: <strong>2014-01-03</strong></p><table class=\"data-frame\"><tr><th></th><th>idx</th><th>a</th><th>b</th></tr><tr><th>1</th><td>2014-01-01</td><td>100</td><td>100</td></tr><tr><th>2</th><td>2014-01-02</td><td>60</td><td>NA</td></tr><tr><th>3</th><td>2014-01-03</td><td>NA</td><td>NA</td></tr></table>"
      ],
      "text/plain": [
       "Timenum{Date}(3x2 DataFrame\n",
       "| Row | a   | b   |\n",
       "|-----|-----|-----|\n",
       "| 1   | 100 | 100 |\n",
       "| 2   | 60  | NA  |\n",
       "| 3   | NA  | NA  |,[2014-01-01,2014-01-02,2014-01-03])"
      ]
     },
     "execution_count": 30,
     "metadata": {},
     "output_type": "execute_result"
    }
   ],
   "source": [
    "dats = [Date(2014,1,1):Date(2014,1,3)]\n",
    "tn = Timenum(df, dats)"
   ]
  },
  {
   "cell_type": "markdown",
   "metadata": {
    "slideshow": {
     "slide_type": "subslide"
    }
   },
   "source": [
    " - **iterative multiplication** of columns: **fails** (without error!) as `setindex!` methods are not defined"
   ]
  },
  {
   "cell_type": "code",
   "execution_count": 31,
   "metadata": {
    "collapsed": false
   },
   "outputs": [
    {
     "data": {
      "text/html": [
       "<p><strong>Timenum{Date}</strong></p><p>Dimensions: <strong>(3, 2)</strong></p><p>From: <strong>2014-01-01</strong>, To: <strong>2014-01-03</strong></p><table class=\"data-frame\"><tr><th></th><th>idx</th><th>a</th><th>b</th></tr><tr><th>1</th><td>2014-01-01</td><td>100</td><td>100</td></tr><tr><th>2</th><td>2014-01-02</td><td>60</td><td>NA</td></tr><tr><th>3</th><td>2014-01-03</td><td>NA</td><td>NA</td></tr></table>"
      ],
      "text/plain": [
       "Timenum{Date}(3x2 DataFrame\n",
       "| Row | a   | b   |\n",
       "|-----|-----|-----|\n",
       "| 1   | 100 | 100 |\n",
       "| 2   | 60  | NA  |\n",
       "| 3   | NA  | NA  |,[2014-01-01,2014-01-02,2014-01-03])"
      ]
     },
     "execution_count": 31,
     "metadata": {},
     "output_type": "execute_result"
    }
   ],
   "source": [
    "for col in eachvar(tn)\n",
    "    col = col.*2\n",
    "end\n",
    "tn"
   ]
  },
  {
   "cell_type": "markdown",
   "metadata": {
    "slideshow": {
     "slide_type": "subslide"
    }
   },
   "source": [
    "- we need **detour to** the underlying **`DataFrame`**\n",
    "- **be cautious** to correctly index the entries: the following code is **not working**"
   ]
  },
  {
   "cell_type": "code",
   "execution_count": 32,
   "metadata": {
    "collapsed": false
   },
   "outputs": [
    {
     "name": "stdout",
     "output_type": "stream",
     "text": [
      "MethodError(setindex!,((:a,[100,60,NA]),[200,120,NA],2))"
     ]
    }
   ],
   "source": [
    "try\n",
    "    for col in eachcol(tn)\n",
    "        col[2] = col[2].*2\n",
    "        display(col.vals.columns[1])\n",
    "    end\n",
    "catch e\n",
    "    show(e)\n",
    "end"
   ]
  },
  {
   "cell_type": "markdown",
   "metadata": {
    "slideshow": {
     "slide_type": "subslide"
    }
   },
   "source": [
    "- we need an **additional colon indexing** to write into an existing column"
   ]
  },
  {
   "cell_type": "code",
   "execution_count": 33,
   "metadata": {
    "collapsed": false
   },
   "outputs": [
    {
     "data": {
      "text/html": [
       "<p><strong>Timenum{Date}</strong></p><p>Dimensions: <strong>(3, 2)</strong></p><p>From: <strong>2014-01-01</strong>, To: <strong>2014-01-03</strong></p><table class=\"data-frame\"><tr><th></th><th>idx</th><th>a</th><th>b</th></tr><tr><th>1</th><td>2014-01-01</td><td>200</td><td>200</td></tr><tr><th>2</th><td>2014-01-02</td><td>120</td><td>NA</td></tr><tr><th>3</th><td>2014-01-03</td><td>NA</td><td>NA</td></tr></table>"
      ],
      "text/plain": [
       "Timenum{Date}(3x2 DataFrame\n",
       "| Row | a   | b   |\n",
       "|-----|-----|-----|\n",
       "| 1   | 200 | 200 |\n",
       "| 2   | 120 | NA  |\n",
       "| 3   | NA  | NA  |,[2014-01-01,2014-01-02,2014-01-03])"
      ]
     },
     "execution_count": 33,
     "metadata": {},
     "output_type": "execute_result"
    }
   ],
   "source": [
    "for col in eachcol(tn)\n",
    "    col[2][:] = col[2].*2\n",
    "end\n",
    "tn"
   ]
  },
  {
   "cell_type": "markdown",
   "metadata": {
    "slideshow": {
     "slide_type": "slide"
    }
   },
   "source": [
    "## Creating new objects by iteratively manipulating existing objects"
   ]
  },
  {
   "cell_type": "markdown",
   "metadata": {
    "slideshow": {
     "slide_type": "subslide"
    }
   },
   "source": [
    "- iterator protocols make **recursive data manipulation** easy\n",
    "- combined **with comprehension**, this allows for **easy creation of new objects**\n",
    "- for **example**: creating `Array` of squared entries"
   ]
  },
  {
   "cell_type": "code",
   "execution_count": 34,
   "metadata": {
    "collapsed": false
   },
   "outputs": [
    {
     "data": {
      "text/plain": [
       "4-element Array{Any,1}:\n",
       "  1\n",
       "  4\n",
       "  9\n",
       " 16"
      ]
     },
     "execution_count": 34,
     "metadata": {},
     "output_type": "execute_result"
    }
   ],
   "source": [
    "kk = [1 2 3 4]\n",
    "kk2 = [ii.^2 for ii in kk]"
   ]
  },
  {
   "cell_type": "markdown",
   "metadata": {
    "slideshow": {
     "slide_type": "subslide"
    }
   },
   "source": [
    "- again, there might be **more meaningful ways** to combine the individual parts than an **`Array`** as we get it from comprehension"
   ]
  },
  {
   "cell_type": "code",
   "execution_count": 35,
   "metadata": {
    "collapsed": false
   },
   "outputs": [
    {
     "data": {
      "text/html": [
       "<p><strong>Timenum{Date}</strong></p><p>Dimensions: <strong>(3, 2)</strong></p><p>From: <strong>2014-01-01</strong>, To: <strong>2014-01-03</strong></p><table class=\"data-frame\"><tr><th></th><th>idx</th><th>a</th><th>b</th></tr><tr><th>1</th><td>2014-01-01</td><td>5</td><td>8</td></tr><tr><th>2</th><td>2014-01-02</td><td>6</td><td>NA</td></tr><tr><th>3</th><td>2014-01-03</td><td>NA</td><td>NA</td></tr></table>"
      ],
      "text/plain": [
       "Timenum{Date}(3x2 DataFrame\n",
       "| Row | a  | b  |\n",
       "|-----|----|----|\n",
       "| 1   | 5  | 8  |\n",
       "| 2   | 6  | NA |\n",
       "| 3   | NA | NA |,[2014-01-01,2014-01-02,2014-01-03])"
      ]
     },
     "execution_count": 35,
     "metadata": {},
     "output_type": "execute_result"
    }
   ],
   "source": [
    "df = DataFrame()\n",
    "df[:a] = @data([5, 6, NA])\n",
    "df[:b] = @data([8, NA, NA])\n",
    "\n",
    "dats = [Date(2014,1,1):Date(2014,1,3)]\n",
    "tn = Timenum(df, dats)"
   ]
  },
  {
   "cell_type": "code",
   "execution_count": 36,
   "metadata": {
    "collapsed": false,
    "slideshow": {
     "slide_type": "subslide"
    }
   },
   "outputs": [
    {
     "data": {
      "text/plain": [
       "2-element Array{Any,1}:\n",
       " Timenum{Date}(3x1 DataFrame\n",
       "| Row | a  |\n",
       "|-----|----|\n",
       "| 1   | 10 |\n",
       "| 2   | 12 |\n",
       "| 3   | NA |,[2014-01-01,2014-01-02,2014-01-03])\n",
       " Timenum{Date}(3x1 DataFrame\n",
       "| Row | b  |\n",
       "|-----|----|\n",
       "| 1   | 16 |\n",
       "| 2   | NA |\n",
       "| 3   | NA |,[2014-01-01,2014-01-02,2014-01-03])"
      ]
     },
     "execution_count": 36,
     "metadata": {},
     "output_type": "execute_result"
    }
   ],
   "source": [
    "kk = [col.*2 for col in eachvar(tn)]"
   ]
  },
  {
   "cell_type": "markdown",
   "metadata": {
    "slideshow": {
     "slide_type": "subslide"
    }
   },
   "source": [
    "- as we **iterate over columns**, results should be **combined horizontally**\n",
    "- simple **splicing** is not sufficient here, as it **uses `vcat`**:"
   ]
  },
  {
   "cell_type": "code",
   "execution_count": 37,
   "metadata": {
    "collapsed": false
   },
   "outputs": [
    {
     "name": "stdout",
     "output_type": "stream",
     "text": [
      "ErrorException(\"variable names must coincide for vcat\")"
     ]
    }
   ],
   "source": [
    "try\n",
    "    [[col.*2 for col in eachvar(tn)]...]\n",
    "    catch e\n",
    "    show(e)\n",
    "end"
   ]
  },
  {
   "cell_type": "markdown",
   "metadata": {
    "slideshow": {
     "slide_type": "subslide"
    }
   },
   "source": [
    "- we need **`hcat` instead**:"
   ]
  },
  {
   "cell_type": "code",
   "execution_count": 38,
   "metadata": {
    "collapsed": false
   },
   "outputs": [
    {
     "data": {
      "text/html": [
       "<p><strong>Timenum{Date}</strong></p><p>Dimensions: <strong>(3, 2)</strong></p><p>From: <strong>2014-01-01</strong>, To: <strong>2014-01-03</strong></p><table class=\"data-frame\"><tr><th></th><th>idx</th><th>a</th><th>b</th></tr><tr><th>1</th><td>2014-01-01</td><td>10</td><td>16</td></tr><tr><th>2</th><td>2014-01-02</td><td>12</td><td>NA</td></tr><tr><th>3</th><td>2014-01-03</td><td>NA</td><td>NA</td></tr></table>"
      ],
      "text/plain": [
       "Timenum{Date}(3x2 DataFrame\n",
       "| Row | a  | b  |\n",
       "|-----|----|----|\n",
       "| 1   | 10 | 16 |\n",
       "| 2   | 12 | NA |\n",
       "| 3   | NA | NA |,[2014-01-01,2014-01-02,2014-01-03])"
      ]
     },
     "execution_count": 38,
     "metadata": {},
     "output_type": "execute_result"
    }
   ],
   "source": [
    "hcat([col.*2 for col in eachvar(tn)]...)"
   ]
  },
  {
   "cell_type": "code",
   "execution_count": 39,
   "metadata": {
    "collapsed": false
   },
   "outputs": [
    {
     "data": {
      "text/plain": [
       "1x2 Array{DataArray{T,N},2}:\n",
       " [5,6,NA]  [8,NA,NA]"
      ]
     },
     "execution_count": 39,
     "metadata": {},
     "output_type": "execute_result"
    }
   ],
   "source": [
    "DataArray[tn.vals[1] tn.vals[2]]"
   ]
  },
  {
   "cell_type": "markdown",
   "metadata": {
    "slideshow": {
     "slide_type": "fragment"
    }
   },
   "source": [
    "- instead of manually combining manipulated values from an iterator each time, we also could define a **default data structure returned** through function **`map`**"
   ]
  },
  {
   "cell_type": "markdown",
   "metadata": {
    "slideshow": {
     "slide_type": "slide"
    }
   },
   "source": [
    "## Map"
   ]
  },
  {
   "cell_type": "markdown",
   "metadata": {
    "slideshow": {
     "slide_type": "subslide"
    }
   },
   "source": [
    "- through **multiple dispatch**, the **output** of `map` can be **customized to the iterator type** used\n",
    "- for example: **multiplication of each `DataFrame` column** could be done **in two different ways**\n",
    "- **first way**: **iterating over** entries of an **`Array`** (which contains the column names) will return an `Array`"
   ]
  },
  {
   "cell_type": "code",
   "execution_count": 40,
   "metadata": {
    "collapsed": false
   },
   "outputs": [
    {
     "data": {
      "text/plain": [
       "2-element Array{DataArray{Int64,1},1}:\n",
       " [2,4,6]  \n",
       " [8,10,12]"
      ]
     },
     "execution_count": 40,
     "metadata": {},
     "output_type": "execute_result"
    }
   ],
   "source": [
    "df = DataFrame(a = [1, 2, 3], b = [4, 5, 6])\n",
    "map(nam -> df[nam].*2, names(df))"
   ]
  },
  {
   "cell_type": "markdown",
   "metadata": {
    "slideshow": {
     "slide_type": "subslide"
    }
   },
   "source": [
    "- **second way**: using method `map` for **`DataFrame` column iterator**"
   ]
  },
  {
   "cell_type": "code",
   "execution_count": 41,
   "metadata": {
    "collapsed": false
   },
   "outputs": [
    {
     "data": {
      "text/html": [
       "<table class=\"data-frame\"><tr><th></th><th>a</th><th>b</th></tr><tr><th>1</th><td>2</td><td>8</td></tr><tr><th>2</th><td>4</td><td>10</td></tr><tr><th>3</th><td>6</td><td>12</td></tr></table>"
      ],
      "text/plain": [
       "3x2 DataFrame\n",
       "| Row | a | b  |\n",
       "|-----|---|----|\n",
       "| 1   | 2 | 8  |\n",
       "| 2   | 4 | 10 |\n",
       "| 3   | 6 | 12 |"
      ]
     },
     "execution_count": 41,
     "metadata": {},
     "output_type": "execute_result"
    }
   ],
   "source": [
    "df2 = map(col -> col.*2, eachcol(df))\n",
    "df2"
   ]
  },
  {
   "cell_type": "markdown",
   "metadata": {
    "slideshow": {
     "slide_type": "subslide"
    }
   },
   "source": [
    "- similarly: **map** for **TimeData iterators**"
   ]
  },
  {
   "cell_type": "code",
   "execution_count": 42,
   "metadata": {
    "collapsed": false
   },
   "outputs": [
    {
     "name": "stdout",
     "output_type": "stream",
     "text": [
      "elapsed time: 0.055906843 seconds (1649364 bytes allocated)\n"
     ]
    },
    {
     "data": {
      "text/html": [
       "<p><strong>Timedata{Date}</strong></p><p>Dimensions: <strong>(3, 2)</strong></p><p>From: <strong>2014-01-01</strong>, To: <strong>2014-01-03</strong></p><table class=\"data-frame\"><tr><th></th><th>idx</th><th>a</th><th>b</th></tr><tr><th>1</th><td>2014-01-01</td><td>10</td><td>16</td></tr><tr><th>2</th><td>2014-01-02</td><td>12</td><td>NA</td></tr><tr><th>3</th><td>2014-01-03</td><td>NA</td><td>NA</td></tr></table>"
      ],
      "text/plain": [
       "Timedata{Date}(3x2 DataFrame\n",
       "| Row | a  | b  |\n",
       "|-----|----|----|\n",
       "| 1   | 10 | 16 |\n",
       "| 2   | 12 | NA |\n",
       "| 3   | NA | NA |,[2014-01-01,2014-01-02,2014-01-03])"
      ]
     },
     "execution_count": 42,
     "metadata": {},
     "output_type": "execute_result"
    }
   ],
   "source": [
    "@time tn2 = map(x -> x.*2, eachvar(tn))"
   ]
  },
  {
   "cell_type": "markdown",
   "metadata": {
    "slideshow": {
     "slide_type": "fragment"
    }
   },
   "source": [
    "- `map` for `TimeData` iterators `eachvar`, `eachdate` and `eachobs` always **preserves both indices and column names**"
   ]
  },
  {
   "cell_type": "markdown",
   "metadata": {
    "slideshow": {
     "slide_type": "subslide"
    }
   },
   "source": [
    "- `map` can also be defined for **two collections**"
   ]
  },
  {
   "cell_type": "code",
   "execution_count": 43,
   "metadata": {
    "collapsed": false
   },
   "outputs": [
    {
     "data": {
      "text/plain": [
       "1x2 Array{Int64,2}:\n",
       " 50  21"
      ]
     },
     "execution_count": 43,
     "metadata": {},
     "output_type": "execute_result"
    }
   ],
   "source": [
    "vals1 = [10 20]\n",
    "vals2 = [40 1]\n",
    "map(.+, vals1, vals2)"
   ]
  },
  {
   "cell_type": "markdown",
   "metadata": {
    "slideshow": {
     "slide_type": "slide"
    }
   },
   "source": [
    "## Reduce"
   ]
  },
  {
   "cell_type": "markdown",
   "metadata": {
    "slideshow": {
     "slide_type": "subslide"
    }
   },
   "source": [
    "- using function `reduce` **individual components** of a collection can be **aggregated**\n",
    "- through multiple dispatch, `reduce` can have **different implementations** for each **type**\n",
    "- **using `map` and `reduce`** together, individual entries of iterable collections can be **manipulated and aggregated** to a single result "
   ]
  },
  {
   "cell_type": "markdown",
   "metadata": {},
   "source": [
    "**example**: calculating **row means**"
   ]
  },
  {
   "cell_type": "code",
   "execution_count": 44,
   "metadata": {
    "collapsed": false
   },
   "outputs": [
    {
     "data": {
      "text/html": [
       "<table class=\"data-frame\"><tr><th></th><th>a</th><th>b</th></tr><tr><th>1</th><td>1</td><td>4</td></tr><tr><th>2</th><td>2</td><td>5</td></tr><tr><th>3</th><td>3</td><td>6</td></tr></table>"
      ],
      "text/plain": [
       "3x2 DataFrame\n",
       "| Row | a | b |\n",
       "|-----|---|---|\n",
       "| 1   | 1 | 4 |\n",
       "| 2   | 2 | 5 |\n",
       "| 3   | 3 | 6 |"
      ]
     },
     "execution_count": 44,
     "metadata": {},
     "output_type": "execute_result"
    }
   ],
   "source": [
    "df"
   ]
  },
  {
   "cell_type": "code",
   "execution_count": 45,
   "metadata": {
    "collapsed": false,
    "slideshow": {
     "slide_type": "-"
    }
   },
   "outputs": [
    {
     "data": {
      "text/plain": [
       "3-element DataArray{Float64,1}:\n",
       " 2.5\n",
       " 3.5\n",
       " 4.5"
      ]
     },
     "execution_count": 45,
     "metadata": {},
     "output_type": "execute_result"
    }
   ],
   "source": [
    "meanDf = reduce((x,y) -> (x[2].+y[2])./size(df, 2), eachcol(df))"
   ]
  },
  {
   "cell_type": "markdown",
   "metadata": {
    "slideshow": {
     "slide_type": "subslide"
    }
   },
   "source": [
    "**example**: calculating **row sum with weighted columns**"
   ]
  },
  {
   "cell_type": "markdown",
   "metadata": {},
   "source": [
    "- using **`map`** to calculate **weighted columns**\n",
    "- using **`reduce`** to **sum up** individual weighted columns"
   ]
  },
  {
   "cell_type": "code",
   "execution_count": 46,
   "metadata": {
    "collapsed": false,
    "slideshow": {
     "slide_type": "-"
    }
   },
   "outputs": [
    {
     "data": {
      "text/html": [
       "<table class=\"data-frame\"><tr><th></th><th>a</th><th>b</th><th>c</th></tr><tr><th>1</th><td>1</td><td>4</td><td>2</td></tr><tr><th>2</th><td>2</td><td>5</td><td>4</td></tr><tr><th>3</th><td>3</td><td>6</td><td>8</td></tr><tr><th>4</th><td>4</td><td>7</td><td>10</td></tr></table>"
      ],
      "text/plain": [
       "4x3 DataFrame\n",
       "| Row | a | b | c  |\n",
       "|-----|---|---|----|\n",
       "| 1   | 1 | 4 | 2  |\n",
       "| 2   | 2 | 5 | 4  |\n",
       "| 3   | 3 | 6 | 8  |\n",
       "| 4   | 4 | 7 | 10 |"
      ]
     },
     "execution_count": 46,
     "metadata": {},
     "output_type": "execute_result"
    }
   ],
   "source": [
    "df = DataFrame(a = [1, 2, 3, 4], b = [4, 5, 6, 7], c = [2, 4, 8, 10])"
   ]
  },
  {
   "cell_type": "markdown",
   "metadata": {
    "slideshow": {
     "slide_type": "subslide"
    }
   },
   "source": [
    "- getting weighted columns:"
   ]
  },
  {
   "cell_type": "code",
   "execution_count": 47,
   "metadata": {
    "collapsed": false,
    "slideshow": {
     "slide_type": "-"
    }
   },
   "outputs": [
    {
     "data": {
      "text/plain": [
       "3-element Array{Any,1}:\n",
       " [0.4,0.8,1.2,1.6]\n",
       " [0.8,1.0,1.2,1.4]\n",
       " [0.8,1.6,3.2,4.0]"
      ]
     },
     "execution_count": 47,
     "metadata": {},
     "output_type": "execute_result"
    }
   ],
   "source": [
    "wgts = [0.4 0.2 0.4]\n",
    "kk = map((x, y) -> x.*y[2], wgts, eachcol(df))"
   ]
  },
  {
   "cell_type": "code",
   "execution_count": 48,
   "metadata": {
    "collapsed": false,
    "slideshow": {
     "slide_type": "-"
    }
   },
   "outputs": [
    {
     "data": {
      "text/plain": [
       "4-element Array{Float64,1}:\n",
       " 0.4\n",
       " 0.8\n",
       " 1.2\n",
       " 1.6"
      ]
     },
     "execution_count": 48,
     "metadata": {},
     "output_type": "execute_result"
    }
   ],
   "source": [
    "wgts[1] * [1, 2, 3, 4]"
   ]
  },
  {
   "cell_type": "markdown",
   "metadata": {
    "slideshow": {
     "slide_type": "subslide"
    }
   },
   "source": [
    "- aggregation with `reduce`"
   ]
  },
  {
   "cell_type": "code",
   "execution_count": 49,
   "metadata": {
    "collapsed": false,
    "slideshow": {
     "slide_type": "-"
    }
   },
   "outputs": [
    {
     "data": {
      "text/plain": [
       "4-element DataArray{Float64,1}:\n",
       " 2.0\n",
       " 3.4\n",
       " 5.6\n",
       " 7.0"
      ]
     },
     "execution_count": 49,
     "metadata": {},
     "output_type": "execute_result"
    }
   ],
   "source": [
    "reduce((x, y) -> (x .+ y), map((x, y) -> x.*y[2], wgts, eachcol(df)))"
   ]
  },
  {
   "cell_type": "markdown",
   "metadata": {
    "slideshow": {
     "slide_type": "slide"
    }
   },
   "source": [
    "## Session info"
   ]
  },
  {
   "cell_type": "code",
   "execution_count": 50,
   "metadata": {
    "collapsed": false,
    "slideshow": {
     "slide_type": "subslide"
    }
   },
   "outputs": [
    {
     "name": "stdout",
     "output_type": "stream",
     "text": [
      "Julia Version 0.3.5\n",
      "Commit a05f87b* (2015-01-08 22:33 UTC)\n",
      "Platform Info:\n",
      "  System: Linux (x86_64-linux-gnu)\n",
      "  CPU: Intel(R) Core(TM) i3-3240 CPU @ 3.40GHz\n",
      "  WORD_SIZE: 64\n",
      "  BLAS: libblas.so.3\n",
      "  LAPACK: liblapack.so.3\n",
      "  LIBM: libopenlibm\n",
      "  LLVM: libLLVM-3.3\n"
     ]
    }
   ],
   "source": [
    "versioninfo()"
   ]
  },
  {
   "cell_type": "code",
   "execution_count": 51,
   "metadata": {
    "collapsed": false,
    "slideshow": {
     "slide_type": "subslide"
    }
   },
   "outputs": [
    {
     "name": "stdout",
     "output_type": "stream",
     "text": [
      "18 required packages:\n",
      " - DataArrays                    0.2.9\n",
      " - DataFrames                    0.6.0\n",
      " - Dates                         0.3.2\n",
      " - Debug                         0.0.4\n",
      " - Distributions                 0.6.3\n",
      " - EconDatasets                  0.0.2\n",
      " - GLM                           0.4.2\n",
      " - Gadfly                        0.3.10\n",
      " - IJulia                        0.1.16\n",
      " - JuMP                          0.7.3\n",
      " - MAT                           0.2.9\n",
      " - NLopt                         0.2.0\n",
      " - Quandl                        0.4.0\n",
      " - RDatasets                     0.1.1\n",
      " - Taro                          0.1.2\n",
      " - TimeData                      0.5.1\n",
      " - TimeSeries                    0.4.6\n",
      " - Winston                       0.11.7\n",
      "56 additional packages:\n",
      " - ArrayViews                    0.4.8\n",
      " - BinDeps                       0.3.7\n",
      " - Blosc                         0.1.1\n",
      " - Cairo                         0.2.22\n",
      " - Calculus                      0.1.5\n",
      " - Codecs                        0.1.3\n",
      " - Color                         0.3.15\n",
      " - Compat                        0.2.10\n",
      " - Compose                       0.3.10\n",
      " - Contour                       0.0.6\n",
      " - Copulas                       0.0.0-             master (unregistered, dirty)\n",
      " - DataStructures                0.3.5\n",
      " - Distances                     0.2.0\n",
      " - DualNumbers                   0.1.1\n",
      " - Econometrics                  0.0.0-             master (unregistered)\n",
      " - FixedPointNumbers             0.0.6\n",
      " - GZip                          0.2.13\n",
      " - GnuTLS                        0.0.1\n",
      " - Graphs                        0.5.0\n",
      " - Grid                          0.3.7\n",
      " - Gumbo                         0.1.2\n",
      " - HDF5                          0.4.10\n",
      " - HTTPClient                    0.1.4\n",
      " - Hexagons                      0.0.2\n",
      " - HttpCommon                    0.0.11\n",
      " - HttpParser                    0.0.10\n",
      " - ImmutableArrays               0.0.6\n",
      " - IniFile                       0.2.4\n",
      " - Iterators                     0.1.7\n",
      " - JSON                          0.4.0\n",
      " - JavaCall                      0.2.0\n",
      " - KernelDensity                 0.1.0              b2c9f7d6 (dirty)\n",
      " - LibCURL                       0.1.4\n",
      " - Loess                         0.0.3\n",
      " - MathProgBase                  0.3.8\n",
      " - Memoize                       0.0.0\n",
      " - NaNMath                       0.0.2\n",
      " - Nettle                        0.1.7\n",
      " - NumericExtensions             0.6.2\n",
      " - NumericFuns                   0.2.3\n",
      " - Optim                         0.4.0\n",
      " - PDMats                        0.3.1\n",
      " - Plotly                        0.0.0-             master (unregistered)\n",
      " - REPLCompletions               0.0.3\n",
      " - Reexport                      0.0.2\n",
      " - Requests                      0.0.6\n",
      " - ReverseDiffSparse             0.1.10\n",
      " - SHA                           0.0.3\n",
      " - Showoff                       0.0.3\n",
      " - SortingAlgorithms             0.0.2\n",
      " - StatsBase                     0.6.10\n",
      " - Tk                            0.2.16\n",
      " - URIParser                     0.0.3\n",
      " - WorldBankDataTd               0.0.0-             master (unregistered)\n",
      " - ZMQ                           0.1.15\n",
      " - Zlib                          0.1.7\n"
     ]
    }
   ],
   "source": [
    "Pkg.status()"
   ]
  }
 ],
 "metadata": {
  "celltoolbar": "Slideshow",
  "kernelspec": {
   "display_name": "Julia",
   "name": "julia"
  },
  "language": "Julia",
  "language_info": {
   "name": "julia",
   "version": "0.3.5"
  }
 },
 "nbformat": 4,
 "nbformat_minor": 0
}
