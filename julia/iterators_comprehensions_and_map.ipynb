{
 "metadata": {
  "celltoolbar": "Slideshow",
  "language": "Julia",
  "name": "",
  "signature": "sha256:05aa097d45c3e21810e7e78a1e6415df5c494542586f4552c5e2a65a0bf41795"
 },
 "nbformat": 3,
 "nbformat_minor": 0,
 "worksheets": [
  {
   "cells": [
    {
     "cell_type": "heading",
     "level": 1,
     "metadata": {
      "slideshow": {
       "slide_type": "slide"
      }
     },
     "source": [
      "Comprehensions"
     ]
    },
    {
     "cell_type": "markdown",
     "metadata": {
      "slideshow": {
       "slide_type": "subslide"
      }
     },
     "source": [
      "- load required packages"
     ]
    },
    {
     "cell_type": "code",
     "collapsed": false,
     "input": [
      "using DataArrays\n",
      "using DataFrames\n",
      "using TimeData\n",
      "using Datetime"
     ],
     "language": "python",
     "metadata": {
      "slideshow": {
       "slide_type": "-"
      }
     },
     "outputs": [],
     "prompt_number": 1
    },
    {
     "cell_type": "markdown",
     "metadata": {
      "slideshow": {
       "slide_type": "subslide"
      }
     },
     "source": [
      "- **comprehensions**: easy way to build `Arrays`"
     ]
    },
    {
     "cell_type": "code",
     "collapsed": false,
     "input": [
      "[ii for ii=1:4]"
     ],
     "language": "python",
     "metadata": {
      "slideshow": {
       "slide_type": "-"
      }
     },
     "outputs": [
      {
       "metadata": {},
       "output_type": "pyout",
       "prompt_number": 2,
       "text": [
        "4-element Array{Int64,1}:\n",
        " 1\n",
        " 2\n",
        " 3\n",
        " 4"
       ]
      }
     ],
     "prompt_number": 2
    },
    {
     "cell_type": "markdown",
     "metadata": {
      "slideshow": {
       "slide_type": "subslide"
      }
     },
     "source": [
      "- **forcing type** of individual entries through prepending type declaration"
     ]
    },
    {
     "cell_type": "code",
     "collapsed": false,
     "input": [
      "Float64[ii for ii=1:4]"
     ],
     "language": "python",
     "metadata": {
      "slideshow": {
       "slide_type": "-"
      }
     },
     "outputs": [
      {
       "metadata": {},
       "output_type": "pyout",
       "prompt_number": 3,
       "text": [
        "4-element Array{Float64,1}:\n",
        " 1.0\n",
        " 2.0\n",
        " 3.0\n",
        " 4.0"
       ]
      }
     ],
     "prompt_number": 3
    },
    {
     "cell_type": "markdown",
     "metadata": {
      "slideshow": {
       "slide_type": "subslide"
      }
     },
     "source": [
      "- similar logic: collect elements of **any type** in `Array` of type `Any`"
     ]
    },
    {
     "cell_type": "code",
     "collapsed": false,
     "input": [
      "Any[\"Hello\" 3 4.0 NA]"
     ],
     "language": "python",
     "metadata": {
      "slideshow": {
       "slide_type": "-"
      }
     },
     "outputs": [
      {
       "metadata": {},
       "output_type": "pyout",
       "prompt_number": 4,
       "text": [
        "1x4 Array{Any,2}:\n",
        " \"Hello\"  3  4.0  NA"
       ]
      }
     ],
     "prompt_number": 4
    },
    {
     "cell_type": "markdown",
     "metadata": {
      "slideshow": {
       "slide_type": "subslide"
      }
     },
     "source": [
      "- comprehensions also can be used to capture more complex iterated output\n",
      "- for example: **iteration over** **sample size** or **parameter values**"
     ]
    },
    {
     "cell_type": "code",
     "collapsed": false,
     "input": [
      "[Timematr(rand(nObs, 2)) for nObs in [2, 10]]"
     ],
     "language": "python",
     "metadata": {
      "slideshow": {
       "slide_type": "-"
      }
     },
     "outputs": [
      {
       "metadata": {},
       "output_type": "pyout",
       "prompt_number": 5,
       "text": [
        "2-element Array{Timematr{Int64},1}:\n",
        " Timematr{Int64}(2x2 DataFrame\n",
        "|-------|----------|-----------|\n",
        "| Row # | x1       | x2        |\n",
        "| 1     | 0.924877 | 0.0589038 |\n",
        "| 2     | 0.386436 | 0.585929  |,[1,2])                                                                                                                                                                                                                                                                                                      \n",
        " Timematr{Int64}(10x2 DataFrame\n",
        "|-------|-----------|-----------|\n",
        "| Row # | x1        | x2        |\n",
        "| 1     | 0.893802  | 0.149906  |\n",
        "| 2     | 0.781098  | 0.359074  |\n",
        "| 3     | 0.714699  | 0.600441  |\n",
        "| 4     | 0.0838327 | 0.269249  |\n",
        "| 5     | 0.536837  | 0.204166  |\n",
        "| 6     | 0.11212   | 0.64584   |\n",
        "| 7     | 0.771591  | 0.980771  |\n",
        "| 8     | 0.493165  | 0.512922  |\n",
        "| 9     | 0.632317  | 0.588925  |\n",
        "| 10    | 0.155014  | 0.0465098 |,[1,2,3,4,5,6,7,8,9,10])"
       ]
      }
     ],
     "prompt_number": 5
    },
    {
     "cell_type": "markdown",
     "metadata": {
      "slideshow": {
       "slide_type": "subslide"
      }
     },
     "source": [
      "- using **single index** _ii_, it is **not** directly possible to get **`Array{T, 2}`** through comprehension"
     ]
    },
    {
     "cell_type": "code",
     "collapsed": false,
     "input": [
      "[[1 2] for ii=1:4]"
     ],
     "language": "python",
     "metadata": {
      "slideshow": {
       "slide_type": "-"
      }
     },
     "outputs": [
      {
       "metadata": {},
       "output_type": "pyout",
       "prompt_number": 6,
       "text": [
        "4-element Array{Array{Int64,2},1}:\n",
        " 1x2 Array{Int64,2}:\n",
        " 1  2\n",
        " 1x2 Array{Int64,2}:\n",
        " 1  2\n",
        " 1x2 Array{Int64,2}:\n",
        " 1  2\n",
        " 1x2 Array{Int64,2}:\n",
        " 1  2"
       ]
      }
     ],
     "prompt_number": 6
    },
    {
     "cell_type": "heading",
     "level": 2,
     "metadata": {
      "slideshow": {
       "slide_type": "slide"
      }
     },
     "source": [
      "Splicing"
     ]
    },
    {
     "cell_type": "markdown",
     "metadata": {
      "slideshow": {
       "slide_type": "subslide"
      }
     },
     "source": [
      "- **successively** returning components of collection\n",
      "- could be used to **paste** elements of a **collection into function** arguments\n",
      "- allows easy **creation** of **`Arrays`**"
     ]
    },
    {
     "cell_type": "markdown",
     "metadata": {
      "slideshow": {
       "slide_type": "subslide"
      }
     },
     "source": [
      "- applying **`[ ]`** to collection only captures whole collection as **single entry of** an **`Array`**"
     ]
    },
    {
     "cell_type": "code",
     "collapsed": false,
     "input": [
      "kk = (1, 2, 3, 4)\n",
      "[kk]"
     ],
     "language": "python",
     "metadata": {},
     "outputs": [
      {
       "metadata": {},
       "output_type": "pyout",
       "prompt_number": 7,
       "text": [
        "1-element Array{(Int64,Int64,Int64,Int64),1}:\n",
        " (1,2,3,4)"
       ]
      }
     ],
     "prompt_number": 7
    },
    {
     "cell_type": "markdown",
     "metadata": {
      "slideshow": {
       "slide_type": "subslide"
      }
     },
     "source": [
      "- with **splicing**: **each element** of the collection gets its **own entry** within an **`Array`**"
     ]
    },
    {
     "cell_type": "code",
     "collapsed": false,
     "input": [
      "[kk...]"
     ],
     "language": "python",
     "metadata": {},
     "outputs": [
      {
       "metadata": {},
       "output_type": "pyout",
       "prompt_number": 8,
       "text": [
        "4-element Array{Int64,1}:\n",
        " 1\n",
        " 2\n",
        " 3\n",
        " 4"
       ]
      }
     ],
     "prompt_number": 8
    },
    {
     "cell_type": "markdown",
     "metadata": {
      "slideshow": {
       "slide_type": "subslide"
      }
     },
     "source": [
      "- works out of the box: even **for new types**"
     ]
    },
    {
     "cell_type": "code",
     "collapsed": false,
     "input": [
      "type foo\n",
      "    value\n",
      "end"
     ],
     "language": "python",
     "metadata": {},
     "outputs": [],
     "prompt_number": 9
    },
    {
     "cell_type": "code",
     "collapsed": false,
     "input": [
      "fooObj = foo(3)"
     ],
     "language": "python",
     "metadata": {
      "slideshow": {
       "slide_type": "fragment"
      }
     },
     "outputs": [
      {
       "metadata": {},
       "output_type": "pyout",
       "prompt_number": 10,
       "text": [
        "foo(3)"
       ]
      }
     ],
     "prompt_number": 10
    },
    {
     "cell_type": "code",
     "collapsed": false,
     "input": [
      "kk = (fooObj, fooObj, fooObj)\n",
      "[kk...]"
     ],
     "language": "python",
     "metadata": {
      "slideshow": {
       "slide_type": "fragment"
      }
     },
     "outputs": [
      {
       "metadata": {},
       "output_type": "pyout",
       "prompt_number": 11,
       "text": [
        "3-element Array{foo,1}:\n",
        " foo(3)\n",
        " foo(3)\n",
        " foo(3)"
       ]
      }
     ],
     "prompt_number": 11
    },
    {
     "cell_type": "markdown",
     "metadata": {
      "slideshow": {
       "slide_type": "subslide"
      }
     },
     "source": [
      "- for some types, there might be **more meaningful ways** to vertically **store successive values** than inside of an `Array`\n",
      "- `vcat`: allows **combination** of objects in specified **structure**"
     ]
    },
    {
     "cell_type": "code",
     "collapsed": false,
     "input": [
      "vcat([1 2], [1 2])"
     ],
     "language": "python",
     "metadata": {},
     "outputs": [
      {
       "metadata": {},
       "output_type": "pyout",
       "prompt_number": 12,
       "text": [
        "2x2 Array{Int64,2}:\n",
        " 1  2\n",
        " 1  2"
       ]
      }
     ],
     "prompt_number": 12
    },
    {
     "cell_type": "markdown",
     "metadata": {
      "slideshow": {
       "slide_type": "subslide"
      }
     },
     "source": [
      "- `vcat` also works for **variable** number of **input arguments**:"
     ]
    },
    {
     "cell_type": "code",
     "collapsed": false,
     "input": [
      "kk = ([1 2], [3 4], [5 6])"
     ],
     "language": "python",
     "metadata": {},
     "outputs": [
      {
       "metadata": {},
       "output_type": "pyout",
       "prompt_number": 13,
       "text": [
        "(\n",
        "1x2 Array{Int64,2}:\n",
        " 1  2,\n",
        "\n",
        "1x2 Array{Int64,2}:\n",
        " 3  4,\n",
        "\n",
        "1x2 Array{Int64,2}:\n",
        " 5  6)"
       ]
      }
     ],
     "prompt_number": 13
    },
    {
     "cell_type": "code",
     "collapsed": false,
     "input": [
      "vcat(kk[1], kk[2], kk[3])"
     ],
     "language": "python",
     "metadata": {
      "slideshow": {
       "slide_type": "-"
      }
     },
     "outputs": [
      {
       "metadata": {},
       "output_type": "pyout",
       "prompt_number": 14,
       "text": [
        "3x2 Array{Int64,2}:\n",
        " 1  2\n",
        " 3  4\n",
        " 5  6"
       ]
      }
     ],
     "prompt_number": 14
    },
    {
     "cell_type": "markdown",
     "metadata": {
      "slideshow": {
       "slide_type": "subslide"
      }
     },
     "source": [
      "- together with splicing, `vcat` conveniently **transforms tuple** of values **into** concise **`Array`**:"
     ]
    },
    {
     "cell_type": "code",
     "collapsed": false,
     "input": [
      "vcat(kk...)"
     ],
     "language": "python",
     "metadata": {},
     "outputs": [
      {
       "metadata": {},
       "output_type": "pyout",
       "prompt_number": 15,
       "text": [
        "3x2 Array{Int64,2}:\n",
        " 1  2\n",
        " 3  4\n",
        " 5  6"
       ]
      }
     ],
     "prompt_number": 15
    },
    {
     "cell_type": "code",
     "collapsed": false,
     "input": [
      "vcat([[1 2] for ii=1:4]...)"
     ],
     "language": "python",
     "metadata": {
      "slideshow": {
       "slide_type": "fragment"
      }
     },
     "outputs": [
      {
       "metadata": {},
       "output_type": "pyout",
       "prompt_number": 16,
       "text": [
        "4x2 Array{Int64,2}:\n",
        " 1  2\n",
        " 1  2\n",
        " 1  2\n",
        " 1  2"
       ]
      }
     ],
     "prompt_number": 16
    },
    {
     "cell_type": "markdown",
     "metadata": {
      "slideshow": {
       "slide_type": "subslide"
      }
     },
     "source": [
      "- **`[ ]`** applied to **spliced elements** implicitly **calls `vcat`**\n",
      "- applied to `Array{Int,2}`, this results in **two-dimensional Array**"
     ]
    },
    {
     "cell_type": "code",
     "collapsed": false,
     "input": [
      "kk = [[1 2] for ii=1:4]\n",
      "[kk...]"
     ],
     "language": "python",
     "metadata": {},
     "outputs": [
      {
       "metadata": {},
       "output_type": "pyout",
       "prompt_number": 17,
       "text": [
        "4x2 Array{Int64,2}:\n",
        " 1  2\n",
        " 1  2\n",
        " 1  2\n",
        " 1  2"
       ]
      }
     ],
     "prompt_number": 17
    },
    {
     "cell_type": "markdown",
     "metadata": {
      "slideshow": {
       "slide_type": "subslide"
      }
     },
     "source": [
      "- both steps performed **simultaneously**:"
     ]
    },
    {
     "cell_type": "code",
     "collapsed": false,
     "input": [
      "[[[1 2] for ii=1:4]...]"
     ],
     "language": "python",
     "metadata": {},
     "outputs": [
      {
       "metadata": {},
       "output_type": "pyout",
       "prompt_number": 18,
       "text": [
        "4x2 Array{Int64,2}:\n",
        " 1  2\n",
        " 1  2\n",
        " 1  2\n",
        " 1  2"
       ]
      }
     ],
     "prompt_number": 18
    },
    {
     "cell_type": "markdown",
     "metadata": {
      "slideshow": {
       "slide_type": "subslide"
      }
     },
     "source": [
      "- **alternatively**, same result could be achieved **without splicing** through usage of **two index variables**"
     ]
    },
    {
     "cell_type": "code",
     "collapsed": false,
     "input": [
      "[jj for ii=1:4, jj=1:2]"
     ],
     "language": "python",
     "metadata": {},
     "outputs": [
      {
       "metadata": {},
       "output_type": "pyout",
       "prompt_number": 19,
       "text": [
        "4x2 Array{Int64,2}:\n",
        " 1  2\n",
        " 1  2\n",
        " 1  2\n",
        " 1  2"
       ]
      }
     ],
     "prompt_number": 19
    },
    {
     "cell_type": "markdown",
     "metadata": {
      "slideshow": {
       "slide_type": "subslide"
      }
     },
     "source": [
      "- in general, **splicing and comprehension** allows for **data structures different to `Array`** \n",
      "- for **example**, application of splicing and comprehension to **`DataFrames`** will return a `DataFrame` again"
     ]
    },
    {
     "cell_type": "code",
     "collapsed": false,
     "input": [
      "df = DataFrame()\n",
      "df[:a] = @data([5, 6, NA])\n",
      "df[:b] = @data([8, NA, NA])\n",
      "\n",
      "kk = (df, df)\n",
      "xx = [kk...]"
     ],
     "language": "python",
     "metadata": {
      "slideshow": {
       "slide_type": "-"
      }
     },
     "outputs": [
      {
       "html": [
        "<table class=\"data-frame\"><tr><th></th><th>a</th><th>b</th></tr><tr><th>1</th><td>5</td><td>8</td></tr><tr><th>2</th><td>6</td><td>NA</td></tr><tr><th>3</th><td>NA</td><td>NA</td></tr><tr><th>4</th><td>5</td><td>8</td></tr><tr><th>5</th><td>6</td><td>NA</td></tr><tr><th>6</th><td>NA</td><td>NA</td></tr></table>"
       ],
       "metadata": {},
       "output_type": "pyout",
       "prompt_number": 20,
       "text": [
        "6x2 DataFrame\n",
        "|-------|----|----|\n",
        "| Row # | a  | b  |\n",
        "| 1     | 5  | 8  |\n",
        "| 2     | 6  | NA |\n",
        "| 3     | NA | NA |\n",
        "| 4     | 5  | 8  |\n",
        "| 5     | 6  | NA |\n",
        "| 6     | NA | NA |"
       ]
      }
     ],
     "prompt_number": 20
    },
    {
     "cell_type": "code",
     "collapsed": false,
     "input": [
      "typeof(xx)"
     ],
     "language": "python",
     "metadata": {
      "slideshow": {
       "slide_type": "fragment"
      }
     },
     "outputs": [
      {
       "metadata": {},
       "output_type": "pyout",
       "prompt_number": 21,
       "text": [
        "DataFrame (constructor with 22 methods)"
       ]
      }
     ],
     "prompt_number": 21
    },
    {
     "cell_type": "heading",
     "level": 1,
     "metadata": {
      "slideshow": {
       "slide_type": "slide"
      }
     },
     "source": [
      "Iterators"
     ]
    },
    {
     "cell_type": "markdown",
     "metadata": {
      "slideshow": {
       "slide_type": "subslide"
      }
     },
     "source": [
      "under the hood, comprehensions make use of iterators:"
     ]
    },
    {
     "cell_type": "markdown",
     "metadata": {},
     "source": [
      "- iterators **successively return** values from a **collection**\n",
      "- iterators can be **specified for each type**"
     ]
    },
    {
     "cell_type": "markdown",
     "metadata": {
      "slideshow": {
       "slide_type": "subslide"
      }
     },
     "source": [
      "- for example: **column iterator of `DataFrames`**, which returns a tuple with column name and values given as `DataArray` for each column"
     ]
    },
    {
     "cell_type": "code",
     "collapsed": false,
     "input": [
      "df = DataFrame()\n",
      "df[:a] = @data([5, 6, NA])\n",
      "df[:b] = @data([8, NA, NA])\n",
      "\n",
      "[col for col in eachcol(df)]"
     ],
     "language": "python",
     "metadata": {},
     "outputs": [
      {
       "metadata": {},
       "output_type": "pyout",
       "prompt_number": 22,
       "text": [
        "2-element Array{Any,1}:\n",
        " (:a,[5,6,NA]) \n",
        " (:b,[8,NA,NA])"
       ]
      }
     ],
     "prompt_number": 22
    },
    {
     "cell_type": "markdown",
     "metadata": {
      "slideshow": {
       "slide_type": "subslide"
      }
     },
     "source": [
      "- although **comprehension** is a quite convenient way to **show the values of an iterator**, keep in mind that it also **automatically** captures the result in an **`Array`**\n",
      "- this might be **unnecessarily costly** in some regard**?** (time consuming, allocating more memory, ...)"
     ]
    },
    {
     "cell_type": "code",
     "collapsed": false,
     "input": [
      "@time kk = [display(col) for col in eachcol(df)]"
     ],
     "language": "python",
     "metadata": {},
     "outputs": [
      {
       "metadata": {},
       "output_type": "display_data",
       "text": [
        "(:a,[5,6,NA])"
       ]
      },
      {
       "metadata": {},
       "output_type": "display_data",
       "text": [
        "(:b,[8,NA,NA])"
       ]
      },
      {
       "output_type": "stream",
       "stream": "stdout",
       "text": [
        "elapsed time: 0."
       ]
      },
      {
       "output_type": "stream",
       "stream": "stdout",
       "text": [
        "054614111 seconds (1727336 bytes allocated)\n"
       ]
      },
      {
       "metadata": {},
       "output_type": "pyout",
       "prompt_number": 23,
       "text": [
        "2-element Array{Any,1}:\n",
        " nothing\n",
        " nothing"
       ]
      }
     ],
     "prompt_number": 23
    },
    {
     "cell_type": "markdown",
     "metadata": {
      "slideshow": {
       "slide_type": "subslide"
      }
     },
     "source": [
      "- for comparison, only displaying iterated elements:"
     ]
    },
    {
     "cell_type": "code",
     "collapsed": false,
     "input": [
      "@time for col in eachcol(df)\n",
      "    display(col)\n",
      "end"
     ],
     "language": "python",
     "metadata": {},
     "outputs": [
      {
       "metadata": {},
       "output_type": "display_data",
       "text": [
        "(:a,[5,6,NA])"
       ]
      },
      {
       "metadata": {},
       "output_type": "display_data",
       "text": [
        "(:b,[8,NA,NA])"
       ]
      },
      {
       "output_type": "stream",
       "stream": "stdout",
       "text": [
        "elapsed time: 0.002459677 seconds (34180 bytes allocated)\n"
       ]
      }
     ],
     "prompt_number": 24
    },
    {
     "cell_type": "markdown",
     "metadata": {
      "slideshow": {
       "slide_type": "subslide"
      }
     },
     "source": [
      "- **`DataFrame` iterator** returns tuple, so that **values only** (without column name) are obtained **through indexing**"
     ]
    },
    {
     "cell_type": "code",
     "collapsed": false,
     "input": [
      "[col[2] for col in eachcol(df)]"
     ],
     "language": "python",
     "metadata": {},
     "outputs": [
      {
       "metadata": {},
       "output_type": "pyout",
       "prompt_number": 25,
       "text": [
        "2-element Array{Any,1}:\n",
        " [5,6,NA] \n",
        " [8,NA,NA]"
       ]
      }
     ],
     "prompt_number": 25
    },
    {
     "cell_type": "markdown",
     "metadata": {
      "slideshow": {
       "slide_type": "subslide"
      }
     },
     "source": [
      "two **applications of iterators** come to mind immediately:"
     ]
    },
    {
     "cell_type": "markdown",
     "metadata": {
      "slideshow": {
       "slide_type": "-"
      }
     },
     "source": [
      "- iteratively manipulating entries of a type\n",
      "- building a new object by iteratively using an existing object"
     ]
    },
    {
     "cell_type": "heading",
     "level": 2,
     "metadata": {
      "slideshow": {
       "slide_type": "slide"
      }
     },
     "source": [
      "Iteratively manipulating entries"
     ]
    },
    {
     "cell_type": "markdown",
     "metadata": {
      "slideshow": {
       "slide_type": "subslide"
      }
     },
     "source": [
      "example: **iteratively manipulating columns of `DataFrame`**"
     ]
    },
    {
     "cell_type": "markdown",
     "metadata": {},
     "source": [
      "- as seen above, values need to be referenced within column iterator tuple with subindex 2\n",
      "- **setting first entry of each column to 10**:"
     ]
    },
    {
     "cell_type": "code",
     "collapsed": false,
     "input": [
      "for col in eachcol(df)\n",
      "    col[2][1] = 10\n",
      "end\n",
      "df"
     ],
     "language": "python",
     "metadata": {},
     "outputs": [
      {
       "html": [
        "<table class=\"data-frame\"><tr><th></th><th>a</th><th>b</th></tr><tr><th>1</th><td>10</td><td>10</td></tr><tr><th>2</th><td>6</td><td>NA</td></tr><tr><th>3</th><td>NA</td><td>NA</td></tr></table>"
       ],
       "metadata": {},
       "output_type": "pyout",
       "prompt_number": 26,
       "text": [
        "3x2 DataFrame\n",
        "|-------|----|----|\n",
        "| Row # | a  | b  |\n",
        "| 1     | 10 | 10 |\n",
        "| 2     | 6  | NA |\n",
        "| 3     | NA | NA |"
       ]
      }
     ],
     "prompt_number": 26
    },
    {
     "cell_type": "markdown",
     "metadata": {
      "slideshow": {
       "slide_type": "subslide"
      }
     },
     "source": [
      "- let's try **multiplying each column by 10**:"
     ]
    },
    {
     "cell_type": "code",
     "collapsed": false,
     "input": [
      "for col in eachcol(df)\n",
      "    col[2] = col[2].*10\n",
      "end"
     ],
     "language": "python",
     "metadata": {},
     "outputs": [
      {
       "ename": "LoadError",
       "evalue": "`setindex!` has no method matching setindex!(::(Symbol,DataArray{Int64,1}), ::DataArray{Int64,1}, ::Int64)\nwhile loading In[27], in expression starting on line 1",
       "output_type": "pyerr",
       "traceback": [
        "`setindex!` has no method matching setindex!(::(Symbol,DataArray{Int64,1}), ::DataArray{Int64,1}, ::Int64)\nwhile loading In[27], in expression starting on line 1",
        " in anonymous at no file:2"
       ]
      }
     ],
     "prompt_number": 27
    },
    {
     "cell_type": "markdown",
     "metadata": {
      "slideshow": {
       "slide_type": "subslide"
      }
     },
     "source": [
      "- the **correct way** is:"
     ]
    },
    {
     "cell_type": "code",
     "collapsed": false,
     "input": [
      "for col in eachcol(df)\n",
      "    col[2][:] = col[2].*10\n",
      "end\n",
      "df"
     ],
     "language": "python",
     "metadata": {},
     "outputs": [
      {
       "html": [
        "<table class=\"data-frame\"><tr><th></th><th>a</th><th>b</th></tr><tr><th>1</th><td>100</td><td>100</td></tr><tr><th>2</th><td>60</td><td>NA</td></tr><tr><th>3</th><td>NA</td><td>NA</td></tr></table>"
       ],
       "metadata": {},
       "output_type": "pyout",
       "prompt_number": 28,
       "text": [
        "3x2 DataFrame\n",
        "|-------|-----|-----|\n",
        "| Row # | a   | b   |\n",
        "| 1     | 100 | 100 |\n",
        "| 2     | 60  | NA  |\n",
        "| 3     | NA  | NA  |"
       ]
      }
     ],
     "prompt_number": 28
    },
    {
     "cell_type": "markdown",
     "metadata": {
      "slideshow": {
       "slide_type": "subslide"
      }
     },
     "source": [
      "- applying a similar logic for the **manipulation of** entries of an **`Array{Int, 1}` fails**:"
     ]
    },
    {
     "cell_type": "code",
     "collapsed": false,
     "input": [
      "kk = [1, 2, 3, 4]\n",
      "for entry in kk\n",
      "    entry[1] = entry*5\n",
      "end\n",
      "kk"
     ],
     "language": "python",
     "metadata": {},
     "outputs": [
      {
       "ename": "LoadError",
       "evalue": "`setindex!` has no method matching setindex!(::Int64, ::Int64, ::Int64)\nwhile loading In[29], in expression starting on line 2",
       "output_type": "pyerr",
       "traceback": [
        "`setindex!` has no method matching setindex!(::Int64, ::Int64, ::Int64)\nwhile loading In[29], in expression starting on line 2",
        " in anonymous at no file:3"
       ]
      }
     ],
     "prompt_number": 29
    },
    {
     "cell_type": "markdown",
     "metadata": {
      "slideshow": {
       "slide_type": "subslide"
      }
     },
     "source": [
      "- trying **similar transformation of** columns of a **`Timenum`** object"
     ]
    },
    {
     "cell_type": "code",
     "collapsed": false,
     "input": [
      "dats = [date(2014,1,1):date(2014,1,3)]\n",
      "tn = Timenum(df, dats)"
     ],
     "language": "python",
     "metadata": {},
     "outputs": [
      {
       "html": [
        "<p><strong>Timenum{Date{ISOCalendar}}</strong></p><p>Dimensions: <strong>(3, 2)</strong></p><p>From: <strong>2014-01-01</strong>, To: <strong>2014-01-03</strong></p><table class=\"data-frame\"><tr><th></th><th>idx</th><th>a</th><th>b</th></tr><tr><th>1</th><td>2014-01-01</td><td>100</td><td>100</td></tr><tr><th>2</th><td>2014-01-02</td><td>60</td><td>NA</td></tr><tr><th>3</th><td>2014-01-03</td><td>NA</td><td>NA</td></tr></table>"
       ],
       "metadata": {},
       "output_type": "pyout",
       "prompt_number": 30,
       "text": [
        "Timenum{Date{ISOCalendar}}(3x2 DataFrame\n",
        "|-------|-----|-----|\n",
        "| Row # | a   | b   |\n",
        "| 1     | 100 | 100 |\n",
        "| 2     | 60  | NA  |\n",
        "| 3     | NA  | NA  |,[2014-01-01,2014-01-02,2014-01-03])"
       ]
      }
     ],
     "prompt_number": 30
    },
    {
     "cell_type": "markdown",
     "metadata": {
      "slideshow": {
       "slide_type": "subslide"
      }
     },
     "source": [
      " - **iterative multiplication** of columns: **fails** (without error!) as `setindex!` methods are not defined"
     ]
    },
    {
     "cell_type": "code",
     "collapsed": false,
     "input": [
      "for col in eachcol(tn)\n",
      "    col = col.*2\n",
      "end\n",
      "tn"
     ],
     "language": "python",
     "metadata": {},
     "outputs": [
      {
       "html": [
        "<p><strong>Timenum{Date{ISOCalendar}}</strong></p><p>Dimensions: <strong>(3, 2)</strong></p><p>From: <strong>2014-01-01</strong>, To: <strong>2014-01-03</strong></p><table class=\"data-frame\"><tr><th></th><th>idx</th><th>a</th><th>b</th></tr><tr><th>1</th><td>2014-01-01</td><td>100</td><td>100</td></tr><tr><th>2</th><td>2014-01-02</td><td>60</td><td>NA</td></tr><tr><th>3</th><td>2014-01-03</td><td>NA</td><td>NA</td></tr></table>"
       ],
       "metadata": {},
       "output_type": "pyout",
       "prompt_number": 31,
       "text": [
        "Timenum{Date{ISOCalendar}}(3x2 DataFrame\n",
        "|-------|-----|-----|\n",
        "| Row # | a   | b   |\n",
        "| 1     | 100 | 100 |\n",
        "| 2     | 60  | NA  |\n",
        "| 3     | NA  | NA  |,[2014-01-01,2014-01-02,2014-01-03])"
       ]
      }
     ],
     "prompt_number": 31
    },
    {
     "cell_type": "markdown",
     "metadata": {
      "slideshow": {
       "slide_type": "subslide"
      }
     },
     "source": [
      "- we need **detour to** the underlying **`DataFrame`**\n",
      "- **be cautious** to correctly index the entries: the following code is **not working**"
     ]
    },
    {
     "cell_type": "code",
     "collapsed": false,
     "input": [
      "for col in eachcol(tn)\n",
      "    col.vals.columns[1] = col.vals.columns[1].*2\n",
      "    display(col.vals.columns[1])\n",
      "end\n",
      "tn"
     ],
     "language": "python",
     "metadata": {},
     "outputs": [
      {
       "metadata": {},
       "output_type": "display_data",
       "text": [
        "3-element DataArray{Int64,1}:\n",
        " 200  \n",
        " 120  \n",
        "    NA"
       ]
      },
      {
       "metadata": {},
       "output_type": "display_data",
       "text": [
        "3-element DataArray{Int64,1}:\n",
        " 200  \n",
        "    NA\n",
        "    NA"
       ]
      },
      {
       "html": [
        "<p><strong>Timenum{Date{ISOCalendar}}</strong></p><p>Dimensions: <strong>(3, 2)</strong></p><p>From: <strong>2014-01-01</strong>, To: <strong>2014-01-03</strong></p><table class=\"data-frame\"><tr><th></th><th>idx</th><th>a</th><th>b</th></tr><tr><th>1</th><td>2014-01-01</td><td>100</td><td>100</td></tr><tr><th>2</th><td>2014-01-02</td><td>60</td><td>NA</td></tr><tr><th>3</th><td>2014-01-03</td><td>NA</td><td>NA</td></tr></table>"
       ],
       "metadata": {},
       "output_type": "pyout",
       "prompt_number": 32,
       "text": [
        "Timenum{Date{ISOCalendar}}(3x2 DataFrame\n",
        "|-------|-----|-----|\n",
        "| Row # | a   | b   |\n",
        "| 1     | 100 | 100 |\n",
        "| 2     | 60  | NA  |\n",
        "| 3     | NA  | NA  |,[2014-01-01,2014-01-02,2014-01-03])"
       ]
      }
     ],
     "prompt_number": 32
    },
    {
     "cell_type": "markdown",
     "metadata": {
      "slideshow": {
       "slide_type": "subslide"
      }
     },
     "source": [
      "- we need an **additional colon indexing** to write into an existing column"
     ]
    },
    {
     "cell_type": "code",
     "collapsed": false,
     "input": [
      "for col in eachcol(tn)\n",
      "    col.vals.columns[1][:] = col.vals.columns[1].*2\n",
      "end\n",
      "tn"
     ],
     "language": "python",
     "metadata": {},
     "outputs": [
      {
       "html": [
        "<p><strong>Timenum{Date{ISOCalendar}}</strong></p><p>Dimensions: <strong>(3, 2)</strong></p><p>From: <strong>2014-01-01</strong>, To: <strong>2014-01-03</strong></p><table class=\"data-frame\"><tr><th></th><th>idx</th><th>a</th><th>b</th></tr><tr><th>1</th><td>2014-01-01</td><td>200</td><td>200</td></tr><tr><th>2</th><td>2014-01-02</td><td>120</td><td>NA</td></tr><tr><th>3</th><td>2014-01-03</td><td>NA</td><td>NA</td></tr></table>"
       ],
       "metadata": {},
       "output_type": "pyout",
       "prompt_number": 33,
       "text": [
        "Timenum{Date{ISOCalendar}}(3x2 DataFrame\n",
        "|-------|-----|-----|\n",
        "| Row # | a   | b   |\n",
        "| 1     | 200 | 200 |\n",
        "| 2     | 120 | NA  |\n",
        "| 3     | NA  | NA  |,[2014-01-01,2014-01-02,2014-01-03])"
       ]
      }
     ],
     "prompt_number": 33
    },
    {
     "cell_type": "heading",
     "level": 2,
     "metadata": {
      "slideshow": {
       "slide_type": "slide"
      }
     },
     "source": [
      "Creating new objects by iteratively manipulating existing objects"
     ]
    },
    {
     "cell_type": "markdown",
     "metadata": {
      "slideshow": {
       "slide_type": "subslide"
      }
     },
     "source": [
      "- iterator protocols make **recursive data manipulation** easy\n",
      "- combined **with comprehension**, this allows for **easy creation of new objects**\n",
      "- for **example**: creating `Array` of squared entries"
     ]
    },
    {
     "cell_type": "code",
     "collapsed": false,
     "input": [
      "kk = [1 2 3 4]\n",
      "kk2 = [ii.^2 for ii in kk]"
     ],
     "language": "python",
     "metadata": {},
     "outputs": [
      {
       "metadata": {},
       "output_type": "pyout",
       "prompt_number": 34,
       "text": [
        "4-element Array{Any,1}:\n",
        "  1\n",
        "  4\n",
        "  9\n",
        " 16"
       ]
      }
     ],
     "prompt_number": 34
    },
    {
     "cell_type": "markdown",
     "metadata": {
      "slideshow": {
       "slide_type": "subslide"
      }
     },
     "source": [
      "- again, there might be **more meaningful ways** to combine the individual parts than an **`Array`** as we get it from comprehension"
     ]
    },
    {
     "cell_type": "code",
     "collapsed": false,
     "input": [
      "df = DataFrame()\n",
      "df[:a] = @data([5, 6, NA])\n",
      "df[:b] = @data([8, NA, NA])\n",
      "\n",
      "dats = [date(2014,1,1):date(2014,1,3)]\n",
      "tn = Timenum(df, dats)"
     ],
     "language": "python",
     "metadata": {},
     "outputs": [
      {
       "html": [
        "<p><strong>Timenum{Date{ISOCalendar}}</strong></p><p>Dimensions: <strong>(3, 2)</strong></p><p>From: <strong>2014-01-01</strong>, To: <strong>2014-01-03</strong></p><table class=\"data-frame\"><tr><th></th><th>idx</th><th>a</th><th>b</th></tr><tr><th>1</th><td>2014-01-01</td><td>5</td><td>8</td></tr><tr><th>2</th><td>2014-01-02</td><td>6</td><td>NA</td></tr><tr><th>3</th><td>2014-01-03</td><td>NA</td><td>NA</td></tr></table>"
       ],
       "metadata": {},
       "output_type": "pyout",
       "prompt_number": 35,
       "text": [
        "Timenum{Date{ISOCalendar}}(3x2 DataFrame\n",
        "|-------|----|----|\n",
        "| Row # | a  | b  |\n",
        "| 1     | 5  | 8  |\n",
        "| 2     | 6  | NA |\n",
        "| 3     | NA | NA |,[2014-01-01,2014-01-02,2014-01-03])"
       ]
      }
     ],
     "prompt_number": 35
    },
    {
     "cell_type": "code",
     "collapsed": false,
     "input": [
      "kk = [col.*2 for col in eachcol(tn)]"
     ],
     "language": "python",
     "metadata": {
      "slideshow": {
       "slide_type": "subslide"
      }
     },
     "outputs": [
      {
       "metadata": {},
       "output_type": "pyout",
       "prompt_number": 36,
       "text": [
        "2-element Array{Any,1}:\n",
        " Timenum{Date{ISOCalendar}}(3x1 DataFrame\n",
        "|-------|----|\n",
        "| Row # | a  |\n",
        "| 1     | 10 |\n",
        "| 2     | 12 |\n",
        "| 3     | NA |,[2014-01-01,2014-01-02,2014-01-03])\n",
        " Timenum{Date{ISOCalendar}}(3x1 DataFrame\n",
        "|-------|----|\n",
        "| Row # | b  |\n",
        "| 1     | 16 |\n",
        "| 2     | NA |\n",
        "| 3     | NA |,[2014-01-01,2014-01-02,2014-01-03])"
       ]
      }
     ],
     "prompt_number": 36
    },
    {
     "cell_type": "markdown",
     "metadata": {
      "slideshow": {
       "slide_type": "subslide"
      }
     },
     "source": [
      "- as we **iterate over columns**, results should be **combined horizontally**\n",
      "- simple **splicing** is not sufficient here, as it **uses `vcat`**:"
     ]
    },
    {
     "cell_type": "code",
     "collapsed": false,
     "input": [
      "[[col.*2 for col in eachcol(tn)]...]"
     ],
     "language": "python",
     "metadata": {},
     "outputs": [
      {
       "ename": "LoadError",
       "evalue": "variable names must coincide for vcat\nwhile loading In[37], in expression starting on line 1",
       "output_type": "pyerr",
       "traceback": [
        "variable names must coincide for vcat\nwhile loading In[37], in expression starting on line 1",
        " in vcat at /home/chris/.julia/v0.3/TimeData/src/abstractFuncs.jl:149",
        " in anonymous at no file"
       ]
      }
     ],
     "prompt_number": 37
    },
    {
     "cell_type": "markdown",
     "metadata": {
      "slideshow": {
       "slide_type": "subslide"
      }
     },
     "source": [
      "- we need **`hcat` instead**:"
     ]
    },
    {
     "cell_type": "code",
     "collapsed": false,
     "input": [
      "hcat([col.*2 for col in eachcol(tn)]...)"
     ],
     "language": "python",
     "metadata": {},
     "outputs": [
      {
       "html": [
        "<p><strong>Timenum{Date{ISOCalendar}}</strong></p><p>Dimensions: <strong>(3, 2)</strong></p><p>From: <strong>2014-01-01</strong>, To: <strong>2014-01-03</strong></p><table class=\"data-frame\"><tr><th></th><th>idx</th><th>a</th><th>b</th></tr><tr><th>1</th><td>2014-01-01</td><td>10</td><td>16</td></tr><tr><th>2</th><td>2014-01-02</td><td>12</td><td>NA</td></tr><tr><th>3</th><td>2014-01-03</td><td>NA</td><td>NA</td></tr></table>"
       ],
       "metadata": {},
       "output_type": "pyout",
       "prompt_number": 38,
       "text": [
        "Timenum{Date{ISOCalendar}}(3x2 DataFrame\n",
        "|-------|----|----|\n",
        "| Row # | a  | b  |\n",
        "| 1     | 10 | 16 |\n",
        "| 2     | 12 | NA |\n",
        "| 3     | NA | NA |,[2014-01-01,2014-01-02,2014-01-03])"
       ]
      }
     ],
     "prompt_number": 38
    },
    {
     "cell_type": "markdown",
     "metadata": {
      "slideshow": {
       "slide_type": "fragment"
      }
     },
     "source": [
      "- instead of manually combining manipulated values from an iterator each time, we also could define a **default data structure returned** through function **`map`**"
     ]
    },
    {
     "cell_type": "heading",
     "level": 2,
     "metadata": {
      "slideshow": {
       "slide_type": "slide"
      }
     },
     "source": [
      "Map"
     ]
    },
    {
     "cell_type": "markdown",
     "metadata": {
      "slideshow": {
       "slide_type": "subslide"
      }
     },
     "source": [
      "- through **multiple dispatch**, the **output** of `map` can be **customized to the iterator type** used\n",
      "- for example: **multiplication of each `DataFrame` column** could be done **in two different ways**\n",
      "- **first way**: **iterating over** entries of an **`Array`** (which contains the column names) will return an `Array`"
     ]
    },
    {
     "cell_type": "code",
     "collapsed": false,
     "input": [
      "df = DataFrame(a = [1, 2, 3], b = [4, 5, 6])\n",
      "map(nam -> df[nam].*2, names(df))"
     ],
     "language": "python",
     "metadata": {},
     "outputs": [
      {
       "metadata": {},
       "output_type": "pyout",
       "prompt_number": 39,
       "text": [
        "2-element Array{DataArray{Int64,1},1}:\n",
        " [2,4,6]  \n",
        " [8,10,12]"
       ]
      }
     ],
     "prompt_number": 39
    },
    {
     "cell_type": "markdown",
     "metadata": {
      "slideshow": {
       "slide_type": "subslide"
      }
     },
     "source": [
      "- **second way**: using method `map` for **`DataFrame` column iterator**"
     ]
    },
    {
     "cell_type": "code",
     "collapsed": false,
     "input": [
      "df2 = map(col -> col.*2, eachcol(df))\n",
      "df2"
     ],
     "language": "python",
     "metadata": {},
     "outputs": [
      {
       "html": [
        "<table class=\"data-frame\"><tr><th></th><th>a</th><th>b</th></tr><tr><th>1</th><td>2</td><td>8</td></tr><tr><th>2</th><td>4</td><td>10</td></tr><tr><th>3</th><td>6</td><td>12</td></tr></table>"
       ],
       "metadata": {},
       "output_type": "pyout",
       "prompt_number": 40,
       "text": [
        "3x2 DataFrame\n",
        "|-------|---|----|\n",
        "| Row # | a | b  |\n",
        "| 1     | 2 | 8  |\n",
        "| 2     | 4 | 10 |\n",
        "| 3     | 6 | 12 |"
       ]
      }
     ],
     "prompt_number": 40
    },
    {
     "cell_type": "markdown",
     "metadata": {
      "slideshow": {
       "slide_type": "subslide"
      }
     },
     "source": [
      "- similarly: **map** for **TimeData iterators**"
     ]
    },
    {
     "cell_type": "code",
     "collapsed": false,
     "input": [
      "@time tn2 = map(x -> x.*2, eachcol(tn))"
     ],
     "language": "python",
     "metadata": {},
     "outputs": [
      {
       "output_type": "stream",
       "stream": "stdout",
       "text": [
        "elapsed time: "
       ]
      },
      {
       "output_type": "stream",
       "stream": "stdout",
       "text": [
        "0.034311906 seconds (1255408 bytes allocated)\n"
       ]
      },
      {
       "html": [
        "<p><strong>Timenum{Date{ISOCalendar}}</strong></p><p>Dimensions: <strong>(3, 2)</strong></p><p>From: <strong>2014-01-01</strong>, To: <strong>2014-01-03</strong></p><table class=\"data-frame\"><tr><th></th><th>idx</th><th>a</th><th>b</th></tr><tr><th>1</th><td>2014-01-01</td><td>10</td><td>16</td></tr><tr><th>2</th><td>2014-01-02</td><td>12</td><td>NA</td></tr><tr><th>3</th><td>2014-01-03</td><td>NA</td><td>NA</td></tr></table>"
       ],
       "metadata": {},
       "output_type": "pyout",
       "prompt_number": 41,
       "text": [
        "Timenum{Date{ISOCalendar}}(3x2 DataFrame\n",
        "|-------|----|----|\n",
        "| Row # | a  | b  |\n",
        "| 1     | 10 | 16 |\n",
        "| 2     | 12 | NA |\n",
        "| 3     | NA | NA |,[2014-01-01,2014-01-02,2014-01-03])"
       ]
      }
     ],
     "prompt_number": 41
    },
    {
     "cell_type": "markdown",
     "metadata": {
      "slideshow": {
       "slide_type": "fragment"
      }
     },
     "source": [
      "- `map` for `TimeData` iterators always **preserves both indices and column names**"
     ]
    },
    {
     "cell_type": "markdown",
     "metadata": {
      "slideshow": {
       "slide_type": "subslide"
      }
     },
     "source": [
      "- `map` can also be defined for **two collections**"
     ]
    },
    {
     "cell_type": "code",
     "collapsed": false,
     "input": [
      "vals1 = [10 20]\n",
      "vals2 = [40 1]\n",
      "map(.+, vals1, vals2)"
     ],
     "language": "python",
     "metadata": {},
     "outputs": [
      {
       "metadata": {},
       "output_type": "pyout",
       "prompt_number": 42,
       "text": [
        "1x2 Array{Int64,2}:\n",
        " 50  21"
       ]
      }
     ],
     "prompt_number": 42
    },
    {
     "cell_type": "heading",
     "level": 2,
     "metadata": {
      "slideshow": {
       "slide_type": "slide"
      }
     },
     "source": [
      "Reduce"
     ]
    },
    {
     "cell_type": "markdown",
     "metadata": {
      "slideshow": {
       "slide_type": "subslide"
      }
     },
     "source": [
      "- using function `reduce` **individual components** of a collection can be **aggregated**\n",
      "- through multiple dispatch, `reduce` can have **different implementations** for each **type**\n",
      "- **using `map` and `reduce`** together, individual entries of iterable collections can be **manipulated and aggregated** to a single result "
     ]
    },
    {
     "cell_type": "markdown",
     "metadata": {},
     "source": [
      "**example**: calculating **column means**"
     ]
    },
    {
     "cell_type": "code",
     "collapsed": false,
     "input": [
      "df\n",
      "meanDf = reduce((x,y) -> (x[2].+y[2])./size(df, 2), eachcol(df))"
     ],
     "language": "python",
     "metadata": {
      "slideshow": {
       "slide_type": "-"
      }
     },
     "outputs": [
      {
       "metadata": {},
       "output_type": "pyout",
       "prompt_number": 43,
       "text": [
        "3-element DataArray{Float64,1}:\n",
        " 2.5\n",
        " 3.5\n",
        " 4.5"
       ]
      }
     ],
     "prompt_number": 43
    },
    {
     "cell_type": "markdown",
     "metadata": {
      "slideshow": {
       "slide_type": "subslide"
      }
     },
     "source": [
      "**example**: calculating **weighted column sum**"
     ]
    },
    {
     "cell_type": "markdown",
     "metadata": {},
     "source": [
      "- using **`map`** to calculate **weighted columns**\n",
      "- using **`reduce`** to **sum up** individual weighted columns"
     ]
    },
    {
     "cell_type": "code",
     "collapsed": false,
     "input": [
      "df = DataFrame(a = [1, 2, 3], b = [4, 5, 6], c = [2, 4, 8])"
     ],
     "language": "python",
     "metadata": {
      "slideshow": {
       "slide_type": "-"
      }
     },
     "outputs": [
      {
       "html": [
        "<table class=\"data-frame\"><tr><th></th><th>a</th><th>b</th><th>c</th></tr><tr><th>1</th><td>1</td><td>4</td><td>2</td></tr><tr><th>2</th><td>2</td><td>5</td><td>4</td></tr><tr><th>3</th><td>3</td><td>6</td><td>8</td></tr></table>"
       ],
       "metadata": {},
       "output_type": "pyout",
       "prompt_number": 44,
       "text": [
        "3x3 DataFrame\n",
        "|-------|---|---|---|\n",
        "| Row # | a | b | c |\n",
        "| 1     | 1 | 4 | 2 |\n",
        "| 2     | 2 | 5 | 4 |\n",
        "| 3     | 3 | 6 | 8 |"
       ]
      }
     ],
     "prompt_number": 44
    },
    {
     "cell_type": "markdown",
     "metadata": {
      "slideshow": {
       "slide_type": "subslide"
      }
     },
     "source": [
      "- getting weighted columns:"
     ]
    },
    {
     "cell_type": "code",
     "collapsed": false,
     "input": [
      "wgts = [0.4 0.2 0.4]\n",
      "kk = map((x, y) -> x.*y[2], wgts, eachcol(df))"
     ],
     "language": "python",
     "metadata": {
      "slideshow": {
       "slide_type": "-"
      }
     },
     "outputs": [
      {
       "metadata": {},
       "output_type": "pyout",
       "prompt_number": 45,
       "text": [
        "3-element Array{Any,1}:\n",
        " [0.4,0.8,1.2]\n",
        " [0.8,1.0,1.2]\n",
        " [0.8,1.6,3.2]"
       ]
      }
     ],
     "prompt_number": 45
    },
    {
     "cell_type": "code",
     "collapsed": false,
     "input": [
      "kk[1]"
     ],
     "language": "python",
     "metadata": {
      "slideshow": {
       "slide_type": "-"
      }
     },
     "outputs": [
      {
       "metadata": {},
       "output_type": "pyout",
       "prompt_number": 46,
       "text": [
        "3-element DataArray{Float64,1}:\n",
        " 0.4\n",
        " 0.8\n",
        " 1.2"
       ]
      }
     ],
     "prompt_number": 46
    },
    {
     "cell_type": "markdown",
     "metadata": {
      "slideshow": {
       "slide_type": "subslide"
      }
     },
     "source": [
      "- aggregation with `reduce`"
     ]
    },
    {
     "cell_type": "code",
     "collapsed": false,
     "input": [
      "reduce((x, y) -> (x .+ y), map((x, y) -> x.*y[2], wgts, eachcol(df)))"
     ],
     "language": "python",
     "metadata": {
      "slideshow": {
       "slide_type": "-"
      }
     },
     "outputs": [
      {
       "metadata": {},
       "output_type": "pyout",
       "prompt_number": 47,
       "text": [
        "3-element DataArray{Float64,1}:\n",
        " 2.0\n",
        " 3.4\n",
        " 5.6"
       ]
      }
     ],
     "prompt_number": 47
    }
   ],
   "metadata": {}
  }
 ]
}