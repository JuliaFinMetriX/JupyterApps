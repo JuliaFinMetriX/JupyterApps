{
 "cells": [
  {
   "cell_type": "markdown",
   "metadata": {},
   "source": [
    "# NA: representation of missing values"
   ]
  },
  {
   "cell_type": "markdown",
   "metadata": {},
   "source": [
    "Why do we need **NA** in addition to **NaN**? In many cases, both **return similar** results:"
   ]
  },
  {
   "cell_type": "code",
   "execution_count": 1,
   "metadata": {},
   "outputs": [
    {
     "data": {
      "text/plain": [
       "(false, false)"
      ]
     },
     "execution_count": 1,
     "metadata": {},
     "output_type": "execute_result"
    }
   ],
   "source": [
    "using DataFrames\n",
    "(false && NaN, false && NA)"
   ]
  },
  {
   "cell_type": "code",
   "execution_count": 2,
   "metadata": {},
   "outputs": [
    {
     "data": {
      "text/plain": [
       "(NaN, NA)"
      ]
     },
     "execution_count": 2,
     "metadata": {},
     "output_type": "execute_result"
    }
   ],
   "source": [
    "(true && NaN, true && NA)"
   ]
  },
  {
   "cell_type": "code",
   "execution_count": 3,
   "metadata": {},
   "outputs": [
    {
     "data": {
      "text/plain": [
       "(NaN, NA)"
      ]
     },
     "execution_count": 3,
     "metadata": {},
     "output_type": "execute_result"
    }
   ],
   "source": [
    "((3 + NaN), (3 + NA))"
   ]
  },
  {
   "cell_type": "code",
   "execution_count": 4,
   "metadata": {},
   "outputs": [
    {
     "data": {
      "text/plain": [
       "(NaN, NA)"
      ]
     },
     "execution_count": 4,
     "metadata": {},
     "output_type": "execute_result"
    }
   ],
   "source": [
    "(0*NaN, 0*NA)"
   ]
  },
  {
   "cell_type": "markdown",
   "metadata": {},
   "source": [
    "However, in some cases `NaN` simply returns `false`, although we actually are not able to evaluate any logical statement, since we have a missing observation."
   ]
  },
  {
   "cell_type": "code",
   "execution_count": 5,
   "metadata": {},
   "outputs": [
    {
     "data": {
      "text/plain": [
       "(false, NA)"
      ]
     },
     "execution_count": 5,
     "metadata": {},
     "output_type": "execute_result"
    }
   ],
   "source": [
    "(3 > NaN, 3 > NA)"
   ]
  },
  {
   "cell_type": "code",
   "execution_count": 6,
   "metadata": {},
   "outputs": [
    {
     "data": {
      "text/plain": [
       "(false, NA)"
      ]
     },
     "execution_count": 6,
     "metadata": {},
     "output_type": "execute_result"
    }
   ],
   "source": [
    "((3 == NaN), (3 == NA))"
   ]
  },
  {
   "cell_type": "code",
   "execution_count": 7,
   "metadata": {},
   "outputs": [
    {
     "data": {
      "text/plain": [
       "(false, NA)"
      ]
     },
     "execution_count": 7,
     "metadata": {},
     "output_type": "execute_result"
    }
   ],
   "source": [
    "(NaN == NaN, NA == NA)"
   ]
  },
  {
   "cell_type": "markdown",
   "metadata": {},
   "source": [
    "Rather unexpectedly, however, **not equal** evaluates to **true** for _NA_."
   ]
  },
  {
   "cell_type": "code",
   "execution_count": 8,
   "metadata": {},
   "outputs": [
    {
     "data": {
      "text/plain": [
       "(true, true)"
      ]
     },
     "execution_count": 8,
     "metadata": {},
     "output_type": "execute_result"
    }
   ],
   "source": [
    "((3 !== NaN), (3 !== NA)) # not good?"
   ]
  },
  {
   "cell_type": "markdown",
   "metadata": {},
   "source": [
    "There are two ways to test equality for `NA`s:"
   ]
  },
  {
   "cell_type": "code",
   "execution_count": 9,
   "metadata": {},
   "outputs": [
    {
     "data": {
      "text/plain": [
       "NA"
      ]
     },
     "execution_count": 9,
     "metadata": {},
     "output_type": "execute_result"
    }
   ],
   "source": [
    "NA == NA"
   ]
  },
  {
   "cell_type": "code",
   "execution_count": 10,
   "metadata": {},
   "outputs": [
    {
     "data": {
      "text/plain": [
       "true"
      ]
     },
     "execution_count": 10,
     "metadata": {},
     "output_type": "execute_result"
    }
   ],
   "source": [
    "isequal(NA, NA)"
   ]
  },
  {
   "cell_type": "markdown",
   "metadata": {},
   "source": [
    "##### Further references"
   ]
  },
  {
   "cell_type": "markdown",
   "metadata": {},
   "source": [
    "- http://www.r-bloggers.com/r-na-vs-null/\n",
    "- http://www.cookbook-r.com/Basics/Working_with_NULL_NA_and_NaN/\n",
    "- http://www.cookbook-r.com/Manipulating_data/Comparing_vectors_or_factors_with_NA/"
   ]
  },
  {
   "cell_type": "markdown",
   "metadata": {},
   "source": [
    "# Testing for equality with missing observations"
   ]
  },
  {
   "cell_type": "markdown",
   "metadata": {},
   "source": [
    "#### DataFrames"
   ]
  },
  {
   "cell_type": "markdown",
   "metadata": {},
   "source": [
    "Methods for function `isequal` are naturally extended for the case of `DataFrames`. Again, `isequal` returns either `true` or `false`. In order to evaluate to `true`, each entry must be exactly the same - in particular, `NA` is equal to `NA`."
   ]
  },
  {
   "cell_type": "code",
   "execution_count": 11,
   "metadata": {},
   "outputs": [
    {
     "data": {
      "text/plain": [
       "true"
      ]
     },
     "execution_count": 11,
     "metadata": {},
     "output_type": "execute_result"
    }
   ],
   "source": [
    "df = DataFrame()\n",
    "df[:a] = @data([3, NA])\n",
    "df[:b] = @data([4, NA])\n",
    "\n",
    "df2 = DataFrame()\n",
    "df2[:a] = @data([3, 4])\n",
    "df2[:b] = @data([4, NA])\n",
    "\n",
    "df3 = DataFrame()\n",
    "df3[:a] = @data([10, 4])\n",
    "df3[:b] = @data([4, NA])\n",
    "\n",
    "isequal(df, df)"
   ]
  },
  {
   "cell_type": "markdown",
   "metadata": {},
   "source": [
    "In the next example, a missing observation in one `DataFrame` is compared to a number in the other `DataFrame`. Hence, `isequal` evaluates to `false`."
   ]
  },
  {
   "cell_type": "code",
   "execution_count": 12,
   "metadata": {},
   "outputs": [
    {
     "data": {
      "text/plain": [
       "false"
      ]
     },
     "execution_count": 12,
     "metadata": {},
     "output_type": "execute_result"
    }
   ],
   "source": [
    "isequal(df, df2)"
   ]
  },
  {
   "cell_type": "markdown",
   "metadata": {},
   "source": [
    "And, of course, with deviating observations:"
   ]
  },
  {
   "cell_type": "code",
   "execution_count": 13,
   "metadata": {},
   "outputs": [
    {
     "data": {
      "text/plain": [
       "false"
      ]
     },
     "execution_count": 13,
     "metadata": {},
     "output_type": "execute_result"
    }
   ],
   "source": [
    "isequal(df, df3)"
   ]
  },
  {
   "cell_type": "markdown",
   "metadata": {},
   "source": [
    "In contrast, `==` has slightly different aggregating behaviour. If all elementwise comparisons evaluate to `true` or if a single elementwise comparison evalutes to `false` the method is similar to `isequal`. For the case of missing observations, however, `==` evaluates to `NA` if there is at least one `NA` for elementwise comparison, and all other values are `true`. First, comparing a `DataFrame` with missing observations with itself:"
   ]
  },
  {
   "cell_type": "code",
   "execution_count": 14,
   "metadata": {},
   "outputs": [
    {
     "data": {
      "text/plain": [
       "2×2 Array{Any,2}:\n",
       " true    true  \n",
       "     NA      NA"
      ]
     },
     "execution_count": 14,
     "metadata": {},
     "output_type": "execute_result"
    }
   ],
   "source": [
    "[df[ii, jj] == df[ii, jj] for ii=1:size(df, 1), jj=1:size(df, 2)]"
   ]
  },
  {
   "cell_type": "code",
   "execution_count": 15,
   "metadata": {},
   "outputs": [
    {
     "data": {
      "text/plain": [
       "NA"
      ]
     },
     "execution_count": 15,
     "metadata": {},
     "output_type": "execute_result"
    }
   ],
   "source": [
    "df == df"
   ]
  },
  {
   "cell_type": "markdown",
   "metadata": {},
   "source": [
    "Again, with `true` and `NA` present:"
   ]
  },
  {
   "cell_type": "code",
   "execution_count": 16,
   "metadata": {},
   "outputs": [
    {
     "data": {
      "text/plain": [
       "2×2 Array{Any,2}:\n",
       " true    true  \n",
       "     NA      NA"
      ]
     },
     "execution_count": 16,
     "metadata": {},
     "output_type": "execute_result"
    }
   ],
   "source": [
    "[df[ii, jj] == df2[ii, jj] for ii=1:size(df, 1), jj=1:size(df, 2)]"
   ]
  },
  {
   "cell_type": "code",
   "execution_count": 17,
   "metadata": {},
   "outputs": [
    {
     "data": {
      "text/plain": [
       "NA"
      ]
     },
     "execution_count": 17,
     "metadata": {},
     "output_type": "execute_result"
    }
   ],
   "source": [
    "df == df2"
   ]
  },
  {
   "cell_type": "markdown",
   "metadata": {},
   "source": [
    "Now, with a single entry evaluating to `false`:"
   ]
  },
  {
   "cell_type": "code",
   "execution_count": 18,
   "metadata": {},
   "outputs": [
    {
     "data": {
      "text/plain": [
       "2×2 Array{Any,2}:\n",
       " false    true  \n",
       "      NA      NA"
      ]
     },
     "execution_count": 18,
     "metadata": {},
     "output_type": "execute_result"
    }
   ],
   "source": [
    "[df[ii, jj] == df3[ii, jj] for ii=1:size(df, 1), jj=1:size(df, 2)]"
   ]
  },
  {
   "cell_type": "code",
   "execution_count": 19,
   "metadata": {},
   "outputs": [
    {
     "data": {
      "text/plain": [
       "false"
      ]
     },
     "execution_count": 19,
     "metadata": {},
     "output_type": "execute_result"
    }
   ],
   "source": [
    "df == df3"
   ]
  },
  {
   "cell_type": "markdown",
   "metadata": {},
   "source": [
    "## Session info"
   ]
  },
  {
   "cell_type": "code",
   "execution_count": 20,
   "metadata": {},
   "outputs": [
    {
     "name": "stdout",
     "output_type": "stream",
     "text": [
      "Julia Version 0.6.0\n",
      "Commit 9036443 (2017-06-19 13:05 UTC)\n",
      "Platform Info:\n",
      "  OS: Linux (x86_64-pc-linux-gnu)\n",
      "  CPU: Intel(R) Core(TM) i5-4210U CPU @ 1.70GHz\n",
      "  WORD_SIZE: 64\n",
      "  BLAS: libopenblas (USE64BITINT DYNAMIC_ARCH NO_AFFINITY Haswell)\n",
      "  LAPACK: libopenblas64_\n",
      "  LIBM: libopenlibm\n",
      "  LLVM: libLLVM-3.9.1 (ORCJIT, haswell)\n"
     ]
    }
   ],
   "source": [
    "versioninfo()"
   ]
  },
  {
   "cell_type": "code",
   "execution_count": 21,
   "metadata": {},
   "outputs": [
    {
     "name": "stdout",
     "output_type": "stream",
     "text": [
      "173 required packages:\n",
      " - AbstractFFTs                  0.2.0\n",
      " - Atom                          0.6.1\n",
      " - AutoGrad                      0.0.7\n",
      " - AutoHashEquals                0.1.1\n",
      " - AxisAlgorithms                0.1.6\n",
      " - AxisArrays                    0.1.4\n",
      " - BenchmarkTools                0.0.8\n",
      " - BinDeps                       0.7.0\n",
      " - Blink                         0.5.3\n",
      " - Blosc                         0.3.0\n",
      " - BufferedStreams               0.3.3\n",
      " - BusinessDays                  0.7.1\n",
      " - CSV                           0.1.4\n",
      " - Calculus                      0.2.2\n",
      " - CatIndices                    0.0.2\n",
      " - CategoricalArrays             0.1.6\n",
      " - Clustering                    0.8.0\n",
      " - CodeTools                     0.4.6\n",
      " - Codecs                        0.3.0\n",
      " - ColorTypes                    0.5.2\n",
      " - ColorVectorSpace              0.4.4\n",
      " - Colors                        0.7.4\n",
      " - Combinatorics                 0.4.1\n",
      " - Compat                        0.28.0\n",
      " - Compose                       0.5.3\n",
      " - ComputationalResources        0.0.2\n",
      " - Conda                         0.5.3\n",
      " - Contour                       0.3.0\n",
      " - Convex                        0.5.0\n",
      " - CoordinateTransformations     0.4.1\n",
      " - CoupledFields                 0.0.1\n",
      " - CustomUnitRanges              0.0.4\n",
      " - DBAPI                         0.1.0\n",
      " - DSP                           0.3.2\n",
      " - Dagger                        0.2.0\n",
      " - DataArrays                    0.6.2\n",
      " - DataFrames                    0.10.0\n",
      " - DataStreams                   0.1.3\n",
      " - DataStructures                0.6.0\n",
      " - DataTables                    0.0.3\n",
      " - DecFP                         0.3.0\n",
      " - DecisionTree                  0.6.1\n",
      " - DiffBase                      0.2.0\n",
      " - Distances                     0.4.1\n",
      " - DistributedArrays             0.4.0\n",
      " - Distributions                 0.14.2\n",
      " - DualNumbers                   0.3.0\n",
      " - FFTViews                      0.0.2\n",
      " - FFTW                          0.0.3\n",
      " - FileIO                        0.5.1\n",
      " - FixedPointNumbers             0.3.9\n",
      " - Formatting                    0.2.1\n",
      " - ForwardDiff                   0.4.2\n",
      " - GLM                           0.7.0\n",
      " - GR                            0.22.0\n",
      " - GZip                          0.3.0\n",
      " - Gadfly                        0.6.3\n",
      " - Glob                          1.1.1\n",
      " - Graphics                      0.2.0\n",
      " - HDF5                          0.8.2\n",
      " - HTTPClient                    0.2.1\n",
      " - Hexagons                      0.1.0\n",
      " - Hiccup                        0.1.1\n",
      " - HttpCommon                    0.2.7\n",
      " - HttpParser                    0.3.0\n",
      " - HttpServer                    0.2.0\n",
      " - HypothesisTests               0.5.1\n",
      " - IJulia                        1.5.1\n",
      " - IdentityRanges                0.0.1\n",
      " - ImageAxes                     0.3.1\n",
      " - ImageCore                     0.4.0\n",
      " - ImageFiltering                0.1.4\n",
      " - ImageMetadata                 0.2.3\n",
      " - ImageTransformations          0.3.1\n",
      " - Images                        0.11.0\n",
      " - IndexedTables                 0.2.1\n",
      " - IndirectArrays                0.1.1\n",
      " - Interact                      0.4.5\n",
      " - Interpolations                0.6.2\n",
      " - IntervalSets                  0.1.1\n",
      " - IterTools                     0.1.0\n",
      " - Iterators                     0.3.1\n",
      " - JDBC                          0.2.0\n",
      " - JLD                           0.6.11\n",
      " - JSON                          0.13.0\n",
      " - JavaCall                      0.5.1\n",
      " - JuMP                          0.17.1\n",
      " - JuliaWebAPI                   0.3.1\n",
      " - Juno                          0.3.0\n",
      " - KernelDensity                 0.3.2\n",
      " - Knet                          0.8.3\n",
      " - LNR                           0.0.2\n",
      " - LaTeXStrings                  0.2.1\n",
      " - Lazy                          0.11.7\n",
      " - LegacyStrings                 0.2.2\n",
      " - Libz                          0.2.4\n",
      " - LightGraphs                   0.9.4\n",
      " - LightXML                      0.5.0\n",
      " - LineSearches                  0.1.5\n",
      " - Loess                         0.3.0\n",
      " - Logging                       0.3.1\n",
      " - MLBase                        0.7.0\n",
      " - MNIST                         0.0.2\n",
      " - MacroTools                    0.3.7\n",
      " - MappedArrays                  0.0.7\n",
      " - MathProgBase                  0.6.4\n",
      " - MbedTLS                       0.4.5\n",
      " - Measures                      0.1.0\n",
      " - Media                         0.3.0\n",
      " - Mustache                      0.1.4\n",
      " - Mux                           0.2.3\n",
      " - NaNMath                       0.2.6\n",
      " - NamedArrays                   0.6.1\n",
      " - NamedTuples                   4.0.0\n",
      " - NearestNeighbors              0.3.0\n",
      " - Nettle                        0.3.0\n",
      " - NullableArrays                0.1.1\n",
      " - ODBC                          0.5.2\n",
      " - OffsetArrays                  0.3.0\n",
      " - Optim                         0.7.8\n",
      " - PDMats                        0.7.0\n",
      " - PaddedViews                   0.1.0\n",
      " - Parameters                    0.7.2\n",
      " - ParserCombinator              1.7.11\n",
      " - PlotRecipes                   0.2.0\n",
      " - PlotlyJS                      0.6.4\n",
      " - Polynomials                   0.1.5\n",
      " - PooledArrays                  0.1.1\n",
      " - PositiveFactorizations        0.0.4\n",
      " - Primes                        0.1.3\n",
      " - ProtoBuf                      0.4.0\n",
      " - PyCall                        1.14.0\n",
      " - PyPlot                        2.3.2\n",
      " - QuadGK                        0.1.2\n",
      " - QuantEcon                     0.12.1\n",
      " - Query                         0.6.0\n",
      " - RCall                         0.7.3\n",
      " - RDatasets                     0.2.0\n",
      " - RangeArrays                   0.2.0\n",
      " - Ratios                        0.1.0\n",
      " - Reactive                      0.5.2\n",
      " - Reexport                      0.0.3\n",
      " - Requests                      0.5.0\n",
      " - Requires                      0.4.3\n",
      " - ReverseDiffSparse             0.7.3\n",
      " - Rmath                         0.1.7\n",
      " - Roots                         0.4.0\n",
      " - Rotations                     0.5.0\n",
      " - Rsvg                          0.1.0\n",
      " - SCS                           0.3.3\n",
      " - SHA                           0.3.3\n",
      " - SIUnits                       0.1.0\n",
      " - ScikitLearnBase               0.3.0\n",
      " - ShowItLikeYouBuildIt          0.0.1\n",
      " - Showoff                       0.1.1\n",
      " - SimpleTraits                  0.5.0\n",
      " - SortingAlgorithms             0.1.1\n",
      " - SpecialFunctions              0.2.0\n",
      " - StatPlots                     0.4.0\n",
      " - StaticArrays                  0.6.1\n",
      " - StatsBase                     0.17.0\n",
      " - StatsFuns                     0.5.0\n",
      " - TexExtensions                 0.1.0\n",
      " - TextParse                     0.1.6\n",
      " - TiledIteration                0.0.2\n",
      " - TimeSeries                    0.10.0\n",
      " - Tokenize                      0.1.8\n",
      " - URIParser                     0.1.8\n",
      " - UnicodePlots                  0.2.4\n",
      " - WeakRefStrings                0.2.0\n",
      " - WebSockets                    0.2.3\n",
      " - WoodburyMatrices              0.2.2\n",
      " - ZMQ                           0.4.3\n",
      "18 additional packages:\n",
      " - BaseTestNext                  0.2.2\n",
      " - Cairo                         0.3.0\n",
      " - DataValues                    0.1.1\n",
      " - DocStringExtensions           0.3.3\n",
      " - Documenter                    0.11.1\n",
      " - DynAssMgmt                    0.0.0-             master (unregistered)\n",
      " - EconDatasets                  0.0.2+             master\n",
      " - FixedSizeArrays               0.2.5\n",
      " - GeometryTypes                 0.4.1\n",
      " - Gtk                           0.13.0\n",
      " - IterableTables                0.4.1\n",
      " - LibCURL                       0.2.2\n",
      " - NetworkLayout                 0.0.1\n",
      " - PlotThemes                    0.1.4\n",
      " - PlotUtils                     0.4.2\n",
      " - Plots                         0.12.0\n",
      " - RData                         0.1.0\n",
      " - RecipesBase                   0.2.0\n"
     ]
    }
   ],
   "source": [
    "Pkg.status()"
   ]
  }
 ],
 "metadata": {
  "kernelspec": {
   "display_name": "Julia 0.6.0",
   "language": "julia",
   "name": "julia-0.6"
  },
  "language": "Julia",
  "language_info": {
   "file_extension": ".jl",
   "mimetype": "application/julia",
   "name": "julia",
   "version": "0.6.0"
  }
 },
 "nbformat": 4,
 "nbformat_minor": 1
}
