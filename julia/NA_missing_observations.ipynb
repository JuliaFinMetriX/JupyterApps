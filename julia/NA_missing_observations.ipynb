{
 "cells": [
  {
   "cell_type": "markdown",
   "metadata": {},
   "source": [
    "# NA: representation of missing values"
   ]
  },
  {
   "cell_type": "markdown",
   "metadata": {},
   "source": [
    "Why do we need **NA** in addition to **NaN**? In many cases, both **return similar** results:"
   ]
  },
  {
   "cell_type": "code",
   "execution_count": 1,
   "metadata": {
    "collapsed": false
   },
   "outputs": [
    {
     "data": {
      "text/plain": [
       "1x2 Array{Any,2}:\n",
       " false  false"
      ]
     },
     "execution_count": 1,
     "metadata": {},
     "output_type": "execute_result"
    }
   ],
   "source": [
    "using DataFrames\n",
    "{false && NaN false && NA}"
   ]
  },
  {
   "cell_type": "code",
   "execution_count": 2,
   "metadata": {
    "collapsed": false
   },
   "outputs": [
    {
     "data": {
      "text/plain": [
       "1x2 Array{Any,2}:\n",
       " NaN  NA"
      ]
     },
     "execution_count": 2,
     "metadata": {},
     "output_type": "execute_result"
    }
   ],
   "source": [
    "{true && NaN true && NA}"
   ]
  },
  {
   "cell_type": "code",
   "execution_count": 3,
   "metadata": {
    "collapsed": false
   },
   "outputs": [
    {
     "data": {
      "text/plain": [
       "1x2 Array{Any,2}:\n",
       " NaN  NA"
      ]
     },
     "execution_count": 3,
     "metadata": {},
     "output_type": "execute_result"
    }
   ],
   "source": [
    "{(3 + NaN) (3 + NA)}"
   ]
  },
  {
   "cell_type": "code",
   "execution_count": 4,
   "metadata": {
    "collapsed": false
   },
   "outputs": [
    {
     "data": {
      "text/plain": [
       "1x2 Array{Any,2}:\n",
       " NaN  NA"
      ]
     },
     "execution_count": 4,
     "metadata": {},
     "output_type": "execute_result"
    }
   ],
   "source": [
    "{0*NaN 0*NA}"
   ]
  },
  {
   "cell_type": "markdown",
   "metadata": {},
   "source": [
    "However, in some cases `NaN` simply returns `false`, although we actually are not able to evaluate any logical statement, since we have a missing observation."
   ]
  },
  {
   "cell_type": "code",
   "execution_count": 5,
   "metadata": {
    "collapsed": false
   },
   "outputs": [
    {
     "data": {
      "text/plain": [
       "1x2 Array{Any,2}:\n",
       " false  NA"
      ]
     },
     "execution_count": 5,
     "metadata": {},
     "output_type": "execute_result"
    }
   ],
   "source": [
    "{3 > NaN 3 > NA}"
   ]
  },
  {
   "cell_type": "code",
   "execution_count": 6,
   "metadata": {
    "collapsed": false
   },
   "outputs": [
    {
     "data": {
      "text/plain": [
       "1x2 Array{Any,2}:\n",
       " false  NA"
      ]
     },
     "execution_count": 6,
     "metadata": {},
     "output_type": "execute_result"
    }
   ],
   "source": [
    "{(3 == NaN) (3 == NA)}"
   ]
  },
  {
   "cell_type": "code",
   "execution_count": 7,
   "metadata": {
    "collapsed": false
   },
   "outputs": [
    {
     "data": {
      "text/plain": [
       "1x2 Array{Any,2}:\n",
       " false  NA"
      ]
     },
     "execution_count": 7,
     "metadata": {},
     "output_type": "execute_result"
    }
   ],
   "source": [
    "{NaN == NaN NA == NA}"
   ]
  },
  {
   "cell_type": "markdown",
   "metadata": {},
   "source": [
    "Rather unexpectedly, however, **not equal** evaluates to **true** for _NA_."
   ]
  },
  {
   "cell_type": "code",
   "execution_count": 8,
   "metadata": {
    "collapsed": false
   },
   "outputs": [
    {
     "data": {
      "text/plain": [
       "1x2 Array{Any,2}:\n",
       " true  true"
      ]
     },
     "execution_count": 8,
     "metadata": {},
     "output_type": "execute_result"
    }
   ],
   "source": [
    "{(3 !== NaN) (3 !== NA)} # not good?"
   ]
  },
  {
   "cell_type": "markdown",
   "metadata": {},
   "source": [
    "There are two ways to test equality for `NA`s:"
   ]
  },
  {
   "cell_type": "code",
   "execution_count": 9,
   "metadata": {
    "collapsed": false
   },
   "outputs": [
    {
     "data": {
      "text/plain": [
       "NA"
      ]
     },
     "execution_count": 9,
     "metadata": {},
     "output_type": "execute_result"
    }
   ],
   "source": [
    "NA == NA"
   ]
  },
  {
   "cell_type": "code",
   "execution_count": 10,
   "metadata": {
    "collapsed": false
   },
   "outputs": [
    {
     "data": {
      "text/plain": [
       "true"
      ]
     },
     "execution_count": 10,
     "metadata": {},
     "output_type": "execute_result"
    }
   ],
   "source": [
    "isequal(NA, NA)"
   ]
  },
  {
   "cell_type": "markdown",
   "metadata": {},
   "source": [
    "##### Further references"
   ]
  },
  {
   "cell_type": "markdown",
   "metadata": {},
   "source": [
    "- http://www.r-bloggers.com/r-na-vs-null/\n",
    "- http://www.cookbook-r.com/Basics/Working_with_NULL_NA_and_NaN/\n",
    "- http://www.cookbook-r.com/Manipulating_data/Comparing_vectors_or_factors_with_NA/"
   ]
  },
  {
   "cell_type": "markdown",
   "metadata": {},
   "source": [
    "# Testing for equality with missing observations"
   ]
  },
  {
   "cell_type": "markdown",
   "metadata": {},
   "source": [
    "#### DataFrames"
   ]
  },
  {
   "cell_type": "markdown",
   "metadata": {},
   "source": [
    "Methods for function `isequal` are naturally extended for the case of `DataFrames`. Again, `isequal` returns either `true` or `false`. In order to evaluate to `true`, each entry must be exactly the same - in particular, `NA` is equal to `NA`."
   ]
  },
  {
   "cell_type": "code",
   "execution_count": 11,
   "metadata": {
    "collapsed": false
   },
   "outputs": [
    {
     "data": {
      "text/plain": [
       "true"
      ]
     },
     "execution_count": 11,
     "metadata": {},
     "output_type": "execute_result"
    }
   ],
   "source": [
    "df = DataFrame()\n",
    "df[:a] = @data([3, NA])\n",
    "df[:b] = @data([4, NA])\n",
    "\n",
    "df2 = DataFrame()\n",
    "df2[:a] = @data([3, 4])\n",
    "df2[:b] = @data([4, NA])\n",
    "\n",
    "df3 = DataFrame()\n",
    "df3[:a] = @data([10, 4])\n",
    "df3[:b] = @data([4, NA])\n",
    "\n",
    "isequal(df, df)"
   ]
  },
  {
   "cell_type": "markdown",
   "metadata": {},
   "source": [
    "In the next example, a missing observation in one `DataFrame` is compared to a number in the other `DataFrame`. Hence, `isequal` evaluates to `false`."
   ]
  },
  {
   "cell_type": "code",
   "execution_count": 12,
   "metadata": {
    "collapsed": false
   },
   "outputs": [
    {
     "data": {
      "text/plain": [
       "false"
      ]
     },
     "execution_count": 12,
     "metadata": {},
     "output_type": "execute_result"
    }
   ],
   "source": [
    "isequal(df, df2)"
   ]
  },
  {
   "cell_type": "markdown",
   "metadata": {},
   "source": [
    "And, of course, with deviating observations:"
   ]
  },
  {
   "cell_type": "code",
   "execution_count": 13,
   "metadata": {
    "collapsed": false
   },
   "outputs": [
    {
     "data": {
      "text/plain": [
       "false"
      ]
     },
     "execution_count": 13,
     "metadata": {},
     "output_type": "execute_result"
    }
   ],
   "source": [
    "isequal(df, df3)"
   ]
  },
  {
   "cell_type": "markdown",
   "metadata": {},
   "source": [
    "In contrast, `==` has slightly different aggregating behaviour. If all elementwise comparisons evaluate to `true` or if a single elementwise comparison evalutes to `false` the method is similar to `isequal`. For the case of missing observations, however, `==` evaluates to `NA` if there is at least one `NA` for elementwise comparison, and all other values are `true`. First, comparing a `DataFrame` with missing observations with itself:"
   ]
  },
  {
   "cell_type": "code",
   "execution_count": 14,
   "metadata": {
    "collapsed": false
   },
   "outputs": [
    {
     "data": {
      "text/plain": [
       "2x2 Array{Any,2}:\n",
       " true    true  \n",
       "     NA      NA"
      ]
     },
     "execution_count": 14,
     "metadata": {},
     "output_type": "execute_result"
    }
   ],
   "source": [
    "[df[ii, jj] == df[ii, jj] for ii=1:size(df, 1), jj=1:size(df, 2)]"
   ]
  },
  {
   "cell_type": "code",
   "execution_count": 15,
   "metadata": {
    "collapsed": false
   },
   "outputs": [
    {
     "data": {
      "text/plain": [
       "NA"
      ]
     },
     "execution_count": 15,
     "metadata": {},
     "output_type": "execute_result"
    }
   ],
   "source": [
    "df == df"
   ]
  },
  {
   "cell_type": "markdown",
   "metadata": {},
   "source": [
    "Again, with `true` and `NA` present:"
   ]
  },
  {
   "cell_type": "code",
   "execution_count": 16,
   "metadata": {
    "collapsed": false
   },
   "outputs": [
    {
     "data": {
      "text/plain": [
       "2x2 Array{Any,2}:\n",
       " true    true  \n",
       "     NA      NA"
      ]
     },
     "execution_count": 16,
     "metadata": {},
     "output_type": "execute_result"
    }
   ],
   "source": [
    "[df[ii, jj] == df2[ii, jj] for ii=1:size(df, 1), jj=1:size(df, 2)]"
   ]
  },
  {
   "cell_type": "code",
   "execution_count": 17,
   "metadata": {
    "collapsed": false
   },
   "outputs": [
    {
     "data": {
      "text/plain": [
       "NA"
      ]
     },
     "execution_count": 17,
     "metadata": {},
     "output_type": "execute_result"
    }
   ],
   "source": [
    "df == df2"
   ]
  },
  {
   "cell_type": "markdown",
   "metadata": {},
   "source": [
    "Now, with a single entry evaluating to `false`:"
   ]
  },
  {
   "cell_type": "code",
   "execution_count": 18,
   "metadata": {
    "collapsed": false
   },
   "outputs": [
    {
     "data": {
      "text/plain": [
       "2x2 Array{Any,2}:\n",
       " false    true  \n",
       "      NA      NA"
      ]
     },
     "execution_count": 18,
     "metadata": {},
     "output_type": "execute_result"
    }
   ],
   "source": [
    "[df[ii, jj] == df3[ii, jj] for ii=1:size(df, 1), jj=1:size(df, 2)]"
   ]
  },
  {
   "cell_type": "code",
   "execution_count": 19,
   "metadata": {
    "collapsed": false
   },
   "outputs": [
    {
     "data": {
      "text/plain": [
       "false"
      ]
     },
     "execution_count": 19,
     "metadata": {},
     "output_type": "execute_result"
    }
   ],
   "source": [
    "df == df3"
   ]
  },
  {
   "cell_type": "markdown",
   "metadata": {},
   "source": [
    "#### TimeData objects"
   ]
  },
  {
   "cell_type": "markdown",
   "metadata": {},
   "source": [
    "`isequal` and `==` behave quite similarly for the case of `TimeData` objects. However, they also return `false` if either indices, column names or types are different (for example, if `Timematr` is compared to `Timenum` objects)."
   ]
  },
  {
   "cell_type": "code",
   "execution_count": 20,
   "metadata": {
    "collapsed": false
   },
   "outputs": [
    {
     "ename": "LoadError",
     "evalue": "date not defined\nwhile loading In[20], in expression starting on line 6",
     "output_type": "error",
     "traceback": [
      "date not defined\nwhile loading In[20], in expression starting on line 6",
      ""
     ]
    }
   ],
   "source": [
    "using TimeData\n",
    "tn = Timenum(df)\n",
    "tn2 = Timenum(df2)\n",
    "tn3 = Timenum(df3)\n",
    "td = Timedata(df)\n",
    "tn4 = Timenum(df, [date(2010, 1, 1):date(2010, 1, 2)])"
   ]
  },
  {
   "cell_type": "code",
   "execution_count": 21,
   "metadata": {
    "collapsed": false
   },
   "outputs": [
    {
     "data": {
      "text/plain": [
       "3x2 Array{Bool,2}:\n",
       "  true   true\n",
       " false  false\n",
       " false  false"
      ]
     },
     "execution_count": 21,
     "metadata": {},
     "output_type": "execute_result"
    }
   ],
   "source": [
    "[isequal(df, df) isequal(tn, tn);\n",
    "    isequal(df, df2) isequal(tn, tn2);\n",
    "    isequal(df, df3) isequal(tn, tn3)]"
   ]
  },
  {
   "cell_type": "code",
   "execution_count": 22,
   "metadata": {
    "collapsed": false
   },
   "outputs": [
    {
     "data": {
      "text/plain": [
       "3x2 Array{Any,2}:\n",
       "      NA       NA\n",
       "      NA       NA\n",
       " false    false  "
      ]
     },
     "execution_count": 22,
     "metadata": {},
     "output_type": "execute_result"
    }
   ],
   "source": [
    "Any[(df == df) (tn == tn);\n",
    "    (df == df2) (tn == tn2);\n",
    "    (df == df3) (tn == tn3)]"
   ]
  },
  {
   "cell_type": "markdown",
   "metadata": {},
   "source": [
    "Testing other differences:"
   ]
  },
  {
   "cell_type": "code",
   "execution_count": 23,
   "metadata": {
    "collapsed": false
   },
   "outputs": [
    {
     "ename": "LoadError",
     "evalue": "tn4 not defined\nwhile loading In[23], in expression starting on line 1",
     "output_type": "error",
     "traceback": [
      "tn4 not defined\nwhile loading In[23], in expression starting on line 1",
      ""
     ]
    }
   ],
   "source": [
    "[isequal(tn, td) (tn == td);\n",
    "    isequal(tn, tn4) (tn == tn4)]"
   ]
  },
  {
   "cell_type": "markdown",
   "metadata": {},
   "source": [
    "In addition, however, `Timematr` and `Timenum` objects also provide elementwise implementations of `isequal` and `==`. These are called `isequalElemwise` and `.==` respectively. These functions are not defined for `DataFrames`:"
   ]
  },
  {
   "cell_type": "code",
   "execution_count": 24,
   "metadata": {
    "collapsed": false
   },
   "outputs": [
    {
     "ename": "LoadError",
     "evalue": "`equMeta` has no method matching equMeta(::DataFrame, ::DataFrame)\nwhile loading In[24], in expression starting on line 1",
     "output_type": "error",
     "traceback": [
      "`equMeta` has no method matching equMeta(::DataFrame, ::DataFrame)\nwhile loading In[24], in expression starting on line 1",
      "",
      " in .== at /home/jovyan/.julia/v0.3/TimeData/src/abstractFuncs.jl:123"
     ]
    }
   ],
   "source": [
    "df .== df"
   ]
  },
  {
   "cell_type": "markdown",
   "metadata": {},
   "source": [
    "For elementwise comparisons, differences in column names, indices or type will always throw an error:"
   ]
  },
  {
   "cell_type": "code",
   "execution_count": 25,
   "metadata": {
    "collapsed": false
   },
   "outputs": [
    {
     "ename": "LoadError",
     "evalue": "isequalElemwise not defined\nwhile loading In[25], in expression starting on line 1",
     "output_type": "error",
     "traceback": [
      "isequalElemwise not defined\nwhile loading In[25], in expression starting on line 1",
      ""
     ]
    }
   ],
   "source": [
    "isequalElemwise(tn, tn4)"
   ]
  },
  {
   "cell_type": "markdown",
   "metadata": {},
   "source": [
    "As `isequalElemwise` uses `isequal`, which only returns `true` or `false` values, its output is a `Timedata` object with boolean values."
   ]
  },
  {
   "cell_type": "code",
   "execution_count": 26,
   "metadata": {
    "collapsed": false
   },
   "outputs": [
    {
     "ename": "LoadError",
     "evalue": "isequalElemwise not defined\nwhile loading In[26], in expression starting on line 1",
     "output_type": "error",
     "traceback": [
      "isequalElemwise not defined\nwhile loading In[26], in expression starting on line 1",
      ""
     ]
    }
   ],
   "source": [
    "isequalElemwise(tn, tn)"
   ]
  },
  {
   "cell_type": "code",
   "execution_count": 27,
   "metadata": {
    "collapsed": false
   },
   "outputs": [
    {
     "ename": "LoadError",
     "evalue": "isequalElemwise not defined\nwhile loading In[27], in expression starting on line 1",
     "output_type": "error",
     "traceback": [
      "isequalElemwise not defined\nwhile loading In[27], in expression starting on line 1",
      ""
     ]
    }
   ],
   "source": [
    "isequalElemwise(tn, tn2)"
   ]
  },
  {
   "cell_type": "markdown",
   "metadata": {},
   "source": [
    "In contrast, using `==` also could return `NA`, so that elementwise comparison return boolean `DataArrays`."
   ]
  },
  {
   "cell_type": "code",
   "execution_count": 28,
   "metadata": {
    "collapsed": false
   },
   "outputs": [
    {
     "data": {
      "text/plain": [
       "NA"
      ]
     },
     "execution_count": 28,
     "metadata": {},
     "output_type": "execute_result"
    }
   ],
   "source": [
    "tn == tn"
   ]
  },
  {
   "cell_type": "code",
   "execution_count": 29,
   "metadata": {
    "collapsed": false
   },
   "outputs": [
    {
     "data": {
      "text/html": [
       "<p><strong>Timedata{Int64}</strong></p><p>Dimensions: <strong>(2, 2)</strong></p><p>From: <strong>1</strong>, To: <strong>2</strong></p><table class=\"data-frame\"><tr><th></th><th>idx</th><th>a</th><th>b</th></tr><tr><th>1</th><td>1</td><td>true</td><td>true</td></tr><tr><th>2</th><td>2</td><td>NA</td><td>NA</td></tr></table>"
      ],
      "text/plain": [
       "Timedata{Int64}(2x2 DataFrame\n",
       "| Row | a    | b    |\n",
       "|-----|------|------|\n",
       "| 1   | true | true |\n",
       "| 2   | NA   | NA   |,[1,2])"
      ]
     },
     "execution_count": 29,
     "metadata": {},
     "output_type": "execute_result"
    }
   ],
   "source": [
    "tn .== tn"
   ]
  },
  {
   "cell_type": "markdown",
   "metadata": {},
   "source": [
    "## Session info"
   ]
  },
  {
   "cell_type": "code",
   "execution_count": 30,
   "metadata": {
    "collapsed": false
   },
   "outputs": [
    {
     "name": "stdout",
     "output_type": "stream",
     "text": [
      "Julia Version 0.3.5\n",
      "Commit a05f87b* (2015-01-08 22:33 UTC)\n",
      "Platform Info:\n",
      "  System: Linux (x86_64-linux-gnu)\n",
      "  CPU: Intel(R) Core(TM) i3-3240 CPU @ 3.40GHz\n",
      "  WORD_SIZE: 64\n",
      "  BLAS: libblas.so.3\n",
      "  LAPACK: liblapack.so.3\n",
      "  LIBM: libopenlibm\n",
      "  LLVM: libLLVM-3.3\n"
     ]
    }
   ],
   "source": [
    "versioninfo()"
   ]
  },
  {
   "cell_type": "code",
   "execution_count": 31,
   "metadata": {
    "collapsed": false
   },
   "outputs": [
    {
     "name": "stdout",
     "output_type": "stream",
     "text": [
      "18 required packages:\n",
      " - DataArrays                    0.2.9\n",
      " - DataFrames                    0.6.0\n",
      " - Dates                         0.3.2\n",
      " - Debug                         0.0.4\n",
      " - Distributions                 0.6.3\n",
      " - EconDatasets                  0.0.2\n",
      " - GLM                           0.4.2\n",
      " - Gadfly                        0.3.10\n",
      " - IJulia                        0.1.16\n",
      " - JuMP                          0.7.3\n",
      " - MAT                           0.2.9\n",
      " - NLopt                         0.2.0\n",
      " - Quandl                        0.4.0\n",
      " - RDatasets                     0.1.1\n",
      " - Taro                          0.1.2\n",
      " - TimeData                      0.5.1\n",
      " - TimeSeries                    0.4.6\n",
      " - Winston                       0.11.7\n",
      "56 additional packages:\n",
      " - ArrayViews                    0.4.8\n",
      " - BinDeps                       0.3.7\n",
      " - Blosc                         0.1.1\n",
      " - Cairo                         0.2.22\n",
      " - Calculus                      0.1.5\n",
      " - Codecs                        0.1.3\n",
      " - Color                         0.3.15\n",
      " - Compat                        0.2.10\n",
      " - Compose                       0.3.10\n",
      " - Contour                       0.0.6\n",
      " - Copulas                       0.0.0-             master (unregistered, dirty)\n",
      " - DataStructures                0.3.5\n",
      " - Distances                     0.2.0\n",
      " - DualNumbers                   0.1.1\n",
      " - Econometrics                  0.0.0-             master (unregistered)\n",
      " - FixedPointNumbers             0.0.6\n",
      " - GZip                          0.2.13\n",
      " - GnuTLS                        0.0.1\n",
      " - Graphs                        0.5.0\n",
      " - Grid                          0.3.7\n",
      " - Gumbo                         0.1.2\n",
      " - HDF5                          0.4.10\n",
      " - HTTPClient                    0.1.4\n",
      " - Hexagons                      0.0.2\n",
      " - HttpCommon                    0.0.11\n",
      " - HttpParser                    0.0.10\n",
      " - ImmutableArrays               0.0.6\n",
      " - IniFile                       0.2.4\n",
      " - Iterators                     0.1.7\n",
      " - JSON                          0.4.0\n",
      " - JavaCall                      0.2.0\n",
      " - KernelDensity                 0.1.0              b2c9f7d6 (dirty)\n",
      " - LibCURL                       0.1.4\n",
      " - Loess                         0.0.3\n",
      " - MathProgBase                  0.3.8\n",
      " - Memoize                       0.0.0\n",
      " - NaNMath                       0.0.2\n",
      " - Nettle                        0.1.7\n",
      " - NumericExtensions             0.6.2\n",
      " - NumericFuns                   0.2.3\n",
      " - Optim                         0.4.0\n",
      " - PDMats                        0.3.1\n",
      " - Plotly                        0.0.0-             master (unregistered)\n",
      " - REPLCompletions               0.0.3\n",
      " - Reexport                      0.0.2\n",
      " - Requests                      0.0.6\n",
      " - ReverseDiffSparse             0.1.10\n",
      " - SHA                           0.0.3\n",
      " - Showoff                       0.0.3\n",
      " - SortingAlgorithms             0.0.2\n",
      " - StatsBase                     0.6.10\n",
      " - Tk                            0.2.16\n",
      " - URIParser                     0.0.3\n",
      " - WorldBankDataTd               0.0.0-             master (unregistered)\n",
      " - ZMQ                           0.1.15\n",
      " - Zlib                          0.1.7\n"
     ]
    }
   ],
   "source": [
    "Pkg.status()"
   ]
  }
 ],
 "metadata": {
  "kernelspec": {
   "display_name": "Julia",
   "name": "julia"
  },
  "language": "Julia",
  "language_info": {
   "name": "julia",
   "version": "0.3.5"
  }
 },
 "nbformat": 4,
 "nbformat_minor": 0
}
