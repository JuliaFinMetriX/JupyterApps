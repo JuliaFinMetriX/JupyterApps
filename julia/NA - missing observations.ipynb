{
 "metadata": {
  "language": "Julia",
  "name": "",
  "signature": "sha256:6d4071449367bced29f8e448a8f09a9f3679888e0aa84406d9eca07a16d39a2c"
 },
 "nbformat": 3,
 "nbformat_minor": 0,
 "worksheets": [
  {
   "cells": [
    {
     "cell_type": "heading",
     "level": 1,
     "metadata": {},
     "source": [
      "NA: representation of missing values"
     ]
    },
    {
     "cell_type": "markdown",
     "metadata": {},
     "source": [
      "Why do we need **NA** in addition to **NaN**? In many cases, both **return similar** results:"
     ]
    },
    {
     "cell_type": "code",
     "collapsed": false,
     "input": [
      "using DataFrames\n",
      "{false && NaN false && NA}"
     ],
     "language": "python",
     "metadata": {},
     "outputs": [
      {
       "metadata": {},
       "output_type": "pyout",
       "prompt_number": 1,
       "text": [
        "1x2 Array{Any,2}:\n",
        " false  false"
       ]
      }
     ],
     "prompt_number": 1
    },
    {
     "cell_type": "code",
     "collapsed": false,
     "input": [
      "{true && NaN true && NA}"
     ],
     "language": "python",
     "metadata": {},
     "outputs": [
      {
       "metadata": {},
       "output_type": "pyout",
       "prompt_number": 2,
       "text": [
        "1x2 Array{Any,2}:\n",
        " NaN  NA"
       ]
      }
     ],
     "prompt_number": 2
    },
    {
     "cell_type": "code",
     "collapsed": false,
     "input": [
      "{(3 + NaN) (3 + NA)}"
     ],
     "language": "python",
     "metadata": {},
     "outputs": [
      {
       "metadata": {},
       "output_type": "pyout",
       "prompt_number": 3,
       "text": [
        "1x2 Array{Any,2}:\n",
        " NaN  NA"
       ]
      }
     ],
     "prompt_number": 3
    },
    {
     "cell_type": "code",
     "collapsed": false,
     "input": [
      "{0*NaN 0*NA}"
     ],
     "language": "python",
     "metadata": {},
     "outputs": [
      {
       "metadata": {},
       "output_type": "pyout",
       "prompt_number": 4,
       "text": [
        "1x2 Array{Any,2}:\n",
        " NaN  NA"
       ]
      }
     ],
     "prompt_number": 4
    },
    {
     "cell_type": "markdown",
     "metadata": {},
     "source": [
      "However, in some cases `NaN` simply returns `false`, although we actually are not able to evaluate any logical statement, since we have a missing observation."
     ]
    },
    {
     "cell_type": "code",
     "collapsed": false,
     "input": [
      "{3 > NaN 3 > NA}"
     ],
     "language": "python",
     "metadata": {},
     "outputs": [
      {
       "metadata": {},
       "output_type": "pyout",
       "prompt_number": 5,
       "text": [
        "1x2 Array{Any,2}:\n",
        " false  NA"
       ]
      }
     ],
     "prompt_number": 5
    },
    {
     "cell_type": "code",
     "collapsed": false,
     "input": [
      "{(3 == NaN) (3 == NA)}"
     ],
     "language": "python",
     "metadata": {},
     "outputs": [
      {
       "metadata": {},
       "output_type": "pyout",
       "prompt_number": 6,
       "text": [
        "1x2 Array{Any,2}:\n",
        " false  NA"
       ]
      }
     ],
     "prompt_number": 6
    },
    {
     "cell_type": "code",
     "collapsed": false,
     "input": [
      "{NaN == NaN NA == NA}"
     ],
     "language": "python",
     "metadata": {},
     "outputs": [
      {
       "metadata": {},
       "output_type": "pyout",
       "prompt_number": 7,
       "text": [
        "1x2 Array{Any,2}:\n",
        " false  NA"
       ]
      }
     ],
     "prompt_number": 7
    },
    {
     "cell_type": "markdown",
     "metadata": {},
     "source": [
      "Rather unexpectedly, however, **not equal** evaluates to **true** for _NA_."
     ]
    },
    {
     "cell_type": "code",
     "collapsed": false,
     "input": [
      "{(3 !== NaN) (3 !== NA)} # not good?"
     ],
     "language": "python",
     "metadata": {},
     "outputs": [
      {
       "metadata": {},
       "output_type": "pyout",
       "prompt_number": 8,
       "text": [
        "1x2 Array{Any,2}:\n",
        " true  true"
       ]
      }
     ],
     "prompt_number": 8
    },
    {
     "cell_type": "markdown",
     "metadata": {},
     "source": [
      "There are two ways to test equality for `NA`s:"
     ]
    },
    {
     "cell_type": "code",
     "collapsed": false,
     "input": [
      "NA == NA"
     ],
     "language": "python",
     "metadata": {},
     "outputs": [
      {
       "metadata": {},
       "output_type": "pyout",
       "prompt_number": 9,
       "text": [
        "NA"
       ]
      }
     ],
     "prompt_number": 9
    },
    {
     "cell_type": "code",
     "collapsed": false,
     "input": [
      "isequal(NA, NA)"
     ],
     "language": "python",
     "metadata": {},
     "outputs": [
      {
       "metadata": {},
       "output_type": "pyout",
       "prompt_number": 10,
       "text": [
        "true"
       ]
      }
     ],
     "prompt_number": 10
    },
    {
     "cell_type": "heading",
     "level": 5,
     "metadata": {},
     "source": [
      "Further references"
     ]
    },
    {
     "cell_type": "markdown",
     "metadata": {},
     "source": [
      "- http://www.r-bloggers.com/r-na-vs-null/\n",
      "- http://www.cookbook-r.com/Basics/Working_with_NULL_NA_and_NaN/\n",
      "- http://www.cookbook-r.com/Manipulating_data/Comparing_vectors_or_factors_with_NA/"
     ]
    },
    {
     "cell_type": "heading",
     "level": 1,
     "metadata": {},
     "source": [
      "Testing for equality with missing observations"
     ]
    },
    {
     "cell_type": "heading",
     "level": 4,
     "metadata": {},
     "source": [
      "DataFrames"
     ]
    },
    {
     "cell_type": "markdown",
     "metadata": {},
     "source": [
      "Methods for function `isequal` are naturally extended for the case of `DataFrames`. Again, `isequal` returns either `true` or `false`. In order to evaluate to `true`, each entry must be exactly the same - in particular, `NA` is equal to `NA`."
     ]
    },
    {
     "cell_type": "code",
     "collapsed": false,
     "input": [
      "df = DataFrame()\n",
      "df[:a] = @data([3, NA])\n",
      "df[:b] = @data([4, NA])\n",
      "\n",
      "df2 = DataFrame()\n",
      "df2[:a] = @data([3, 4])\n",
      "df2[:b] = @data([4, NA])\n",
      "\n",
      "df3 = DataFrame()\n",
      "df3[:a] = @data([10, 4])\n",
      "df3[:b] = @data([4, NA])\n",
      "\n",
      "isequal(df, df)"
     ],
     "language": "python",
     "metadata": {},
     "outputs": [
      {
       "metadata": {},
       "output_type": "pyout",
       "prompt_number": 11,
       "text": [
        "true"
       ]
      }
     ],
     "prompt_number": 11
    },
    {
     "cell_type": "markdown",
     "metadata": {},
     "source": [
      "In the next example, a missing observation in one `DataFrame` is compared to a number in the other `DataFrame`. Hence, `isequal` evaluates to `false`."
     ]
    },
    {
     "cell_type": "code",
     "collapsed": false,
     "input": [
      "isequal(df, df2)"
     ],
     "language": "python",
     "metadata": {},
     "outputs": [
      {
       "metadata": {},
       "output_type": "pyout",
       "prompt_number": 12,
       "text": [
        "false"
       ]
      }
     ],
     "prompt_number": 12
    },
    {
     "cell_type": "markdown",
     "metadata": {},
     "source": [
      "And, of course, with deviating observations:"
     ]
    },
    {
     "cell_type": "code",
     "collapsed": false,
     "input": [
      "isequal(df, df3)"
     ],
     "language": "python",
     "metadata": {},
     "outputs": [
      {
       "metadata": {},
       "output_type": "pyout",
       "prompt_number": 13,
       "text": [
        "false"
       ]
      }
     ],
     "prompt_number": 13
    },
    {
     "cell_type": "markdown",
     "metadata": {},
     "source": [
      "In contrast, `==` has slightly different aggregating behaviour. If all elementwise comparisons evaluate to `true` or if a single elementwise comparison evalutes to `false` the method is similar to `isequal`. For the case of missing observations, however, `==` evaluates to `NA` if there is at least one `NA` for elementwise comparison, and all other values are `true`. First, comparing a `DataFrame` with missing observations with itself:"
     ]
    },
    {
     "cell_type": "code",
     "collapsed": false,
     "input": [
      "[df[ii, jj] == df[ii, jj] for ii=1:size(df, 1), jj=1:size(df, 2)]"
     ],
     "language": "python",
     "metadata": {},
     "outputs": [
      {
       "metadata": {},
       "output_type": "pyout",
       "prompt_number": 14,
       "text": [
        "2x2 Array{Any,2}:\n",
        " true    true  \n",
        "     NA      NA"
       ]
      }
     ],
     "prompt_number": 14
    },
    {
     "cell_type": "code",
     "collapsed": false,
     "input": [
      "df == df"
     ],
     "language": "python",
     "metadata": {},
     "outputs": [
      {
       "metadata": {},
       "output_type": "pyout",
       "prompt_number": 15,
       "text": [
        "NA"
       ]
      }
     ],
     "prompt_number": 15
    },
    {
     "cell_type": "markdown",
     "metadata": {},
     "source": [
      "Again, with `true` and `NA` present:"
     ]
    },
    {
     "cell_type": "code",
     "collapsed": false,
     "input": [
      "[df[ii, jj] == df2[ii, jj] for ii=1:size(df, 1), jj=1:size(df, 2)]"
     ],
     "language": "python",
     "metadata": {},
     "outputs": [
      {
       "metadata": {},
       "output_type": "pyout",
       "prompt_number": 16,
       "text": [
        "2x2 Array{Any,2}:\n",
        " true    true  \n",
        "     NA      NA"
       ]
      }
     ],
     "prompt_number": 16
    },
    {
     "cell_type": "code",
     "collapsed": false,
     "input": [
      "df == df2"
     ],
     "language": "python",
     "metadata": {},
     "outputs": [
      {
       "metadata": {},
       "output_type": "pyout",
       "prompt_number": 17,
       "text": [
        "NA"
       ]
      }
     ],
     "prompt_number": 17
    },
    {
     "cell_type": "markdown",
     "metadata": {},
     "source": [
      "Now, with a single entry evaluating to `false`:"
     ]
    },
    {
     "cell_type": "code",
     "collapsed": false,
     "input": [
      "[df[ii, jj] == df3[ii, jj] for ii=1:size(df, 1), jj=1:size(df, 2)]"
     ],
     "language": "python",
     "metadata": {},
     "outputs": [
      {
       "metadata": {},
       "output_type": "pyout",
       "prompt_number": 18,
       "text": [
        "2x2 Array{Any,2}:\n",
        " false    true  \n",
        "      NA      NA"
       ]
      }
     ],
     "prompt_number": 18
    },
    {
     "cell_type": "code",
     "collapsed": false,
     "input": [
      "df == df3"
     ],
     "language": "python",
     "metadata": {},
     "outputs": [
      {
       "metadata": {},
       "output_type": "pyout",
       "prompt_number": 19,
       "text": [
        "false"
       ]
      }
     ],
     "prompt_number": 19
    },
    {
     "cell_type": "heading",
     "level": 4,
     "metadata": {},
     "source": [
      "TimeData objects"
     ]
    },
    {
     "cell_type": "markdown",
     "metadata": {},
     "source": [
      "`isequal` and `==` behave quite similarly for the case of `TimeData` objects. However, they also return `false` if either indices, column names or types are different (for example, if `Timematr` is compared to `Timenum` objects)."
     ]
    },
    {
     "cell_type": "code",
     "collapsed": false,
     "input": [
      "using TimeData\n",
      "tn = Timenum(df)\n",
      "tn2 = Timenum(df2)\n",
      "tn3 = Timenum(df3)\n",
      "td = Timedata(df)\n",
      "tn4 = Timenum(df, [date(2010, 1, 1):date(2010, 1, 2)])"
     ],
     "language": "python",
     "metadata": {},
     "outputs": [
      {
       "ename": "LoadError",
       "evalue": "date not defined\nwhile loading In[20], in expression starting on line 6",
       "output_type": "pyerr",
       "traceback": [
        "date not defined\nwhile loading In[20], in expression starting on line 6",
        ""
       ]
      }
     ],
     "prompt_number": 20
    },
    {
     "cell_type": "code",
     "collapsed": false,
     "input": [
      "[isequal(df, df) isequal(tn, tn);\n",
      "    isequal(df, df2) isequal(tn, tn2);\n",
      "    isequal(df, df3) isequal(tn, tn3)]"
     ],
     "language": "python",
     "metadata": {},
     "outputs": [
      {
       "metadata": {},
       "output_type": "pyout",
       "prompt_number": 21,
       "text": [
        "3x2 Array{Bool,2}:\n",
        "  true   true\n",
        " false  false\n",
        " false  false"
       ]
      }
     ],
     "prompt_number": 21
    },
    {
     "cell_type": "code",
     "collapsed": false,
     "input": [
      "Any[(df == df) (tn == tn);\n",
      "    (df == df2) (tn == tn2);\n",
      "    (df == df3) (tn == tn3)]"
     ],
     "language": "python",
     "metadata": {},
     "outputs": [
      {
       "metadata": {},
       "output_type": "pyout",
       "prompt_number": 22,
       "text": [
        "3x2 Array{Any,2}:\n",
        "      NA       NA\n",
        "      NA       NA\n",
        " false    false  "
       ]
      }
     ],
     "prompt_number": 22
    },
    {
     "cell_type": "markdown",
     "metadata": {},
     "source": [
      "Testing other differences:"
     ]
    },
    {
     "cell_type": "code",
     "collapsed": false,
     "input": [
      "[isequal(tn, td) (tn == td);\n",
      "    isequal(tn, tn4) (tn == tn4)]"
     ],
     "language": "python",
     "metadata": {},
     "outputs": [
      {
       "ename": "LoadError",
       "evalue": "tn4 not defined\nwhile loading In[23], in expression starting on line 1",
       "output_type": "pyerr",
       "traceback": [
        "tn4 not defined\nwhile loading In[23], in expression starting on line 1",
        ""
       ]
      }
     ],
     "prompt_number": 23
    },
    {
     "cell_type": "markdown",
     "metadata": {},
     "source": [
      "In addition, however, `Timematr` and `Timenum` objects also provide elementwise implementations of `isequal` and `==`. These are called `isequalElemwise` and `.==` respectively. These functions are not defined for `DataFrames`:"
     ]
    },
    {
     "cell_type": "code",
     "collapsed": false,
     "input": [
      "df .== df"
     ],
     "language": "python",
     "metadata": {},
     "outputs": [
      {
       "ename": "LoadError",
       "evalue": "`.==` has no method matching .==(::DataFrame, ::DataFrame)\nwhile loading In[24], in expression starting on line 1",
       "output_type": "pyerr",
       "traceback": [
        "`.==` has no method matching .==(::DataFrame, ::DataFrame)\nwhile loading In[24], in expression starting on line 1",
        ""
       ]
      }
     ],
     "prompt_number": 24
    },
    {
     "cell_type": "markdown",
     "metadata": {},
     "source": [
      "For elementwise comparisons, differences in column names, indices or type will always throw an error:"
     ]
    },
    {
     "cell_type": "code",
     "collapsed": false,
     "input": [
      "isequalElemwise(tn, tn4)"
     ],
     "language": "python",
     "metadata": {},
     "outputs": [
      {
       "ename": "LoadError",
       "evalue": "tn4 not defined\nwhile loading In[25], in expression starting on line 1",
       "output_type": "pyerr",
       "traceback": [
        "tn4 not defined\nwhile loading In[25], in expression starting on line 1",
        ""
       ]
      }
     ],
     "prompt_number": 25
    },
    {
     "cell_type": "markdown",
     "metadata": {},
     "source": [
      "As `isequalElemwise` uses `isequal`, which only returns `true` or `false` values, its output is a `Timedata` object with boolean values."
     ]
    },
    {
     "cell_type": "code",
     "collapsed": false,
     "input": [
      "isequalElemwise(tn, tn)"
     ],
     "language": "python",
     "metadata": {},
     "outputs": [
      {
       "html": [
        "<p><strong>Timedata{Int64}</strong></p><p>Dimensions: <strong>(2, 2)</strong></p><p>From: <strong>1</strong>, To: <strong>2</strong></p><table class=\"data-frame\"><tr><th></th><th>idx</th><th>a</th><th>b</th></tr><tr><th>1</th><td>1</td><td>true</td><td>true</td></tr><tr><th>2</th><td>2</td><td>true</td><td>true</td></tr></table>"
       ],
       "metadata": {},
       "output_type": "pyout",
       "prompt_number": 26,
       "text": [
        "Timedata{Int64}(2x2 DataFrame\n",
        "|-------|------|------|\n",
        "| Row # | a    | b    |\n",
        "| 1     | true | true |\n",
        "| 2     | true | true |,[1,2])"
       ]
      }
     ],
     "prompt_number": 26
    },
    {
     "cell_type": "code",
     "collapsed": false,
     "input": [
      "isequalElemwise(tn, tn2)"
     ],
     "language": "python",
     "metadata": {},
     "outputs": [
      {
       "html": [
        "<p><strong>Timedata{Int64}</strong></p><p>Dimensions: <strong>(2, 2)</strong></p><p>From: <strong>1</strong>, To: <strong>2</strong></p><table class=\"data-frame\"><tr><th></th><th>idx</th><th>a</th><th>b</th></tr><tr><th>1</th><td>1</td><td>true</td><td>true</td></tr><tr><th>2</th><td>2</td><td>false</td><td>true</td></tr></table>"
       ],
       "metadata": {},
       "output_type": "pyout",
       "prompt_number": 27,
       "text": [
        "Timedata{Int64}(2x2 DataFrame\n",
        "|-------|-------|------|\n",
        "| Row # | a     | b    |\n",
        "| 1     | true  | true |\n",
        "| 2     | false | true |,[1,2])"
       ]
      }
     ],
     "prompt_number": 27
    },
    {
     "cell_type": "markdown",
     "metadata": {},
     "source": [
      "In contrast, using `==` also could return `NA`, so that elementwise comparison return boolean `DataArrays`."
     ]
    },
    {
     "cell_type": "code",
     "collapsed": false,
     "input": [
      "tn == tn"
     ],
     "language": "python",
     "metadata": {},
     "outputs": [
      {
       "metadata": {},
       "output_type": "pyout",
       "prompt_number": 28,
       "text": [
        "NA"
       ]
      }
     ],
     "prompt_number": 28
    },
    {
     "cell_type": "code",
     "collapsed": false,
     "input": [
      "tn .== tn"
     ],
     "language": "python",
     "metadata": {},
     "outputs": [
      {
       "html": [
        "<p><strong>Timedata{Int64}</strong></p><p>Dimensions: <strong>(2, 2)</strong></p><p>From: <strong>1</strong>, To: <strong>2</strong></p><table class=\"data-frame\"><tr><th></th><th>idx</th><th>a</th><th>b</th></tr><tr><th>1</th><td>1</td><td>true</td><td>true</td></tr><tr><th>2</th><td>2</td><td>NA</td><td>NA</td></tr></table>"
       ],
       "metadata": {},
       "output_type": "pyout",
       "prompt_number": 29,
       "text": [
        "Timedata{Int64}(2x2 DataFrame\n",
        "|-------|------|------|\n",
        "| Row # | a    | b    |\n",
        "| 1     | true | true |\n",
        "| 2     | NA   | NA   |,[1,2])"
       ]
      }
     ],
     "prompt_number": 29
    }
   ],
   "metadata": {}
  }
 ]
}