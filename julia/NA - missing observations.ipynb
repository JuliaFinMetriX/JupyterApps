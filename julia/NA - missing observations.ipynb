{
 "metadata": {
  "language": "Julia",
  "name": "",
  "signature": "sha256:610ba5878b53e73999330281443d2739efa05890191b1fcd14b0857f3db479be"
 },
 "nbformat": 3,
 "nbformat_minor": 0,
 "worksheets": [
  {
   "cells": [
    {
     "cell_type": "heading",
     "level": 1,
     "metadata": {},
     "source": [
      "NA: representation of missing values"
     ]
    },
    {
     "cell_type": "markdown",
     "metadata": {},
     "source": [
      "Why do we need **NA** in addition to **NaN**? In many cases, both **return similar** results:"
     ]
    },
    {
     "cell_type": "code",
     "collapsed": false,
     "input": [
      "using DataFrames\n",
      "Any[false && NaN false && NA]"
     ],
     "language": "python",
     "metadata": {},
     "outputs": [
      {
       "metadata": {},
       "output_type": "pyout",
       "prompt_number": 1,
       "text": [
        "1x2 Array{Any,2}:\n",
        " false  false"
       ]
      }
     ],
     "prompt_number": 1
    },
    {
     "cell_type": "code",
     "collapsed": false,
     "input": [
      "Any[true && NaN true && NA]"
     ],
     "language": "python",
     "metadata": {},
     "outputs": [
      {
       "metadata": {},
       "output_type": "pyout",
       "prompt_number": 2,
       "text": [
        "1x2 Array{Any,2}:\n",
        " NaN  NA"
       ]
      }
     ],
     "prompt_number": 2
    },
    {
     "cell_type": "code",
     "collapsed": false,
     "input": [
      "Any[3 + NaN 3 + NA]"
     ],
     "language": "python",
     "metadata": {},
     "outputs": [
      {
       "metadata": {},
       "output_type": "pyout",
       "prompt_number": 3,
       "text": [
        "1x2 Array{Any,2}:\n",
        " NaN  NA"
       ]
      }
     ],
     "prompt_number": 3
    },
    {
     "cell_type": "code",
     "collapsed": false,
     "input": [
      "Any[0*NaN 0*NA]"
     ],
     "language": "python",
     "metadata": {},
     "outputs": [
      {
       "metadata": {},
       "output_type": "pyout",
       "prompt_number": 4,
       "text": [
        "1x2 Array{Any,2}:\n",
        " NaN  NA"
       ]
      }
     ],
     "prompt_number": 4
    },
    {
     "cell_type": "markdown",
     "metadata": {},
     "source": [
      "However, in some cases `NaN` simply returns `false`, although we actually are not able to evaluate any logical statement, since we have a missing observation."
     ]
    },
    {
     "cell_type": "code",
     "collapsed": false,
     "input": [
      "Any[3 > NaN 3 > NA]"
     ],
     "language": "python",
     "metadata": {},
     "outputs": [
      {
       "metadata": {},
       "output_type": "pyout",
       "prompt_number": 5,
       "text": [
        "1x2 Array{Any,2}:\n",
        " false  NA"
       ]
      }
     ],
     "prompt_number": 5
    },
    {
     "cell_type": "code",
     "collapsed": false,
     "input": [
      "Any[3 == NaN 3 == NA]"
     ],
     "language": "python",
     "metadata": {},
     "outputs": [
      {
       "metadata": {},
       "output_type": "pyout",
       "prompt_number": 6,
       "text": [
        "1x2 Array{Any,2}:\n",
        " false  NA"
       ]
      }
     ],
     "prompt_number": 6
    },
    {
     "cell_type": "code",
     "collapsed": false,
     "input": [
      "Any[NaN == NaN NA == NA] # not good"
     ],
     "language": "python",
     "metadata": {},
     "outputs": [
      {
       "metadata": {},
       "output_type": "pyout",
       "prompt_number": 7,
       "text": [
        "1x2 Array{Any,2}:\n",
        " false  NA"
       ]
      }
     ],
     "prompt_number": 7
    },
    {
     "cell_type": "markdown",
     "metadata": {},
     "source": [
      "Rather unexpectedly, however, **not equal** evaluates to **true** for _NA_."
     ]
    },
    {
     "cell_type": "code",
     "collapsed": false,
     "input": [
      "Any[3 == NaN 3 !== NA]"
     ],
     "language": "python",
     "metadata": {},
     "outputs": [
      {
       "metadata": {},
       "output_type": "pyout",
       "prompt_number": 8,
       "text": [
        "1x2 Array{Any,2}:\n",
        " false  true"
       ]
      }
     ],
     "prompt_number": 8
    },
    {
     "cell_type": "markdown",
     "metadata": {},
     "source": [
      "There are two ways to test equality for `NA`s:"
     ]
    },
    {
     "cell_type": "code",
     "collapsed": false,
     "input": [
      "NA == NA"
     ],
     "language": "python",
     "metadata": {},
     "outputs": [
      {
       "metadata": {},
       "output_type": "pyout",
       "prompt_number": 9,
       "text": [
        "NA"
       ]
      }
     ],
     "prompt_number": 9
    },
    {
     "cell_type": "code",
     "collapsed": false,
     "input": [
      "isequal(NA, NA)"
     ],
     "language": "python",
     "metadata": {},
     "outputs": [
      {
       "metadata": {},
       "output_type": "pyout",
       "prompt_number": 10,
       "text": [
        "true"
       ]
      }
     ],
     "prompt_number": 10
    },
    {
     "cell_type": "heading",
     "level": 5,
     "metadata": {},
     "source": [
      "Further references"
     ]
    },
    {
     "cell_type": "markdown",
     "metadata": {},
     "source": [
      "- http://www.r-bloggers.com/r-na-vs-null/\n",
      "- http://www.cookbook-r.com/Basics/Working_with_NULL_NA_and_NaN/\n",
      "- http://www.cookbook-r.com/Manipulating_data/Comparing_vectors_or_factors_with_NA/"
     ]
    }
   ],
   "metadata": {}
  }
 ]
}