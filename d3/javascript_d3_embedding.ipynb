{
 "cells": [
  {
   "cell_type": "code",
   "execution_count": 16,
   "metadata": {
    "collapsed": false
   },
   "outputs": [
    {
     "data": {
      "image/svg+xml": [
       "<svg xmlns=\"http://www.w3.org/2000/svg\" width=\"360\" height=\"180\"><circle class=\"little\" cx=\"44.91758342832327\" cy=\"109.23680955078453\" r=\"12\" fill=\"#abe326\"/><circle class=\"little\" cx=\"34.144921246916056\" cy=\"5.483550983481109\" r=\"12\" fill=\"#285670\"/><circle class=\"little\" cx=\"308.1099609285593\" cy=\"4.105997015722096\" r=\"12\" fill=\"#423bfd\"/></svg>"
      ],
      "text/plain": [
       "SvgChart(\"<svg xmlns=\\\"http://www.w3.org/2000/svg\\\" width=\\\"360\\\" height=\\\"180\\\"><circle class=\\\"little\\\" cx=\\\"44.91758342832327\\\" cy=\\\"109.23680955078453\\\" r=\\\"12\\\" fill=\\\"#abe326\\\"/><circle class=\\\"little\\\" cx=\\\"34.144921246916056\\\" cy=\\\"5.483550983481109\\\" r=\\\"12\\\" fill=\\\"#285670\\\"/><circle class=\\\"little\\\" cx=\\\"308.1099609285593\\\" cy=\\\"4.105997015722096\\\" r=\\\"12\\\" fill=\\\"#423bfd\\\"/></svg>\")"
      ]
     },
     "execution_count": 16,
     "metadata": {},
     "output_type": "execute_result"
    }
   ],
   "source": [
    "svgString = readall(\"d3js_export_demo.svg\")\n",
    "SvgChart(svgString)"
   ]
  },
  {
   "cell_type": "code",
   "execution_count": 17,
   "metadata": {
    "collapsed": false
   },
   "outputs": [
    {
     "data": {
      "text/plain": [
       "writemime (generic function with 27 methods)"
      ]
     },
     "execution_count": 17,
     "metadata": {},
     "output_type": "execute_result"
    }
   ],
   "source": [
    "type HTML\n",
    "    s::String\n",
    "end\n",
    "import Base.writemime\n",
    "function writemime(io::IO, ::MIME\"text/html\", x::HTML)\n",
    "    print(io, x.s)\n",
    "end"
   ]
  },
  {
   "cell_type": "code",
   "execution_count": 18,
   "metadata": {
    "collapsed": false
   },
   "outputs": [
    {
     "data": {
      "text/html": [
       "<div class=\"canvasContainer\"> </div>"
      ],
      "text/plain": [
       "HTML(\"<div class=\\\"canvasContainer\\\"> </div>\")"
      ]
     },
     "execution_count": 18,
     "metadata": {},
     "output_type": "execute_result"
    }
   ],
   "source": [
    "createCanvas = HTML(\"<div class=\\\"canvasContainer\\\"> </div>\")"
   ]
  },
  {
   "cell_type": "code",
   "execution_count": 20,
   "metadata": {
    "collapsed": false
   },
   "outputs": [
    {
     "data": {
      "text/html": [
       "<style>\n",
       "  body {\n",
       "  font: 16px sans-serif;\n",
       "  }\n",
       "  \n",
       "  .axis path,\n",
       "  .axis line {\n",
       "  fill: none;\n",
       "  stroke: #000;\n",
       "  shape-rendering: crispEdges;\n",
       "  }\n",
       "  \n",
       "  .x.axis path {\n",
       "  display: none;\n",
       "  }\n",
       "  \n",
       "  .y.axis path {\n",
       "  display: none;\n",
       "  }\n",
       "  \n",
       "  text.shadow {\n",
       "  stroke: white;\n",
       "  stroke-width: 5.5px;\n",
       "  opacity: 0.9;\n",
       "  }\n",
       "  \n",
       "  .line {\n",
       "  fill: none;\n",
       "  stroke: steelblue;\n",
       "  stroke-width: 2.5px;\n",
       "  }\n",
       "  \n",
       "  .grid .tick {\n",
       "  stroke: rgb(255, 255, 255);\n",
       "  stroke-opacity: 1;\n",
       "  stroke-width: 2px;\n",
       "  shape-rendering: crispEdges;\n",
       "  }\n",
       "  \n",
       "  .grid path {\n",
       "  stroke-width: 0;\n",
       "  }\n",
       "  \n",
       "  .overlay {\n",
       "  fill: none;\n",
       "  pointer-events: all;\n",
       "  }\n",
       "  \n",
       "  .focus circle {\n",
       "  fill: none;\n",
       "  stroke: steelblue;\n",
       "  }\n",
       "  \n",
       "  .focus text {\n",
       "  font: 10px sans-serif;\n",
       "  }\n",
       "  \n",
       "  .background {\n",
       "  fill: rgb(229, 229, 229);\n",
       "  fill-opacity: 1;\n",
       "  }\n",
       "  \n",
       "</style>\n",
       "<script src=\"http://d3js.org/d3.v3.min.js\" charset=\"utf-8\">\n",
       "</script>\n",
       "<script src=\"assembly_code.js\">\n",
       "</script>  \n"
      ],
      "text/plain": [
       "HTML(\"<style>\\n  body {\\n  font: 16px sans-serif;\\n  }\\n  \\n  .axis path,\\n  .axis line {\\n  fill: none;\\n  stroke: #000;\\n  shape-rendering: crispEdges;\\n  }\\n  \\n  .x.axis path {\\n  display: none;\\n  }\\n  \\n  .y.axis path {\\n  display: none;\\n  }\\n  \\n  text.shadow {\\n  stroke: white;\\n  stroke-width: 5.5px;\\n  opacity: 0.9;\\n  }\\n  \\n  .line {\\n  fill: none;\\n  stroke: steelblue;\\n  stroke-width: 2.5px;\\n  }\\n  \\n  .grid .tick {\\n  stroke: rgb(255, 255, 255);\\n  stroke-opacity: 1;\\n  stroke-width: 2px;\\n  shape-rendering: crispEdges;\\n  }\\n  \\n  .grid path {\\n  stroke-width: 0;\\n  }\\n  \\n  .overlay {\\n  fill: none;\\n  pointer-events: all;\\n  }\\n  \\n  .focus circle {\\n  fill: none;\\n  stroke: steelblue;\\n  }\\n  \\n  .focus text {\\n  font: 10px sans-serif;\\n  }\\n  \\n  .background {\\n  fill: rgb(229, 229, 229);\\n  fill-opacity: 1;\\n  }\\n  \\n</style>\\n<script src=\\\"http://d3js.org/d3.v3.min.js\\\" charset=\\\"utf-8\\\">\\n</script>\\n<script src=\\\"assembly_code.js\\\">\\n</script>  \\n\")"
      ]
     },
     "execution_count": 20,
     "metadata": {},
     "output_type": "execute_result"
    }
   ],
   "source": [
    "jsChart = readall(\"index.html\")\n",
    "HTML(jsChart)"
   ]
  }
 ],
 "metadata": {
  "kernelspec": {
   "display_name": "Julia",
   "name": "julia"
  },
  "language_info": {
   "name": "julia",
   "version": "0.3.5"
  }
 },
 "nbformat": 4,
 "nbformat_minor": 0
}
