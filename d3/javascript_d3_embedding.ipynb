{
 "cells": [
  {
   "cell_type": "code",
   "execution_count": 44,
   "metadata": {
    "collapsed": false
   },
   "outputs": [
    {
     "ename": "LoadError",
     "evalue": "SvgChart not defined\nwhile loading In[44], in expression starting on line 2",
     "output_type": "error",
     "traceback": [
      "SvgChart not defined\nwhile loading In[44], in expression starting on line 2",
      ""
     ]
    }
   ],
   "source": [
    "svgString = readall(\"d3js_export_demo.svg\")\n",
    "SvgChart(svgString)"
   ]
  },
  {
   "cell_type": "code",
   "execution_count": 73,
   "metadata": {
    "collapsed": false
   },
   "outputs": [
    {
     "data": {
      "text/plain": [
       "writemime (generic function with 15 methods)"
      ]
     },
     "execution_count": 73,
     "metadata": {},
     "output_type": "execute_result"
    }
   ],
   "source": [
    "type HTML\n",
    "    s::String\n",
    "end\n",
    "import Base.writemime\n",
    "function writemime(io::IO, ::MIME\"text/html\", x::HTML)\n",
    "    print(io, x.s)\n",
    "end"
   ]
  },
  {
   "cell_type": "code",
   "execution_count": 46,
   "metadata": {
    "collapsed": false
   },
   "outputs": [
    {
     "data": {
      "text/html": [
       "<div class=\"canvasContainer\"> </div>"
      ],
      "text/plain": [
       "HTML(\"<div class=\\\"canvasContainer\\\"> </div>\")"
      ]
     },
     "execution_count": 46,
     "metadata": {},
     "output_type": "execute_result"
    }
   ],
   "source": [
    "createCanvas = HTML(\"<div class=\\\"canvasContainer\\\"> </div>\")"
   ]
  },
  {
   "cell_type": "code",
   "execution_count": 47,
   "metadata": {
    "collapsed": false
   },
   "outputs": [
    {
     "data": {
      "text/html": [
       "<style>\n",
       "  body {\n",
       "  font: 16px sans-serif;\n",
       "  }\n",
       "  \n",
       "  .axis path,\n",
       "  .axis line {\n",
       "  fill: none;\n",
       "  stroke: #000;\n",
       "  shape-rendering: crispEdges;\n",
       "  }\n",
       "  \n",
       "  .x.axis path {\n",
       "  display: none;\n",
       "  }\n",
       "  \n",
       "  .y.axis path {\n",
       "  display: none;\n",
       "  }\n",
       "  \n",
       "  text.shadow {\n",
       "  stroke: white;\n",
       "  stroke-width: 5.5px;\n",
       "  opacity: 0.9;\n",
       "  }\n",
       "  \n",
       "  .line {\n",
       "  fill: none;\n",
       "  stroke: steelblue;\n",
       "  stroke-width: 2.5px;\n",
       "  }\n",
       "  \n",
       "  .grid .tick {\n",
       "  stroke: rgb(255, 255, 255);\n",
       "  stroke-opacity: 1;\n",
       "  stroke-width: 2px;\n",
       "  shape-rendering: crispEdges;\n",
       "  }\n",
       "  \n",
       "  .grid path {\n",
       "  stroke-width: 0;\n",
       "  }\n",
       "  \n",
       "  .overlay {\n",
       "  fill: none;\n",
       "  pointer-events: all;\n",
       "  }\n",
       "  \n",
       "  .focus circle {\n",
       "  fill: none;\n",
       "  stroke: steelblue;\n",
       "  }\n",
       "  \n",
       "  .focus text {\n",
       "  font: 10px sans-serif;\n",
       "  }\n",
       "  \n",
       "  .background {\n",
       "  fill: rgb(229, 229, 229);\n",
       "  fill-opacity: 1;\n",
       "  }\n",
       "  \n",
       "</style>\n",
       "<script src=\"http://d3js.org/d3.v3.min.js\" charset=\"utf-8\">\n",
       "</script>\n",
       "<script src=\"assembly_code.js\">\n",
       "</script>  \n"
      ],
      "text/plain": [
       "HTML(\"<style>\\n  body {\\n  font: 16px sans-serif;\\n  }\\n  \\n  .axis path,\\n  .axis line {\\n  fill: none;\\n  stroke: #000;\\n  shape-rendering: crispEdges;\\n  }\\n  \\n  .x.axis path {\\n  display: none;\\n  }\\n  \\n  .y.axis path {\\n  display: none;\\n  }\\n  \\n  text.shadow {\\n  stroke: white;\\n  stroke-width: 5.5px;\\n  opacity: 0.9;\\n  }\\n  \\n  .line {\\n  fill: none;\\n  stroke: steelblue;\\n  stroke-width: 2.5px;\\n  }\\n  \\n  .grid .tick {\\n  stroke: rgb(255, 255, 255);\\n  stroke-opacity: 1;\\n  stroke-width: 2px;\\n  shape-rendering: crispEdges;\\n  }\\n  \\n  .grid path {\\n  stroke-width: 0;\\n  }\\n  \\n  .overlay {\\n  fill: none;\\n  pointer-events: all;\\n  }\\n  \\n  .focus circle {\\n  fill: none;\\n  stroke: steelblue;\\n  }\\n  \\n  .focus text {\\n  font: 10px sans-serif;\\n  }\\n  \\n  .background {\\n  fill: rgb(229, 229, 229);\\n  fill-opacity: 1;\\n  }\\n  \\n</style>\\n<script src=\\\"http://d3js.org/d3.v3.min.js\\\" charset=\\\"utf-8\\\">\\n</script>\\n<script src=\\\"assembly_code.js\\\">\\n</script>  \\n\")"
      ]
     },
     "execution_count": 47,
     "metadata": {},
     "output_type": "execute_result"
    }
   ],
   "source": [
    "jsChart = readall(\"linePlot.html\")\n",
    "HTML(jsChart)"
   ]
  },
  {
   "cell_type": "code",
   "execution_count": 74,
   "metadata": {
    "collapsed": false
   },
   "outputs": [
    {
     "data": {
      "text/plain": [
       "transformParentNot (generic function with 1 method)"
      ]
     },
     "execution_count": 74,
     "metadata": {},
     "output_type": "execute_result"
    }
   ],
   "source": [
    "function transformParentNot(x::Array{Int64, 1})\n",
    "    \n",
    "end"
   ]
  },
  {
   "cell_type": "code",
   "execution_count": 75,
   "metadata": {
    "collapsed": false
   },
   "outputs": [
    {
     "data": {
      "text/plain": [
       "7-element Array{Int64,1}:\n",
       " 2\n",
       " 3\n",
       " 0\n",
       " 3\n",
       " 2\n",
       " 3\n",
       " 6"
      ]
     },
     "execution_count": 75,
     "metadata": {},
     "output_type": "execute_result"
    }
   ],
   "source": [
    "parNot = [2, 3, 0, 3, 2, 3, 6]"
   ]
  },
  {
   "cell_type": "code",
   "execution_count": 81,
   "metadata": {
    "collapsed": false
   },
   "outputs": [
    {
     "data": {
      "text/plain": [
       "11-element Array{UTF8String,1}:\n",
       " \"<script>\"                              \n",
       " \"var data = [\"                          \n",
       " \"{\\\"name\\\": \\\"1\\\", \\\"parent\\\": \\\"2\\\" },\"\n",
       " \"{\\\"name\\\": \\\"2\\\", \\\"parent\\\": \\\"3\\\" },\"\n",
       " \"{\\\"name\\\": \\\"3\\\", \\\"parent\\\": \\\"0\\\" },\"\n",
       " \"{\\\"name\\\": \\\"4\\\", \\\"parent\\\": \\\"3\\\" },\"\n",
       " \"{\\\"name\\\": \\\"5\\\", \\\"parent\\\": \\\"2\\\" },\"\n",
       " \"{\\\"name\\\": \\\"6\\\", \\\"parent\\\": \\\"3\\\" },\"\n",
       " \"{\\\"name\\\": \\\"7\\\", \\\"parent\\\": \\\"6\\\" },\"\n",
       " \"]\"                                     \n",
       " \"</script>\"                             "
      ]
     },
     "execution_count": 81,
     "metadata": {},
     "output_type": "execute_result"
    }
   ],
   "source": [
    "kk = UTF8String[string(\"{\\\"name\\\": \\\"$ii\\\", \\\"parent\\\": \\\"$(parNot[ii])\\\" },\") for ii=1:length(parNot)]\n",
    "kk = [\"<script>\", \"var data = [\", vcat(kk...), \"]\", \"</script>\"]"
   ]
  },
  {
   "cell_type": "code",
   "execution_count": 82,
   "metadata": {
    "collapsed": false
   },
   "outputs": [
    {
     "data": {
      "text/plain": [
       "\"<script>\\nvar data = [\\n{\\\"name\\\": \\\"1\\\", \\\"parent\\\": \\\"2\\\" },\\n{\\\"name\\\": \\\"2\\\", \\\"parent\\\": \\\"3\\\" },\\n{\\\"name\\\": \\\"3\\\", \\\"parent\\\": \\\"0\\\" },\\n{\\\"name\\\": \\\"4\\\", \\\"parent\\\": \\\"3\\\" },\\n{\\\"name\\\": \\\"5\\\", \\\"parent\\\": \\\"2\\\" },\\n{\\\"name\\\": \\\"6\\\", \\\"parent\\\": \\\"3\\\" },\\n{\\\"name\\\": \\\"7\\\", \\\"parent\\\": \\\"6\\\" },\\n]\\n</script>\""
      ]
     },
     "execution_count": 82,
     "metadata": {},
     "output_type": "execute_result"
    }
   ],
   "source": [
    "dataStr = join(kk, \"\\n\")"
   ]
  },
  {
   "cell_type": "code",
   "execution_count": 83,
   "metadata": {
    "collapsed": false
   },
   "outputs": [
    {
     "data": {
      "text/html": [
       "<script>\n",
       "var data = [\n",
       "{\"name\": \"1\", \"parent\": \"2\" },\n",
       "{\"name\": \"2\", \"parent\": \"3\" },\n",
       "{\"name\": \"3\", \"parent\": \"0\" },\n",
       "{\"name\": \"4\", \"parent\": \"3\" },\n",
       "{\"name\": \"5\", \"parent\": \"2\" },\n",
       "{\"name\": \"6\", \"parent\": \"3\" },\n",
       "{\"name\": \"7\", \"parent\": \"6\" },\n",
       "]\n",
       "</script>"
      ],
      "text/plain": [
       "HTML(\"<script>\\nvar data = [\\n{\\\"name\\\": \\\"1\\\", \\\"parent\\\": \\\"2\\\" },\\n{\\\"name\\\": \\\"2\\\", \\\"parent\\\": \\\"3\\\" },\\n{\\\"name\\\": \\\"3\\\", \\\"parent\\\": \\\"0\\\" },\\n{\\\"name\\\": \\\"4\\\", \\\"parent\\\": \\\"3\\\" },\\n{\\\"name\\\": \\\"5\\\", \\\"parent\\\": \\\"2\\\" },\\n{\\\"name\\\": \\\"6\\\", \\\"parent\\\": \\\"3\\\" },\\n{\\\"name\\\": \\\"7\\\", \\\"parent\\\": \\\"6\\\" },\\n]\\n</script>\")"
      ]
     },
     "execution_count": 83,
     "metadata": {},
     "output_type": "execute_result"
    }
   ],
   "source": [
    "HTML(dataStr)"
   ]
  },
  {
   "cell_type": "code",
   "execution_count": 84,
   "metadata": {
    "collapsed": false
   },
   "outputs": [
    {
     "data": {
      "text/html": [
       "<div class=\"canvasContainer2\"> </div>"
      ],
      "text/plain": [
       "HTML(\"<div class=\\\"canvasContainer2\\\"> </div>\")"
      ]
     },
     "execution_count": 84,
     "metadata": {},
     "output_type": "execute_result"
    }
   ],
   "source": [
    "createCanvas = HTML(\"<div class=\\\"canvasContainer2\\\"> </div>\")"
   ]
  },
  {
   "cell_type": "code",
   "execution_count": 85,
   "metadata": {
    "collapsed": false
   },
   "outputs": [
    {
     "data": {
      "text/html": [
       "<style>\n",
       "  body {\n",
       "  font: 16px sans-serif;\n",
       "  }\n",
       "  \n",
       ".node circle {\n",
       "   fill: #fff;\n",
       "   stroke: steelblue;\n",
       "   stroke-width: 3px;\n",
       " }\n",
       "\n",
       "  .node text { font: 16px sans-serif; }\n",
       "\n",
       " .link {\n",
       "   fill: none;\n",
       "   stroke: #ccc;\n",
       "   stroke-width: 2px;\n",
       " }\n",
       "\n",
       "</style>\n",
       "<script src=\"http://d3js.org/d3.v3.min.js\" charset=\"utf-8\">\n",
       "</script>\n",
       "  \n",
       "<script src=\"treeAssembly.js\">\n",
       "</script>  \n"
      ],
      "text/plain": [
       "HTML(\"<style>\\n  body {\\n  font: 16px sans-serif;\\n  }\\n  \\n.node circle {\\n   fill: #fff;\\n   stroke: steelblue;\\n   stroke-width: 3px;\\n }\\n\\n  .node text { font: 16px sans-serif; }\\n\\n .link {\\n   fill: none;\\n   stroke: #ccc;\\n   stroke-width: 2px;\\n }\\n\\n</style>\\n<script src=\\\"http://d3js.org/d3.v3.min.js\\\" charset=\\\"utf-8\\\">\\n</script>\\n  \\n<script src=\\\"treeAssembly.js\\\">\\n</script>  \\n\")"
      ]
     },
     "execution_count": 85,
     "metadata": {},
     "output_type": "execute_result"
    }
   ],
   "source": [
    "jsChart = readall(\"treePlot.html\")\n",
    "HTML(jsChart)"
   ]
  },
  {
   "cell_type": "code",
   "execution_count": null,
   "metadata": {
    "collapsed": true
   },
   "outputs": [],
   "source": []
  }
 ],
 "metadata": {
  "kernelspec": {
   "display_name": "Julia",
   "name": "julia"
  },
  "language_info": {
   "name": "julia",
   "version": "0.3.5"
  }
 },
 "nbformat": 4,
 "nbformat_minor": 0
}
