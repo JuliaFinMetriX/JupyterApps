{
 "cells": [
  {
   "cell_type": "code",
   "execution_count": 1,
   "metadata": {
    "collapsed": false
   },
   "outputs": [
    {
     "data": {
      "text/plain": [
       "\"<script src=\\\"http://d3js.org/d3.v3.min.js\\\" charset=\\\"utf-8\\\"></script>\\n<script src=\\\"reusableTreeChart.js\\\"></script>\\n\""
      ]
     },
     "execution_count": 1,
     "metadata": {},
     "output_type": "execute_result"
    }
   ],
   "source": [
    "lib_templ = \"\"\"\n",
    "<script src=\"http://d3js.org/d3.v3.min.js\" charset=\"utf-8\"></script>\n",
    "<script src=\"reusableTreeChart.js\"></script>\n",
    "\"\"\""
   ]
  },
  {
   "cell_type": "code",
   "execution_count": 2,
   "metadata": {
    "collapsed": false
   },
   "outputs": [
    {
     "data": {
      "text/plain": [
       "writemime (generic function with 15 methods)"
      ]
     },
     "execution_count": 2,
     "metadata": {},
     "output_type": "execute_result"
    }
   ],
   "source": [
    "type HTML\n",
    "    s::String\n",
    "end\n",
    "import Base.writemime\n",
    "function writemime(io::IO, ::MIME\"text/html\", x::HTML)\n",
    "    print(io, x.s)\n",
    "end"
   ]
  },
  {
   "cell_type": "code",
   "execution_count": 3,
   "metadata": {
    "collapsed": false
   },
   "outputs": [
    {
     "data": {
      "text/plain": [
       "initCanvas (generic function with 1 method)"
      ]
     },
     "execution_count": 3,
     "metadata": {},
     "output_type": "execute_result"
    }
   ],
   "source": [
    "function initCanvas(canvasName::String)\n",
    "jsCode = \"\"\"\n",
    "    <script src=\"http://d3js.org/d3.v3.min.js\" charset=\"utf-8\"></script>\n",
    "    <script src=\"reusableTreeChart.js\"></script>\n",
    "    <div class=\"$canvasName\"></div>\n",
    "    \n",
    "  <script>\n",
    "    var data1 = [\n",
    "    { \"name\": \"3\", \"parent\": \"null\" },\n",
    "    { \"name\": \"2\", \"parent\": \"3\" },\n",
    "    { \"name\": \"1\", \"parent\": \"2\" },\n",
    "    { \"name\": \"5\", \"parent\": \"2\" },\n",
    "    { \"name\": \"6\", \"parent\": \"3\" },\n",
    "    { \"name\": \"4\", \"parent\": \"3\" },\n",
    "    { \"name\": \"7\", \"parent\": \"6\" },\n",
    "    { \"name\": \"8\", \"parent\": \"7\" },\n",
    "    { \"name\": \"9\", \"parent\": \"8\" },\n",
    "    { \"name\": \"10\", \"parent\": \"4\" },\n",
    "    { \"name\": \"11\", \"parent\": \"5\" },\n",
    "    ]\n",
    "    \n",
    "    var data2 = [\n",
    "    { \"name\": \"3\", \"parent\": \"null\" },\n",
    "    { \"name\": \"2\", \"parent\": \"3\" },\n",
    "    { \"name\": \"1\", \"parent\": \"2\" },\n",
    "    { \"name\": \"5\", \"parent\": \"2\" },\n",
    "    { \"name\": \"6\", \"parent\": \"3\" },\n",
    "    { \"name\": \"4\", \"parent\": \"3\" },\n",
    "    { \"name\": \"7\", \"parent\": \"6\" },\n",
    "    { \"name\": \"8\", \"parent\": \"7\" },\n",
    "    { \"name\": \"9\", \"parent\": \"1\" },\n",
    "    { \"name\": \"10\", \"parent\": \"1\" },\n",
    "    { \"name\": \"11\", \"parent\": \"1\" },\n",
    "    ]\n",
    "    \n",
    "    var data3 = [\n",
    "    { \"name\": \"3\", \"parent\": \"1\" },\n",
    "    { \"name\": \"2\", \"parent\": \"3\" },\n",
    "    { \"name\": \"1\", \"parent\": \"0\" },\n",
    "    { \"name\": \"5\", \"parent\": \"2\" },\n",
    "    { \"name\": \"6\", \"parent\": \"3\" },\n",
    "    { \"name\": \"4\", \"parent\": \"3\" },\n",
    "    { \"name\": \"7\", \"parent\": \"6\" },\n",
    "    { \"name\": \"8\", \"parent\": \"1\" },\n",
    "    { \"name\": \"9\", \"parent\": \"6\" },\n",
    "    { \"name\": \"10\", \"parent\": \"5\" },\n",
    "    { \"name\": \"11\", \"parent\": \"5\" },\n",
    "    ]\n",
    "    \n",
    "var treeArray = [data1, data2, data3];\n",
    "</script>\n",
    "\"\"\"\n",
    "\n",
    "    return HTML(jsCode)\n",
    "end"
   ]
  },
  {
   "cell_type": "code",
   "execution_count": 4,
   "metadata": {
    "collapsed": false
   },
   "outputs": [
    {
     "data": {
      "text/html": [
       "    <script src=\"http://d3js.org/d3.v3.min.js\" charset=\"utf-8\"></script>\n",
       "    <script src=\"reusableTreeChart.js\"></script>\n",
       "    <div class=\"treeChartContainer\"></div>\n",
       "    \n",
       "  <script>\n",
       "    var data1 = [\n",
       "    { \"name\": \"3\", \"parent\": \"null\" },\n",
       "    { \"name\": \"2\", \"parent\": \"3\" },\n",
       "    { \"name\": \"1\", \"parent\": \"2\" },\n",
       "    { \"name\": \"5\", \"parent\": \"2\" },\n",
       "    { \"name\": \"6\", \"parent\": \"3\" },\n",
       "    { \"name\": \"4\", \"parent\": \"3\" },\n",
       "    { \"name\": \"7\", \"parent\": \"6\" },\n",
       "    { \"name\": \"8\", \"parent\": \"7\" },\n",
       "    { \"name\": \"9\", \"parent\": \"8\" },\n",
       "    { \"name\": \"10\", \"parent\": \"4\" },\n",
       "    { \"name\": \"11\", \"parent\": \"5\" },\n",
       "    ]\n",
       "    \n",
       "    var data2 = [\n",
       "    { \"name\": \"3\", \"parent\": \"null\" },\n",
       "    { \"name\": \"2\", \"parent\": \"3\" },\n",
       "    { \"name\": \"1\", \"parent\": \"2\" },\n",
       "    { \"name\": \"5\", \"parent\": \"2\" },\n",
       "    { \"name\": \"6\", \"parent\": \"3\" },\n",
       "    { \"name\": \"4\", \"parent\": \"3\" },\n",
       "    { \"name\": \"7\", \"parent\": \"6\" },\n",
       "    { \"name\": \"8\", \"parent\": \"7\" },\n",
       "    { \"name\": \"9\", \"parent\": \"1\" },\n",
       "    { \"name\": \"10\", \"parent\": \"1\" },\n",
       "    { \"name\": \"11\", \"parent\": \"1\" },\n",
       "    ]\n",
       "    \n",
       "    var data3 = [\n",
       "    { \"name\": \"3\", \"parent\": \"1\" },\n",
       "    { \"name\": \"2\", \"parent\": \"3\" },\n",
       "    { \"name\": \"1\", \"parent\": \"0\" },\n",
       "    { \"name\": \"5\", \"parent\": \"2\" },\n",
       "    { \"name\": \"6\", \"parent\": \"3\" },\n",
       "    { \"name\": \"4\", \"parent\": \"3\" },\n",
       "    { \"name\": \"7\", \"parent\": \"6\" },\n",
       "    { \"name\": \"8\", \"parent\": \"1\" },\n",
       "    { \"name\": \"9\", \"parent\": \"6\" },\n",
       "    { \"name\": \"10\", \"parent\": \"5\" },\n",
       "    { \"name\": \"11\", \"parent\": \"5\" },\n",
       "    ]\n",
       "    \n",
       "var treeArray = [data1, data2, data3];\n",
       "</script>\n"
      ],
      "text/plain": [
       "HTML(\"    <script src=\\\"http://d3js.org/d3.v3.min.js\\\" charset=\\\"utf-8\\\"></script>\\n    <script src=\\\"reusableTreeChart.js\\\"></script>\\n    <div class=\\\"treeChartContainer\\\"></div>\\n    \\n  <script>\\n    var data1 = [\\n    { \\\"name\\\": \\\"3\\\", \\\"parent\\\": \\\"null\\\" },\\n    { \\\"name\\\": \\\"2\\\", \\\"parent\\\": \\\"3\\\" },\\n    { \\\"name\\\": \\\"1\\\", \\\"parent\\\": \\\"2\\\" },\\n    { \\\"name\\\": \\\"5\\\", \\\"parent\\\": \\\"2\\\" },\\n    { \\\"name\\\": \\\"6\\\", \\\"parent\\\": \\\"3\\\" },\\n    { \\\"name\\\": \\\"4\\\", \\\"parent\\\": \\\"3\\\" },\\n    { \\\"name\\\": \\\"7\\\", \\\"parent\\\": \\\"6\\\" },\\n    { \\\"name\\\": \\\"8\\\", \\\"parent\\\": \\\"7\\\" },\\n    { \\\"name\\\": \\\"9\\\", \\\"parent\\\": \\\"8\\\" },\\n    { \\\"name\\\": \\\"10\\\", \\\"parent\\\": \\\"4\\\" },\\n    { \\\"name\\\": \\\"11\\\", \\\"parent\\\": \\\"5\\\" },\\n    ]\\n    \\n    var data2 = [\\n    { \\\"name\\\": \\\"3\\\", \\\"parent\\\": \\\"null\\\" },\\n    { \\\"name\\\": \\\"2\\\", \\\"parent\\\": \\\"3\\\" },\\n    { \\\"name\\\": \\\"1\\\", \\\"parent\\\": \\\"2\\\" },\\n    { \\\"name\\\": \\\"5\\\", \\\"parent\\\": \\\"2\\\" },\\n    { \\\"name\\\": \\\"6\\\", \\\"parent\\\": \\\"3\\\" },\\n    { \\\"name\\\": \\\"4\\\", \\\"parent\\\": \\\"3\\\" },\\n    { \\\"name\\\": \\\"7\\\", \\\"parent\\\": \\\"6\\\" },\\n    { \\\"name\\\": \\\"8\\\", \\\"parent\\\": \\\"7\\\" },\\n    { \\\"name\\\": \\\"9\\\", \\\"parent\\\": \\\"1\\\" },\\n    { \\\"name\\\": \\\"10\\\", \\\"parent\\\": \\\"1\\\" },\\n    { \\\"name\\\": \\\"11\\\", \\\"parent\\\": \\\"1\\\" },\\n    ]\\n    \\n    var data3 = [\\n    { \\\"name\\\": \\\"3\\\", \\\"parent\\\": \\\"1\\\" },\\n    { \\\"name\\\": \\\"2\\\", \\\"parent\\\": \\\"3\\\" },\\n    { \\\"name\\\": \\\"1\\\", \\\"parent\\\": \\\"0\\\" },\\n    { \\\"name\\\": \\\"5\\\", \\\"parent\\\": \\\"2\\\" },\\n    { \\\"name\\\": \\\"6\\\", \\\"parent\\\": \\\"3\\\" },\\n    { \\\"name\\\": \\\"4\\\", \\\"parent\\\": \\\"3\\\" },\\n    { \\\"name\\\": \\\"7\\\", \\\"parent\\\": \\\"6\\\" },\\n    { \\\"name\\\": \\\"8\\\", \\\"parent\\\": \\\"1\\\" },\\n    { \\\"name\\\": \\\"9\\\", \\\"parent\\\": \\\"6\\\" },\\n    { \\\"name\\\": \\\"10\\\", \\\"parent\\\": \\\"5\\\" },\\n    { \\\"name\\\": \\\"11\\\", \\\"parent\\\": \\\"5\\\" },\\n    ]\\n    \\nvar treeArray = [data1, data2, data3];\\n</script>\\n\")"
      ]
     },
     "execution_count": 4,
     "metadata": {},
     "output_type": "execute_result"
    }
   ],
   "source": [
    "initCanvas(\"treeChartContainer\")"
   ]
  },
  {
   "cell_type": "code",
   "execution_count": 5,
   "metadata": {
    "collapsed": false
   },
   "outputs": [
    {
     "data": {
      "text/plain": [
       "plotTree (generic function with 1 method)"
      ]
     },
     "execution_count": 5,
     "metadata": {},
     "output_type": "execute_result"
    }
   ],
   "source": [
    "function plotTree(canvasName::String)\n",
    "dataName = \"treeArray\"\n",
    "\n",
    "chart_templ = \"\"\"\n",
    "<script>\n",
    "var actualChart = treeChart();\n",
    "\n",
    "d3.select(\"$canvasName\")\n",
    "    .selectAll(\".singleTree\")\n",
    "    .data($dataName)\n",
    "    .enter()\n",
    "    .append(\"chart\")\n",
    "    .attr(\"class\", \"singleTree\")\n",
    "    .call(actualChart)\n",
    "\n",
    "</script>\n",
    "\"\"\"\n",
    "    return HTML(chart_templ)\n",
    "end"
   ]
  },
  {
   "cell_type": "code",
   "execution_count": 6,
   "metadata": {
    "collapsed": false
   },
   "outputs": [
    {
     "data": {
      "text/html": [
       "<script>\n",
       "var actualChart = treeChart();\n",
       "\n",
       "d3.select(\".treeChartContainer\")\n",
       "    .selectAll(\".singleTree\")\n",
       "    .data(treeArray)\n",
       "    .enter()\n",
       "    .append(\"chart\")\n",
       "    .attr(\"class\", \"singleTree\")\n",
       "    .call(actualChart)\n",
       "\n",
       "</script>\n"
      ],
      "text/plain": [
       "HTML(\"<script>\\nvar actualChart = treeChart();\\n\\nd3.select(\\\".treeChartContainer\\\")\\n    .selectAll(\\\".singleTree\\\")\\n    .data(treeArray)\\n    .enter()\\n    .append(\\\"chart\\\")\\n    .attr(\\\"class\\\", \\\"singleTree\\\")\\n    .call(actualChart)\\n\\n</script>\\n\")"
      ]
     },
     "execution_count": 6,
     "metadata": {},
     "output_type": "execute_result"
    }
   ],
   "source": [
    "plotTree(\".treeChartContainer\")"
   ]
  },
  {
   "cell_type": "code",
   "execution_count": 30,
   "metadata": {
    "collapsed": false
   },
   "outputs": [
    {
     "data": {
      "text/plain": [
       "12-element Array{Union(ASCIIString,UTF8String),1}:\n",
       " \"assembly_code2.js\"            \n",
       " \"assembly_code.js\"             \n",
       " \"d3js_export_demo.svg\"         \n",
       " \"gdp_us.csv\"                   \n",
       " \"index.html\"                   \n",
       " \".ipynb_checkpoints\"           \n",
       " \"javascript_d3_embedding.ipynb\"\n",
       " \"linePlot.html\"                \n",
       " \"reusableTreeChart.js\"         \n",
       " \"treeAssembly.js\"              \n",
       " \"treePlot.html\"                \n",
       " \"tree_visualization.ipynb\"     "
      ]
     },
     "execution_count": 30,
     "metadata": {},
     "output_type": "execute_result"
    }
   ],
   "source": [
    "readdir()"
   ]
  }
 ],
 "metadata": {
  "kernelspec": {
   "display_name": "Julia",
   "name": "julia"
  },
  "language": "Julia",
  "language_info": {
   "name": "julia",
   "version": "0.3.5"
  }
 },
 "nbformat": 4,
 "nbformat_minor": 0
}
