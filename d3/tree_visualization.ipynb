{
 "metadata": {
  "language": "Julia",
  "name": "",
  "signature": "sha256:1312cc1f481f0091e167eede3be7436574e4015681cfe87ea6f08092e2462218"
 },
 "nbformat": 3,
 "nbformat_minor": 0,
 "worksheets": [
  {
   "cells": [
    {
     "cell_type": "code",
     "collapsed": false,
     "input": [
      "lib_templ = \"\"\"\n",
      "<script src=\"http://d3js.org/d3.v3.min.js\" charset=\"utf-8\"></script>\n",
      "<script src=\"reusableTreeChart.js\"></script>\n",
      "\"\"\""
     ],
     "language": "python",
     "metadata": {},
     "outputs": [
      {
       "metadata": {},
       "output_type": "pyout",
       "prompt_number": 1,
       "text": [
        "\"<script src=\\\"http://d3js.org/d3.v3.min.js\\\" charset=\\\"utf-8\\\"></script>\\n<script src=\\\"assembly_code.js\\\"></script>\\n\""
       ]
      }
     ],
     "prompt_number": 1
    },
    {
     "cell_type": "code",
     "collapsed": false,
     "input": [
      "type HTML\n",
      "    s::String\n",
      "end\n",
      "import Base.writemime\n",
      "function writemime(io::IO, ::MIME\"text/html\", x::HTML)\n",
      "    print(io, x.s)\n",
      "end"
     ],
     "language": "python",
     "metadata": {},
     "outputs": [
      {
       "metadata": {},
       "output_type": "pyout",
       "prompt_number": 22,
       "text": [
        "writemime (generic function with 15 methods)"
       ]
      }
     ],
     "prompt_number": 22
    },
    {
     "cell_type": "code",
     "collapsed": false,
     "input": [
      "function initCanvas(canvasName::String)\n",
      "jsCode = \"\"\"\n",
      "    <script src=\"http://d3js.org/d3.v3.min.js\" charset=\"utf-8\"></script>\n",
      "    <script src=\"reusableTreeChart.js\"></script>\n",
      "    <div class=\"$canvasName\"></div>\n",
      "    \n",
      "  <script>\n",
      "    var data1 = [\n",
      "    { \"name\": \"3\", \"parent\": \"null\" },\n",
      "    { \"name\": \"2\", \"parent\": \"3\" },\n",
      "    { \"name\": \"1\", \"parent\": \"2\" },\n",
      "    { \"name\": \"5\", \"parent\": \"2\" },\n",
      "    { \"name\": \"6\", \"parent\": \"3\" },\n",
      "    { \"name\": \"4\", \"parent\": \"3\" },\n",
      "    { \"name\": \"7\", \"parent\": \"6\" },\n",
      "    { \"name\": \"8\", \"parent\": \"7\" },\n",
      "    { \"name\": \"9\", \"parent\": \"8\" },\n",
      "    { \"name\": \"10\", \"parent\": \"4\" },\n",
      "    { \"name\": \"11\", \"parent\": \"5\" },\n",
      "    ]\n",
      "    \n",
      "    var data2 = [\n",
      "    { \"name\": \"3\", \"parent\": \"null\" },\n",
      "    { \"name\": \"2\", \"parent\": \"3\" },\n",
      "    { \"name\": \"1\", \"parent\": \"2\" },\n",
      "    { \"name\": \"5\", \"parent\": \"2\" },\n",
      "    { \"name\": \"6\", \"parent\": \"3\" },\n",
      "    { \"name\": \"4\", \"parent\": \"3\" },\n",
      "    { \"name\": \"7\", \"parent\": \"6\" },\n",
      "    { \"name\": \"8\", \"parent\": \"7\" },\n",
      "    { \"name\": \"9\", \"parent\": \"1\" },\n",
      "    { \"name\": \"10\", \"parent\": \"1\" },\n",
      "    { \"name\": \"11\", \"parent\": \"1\" },\n",
      "    ]\n",
      "    \n",
      "    var data3 = [\n",
      "    { \"name\": \"3\", \"parent\": \"1\" },\n",
      "    { \"name\": \"2\", \"parent\": \"3\" },\n",
      "    { \"name\": \"1\", \"parent\": \"0\" },\n",
      "    { \"name\": \"5\", \"parent\": \"2\" },\n",
      "    { \"name\": \"6\", \"parent\": \"3\" },\n",
      "    { \"name\": \"4\", \"parent\": \"3\" },\n",
      "    { \"name\": \"7\", \"parent\": \"6\" },\n",
      "    { \"name\": \"8\", \"parent\": \"1\" },\n",
      "    { \"name\": \"9\", \"parent\": \"6\" },\n",
      "    { \"name\": \"10\", \"parent\": \"5\" },\n",
      "    { \"name\": \"11\", \"parent\": \"5\" },\n",
      "    ]\n",
      "    \n",
      "var treeArray = [data1, data2, data3];\n",
      "</script>\n",
      "\"\"\"\n",
      "\n",
      "    return HTML(jsCode)\n",
      "end"
     ],
     "language": "python",
     "metadata": {},
     "outputs": [
      {
       "metadata": {},
       "output_type": "pyout",
       "prompt_number": 23,
       "text": [
        "initCanvas (generic function with 1 method)"
       ]
      }
     ],
     "prompt_number": 23
    },
    {
     "cell_type": "code",
     "collapsed": false,
     "input": [
      "initCanvas(\".treeChartContainer\")"
     ],
     "language": "python",
     "metadata": {},
     "outputs": [
      {
       "html": [
        "    <script src=\"http://d3js.org/d3.v3.min.js\" charset=\"utf-8\"></script>\n",
        "    <script src=\"reusableTreeChart.js\"></script>\n",
        "    <div class=\".treeChartContainer\"></div>\n",
        "    \n",
        "  <script>\n",
        "    var data1 = [\n",
        "    { \"name\": \"3\", \"parent\": \"null\" },\n",
        "    { \"name\": \"2\", \"parent\": \"3\" },\n",
        "    { \"name\": \"1\", \"parent\": \"2\" },\n",
        "    { \"name\": \"5\", \"parent\": \"2\" },\n",
        "    { \"name\": \"6\", \"parent\": \"3\" },\n",
        "    { \"name\": \"4\", \"parent\": \"3\" },\n",
        "    { \"name\": \"7\", \"parent\": \"6\" },\n",
        "    { \"name\": \"8\", \"parent\": \"7\" },\n",
        "    { \"name\": \"9\", \"parent\": \"8\" },\n",
        "    { \"name\": \"10\", \"parent\": \"4\" },\n",
        "    { \"name\": \"11\", \"parent\": \"5\" },\n",
        "    ]\n",
        "    \n",
        "    var data2 = [\n",
        "    { \"name\": \"3\", \"parent\": \"null\" },\n",
        "    { \"name\": \"2\", \"parent\": \"3\" },\n",
        "    { \"name\": \"1\", \"parent\": \"2\" },\n",
        "    { \"name\": \"5\", \"parent\": \"2\" },\n",
        "    { \"name\": \"6\", \"parent\": \"3\" },\n",
        "    { \"name\": \"4\", \"parent\": \"3\" },\n",
        "    { \"name\": \"7\", \"parent\": \"6\" },\n",
        "    { \"name\": \"8\", \"parent\": \"7\" },\n",
        "    { \"name\": \"9\", \"parent\": \"1\" },\n",
        "    { \"name\": \"10\", \"parent\": \"1\" },\n",
        "    { \"name\": \"11\", \"parent\": \"1\" },\n",
        "    ]\n",
        "    \n",
        "    var data3 = [\n",
        "    { \"name\": \"3\", \"parent\": \"1\" },\n",
        "    { \"name\": \"2\", \"parent\": \"3\" },\n",
        "    { \"name\": \"1\", \"parent\": \"0\" },\n",
        "    { \"name\": \"5\", \"parent\": \"2\" },\n",
        "    { \"name\": \"6\", \"parent\": \"3\" },\n",
        "    { \"name\": \"4\", \"parent\": \"3\" },\n",
        "    { \"name\": \"7\", \"parent\": \"6\" },\n",
        "    { \"name\": \"8\", \"parent\": \"1\" },\n",
        "    { \"name\": \"9\", \"parent\": \"6\" },\n",
        "    { \"name\": \"10\", \"parent\": \"5\" },\n",
        "    { \"name\": \"11\", \"parent\": \"5\" },\n",
        "    ]\n",
        "    \n",
        "var treeArray = [data1, data2, data3];\n",
        "</script>\n"
       ],
       "metadata": {},
       "output_type": "pyout",
       "prompt_number": 24,
       "text": [
        "HTML(\"    <script src=\\\"http://d3js.org/d3.v3.min.js\\\" charset=\\\"utf-8\\\"></script>\\n    <script src=\\\"reusableTreeChart.js\\\"></script>\\n    <div class=\\\".treeChartContainer\\\"></div>\\n    \\n  <script>\\n    var data1 = [\\n    { \\\"name\\\": \\\"3\\\", \\\"parent\\\": \\\"null\\\" },\\n    { \\\"name\\\": \\\"2\\\", \\\"parent\\\": \\\"3\\\" },\\n    { \\\"name\\\": \\\"1\\\", \\\"parent\\\": \\\"2\\\" },\\n    { \\\"name\\\": \\\"5\\\", \\\"parent\\\": \\\"2\\\" },\\n    { \\\"name\\\": \\\"6\\\", \\\"parent\\\": \\\"3\\\" },\\n    { \\\"name\\\": \\\"4\\\", \\\"parent\\\": \\\"3\\\" },\\n    { \\\"name\\\": \\\"7\\\", \\\"parent\\\": \\\"6\\\" },\\n    { \\\"name\\\": \\\"8\\\", \\\"parent\\\": \\\"7\\\" },\\n    { \\\"name\\\": \\\"9\\\", \\\"parent\\\": \\\"8\\\" },\\n    { \\\"name\\\": \\\"10\\\", \\\"parent\\\": \\\"4\\\" },\\n    { \\\"name\\\": \\\"11\\\", \\\"parent\\\": \\\"5\\\" },\\n    ]\\n    \\n    var data2 = [\\n    { \\\"name\\\": \\\"3\\\", \\\"parent\\\": \\\"null\\\" },\\n    { \\\"name\\\": \\\"2\\\", \\\"parent\\\": \\\"3\\\" },\\n    { \\\"name\\\": \\\"1\\\", \\\"parent\\\": \\\"2\\\" },\\n    { \\\"name\\\": \\\"5\\\", \\\"parent\\\": \\\"2\\\" },\\n    { \\\"name\\\": \\\"6\\\", \\\"parent\\\": \\\"3\\\" },\\n    { \\\"name\\\": \\\"4\\\", \\\"parent\\\": \\\"3\\\" },\\n    { \\\"name\\\": \\\"7\\\", \\\"parent\\\": \\\"6\\\" },\\n    { \\\"name\\\": \\\"8\\\", \\\"parent\\\": \\\"7\\\" },\\n    { \\\"name\\\": \\\"9\\\", \\\"parent\\\": \\\"1\\\" },\\n    { \\\"name\\\": \\\"10\\\", \\\"parent\\\": \\\"1\\\" },\\n    { \\\"name\\\": \\\"11\\\", \\\"parent\\\": \\\"1\\\" },\\n    ]\\n    \\n    var data3 = [\\n    { \\\"name\\\": \\\"3\\\", \\\"parent\\\": \\\"1\\\" },\\n    { \\\"name\\\": \\\"2\\\", \\\"parent\\\": \\\"3\\\" },\\n    { \\\"name\\\": \\\"1\\\", \\\"parent\\\": \\\"0\\\" },\\n    { \\\"name\\\": \\\"5\\\", \\\"parent\\\": \\\"2\\\" },\\n    { \\\"name\\\": \\\"6\\\", \\\"parent\\\": \\\"3\\\" },\\n    { \\\"name\\\": \\\"4\\\", \\\"parent\\\": \\\"3\\\" },\\n    { \\\"name\\\": \\\"7\\\", \\\"parent\\\": \\\"6\\\" },\\n    { \\\"name\\\": \\\"8\\\", \\\"parent\\\": \\\"1\\\" },\\n    { \\\"name\\\": \\\"9\\\", \\\"parent\\\": \\\"6\\\" },\\n    { \\\"name\\\": \\\"10\\\", \\\"parent\\\": \\\"5\\\" },\\n    { \\\"name\\\": \\\"11\\\", \\\"parent\\\": \\\"5\\\" },\\n    ]\\n    \\nvar treeArray = [data1, data2, data3];\\n</script>\\n\")"
       ]
      }
     ],
     "prompt_number": 24
    },
    {
     "cell_type": "code",
     "collapsed": false,
     "input": [
      "function plotTree(canvasName::String)\n",
      "dataName = \"treeArray\"\n",
      "\n",
      "chart_templ = \"\"\"\n",
      "<script>\n",
      "var actualChart = treeChart();\n",
      "\n",
      "d3.select(\"$canvasName\")\n",
      "    .selectAll(\".singleTree\")\n",
      "    .data($dataName)\n",
      "    .enter()\n",
      "    .append(\"chart\")\n",
      "    .attr(\"class\", \"singleTree\")\n",
      "    .call(actualChart)\n",
      "\n",
      "</script>\n",
      "\"\"\"\n",
      "    return HTML(chart_templ)\n",
      "end"
     ],
     "language": "python",
     "metadata": {},
     "outputs": [
      {
       "metadata": {},
       "output_type": "pyout",
       "prompt_number": 25,
       "text": [
        "plotTree (generic function with 1 method)"
       ]
      }
     ],
     "prompt_number": 25
    },
    {
     "cell_type": "code",
     "collapsed": false,
     "input": [
      "plotTree(\".treeChartContainer\")"
     ],
     "language": "python",
     "metadata": {},
     "outputs": [
      {
       "html": [
        "<script>\n",
        "var actualChart = treeChart();\n",
        "\n",
        "d3.select(\".treeChartContainer\")\n",
        "    .selectAll(\".singleTree\")\n",
        "    .data(treeArray)\n",
        "    .enter()\n",
        "    .append(\"chart\")\n",
        "    .attr(\"class\", \"singleTree\")\n",
        "    .call(actualChart)\n",
        "\n",
        "</script>\n"
       ],
       "metadata": {},
       "output_type": "pyout",
       "prompt_number": 33,
       "text": [
        "HTML(\"<script>\\nvar actualChart = treeChart();\\n\\nd3.select(\\\".treeChartContainer\\\")\\n    .selectAll(\\\".singleTree\\\")\\n    .data(treeArray)\\n    .enter()\\n    .append(\\\"chart\\\")\\n    .attr(\\\"class\\\", \\\"singleTree\\\")\\n    .call(actualChart)\\n\\n</script>\\n\")"
       ]
      }
     ],
     "prompt_number": 33
    },
    {
     "cell_type": "code",
     "collapsed": false,
     "input": [
      "readdir()"
     ],
     "language": "python",
     "metadata": {},
     "outputs": [
      {
       "metadata": {},
       "output_type": "pyout",
       "prompt_number": 30,
       "text": [
        "12-element Array{Union(ASCIIString,UTF8String),1}:\n",
        " \"assembly_code2.js\"            \n",
        " \"assembly_code.js\"             \n",
        " \"d3js_export_demo.svg\"         \n",
        " \"gdp_us.csv\"                   \n",
        " \"index.html\"                   \n",
        " \".ipynb_checkpoints\"           \n",
        " \"javascript_d3_embedding.ipynb\"\n",
        " \"linePlot.html\"                \n",
        " \"reusableTreeChart.js\"         \n",
        " \"treeAssembly.js\"              \n",
        " \"treePlot.html\"                \n",
        " \"tree_visualization.ipynb\"     "
       ]
      }
     ],
     "prompt_number": 30
    }
   ],
   "metadata": {}
  }
 ]
}