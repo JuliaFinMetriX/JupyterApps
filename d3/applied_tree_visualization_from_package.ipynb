{
 "cells": [
  {
   "cell_type": "code",
   "execution_count": 1,
   "metadata": {
    "collapsed": false
   },
   "outputs": [
    {
     "name": "stderr",
     "output_type": "stream",
     "text": [
      "WARNING: Overwriting metadata for `Copulas.Tree`.\n"
     ]
    }
   ],
   "source": [
    "using Copulas"
   ]
  },
  {
   "cell_type": "code",
   "execution_count": 2,
   "metadata": {
    "collapsed": false
   },
   "outputs": [
    {
     "data": {
      "text/plain": [
       "Vine{Int64}(6x6 Array{Int64,2}:\n",
       " 0  2  2  2  2  2\n",
       " 1  0  3  3  3  3\n",
       " 2  2  0  4  4  4\n",
       " 3  3  3  0  5  5\n",
       " 4  4  4  4  0  6\n",
       " 5  5  5  5  5  0,[1,2,3,4,5,6])"
      ]
     },
     "execution_count": 2,
     "metadata": {},
     "output_type": "execute_result"
    }
   ],
   "source": [
    "vn = Copulas.testvine(1)"
   ]
  },
  {
   "cell_type": "code",
   "execution_count": 3,
   "metadata": {
    "collapsed": false
   },
   "outputs": [
    {
     "data": {
      "text/html": [
       "<script src=\"http://d3js.org/d3.v3.min.js\" charset=\"utf-8\"></script>\n",
       "<div class=\"treeCanvas\"></div>\n"
      ],
      "text/plain": [
       "Raw_html(\"<script src=\\\"http://d3js.org/d3.v3.min.js\\\" charset=\\\"utf-8\\\"></script>\\n<div class=\\\"treeCanvas\\\"></div>\\n\")"
      ]
     },
     "execution_count": 3,
     "metadata": {},
     "output_type": "execute_result"
    }
   ],
   "source": [
    "Copulas.initCanvas(\"treeCanvas\")"
   ]
  },
  {
   "cell_type": "code",
   "execution_count": 5,
   "metadata": {
    "collapsed": false
   },
   "outputs": [
    {
     "data": {
      "text/html": [
       "<script>\n",
       "var treeData = [[{\"name\": \"1\", \"parent\": \"0\"},{\"name\": \"2\", \"parent\": \"1\"},{\"name\": \"3\", \"parent\": \"2\"},{\"name\": \"4\", \"parent\": \"3\"},{\"name\": \"5\", \"parent\": \"4\"},{\"name\": \"6\", \"parent\": \"5\"},],[{\"name\": \"1\", \"parent\": \"2\"},{\"name\": \"2\", \"parent\": \"0\"},{\"name\": \"3\", \"parent\": \"2\"},{\"name\": \"4\", \"parent\": \"3\"},{\"name\": \"5\", \"parent\": \"4\"},{\"name\": \"6\", \"parent\": \"5\"},],[{\"name\": \"1\", \"parent\": \"2\"},{\"name\": \"2\", \"parent\": \"3\"},{\"name\": \"3\", \"parent\": \"0\"},{\"name\": \"4\", \"parent\": \"3\"},{\"name\": \"5\", \"parent\": \"4\"},{\"name\": \"6\", \"parent\": \"5\"},],[{\"name\": \"1\", \"parent\": \"2\"},{\"name\": \"2\", \"parent\": \"3\"},{\"name\": \"3\", \"parent\": \"4\"},{\"name\": \"4\", \"parent\": \"0\"},{\"name\": \"5\", \"parent\": \"4\"},{\"name\": \"6\", \"parent\": \"5\"},],[{\"name\": \"1\", \"parent\": \"2\"},{\"name\": \"2\", \"parent\": \"3\"},{\"name\": \"3\", \"parent\": \"4\"},{\"name\": \"4\", \"parent\": \"5\"},{\"name\": \"5\", \"parent\": \"0\"},{\"name\": \"6\", \"parent\": \"5\"},],[{\"name\": \"1\", \"parent\": \"2\"},{\"name\": \"2\", \"parent\": \"3\"},{\"name\": \"3\", \"parent\": \"4\"},{\"name\": \"4\", \"parent\": \"5\"},{\"name\": \"5\", \"parent\": \"6\"},{\"name\": \"6\", \"parent\": \"0\"},],]\n",
       "</script>\n",
       "\n",
       "<script> src=\"https://rawgithub.com/JuliaFinMetriX/Copulas.jl/master/src/charts.js\"</script>\n",
       "<script>\n",
       "var actualChart = treeChart()\n",
       ".width(90)\n",
       ".height(300)\n",
       ".vSpace(50)\n",
       ".nodeRadius(12);\n",
       "</script>\n",
       "\n",
       "<script>\n",
       "d3.select(\".treeCanvas\")\n",
       ".selectAll(\".singleTree\")\n",
       ".data(treeData)\n",
       ".enter()\n",
       ".append(\"chart\")\n",
       ".attr(\"class\", \"singleTree\")\n",
       ".call(actualChart)\n",
       "</script>\n",
       "\n"
      ],
      "text/plain": [
       "Raw_html(\"<script>\\nvar treeData = [[{\\\"name\\\": \\\"1\\\", \\\"parent\\\": \\\"0\\\"},{\\\"name\\\": \\\"2\\\", \\\"parent\\\": \\\"1\\\"},{\\\"name\\\": \\\"3\\\", \\\"parent\\\": \\\"2\\\"},{\\\"name\\\": \\\"4\\\", \\\"parent\\\": \\\"3\\\"},{\\\"name\\\": \\\"5\\\", \\\"parent\\\": \\\"4\\\"},{\\\"name\\\": \\\"6\\\", \\\"parent\\\": \\\"5\\\"},],[{\\\"name\\\": \\\"1\\\", \\\"parent\\\": \\\"2\\\"},{\\\"name\\\": \\\"2\\\", \\\"parent\\\": \\\"0\\\"},{\\\"name\\\": \\\"3\\\", \\\"parent\\\": \\\"2\\\"},{\\\"name\\\": \\\"4\\\", \\\"parent\\\": \\\"3\\\"},{\\\"name\\\": \\\"5\\\", \\\"parent\\\": \\\"4\\\"},{\\\"name\\\": \\\"6\\\", \\\"parent\\\": \\\"5\\\"},],[{\\\"name\\\": \\\"1\\\", \\\"parent\\\": \\\"2\\\"},{\\\"name\\\": \\\"2\\\", \\\"parent\\\": \\\"3\\\"},{\\\"name\\\": \\\"3\\\", \\\"parent\\\": \\\"0\\\"},{\\\"name\\\": \\\"4\\\", \\\"parent\\\": \\\"3\\\"},{\\\"name\\\": \\\"5\\\", \\\"parent\\\": \\\"4\\\"},{\\\"name\\\": \\\"6\\\", \\\"parent\\\": \\\"5\\\"},],[{\\\"name\\\": \\\"1\\\", \\\"parent\\\": \\\"2\\\"},{\\\"name\\\": \\\"2\\\", \\\"parent\\\": \\\"3\\\"},{\\\"name\\\": \\\"3\\\", \\\"parent\\\": \\\"4\\\"},{\\\"name\\\": \\\"4\\\", \\\"parent\\\": \\\"0\\\"},{\\\"name\\\": \\\"5\\\", \\\"parent\\\": \\\"4\\\"},{\\\"name\\\": \\\"6\\\", \\\"parent\\\": \\\"5\\\"},],[{\\\"name\\\": \\\"1\\\", \\\"parent\\\": \\\"2\\\"},{\\\"name\\\": \\\"2\\\", \\\"parent\\\": \\\"3\\\"},{\\\"name\\\": \\\"3\\\", \\\"parent\\\": \\\"4\\\"},{\\\"name\\\": \\\"4\\\", \\\"parent\\\": \\\"5\\\"},{\\\"name\\\": \\\"5\\\", \\\"parent\\\": \\\"0\\\"},{\\\"name\\\": \\\"6\\\", \\\"parent\\\": \\\"5\\\"},],[{\\\"name\\\": \\\"1\\\", \\\"parent\\\": \\\"2\\\"},{\\\"name\\\": \\\"2\\\", \\\"parent\\\": \\\"3\\\"},{\\\"name\\\": \\\"3\\\", \\\"parent\\\": \\\"4\\\"},{\\\"name\\\": \\\"4\\\", \\\"parent\\\": \\\"5\\\"},{\\\"name\\\": \\\"5\\\", \\\"parent\\\": \\\"6\\\"},{\\\"name\\\": \\\"6\\\", \\\"parent\\\": \\\"0\\\"},],]\\n</script>\\n\\n<script> src=\\\"https://rawgithub.com/JuliaFinMetriX/Copulas.jl/master/src/charts.js\\\"</script>\\n<script>\\nvar actualChart = treeChart()\\n.width(90)\\n.height(300)\\n.vSpace(50)\\n.nodeRadius(12);\\n</script>\\n\\n<script>\\nd3.select(\\\".treeCanvas\\\")\\n.selectAll(\\\".singleTree\\\")\\n.data(treeData)\\n.enter()\\n.append(\\\"chart\\\")\\n.attr(\\\"class\\\", \\\"singleTree\\\")\\n.call(actualChart)\\n</script>\\n\\n\")"
      ]
     },
     "execution_count": 5,
     "metadata": {},
     "output_type": "execute_result"
    }
   ],
   "source": [
    "vis(vn, \"treeCanvas\", width=90, vSpace=50, height=300)"
   ]
  },
  {
   "cell_type": "code",
   "execution_count": null,
   "metadata": {
    "collapsed": true
   },
   "outputs": [],
   "source": []
  }
 ],
 "metadata": {
  "kernelspec": {
   "display_name": "Julia",
   "name": "julia"
  },
  "language_info": {
   "name": "julia",
   "version": "0.3.5"
  }
 },
 "nbformat": 4,
 "nbformat_minor": 0
}
