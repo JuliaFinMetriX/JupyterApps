{
 "cells": [
  {
   "cell_type": "markdown",
   "metadata": {},
   "source": [
    "In this notebook we will take a look at the huge database provided by The World Bank, which comprises a bunch of socio-economic indicators for almost all countries and some regional and income aggregates. Thereby we will make use of packages `WorldBankDataTd` and time series data stored in `TimeData` types."
   ]
  },
  {
   "cell_type": "markdown",
   "metadata": {},
   "source": [
    "#### Data download"
   ]
  },
  {
   "cell_type": "markdown",
   "metadata": {},
   "source": [
    "- load required packages\n",
    "- load World Bank metadata into cache"
   ]
  },
  {
   "cell_type": "code",
   "execution_count": 1,
   "metadata": {
    "collapsed": false
   },
   "outputs": [
    {
     "data": {
      "text/plain": [
       "12-element Array{Symbol,1}:\n",
       " :iso3c    \n",
       " :iso2c    \n",
       " :name     \n",
       " :region   \n",
       " :regionId \n",
       " :capital  \n",
       " :longitude\n",
       " :latitude \n",
       " :income   \n",
       " :incomeId \n",
       " :lending  \n",
       " :lendingId"
      ]
     },
     "execution_count": 1,
     "metadata": {},
     "output_type": "execute_result"
    }
   ],
   "source": [
    "using WorldBankDataTd\n",
    "using TimeData\n",
    "using Base.Test\n",
    "\n",
    "loadWBMeta(\"countries\")\n",
    "loadWBMeta(\"indicators\")\n",
    "\n",
    "names(WorldBankDataTd.country_cache)"
   ]
  },
  {
   "cell_type": "markdown",
   "metadata": {},
   "source": [
    "- less relevant: metadata of individual indicators"
   ]
  },
  {
   "cell_type": "code",
   "execution_count": 2,
   "metadata": {
    "collapsed": false
   },
   "outputs": [
    {
     "data": {
      "text/plain": [
       "6-element Array{Symbol,1}:\n",
       " :indicator          \n",
       " :name               \n",
       " :description        \n",
       " :source_database    \n",
       " :source_databaseId  \n",
       " :source_organization"
      ]
     },
     "execution_count": 2,
     "metadata": {},
     "output_type": "execute_result"
    }
   ],
   "source": [
    "names(WorldBankDataTd.indicator_cache)"
   ]
  },
  {
   "cell_type": "markdown",
   "metadata": {},
   "source": [
    "- specify indicators for download, together with less cryptic names"
   ]
  },
  {
   "cell_type": "code",
   "execution_count": 3,
   "metadata": {
    "collapsed": false
   },
   "outputs": [
    {
     "data": {
      "text/plain": [
       "Dict{Symbol,String} with 2 entries:\n",
       "  :gdp_pc => \"NY.GDP.PCAP.KD\"\n",
       "  :gdp    => \"NY.GDP.MKTP.CD\""
      ]
     },
     "execution_count": 3,
     "metadata": {},
     "output_type": "execute_result"
    }
   ],
   "source": [
    "indic2acron = Dict{Symbol, String}()\n",
    "indic2acron[:gdp] = \"NY.GDP.MKTP.CD\"\n",
    "indic2acron[:gdp_pc] = \"NY.GDP.PCAP.KD\"\n",
    "\n",
    "## invert dictionary\n",
    "acron2indic = Dict{String, Symbol}()\n",
    "for (key, val) in indic2acron\n",
    "    acron2indic[val] = key\n",
    "end\n",
    "\n",
    "indic2acron"
   ]
  },
  {
   "cell_type": "code",
   "execution_count": 4,
   "metadata": {
    "collapsed": false
   },
   "outputs": [
    {
     "data": {
      "text/plain": [
       "Dict{String,Symbol} with 2 entries:\n",
       "  \"NY.GDP.MKTP.CD\" => :gdp\n",
       "  \"NY.GDP.PCAP.KD\" => :gdp_pc"
      ]
     },
     "execution_count": 4,
     "metadata": {},
     "output_type": "execute_result"
    }
   ],
   "source": [
    "acron2indic"
   ]
  },
  {
   "cell_type": "markdown",
   "metadata": {},
   "source": [
    "- download data for *all* entities\n",
    "- rename acronyms to own indicator names"
   ]
  },
  {
   "cell_type": "code",
   "execution_count": 5,
   "metadata": {
    "collapsed": false
   },
   "outputs": [
    {
     "name": "stdout",
     "output_type": "stream",
     "text": [
      "download: http://api.worldbank.org/countries/AW;AF;A9;AO;AL;AD;L5;1A;AE;AR;AM;AS;AG;AU;AT;AZ;BI;BE;BJ;BF;BD;BG;BH;BS;BA;BY;BZ;BM;BO;BR;BB;BN;BT;BW;C9;CF;CA;C4;B8;C5;CH;JG;CL;CN;CI;C6;C7;CM;CD;CG;CO;KM;CV;CR;C8;S3;CU;CW;KY;CY;CZ;DE;DJ;DM;DK;DO;DZ;4E;Z4;7E;Z7;EC;EG;XC;ER;ES;EE;ET;EU;F1;FI;FJ;FR;FO;FM;GA;GB;GE;GH;GN;GM;GW;GQ;GR;GD;GL;GT;GU;GY;XD;HK;HN;XE;HR;HT;HU;ID;IM;IN;XY;IE;IR;IQ;IS;IL;IT;JM;JO;JP;KZ;KE;KG;KH;KI;KN;KR;KV;KW;XJ;LA;LB;LR;LY;LC;ZJ;L4;XL;XM;LI;LK;XN;XO;LS;LT;LU;LV;MO;MF;MA;L6;MC;MD;MG;MV;ZQ;MX;MH;XP;MK;ML;MT;MM;XQ;ME;MN;MP;MZ;MR;MU;MW;MY;XU;M2;NA;NC;NE;NG;NI;NL;XR;NO;NP;NZ;XS;OE;OM;S4;PK;PA;PE;PH;PW;PG;PL;PR;KP;PT;PY;PS;S2;PF;QA;RO;RU;RW;8S;SA;L7;SD;SN;SG;SB;SL;SV;SM;SO;RS;ZF;SS;ZG;S1;ST;SR;SK;SI;SE;SZ;SX;A4;SC;SY;TC;TD;TG;TH;TJ;TM;TL;TO;TT;TN;TR;TV;TZ;UG;UA;XT;UY;US;UZ;VC;VE;VI;VN;VU;1W;WS;A5;YE;ZA;ZM;ZW/indicators/NY.GDP.PCAP.KD?date=1800:3000&per_page=25000&format=json\n",
      "download: http://api.worldbank.org/countries/AW;AF;A9;AO;AL;AD;L5;1A;AE;AR;AM;AS;AG;AU;AT;AZ;BI;BE;BJ;BF;BD;BG;BH;BS;BA;BY;BZ;BM;BO;BR;BB;BN;BT;BW;C9;CF;CA;C4;B8;C5;CH;JG;CL;CN;CI;C6;C7;CM;CD;CG;CO;KM;CV;CR;C8;S3;CU;CW;KY;CY;CZ;DE;DJ;DM;DK;DO;DZ;4E;Z4;7E;Z7;EC;EG;XC;ER;ES;EE;ET;EU;F1;FI;FJ;FR;FO;FM;GA;GB;GE;GH;GN;GM;GW;GQ;GR;GD;GL;GT;GU;GY;XD;HK;HN;XE;HR;HT;HU;ID;IM;IN;XY;IE;IR;IQ;IS;IL;IT;JM;JO;JP;KZ;KE;KG;KH;KI;KN;KR;KV;KW;XJ;LA;LB;LR;LY;LC;ZJ;L4;XL;XM;LI;LK;XN;XO;LS;LT;LU;LV;MO;MF;MA;L6;MC;MD;MG;MV;ZQ;MX;MH;XP;MK;ML;MT;MM;XQ;ME;MN;MP;MZ;MR;MU;MW;MY;XU;M2;NA;NC;NE;NG;NI;NL;XR;NO;NP;NZ;XS;OE;OM;S4;PK;PA;PE;PH;PW;PG;PL;PR;KP;PT;PY;PS;S2;PF;QA;RO;RU;RW;8S;SA;L7;SD;SN;SG;SB;SL;SV;SM;SO;RS;ZF;SS;ZG;S1;ST;SR;SK;SI;SE;SZ;SX;A4;SC;SY;TC;TD;TG;TH;TJ;TM;TL;TO;TT;TN;TR;TV;TZ;UG;UA;XT;UY;US;UZ;VC;VE;VI;VN;VU;1W;WS;A5;YE;ZA;ZM;ZW/indicators/NY.GDP.MKTP.CD?date=1800:3000&per_page=25000&format=json\n"
     ]
    },
    {
     "data": {
      "text/html": [
       "<p><strong>Timedata{Date}</strong></p><p>Dimensions: <strong>(10491, 4)</strong></p><p>From: <strong>1968-12-31</strong>, To: <strong>2014-12-31</strong></p><table class=\"data-frame\"><tr><th></th><th>idx</th><th>iso2c</th><th>country</th><th>gdp_pc</th><th>gdp</th></tr><tr><th>1</th><td>1968-12-31</td><td>1A</td><td>Arab World</td><td>NA</td><td>2.5659088715414e10</td></tr><tr><th>2</th><td>1969-12-31</td><td>1A</td><td>Arab World</td><td>NA</td><td>2.83082673222492e10</td></tr><tr><th>3</th><td>1970-12-31</td><td>1A</td><td>Arab World</td><td>NA</td><td>3.12242391822223e10</td></tr><tr><th>4</th><td>1971-12-31</td><td>1A</td><td>Arab World</td><td>NA</td><td>3.6229613725645e10</td></tr><tr><th>5</th><td>1972-12-31</td><td>1A</td><td>Arab World</td><td>NA</td><td>4.31351681965945e10</td></tr><tr><th>6</th><td>1973-12-31</td><td>1A</td><td>Arab World</td><td>NA</td><td>5.47808799760272e10</td></tr><tr><th>7</th><td>1974-12-31</td><td>1A</td><td>Arab World</td><td>NA</td><td>1.04523001271412e11</td></tr><tr><th>8</th><td>1975-12-31</td><td>1A</td><td>Arab World</td><td>2644.32346050936</td><td>1.15752821947206e11</td></tr><tr><th>9</th><td>1976-12-31</td><td>1A</td><td>Arab World</td><td>2887.85876351868</td><td>1.44057806919486e11</td></tr><tr><th>10</th><td>1977-12-31</td><td>1A</td><td>Arab World</td><td>3029.7590655435</td><td>1.65984443446144e11</td></tr><tr><th>11</th><td>1978-12-31</td><td>1A</td><td>Arab World</td><td>2982.37250921517</td><td>1.83528095316993e11</td></tr><tr><th>12</th><td>1979-12-31</td><td>1A</td><td>Arab World</td><td>3184.89034261369</td><td>2.47491798430331e11</td></tr><tr><th>13</th><td>1980-12-31</td><td>1A</td><td>Arab World</td><td>3381.8259433101</td><td>3.36716591796399e11</td></tr><tr><th>14</th><td>1981-12-31</td><td>1A</td><td>Arab World</td><td>3416.97267574903</td><td>3.46637032039384e11</td></tr><tr><th>15</th><td>1982-12-31</td><td>1A</td><td>Arab World</td><td>3194.68671179788</td><td>3.22991851931265e11</td></tr><tr><th>16</th><td>1983-12-31</td><td>1A</td><td>Arab World</td><td>3013.03357760352</td><td>3.02856681939361e11</td></tr><tr><th>17</th><td>1984-12-31</td><td>1A</td><td>Arab World</td><td>2967.85599525708</td><td>3.06914278560951e11</td></tr><tr><th>18</th><td>1985-12-31</td><td>1A</td><td>Arab World</td><td>2863.64139678115</td><td>3.02695207922483e11</td></tr><tr><th>19</th><td>1986-12-31</td><td>1A</td><td>Arab World</td><td>2795.79069898569</td><td>2.88017527565432e11</td></tr><tr><th>20</th><td>1987-12-31</td><td>1A</td><td>Arab World</td><td>2723.81288191733</td><td>3.11556549650335e11</td></tr><tr><th>21</th><td>1988-12-31</td><td>1A</td><td>Arab World</td><td>2767.90201169306</td><td>3.06162275047585e11</td></tr><tr><th>22</th><td>1989-12-31</td><td>1A</td><td>Arab World</td><td>2748.64713964425</td><td>3.20901065468668e11</td></tr><tr><th>23</th><td>1990-12-31</td><td>1A</td><td>Arab World</td><td>2913.10509268914</td><td>4.43858515396945e11</td></tr><tr><th>24</th><td>1991-12-31</td><td>1A</td><td>Arab World</td><td>2876.09954637203</td><td>4.36804233162612e11</td></tr><tr><th>25</th><td>1992-12-31</td><td>1A</td><td>Arab World</td><td>2965.09644662938</td><td>4.6783303605844e11</td></tr><tr><th>26</th><td>1993-12-31</td><td>1A</td><td>Arab World</td><td>2996.02116983941</td><td>4.73297855451761e11</td></tr><tr><th>27</th><td>1994-12-31</td><td>1A</td><td>Arab World</td><td>3026.53096641769</td><td>4.84259608494561e11</td></tr><tr><th>28</th><td>1995-12-31</td><td>1A</td><td>Arab World</td><td>3019.20058619613</td><td>5.2004765368586e11</td></tr><tr><th>29</th><td>1996-12-31</td><td>1A</td><td>Arab World</td><td>3096.80711938566</td><td>5.74466397605556e11</td></tr><tr><th>30</th><td>1997-12-31</td><td>1A</td><td>Arab World</td><td>3162.77141625659</td><td>6.09292359611296e11</td></tr><tr><th>&vellip;</th><td>&vellip;</td><td>&vellip;</td><td>&vellip;</td><td>&vellip;</td><td>&vellip;</td></tr></table>"
      ],
      "text/plain": [
       "Timedata{Date}(10491x4 DataFrame\n",
       "| Row   | iso2c | country      | gdp_pc  | gdp        |\n",
       "|-------|-------|--------------|---------|------------|\n",
       "| 1     | \"1A\"  | \"Arab World\" | NA      | 2.56591e10 |\n",
       "| 2     | \"1A\"  | \"Arab World\" | NA      | 2.83083e10 |\n",
       "| 3     | \"1A\"  | \"Arab World\" | NA      | 3.12242e10 |\n",
       "| 4     | \"1A\"  | \"Arab World\" | NA      | 3.62296e10 |\n",
       "| 5     | \"1A\"  | \"Arab World\" | NA      | 4.31352e10 |\n",
       "| 6     | \"1A\"  | \"Arab World\" | NA      | 5.47809e10 |\n",
       "| 7     | \"1A\"  | \"Arab World\" | NA      | 1.04523e11 |\n",
       "| 8     | \"1A\"  | \"Arab World\" | 2644.32 | 1.15753e11 |\n",
       "| 9     | \"1A\"  | \"Arab World\" | 2887.86 | 1.44058e11 |\n",
       "| 10    | \"1A\"  | \"Arab World\" | 3029.76 | 1.65984e11 |\n",
       "| 11    | \"1A\"  | \"Arab World\" | 2982.37 | 1.83528e11 |\n",
       "⋮\n",
       "| 10480 | \"ZW\"  | \"Zimbabwe\"   | 511.331 | 5.72759e9  |\n",
       "| 10481 | \"ZW\"  | \"Zimbabwe\"   | 480.878 | 5.8056e9   |\n",
       "| 10482 | \"ZW\"  | \"Zimbabwe\"   | 452.789 | 5.75522e9  |\n",
       "| 10483 | \"ZW\"  | \"Zimbabwe\"   | 436.644 | 5.4439e9   |\n",
       "| 10484 | \"ZW\"  | \"Zimbabwe\"   | 420.169 | 5.29195e9  |\n",
       "| 10485 | \"ZW\"  | \"Zimbabwe\"   | 344.742 | 4.4157e9   |\n",
       "| 10486 | \"ZW\"  | \"Zimbabwe\"   | 362.4   | 8.15708e9  |\n",
       "| 10487 | \"ZW\"  | \"Zimbabwe\"   | 397.822 | 9.45681e9  |\n",
       "| 10488 | \"ZW\"  | \"Zimbabwe\"   | 435.794 | 1.09562e10 |\n",
       "| 10489 | \"ZW\"  | \"Zimbabwe\"   | 469.002 | 1.24724e10 |\n",
       "| 10490 | \"ZW\"  | \"Zimbabwe\"   | 475.302 | 1.34902e10 |\n",
       "| 10491 | \"ZW\"  | \"Zimbabwe\"   | 475.257 | 1.36633e10 |,[1968-12-31,1969-12-31,1970-12-31,1971-12-31,1972-12-31,1973-12-31,1974-12-31,1975-12-31,1976-12-31,1977-12-31  …  2005-12-31,2006-12-31,2007-12-31,2008-12-31,2009-12-31,2010-12-31,2011-12-31,2012-12-31,2013-12-31,2014-12-31])"
      ]
     },
     "execution_count": 5,
     "metadata": {},
     "output_type": "execute_result"
    }
   ],
   "source": [
    "indAcronyms = [values(indic2acron)...]\n",
    "data_raw = wdi(indAcronyms, \"all\")\n",
    "\n",
    "## rename variables\n",
    "for (acron, indName) in acron2indic\n",
    "    rename!(data_raw.vals, symbol(acron), indName)\n",
    "end\n",
    "\n",
    "data_raw"
   ]
  },
  {
   "cell_type": "markdown",
   "metadata": {},
   "source": [
    "## Restructure data"
   ]
  },
  {
   "cell_type": "markdown",
   "metadata": {},
   "source": [
    "- restructure data to relational database\n",
    "- first step:\n",
    "    - move country name / code conversion to extra table \n",
    "    - spaces in country names are not robust: work with iso2c codes\n",
    "    - eliminate country name column in observation table"
   ]
  },
  {
   "cell_type": "code",
   "execution_count": 6,
   "metadata": {
    "collapsed": false
   },
   "outputs": [
    {
     "data": {
      "text/html": [
       "<table class=\"data-frame\"><tr><th></th><th>iso3c</th><th>iso2c</th><th>name</th></tr><tr><th>1</th><td>ABW</td><td>AW</td><td>Aruba</td></tr><tr><th>2</th><td>AFG</td><td>AF</td><td>Afghanistan</td></tr><tr><th>3</th><td>AFR</td><td>A9</td><td>Africa</td></tr><tr><th>4</th><td>AGO</td><td>AO</td><td>Angola</td></tr><tr><th>5</th><td>ALB</td><td>AL</td><td>Albania</td></tr><tr><th>6</th><td>AND</td><td>AD</td><td>Andorra</td></tr></table>"
      ],
      "text/plain": [
       "6x3 DataFrame\n",
       "| Row | iso3c | iso2c | name          |\n",
       "|-----|-------|-------|---------------|\n",
       "| 1   | \"ABW\" | \"AW\"  | \"Aruba\"       |\n",
       "| 2   | \"AFG\" | \"AF\"  | \"Afghanistan\" |\n",
       "| 3   | \"AFR\" | \"A9\"  | \"Africa\"      |\n",
       "| 4   | \"AGO\" | \"AO\"  | \"Angola\"      |\n",
       "| 5   | \"ALB\" | \"AL\"  | \"Albania\"     |\n",
       "| 6   | \"AND\" | \"AD\"  | \"Andorra\"     |"
      ]
     },
     "execution_count": 6,
     "metadata": {},
     "output_type": "execute_result"
    }
   ],
   "source": [
    "isoCodes = WorldBankDataTd.country_cache[:, [:iso3c, :iso2c, :name]]\n",
    "head(isoCodes)"
   ]
  },
  {
   "cell_type": "code",
   "execution_count": 7,
   "metadata": {
    "collapsed": false
   },
   "outputs": [
    {
     "data": {
      "text/html": [
       "<p><strong>Timedata{Date}</strong></p><p>Dimensions: <strong>(2, 3)</strong></p><p>From: <strong>1968-12-31</strong>, To: <strong>1969-12-31</strong></p><table class=\"data-frame\"><tr><th></th><th>idx</th><th>iso2c</th><th>gdp_pc</th><th>gdp</th></tr><tr><th>1</th><td>1968-12-31</td><td>1A</td><td>NA</td><td>2.5659088715414e10</td></tr><tr><th>2</th><td>1969-12-31</td><td>1A</td><td>NA</td><td>2.83082673222492e10</td></tr></table>"
      ],
      "text/plain": [
       "Timedata{Date}(2x3 DataFrame\n",
       "| Row | iso2c | gdp_pc | gdp        |\n",
       "|-----|-------|--------|------------|\n",
       "| 1   | \"1A\"  | NA     | 2.56591e10 |\n",
       "| 2   | \"1A\"  | NA     | 2.83083e10 |,[1968-12-31,1969-12-31])"
      ]
     },
     "execution_count": 7,
     "metadata": {},
     "output_type": "execute_result"
    }
   ],
   "source": [
    "# function to remove specified columns from Timedata instance\n",
    "function rmCols(td::AbstractTimedata, colNames::Array{Symbol, 1})\n",
    "    remainCols = setdiff(names(td), colNames)\n",
    "    return td[remainCols]\n",
    "end\n",
    "\n",
    "data = rmCols(data_raw, [:country])\n",
    "\n",
    "data[1:2, :]"
   ]
  },
  {
   "cell_type": "markdown",
   "metadata": {},
   "source": [
    "- find missing entities"
   ]
  },
  {
   "cell_type": "code",
   "execution_count": 8,
   "metadata": {
    "collapsed": false
   },
   "outputs": [
    {
     "data": {
      "text/plain": [
       "25-element Array{UTF8String,1}:\n",
       " \"Africa\"                                               \n",
       " \"Andean Region\"                                        \n",
       " \"American Samoa\"                                       \n",
       " \"Sub-Saharan Africa (IFC classification)\"              \n",
       " \"East Asia and the Pacific (IFC classification)\"       \n",
       " \"Europe and Central Asia (IFC classification)\"         \n",
       " \"Latin America and the Caribbean (IFC classification)\" \n",
       " \"Middle East and North Africa (IFC classification)\"    \n",
       " \"South Asia (IFC classification)\"                      \n",
       " \"Curacao\"                                              \n",
       " \"Guam\"                                                 \n",
       " \"Not classified\"                                       \n",
       " \"Kosovo\"                                               \n",
       " \"Latin America and the Caribbean\"                      \n",
       " \"St. Martin (French part)\"                             \n",
       " \"Mexico and Central America\"                           \n",
       " \"Northern Mariana Islands\"                             \n",
       " \"North America\"                                        \n",
       " \"North Africa\"                                         \n",
       " \"Korea, Dem. Rep.\"                                     \n",
       " \"Southern Cone Extended\"                               \n",
       " \"Sint Maarten (Dutch part)\"                            \n",
       " \"Sub-Saharan Africa excluding South Africa\"            \n",
       " \"Turks and Caicos Islands\"                             \n",
       " \"Sub-Saharan Africa excluding South Africa and Nigeria\""
      ]
     },
     "execution_count": 8,
     "metadata": {},
     "output_type": "execute_result"
    }
   ],
   "source": [
    "allEntities = convert(Array, WorldBankDataTd.country_cache[:iso2c])\n",
    "entitiesPresent = convert(Array, unique(data_raw.vals[:iso2c]))\n",
    "\n",
    "missEnts = setdiff(allEntities, entitiesPresent)\n",
    "\n",
    "missingEntities = UTF8String[isoCodes[find(isoCodes[:iso2c] .== missEnt), :name][1] for missEnt in missEnts]"
   ]
  },
  {
   "cell_type": "markdown",
   "metadata": {},
   "source": [
    "- split data into country observations and observations of aggregates\n",
    "- get list of countries / aggregates"
   ]
  },
  {
   "cell_type": "code",
   "execution_count": 9,
   "metadata": {
    "collapsed": false
   },
   "outputs": [
    {
     "data": {
      "text/plain": [
       "1x2 Array{Int64,2}:\n",
       " 48  214"
      ]
     },
     "execution_count": 9,
     "metadata": {},
     "output_type": "execute_result"
    }
   ],
   "source": [
    "# find aggregates\n",
    "aggrInds = WorldBankDataTd.country_cache[:region] .== \"Aggregates\"\n",
    "aggrList = convert(Array, WorldBankDataTd.country_cache[:iso2c][aggrInds]) # no need for DataArray\n",
    "ctryList = convert(Array, WorldBankDataTd.country_cache[:iso2c][!aggrInds]) # no need for DataArray\n",
    "\n",
    "# unit test \n",
    "nEntities = size(WorldBankDataTd.country_cache, 1)\n",
    "nCtry = size(ctryList, 1)\n",
    "nAggr = size(aggrList, 1)\n",
    "\n",
    "@test nCtry + nAggr == nEntities\n",
    "\n",
    "[size(aggrList, 1) size(ctryList, 1)]"
   ]
  },
  {
   "cell_type": "markdown",
   "metadata": {},
   "source": [
    "- get region and income affiliations for countries"
   ]
  },
  {
   "cell_type": "code",
   "execution_count": 10,
   "metadata": {
    "collapsed": false
   },
   "outputs": [
    {
     "data": {
      "text/plain": [
       "12-element Array{Symbol,1}:\n",
       " :iso3c    \n",
       " :iso2c    \n",
       " :name     \n",
       " :region   \n",
       " :regionId \n",
       " :capital  \n",
       " :longitude\n",
       " :latitude \n",
       " :income   \n",
       " :incomeId \n",
       " :lending  \n",
       " :lendingId"
      ]
     },
     "execution_count": 10,
     "metadata": {},
     "output_type": "execute_result"
    }
   ],
   "source": [
    "names(WorldBankDataTd.country_cache)"
   ]
  },
  {
   "cell_type": "code",
   "execution_count": 11,
   "metadata": {
    "collapsed": false
   },
   "outputs": [
    {
     "data": {
      "text/html": [
       "<table class=\"data-frame\"><tr><th></th><th>iso2c</th><th>regionId</th><th>incomeId</th></tr><tr><th>1</th><td>AW</td><td>LCN</td><td>NOC</td></tr><tr><th>2</th><td>AF</td><td>SAS</td><td>LIC</td></tr><tr><th>3</th><td>AO</td><td>SSF</td><td>UMC</td></tr><tr><th>4</th><td>AL</td><td>ECS</td><td>UMC</td></tr><tr><th>5</th><td>AD</td><td>ECS</td><td>NOC</td></tr><tr><th>6</th><td>AE</td><td>MEA</td><td>NOC</td></tr></table>"
      ],
      "text/plain": [
       "6x3 DataFrame\n",
       "| Row | iso2c | regionId | incomeId |\n",
       "|-----|-------|----------|----------|\n",
       "| 1   | \"AW\"  | \"LCN\"    | \"NOC\"    |\n",
       "| 2   | \"AF\"  | \"SAS\"    | \"LIC\"    |\n",
       "| 3   | \"AO\"  | \"SSF\"    | \"UMC\"    |\n",
       "| 4   | \"AL\"  | \"ECS\"    | \"UMC\"    |\n",
       "| 5   | \"AD\"  | \"ECS\"    | \"NOC\"    |\n",
       "| 6   | \"AE\"  | \"MEA\"    | \"NOC\"    |"
      ]
     },
     "execution_count": 11,
     "metadata": {},
     "output_type": "execute_result"
    }
   ],
   "source": [
    "isCtry = Bool[in(ent, ctryList) for ent in WorldBankDataTd.country_cache[:iso2c]]\n",
    "ctryAffil = WorldBankDataTd.country_cache[isCtry, [:iso2c, :regionId, :incomeId]]\n",
    "\n",
    "head(ctryAffil)"
   ]
  },
  {
   "cell_type": "markdown",
   "metadata": {},
   "source": [
    "- split observations: \n",
    "    - use row iterator to find countries\n",
    "    - extract entry from \"metadata\""
   ]
  },
  {
   "cell_type": "code",
   "execution_count": 12,
   "metadata": {
    "collapsed": false
   },
   "outputs": [
    {
     "data": {
      "text/plain": [
       "DataFrame (constructor with 11 methods)"
      ]
     },
     "execution_count": 12,
     "metadata": {},
     "output_type": "execute_result"
    }
   ],
   "source": [
    "typeof(data.vals[5, :]) # not yet"
   ]
  },
  {
   "cell_type": "code",
   "execution_count": 13,
   "metadata": {
    "collapsed": false
   },
   "outputs": [
    {
     "data": {
      "text/plain": [
       "DataArray{ASCIIString,1} (constructor with 1 method)"
      ]
     },
     "execution_count": 13,
     "metadata": {},
     "output_type": "execute_result"
    }
   ],
   "source": [
    "typeof(data.vals[5, :][:iso2c]) # still not yet"
   ]
  },
  {
   "cell_type": "code",
   "execution_count": 14,
   "metadata": {
    "collapsed": false
   },
   "outputs": [
    {
     "data": {
      "text/plain": [
       "ASCIIString (constructor with 2 methods)"
      ]
     },
     "execution_count": 14,
     "metadata": {},
     "output_type": "execute_result"
    }
   ],
   "source": [
    "typeof(data.vals[5, :][:iso2c][1]) # finally"
   ]
  },
  {
   "cell_type": "code",
   "execution_count": 15,
   "metadata": {
    "collapsed": false
   },
   "outputs": [
    {
     "data": {
      "text/html": [
       "<p><strong>Timedata{Date}</strong></p><p>Dimensions: <strong>(2, 3)</strong></p><p>From: <strong>1970-12-31</strong>, To: <strong>1971-12-31</strong></p><table class=\"data-frame\"><tr><th></th><th>idx</th><th>iso2c</th><th>gdp_pc</th><th>gdp</th></tr><tr><th>1</th><td>1970-12-31</td><td>AD</td><td>35617.53592343</td><td>7.86176232677227e7</td></tr><tr><th>2</th><td>1971-12-31</td><td>AD</td><td>35405.5108037283</td><td>8.94065867318332e7</td></tr></table>"
      ],
      "text/plain": [
       "Timedata{Date}(2x3 DataFrame\n",
       "| Row | iso2c | gdp_pc  | gdp       |\n",
       "|-----|-------|---------|-----------|\n",
       "| 1   | \"AD\"  | 35617.5 | 7.86176e7 |\n",
       "| 2   | \"AD\"  | 35405.5 | 8.94066e7 |,[1970-12-31,1971-12-31])"
      ]
     },
     "execution_count": 15,
     "metadata": {},
     "output_type": "execute_result"
    }
   ],
   "source": [
    "isCtry = Bool[in(obs[:iso2c][1], ctryList) for obs in eachrow(data)]\n",
    "\n",
    "ctryData = data[isCtry, :]\n",
    "aggrData = data[!isCtry, :]\n",
    "\n",
    "ctryData[1:2, :]"
   ]
  },
  {
   "cell_type": "markdown",
   "metadata": {},
   "source": [
    "- extract relevant `gdp_pc` column"
   ]
  },
  {
   "cell_type": "code",
   "execution_count": 16,
   "metadata": {
    "collapsed": false
   },
   "outputs": [
    {
     "data": {
      "text/html": [
       "<p><strong>Timedata{Date}</strong></p><p>Dimensions: <strong>(2, 2)</strong></p><p>From: <strong>1968-12-31</strong>, To: <strong>1969-12-31</strong></p><table class=\"data-frame\"><tr><th></th><th>idx</th><th>iso2c</th><th>gdp_pc</th></tr><tr><th>1</th><td>1968-12-31</td><td>1A</td><td>NA</td></tr><tr><th>2</th><td>1969-12-31</td><td>1A</td><td>NA</td></tr></table>"
      ],
      "text/plain": [
       "Timedata{Date}(2x2 DataFrame\n",
       "| Row | iso2c | gdp_pc |\n",
       "|-----|-------|--------|\n",
       "| 1   | \"1A\"  | NA     |\n",
       "| 2   | \"1A\"  | NA     |,[1968-12-31,1969-12-31])"
      ]
     },
     "execution_count": 16,
     "metadata": {},
     "output_type": "execute_result"
    }
   ],
   "source": [
    "ctryGdp_long = ctryData[:, [:iso2c, :gdp_pc]]\n",
    "aggrGdp_long = aggrData[:, [:iso2c, :gdp_pc]]\n",
    "\n",
    "aggrGdp_long[1:2, :]"
   ]
  },
  {
   "cell_type": "markdown",
   "metadata": {},
   "source": [
    "- transform data to wide format"
   ]
  },
  {
   "cell_type": "code",
   "execution_count": 17,
   "metadata": {
    "collapsed": false
   },
   "outputs": [
    {
     "data": {
      "text/plain": [
       "singleIndicatorWide (generic function with 1 method)"
      ]
     },
     "execution_count": 17,
     "metadata": {},
     "output_type": "execute_result"
    }
   ],
   "source": [
    "function singleIndicatorWide(td::AbstractTimedata)\n",
    "    # return Timenum with columns representing countries\n",
    "    dfNAs = convert(DataFrame, td)\n",
    "    \n",
    "    # eliminate missing observations\n",
    "    inds = complete_cases(dfNAs)\n",
    "    df = dfNAs[inds, :]\n",
    "    \n",
    "    df_wide = unstack(df, :idx, :iso2c, :gdp_pc)\n",
    "    return Timenum(df_wide[:, 2:end], df_wide[:, 1])\n",
    "end"
   ]
  },
  {
   "cell_type": "markdown",
   "metadata": {},
   "source": [
    "- get log GDP\n",
    "- get growth rates"
   ]
  },
  {
   "cell_type": "code",
   "execution_count": 18,
   "metadata": {
    "collapsed": false
   },
   "outputs": [
    {
     "data": {
      "text/html": [
       "<p><strong>Timenum{Date}</strong></p><p>Dimensions: <strong>(12, 5)</strong></p><p>From: <strong>1961-12-31</strong>, To: <strong>1972-12-31</strong></p><table class=\"data-frame\"><tr><th></th><th>idx</th><th>AD</th><th>AE</th><th>AF</th><th>AG</th></tr><tr><th>1</th><td>1961-12-31</td><td>NA</td><td>NA</td><td>NA</td><td>NA</td></tr><tr><th>2</th><td>1962-12-31</td><td>NA</td><td>NA</td><td>NA</td><td>NA</td></tr><tr><th>3</th><td>1963-12-31</td><td>NA</td><td>NA</td><td>NA</td><td>NA</td></tr><tr><th>4</th><td>1964-12-31</td><td>NA</td><td>NA</td><td>NA</td><td>NA</td></tr><tr><th>5</th><td>1965-12-31</td><td>NA</td><td>NA</td><td>NA</td><td>NA</td></tr><tr><th>6</th><td>1966-12-31</td><td>NA</td><td>NA</td><td>NA</td><td>NA</td></tr><tr><th>7</th><td>1967-12-31</td><td>NA</td><td>NA</td><td>NA</td><td>NA</td></tr><tr><th>8</th><td>1968-12-31</td><td>NA</td><td>NA</td><td>NA</td><td>NA</td></tr><tr><th>9</th><td>1969-12-31</td><td>NA</td><td>NA</td><td>NA</td><td>NA</td></tr><tr><th>10</th><td>1970-12-31</td><td>NA</td><td>NA</td><td>NA</td><td>NA</td></tr><tr><th>11</th><td>1971-12-31</td><td>-0.005970618252320037</td><td>NA</td><td>NA</td><td>NA</td></tr><tr><th>12</th><td>1972-12-31</td><td>0.027546400031200236</td><td>NA</td><td>NA</td><td>NA</td></tr></table>"
      ],
      "text/plain": [
       "Timenum{Date}(12x5 DataFrame\n",
       "| Row | AD          | AE | AF | AG | AL |\n",
       "|-----|-------------|----|----|----|----|\n",
       "| 1   | NA          | NA | NA | NA | NA |\n",
       "| 2   | NA          | NA | NA | NA | NA |\n",
       "| 3   | NA          | NA | NA | NA | NA |\n",
       "| 4   | NA          | NA | NA | NA | NA |\n",
       "| 5   | NA          | NA | NA | NA | NA |\n",
       "| 6   | NA          | NA | NA | NA | NA |\n",
       "| 7   | NA          | NA | NA | NA | NA |\n",
       "| 8   | NA          | NA | NA | NA | NA |\n",
       "| 9   | NA          | NA | NA | NA | NA |\n",
       "| 10  | NA          | NA | NA | NA | NA |\n",
       "| 11  | -0.00597062 | NA | NA | NA | NA |\n",
       "| 12  | 0.0275464   | NA | NA | NA | NA |,[1961-12-31,1962-12-31,1963-12-31,1964-12-31,1965-12-31,1966-12-31,1967-12-31,1968-12-31,1969-12-31,1970-12-31,1971-12-31,1972-12-31])"
      ]
     },
     "execution_count": 18,
     "metadata": {},
     "output_type": "execute_result"
    }
   ],
   "source": [
    "aggrGdp = singleIndicatorWide(aggrGdp_long)\n",
    "ctryGdp = singleIndicatorWide(ctryGdp_long)\n",
    "\n",
    "aggrLogGdp = log(aggrGdp)\n",
    "ctryLogGdp = log(ctryGdp)\n",
    "\n",
    "aggrGdpGrowth = aggrLogGdp[2:end, :] .- aggrLogGdp[1:(end-1), :]\n",
    "ctryGdpGrowth = ctryLogGdp[2:end, :] .- ctryLogGdp[1:(end-1), :]\n",
    "\n",
    "ctryGdpGrowth[1:12, 1:5]"
   ]
  },
  {
   "cell_type": "markdown",
   "metadata": {},
   "source": [
    "- get quantiles of growth rates"
   ]
  },
  {
   "cell_type": "code",
   "execution_count": 19,
   "metadata": {
    "collapsed": false
   },
   "outputs": [
    {
     "data": {
      "text/plain": [
       "getQuantiles (generic function with 1 method)"
      ]
     },
     "execution_count": 19,
     "metadata": {},
     "output_type": "execute_result"
    }
   ],
   "source": [
    "function getQuantiles(dfRow::DataFrame, quants::Array{Float64, 1})\n",
    "    # get values without NaNs\n",
    "    vals = asArr(dfRow[1, :], Float64, NaN)[:]\n",
    "    return quantile(vals[!isnan(vals)], quants)'\n",
    "end"
   ]
  },
  {
   "cell_type": "code",
   "execution_count": 20,
   "metadata": {
    "collapsed": false
   },
   "outputs": [
    {
     "data": {
      "text/html": [
       "<p><strong>Timematr{Date}</strong></p><p>Dimensions: <strong>(54, 5)</strong></p><p>From: <strong>1961-12-31</strong>, To: <strong>2014-12-31</strong></p><table class=\"data-frame\"><tr><th></th><th>idx</th><th>q2</th><th>q25</th><th>q50</th><th>q75</th><th>q98</th></tr><tr><th>1</th><td>1961-12-31</td><td>-0.104</td><td>-0.001</td><td>0.029</td><td>0.036</td><td>0.06</td></tr><tr><th>2</th><td>1962-12-31</td><td>-0.011</td><td>0.018</td><td>0.036</td><td>0.043</td><td>0.052</td></tr><tr><th>3</th><td>1963-12-31</td><td>0.005</td><td>0.03</td><td>0.036</td><td>0.039</td><td>0.051</td></tr><tr><th>4</th><td>1964-12-31</td><td>0.018</td><td>0.043</td><td>0.049</td><td>0.051</td><td>0.081</td></tr><tr><th>5</th><td>1965-12-31</td><td>-0.024</td><td>0.024</td><td>0.034</td><td>0.039</td><td>0.066</td></tr><tr><th>6</th><td>1966-12-31</td><td>-0.012</td><td>0.007</td><td>0.029</td><td>0.044</td><td>0.059</td></tr><tr><th>7</th><td>1967-12-31</td><td>-0.026</td><td>0.014</td><td>0.024</td><td>0.035</td><td>0.058</td></tr><tr><th>8</th><td>1968-12-31</td><td>-0.001</td><td>0.022</td><td>0.041</td><td>0.05</td><td>0.075</td></tr><tr><th>9</th><td>1969-12-31</td><td>0.025</td><td>0.042</td><td>0.045</td><td>0.049</td><td>0.083</td></tr><tr><th>10</th><td>1970-12-31</td><td>0.001</td><td>0.029</td><td>0.047</td><td>0.052</td><td>0.091</td></tr><tr><th>11</th><td>1971-12-31</td><td>-0.003</td><td>0.026</td><td>0.03</td><td>0.036</td><td>0.055</td></tr><tr><th>12</th><td>1972-12-31</td><td>-0.027</td><td>0.025</td><td>0.041</td><td>0.043</td><td>0.121</td></tr><tr><th>13</th><td>1973-12-31</td><td>0.006</td><td>0.024</td><td>0.05</td><td>0.054</td><td>0.068</td></tr><tr><th>14</th><td>1974-12-31</td><td>-0.012</td><td>0.001</td><td>0.027</td><td>0.043</td><td>0.084</td></tr><tr><th>15</th><td>1975-12-31</td><td>-0.019</td><td>-0.011</td><td>0.013</td><td>0.03</td><td>0.046</td></tr><tr><th>16</th><td>1976-12-31</td><td>0.005</td><td>0.027</td><td>0.039</td><td>0.042</td><td>0.101</td></tr><tr><th>17</th><td>1977-12-31</td><td>-0.009</td><td>0.02</td><td>0.024</td><td>0.033</td><td>0.062</td></tr><tr><th>18</th><td>1978-12-31</td><td>-0.025</td><td>0.01</td><td>0.027</td><td>0.033</td><td>0.079</td></tr><tr><th>19</th><td>1979-12-31</td><td>-0.042</td><td>0.016</td><td>0.031</td><td>0.04</td><td>0.062</td></tr><tr><th>20</th><td>1980-12-31</td><td>-0.054</td><td>0.004</td><td>0.018</td><td>0.039</td><td>0.059</td></tr><tr><th>21</th><td>1981-12-31</td><td>-0.021</td><td>-0.002</td><td>0.01</td><td>0.014</td><td>0.039</td></tr><tr><th>22</th><td>1982-12-31</td><td>-0.063</td><td>-0.015</td><td>-0.005</td><td>0.007</td><td>0.047</td></tr><tr><th>23</th><td>1983-12-31</td><td>-0.056</td><td>-0.034</td><td>-0.005</td><td>0.02</td><td>0.052</td></tr><tr><th>24</th><td>1984-12-31</td><td>-0.018</td><td>-0.001</td><td>0.02</td><td>0.037</td><td>0.06</td></tr><tr><th>25</th><td>1985-12-31</td><td>-0.04</td><td>-0.014</td><td>0.015</td><td>0.026</td><td>0.051</td></tr><tr><th>26</th><td>1986-12-31</td><td>-0.043</td><td>0.005</td><td>0.012</td><td>0.024</td><td>0.05</td></tr><tr><th>27</th><td>1987-12-31</td><td>-0.045</td><td>-0.02</td><td>0.018</td><td>0.027</td><td>0.058</td></tr><tr><th>28</th><td>1988-12-31</td><td>-0.021</td><td>0.008</td><td>0.018</td><td>0.039</td><td>0.069</td></tr><tr><th>29</th><td>1989-12-31</td><td>-0.014</td><td>-0.003</td><td>0.02</td><td>0.032</td><td>0.044</td></tr><tr><th>30</th><td>1990-12-31</td><td>-0.03</td><td>-0.002</td><td>0.015</td><td>0.031</td><td>0.068</td></tr><tr><th>&vellip;</th><td>&vellip;</td><td>&vellip;</td><td>&vellip;</td><td>&vellip;</td><td>&vellip;</td><td>&vellip;</td></tr></table>"
      ],
      "text/plain": [
       "Timematr{Date}(54x5 DataFrame\n",
       "| Row | q2           | q25          | q50         | q75       | q98       |\n",
       "|-----|--------------|--------------|-------------|-----------|-----------|\n",
       "| 1   | -0.103901    | -0.000711081 | 0.0290451   | 0.0355625 | 0.0600073 |\n",
       "| 2   | -0.0106627   | 0.017984     | 0.0360181   | 0.0429539 | 0.0517753 |\n",
       "| 3   | 0.00520044   | 0.0302801    | 0.036343    | 0.038714  | 0.0509785 |\n",
       "| 4   | 0.018194     | 0.0428237    | 0.048737    | 0.0507246 | 0.0812422 |\n",
       "| 5   | -0.0242758   | 0.0240164    | 0.0340726   | 0.0391417 | 0.0658488 |\n",
       "| 6   | -0.0117673   | 0.00657455   | 0.0291353   | 0.0442642 | 0.0587732 |\n",
       "| 7   | -0.0257524   | 0.0135233    | 0.0235113   | 0.0348778 | 0.0577559 |\n",
       "| 8   | -0.000776163 | 0.0223079    | 0.0412106   | 0.0495754 | 0.0746302 |\n",
       "| 9   | 0.0247245    | 0.0421625    | 0.0446698   | 0.048689  | 0.08276   |\n",
       "| 10  | 0.00123823   | 0.0287989    | 0.0473716   | 0.0522808 | 0.09073   |\n",
       "| 11  | -0.00338565  | 0.0256336    | 0.0304974   | 0.0361594 | 0.0546296 |\n",
       "⋮\n",
       "| 43  | -0.0167355   | 0.0132985    | 0.0277702   | 0.0424956 | 0.0661623 |\n",
       "| 44  | 0.0193156    | 0.028458     | 0.0517543   | 0.0621686 | 0.0836154 |\n",
       "| 45  | 0.00999133   | 0.0231708    | 0.0362877   | 0.0544666 | 0.0748256 |\n",
       "| 46  | 0.0127103    | 0.029395     | 0.0373998   | 0.0638839 | 0.081322  |\n",
       "| 47  | 0.0107857    | 0.0293132    | 0.0394359   | 0.0622961 | 0.0877189 |\n",
       "| 48  | -0.00521391  | 0.01111      | 0.0228523   | 0.03096   | 0.0587036 |\n",
       "| 49  | -0.0512372   | -0.0418498   | -0.00729607 | 0.0188844 | 0.0618996 |\n",
       "| 50  | 0.0101113    | 0.0226089    | 0.0283849   | 0.0474676 | 0.0782978 |\n",
       "| 51  | -0.0619477   | 0.014472     | 0.0185211   | 0.037231  | 0.0631691 |\n",
       "| 52  | -0.00479269  | 0.0100963    | 0.0192528   | 0.0354276 | 0.0792193 |\n",
       "| 53  | -0.0076021   | 0.00788821   | 0.015724    | 0.0305268 | 0.0549334 |\n",
       "| 54  | -0.0270939   | 0.00917353   | 0.0135633   | 0.0300338 | 0.0571411 |,[1961-12-31,1962-12-31,1963-12-31,1964-12-31,1965-12-31,1966-12-31,1967-12-31,1968-12-31,1969-12-31,1970-12-31  …  2005-12-31,2006-12-31,2007-12-31,2008-12-31,2009-12-31,2010-12-31,2011-12-31,2012-12-31,2013-12-31,2014-12-31])"
      ]
     },
     "execution_count": 20,
     "metadata": {},
     "output_type": "execute_result"
    }
   ],
   "source": [
    "quants = [0.02; 0.25; 0.5; 0.75; 0.98]\n",
    "\n",
    "# for each date, get quantiles\n",
    "ctryQuantileVals = vcat([getQuantiles(vals, quants) for vals in eachrow(aggrGdpGrowth)]...)\n",
    "\n",
    "# get column names\n",
    "qNames = [symbol(string(\"q\", int(q*100))) for q in quants]\n",
    "\n",
    "# append dates\n",
    "ctryQuantiles = Timematr(ctryQuantileVals, qNames, idx(ctryGdpGrowth))"
   ]
  },
  {
   "cell_type": "markdown",
   "metadata": {},
   "source": [
    "- save relational database to disk"
   ]
  },
  {
   "cell_type": "code",
   "execution_count": 21,
   "metadata": {
    "collapsed": true
   },
   "outputs": [],
   "source": [
    "run(`mkdir -p ../tmp`)"
   ]
  },
  {
   "cell_type": "code",
   "execution_count": 22,
   "metadata": {
    "collapsed": true
   },
   "outputs": [],
   "source": [
    "writetable(\"../tmp/isoCodes.csv\", isoCodes)\n",
    "writetable(\"../tmp/ctryAffil.csv\", ctryAffil)\n",
    "\n",
    "writeTimedata(\"../tmp/ctryGdp.csv\", ctryGdp)\n",
    "writeTimedata(\"../tmp/ctryGdpGrowth.csv\", ctryGdpGrowth)\n",
    "\n",
    "writeTimedata(\"../tmp/aggrGdp.csv\", aggrGdp)\n",
    "writeTimedata(\"../tmp/aggrGdpGrowth.csv\", aggrGdpGrowth)\n",
    "\n",
    "writeTimedata(\"../tmp/ctryQuantiles.csv\", ctryQuantiles)"
   ]
  },
  {
   "cell_type": "markdown",
   "metadata": {},
   "source": [
    "# Not yet required part"
   ]
  },
  {
   "cell_type": "markdown",
   "metadata": {},
   "source": [
    "##### Initialize data handling functions"
   ]
  },
  {
   "cell_type": "markdown",
   "metadata": {},
   "source": [
    "- functions for data transformations, subsetting, manipulation\n",
    "- two common ways of subsetting:\n",
    "    - all indicators for single country\n",
    "    - single indicator for each country\n",
    "- splitting data: individual countries vs. aggregates"
   ]
  },
  {
   "cell_type": "markdown",
   "metadata": {},
   "source": [
    "As any analysis requires steady transformations, subsetting and manipulation of data, we start by setting up some additional convenience functions customized for the given dataset.\n",
    "\n",
    "Thereby, two ways of subsetting the data at hand will be of special importance: picking all indicators over time for any given single country, as well as all countries over time for any given single indicator. In both cases, data should be stored in wide format, such that each remaining variable is stored as column of the dataset.\n",
    "\n",
    "Given the current data format, picking a single indicator would be extremely easy. However, we also want to simultaneously get rid of all non-numeric columns, as we already know the single chosen country."
   ]
  },
  {
   "cell_type": "code",
   "execution_count": 23,
   "metadata": {
    "collapsed": false
   },
   "outputs": [
    {
     "data": {
      "text/plain": [
       "selectDates (generic function with 1 method)"
      ]
     },
     "execution_count": 23,
     "metadata": {},
     "output_type": "execute_result"
    }
   ],
   "source": [
    "function selectDates(data::AbstractTimedata, f::Function; replaceNA::Bool=false)\n",
    "    ssData = chkDates(f, eachdate(data)) |> \n",
    "        x -> asArr(x, Bool, replaceNA) |>\n",
    "        x -> data[x[:], :]\n",
    "    return ssData\n",
    "end"
   ]
  },
  {
   "cell_type": "code",
   "execution_count": 24,
   "metadata": {
    "collapsed": false
   },
   "outputs": [
    {
     "data": {
      "text/html": [
       "<p><strong>Timedata{Date}</strong></p><p>Dimensions: <strong>(55, 4)</strong></p><p>From: <strong>1960-12-31</strong>, To: <strong>2014-12-31</strong></p><table class=\"data-frame\"><tr><th></th><th>idx</th><th>iso2c</th><th>country</th><th>gdp_pc</th><th>gdp</th></tr><tr><th>1</th><td>1960-12-31</td><td>US</td><td>United States</td><td>15791.8617334524</td><td>5.433e11</td></tr><tr><th>2</th><td>1961-12-31</td><td>US</td><td>United States</td><td>15928.4988153057</td><td>5.633e11</td></tr><tr><th>3</th><td>1962-12-31</td><td>US</td><td>United States</td><td>16644.4416516107</td><td>6.051e11</td></tr><tr><th>4</th><td>1963-12-31</td><td>US</td><td>United States</td><td>17122.0022069121</td><td>6.386e11</td></tr><tr><th>5</th><td>1964-12-31</td><td>US</td><td>United States</td><td>17859.9978203397</td><td>6.858e11</td></tr><tr><th>6</th><td>1965-12-31</td><td>US</td><td>United States</td><td>18783.3483348074</td><td>7.437e11</td></tr><tr><th>7</th><td>1966-12-31</td><td>US</td><td>United States</td><td>19791.3412231558</td><td>8.15e11</td></tr><tr><th>8</th><td>1967-12-31</td><td>US</td><td>United States</td><td>20114.2756101855</td><td>8.617e11</td></tr><tr><th>9</th><td>1968-12-31</td><td>US</td><td>United States</td><td>20893.6109639579</td><td>9.425e11</td></tr><tr><th>10</th><td>1969-12-31</td><td>US</td><td>United States</td><td>21339.8107118115</td><td>1.0199e12</td></tr><tr><th>11</th><td>1970-12-31</td><td>US</td><td>United States</td><td>21183.2096248756</td><td>1.07588e12</td></tr><tr><th>12</th><td>1971-12-31</td><td>US</td><td>United States</td><td>21606.4186342163</td><td>1.16777e12</td></tr><tr><th>13</th><td>1972-12-31</td><td>US</td><td>United States</td><td>22501.4330906735</td><td>1.28245e12</td></tr><tr><th>14</th><td>1973-12-31</td><td>US</td><td>United States</td><td>23545.3718341364</td><td>1.42854e12</td></tr><tr><th>15</th><td>1974-12-31</td><td>US</td><td>United States</td><td>23210.5721660572</td><td>1.54882e12</td></tr><tr><th>16</th><td>1975-12-31</td><td>US</td><td>United States</td><td>22937.44079121</td><td>1.68892e12</td></tr><tr><th>17</th><td>1976-12-31</td><td>US</td><td>United States</td><td>23944.2607838191</td><td>1.87759e12</td></tr><tr><th>18</th><td>1977-12-31</td><td>US</td><td>United States</td><td>24797.1040551401</td><td>2.08595e12</td></tr><tr><th>19</th><td>1978-12-31</td><td>US</td><td>United States</td><td>25900.3212255992</td><td>2.35657e12</td></tr><tr><th>20</th><td>1979-12-31</td><td>US</td><td>United States</td><td>26429.5647730555</td><td>2.63214e12</td></tr><tr><th>21</th><td>1980-12-31</td><td>US</td><td>United States</td><td>26113.1182748377</td><td>2.86251e12</td></tr><tr><th>22</th><td>1981-12-31</td><td>US</td><td>United States</td><td>26529.0003747832</td><td>3.21095e12</td></tr><tr><th>23</th><td>1982-12-31</td><td>US</td><td>United States</td><td>25775.1579874301</td><td>3.34499e12</td></tr><tr><th>24</th><td>1983-12-31</td><td>US</td><td>United States</td><td>26723.6800232686</td><td>3.63814e12</td></tr><tr><th>25</th><td>1984-12-31</td><td>US</td><td>United States</td><td>28416.4863776105</td><td>4.04069e12</td></tr><tr><th>26</th><td>1985-12-31</td><td>US</td><td>United States</td><td>29359.6530824969</td><td>4.34674e12</td></tr><tr><th>27</th><td>1986-12-31</td><td>US</td><td>United States</td><td>30111.1017644389</td><td>4.59015e12</td></tr><tr><th>28</th><td>1987-12-31</td><td>US</td><td>United States</td><td>30876.252739497</td><td>4.87022e12</td></tr><tr><th>29</th><td>1988-12-31</td><td>US</td><td>United States</td><td>31883.4535110573</td><td>5.25263e12</td></tr><tr><th>30</th><td>1989-12-31</td><td>US</td><td>United States</td><td>32746.226181939</td><td>5.6577e12</td></tr><tr><th>&vellip;</th><td>&vellip;</td><td>&vellip;</td><td>&vellip;</td><td>&vellip;</td><td>&vellip;</td></tr></table>"
      ],
      "text/plain": [
       "Timedata{Date}(55x4 DataFrame\n",
       "| Row | iso2c | country         | gdp_pc  | gdp        |\n",
       "|-----|-------|-----------------|---------|------------|\n",
       "| 1   | \"US\"  | \"United States\" | 15791.9 | 5.433e11   |\n",
       "| 2   | \"US\"  | \"United States\" | 15928.5 | 5.633e11   |\n",
       "| 3   | \"US\"  | \"United States\" | 16644.4 | 6.051e11   |\n",
       "| 4   | \"US\"  | \"United States\" | 17122.0 | 6.386e11   |\n",
       "| 5   | \"US\"  | \"United States\" | 17860.0 | 6.858e11   |\n",
       "| 6   | \"US\"  | \"United States\" | 18783.3 | 7.437e11   |\n",
       "| 7   | \"US\"  | \"United States\" | 19791.3 | 8.15e11    |\n",
       "| 8   | \"US\"  | \"United States\" | 20114.3 | 8.617e11   |\n",
       "| 9   | \"US\"  | \"United States\" | 20893.6 | 9.425e11   |\n",
       "| 10  | \"US\"  | \"United States\" | 21339.8 | 1.0199e12  |\n",
       "| 11  | \"US\"  | \"United States\" | 21183.2 | 1.07588e12 |\n",
       "⋮\n",
       "| 44  | \"US\"  | \"United States\" | 42080.0 | 1.15107e13 |\n",
       "| 45  | \"US\"  | \"United States\" | 43270.7 | 1.22749e13 |\n",
       "| 46  | \"US\"  | \"United States\" | 44307.9 | 1.30937e13 |\n",
       "| 47  | \"US\"  | \"United States\" | 45052.9 | 1.38559e13 |\n",
       "| 48  | \"US\"  | \"United States\" | 45420.2 | 1.44776e13 |\n",
       "| 49  | \"US\"  | \"United States\" | 44861.4 | 1.47186e13 |\n",
       "| 50  | \"US\"  | \"United States\" | 43235.6 | 1.44187e13 |\n",
       "| 51  | \"US\"  | \"United States\" | 43961.2 | 1.49644e13 |\n",
       "| 52  | \"US\"  | \"United States\" | 44324.9 | 1.55179e13 |\n",
       "| 53  | \"US\"  | \"United States\" | 45008.6 | 1.61632e13 |\n",
       "| 54  | \"US\"  | \"United States\" | 45660.7 | 1.67681e13 |\n",
       "| 55  | \"US\"  | \"United States\" | 46405.3 | 1.7419e13  |,[1960-12-31,1961-12-31,1962-12-31,1963-12-31,1964-12-31,1965-12-31,1966-12-31,1967-12-31,1968-12-31,1969-12-31  …  2005-12-31,2006-12-31,2007-12-31,2008-12-31,2009-12-31,2010-12-31,2011-12-31,2012-12-31,2013-12-31,2014-12-31])"
      ]
     },
     "execution_count": 24,
     "metadata": {},
     "output_type": "execute_result"
    }
   ],
   "source": [
    "kk = selectDates(data_raw, x -> get(x[:iso2c], :) == \"US\", replaceNA = false)"
   ]
  },
  {
   "cell_type": "code",
   "execution_count": 25,
   "metadata": {
    "collapsed": false
   },
   "outputs": [
    {
     "data": {
      "text/plain": [
       "selectCountry (generic function with 1 method)"
      ]
     },
     "execution_count": 25,
     "metadata": {},
     "output_type": "execute_result"
    }
   ],
   "source": [
    "function selectCountry(td::AbstractTimedata, ctry::String)\n",
    "    # find observations\n",
    "    ssData = chkDates(x -> (get(x[:iso2c][1], :) == ctry), eachdate(td)) |> \n",
    "        x -> asArr(x, Bool, false) |>\n",
    "        x -> td[x[:], :]\n",
    "    # remove non-numeric columns\n",
    "    #vals_num = rmCols(ssData, [:iso2c, :country])\n",
    "    # return convert(Timenum, vals_num)\n",
    "    return ssData\n",
    "end"
   ]
  },
  {
   "cell_type": "markdown",
   "metadata": {},
   "source": [
    "Next, we want to be able to select a single indicator. This requires getting rid of additional indicators, and spreading country information contained in a single column into separate columns for each country. We will achieve this by making use of `DataFrames` built-in function `unstack`, which allows to transform long format data into wide format."
   ]
  },
  {
   "cell_type": "code",
   "execution_count": 26,
   "metadata": {
    "collapsed": false
   },
   "outputs": [
    {
     "data": {
      "text/plain": [
       "selectIndicator (generic function with 1 method)"
      ]
     },
     "execution_count": 26,
     "metadata": {},
     "output_type": "execute_result"
    }
   ],
   "source": [
    "function selectIndicator(td::AbstractTimedata, col::Symbol)\n",
    "    # select single indicator, returning Timenum with countries as\n",
    "    # columns\n",
    "    df = convert(DataFrame, td)\n",
    "    df_singleInd = df[[:idx, :iso2c, col]]\n",
    "    df_2 = df_singleInd[complete_cases(df_singleInd), :]\n",
    "    df_wide = unstack(df_2, :idx, :iso2c, col)\n",
    "    return Timenum(df_wide[:, 2:end], df_wide[:, 1])\n",
    "end"
   ]
  },
  {
   "cell_type": "markdown",
   "metadata": {},
   "source": [
    "#### Analyse GDP data"
   ]
  },
  {
   "cell_type": "code",
   "execution_count": 27,
   "metadata": {
    "collapsed": false
   },
   "outputs": [
    {
     "data": {
      "text/html": [
       "<p><strong>Timenum{Date}</strong></p><p>Dimensions: <strong>(55, 238)</strong></p><p>From: <strong>1960-12-31</strong>, To: <strong>2014-12-31</strong></p><table class=\"data-frame\"><tr><th></th><th>idx</th><th>1A</th><th>1W</th><th>4E</th><th>7E</th></tr><tr><th>1</th><td>1960-12-31</td><td>NA</td><td>1.36789192122723e12</td><td>8.06415216537484e10</td><td>NA</td></tr><tr><th>2</th><td>1961-12-31</td><td>NA</td><td>1.42398417803783e12</td><td>7.0820227482862e10</td><td>NA</td></tr><tr><th>3</th><td>1962-12-31</td><td>NA</td><td>1.5236446997589e12</td><td>6.48952985604618e10</td><td>NA</td></tr><tr><th>4</th><td>1963-12-31</td><td>NA</td><td>1.64412693824389e12</td><td>6.97904047983661e10</td><td>NA</td></tr><tr><th>5</th><td>1964-12-31</td><td>NA</td><td>1.80363089754075e12</td><td>8.09774713751185e10</td><td>NA</td></tr><tr><th>6</th><td>1965-12-31</td><td>NA</td><td>1.96392852393785e12</td><td>9.44972191598286e10</td><td>NA</td></tr><tr><th>7</th><td>1966-12-31</td><td>NA</td><td>2.13117368790666e12</td><td>1.03393603007921e11</td><td>NA</td></tr><tr><th>8</th><td>1967-12-31</td><td>NA</td><td>2.2742402642441e12</td><td>1.00269588305613e11</td><td>NA</td></tr><tr><th>9</th><td>1968-12-31</td><td>2.5659088715414e10</td><td>2.44979202942017e12</td><td>1.01269176386018e11</td><td>NA</td></tr><tr><th>10</th><td>1969-12-31</td><td>2.83082673222492e10</td><td>2.69338789560249e12</td><td>1.13716070174716e11</td><td>NA</td></tr><tr><th>11</th><td>1970-12-31</td><td>3.12242391822223e10</td><td>2.96133189266571e12</td><td>1.26739437296641e11</td><td>NA</td></tr><tr><th>12</th><td>1971-12-31</td><td>3.6229613725645e10</td><td>3.26862275339435e12</td><td>1.36021522996755e11</td><td>NA</td></tr><tr><th>13</th><td>1972-12-31</td><td>4.31351681965945e10</td><td>3.77011215551126e12</td><td>1.54221704801532e11</td><td>NA</td></tr><tr><th>14</th><td>1973-12-31</td><td>5.47808799760272e10</td><td>4.57472870061727e12</td><td>1.94556540994131e11</td><td>NA</td></tr><tr><th>15</th><td>1974-12-31</td><td>1.04523001271412e11</td><td>5.24560858393157e12</td><td>2.20064069111089e11</td><td>NA</td></tr><tr><th>16</th><td>1975-12-31</td><td>1.15752821947206e11</td><td>5.86826180492373e12</td><td>2.47284495760542e11</td><td>NA</td></tr><tr><th>17</th><td>1976-12-31</td><td>1.44057806919486e11</td><td>6.3708763510209e12</td><td>2.51461813148536e11</td><td>NA</td></tr><tr><th>18</th><td>1977-12-31</td><td>1.65984443446144e11</td><td>7.20195118782588e12</td><td>2.90913525289957e11</td><td>NA</td></tr><tr><th>19</th><td>1978-12-31</td><td>1.83528095316993e11</td><td>8.53425075660681e12</td><td>2.82872236877605e11</td><td>NA</td></tr><tr><th>20</th><td>1979-12-31</td><td>2.47491798430331e11</td><td>9.90828217040377e12</td><td>3.28065616431699e11</td><td>NA</td></tr><tr><th>21</th><td>1980-12-31</td><td>3.36716591796399e11</td><td>1.11841850525284e13</td><td>3.79976711990977e11</td><td>NA</td></tr><tr><th>22</th><td>1981-12-31</td><td>3.46637032039384e11</td><td>1.14528173804534e13</td><td>4.06667638618276e11</td><td>NA</td></tr><tr><th>23</th><td>1982-12-31</td><td>3.22991851931265e11</td><td>1.13307094642663e13</td><td>4.23967315408204e11</td><td>NA</td></tr><tr><th>24</th><td>1983-12-31</td><td>3.02856681939361e11</td><td>1.16797902930174e13</td><td>4.44094685278787e11</td><td>NA</td></tr><tr><th>25</th><td>1984-12-31</td><td>3.06914278560951e11</td><td>1.21255291403233e13</td><td>4.80366669211981e11</td><td>NA</td></tr><tr><th>26</th><td>1985-12-31</td><td>3.02695207922483e11</td><td>1.27487376733651e13</td><td>5.25347338987583e11</td><td>NA</td></tr><tr><th>27</th><td>1986-12-31</td><td>2.88017527565432e11</td><td>1.50843374961998e13</td><td>5.21888438967886e11</td><td>NA</td></tr><tr><th>28</th><td>1987-12-31</td><td>3.11556549650335e11</td><td>1.71804907906954e13</td><td>5.1514535766573e11</td><td>3.12326926338758e11</td></tr><tr><th>29</th><td>1988-12-31</td><td>3.06162275047585e11</td><td>1.90795089579383e13</td><td>5.76072757359397e11</td><td>3.28928968641244e11</td></tr><tr><th>30</th><td>1989-12-31</td><td>3.20901065468668e11</td><td>2.00459242878276e13</td><td>6.24740374586169e11</td><td>3.63121881776689e11</td></tr><tr><th>&vellip;</th><td>&vellip;</td><td>&vellip;</td><td>&vellip;</td><td>&vellip;</td><td>&vellip;</td></tr></table>"
      ],
      "text/plain": [
       "Timenum{Date}(55x238 DataFrame\n",
       "| Row | 1A         | 1W         | 4E         | 7E         | 8S         |\n",
       "|-----|------------|------------|------------|------------|------------|\n",
       "| 1   | NA         | 1.36789e12 | 8.06415e10 | NA         | 4.76889e10 |\n",
       "| 2   | NA         | 1.42398e12 | 7.08202e10 | NA         | 5.08606e10 |\n",
       "| 3   | NA         | 1.52364e12 | 6.48953e10 | NA         | 5.4296e10  |\n",
       "| 4   | NA         | 1.64413e12 | 6.97904e10 | NA         | 6.10597e10 |\n",
       "| 5   | NA         | 1.80363e12 | 8.09775e10 | NA         | 6.99625e10 |\n",
       "| 6   | NA         | 1.96393e12 | 9.44972e10 | NA         | 7.51407e10 |\n",
       "| 7   | NA         | 2.13117e12 | 1.03394e11 | NA         | 6.30552e10 |\n",
       "| 8   | NA         | 2.27424e12 | 1.0027e11  | NA         | 6.94088e10 |\n",
       "| 9   | 2.56591e10 | 2.44979e12 | 1.01269e11 | NA         | 7.28676e10 |\n",
       "| 10  | 2.83083e10 | 2.69339e12 | 1.13716e11 | NA         | 8.00051e10 |\n",
       "| 11  | 3.12242e10 | 2.96133e12 | 1.26739e11 | NA         | 8.66524e10 |\n",
       "⋮\n",
       "| 44  | 8.18121e11 | 3.85858e13 | 2.30041e12 | 5.63219e11 | 7.93222e11 |\n",
       "| 45  | 9.5948e11  | 4.34646e13 | 2.66735e12 | 7.21938e11 | 9.19799e11 |\n",
       "| 46  | 1.17976e12 | 4.70337e13 | 3.0838e12  | 8.97448e11 | 1.05391e12 |\n",
       "| 47  | 1.39864e12 | 5.09715e13 | 3.71035e12 | 1.05038e12 | 1.20495e12 |\n",
       "| 48  | 1.63485e12 | 5.74522e13 | 4.69314e12 | 1.33685e12 | 1.52616e12 |\n",
       "| 49  | 2.07394e12 | 6.29828e13 | 5.93312e12 | 1.60002e12 | 1.55263e12 |\n",
       "| 50  | 1.79384e12 | 5.97047e13 | 6.43025e12 | 1.33378e12 | 1.70684e12 |\n",
       "| 51  | 2.098e12   | 6.54892e13 | 7.78647e12 | 1.52343e12 | 2.08657e12 |\n",
       "| 52  | 2.48939e12 | 7.25722e13 | 9.51506e12 | 1.70826e12 | 2.27851e12 |\n",
       "| 53  | 2.74551e12 | 7.40416e13 | 1.06082e13 | 1.74645e12 | 2.29292e12 |\n",
       "| 54  | 2.84348e12 | 7.6124e13  | 1.16856e13 | 1.87596e12 | 2.35533e12 |\n",
       "| 55  | 2.85584e12 | 7.78688e13 | 1.25713e13 | 1.81104e12 | 2.60787e12 |\n",
       "\n",
       "| Row | AD        | AE         | AF         | AG        | AL         |\n",
       "|-----|-----------|------------|------------|-----------|------------|\n",
       "| 1   | NA        | NA         | 5.37778e8  | NA        | NA         |\n",
       "| 2   | NA        | NA         | 5.48889e8  | NA        | NA         |\n",
       "| 3   | NA        | NA         | 5.46667e8  | NA        | NA         |\n",
       "| 4   | NA        | NA         | 7.51111e8  | NA        | NA         |\n",
       "| 5   | NA        | NA         | 8.0e8      | NA        | NA         |\n",
       "| 6   | NA        | NA         | 1.00667e9  | NA        | NA         |\n",
       "| 7   | NA        | NA         | 1.4e9      | NA        | NA         |\n",
       "| 8   | NA        | NA         | 1.67333e9  | NA        | NA         |\n",
       "| 9   | NA        | NA         | 1.37333e9  | NA        | NA         |\n",
       "| 10  | NA        | NA         | 1.40889e9  | NA        | NA         |\n",
       "| 11  | 7.86176e7 | NA         | 1.74889e9  | NA        | NA         |\n",
       "⋮\n",
       "| 44  | 2.37384e9 | 1.24346e11 | 4.58365e9  | 8.39996e8 | 5.65233e9  |\n",
       "| 45  | 2.91691e9 | 1.47824e11 | 5.28546e9  | 8.98356e8 | 7.46445e9  |\n",
       "| 46  | 3.24813e9 | 1.80617e11 | 6.27508e9  | 9.97374e8 | 8.37667e9  |\n",
       "| 47  | 3.53645e9 | 2.22106e11 | 7.0576e9   | 1.13514e9 | 9.13256e9  |\n",
       "| 48  | 4.01079e9 | 2.57916e11 | 9.84384e9  | 1.28925e9 | 1.0701e10  |\n",
       "| 49  | 4.00135e9 | 3.15475e11 | 1.01905e10 | 1.34735e9 | 1.28814e10 |\n",
       "| 50  | 3.64986e9 | 2.53547e11 | 1.24869e10 | 1.20641e9 | 1.20442e10 |\n",
       "| 51  | 3.34632e9 | 2.86049e11 | 1.59368e10 | 1.13554e9 | 1.1927e10  |\n",
       "| 52  | 3.42724e9 | 3.47454e11 | 1.79302e10 | 1.12992e9 | 1.28909e10 |\n",
       "| 53  | 3.14618e9 | 3.72314e11 | 2.05365e10 | 1.20471e9 | 1.23445e10 |\n",
       "| 54  | 3.2491e9  | 4.0234e11  | 2.03109e10 | 1.20059e9 | 1.29167e10 |\n",
       "| 55  | NA        | 4.01647e11 | 2.0842e10  | 1.26912e9 | 1.33702e10 |\n",
       "\n",
       "| Row | AM         | AO         | AR         | AT         | AU         |\n",
       "|-----|------------|------------|------------|------------|------------|\n",
       "| 1   | NA         | NA         | NA         | 6.59269e9  | 1.85743e10 |\n",
       "| 2   | NA         | NA         | NA         | 7.31175e9  | 1.96517e10 |\n",
       "| 3   | NA         | NA         | NA         | 7.75611e9  | 1.98869e10 |\n",
       "| 4   | NA         | NA         | NA         | 8.37418e9  | 2.15007e10 |\n",
       "| 5   | NA         | NA         | NA         | 9.16998e9  | 2.37585e10 |\n",
       "| 6   | NA         | NA         | NA         | 9.99407e9  | 2.59301e10 |\n",
       "| 7   | NA         | NA         | NA         | 1.08877e10 | 2.7255e10  |\n",
       "| 8   | NA         | NA         | NA         | 1.15794e10 | 3.0383e10  |\n",
       "| 9   | NA         | NA         | NA         | 1.24406e10 | 3.26476e10 |\n",
       "| 10  | NA         | NA         | NA         | 1.35828e10 | 3.66122e10 |\n",
       "| 11  | NA         | NA         | NA         | 1.5336e10  | 4.12521e10 |\n",
       "⋮\n",
       "| 44  | 2.80706e9  | 1.41889e10 | 1.29597e11 | 2.60721e11 | 4.66451e11 |\n",
       "| 45  | 3.57662e9  | 1.96409e10 | 1.83296e11 | 2.99857e11 | 6.12872e11 |\n",
       "| 46  | 4.90047e9  | 2.82337e10 | 2.22911e11 | 3.14649e11 | 6.93339e11 |\n",
       "| 47  | 6.38445e9  | 4.17895e10 | 2.63042e11 | 3.34309e11 | 7.47206e11 |\n",
       "| 48  | 9.2063e9   | 6.04489e10 | 3.29761e11 | 3.86459e11 | 8.53441e11 |\n",
       "| 49  | 1.1662e10  | 8.41781e10 | 4.06004e11 | 4.27612e11 | 1.05503e12 |\n",
       "| 50  | 8.64794e9  | 7.54924e10 | 3.78506e11 | 3.97594e11 | 9.26283e11 |\n",
       "| 51  | 9.26028e9  | 8.24709e10 | 4.62844e11 | 3.89679e11 | 1.14127e12 |\n",
       "| 52  | 1.01421e10 | 1.04116e11 | 5.59849e11 | 4.29073e11 | 1.38807e12 |\n",
       "| 53  | 9.95789e9  | 1.15342e11 | 6.07712e11 | 4.07575e11 | 1.53443e12 |\n",
       "| 54  | 1.04312e10 | 1.24163e11 | 6.22058e11 | 4.28322e11 | 1.56037e12 |\n",
       "| 55  | 1.08816e10 | 1.31401e11 | 5.40197e11 | 4.36344e11 | 1.45377e12 |\n",
       "\n",
       "| Row | AW        | AZ         | B8         | BA         | BB        |\n",
       "|-----|-----------|------------|------------|------------|-----------|\n",
       "| 1   | NA        | NA         | NA         | NA         | 8.73831e7 |\n",
       "| 2   | NA        | NA         | NA         | NA         | 9.32164e7 |\n",
       "| 3   | NA        | NA         | NA         | NA         | 9.69498e7 |\n",
       "| 4   | NA        | NA         | NA         | NA         | 1.09083e8 |\n",
       "| 5   | NA        | NA         | NA         | NA         | 1.08383e8 |\n",
       "| 6   | NA        | NA         | NA         | NA         | 1.14683e8 |\n",
       "| 7   | NA        | NA         | NA         | NA         | 1.23608e8 |\n",
       "| 8   | NA        | NA         | NA         | NA         | 1.37104e8 |\n",
       "| 9   | NA        | NA         | NA         | NA         | 1.373e8   |\n",
       "| 10  | NA        | NA         | NA         | NA         | 1.544e8   |\n",
       "| 11  | NA        | NA         | NA         | NA         | 1.815e8   |\n",
       "⋮\n",
       "| 44  | 2.0213e9  | 7.27577e9  | 6.34896e11 | 8.37002e9  | 3.2712e9  |\n",
       "| 45  | 2.22828e9 | 8.68051e9  | 7.60722e11 | 1.00228e10 | 3.5097e9  |\n",
       "| 46  | 2.33101e9 | 1.32454e10 | 8.82426e11 | 1.09036e10 | 3.8915e9  |\n",
       "| 47  | 2.42147e9 | 2.0983e10  | 9.98327e11 | 1.25502e10 | 4.3035e9  |\n",
       "| 48  | 2.62373e9 | 3.30503e10 | 1.25755e12 | 1.54411e10 | 4.546e9   |\n",
       "| 49  | 2.79196e9 | 4.88525e10 | 1.5132e12  | 1.87119e10 | 4.595e9   |\n",
       "| 50  | 2.49893e9 | 4.42915e10 | 1.27083e12 | 1.72649e10 | 4.602e9   |\n",
       "| 51  | 2.4677e9  | 5.29027e10 | 1.30385e12 | 1.68475e10 | 4.4455e9  |\n",
       "| 52  | 2.58446e9 | 6.59516e10 | 1.4351e12  | 1.83184e10 | 4.358e9   |\n",
       "| 53  | NA        | 6.87309e10 | 1.3413e12  | 1.6906e10  | 4.313e9   |\n",
       "| 54  | NA        | 7.35605e10 | 1.41817e12 | 1.78513e10 | 4.281e9   |\n",
       "| 55  | NA        | 7.5198e10  | 1.45784e12 | 1.83443e10 | 4.348e9   |\n",
       "\n",
       "| Row | BD         | BE         | BF         | BG         | BH         |\n",
       "|-----|------------|------------|------------|------------|------------|\n",
       "| 1   | 4.27489e9  | 1.16587e10 | 3.30443e8  | NA         | NA         |\n",
       "| 2   | 4.81758e9  | 1.24001e10 | 3.50247e8  | NA         | NA         |\n",
       "| 3   | 5.08141e9  | 1.3264e10  | 3.79567e8  | NA         | NA         |\n",
       "| 4   | 5.31946e9  | 1.426e10   | 3.94041e8  | NA         | NA         |\n",
       "| 5   | 5.38605e9  | 1.59601e10 | 4.10322e8  | NA         | NA         |\n",
       "| 6   | 5.90664e9  | 1.73715e10 | 4.22917e8  | NA         | NA         |\n",
       "| 7   | 6.43969e9  | 1.86519e10 | 4.3389e8   | NA         | NA         |\n",
       "| 8   | 7.25358e9  | 1.9992e10  | 4.50754e8  | NA         | NA         |\n",
       "| 9   | 7.48369e9  | 2.13764e10 | 4.60443e8  | NA         | NA         |\n",
       "| 10  | 8.47101e9  | 2.37107e10 | 4.78299e8  | NA         | NA         |\n",
       "| 11  | 8.99272e9  | 2.68079e10 | 4.58404e8  | NA         | NA         |\n",
       "⋮\n",
       "| 44  | 6.01589e10 | 3.18573e11 | 4.20569e9  | 2.11014e10 | 1.10751e10 |\n",
       "| 45  | 6.51085e10 | 3.70446e11 | 4.83855e9  | 2.59198e10 | 1.31505e10 |\n",
       "| 46  | 6.94429e10 | 3.86954e11 | 5.46271e9  | 2.93e10    | 1.59687e10 |\n",
       "| 47  | 7.18191e10 | 4.10699e11 | 5.84467e9  | 3.36496e10 | 1.85051e10 |\n",
       "| 48  | 7.96119e10 | 4.72309e11 | 6.77128e9  | 4.36377e10 | 2.173e10   |\n",
       "| 49  | 9.16313e10 | 5.20091e11 | 8.36964e9  | 5.33164e10 | 2.57109e10 |\n",
       "| 50  | 1.02478e11 | 4.85834e11 | 8.36918e9  | 5.01614e10 | 2.29382e10 |\n",
       "| 51  | 1.15279e11 | 4.84433e11 | 8.97997e9  | 4.86691e10 | 2.57133e10 |\n",
       "| 52  | 1.28638e11 | 5.281e11   | 1.07241e10 | 5.57651e10 | 2.90441e10 |\n",
       "| 53  | 1.33356e11 | 4.98746e11 | 1.11661e10 | 5.25916e10 | 3.07565e10 |\n",
       "| 54  | 1.4999e11  | 5.24779e11 | 1.21263e10 | 5.44799e10 | 3.28976e10 |\n",
       "| 55  | 1.73819e11 | 5.33383e11 | 1.2543e10  | 5.57347e10 | 3.3869e10  |\n",
       "\n",
       "| Row | BI        | BJ        | BM        | BN         | BO         |\n",
       "|-----|-----------|-----------|-----------|------------|------------|\n",
       "| 1   | 1.96e8    | 2.26196e8 | 8.44667e7 | NA         | 5.6311e8   |\n",
       "| 2   | 2.03e8    | 2.35668e8 | 8.925e7   | NA         | 6.12519e8  |\n",
       "| 3   | 2.135e8   | 2.36435e8 | 9.415e7   | NA         | 6.69723e8  |\n",
       "| 4   | 2.3275e8  | 2.53928e8 | 9.63667e7 | NA         | 7.21143e8  |\n",
       "| 5   | 2.6075e8  | 2.69819e8 | 1.07567e8 | NA         | 8.12543e8  |\n",
       "| 6   | 1.58995e8 | 2.89909e8 | 1.14339e8 | 1.1404e8   | 9.08875e8  |\n",
       "| 7   | 1.65445e8 | 3.02925e8 | 1.34173e8 | 1.32758e8  | 9.94045e8  |\n",
       "| 8   | 1.78297e8 | 3.06222e8 | 1.55103e8 | 1.3903e8   | 1.08406e9  |\n",
       "| 9   | 1.832e8   | 3.26323e8 | 1.5e8     | 1.60819e8  | 9.08875e8  |\n",
       "| 10  | 1.90206e8 | 3.30748e8 | 1.649e8   | 1.61211e8  | 9.64616e8  |\n",
       "| 11  | 2.42733e8 | 3.33628e8 | 1.863e8   | 1.7908e8   | 1.01717e9  |\n",
       "⋮\n",
       "| 44  | 7.84654e8 | 3.55723e9 | 4.18653e9 | 6.55733e9  | 8.0824e9   |\n",
       "| 45  | 9.15257e8 | 4.05087e9 | 4.4847e9  | 7.87233e9  | 8.77345e9  |\n",
       "| 46  | 1.11726e9 | 4.35802e9 | 4.86814e9 | 9.53142e9  | 9.54912e9  |\n",
       "| 47  | 1.27318e9 | 4.70509e9 | 5.4143e9  | 1.14705e10 | 1.14519e10 |\n",
       "| 48  | 1.35608e9 | 5.51188e9 | 5.89505e9 | 1.22477e10 | 1.31202e10 |\n",
       "| 49  | 1.61163e9 | 6.63346e9 | 6.10993e9 | 1.43934e10 | 1.66743e10 |\n",
       "| 50  | 1.73978e9 | 6.58448e9 | 5.80638e9 | 1.07326e10 | 1.734e10   |\n",
       "| 51  | 2.02686e9 | 6.56178e9 | 5.74441e9 | 1.23705e10 | 1.96496e10 |\n",
       "| 52  | 2.35565e9 | 7.28978e9 | 5.55077e9 | 1.66914e10 | 2.39485e10 |\n",
       "| 53  | 2.47238e9 | 7.54318e9 | 5.53754e9 | 1.6954e10  | 2.70351e10 |\n",
       "| 54  | 2.71451e9 | 8.30722e9 | 5.57371e9 | 1.61111e10 | 3.06012e10 |\n",
       "| 55  | 3.09365e9 | 8.74699e9 | NA        | 1.72568e10 | 3.41758e10 |\n",
       "\n",
       "| Row | BR         | BS        | BT        | BW         | BY         |\n",
       "|-----|------------|-----------|-----------|------------|------------|\n",
       "| 1   | NA         | 1.69802e8 | NA        | 3.04114e7  | NA         |\n",
       "| 2   | NA         | 1.90096e8 | NA        | 3.29026e7  | NA         |\n",
       "| 3   | NA         | 2.12253e8 | NA        | 3.56449e7  | NA         |\n",
       "| 4   | NA         | 2.37743e8 | NA        | 3.80918e7  | NA         |\n",
       "| 5   | NA         | 2.66664e8 | NA        | 4.16164e7  | NA         |\n",
       "| 6   | NA         | 3.00392e8 | NA        | 4.57887e7  | NA         |\n",
       "| 7   | NA         | 3.4e8     | NA        | 5.14656e7  | NA         |\n",
       "| 8   | NA         | 3.90196e8 | NA        | 5.86424e7  | NA         |\n",
       "| 9   | NA         | 4.44902e8 | NA        | 6.62484e7  | NA         |\n",
       "| 10  | NA         | 5.28137e8 | NA        | 7.73615e7  | NA         |\n",
       "| 11  | NA         | 5.38423e8 | NA        | 9.62433e7  | NA         |\n",
       "⋮\n",
       "| 44  | 5.59008e11 | 6.94932e9 | 6.22026e8 | 7.51154e9  | 1.78254e10 |\n",
       "| 45  | 6.69643e11 | 7.09441e9 | 7.02682e8 | 8.95749e9  | 2.31416e10 |\n",
       "| 46  | 8.92107e11 | 7.70622e9 | 8.1887e8  | 9.93122e9  | 3.02101e10 |\n",
       "| 47  | 1.10779e12 | 7.96559e9 | 8.97732e8 | 1.00892e10 | 3.69618e10 |\n",
       "| 48  | 1.39597e12 | 8.319e9   | 1.19609e9 | 1.09391e10 | 4.52757e10 |\n",
       "| 49  | 1.69462e12 | 8.24665e9 | 1.25833e9 | 1.09451e10 | 6.07522e10 |\n",
       "| 50  | 1.66456e12 | 7.82042e9 | 1.26476e9 | 1.02671e10 | 4.92087e10 |\n",
       "| 51  | 2.2094e12  | 7.90958e9 | 1.58547e9 | 1.27867e10 | 5.52209e10 |\n",
       "| 52  | 2.61519e12 | 7.88975e9 | 1.82021e9 | 1.56829e10 | 5.97346e10 |\n",
       "| 53  | 2.41317e12 | 8.23447e9 | 1.82369e9 | 1.47924e10 | 6.36154e10 |\n",
       "| 54  | 2.39209e12 | 8.43175e9 | 1.78126e9 | 1.49793e10 | 7.30976e10 |\n",
       "| 55  | 2.34612e12 | 8.5105e9  | 1.82141e9 | 1.58134e10 | 7.61393e10 |\n",
       "\n",
       "| Row | BZ        | CA         | CD         | CF        | CG         |\n",
       "|-----|-----------|------------|------------|-----------|------------|\n",
       "| 1   | 2.80725e7 | 4.10935e10 | NA         | 1.12156e8 | 1.31732e8  |\n",
       "| 2   | 2.9965e7  | 4.0768e10  | NA         | 1.23135e8 | 1.51676e8  |\n",
       "| 3   | 3.18576e7 | 4.19789e10 | NA         | 1.24483e8 | 1.66521e8  |\n",
       "| 4   | 3.37501e7 | 4.46572e10 | NA         | 1.29379e8 | 1.72233e8  |\n",
       "| 5   | 3.61946e7 | 4.88829e10 | NA         | 1.42025e8 | 1.85694e8  |\n",
       "| 6   | 4.00699e7 | 5.39096e10 | NA         | 1.50575e8 | 1.98318e8  |\n",
       "| 7   | 4.44056e7 | 6.03586e10 | NA         | 1.5793e8  | 2.20614e8  |\n",
       "| 8   | 4.73793e7 | 6.47688e10 | NA         | 1.63821e8 | 2.37397e8  |\n",
       "| 9   | 4.49102e7 | 7.0759e10  | NA         | 1.91767e8 | 2.51247e8  |\n",
       "| 10  | 4.73054e7 | 7.78875e10 | NA         | 1.88039e8 | 2.6504e8   |\n",
       "| 11  | 5.32335e7 | 8.77623e10 | NA         | 1.89107e8 | 2.74961e8  |\n",
       "⋮\n",
       "| 44  | 9.9035e8  | 8.87752e11 | 8.93757e9  | 1.13975e9 | 3.49587e9  |\n",
       "| 45  | 1.05785e9 | 1.0184e12  | 1.02975e10 | 1.27008e9 | 4.64863e9  |\n",
       "| 46  | 1.1142e9  | 1.16414e12 | 1.19645e10 | 1.3503e9  | 6.087e9    |\n",
       "| 47  | 1.21744e9 | 1.31075e12 | 1.42965e10 | 1.47372e9 | 7.73126e9  |\n",
       "| 48  | 1.29054e9 | 1.45787e12 | 1.6364e10  | 1.69813e9 | 8.39469e9  |\n",
       "| 49  | 1.36863e9 | 1.54262e12 | 1.92061e10 | 1.98537e9 | 1.1859e10  |\n",
       "| 50  | 1.33696e9 | 1.37084e12 | 1.82628e10 | 1.98173e9 | 9.59354e9  |\n",
       "| 51  | 1.39711e9 | 1.61401e12 | 2.05233e10 | 1.98601e9 | 1.20079e10 |\n",
       "| 52  | 1.48701e9 | 1.7888e12  | 2.3849e10  | 2.1956e9  | 1.44256e10 |\n",
       "| 53  | 1.57387e9 | 1.83272e12 | 2.74632e10 | 2.16971e9 | 1.36779e10 |\n",
       "| 54  | 1.62429e9 | 1.83896e12 | 3.00149e10 | 1.54463e9 | 1.40859e10 |\n",
       "| 55  | NA        | 1.78666e12 | 3.29623e10 | 1.78293e9 | 1.41355e10 |\n",
       "\n",
       "| Row | CH         | CI         | CL         | CM         | CN         |\n",
       "|-----|------------|------------|------------|------------|------------|\n",
       "| 1   | 9.52275e9  | 5.46204e8  | 4.21176e9  | 6.18741e8  | 5.91841e10 |\n",
       "| 2   | 1.07127e10 | 6.18246e8  | 4.70538e9  | 6.57597e8  | 4.95571e10 |\n",
       "| 3   | 1.188e10   | 6.45284e8  | 5.50276e9  | 6.99374e8  | 4.66852e10 |\n",
       "| 4   | 1.30636e10 | 7.61047e8  | 5.48275e9  | 7.23624e8  | 5.00973e10 |\n",
       "| 5   | 1.44806e10 | 9.21063e8  | 5.7943e9   | 7.82384e8  | 5.90623e10 |\n",
       "| 6   | 1.53467e10 | 9.19771e8  | 6.05379e9  | 8.1414e8   | 6.97092e10 |\n",
       "| 7   | 1.64801e10 | 1.0241e9   | 7.01358e9  | 8.53269e8  | 7.58794e10 |\n",
       "| 8   | 1.774e10   | 1.08292e9  | 6.91356e9  | 9.34079e8  | 7.2057e10  |\n",
       "| 9   | 1.89427e10 | 1.28128e9  | 7.07482e9  | 1.05308e9  | 6.99935e10 |\n",
       "| 10  | 2.05249e10 | 1.36136e9  | 8.17977e9  | 1.15242e9  | 7.87188e10 |\n",
       "| 11  | NA         | 1.45548e9  | 8.98111e9  | 1.16e9     | 9.15062e10 |\n",
       "⋮\n",
       "| 44  | 3.51983e11 | 1.53066e10 | 7.78402e10 | 1.36217e10 | 1.64992e12 |\n",
       "| 45  | 3.93542e11 | 1.65544e10 | 1.00631e11 | 1.57754e10 | 1.94175e12 |\n",
       "| 46  | 4.07536e11 | 1.70849e10 | 1.24404e11 | 1.65879e10 | 2.26859e12 |\n",
       "| 47  | 4.29196e11 | 1.78009e10 | 1.54671e11 | 1.79531e10 | 2.72978e12 |\n",
       "| 48  | 4.77408e11 | 2.03436e10 | 1.73081e11 | 2.04318e10 | 3.52309e12 |\n",
       "| 49  | 5.51547e11 | 2.42249e10 | 1.79627e11 | 2.33223e10 | 4.55843e12 |\n",
       "| 50  | 5.39528e11 | 2.42775e10 | 1.71957e11 | 2.33811e10 | 5.05942e12 |\n",
       "| 51  | 5.81212e11 | 2.48845e10 | 2.17538e11 | 2.36225e10 | 6.03966e12 |\n",
       "| 52  | 6.96312e11 | 2.53816e10 | 2.50832e11 | 2.65873e10 | 7.49243e12 |\n",
       "| 53  | 6.66101e11 | 2.70406e10 | 2.65232e11 | 2.64721e10 | 8.46162e12 |\n",
       "| 54  | 6.85434e11 | 3.12926e10 | 2.76674e11 | 2.95675e10 | 9.4906e12  |\n",
       "| 55  | NA         | 3.42536e10 | 2.58062e11 | 3.25486e10 | 1.03601e13 |\n",
       "\n",
       "| Row | CO         | CR         | CU         | CV        | CY         |\n",
       "|-----|------------|------------|------------|-----------|------------|\n",
       "| 1   | 4.04095e9  | 5.07517e8  | NA         | NA        | NA         |\n",
       "| 2   | 4.55291e9  | 4.90324e8  | NA         | NA        | NA         |\n",
       "| 3   | 4.9686e9   | 4.79181e8  | NA         | NA        | NA         |\n",
       "| 4   | 4.83884e9  | 5.11903e8  | NA         | NA        | NA         |\n",
       "| 5   | 5.99217e9  | 5.42579e8  | NA         | NA        | NA         |\n",
       "| 6   | 5.79025e9  | 5.92981e8  | NA         | NA        | NA         |\n",
       "| 7   | 5.45276e9  | 6.47306e8  | NA         | NA        | NA         |\n",
       "| 8   | 5.72721e9  | 6.99457e8  | NA         | NA        | NA         |\n",
       "| 9   | 5.91847e9  | 7.73841e8  | NA         | NA        | NA         |\n",
       "| 10  | 6.40544e9  | 8.5363e8   | NA         | NA        | NA         |\n",
       "| 11  | 7.19837e9  | 9.8483e8   | 5.69301e9  | NA        | NA         |\n",
       "⋮\n",
       "| 44  | 9.46846e10 | 1.75175e10 | 3.59015e10 | 8.13964e8 | 1.44452e10 |\n",
       "| 45  | 1.17075e11 | 1.85964e10 | 3.82028e10 | 9.24319e8 | 1.71646e10 |\n",
       "| 46  | 1.46566e11 | 1.99649e10 | 4.26442e10 | 9.71977e8 | 1.827e10   |\n",
       "| 47  | 1.6259e11  | 2.25265e10 | 5.27421e10 | 1.10789e9 | 1.98669e10 |\n",
       "| 48  | 2.07416e11 | 2.6322e10  | 5.86035e10 | 1.51393e9 | 2.3716e10  |\n",
       "| 49  | 2.43982e11 | 2.98379e10 | 6.08063e10 | 1.78933e9 | 2.74931e10 |\n",
       "| 50  | 2.33822e11 | 2.93827e10 | 6.20786e10 | 1.71182e9 | 2.55933e10 |\n",
       "| 51  | 2.87018e11 | 3.62983e10 | 6.43282e10 | 1.66431e9 | 2.52474e10 |\n",
       "| 52  | 3.35415e11 | 4.12373e10 | 6.89901e10 | 1.86482e9 | 2.70892e10 |\n",
       "| 53  | 3.6966e11  | 4.53007e10 | 7.31391e10 | 1.75189e9 | 2.49406e10 |\n",
       "| 54  | 3.80063e11 | 4.92367e10 | 7.71497e10 | 1.83791e9 | 2.40573e10 |\n",
       "| 55  | 3.7774e11  | 4.95526e10 | NA         | 1.87119e9 | 2.32262e10 |\n",
       "\n",
       "| Row | CZ         | DE         | DJ        | DK         | DM        |\n",
       "|-----|------------|------------|-----------|------------|-----------|\n",
       "| 1   | NA         | NA         | NA        | 6.24895e9  | NA        |\n",
       "| 2   | NA         | NA         | NA        | 6.93384e9  | NA        |\n",
       "| 3   | NA         | NA         | NA        | 7.81297e9  | NA        |\n",
       "| 4   | NA         | NA         | NA        | 8.31669e9  | NA        |\n",
       "| 5   | NA         | NA         | NA        | 9.50668e9  | NA        |\n",
       "| 6   | NA         | NA         | NA        | 1.06789e10 | NA        |\n",
       "| 7   | NA         | NA         | NA        | 1.17212e10 | NA        |\n",
       "| 8   | NA         | NA         | NA        | 1.27885e10 | NA        |\n",
       "| 9   | NA         | NA         | NA        | 1.31965e10 | NA        |\n",
       "| 10  | NA         | NA         | NA        | 1.50094e10 | NA        |\n",
       "| 11  | NA         | 2.15022e11 | NA        | 1.68662e10 | NA        |\n",
       "⋮\n",
       "| 44  | 9.93003e10 | 2.50231e12 | 6.22045e8 | 2.18096e11 | 3.50091e8 |\n",
       "| 45  | 1.18976e11 | 2.81547e12 | 6.66072e8 | 2.51243e11 | 3.74771e8 |\n",
       "| 46  | 1.3599e11  | 2.85763e12 | 7.08633e8 | 2.6456e11  | 3.7037e8  |\n",
       "| 47  | 1.55213e11 | 2.99862e12 | 7.68874e8 | 2.82961e11 | 3.97778e8 |\n",
       "| 48  | 1.88818e11 | 3.43568e12 | 8.47919e8 | 3.195e11   | 4.28889e8 |\n",
       "| 49  | 2.35205e11 | 3.74692e12 | 9.99105e8 | 3.52592e11 | 4.68889e8 |\n",
       "| 50  | 2.0573e11  | 3.41298e12 | 1.199e9   | 3.19762e11 | 4.98889e8 |\n",
       "| 51  | 2.07016e11 | 3.41221e12 | 1.12861e9 | 3.19811e11 | 4.92963e8 |\n",
       "| 52  | 2.27307e11 | 3.75188e12 | 1.23914e9 | 3.41499e11 | 5.08519e8 |\n",
       "| 53  | 2.06751e11 | 3.53324e12 | 1.35363e9 | 3.22277e11 | 5.14815e8 |\n",
       "| 54  | 2.08796e11 | 3.73026e12 | 1.45634e9 | 3.35878e11 | 5.16667e8 |\n",
       "| 55  | 2.05523e11 | 3.85256e12 | 1.58152e9 | 3.41952e11 | 5.37778e8 |\n",
       "\n",
       "| Row | DO         | DZ         | EC         | EE         | EG         |\n",
       "|-----|------------|------------|------------|------------|------------|\n",
       "| 1   | 6.724e8    | 2.72364e9  | 1.01033e9  | NA         | NA         |\n",
       "| 2   | 6.541e8    | 2.43477e9  | 9.79109e8  | NA         | NA         |\n",
       "| 3   | 8.241e8    | 2.00146e9  | 9.58598e8  | NA         | NA         |\n",
       "| 4   | 9.408e8    | 2.703e9    | 1.03839e9  | NA         | NA         |\n",
       "| 5   | 1.0256e9   | 2.90934e9  | 1.15615e9  | NA         | NA         |\n",
       "| 6   | 8.881e8    | 3.13628e9  | 2.38705e9  | NA         | 5.11162e9  |\n",
       "| 7   | 9.839e8    | 3.03986e9  | 2.42931e9  | NA         | 5.33952e9  |\n",
       "| 8   | 1.0348e9   | 3.37087e9  | 2.5536e9   | NA         | 5.57917e9  |\n",
       "| 9   | 1.0791e9   | 3.85215e9  | 2.58218e9  | NA         | 6.10911e9  |\n",
       "| 10  | 1.2305e9   | 4.25725e9  | 3.11217e9  | NA         | 6.86174e9  |\n",
       "| 11  | 1.4854e9   | 4.86349e9  | 2.8625e9   | NA         | 7.68249e9  |\n",
       "⋮\n",
       "| 44  | 2.1268e10  | 6.78638e10 | 3.24329e10 | 9.82215e9  | 8.29237e10 |\n",
       "| 45  | 2.21639e10 | 8.5325e10  | 3.65917e10 | 1.20576e10 | 7.88452e10 |\n",
       "| 46  | 3.3431e10  | 1.03198e11 | 4.15071e10 | 1.40035e10 | 8.96857e10 |\n",
       "| 47  | 3.57795e10 | 1.17027e11 | 4.6802e10  | 1.6959e10  | 1.07484e11 |\n",
       "| 48  | 4.36857e10 | 1.34977e11 | 5.10078e10 | 2.22298e10 | 1.30479e11 |\n",
       "| 49  | 4.75236e10 | 1.71001e11 | 6.17626e10 | 2.41849e10 | 1.62818e11 |\n",
       "| 50  | 4.78891e10 | 1.37211e11 | 6.25197e10 | 1.96418e10 | 1.88982e11 |\n",
       "| 51  | 5.3043e10  | 1.61207e11 | 6.95554e10 | 1.94823e10 | 2.18888e11 |\n",
       "| 52  | 5.80261e10 | 1.99071e11 | 7.92767e10 | 2.28021e10 | 2.36002e11 |\n",
       "| 53  | 6.04414e10 | 2.04331e11 | 8.76234e10 | 2.26607e10 | 2.62824e11 |\n",
       "| 54  | 6.11983e10 | 2.10183e11 | 9.44727e10 | 2.48803e10 | 2.71973e11 |\n",
       "| 55  | 6.3969e10  | 2.14063e11 | 1.00543e11 | 2.59049e10 | 2.86538e11 |\n",
       "\n",
       "| Row | ER        | ES         | ET         | EU         | F1         |\n",
       "|-----|-----------|------------|------------|------------|------------|\n",
       "| 1   | NA        | 1.20721e10 | NA         | 3.59243e11 | NA         |\n",
       "| 2   | NA        | 1.38343e10 | NA         | 3.9112e11  | NA         |\n",
       "| 3   | NA        | 1.61385e10 | NA         | 4.27269e11 | NA         |\n",
       "| 4   | NA        | 1.90749e10 | NA         | 4.70695e11 | NA         |\n",
       "| 5   | NA        | 2.13438e10 | NA         | 5.21639e11 | NA         |\n",
       "| 6   | NA        | 2.4757e10  | NA         | 5.68071e11 | NA         |\n",
       "| 7   | NA        | 2.87211e10 | NA         | 6.15805e11 | NA         |\n",
       "| 8   | NA        | 3.16471e10 | NA         | 6.61726e11 | NA         |\n",
       "| 9   | NA        | 3.14755e10 | NA         | 6.87795e11 | NA         |\n",
       "| 10  | NA        | 3.60387e10 | NA         | 7.55435e11 | NA         |\n",
       "| 11  | NA        | 4.08816e10 | NA         | 8.55525e11 | NA         |\n",
       "⋮\n",
       "| 44  | 8.70248e8 | 9.06853e11 | 8.62369e9  | 1.18561e13 | 2.1702e11  |\n",
       "| 45  | 1.10905e9 | 1.06956e12 | 1.01312e10 | 1.3692e13  | 2.49028e11 |\n",
       "| 46  | 1.09842e9 | 1.15728e12 | 1.24011e10 | 1.43153e13 | 3.0139e11  |\n",
       "| 47  | 1.21116e9 | 1.26455e12 | 1.52809e10 | 1.52772e13 | 3.52865e11 |\n",
       "| 48  | 1.31797e9 | 1.47934e12 | 1.97076e10 | 1.76661e13 | 4.39049e11 |\n",
       "| 49  | 1.38019e9 | 1.63499e12 | 2.70669e10 | 1.90128e13 | 5.56819e11 |\n",
       "| 50  | 1.8567e9  | 1.49907e12 | 3.24374e10 | 1.70054e13 | 5.10081e11 |\n",
       "| 51  | 2.11704e9 | 1.43167e12 | 2.99338e10 | 1.69378e13 | 5.92413e11 |\n",
       "| 52  | 2.60774e9 | 1.49451e12 | 3.19528e10 | 1.831e13   | 6.29057e11 |\n",
       "| 53  | 3.09197e9 | 1.35573e12 | 4.33107e10 | 1.72322e13 | 7.23022e11 |\n",
       "| 54  | 3.4441e9  | 1.39304e12 | 4.75247e10 | 1.79501e13 | 7.30385e11 |\n",
       "| 55  | 3.85782e9 | 1.40431e12 | 5.47977e10 | 1.84606e13 | 7.2014e11  |\n",
       "\n",
       "| Row | FI         | FJ        | FM        | FO        | FR         |\n",
       "|-----|------------|-----------|-----------|-----------|------------|\n",
       "| 1   | 5.2241e9   | 1.12334e8 | NA        | NA        | 6.26515e10 |\n",
       "| 2   | 5.92166e9  | 1.16994e8 | NA        | NA        | 6.83467e10 |\n",
       "| 3   | 6.34058e9  | 1.22913e8 | NA        | NA        | 7.63138e10 |\n",
       "| 4   | 6.88592e9  | 1.29462e8 | NA        | NA        | 8.55511e10 |\n",
       "| 5   | 7.76666e9  | 1.4004e8  | NA        | NA        | 9.49066e10 |\n",
       "| 6   | 8.58934e9  | 1.47085e8 | NA        | NA        | 1.02161e11 |\n",
       "| 7   | 9.20852e9  | 1.50604e8 | NA        | NA        | 1.10597e11 |\n",
       "| 8   | 9.36895e9  | 1.62626e8 | NA        | NA        | 1.19466e11 |\n",
       "| 9   | 8.82303e9  | 1.66953e8 | NA        | NA        | 1.29847e11 |\n",
       "| 10  | 1.00708e10 | 1.82182e8 | NA        | NA        | 1.40725e11 |\n",
       "| 11  | 1.13659e10 | 2.19878e8 | NA        | NA        | 1.48949e11 |\n",
       "⋮\n",
       "| 44  | 1.71071e11 | 2.31594e9 | 2.44991e8 | 1.48686e9 | 1.84812e12 |\n",
       "| 45  | 1.96768e11 | 2.72751e9 | 2.39563e8 | 1.684e9   | 2.12411e12 |\n",
       "| 46  | 2.04436e11 | 3.00678e9 | 2.49846e8 | 1.73089e9 | 2.20368e12 |\n",
       "| 47  | 2.16553e11 | 3.10277e9 | 2.52991e8 | 1.97014e9 | 2.32501e12 |\n",
       "| 48  | 2.55385e11 | 3.40509e9 | 2.55891e8 | 2.27823e9 | 2.66311e12 |\n",
       "| 49  | 2.83742e11 | 3.52317e9 | 2.6134e8  | 2.41324e9 | 2.92347e12 |\n",
       "| 50  | 2.51499e11 | 2.87061e9 | 2.77511e8 | 2.2571e9  | 2.69383e12 |\n",
       "| 51  | 2.47815e11 | 3.1405e9  | 2.94117e8 | 2.30118e9 | 2.64699e12 |\n",
       "| 52  | 2.73657e11 | 3.64643e9 | 3.10288e8 | 2.46875e9 | 2.8625e12  |\n",
       "| 53  | 2.56706e11 | 3.84984e9 | 3.26161e8 | 2.35651e9 | 2.68142e12 |\n",
       "| 54  | 2.68197e11 | 3.85504e9 | 3.16246e8 | 2.61346e9 | 2.81025e12 |\n",
       "| 55  | 2.70674e11 | 4.02999e9 | NA        | NA        | 2.82919e12 |\n",
       "\n",
       "| Row | GA         | GB         | GD        | GE         | GH         |\n",
       "|-----|------------|------------|-----------|------------|------------|\n",
       "| 1   | 1.41469e8  | 7.2328e10  | NA        | NA         | 1.21726e9  |\n",
       "| 2   | 1.67638e8  | 7.66944e10 | NA        | NA         | 1.3027e9   |\n",
       "| 3   | 1.82797e8  | 8.06019e10 | NA        | NA         | 1.38255e9  |\n",
       "| 4   | 1.5448e8   | 8.54438e10 | NA        | NA         | 1.54083e9  |\n",
       "| 5   | 2.1568e8   | 9.33876e10 | NA        | NA         | 1.73133e9  |\n",
       "| 6   | 2.26474e8  | 1.00596e11 | NA        | NA         | 2.05351e9  |\n",
       "| 7   | 2.4585e8   | 1.07091e11 | NA        | NA         | 2.12635e9  |\n",
       "| 8   | 2.71544e8  | 1.11185e11 | NA        | NA         | 1.74721e9  |\n",
       "| 9   | 2.94469e8  | 1.04703e11 | NA        | NA         | 1.66683e9  |\n",
       "| 10  | 3.18125e8  | 1.12677e11 | NA        | NA         | 1.96196e9  |\n",
       "| 11  | 3.23802e8  | 1.30672e11 | NA        | NA         | 2.21492e9  |\n",
       "⋮\n",
       "| 44  | 6.49731e9  | 1.94371e12 | 5.91018e8 | 3.99137e9  | 7.63272e9  |\n",
       "| 45  | 7.75629e9  | 2.29804e12 | 5.99119e8 | 5.12527e9  | 8.88142e9  |\n",
       "| 46  | 9.45888e9  | 2.41211e12 | 6.9537e8  | 6.41094e9  | 1.07319e10 |\n",
       "| 47  | 1.0154e10  | 2.58275e12 | 6.98519e8 | 7.74541e9  | 2.04093e10 |\n",
       "| 48  | 1.2439e10  | 2.9631e12  | 7.58519e8 | 1.01729e10 | 2.47588e10 |\n",
       "| 49  | 1.55086e10 | 2.79168e12 | 8.25926e8 | 1.2795e10  | 2.85269e10 |\n",
       "| 50  | 1.21522e10 | 2.309e12   | 7.71111e8 | 1.07668e10 | 2.59778e10 |\n",
       "| 51  | 1.44761e10 | 2.40786e12 | 7.71111e8 | 1.16385e10 | 3.21748e10 |\n",
       "| 52  | 1.78309e10 | 2.59202e12 | 7.78519e8 | 1.44346e10 | 3.95663e10 |\n",
       "| 53  | 1.7685e10  | 2.61495e12 | 8.0e8     | 1.58465e10 | 4.19397e10 |\n",
       "| 54  | 1.72051e10 | 2.67817e12 | 8.35556e8 | 1.614e10   | 4.85847e10 |\n",
       "| 55  | 1.72284e10 | 2.94189e12 | 8.82222e8 | 1.653e10   | 3.86482e10 |\n",
       "\n",
       "| Row | GL        | GM        | GN        | GQ         | GR         |\n",
       "|-----|-----------|-----------|-----------|------------|------------|\n",
       "| 1   | NA        | NA        | NA        | NA         | 4.44653e9  |\n",
       "| 2   | NA        | NA        | NA        | NA         | 5.01605e9  |\n",
       "| 3   | NA        | NA        | NA        | 9.12275e6  | 5.32757e9  |\n",
       "| 4   | NA        | NA        | NA        | 1.08401e7  | 5.94948e9  |\n",
       "| 5   | NA        | NA        | NA        | 1.27125e7  | 6.6803e9   |\n",
       "| 6   | NA        | NA        | NA        | 6.47483e7  | 7.60058e9  |\n",
       "| 7   | NA        | 4.42121e7 | NA        | 6.911e7    | 8.45561e9  |\n",
       "| 8   | NA        | 4.6695e7  | NA        | 7.23174e7  | 9.13671e9  |\n",
       "| 9   | NA        | 4.11601e7 | NA        | 6.75143e7  | 9.91514e9  |\n",
       "| 10  | NA        | 4.51681e7 | NA        | 6.72257e7  | 1.12661e10 |\n",
       "| 11  | 6.952e7   | 5.22961e7 | NA        | 6.63314e7  | 1.31886e10 |\n",
       "⋮\n",
       "| 44  | 1.42645e9 | 4.87039e8 | 3.44644e9 | 2.48475e9  | 2.01547e11 |\n",
       "| 45  | 1.64495e9 | 5.78786e8 | 3.66635e9 | 4.41076e9  | 2.39649e11 |\n",
       "| 46  | 1.70254e9 | 6.24174e8 | 2.93707e9 | 8.21737e9  | 2.47672e11 |\n",
       "| 47  | 1.73843e9 | 6.55068e8 | 2.93163e9 | 8.08198e9  | 2.73279e11 |\n",
       "| 48  | 2.12176e9 | 7.9887e8  | 4.13417e9 | 1.01935e10 | 3.18685e11 |\n",
       "| 49  | 1.73958e9 | 9.65771e8 | 4.51582e9 | 1.5436e10  | 3.54616e11 |\n",
       "| 50  | 1.26771e9 | 9.00641e8 | 4.60992e9 | 9.33861e9  | 3.29857e11 |\n",
       "| 51  | NA        | 9.51827e8 | 4.73596e9 | 1.15644e10 | 2.99615e11 |\n",
       "| 52  | NA        | 9.04256e8 | 5.06736e9 | 1.57113e10 | 2.88785e11 |\n",
       "| 53  | NA        | 9.12428e8 | 5.66723e9 | 1.64858e10 | 2.49525e11 |\n",
       "| 54  | NA        | 8.91246e8 | 6.23173e9 | 1.55803e10 | 2.42231e11 |\n",
       "| 55  | NA        | 8.07069e8 | 6.62407e9 | 1.43081e10 | 2.37592e11 |\n",
       "\n",
       "| Row | GT         | GW        | GY        | HK         | HN         |\n",
       "|-----|------------|-----------|-----------|------------|------------|\n",
       "| 1   | 1.0436e9   | NA        | 1.70216e8 | 1.3208e9   | 3.3565e8   |\n",
       "| 2   | 1.0767e9   | NA        | 1.8585e8  | 1.53075e9  | 3.562e8    |\n",
       "| 3   | 1.1436e9   | NA        | 1.9495e8  | 1.72485e9  | 3.8775e8   |\n",
       "| 4   | 1.2628e9   | NA        | 1.75758e8 | 1.97505e9  | 4.102e8    |\n",
       "| 5   | 1.2991e9   | NA        | 1.94775e8 | 2.27471e9  | 4.57e8     |\n",
       "| 6   | 1.3314e9   | NA        | 2.13235e8 | 2.43508e9  | 5.0865e8   |\n",
       "| 7   | 1.3907e9   | NA        | 2.28706e8 | 2.48985e9  | 5.4995e8   |\n",
       "| 8   | 1.4535e9   | NA        | 2.50176e8 | 2.69247e9  | 5.981e8    |\n",
       "| 9   | 1.6105e9   | NA        | 2.2975e8  | 2.71696e9  | 6.468e8    |\n",
       "| 10  | 1.7154e9   | NA        | 2.493e8   | 3.18974e9  | 6.68e8     |\n",
       "| 11  | 1.904e9    | 7.87336e7 | 2.678e8   | 3.80077e9  | 7.23e8     |\n",
       "⋮\n",
       "| 44  | 2.19176e10 | 4.76388e8 | 7.41929e8 | 1.61385e11 | 8.14029e9  |\n",
       "| 45  | 2.39653e10 | 5.31109e8 | 7.85919e8 | 1.691e11   | 8.7722e9   |\n",
       "| 46  | 2.72112e10 | 5.86792e8 | 8.24881e8 | 1.81569e11 | 9.67201e9  |\n",
       "| 47  | 3.02312e10 | 5.9183e8  | 1.45845e9 | 1.93535e11 | 1.08417e10 |\n",
       "| 48  | 3.41131e10 | 6.95606e8 | 1.74033e9 | 2.11597e11 | 1.22755e10 |\n",
       "| 49  | 3.91365e10 | 8.64108e8 | 1.9226e9  | 2.19279e11 | 1.37897e10 |\n",
       "| 50  | 3.77337e10 | 8.25797e8 | 2.02557e9 | 2.14048e11 | 1.45875e10 |\n",
       "| 51  | 4.1338e10  | 8.47491e8 | 2.25929e9 | 2.28639e11 | 1.58393e10 |\n",
       "| 52  | 4.76548e10 | 1.10365e9 | 2.5766e9  | 2.48514e11 | 1.77103e10 |\n",
       "| 53  | 5.03885e10 | 9.58858e8 | 2.85115e9 | 2.62629e11 | 1.85286e10 |\n",
       "| 54  | 5.38512e10 | 9.4663e8  | 2.99001e9 | 2.75743e11 | 1.84964e10 |\n",
       "| 55  | 5.87282e10 | 1.02237e9 | 3.22837e9 | 2.90896e11 | 1.93853e10 |\n",
       "\n",
       "| Row | HR         | HT        | HU         | ID         | IE         |\n",
       "|-----|------------|-----------|------------|------------|------------|\n",
       "| 1   | NA         | NA        | NA         | NA         | 1.93933e9  |\n",
       "| 2   | NA         | NA        | NA         | NA         | 2.08801e9  |\n",
       "| 3   | NA         | NA        | NA         | NA         | 2.26035e9  |\n",
       "| 4   | NA         | NA        | NA         | NA         | 2.43084e9  |\n",
       "| 5   | NA         | NA        | NA         | NA         | 2.76661e9  |\n",
       "| 6   | NA         | NA        | NA         | NA         | 2.9457e9   |\n",
       "| 7   | NA         | NA        | NA         | NA         | 3.10403e9  |\n",
       "| 8   | NA         | NA        | NA         | 5.98084e9  | 3.34364e9  |\n",
       "| 9   | NA         | NA        | NA         | 7.46736e9  | 3.27858e9  |\n",
       "| 10  | NA         | NA        | NA         | 8.79896e9  | 3.78708e9  |\n",
       "| 11  | NA         | NA        | NA         | 9.65674e9  | 4.39161e9  |\n",
       "⋮\n",
       "| 44  | 3.46581e10 | 2.96031e9 | 8.47384e10 | 2.34772e11 | 1.63476e11 |\n",
       "| 45  | 4.15745e10 | 3.53772e9 | 1.03157e11 | 2.56837e11 | 1.93035e11 |\n",
       "| 46  | 4.54161e10 | 4.31036e9 | 1.1189e11  | 2.85869e11 | 2.10363e11 |\n",
       "| 47  | 5.04363e10 | 4.75729e9 | 1.14238e11 | 3.64571e11 | 2.30535e11 |\n",
       "| 48  | 6.0082e10  | 5.88532e9 | 1.3858e11  | 4.32217e11 | 2.69297e11 |\n",
       "| 49  | 7.04529e10 | 6.54853e9 | 1.56579e11 | 5.10229e11 | 2.73722e11 |\n",
       "| 50  | 6.26367e10 | 6.58464e9 | 1.2936e11  | 5.3958e11  | 2.33557e11 |\n",
       "| 51  | 5.96655e10 | 6.62254e9 | 1.29583e11 | 7.55094e11 | 2.18448e11 |\n",
       "| 52  | 6.22368e10 | 7.51683e9 | 1.3944e11  | 8.92969e11 | 2.37757e11 |\n",
       "| 53  | 5.64853e10 | 7.89022e9 | 1.26825e11 | 9.1787e11  | 2.21966e11 |\n",
       "| 54  | 5.78687e10 | 8.45273e9 | 1.33424e11 | 9.10479e11 | 2.32077e11 |\n",
       "| 55  | 5.72226e10 | 8.71303e9 | 1.37104e11 | 8.88538e11 | 2.45921e11 |\n",
       "\n",
       "| Row | IL         | IM        | IN         | IQ         | IR         |\n",
       "|-----|------------|-----------|------------|------------|------------|\n",
       "| 1   | 2.88722e9  | NA        | 3.76793e10 | 1.68392e9  | NA         |\n",
       "| 2   | 3.48722e9  | NA        | 3.99205e10 | 1.83148e9  | NA         |\n",
       "| 3   | 2.59655e9  | NA        | 4.29009e10 | 1.9544e9   | NA         |\n",
       "| 4   | 2.99233e9  | NA        | 4.92711e10 | 1.9782e9   | NA         |\n",
       "| 5   | 3.40533e9  | NA        | 5.74708e10 | 2.34024e9  | NA         |\n",
       "| 6   | 3.66333e9  | NA        | 6.05993e10 | NA         | 6.15474e9  |\n",
       "| 7   | 3.98e9     | NA        | 4.66698e10 | NA         | 6.7061e9   |\n",
       "| 8   | 3.92112e9  | NA        | 5.10142e10 | NA         | 7.42539e9  |\n",
       "| 9   | 3.95914e9  | NA        | 5.40164e10 | 2.89695e9  | 8.4479e9   |\n",
       "| 10  | 4.568e9    | NA        | 5.9473e10  | 3.00812e9  | 9.48234e9  |\n",
       "| 11  | 5.37229e9  | NA        | 6.35172e10 | 3.28171e9  | 1.05881e10 |\n",
       "⋮\n",
       "| 44  | 1.25467e11 | 2.26491e9 | 6.18356e11 | NA         | 1.3541e11  |\n",
       "| 45  | 1.34021e11 | 2.75812e9 | 7.21586e11 | 3.66279e10 | 1.63227e11 |\n",
       "| 46  | 1.41222e11 | 2.97117e9 | 8.34215e11 | 4.99549e10 | 1.92015e11 |\n",
       "| 47  | 1.52231e11 | 3.3444e9  | 9.49117e11 | 6.51403e10 | 2.42515e11 |\n",
       "| 48  | 1.76675e11 | 4.06237e9 | 1.2387e12  | 8.884e10   | 3.0749e11  |\n",
       "| 49  | 2.13919e11 | NA        | 1.2241e12  | 1.31614e11 | 3.55988e11 |\n",
       "| 50  | 2.06477e11 | NA        | 1.36537e12 | 1.11661e11 | 3.62661e11 |\n",
       "| 51  | 2.3291e11  | NA        | 1.70846e12 | 1.38517e11 | 4.22568e11 |\n",
       "| 52  | 2.58408e11 | NA        | 1.83581e12 | 1.8575e11  | 5.76566e11 |\n",
       "| 53  | 2.57205e11 | NA        | 1.83178e12 | 2.18001e11 | 5.57935e11 |\n",
       "| 54  | 2.90551e11 | NA        | 1.8618e12  | 2.32497e11 | 4.93798e11 |\n",
       "| 55  | 3.04226e11 | NA        | 2.0669e12  | 2.20506e11 | 4.15339e11 |\n",
       "\n",
       "| Row | IS         | IT         | JG         | JM         | JO         |\n",
       "|-----|------------|------------|------------|------------|------------|\n",
       "| 1   | 2.48434e8  | 4.03853e10 | NA         | 6.99064e8  | NA         |\n",
       "| 2   | 2.53886e8  | 4.48428e10 | NA         | 7.48043e8  | NA         |\n",
       "| 3   | 2.84917e8  | 5.03839e10 | NA         | 7.77728e8  | NA         |\n",
       "| 4   | 3.40062e8  | 5.77107e10 | NA         | 8.26707e8  | NA         |\n",
       "| 5   | 4.34268e8  | 6.31754e10 | NA         | 8.97949e8  | NA         |\n",
       "| 6   | 5.23695e8  | 6.79782e10 | NA         | 9.7216e8   | 5.9976e8   |\n",
       "| 7   | 6.28893e8  | 7.36549e10 | NA         | 1.09676e9  | 6.58e8     |\n",
       "| 8   | 6.21226e8  | 8.11331e10 | NA         | 1.14801e9  | 6.3168e8   |\n",
       "| 9   | 4.74399e8  | 8.79422e10 | NA         | 1.08384e9  | 5.6112e8   |\n",
       "| 10  | 4.14709e8  | 9.70851e10 | NA         | 1.19124e9  | 6.9888e8   |\n",
       "| 11  | 5.32727e8  | 1.13063e11 | NA         | 1.40472e9  | 6.3952e8   |\n",
       "⋮\n",
       "| 44  | 1.13244e10 | 1.57033e12 | 7.33224e9  | 9.43024e9  | 1.0193e10  |\n",
       "| 45  | 1.3737e10  | 1.79913e12 | 8.55364e9  | 1.01732e10 | 1.14076e10 |\n",
       "| 46  | 1.67985e10 | 1.85351e12 | 8.82727e9  | 1.12393e10 | 1.25887e10 |\n",
       "| 47  | 1.7101e10  | 1.94353e12 | 9.67617e9  | 1.19277e10 | 1.50569e10 |\n",
       "| 48  | 2.14467e10 | 2.20409e12 | 1.15146e10 | 1.27956e10 | 1.71106e10 |\n",
       "| 49  | 1.75996e10 | 2.39188e12 | NA         | 1.37076e10 | 2.19729e10 |\n",
       "| 50  | 1.28238e10 | 2.18624e12 | NA         | 1.2125e10  | 2.38183e10 |\n",
       "| 51  | 1.3261e10  | 2.12675e12 | NA         | 1.32308e10 | 2.64254e10 |\n",
       "| 52  | 1.46882e10 | 2.27809e12 | NA         | 1.44339e10 | 2.88403e10 |\n",
       "| 53  | 1.42325e10 | 2.07522e12 | NA         | 1.47948e10 | 3.09373e10 |\n",
       "| 54  | 1.53946e10 | 2.13695e12 | NA         | 1.43623e10 | 3.35938e10 |\n",
       "| 55  | 1.7071e10  | 2.14434e12 | NA         | NA         | 3.58269e10 |\n",
       "\n",
       "| Row | JP         | KE         | KG        | KH         | KI        |\n",
       "|-----|------------|------------|-----------|------------|-----------|\n",
       "| 1   | 4.43073e10 | 7.91261e8  | NA        | 6.37143e8  | NA        |\n",
       "| 2   | 5.35086e10 | 7.92955e8  | NA        | 6.42857e8  | NA        |\n",
       "| 3   | 6.0723e10  | 8.68107e8  | NA        | 6.6e8      | NA        |\n",
       "| 4   | 6.94981e10 | 9.26584e8  | NA        | 7.28571e8  | NA        |\n",
       "| 5   | 8.1749e10  | 9.98754e8  | NA        | 7.82857e8  | NA        |\n",
       "| 6   | 9.09503e10 | 9.97914e8  | NA        | 8.68571e8  | NA        |\n",
       "| 7   | 1.05628e11 | 1.16451e9  | NA        | 9.14286e8  | NA        |\n",
       "| 8   | 1.23782e11 | 1.23255e9  | NA        | 9.62857e8  | NA        |\n",
       "| 9   | 1.46601e11 | 1.35329e9  | NA        | 1.06571e9  | NA        |\n",
       "| 10  | 1.72204e11 | 1.45837e9  | NA        | 9.78873e8  | NA        |\n",
       "| 11  | 2.09071e11 | 1.60344e9  | NA        | 7.18401e8  | 1.42953e7 |\n",
       "⋮\n",
       "| 44  | 4.30294e12 | 1.49045e10 | 1.91901e9 | 4.65825e9  | 9.01485e7 |\n",
       "| 45  | 4.6558e12  | 1.60953e10 | 2.21154e9 | 5.33783e9  | 1.02221e8 |\n",
       "| 46  | 4.57187e12 | 1.87379e10 | 2.46025e9 | 6.29305e9  | 1.0615e8  |\n",
       "| 47  | 4.35675e12 | 2.58255e10 | 2.83417e9 | 7.27451e9  | 1.04671e8 |\n",
       "| 48  | 4.35635e12 | 3.19582e10 | 3.80257e9 | 8.63924e9  | 1.23005e8 |\n",
       "| 49  | 4.84918e12 | 3.58952e10 | 5.13996e9 | 1.03519e10 | 1.35047e8 |\n",
       "| 50  | 5.03514e12 | 3.70215e10 | 4.69006e9 | 1.04019e10 | 1.27126e8 |\n",
       "| 51  | 5.49539e12 | 3.99997e10 | 4.79436e9 | 1.12423e10 | 1.50437e8 |\n",
       "| 52  | 5.90563e12 | 4.19534e10 | 6.19777e9 | 1.28295e10 | 1.7226e8  |\n",
       "| 53  | 5.95448e12 | 5.04102e10 | 6.60514e9 | 1.40544e10 | 1.74984e8 |\n",
       "| 54  | 4.91956e12 | 5.49308e10 | 7.33503e9 | 1.5228e10  | 1.68945e8 |\n",
       "| 55  | 4.60146e12 | 6.09365e10 | 7.40441e9 | 1.67094e10 | 1.66762e8 |\n",
       "\n",
       "| Row | KM        | KN        | KR         | KW         | KY        |\n",
       "|-----|-----------|-----------|------------|------------|-----------|\n",
       "| 1   | NA        | 1.23666e7 | 3.89185e9  | NA         | NA        |\n",
       "| 2   | NA        | 1.24833e7 | 2.35706e9  | NA         | NA        |\n",
       "| 3   | NA        | 1.25416e7 | 2.74594e9  | NA         | NA        |\n",
       "| 4   | NA        | 1.28333e7 | 3.86373e9  | NA         | NA        |\n",
       "| 5   | NA        | 1.34166e7 | 3.35813e9  | NA         | NA        |\n",
       "| 6   | NA        | 1.35939e7 | 3.01761e9  | 2.0972e9   | NA        |\n",
       "| 7   | NA        | 1.44691e7 | 3.80604e9  | 2.3912e9   | NA        |\n",
       "| 8   | NA        | 1.67423e7 | 4.70275e9  | 2.4416e9   | NA        |\n",
       "| 9   | NA        | 1.46e7    | 5.95534e9  | 2.6628e9   | NA        |\n",
       "| 10  | NA        | 1.585e7   | 7.47569e9  | 2.7692e9   | NA        |\n",
       "| 11  | NA        | 1.63e7    | 9.40978e9  | 2.87364e9  | NA        |\n",
       "⋮\n",
       "| 44  | 3.17562e8 | 4.63419e8 | 6.80521e11 | 4.78758e10 | NA        |\n",
       "| 45  | 3.68143e8 | 5.01151e8 | 7.64881e11 | 5.94405e10 | NA        |\n",
       "| 46  | 3.80373e8 | 5.4317e8  | 8.98137e11 | 8.07979e10 | NA        |\n",
       "| 47  | 4.06112e8 | 6.36071e8 | 1.0118e12  | 1.01559e11 | 3.20703e9 |\n",
       "| 48  | 4.62454e8 | 6.84149e8 | 1.12268e12 | 1.14635e11 | NA        |\n",
       "| 49  | 5.23135e8 | 7.3466e8  | 1.00222e12 | 1.4738e11  | NA        |\n",
       "| 50  | 5.24157e8 | 7.08891e8 | 9.01935e11 | 1.05905e11 | NA        |\n",
       "| 51  | 5.30493e8 | 6.92457e8 | 1.0945e12  | 1.15416e11 | NA        |\n",
       "| 52  | 5.86282e8 | 7.28051e8 | 1.20246e12 | 1.54035e11 | NA        |\n",
       "| 53  | 5.70866e8 | 7.3192e8  | 1.22281e12 | 1.74045e11 | NA        |\n",
       "| 54  | 6.18665e8 | 7.74074e8 | 1.3056e12  | 1.75827e11 | NA        |\n",
       "| 55  | 6.4772e8  | 8.33333e8 | 1.41038e12 | NA         | NA        |\n",
       "\n",
       "| Row | KZ         | LA         | LB         | LC        | LI        |\n",
       "|-----|------------|------------|------------|-----------|-----------|\n",
       "| 1   | NA         | NA         | NA         | NA        | NA        |\n",
       "| 2   | NA         | NA         | NA         | NA        | NA        |\n",
       "| 3   | NA         | NA         | NA         | NA        | NA        |\n",
       "| 4   | NA         | NA         | NA         | NA        | NA        |\n",
       "| 5   | NA         | NA         | NA         | NA        | NA        |\n",
       "| 6   | NA         | NA         | NA         | NA        | NA        |\n",
       "| 7   | NA         | NA         | NA         | NA        | NA        |\n",
       "| 8   | NA         | NA         | NA         | NA        | NA        |\n",
       "| 9   | NA         | NA         | NA         | NA        | NA        |\n",
       "| 10  | NA         | NA         | NA         | NA        | NA        |\n",
       "| 11  | NA         | NA         | NA         | NA        | 9.00994e7 |\n",
       "⋮\n",
       "| 44  | 3.08337e10 | 2.02332e9  | 2.00829e10 | 8.05837e8 | 3.0708e9  |\n",
       "| 45  | 4.31516e10 | 2.3664e9   | 2.09552e10 | 8.85242e8 | 3.45437e9 |\n",
       "| 46  | 5.71237e10 | 2.73556e9  | 2.12876e10 | 9.35463e8 | 3.65932e9 |\n",
       "| 47  | 8.10039e10 | 3.45288e9  | 2.17964e10 | 1.05966e9 | 4.0001e9  |\n",
       "| 48  | 1.0485e11  | 4.22296e9  | 2.45771e10 | 1.14348e9 | 4.60143e9 |\n",
       "| 49  | 1.33442e11 | 5.44392e9  | 2.88299e10 | 1.17137e9 | 5.08148e9 |\n",
       "| 50  | 1.15309e11 | 5.83292e9  | 3.51396e10 | 1.17661e9 | 4.50438e9 |\n",
       "| 51  | 1.48047e11 | 7.18144e9  | 3.801e10   | 1.2443e9  | 5.08234e9 |\n",
       "| 52  | 1.88049e11 | 8.28322e9  | 4.00789e10 | 1.28953e9 | 5.73971e9 |\n",
       "| 53  | 2.03517e11 | 9.35919e9  | 4.32051e10 | 1.30267e9 | 5.48777e9 |\n",
       "| 54  | 2.31876e11 | 1.11895e10 | 4.43524e10 | 1.33576e9 | NA        |\n",
       "| 55  | 2.12248e11 | 1.17717e10 | 4.57309e10 | 1.36543e9 | NA        |\n",
       "\n",
       "| Row | LK         | LR        | LS        | LT         | LU         |\n",
       "|-----|------------|-----------|-----------|------------|------------|\n",
       "| 1   | 1.41963e9  | 1.90496e8 | 3.45793e7 | NA         | 7.03926e8  |\n",
       "| 2   | 1.45434e9  | 1.83921e8 | 3.56993e7 | NA         | 7.04146e8  |\n",
       "| 3   | 1.45861e9  | 1.91862e8 | 4.18592e7 | NA         | 7.41509e8  |\n",
       "| 4   | 1.24139e9  | 2.0023e8  | 4.70391e7 | NA         | 7.91141e8  |\n",
       "| 5   | 1.32184e9  | 2.18929e8 | 5.1939e7  | NA         | 9.03159e8  |\n",
       "| 6   | 1.69832e9  | 2.29261e8 | 5.48789e7 | NA         | 9.21601e8  |\n",
       "| 7   | 1.75147e9  | 2.4446e8  | 5.66989e7 | NA         | 9.6844e8   |\n",
       "| 8   | 1.85947e9  | 2.61024e8 | 5.92608e7 | NA         | 9.74722e8  |\n",
       "| 9   | 1.80118e9  | 2.76821e8 | 6.14448e7 | NA         | 1.06645e9  |\n",
       "| 10  | 1.96555e9  | 3.06962e8 | 6.59667e7 | NA         | 1.23488e9  |\n",
       "| 11  | 2.29647e9  | 3.231e8   | 6.87386e7 | NA         | 1.51908e9  |\n",
       "⋮\n",
       "| 44  | 1.88818e10 | 4.09e8    | 9.69167e8 | NA         | 2.9095e10  |\n",
       "| 45  | 2.06625e10 | 4.67e8    | 1.23422e9 | 2.26495e10 | 3.42078e10 |\n",
       "| 46  | 2.44063e10 | 5.42e8    | 1.36835e9 | 2.61268e10 | 3.70245e10 |\n",
       "| 47  | 2.82798e10 | 6.04029e8 | 1.42885e9 | 3.02149e10 | 4.17812e10 |\n",
       "| 48  | 3.23502e10 | 7.39027e8 | 1.59748e9 | 3.97391e10 | 4.92105e10 |\n",
       "| 49  | 4.07138e10 | 8.5004e8  | 1.63067e9 | 4.7851e10  | 5.49619e10 |\n",
       "| 50  | 4.20662e10 | 1.15515e9 | 1.71147e9 | 3.74398e10 | 5.01443e10 |\n",
       "| 51  | 4.95656e10 | 1.2927e9  | 2.18742e9 | 3.70958e10 | 5.21468e10 |\n",
       "| 52  | 5.91806e10 | 1.53775e9 | 2.52336e9 | 4.3485e10  | 5.89525e10 |\n",
       "| 53  | 5.93915e10 | 1.73383e9 | 2.38402e9 | 4.28245e10 | 5.62924e10 |\n",
       "| 54  | 6.72061e10 | 1.94549e9 | 2.14768e9 | 4.64032e10 | 6.01308e10 |\n",
       "| 55  | 7.49412e10 | 2.02694e9 | 2.08802e9 | 4.81722e10 | NA         |\n",
       "\n",
       "| Row | LV         | LY         | MA         | MC        | MD        |\n",
       "|-----|------------|------------|------------|-----------|-----------|\n",
       "| 1   | NA         | NA         | 2.03715e9  | NA        | NA        |\n",
       "| 2   | NA         | NA         | 2.02569e9  | NA        | NA        |\n",
       "| 3   | NA         | NA         | 2.37961e9  | NA        | NA        |\n",
       "| 4   | NA         | NA         | 2.65725e9  | NA        | NA        |\n",
       "| 5   | NA         | NA         | 2.79835e9  | NA        | NA        |\n",
       "| 6   | NA         | NA         | 2.94833e9  | NA        | NA        |\n",
       "| 7   | NA         | NA         | 2.8764e9   | NA        | NA        |\n",
       "| 8   | NA         | NA         | 3.04634e9  | NA        | NA        |\n",
       "| 9   | NA         | NA         | 3.27142e9  | NA        | NA        |\n",
       "| 10  | NA         | NA         | 3.65162e9  | NA        | NA        |\n",
       "| 11  | NA         | NA         | 3.95633e9  | 2.93074e8 | NA        |\n",
       "⋮\n",
       "| 44  | 1.28841e10 | 2.62656e10 | 4.98227e10 | 3.58899e9 | 1.9809e9  |\n",
       "| 45  | 1.52672e10 | 3.31223e10 | 5.6948e10  | 4.11035e9 | 2.59823e9 |\n",
       "| 46  | 1.70914e10 | 4.73347e10 | 5.95238e10 | 4.28007e9 | 2.98833e9 |\n",
       "| 47  | 2.16206e10 | 5.49619e10 | 6.56401e10 | 4.66349e9 | 3.40827e9 |\n",
       "| 48  | 3.09458e10 | 6.75162e10 | 7.52236e10 | 5.97437e9 | 4.40115e9 |\n",
       "| 49  | 3.56711e10 | 8.71404e10 | 8.88795e10 | 6.91924e9 | 6.05481e9 |\n",
       "| 50  | 2.61551e10 | 6.30283e10 | 9.09073e10 | 5.55725e9 | 5.43942e9 |\n",
       "| 51  | 2.38686e10 | 7.47734e10 | 9.07702e10 | 5.35067e9 | 5.8116e9  |\n",
       "| 52  | 2.83194e10 | 3.46994e10 | 9.9211e10  | 6.07488e9 | 7.01521e9 |\n",
       "| 53  | 2.85451e10 | 8.19054e10 | 9.59039e10 | NA        | 7.28469e9 |\n",
       "| 54  | 3.09088e10 | 6.55096e10 | 1.03915e11 | NA        | 7.98535e9 |\n",
       "| 55  | 3.19208e10 | 4.11191e10 | 1.07005e11 | NA        | 7.94418e9 |\n",
       "\n",
       "| Row | ME        | MG         | MH        | MK         | ML         |\n",
       "|-----|-----------|------------|-----------|------------|------------|\n",
       "| 1   | NA        | 6.73082e8  | NA        | NA         | NA         |\n",
       "| 2   | NA        | 6.99162e8  | NA        | NA         | NA         |\n",
       "| 3   | NA        | 7.39287e8  | NA        | NA         | NA         |\n",
       "| 4   | NA        | 7.59346e8  | NA        | NA         | NA         |\n",
       "| 5   | NA        | 8.02482e8  | NA        | NA         | NA         |\n",
       "| 6   | NA        | 8.33563e8  | NA        | NA         | NA         |\n",
       "| 7   | NA        | 9.00265e8  | NA        | NA         | NA         |\n",
       "| 8   | NA        | 9.56437e8  | NA        | NA         | 2.75494e8  |\n",
       "| 9   | NA        | 1.03167e9  | NA        | NA         | 3.43772e8  |\n",
       "| 10  | NA        | 1.05639e9  | NA        | NA         | 3.39914e8  |\n",
       "| 11  | NA        | 1.11186e9  | NA        | NA         | 3.59772e8  |\n",
       "⋮\n",
       "| 44  | 1.70766e9 | 5.47403e9  | 1.26888e8 | 4.9463e9   | 4.36244e9  |\n",
       "| 45  | 2.07326e9 | 4.36393e9  | 1.31106e8 | 5.68272e9  | 4.87418e9  |\n",
       "| 46  | 2.25712e9 | 5.03929e9  | 1.37745e8 | 6.2586e9   | 5.30532e9  |\n",
       "| 47  | 2.69602e9 | 5.51588e9  | 1.43615e8 | 6.86123e9  | 6.12264e9  |\n",
       "| 48  | 3.66886e9 | 7.34292e9  | 1.50042e8 | 8.33648e9  | 7.14539e9  |\n",
       "| 49  | 4.51973e9 | 9.413e9    | 1.52785e8 | 9.90955e9  | 8.73769e9  |\n",
       "| 50  | 4.14138e9 | 8.55036e9  | 1.52116e8 | 9.40174e9  | 8.96448e9  |\n",
       "| 51  | 4.11107e9 | 8.72994e9  | 1.63917e8 | 9.40717e9  | 9.42227e9  |\n",
       "| 52  | 4.4955e9  | 9.8927e9   | 1.72957e8 | 1.04946e10 | 1.06475e10 |\n",
       "| 53  | 4.04581e9 | 9.91978e9  | 1.84359e8 | 9.74526e9  | 1.03408e10 |\n",
       "| 54  | 4.41726e9 | 1.06135e10 | 1.90915e8 | 1.07674e10 | 1.11117e10 |\n",
       "| 55  | 4.5832e9  | 1.05931e10 | NA        | 1.13238e10 | 1.20745e10 |\n",
       "\n",
       "| Row | MM         | MN         | MO         | MR        | MT        |\n",
       "|-----|------------|------------|------------|-----------|-----------|\n",
       "| 1   | NA         | NA         | NA         | 9.26092e7 | NA        |\n",
       "| 2   | NA         | NA         | NA         | 1.07726e8 | NA        |\n",
       "| 3   | NA         | NA         | NA         | 1.11149e8 | NA        |\n",
       "| 4   | NA         | NA         | NA         | 1.13797e8 | NA        |\n",
       "| 5   | NA         | NA         | NA         | 1.51897e8 | NA        |\n",
       "| 6   | NA         | NA         | NA         | 1.72767e8 | NA        |\n",
       "| 7   | NA         | NA         | NA         | 1.80341e8 | NA        |\n",
       "| 8   | NA         | NA         | NA         | 1.91222e8 | NA        |\n",
       "| 9   | NA         | NA         | NA         | 2.10695e8 | NA        |\n",
       "| 10  | NA         | NA         | NA         | 1.99643e8 | NA        |\n",
       "| 11  | NA         | NA         | NA         | 2.09348e8 | 2.50729e8 |\n",
       "⋮\n",
       "| 44  | NA         | 1.5953e9   | 7.92637e9  | 1.56307e9 | 5.11962e9 |\n",
       "| 45  | NA         | 1.99207e9  | 1.02583e10 | 1.83344e9 | 5.64353e9 |\n",
       "| 46  | NA         | 2.52347e9  | 1.17926e10 | 2.18444e9 | 5.99065e9 |\n",
       "| 47  | NA         | 3.41406e9  | 1.45687e10 | 3.04072e9 | 6.3655e9  |\n",
       "| 48  | NA         | 4.235e9    | 1.80547e10 | 3.35676e9 | 7.46622e9 |\n",
       "| 49  | NA         | 5.62322e9  | 2.0731e10  | 4.03105e9 | 8.55429e9 |\n",
       "| 50  | NA         | 4.58385e9  | 2.13133e10 | 3.66228e9 | 8.0994e9  |\n",
       "| 51  | NA         | 7.18948e9  | 2.83597e10 | 4.33779e9 | 8.16336e9 |\n",
       "| 52  | NA         | 1.04098e10 | 3.66347e10 | 5.1231e9  | 9.30264e9 |\n",
       "| 53  | 7.46909e10 | 1.22928e10 | 4.29919e10 | 4.84517e9 | 8.88251e9 |\n",
       "| 54  | 5.86522e10 | 1.25452e10 | 5.13138e10 | 5.05775e9 | 9.64285e9 |\n",
       "| 55  | 6.433e10   | 1.20159e10 | 5.55015e10 | 5.06118e9 | NA        |\n",
       "\n",
       "| Row | MU         | MV        | MW        | MX         | MY         |\n",
       "|-----|------------|-----------|-----------|------------|------------|\n",
       "| 1   | NA         | NA        | 1.6296e8  | 1.30562e10 | 2.44102e9  |\n",
       "| 2   | NA         | NA        | 1.7458e8  | 1.4154e10  | 2.42272e9  |\n",
       "| 3   | NA         | NA        | 1.8312e8  | 1.52211e10 | 2.54381e9  |\n",
       "| 4   | NA         | NA        | 1.9082e8  | 1.69363e10 | 2.70847e9  |\n",
       "| 5   | NA         | NA        | 1.9474e8  | 2.00701e10 | 2.89975e9  |\n",
       "| 6   | NA         | NA        | 2.2946e8  | 2.18297e10 | 3.18785e9  |\n",
       "| 7   | NA         | NA        | 2.604e8   | 2.43372e10 | 3.39277e9  |\n",
       "| 8   | NA         | NA        | 2.69813e8 | 2.65564e10 | 3.51585e9  |\n",
       "| 9   | NA         | NA        | 2.4516e8  | 2.93636e10 | 3.66721e9  |\n",
       "| 10  | NA         | NA        | 2.658e8   | 3.25158e10 | 4.05076e9  |\n",
       "| 11  | NA         | NA        | 2.9052e8  | 3.55417e10 | 4.27667e9  |\n",
       "⋮\n",
       "| 44  | 5.60984e9  | 1.0434e9  | 2.42466e9 | 7.13284e11 | 1.10202e11 |\n",
       "| 45  | 6.38569e9  | 1.20224e9 | 2.62513e9 | 7.70268e11 | 1.2475e11  |\n",
       "| 46  | 6.2838e9   | 1.11981e9 | 2.755e9   | 8.66346e11 | 1.43534e11 |\n",
       "| 47  | 6.73153e9  | 1.4747e9  | 3.11679e9 | 9.6687e11  | 1.62692e11 |\n",
       "| 48  | 7.79205e9  | 1.746e9   | 3.64782e9 | 1.04347e12 | 1.93549e11 |\n",
       "| 49  | 9.64109e9  | 2.11777e9 | 4.27677e9 | 1.10128e12 | 2.30812e11 |\n",
       "| 50  | 8.83466e9  | 2.16633e9 | 5.03064e9 | 8.94949e11 | 2.02257e11 |\n",
       "| 51  | 9.71823e9  | 2.33247e9 | 5.39862e9 | 1.05113e12 | 2.47534e11 |\n",
       "| 52  | 1.12524e10 | 2.4607e9  | 5.6279e9  | 1.17119e12 | 2.89327e11 |\n",
       "| 53  | 1.14421e10 | 2.53454e9 | 4.24049e9 | 1.18666e12 | 3.04957e11 |\n",
       "| 54  | 1.19281e10 | 2.70515e9 | 3.88352e9 | 1.26225e12 | 3.13158e11 |\n",
       "| 55  | 1.26164e10 | 3.03224e9 | 4.25803e9 | 1.28272e12 | 3.26933e11 |\n",
       "\n",
       "| Row | MZ         | NA         | NC        | NE        | NG         |\n",
       "|-----|------------|------------|-----------|-----------|------------|\n",
       "| 1   | NA         | NA         | NA        | 4.49527e8 | 4.19617e9  |\n",
       "| 2   | NA         | NA         | NA        | 4.85785e8 | 4.46729e9  |\n",
       "| 3   | NA         | NA         | NA        | 5.31737e8 | 4.9094e9   |\n",
       "| 4   | NA         | NA         | NA        | 5.86295e8 | 5.16559e9  |\n",
       "| 5   | NA         | NA         | NA        | 5.82816e8 | 5.55293e9  |\n",
       "| 6   | NA         | NA         | 1.59594e8 | 6.73384e8 | 5.87442e9  |\n",
       "| 7   | NA         | NA         | 1.64207e8 | 7.02296e8 | 6.36679e9  |\n",
       "| 8   | NA         | NA         | 1.80037e8 | 6.65587e8 | 5.20314e9  |\n",
       "| 9   | NA         | NA         | 2.15507e8 | 6.41214e8 | 5.2009e9   |\n",
       "| 10  | NA         | NA         | 2.63109e8 | 6.25868e8 | 6.63419e9  |\n",
       "| 11  | NA         | NA         | 3.58816e8 | 6.49917e8 | 1.25458e10 |\n",
       "⋮\n",
       "| 44  | 4.6662e9   | 4.93128e9  | NA        | 2.73142e9 | 6.76558e10 |\n",
       "| 45  | 5.69799e9  | 6.60687e9  | NA        | 3.0529e9  | 8.78454e10 |\n",
       "| 46  | 6.57852e9  | 7.2613e9   | NA        | 3.40513e9 | 1.12248e11 |\n",
       "| 47  | 7.09592e9  | 7.97873e9  | NA        | 3.64673e9 | 1.4543e11  |\n",
       "| 48  | 9.11553e9  | 8.74073e9  | NA        | 4.29136e9 | 1.66451e11 |\n",
       "| 49  | 1.10503e10 | 8.46202e9  | NA        | 5.40336e9 | 2.08065e11 |\n",
       "| 50  | 1.07185e10 | 8.87524e9  | NA        | 5.39712e9 | 1.69481e11 |\n",
       "| 51  | 1.01192e10 | 1.12732e10 | NA        | 5.71859e9 | 3.69062e11 |\n",
       "| 52  | 1.31971e10 | 1.24112e10 | NA        | 6.40917e9 | 4.11744e11 |\n",
       "| 53  | 1.49344e10 | 1.30202e10 | NA        | 6.94221e9 | 4.60954e11 |\n",
       "| 54  | 1.54572e10 | 1.29322e10 | NA        | 7.68305e9 | 5.14965e11 |\n",
       "| 55  | 1.63856e10 | 1.34295e10 | NA        | 8.1687e9  | 5.68508e11 |\n",
       "\n",
       "| Row | NI         | NL         | NO         | NP         | NZ         |\n",
       "|-----|------------|------------|------------|------------|------------|\n",
       "| 1   | 2.27223e8  | 1.22767e10 | 5.16327e9  | 5.08334e8  | 5.48585e9  |\n",
       "| 2   | 2.44144e8  | 1.34938e10 | 5.63246e9  | 5.3196e8   | 5.67006e9  |\n",
       "| 3   | 2.69284e8  | 1.46471e10 | 6.06698e9  | 5.74091e8  | 6.0775e9   |\n",
       "| 4   | 2.97324e8  | 1.58912e10 | 6.51024e9  | 4.96949e8  | 6.63894e9  |\n",
       "| 5   | 3.4712e8   | 1.86994e10 | 7.1592e9   | 4.96099e8  | 7.27414e9  |\n",
       "| 6   | 5.6429e8   | 2.10006e10 | 8.05868e9  | 7.35267e8  | 5.65446e9  |\n",
       "| 7   | 6.0714e8   | 2.28672e10 | 8.69646e9  | 9.06812e8  | 5.86373e9  |\n",
       "| 8   | 6.5714e8   | 2.50876e10 | 9.5145e9   | 8.41974e8  | 5.96142e9  |\n",
       "| 9   | 6.9286e8   | 2.78176e10 | 1.01599e10 | 7.7223e8   | 5.1806e9   |\n",
       "| 10  | 7.5e8      | 3.15039e10 | 1.10631e10 | 7.88642e8  | 5.76159e9  |\n",
       "| 11  | 7.7857e8   | 3.75302e10 | 1.28141e10 | 8.65975e8  | NA         |\n",
       "⋮\n",
       "| 44  | 5.32244e9  | 5.70918e11 | 2.28752e11 | 6.33048e9  | 8.8361e10  |\n",
       "| 45  | 5.79557e9  | 6.46042e11 | 2.64357e11 | 7.27393e9  | 1.04072e11 |\n",
       "| 46  | 6.32132e9  | 6.72374e11 | 3.08722e11 | 8.13026e9  | 1.15061e11 |\n",
       "| 47  | 6.78629e9  | 7.19413e11 | 3.45425e11 | 9.04372e9  | 1.11437e11 |\n",
       "| 48  | 7.4581e9   | 8.33191e11 | 4.00884e11 | 1.03256e10 | 1.36776e11 |\n",
       "| 49  | 8.49139e9  | 9.31293e11 | 4.61947e11 | 1.25454e10 | 1.31935e11 |\n",
       "| 50  | 8.38073e9  | 8.58086e11 | 3.86384e11 | 1.2855e10  | 1.20467e11 |\n",
       "| 51  | 8.74131e9  | 8.3644e11  | 4.28525e11 | 1.60027e10 | 1.45288e11 |\n",
       "| 52  | 9.75562e9  | 8.93702e11 | 4.98157e11 | 1.89136e10 | 1.6614e11  |\n",
       "| 53  | 1.04603e10 | 8.23139e11 | 5.09705e11 | 1.88515e10 | 1.74445e11 |\n",
       "| 54  | 1.08507e10 | 8.53539e11 | 5.22349e11 | 1.92442e10 | 1.88385e11 |\n",
       "| 55  | 1.18056e10 | 8.69508e11 | 5.00103e11 | 1.96362e10 | NA         |\n",
       "\n",
       "| Row | OE         | OM         | PA         | PE         | PF        |\n",
       "|-----|------------|------------|------------|------------|-----------|\n",
       "| 1   | 1.07136e12 | 4.42347e7  | 4.158e8    | 3.33333e9  | NA        |\n",
       "| 2   | 1.12613e12 | 4.56345e7  | 4.637e8    | 3.33333e9  | NA        |\n",
       "| 3   | 1.2158e12  | 5.62732e7  | 5.048e8    | 3.33333e9  | NA        |\n",
       "| 4   | 1.30977e12 | 5.99128e7  | 5.595e8    | 3.33333e9  | NA        |\n",
       "| 5   | 1.43138e12 | 6.18725e7  | 6.008e8    | 3.33333e9  | NA        |\n",
       "| 6   | 1.55426e12 | 6.328e7    | 6.599e8    | 3.33333e9  | 1.76535e8 |\n",
       "| 7   | 1.70645e12 | 6.776e7    | 7.19e8     | 6.66667e9  | 2.15659e8 |\n",
       "| 8   | 1.83096e12 | 1.07152e8  | 8.007e8    | 6.66667e9  | 2.20984e8 |\n",
       "| 9   | 1.98421e12 | 1.8888e8   | 8.614e8    | 5.0e9      | 2.5959e8  |\n",
       "| 10  | 2.17765e12 | 2.4e8      | 9.454e8    | 5.0e9      | 2.42944e8 |\n",
       "| 11  | 2.38612e12 | 2.5632e8   | 1.0163e9   | 7.5e9      | 2.54036e8 |\n",
       "⋮\n",
       "| 44  | 3.14371e13 | 2.16338e10 | 1.29332e10 | 5.90305e10 | NA        |\n",
       "| 45  | 3.49876e13 | 2.47636e10 | 1.41793e10 | 6.66947e10 | NA        |\n",
       "| 46  | 3.69582e13 | 3.10819e10 | 1.54647e10 | 7.49481e10 | NA        |\n",
       "| 47  | 3.89825e13 | 3.72159e10 | 1.7137e10  | 8.78629e10 | NA        |\n",
       "| 48  | 4.26348e13 | 4.20853e10 | 2.11219e10 | 1.02172e11 | NA        |\n",
       "| 49  | 4.51209e13 | 6.09053e10 | 2.4884e10  | 1.21572e11 | NA        |\n",
       "| 50  | 4.2231e13  | 4.83883e10 | 2.59251e10 | 1.21192e11 | NA        |\n",
       "| 51  | 4.42809e13 | 5.86414e10 | 2.88141e10 | 1.48523e11 | NA        |\n",
       "| 52  | 4.75346e13 | 6.79376e10 | 3.32705e10 | 1.70564e11 | NA        |\n",
       "| 53  | 4.74185e13 | 7.63415e10 | 3.79562e10 | 1.92677e11 | NA        |\n",
       "| 54  | 4.7994e13  | 7.81826e10 | 4.26481e10 | 2.02363e11 | NA        |\n",
       "| 55  | 4.87553e13 | 8.17966e10 | 4.62126e10 | 2.02903e11 | NA        |\n",
       "\n",
       "| Row | PG         | PH         | PK         | PL         | PR         |\n",
       "|-----|------------|------------|------------|------------|------------|\n",
       "| 1   | 2.30496e8  | 6.68469e9  | 3.70706e9  | NA         | 1.6919e9   |\n",
       "| 2   | 2.44832e8  | 7.25705e9  | 4.0546e9   | NA         | 1.8651e9   |\n",
       "| 3   | 2.61184e8  | 4.39982e9  | 4.2331e9   | NA         | 2.0944e9   |\n",
       "| 4   | 2.75968e8  | 4.87525e9  | 4.54053e9  | NA         | 2.3336e9   |\n",
       "| 5   | 3.05312e8  | 5.27136e9  | 5.13041e9  | NA         | 2.5705e9   |\n",
       "| 6   | 3.44159e8  | 5.7844e9   | 5.88471e9  | NA         | 2.8815e9   |\n",
       "| 7   | 3.90973e8  | 6.37149e9  | 6.46661e9  | NA         | 3.1705e9   |\n",
       "| 8   | 4.41707e8  | 6.80905e9  | 7.40382e9  | NA         | 3.5327e9   |\n",
       "| 9   | 4.85161e8  | 7.5916e9   | 8.09009e9  | NA         | 3.9417e9   |\n",
       "| 10  | 5.51237e8  | 8.40827e9  | 8.63293e9  | NA         | 4.4607e9   |\n",
       "| 11  | 6.45537e8  | 6.68722e9  | 1.00271e10 | NA         | 5.0347e9   |\n",
       "⋮\n",
       "| 44  | 3.53646e9  | 8.39082e10 | 8.32448e10 | 2.17514e11 | 7.5834e10  |\n",
       "| 45  | 3.92711e9  | 9.13712e10 | 9.79778e10 | 2.53526e11 | 8.03223e10 |\n",
       "| 46  | 4.86597e9  | 1.03072e11 | 1.09502e11 | 3.04412e11 | 8.39145e10 |\n",
       "| 47  | 5.52779e9  | 1.22211e11 | 1.37264e11 | 3.43261e11 | 8.72762e10 |\n",
       "| 48  | 6.34058e9  | 1.4936e11  | 1.52386e11 | 4.28763e11 | 8.95241e10 |\n",
       "| 49  | 8.00011e9  | 1.74195e11 | 1.70078e11 | 5.30185e11 | 9.36393e10 |\n",
       "| 50  | 8.1052e9   | 1.68335e11 | 1.68153e11 | 4.36476e11 | 9.63856e10 |\n",
       "| 51  | 9.71612e9  | 1.99591e11 | 1.77407e11 | 4.76688e11 | 9.83813e10 |\n",
       "| 52  | 1.28732e10 | 2.24143e11 | 2.13755e11 | 5.24363e11 | 1.00352e11 |\n",
       "| 53  | 1.53913e10 | 2.5024e11  | 2.24646e11 | 4.96206e11 | 1.01081e11 |\n",
       "| 54  | 1.54132e10 | 2.72067e11 | 2.32287e11 | 5.26064e11 | 1.03135e11 |\n",
       "| 55  | NA         | 2.84582e11 | 2.46876e11 | 5.48003e11 | NA         |\n",
       "\n",
       "| Row | PS         | PT         | PW        | PY         | QA         |\n",
       "|-----|------------|------------|-----------|------------|------------|\n",
       "| 1   | NA         | 3.1932e9   | NA        | NA         | NA         |\n",
       "| 2   | NA         | 3.41752e9  | NA        | NA         | NA         |\n",
       "| 3   | NA         | 3.66822e9  | NA        | NA         | NA         |\n",
       "| 4   | NA         | 3.90573e9  | NA        | NA         | NA         |\n",
       "| 5   | NA         | 4.23561e9  | NA        | NA         | NA         |\n",
       "| 6   | NA         | 4.68746e9  | NA        | 4.0013e8   | NA         |\n",
       "| 7   | NA         | 5.13539e9  | NA        | 4.217e8    | NA         |\n",
       "| 8   | NA         | 5.74024e9  | NA        | 4.51524e8  | NA         |\n",
       "| 9   | NA         | 6.35426e9  | NA        | 4.77013e8  | NA         |\n",
       "| 10  | NA         | 6.96903e9  | NA        | 5.12729e8  | NA         |\n",
       "| 11  | NA         | 8.10879e9  | NA        | 5.48758e8  | 3.01791e8  |\n",
       "⋮\n",
       "| 44  | 3.95928e9  | 1.64964e11 | 1.60538e8 | 6.5881e9   | 2.35338e10 |\n",
       "| 45  | 4.32727e9  | 1.89187e11 | 1.75742e8 | 8.03388e9  | 3.17341e10 |\n",
       "| 46  | 4.83428e9  | 1.97305e11 | 1.93526e8 | 8.73465e9  | 4.45305e10 |\n",
       "| 47  | 4.91473e9  | 2.08567e11 | 1.94499e8 | 1.06462e10 | 6.08821e10 |\n",
       "| 48  | 5.50835e9  | 2.40169e11 | 1.9567e8  | 1.3795e10  | 7.97121e10 |\n",
       "| 49  | 6.6735e9   | 2.62008e11 | 1.9898e8  | 1.85034e10 | 1.1527e11  |\n",
       "| 50  | 7.2682e9   | 2.43746e11 | 1.86822e8 | 1.59337e10 | 9.77984e10 |\n",
       "| 51  | 8.9131e9   | 2.38318e11 | 1.84325e8 | 2.00475e10 | 1.25122e11 |\n",
       "| 52  | 1.04654e10 | 2.4488e11  | 2.01224e8 | 2.50997e10 | 1.69805e11 |\n",
       "| 53  | 1.12794e10 | 2.16368e11 | 2.15816e8 | 2.45953e10 | 1.89945e11 |\n",
       "| 54  | 1.2476e10  | 2.24912e11 | 2.28568e8 | 2.88967e10 | 2.03235e11 |\n",
       "| 55  | 1.27376e10 | 2.29584e11 | 2.50626e8 | 3.09847e10 | 2.11817e11 |\n",
       "\n",
       "| Row | RO         | RS         | RU         | RW        | S1         |\n",
       "|-----|------------|------------|------------|-----------|------------|\n",
       "| 1   | NA         | NA         | NA         | 1.19e8    | 2.9017e9   |\n",
       "| 2   | NA         | NA         | NA         | 1.22e8    | 3.15446e9  |\n",
       "| 3   | NA         | NA         | NA         | 1.25e8    | 3.34192e9  |\n",
       "| 4   | NA         | NA         | NA         | 1.28e8    | 3.51636e9  |\n",
       "| 5   | NA         | NA         | NA         | 1.3e8     | 3.86385e9  |\n",
       "| 6   | NA         | NA         | NA         | 1.488e8   | 4.21216e9  |\n",
       "| 7   | NA         | NA         | NA         | 1.24526e8 | 4.55319e9  |\n",
       "| 8   | NA         | NA         | NA         | 1.5956e8  | 4.89201e9  |\n",
       "| 9   | NA         | NA         | NA         | 1.722e8   | 4.91591e9  |\n",
       "| 10  | NA         | NA         | NA         | 1.887e8   | 5.37225e9  |\n",
       "| 11  | NA         | NA         | NA         | 2.199e8   | 5.91539e9  |\n",
       "⋮\n",
       "| 44  | 5.9466e10  | 2.11887e10 | 4.30348e11 | 1.84598e9 | 7.87812e10 |\n",
       "| 45  | 7.57947e10 | 2.48615e10 | 5.91017e11 | 2.08919e9 | 9.17995e10 |\n",
       "| 46  | 9.91726e10 | 2.6252e10  | 7.64016e11 | 2.58147e9 | 1.06e11    |\n",
       "| 47  | 1.22695e11 | 3.0608e10  | 9.89931e11 | 3.11033e9 | 1.15542e11 |\n",
       "| 48  | 1.70613e11 | 4.02896e10 | 1.29971e12 | 3.77545e9 | 1.3175e11  |\n",
       "| 49  | 2.04335e11 | 4.92595e10 | 1.66085e12 | 4.79657e9 | 1.5249e11  |\n",
       "| 50  | 1.64346e11 | 4.26167e10 | 1.22264e12 | 5.30899e9 | 1.30674e11 |\n",
       "| 51  | 1.64792e11 | 3.94604e10 | 1.52492e12 | 5.69855e9 | 1.46362e11 |\n",
       "| 52  | 1.82611e11 | 4.64667e10 | 1.90479e12 | 6.40673e9 | 1.67377e11 |\n",
       "| 53  | 1.69396e11 | 4.07423e10 | 2.01611e12 | 7.21966e9 | 1.69303e11 |\n",
       "| 54  | 1.89639e11 | 4.55197e10 | 2.07902e12 | 7.52201e9 | 1.70839e11 |\n",
       "| 55  | 1.99044e11 | 4.38664e10 | 1.8606e12  | 7.89019e9 | 1.74034e11 |\n",
       "\n",
       "| Row | S2        | S3         | S4         | SA         | SB        |\n",
       "|-----|-----------|------------|------------|------------|-----------|\n",
       "| 1   | NA        | 1.85923e9  | NA         | NA         | NA        |\n",
       "| 2   | NA        | 2.01081e9  | NA         | NA         | NA        |\n",
       "| 3   | NA        | 2.12035e9  | NA         | NA         | NA        |\n",
       "| 4   | NA        | 2.25823e9  | NA         | NA         | NA        |\n",
       "| 5   | NA        | 2.42989e9  | NA         | NA         | NA        |\n",
       "| 6   | NA        | 2.6144e9   | NA         | NA         | NA        |\n",
       "| 7   | NA        | 2.83472e9  | NA         | NA         | NA        |\n",
       "| 8   | NA        | 3.0474e9   | NA         | NA         | 2.52035e7 |\n",
       "| 9   | NA        | 3.03124e9  | NA         | 4.18778e9  | 2.80843e7 |\n",
       "| 10  | NA        | 3.30391e9  | NA         | 4.48578e9  | 2.86064e7 |\n",
       "| 11  | NA        | 3.64698e9  | NA         | 5.37733e9  | NA        |\n",
       "⋮\n",
       "| 44  | 4.15087e9 | 3.74224e10 | 3.7208e10  | 2.14573e11 | 3.32736e8 |\n",
       "| 45  | 4.79435e9 | 4.07705e10 | 4.62346e10 | 2.58742e11 | 3.7511e8  |\n",
       "| 46  | 5.24906e9 | 4.66447e10 | 5.41061e10 | 3.28461e11 | 4.13911e8 |\n",
       "| 47  | 5.51135e9 | 5.2406e10  | 5.76251e10 | 3.769e11   | 4.56708e8 |\n",
       "| 48  | 6.06935e9 | 5.82587e10 | 6.74222e10 | 4.15965e11 | 5.16074e8 |\n",
       "| 49  | 6.47716e9 | 6.64872e10 | 7.95252e10 | 5.19797e11 | 6.08293e8 |\n",
       "| 50  | 5.75658e9 | 5.59973e10 | 6.89198e10 | 4.29098e11 | 5.97762e8 |\n",
       "| 51  | 6.36411e9 | 5.92069e10 | 8.07905e10 | 5.26811e11 | 6.71585e8 |\n",
       "| 52  | 7.42447e9 | 6.38219e10 | 9.61305e10 | 6.69507e11 | 8.86503e8 |\n",
       "| 53  | 7.85944e9 | 6.52538e10 | 9.61894e10 | 7.33956e11 | 1.02512e9 |\n",
       "| 54  | 7.88835e9 | 6.68034e10 | 9.6147e10  | 7.44336e11 | 1.05969e9 |\n",
       "| 55  | 8.24948e9 | NA         | 9.75437e10 | 7.46249e11 | 1.15818e9 |\n",
       "\n",
       "| Row | SC        | SD         | SE         | SG         | SI         |\n",
       "|-----|-----------|------------|------------|------------|------------|\n",
       "| 1   | 1.20123e7 | 1.12636e9  | 1.48429e10 | 7.04458e8  | NA         |\n",
       "| 2   | 1.15923e7 | 1.22286e9  | 1.61472e10 | 7.64303e8  | NA         |\n",
       "| 3   | 1.26423e7 | 1.32826e9  | 1.75115e10 | 8.2588e8   | NA         |\n",
       "| 4   | 1.39233e7 | 1.35123e9  | 1.89541e10 | 9.17216e8  | NA         |\n",
       "| 5   | 1.53933e7 | 1.38828e9  | 2.11372e10 | 8.93729e8  | NA         |\n",
       "| 6   | 1.56033e7 | 1.44687e9  | 2.32603e10 | 9.74187e8  | NA         |\n",
       "| 7   | 1.64434e7 | 1.48449e9  | 2.5302e10  | 1.0959e9   | NA         |\n",
       "| 8   | 1.66321e7 | 1.60741e9  | 2.74634e10 | 1.23742e9  | NA         |\n",
       "| 9   | 1.60742e7 | 1.67777e9  | 2.91434e10 | 1.42502e9  | NA         |\n",
       "| 10  | 1.64522e7 | 1.8475e9   | 3.16492e10 | 1.65904e9  | NA         |\n",
       "| 11  | 1.84322e7 | 2.10023e9  | 3.75554e10 | 1.9195e9   | NA         |\n",
       "⋮\n",
       "| 44  | 7.05705e8 | 1.76463e10 | 3.31109e11 | 9.70023e10 | 2.96974e10 |\n",
       "| 45  | 8.3932e8  | 2.14579e10 | 3.81705e11 | 1.14187e11 | 3.44702e10 |\n",
       "| 46  | 9.19103e8 | 2.6525e10  | 3.89042e11 | 1.27418e11 | 3.6347e10  |\n",
       "| 47  | 1.01642e9 | 3.58219e10 | 4.20032e11 | 1.47794e11 | 3.95878e10 |\n",
       "| 48  | 1.03364e9 | 4.58989e10 | 4.87816e11 | 1.79981e11 | 4.81147e10 |\n",
       "| 49  | 9.67212e8 | 5.45275e10 | 5.13966e11 | 1.92231e11 | 5.55899e10 |\n",
       "| 50  | 8.47425e8 | 5.31494e10 | 4.29657e11 | 1.92406e11 | 5.02448e10 |\n",
       "| 51  | 9.69974e8 | 6.56341e10 | 4.88379e11 | 2.3642e11  | 4.7973e10  |\n",
       "| 52  | 1.06582e9 | 6.73268e10 | 5.63113e11 | 2.7537e11  | 5.12488e10 |\n",
       "| 53  | 1.13424e9 | 6.26896e10 | 5.43881e11 | 2.89941e11 | 4.62627e10 |\n",
       "| 54  | 1.41103e9 | 6.64807e10 | 5.79526e11 | 3.02246e11 | 4.79899e10 |\n",
       "| 55  | 1.40576e9 | 7.38154e10 | 5.70591e11 | 3.07872e11 | 4.94161e10 |\n",
       "\n",
       "| Row | SK         | SL        | SM        | SN         | SO        |\n",
       "|-----|------------|-----------|-----------|------------|-----------|\n",
       "| 1   | NA         | 3.22009e8 | NA        | 7.92825e8  | 1.80461e8 |\n",
       "| 2   | NA         | 3.27835e8 | NA        | 8.36493e8  | 1.91661e8 |\n",
       "| 3   | NA         | 3.42722e8 | NA        | 8.57426e8  | 2.03533e8 |\n",
       "| 4   | NA         | 3.48547e8 | NA        | 8.86387e8  | 2.16147e8 |\n",
       "| 5   | NA         | 3.71848e8 | NA        | 9.39146e8  | 2.29531e8 |\n",
       "| 6   | NA         | 3.5938e8  | NA        | 9.55835e8  | 2.43726e8 |\n",
       "| 7   | NA         | 3.7548e8  | NA        | 9.84943e8  | 2.57376e8 |\n",
       "| 8   | NA         | 3.48795e8 | NA        | 9.84605e8  | 2.71782e8 |\n",
       "| 9   | NA         | 3.2986e8  | NA        | 1.03429e9  | 2.8672e8  |\n",
       "| 10  | NA         | 4.0869e8  | NA        | 9.83621e8  | 3.0023e8  |\n",
       "| 11  | NA         | 4.3441e8  | NA        | 1.02483e9  | 3.16148e8 |\n",
       "⋮\n",
       "| 44  | 4.68109e10 | 1.37144e9 | 1.12298e9 | 6.85895e9  | NA        |\n",
       "| 45  | 5.73294e10 | 1.43121e9 | 1.31736e9 | 8.03134e9  | NA        |\n",
       "| 46  | 6.26765e10 | 1.62785e9 | 1.37542e9 | 8.70702e9  | NA        |\n",
       "| 47  | 7.04503e10 | 1.88511e9 | 1.469e9   | 9.35871e9  | NA        |\n",
       "| 48  | 8.60309e10 | 2.1585e9  | 1.68757e9 | 1.12846e10 | NA        |\n",
       "| 49  | 9.98326e10 | 2.50546e9 | 1.89988e9 | 1.33863e10 | NA        |\n",
       "| 50  | 8.86342e10 | 2.4539e9  | NA        | 1.2813e10  | NA        |\n",
       "| 51  | 8.90119e10 | 2.57803e9 | NA        | 1.29324e10 | NA        |\n",
       "| 52  | 9.75254e10 | 2.93211e9 | NA        | 1.44407e10 | NA        |\n",
       "| 53  | 9.27474e10 | 3.78912e9 | NA        | 1.40457e10 | NA        |\n",
       "| 54  | 9.77127e10 | 4.92827e9 | NA        | 1.47917e10 | NA        |\n",
       "| 55  | 9.97901e10 | 4.89236e9 | NA        | 1.55789e10 | NA        |\n",
       "\n",
       "| Row | SR        | SS         | ST        | SV         | SY         |\n",
       "|-----|-----------|------------|-----------|------------|------------|\n",
       "| 1   | 9.385e7   | NA         | NA        | NA         | 8.57704e8  |\n",
       "| 2   | 9.84e7    | NA         | NA        | NA         | 9.45245e8  |\n",
       "| 3   | 1.035e8   | NA         | NA        | NA         | 1.11057e9  |\n",
       "| 4   | 1.1e8     | NA         | NA        | NA         | 1.20045e9  |\n",
       "| 5   | 1.2085e8  | NA         | NA        | NA         | 1.33949e9  |\n",
       "| 6   | 1.3865e8  | NA         | NA        | 8.7772e8   | 1.47204e9  |\n",
       "| 7   | 1.711e8   | NA         | NA        | 9.2952e8   | 1.34229e9  |\n",
       "| 8   | 1.9845e8  | NA         | NA        | 9.762e8    | 1.58023e9  |\n",
       "| 9   | 2.206e8   | NA         | NA        | 1.00976e9  | 1.75375e9  |\n",
       "| 10  | 2.3345e8  | NA         | NA        | 1.0494e9   | 2.24501e9  |\n",
       "| 11  | 2.4715e8  | NA         | NA        | 1.13292e9  | 2.14038e9  |\n",
       "⋮\n",
       "| 44  | 1.2712e9  | NA         | 1.01315e8 | 1.50467e10 | 2.18281e10 |\n",
       "| 45  | 1.48409e9 | NA         | 1.10723e8 | 1.57983e10 | 2.50869e10 |\n",
       "| 46  | 1.79378e9 | NA         | 1.23259e8 | 1.70938e10 | 2.8859e10  |\n",
       "| 47  | 2.62633e9 | NA         | 1.35182e8 | 1.85507e10 | 3.33328e10 |\n",
       "| 48  | 2.93661e9 | NA         | 1.44259e8 | 2.01049e10 | 4.0405e10  |\n",
       "| 49  | 3.53297e9 | 1.55504e10 | 1.83465e8 | 2.1431e10  | NA         |\n",
       "| 50  | 3.87541e9 | 1.22313e10 | 1.96474e8 | 2.0661e10  | NA         |\n",
       "| 51  | 4.36837e9 | 1.57278e10 | 2.01038e8 | 2.14183e10 | NA         |\n",
       "| 52  | 4.42319e9 | 1.78269e10 | 2.48287e8 | 2.3139e10  | NA         |\n",
       "| 53  | 5.01303e9 | 1.0369e10  | 2.63328e8 | 2.38136e10 | NA         |\n",
       "| 54  | 5.29879e9 | 1.18044e10 | 3.10685e8 | 2.42591e10 | NA         |\n",
       "| 55  | NA        | 1.307e10   | 3.34902e8 | 2.522e10   | NA         |\n",
       "\n",
       "| Row | SZ        | TD         | TG        | TH         | TJ        | TL      |\n",
       "|-----|-----------|------------|-----------|------------|-----------|---------|\n",
       "| 1   | 3.50762e7 | 3.13583e8  | 1.21128e8 | 2.76075e9  | NA        | NA      |\n",
       "| 2   | 4.30252e7 | 3.33975e8  | 1.26396e8 | 3.03404e9  | NA        | NA      |\n",
       "| 3   | 4.59271e7 | 3.57636e8  | 1.32237e8 | 3.30891e9  | NA        | NA      |\n",
       "| 4   | 5.41284e7 | 3.71767e8  | 1.43256e8 | 3.5404e9   | NA        | NA      |\n",
       "| 5   | 6.49793e7 | 3.92247e8  | 1.66104e8 | 3.88913e9  | NA        | NA      |\n",
       "| 6   | 7.02786e7 | 4.16926e8  | 1.873e8   | 4.38894e9  | NA        | NA      |\n",
       "| 7   | 7.68585e7 | 4.32795e8  | 2.16136e8 | 5.27923e9  | NA        | NA      |\n",
       "| 8   | 7.47585e7 | 4.49826e8  | 2.31706e8 | 5.63846e9  | NA        | NA      |\n",
       "| 9   | 7.97984e7 | 4.5398e8   | 2.41957e8 | 6.08101e9  | NA        | NA      |\n",
       "| 10  | 1.05418e8 | 4.71636e8  | 2.67732e8 | 6.69534e9  | NA        | NA      |\n",
       "| 11  | 1.12138e8 | 4.69267e8  | 2.53977e8 | 7.08654e9  | NA        | NA      |\n",
       "⋮\n",
       "| 44  | 1.85403e9 | 2.73667e9  | 1.67369e9 | 1.4264e11  | 1.55413e9 | 4.53e8  |\n",
       "| 45  | 2.42065e9 | 4.41493e9  | 1.93707e9 | 1.6134e11  | 2.07615e9 | 4.66e8  |\n",
       "| 46  | 2.58408e9 | 6.64666e9  | 2.11515e9 | 1.76352e11 | 2.31234e9 | 4.91e8  |\n",
       "| 47  | 2.94794e9 | 7.4221e9   | 2.20281e9 | 2.07089e11 | 2.83023e9 | 4.63e8  |\n",
       "| 48  | 3.05381e9 | 8.63871e9  | 2.52346e9 | 2.46977e11 | 3.71952e9 | 5.59e8  |\n",
       "| 49  | 3.01978e9 | 1.03519e10 | 3.16342e9 | 2.72578e11 | 5.1613e9  | 6.94e8  |\n",
       "| 50  | 3.14467e9 | 9.25348e9  | 3.163e9   | 2.63711e11 | 4.97947e9 | 8.18e8  |\n",
       "| 51  | 3.52778e9 | 1.06577e10 | 3.17295e9 | 3.18908e11 | 5.64222e9 | 9.34e8  |\n",
       "| 52  | 3.80679e9 | 1.21564e10 | 3.75602e9 | 3.45672e11 | 6.52276e9 | 1.123e9 |\n",
       "| 53  | 3.7606e9  | 1.23681e10 | 3.91578e9 | 3.65966e11 | 7.63304e9 | 1.27e9  |\n",
       "| 54  | 3.53023e9 | 1.29499e10 | 4.33858e9 | 3.87253e11 | 8.50662e9 | 1.468e9 |\n",
       "| 55  | 3.40042e9 | 1.39222e10 | 4.51844e9 | 3.73804e11 | 9.24163e9 | 1.552e9 |\n",
       "\n",
       "| Row | TM         | TN         | TO        | TR         | TT         |\n",
       "|-----|------------|------------|-----------|------------|------------|\n",
       "| 1   | NA         | NA         | NA        | 1.39836e10 | 5.35673e8  |\n",
       "| 2   | NA         | NA         | NA        | 8.02222e9  | 5.84965e8  |\n",
       "| 3   | NA         | NA         | NA        | 8.92222e9  | 6.19323e8  |\n",
       "| 4   | NA         | NA         | NA        | 1.03556e10 | 6.78239e8  |\n",
       "| 5   | NA         | NA         | NA        | 1.11778e10 | 7.11898e8  |\n",
       "| 6   | NA         | 9.91048e8  | NA        | 1.19444e10 | 7.36573e8  |\n",
       "| 7   | NA         | 1.04095e9  | NA        | 1.41222e10 | 7.2374e8   |\n",
       "| 8   | NA         | 1.08571e9  | NA        | 1.56667e10 | 7.61981e8  |\n",
       "| 9   | NA         | 1.21467e9  | NA        | 1.75e10    | 7.589e8    |\n",
       "| 10  | NA         | 1.2899e9   | NA        | 1.94667e10 | 7.792e8    |\n",
       "| 11  | NA         | 1.43924e9  | NA        | 1.7087e10  | 8.2185e8   |\n",
       "⋮\n",
       "| 44  | 5.97744e9  | 2.74531e10 | 2.08099e8 | 3.03005e11 | 1.1236e10  |\n",
       "| 45  | 6.83835e9  | 3.11831e10 | 2.36247e8 | 3.92166e11 | 1.28847e10 |\n",
       "| 46  | 8.10436e9  | 3.22722e10 | 2.58735e8 | 4.82986e11 | 1.59824e10 |\n",
       "| 47  | 1.02776e10 | 3.43778e10 | 2.87986e8 | 5.309e11   | 1.83691e10 |\n",
       "| 48  | 1.26642e10 | 3.89093e10 | 2.99653e8 | 6.47155e11 | 2.16423e10 |\n",
       "| 49  | 1.92715e10 | 4.48551e10 | 3.40034e8 | 7.30337e11 | 2.78701e10 |\n",
       "| 50  | 2.02144e10 | 4.34557e10 | 3.21304e8 | 6.14554e11 | 1.91751e10 |\n",
       "| 51  | 2.21481e10 | 4.4426e10  | 3.69818e8 | 7.31168e11 | 2.05784e10 |\n",
       "| 52  | 2.92333e10 | 4.59514e10 | 4.41245e8 | 7.74754e11 | 2.35419e10 |\n",
       "| 53  | 3.51642e10 | 4.52389e10 | 4.57242e8 | 7.88863e11 | 2.32249e10 |\n",
       "| 54  | 4.1013e10  | 4.69948e10 | 4.3289e8  | 8.23243e11 | 2.44338e10 |\n",
       "| 55  | 4.79319e10 | NA         | 4.34386e8 | 7.99535e11 | NA         |\n",
       "\n",
       "| Row | TV        | TZ         | UA         | UG         | US         |\n",
       "|-----|-----------|------------|------------|------------|------------|\n",
       "| 1   | NA        | NA         | NA         | 4.23008e8  | 5.433e11   |\n",
       "| 2   | NA        | NA         | NA         | 4.41524e8  | 5.633e11   |\n",
       "| 3   | NA        | NA         | NA         | 4.49013e8  | 6.051e11   |\n",
       "| 4   | NA        | NA         | NA         | 5.16148e8  | 6.386e11   |\n",
       "| 5   | NA        | NA         | NA         | 5.89057e8  | 6.858e11   |\n",
       "| 6   | NA        | NA         | NA         | 8.84874e8  | 7.437e11   |\n",
       "| 7   | NA        | NA         | NA         | 9.2577e8   | 8.15e11    |\n",
       "| 8   | NA        | NA         | NA         | 9.67647e8  | 8.617e11   |\n",
       "| 9   | NA        | NA         | NA         | 1.03782e9  | 9.425e11   |\n",
       "| 10  | NA        | NA         | NA         | 1.16905e9  | 1.0199e12  |\n",
       "| 11  | NA        | NA         | NA         | 1.26008e9  | 1.07588e12 |\n",
       "⋮\n",
       "| 44  | 1.82309e7 | 1.16591e10 | 5.0133e10  | 6.3367e9   | 1.15107e13 |\n",
       "| 45  | 2.15357e7 | 1.28258e10 | 6.48831e10 | 7.94036e9  | 1.22749e13 |\n",
       "| 46  | 2.18395e7 | 1.693e10   | 8.61415e10 | 9.01383e9  | 1.30937e13 |\n",
       "| 47  | 2.29033e7 | 1.86105e10 | 1.07753e11 | 9.9426e9   | 1.38559e13 |\n",
       "| 48  | 2.7031e7  | 2.15017e10 | 1.42719e11 | 1.22928e10 | 1.44776e13 |\n",
       "| 49  | 3.02908e7 | 2.73883e10 | 1.79992e11 | 1.4239e10  | 1.47186e13 |\n",
       "| 50  | 2.71013e7 | 2.85742e10 | 1.17228e11 | 1.69929e10 | 1.44187e13 |\n",
       "| 51  | 3.18247e7 | 3.11054e10 | 1.36419e11 | 1.88039e10 | 1.49644e13 |\n",
       "| 52  | 3.93135e7 | 3.35615e10 | 1.6316e11  | 1.86613e10 | 1.55179e13 |\n",
       "| 53  | 3.98757e7 | 3.88087e10 | 1.75781e11 | 2.37247e10 | 1.61632e13 |\n",
       "| 54  | 3.83224e7 | 4.43335e10 | 1.8331e11  | 2.47032e10 | 1.67681e13 |\n",
       "| 55  | NA        | 4.91839e10 | 1.31805e11 | 2.63124e10 | 1.7419e13  |\n",
       "\n",
       "| Row | UY         | UZ         | VC        | VE         | VI      |\n",
       "|-----|------------|------------|-----------|------------|---------|\n",
       "| 1   | 1.24399e9  | NA         | 1.30666e7 | 8.6076e9   | 2.42e7  |\n",
       "| 2   | 1.54962e9  | NA         | 1.4e7     | 8.92337e9  | 2.57e7  |\n",
       "| 3   | 1.70922e9  | NA         | 1.4525e7  | 9.8734e9   | 3.69e7  |\n",
       "| 4   | 1.53897e9  | NA         | 1.37083e7 | 1.06634e10 | 4.14e7  |\n",
       "| 5   | 1.97451e9  | NA         | 1.47583e7 | 9.11358e9  | 5.38e7  |\n",
       "| 6   | 1.88919e9  | NA         | 1.51083e7 | 9.60294e9  | 6.65e7  |\n",
       "| 7   | 1.80878e9  | NA         | 1.61e7    | 1.00966e10 | 8.41e7  |\n",
       "| 8   | 1.59815e9  | NA         | 1.58351e7 | 1.04728e10 | 1.154e8 |\n",
       "| 9   | 1.5937e9   | NA         | 1.535e7   | 1.14709e10 | 1.738e8 |\n",
       "| 10  | 2.00434e9  | NA         | 1.665e7   | 1.19276e10 | 2.113e8 |\n",
       "| 11  | 2.13724e9  | NA         | 1.845e7   | 1.29931e10 | 2.19e8  |\n",
       "⋮\n",
       "| 44  | 1.20456e10 | 1.01281e10 | 4.81806e8 | 8.36222e10 | NA      |\n",
       "| 45  | 1.36863e10 | 1.203e10   | 5.21975e8 | 1.12451e11 | NA      |\n",
       "| 46  | 1.73629e10 | 1.43075e10 | 5.50729e8 | 1.45513e11 | NA      |\n",
       "| 47  | 1.95795e10 | 1.70309e10 | 6.10778e8 | 1.83478e11 | NA      |\n",
       "| 48  | 2.34106e10 | 2.23114e10 | 6.84049e8 | 2.30364e11 | NA      |\n",
       "| 49  | 3.03662e10 | 2.7934e10  | 6.95429e8 | 3.156e11   | NA      |\n",
       "| 50  | 3.16609e10 | 3.28168e10 | 6.74922e8 | 3.29419e11 | NA      |\n",
       "| 51  | 4.02845e10 | 3.93328e10 | 6.81371e8 | 3.93801e11 | NA      |\n",
       "| 52  | 4.79624e10 | 4.53243e10 | 6.77039e8 | 3.16482e11 | NA      |\n",
       "| 53  | 5.13839e10 | 5.11834e10 | 6.94446e8 | 3.81286e11 | NA      |\n",
       "| 54  | 5.75247e10 | 5.67957e10 | 7.18879e8 | 3.71337e11 | NA      |\n",
       "| 55  | 5.74713e10 | 6.2644e10  | 7.28697e8 | 5.09964e11 | NA      |\n",
       "\n",
       "| Row | VN         | VU        | WS        | XC         | XD         |\n",
       "|-----|------------|-----------|-----------|------------|------------|\n",
       "| 1   | NA         | NA        | NA        | 2.45704e11 | 1.10862e12 |\n",
       "| 2   | NA         | NA        | NA        | 2.70455e11 | 1.17318e12 |\n",
       "| 3   | NA         | NA        | NA        | 3.00133e11 | 1.26691e12 |\n",
       "| 4   | NA         | NA        | NA        | 3.36702e11 | 1.36342e12 |\n",
       "| 5   | NA         | NA        | NA        | 3.74489e11 | 1.48592e12 |\n",
       "| 6   | NA         | NA        | NA        | 4.08641e11 | 1.61316e12 |\n",
       "| 7   | NA         | NA        | NA        | 4.4561e11  | 1.76863e12 |\n",
       "| 8   | NA         | NA        | NA        | 4.8406e11  | 1.89624e12 |\n",
       "| 9   | NA         | NA        | NA        | 5.18927e11 | 2.05411e12 |\n",
       "| 10  | NA         | NA        | NA        | 5.73265e11 | 2.25377e12 |\n",
       "| 11  | NA         | NA        | NA        | 6.42133e11 | 2.47579e12 |\n",
       "⋮\n",
       "| 44  | 4.27171e10 | 3.14463e8 | 3.38836e8 | 8.84652e12 | 3.23505e13 |\n",
       "| 45  | 4.94241e10 | 3.64997e8 | 4.20318e8 | 1.0142e13  | 3.61813e13 |\n",
       "| 46  | 5.76333e10 | 3.94962e8 | 4.65562e8 | 1.05234e13 | 3.84419e13 |\n",
       "| 47  | 6.63717e10 | 4.39377e8 | 5.05832e8 | 1.11719e13 | 4.08368e13 |\n",
       "| 48  | 7.74144e10 | 5.26428e8 | 5.70469e8 | 1.28652e13 | 4.49637e13 |\n",
       "| 49  | 9.91303e10 | 6.07959e8 | 6.19261e8 | 1.41045e13 | 4.81732e13 |\n",
       "| 50  | 1.06015e11 | 6.10076e8 | 5.86153e8 | 1.28982e13 | 4.4845e13  |\n",
       "| 51  | 1.15932e11 | 7.00804e8 | 6.56789e8 | 1.26354e13 | 4.73856e13 |\n",
       "| 52  | 1.35539e11 | 7.9215e8  | 7.62099e8 | 1.36217e13 | 5.13252e13 |\n",
       "| 53  | 1.5582e11  | 7.81703e8 | 8.04336e8 | 1.26428e13 | 5.15846e13 |\n",
       "| 54  | 1.71222e11 | 8.01788e8 | 7.95948e8 | 1.31863e13 | 5.22426e13 |\n",
       "| 55  | 1.86205e11 | NA        | 8.00587e8 | 1.34027e13 | 5.29067e13 |\n",
       "\n",
       "| Row | XE         | XJ         | XK        | XL         | XM         |\n",
       "|-----|------------|------------|-----------|------------|------------|\n",
       "| 1   | 1.45071e10 | NA         | NA        | NA         | NA         |\n",
       "| 2   | 1.53708e10 | NA         | NA        | NA         | NA         |\n",
       "| 3   | 1.62006e10 | NA         | NA        | NA         | NA         |\n",
       "| 4   | 1.74426e10 | NA         | NA        | NA         | NA         |\n",
       "| 5   | 1.90627e10 | NA         | NA        | NA         | NA         |\n",
       "| 6   | 2.14079e10 | NA         | NA        | NA         | NA         |\n",
       "| 7   | 2.31942e10 | NA         | NA        | NA         | NA         |\n",
       "| 8   | 2.40979e10 | NA         | NA        | NA         | NA         |\n",
       "| 9   | 2.47175e10 | NA         | NA        | NA         | NA         |\n",
       "| 10  | 2.66927e10 | NA         | NA        | NA         | NA         |\n",
       "| 11  | 2.84707e10 | NA         | NA        | NA         | NA         |\n",
       "⋮\n",
       "| 44  | 1.81173e11 | 1.62878e12 | 3.35508e9 | 2.34469e11 | 1.15206e11 |\n",
       "| 45  | 2.07864e11 | 1.84397e12 | 3.63994e9 | 2.72142e11 | 1.30805e11 |\n",
       "| 46  | 2.4036e11  | 2.2334e12  | 3.73651e9 | 3.22276e11 | 1.51951e11 |\n",
       "| 47  | 2.8797e11  | 2.61336e12 | 4.07816e9 | 3.7566e11  | 1.69812e11 |\n",
       "| 48  | 3.44168e11 | 3.0783e12  | 4.83356e9 | 4.61062e11 | 2.03942e11 |\n",
       "| 49  | 4.14723e11 | 3.53453e12 | 5.68749e9 | 5.67738e11 | 2.45827e11 |\n",
       "| 50  | 4.173e11   | 3.28603e12 | 5.65379e9 | 5.65428e11 | 2.57832e11 |\n",
       "| 51  | 4.61268e11 | 4.10621e12 | 5.82993e9 | 6.31339e11 | 2.79295e11 |\n",
       "| 52  | 5.1445e11  | 4.75416e12 | 6.696e9   | 7.13535e11 | 3.13322e11 |\n",
       "| 53  | 5.51581e11 | 4.65689e12 | 6.50032e9 | 7.56082e11 | 3.42669e11 |\n",
       "| 54  | 5.9806e11  | 4.76457e12 | 7.07302e9 | 7.97875e11 | 3.68755e11 |\n",
       "| 55  | 6.32555e11 | 4.76394e12 | 7.27385e9 | 8.67877e11 | 3.97409e11 |\n",
       "\n",
       "| Row | XN         | XO         | XP         | XQ         | XR         |\n",
       "|-----|------------|------------|------------|------------|------------|\n",
       "| 1   | 9.23876e10 | 2.72344e11 | 2.61793e11 | NA         | NA         |\n",
       "| 2   | 9.85035e10 | 2.60112e11 | 2.49241e11 | NA         | NA         |\n",
       "| 3   | 1.0131e11  | 2.64067e11 | 2.52767e11 | NA         | NA         |\n",
       "| 4   | 1.12567e11 | 2.89457e11 | 2.77334e11 | NA         | NA         |\n",
       "| 5   | 1.27227e11 | 3.29507e11 | 3.16565e11 | NA         | NA         |\n",
       "| 6   | 1.36609e11 | 3.64761e11 | 3.501e11   | NA         | NA         |\n",
       "| 7   | 1.23237e11 | 3.74575e11 | 3.58696e11 | NA         | NA         |\n",
       "| 8   | 1.31495e11 | 3.89288e11 | 3.72565e11 | NA         | NA         |\n",
       "| 9   | 1.40918e11 | 4.06136e11 | 3.89214e11 | NA         | NA         |\n",
       "| 10  | 1.57316e11 | 4.51752e11 | 4.33757e11 | NA         | NA         |\n",
       "| 11  | 1.73433e11 | 4.99159e11 | 4.80051e11 | NA         | NA         |\n",
       "⋮\n",
       "| 44  | 1.62352e12 | 6.23275e12 | 6.11846e12 | 4.90171e11 | 1.92555e12 |\n",
       "| 45  | 1.85533e12 | 7.2824e12  | 7.15228e12 | 5.61595e11 | 2.35538e12 |\n",
       "| 46  | 2.13459e12 | 8.59284e12 | 8.44145e12 | 6.59016e11 | 2.83562e12 |\n",
       "| 47  | 2.5319e12  | 1.01382e13 | 9.96799e12 | 7.82098e11 | 3.35759e12 |\n",
       "| 48  | 3.11714e12 | 1.24955e13 | 1.22906e13 | 9.57518e11 | 4.02888e12 |\n",
       "| 49  | 3.46834e12 | 1.48237e13 | 1.45771e13 | 1.181e12   | 4.90191e12 |\n",
       "| 50  | 3.56797e12 | 1.48769e13 | 1.46187e13 | 1.14198e12 | 4.13423e12 |\n",
       "| 51  | 4.52115e12 | 1.81308e13 | 1.78497e13 | 1.31189e12 | 4.90607e12 |\n",
       "| 52  | 5.05516e12 | 2.12827e13 | 2.09667e13 | 1.55455e12 | 5.76367e12 |\n",
       "| 53  | 5.25753e12 | 2.24968e13 | 2.21517e13 | 1.65482e12 | 6.17495e12 |\n",
       "| 54  | 5.46283e12 | 2.39231e13 | 2.35519e13 | 1.62111e12 | 6.36982e12 |\n",
       "| 55  | 5.78029e12 | 2.49968e13 | 2.45973e13 | 1.52261e12 | 6.25978e12 |\n",
       "\n",
       "| Row | XS         | XT         | YE         | Z4         | Z7         |\n",
       "|-----|------------|------------|------------|------------|------------|\n",
       "| 1   | 1.04401e12 | 1.69798e11 | NA         | 1.53599e11 | 4.33354e11 |\n",
       "| 2   | 1.10436e12 | 1.49869e11 | NA         | 1.54236e11 | 4.61316e11 |\n",
       "| 3   | 1.19208e12 | 1.5041e11  | NA         | 1.57752e11 | 5.04346e11 |\n",
       "| 4   | 1.28278e12 | 1.63452e11 | NA         | 1.75443e11 | 5.56149e11 |\n",
       "| 5   | 1.4003e12  | 1.87986e11 | NA         | 2.0169e11  | 6.15892e11 |\n",
       "| 6   | 1.52068e12 | 2.12565e11 | NA         | 2.24522e11 | 6.70197e11 |\n",
       "| 7   | 1.66804e12 | 2.36837e11 | NA         | 2.50972e11 | 7.28102e11 |\n",
       "| 8   | 1.78868e12 | 2.42015e11 | NA         | 2.72065e11 | 7.83372e11 |\n",
       "| 9   | 1.93715e12 | 2.48559e11 | NA         | 2.99849e11 | 8.17014e11 |\n",
       "| 10  | 2.12539e12 | 2.76684e11 | NA         | 3.45394e11 | 8.96999e11 |\n",
       "| 11  | 2.33377e12 | 3.0701e11  | NA         | 4.04759e11 | 1.00854e12 |\n",
       "⋮\n",
       "| 44  | 3.04209e13 | 4.49491e12 | 1.17778e10 | 8.44507e12 | 1.33785e13 |\n",
       "| 45  | 3.38252e13 | 5.29694e12 | 1.38735e10 | 9.47089e12 | 1.55956e13 |\n",
       "| 46  | 3.56089e13 | 6.30652e12 | 1.67538e10 | 1.00832e13 | 1.66031e13 |\n",
       "| 47  | 3.74848e13 | 7.43575e12 | 1.90817e10 | 1.07055e13 | 1.79769e13 |\n",
       "| 48  | 4.09441e13 | 9.17301e12 | 2.56337e10 | 1.20014e13 | 2.10169e13 |\n",
       "| 49  | 4.32893e13 | 1.11039e13 | 3.03972e10 | 1.3841e13  | 2.30777e13 |\n",
       "| 50  | 4.07215e13 | 1.10475e13 | 2.84595e10 | 1.42479e13 | 2.03119e13 |\n",
       "| 51  | 4.24986e13 | 1.33278e13 | 3.09068e10 | 1.66161e13 | 2.08221e13 |\n",
       "| 52  | 4.55886e13 | 1.59057e13 | 3.10789e10 | 1.92374e13 | 2.29225e13 |\n",
       "| 53  | 4.5443e13  | 1.68865e13 | 3.20748e10 | 2.0596e13  | 2.19902e13 |\n",
       "| 54  | 4.59085e13 | 1.80803e13 | 3.59545e10 | 2.08079e13 | 2.29125e13 |\n",
       "| 55  | 4.66738e13 | 1.88083e13 | NA         | 2.14218e13 | 2.31133e13 |\n",
       "\n",
       "| Row | ZA         | ZF         | ZG         | ZJ         | ZM         |\n",
       "|-----|------------|------------|------------|------------|------------|\n",
       "| 1   | 7.3631e9   | 2.65782e10 | 2.65807e10 | NA         | 6.98736e8  |\n",
       "| 2   | 7.74263e9  | 2.80632e10 | 2.80646e10 | NA         | 6.82356e8  |\n",
       "| 3   | 8.2697e9   | 2.993e10   | 2.99318e10 | NA         | 6.79276e8  |\n",
       "| 4   | 9.17487e9  | 3.2148e10  | 3.21515e10 | NA         | 7.04336e8  |\n",
       "| 5   | 1.00714e10 | 3.50215e10 | 3.50267e10 | NA         | 8.22635e8  |\n",
       "| 6   | 1.10024e10 | 3.79939e10 | 3.80579e10 | NA         | 1.06119e9  |\n",
       "| 7   | 1.1995e10  | 4.08247e10 | 4.08925e10 | NA         | 1.23899e9  |\n",
       "| 8   | 1.33823e10 | 4.15697e10 | 4.16409e10 | NA         | 1.34063e9  |\n",
       "| 9   | 1.44757e10 | 4.41425e10 | 4.42055e10 | NA         | 1.57373e9  |\n",
       "| 10  | 1.63153e10 | 4.99814e10 | 5.004e10   | NA         | 1.92639e9  |\n",
       "| 11  | 1.7907e10  | 6.00592e10 | 6.01114e10 | NA         | 1.78877e9  |\n",
       "⋮\n",
       "| 44  | 1.75257e11 | 4.57176e11 | 4.60366e11 | 2.03995e12 | 4.90187e9  |\n",
       "| 45  | 2.28594e11 | 5.67228e11 | 5.72483e11 | 2.37013e12 | 6.22111e9  |\n",
       "| 46  | 2.57772e11 | 6.64098e11 | 6.7325e11  | 2.86944e12 | 8.33186e9  |\n",
       "| 47  | 2.71639e11 | 7.76216e11 | 7.85327e11 | 3.36806e12 | 1.27569e10 |\n",
       "| 48  | 2.99415e11 | 9.03442e11 | 9.14686e11 | 3.9775e12  | 1.4057e10  |\n",
       "| 49  | 2.8677e11  | 1.02716e12 | 1.04359e12 | 4.62157e12 | 1.79109e10 |\n",
       "| 50  | 2.95936e11 | 9.85556e11 | 9.95836e11 | 4.34521e12 | 1.53283e10 |\n",
       "| 51  | 3.75349e11 | 1.32025e12 | 1.33293e12 | 5.37515e12 | 2.02656e10 |\n",
       "| 52  | 4.16597e11 | 1.48154e12 | 1.49844e12 | 6.09124e12 | 2.37317e10 |\n",
       "| 53  | 3.97386e11 | 1.55283e12 | 1.57058e12 | 6.12538e12 | 2.49393e10 |\n",
       "| 54  | 3.66058e11 | 1.63177e12 | 1.64891e12 | 6.25903e12 | 2.68208e10 |\n",
       "| 55  | 3.49817e11 | 1.71242e12 | 1.72832e12 | 6.29837e12 | 2.70662e10 |\n",
       "\n",
       "| Row | ZQ         | ZW         |\n",
       "|-----|------------|------------|\n",
       "| 1   | NA         | 1.05299e9  |\n",
       "| 2   | NA         | 1.09665e9  |\n",
       "| 3   | NA         | 1.1176e9   |\n",
       "| 4   | NA         | 1.15951e9  |\n",
       "| 5   | NA         | 1.21714e9  |\n",
       "| 6   | NA         | 1.31144e9  |\n",
       "| 7   | NA         | 1.28175e9  |\n",
       "| 8   | NA         | 1.397e9    |\n",
       "| 9   | 3.20111e10 | 1.4796e9   |\n",
       "| 10  | 3.56556e10 | 1.748e9    |\n",
       "| 11  | 3.96772e10 | 1.88421e9  |\n",
       "⋮\n",
       "| 44  | 1.06331e12 | 5.72759e9  |\n",
       "| 45  | 1.23691e12 | 5.8056e9   |\n",
       "| 46  | 1.48769e12 | 5.75522e9  |\n",
       "| 47  | 1.75786e12 | 5.4439e9   |\n",
       "| 48  | 2.0737e12  | 5.29195e9  |\n",
       "| 49  | 2.58862e12 | 4.4157e9   |\n",
       "| 50  | 2.31107e12 | 8.15708e9  |\n",
       "| 51  | 2.68773e12 | 9.45681e9  |\n",
       "| 52  | 3.25792e12 | 1.09562e10 |\n",
       "| 53  | 3.49656e12 | 1.24724e10 |\n",
       "| 54  | 3.55906e12 | 1.34902e10 |\n",
       "| 55  | 3.49139e12 | 1.36633e10 |,[1960-12-31,1961-12-31,1962-12-31,1963-12-31,1964-12-31,1965-12-31,1966-12-31,1967-12-31,1968-12-31,1969-12-31  …  2005-12-31,2006-12-31,2007-12-31,2008-12-31,2009-12-31,2010-12-31,2011-12-31,2012-12-31,2013-12-31,2014-12-31])"
      ]
     },
     "execution_count": 27,
     "metadata": {},
     "output_type": "execute_result"
    }
   ],
   "source": [
    "gdp_data = selectIndicator(data_raw, :gdp)"
   ]
  },
  {
   "cell_type": "code",
   "execution_count": 28,
   "metadata": {
    "collapsed": true
   },
   "outputs": [],
   "source": [
    "writeTimedata(\"../tmp/gdp.csv\", gdp_data)"
   ]
  },
  {
   "cell_type": "markdown",
   "metadata": {},
   "source": [
    "# Session info"
   ]
  },
  {
   "cell_type": "code",
   "execution_count": 29,
   "metadata": {
    "collapsed": false
   },
   "outputs": [
    {
     "name": "stdout",
     "output_type": "stream",
     "text": [
      "Julia Version 0.3.5\n",
      "Commit a05f87b* (2015-01-08 22:33 UTC)\n",
      "Platform Info:\n",
      "  System: Linux (x86_64-linux-gnu)\n",
      "  CPU: Intel(R) Core(TM) i3-3240 CPU @ 3.40GHz\n",
      "  WORD_SIZE: 64\n",
      "  BLAS: libblas.so.3\n",
      "  LAPACK: liblapack.so.3\n",
      "  LIBM: libopenlibm\n",
      "  LLVM: libLLVM-3.3\n"
     ]
    }
   ],
   "source": [
    "versioninfo()"
   ]
  },
  {
   "cell_type": "code",
   "execution_count": 30,
   "metadata": {
    "collapsed": false
   },
   "outputs": [
    {
     "name": "stdout",
     "output_type": "stream",
     "text": [
      "20 required packages:\n",
      " - DataArrays                    0.2.16\n",
      " - DataFrames                    0.6.7\n",
      " - Dates                         0.3.2\n",
      " - Debug                         0.1.3\n",
      " - Distributions                 0.7.4\n",
      " - Docile                        0.5.12\n",
      " - GLM                           0.4.6\n",
      " - Gadfly                        0.3.13\n",
      " - IJulia                        0.2.5\n",
      " - JuMP                          0.9.2\n",
      " - Lexicon                       0.1.13\n",
      " - MAT                           0.2.12\n",
      " - NLopt                         0.2.1\n",
      " - Plotly                        0.0.3+             master\n",
      " - Quandl                        0.4.2\n",
      " - RDatasets                     0.1.2\n",
      " - Requires                      0.1.2+             master\n",
      " - Taro                          0.1.4\n",
      " - TimeSeries                    0.5.10\n",
      " - Winston                       0.11.11\n",
      "58 additional packages:\n",
      " - ArrayViews                    0.6.2\n",
      " - AssetMgmt                     0.0.0-             master (unregistered)\n",
      " - BinDeps                       0.3.14\n",
      " - Blosc                         0.1.2\n",
      " - Cairo                         0.2.28\n",
      " - Calculus                      0.1.6\n",
      " - Codecs                        0.1.4\n",
      " - Color                         0.4.6\n",
      " - Compat                        0.4.9\n",
      " - Compose                       0.3.13\n",
      " - Contour                       0.0.7\n",
      " - Copulas                       0.0.0-             master (unregistered)\n",
      " - DataStructures                0.3.10\n",
      " - Distances                     0.2.0\n",
      " - DualNumbers                   0.1.3\n",
      " - EconDatasets                  0.0.2+             master\n",
      " - Econometrics                  0.0.0-             master (unregistered)\n",
      " - FixedPointNumbers             0.0.8\n",
      " - GZip                          0.2.17\n",
      " - GnuTLS                        0.0.4\n",
      " - Graphics                      0.1.0\n",
      " - Grid                          0.3.10\n",
      " - HDF5                          0.4.18\n",
      " - HTTPClient                    0.1.5\n",
      " - Hexagons                      0.0.3\n",
      " - HttpCommon                    0.0.12\n",
      " - HttpParser                    0.0.11\n",
      " - ImmutableArrays               0.0.8\n",
      " - IniFile                       0.2.4\n",
      " - Iterators                     0.1.8\n",
      " - JFinM_Charts                  0.0.0-             master (unregistered)\n",
      " - JSON                          0.4.4\n",
      " - JavaCall                      0.2.3\n",
      " - KernelDensity                 0.1.0              b2c9f7d6 (dirty)\n",
      " - LibCURL                       0.1.4\n",
      " - Loess                         0.0.3\n",
      " - MathProgBase                  0.3.12\n",
      " - Memoize                       0.0.0\n",
      " - NaNMath                       0.0.2\n",
      " - Nettle                        0.1.8\n",
      " - NumericFuns                   0.2.3\n",
      " - Optim                         0.4.2\n",
      " - PDMats                        0.3.3\n",
      " - REPLCompletions               0.0.3\n",
      " - Reexport                      0.0.2\n",
      " - Requests                      0.0.8\n",
      " - ReverseDiffSparse             0.2.9\n",
      " - SHA                           0.0.4\n",
      " - Showoff                       0.0.4\n",
      " - SortingAlgorithms             0.0.5\n",
      " - StatsBase                     0.6.15\n",
      " - TimeData                      0.6.1+             master\n",
      " - Tk                            0.3.5\n",
      " - URIParser                     0.0.5\n",
      " - WoodburyMatrices              0.1.0\n",
      " - WorldBankDataTd               0.0.0-             master (unregistered)\n",
      " - ZMQ                           0.1.19\n",
      " - Zlib                          0.1.8\n"
     ]
    }
   ],
   "source": [
    "Pkg.status()"
   ]
  }
 ],
 "metadata": {
  "kernelspec": {
   "display_name": "Julia",
   "name": "julia"
  },
  "language_info": {
   "name": "julia",
   "version": "0.3.5"
  }
 },
 "nbformat": 4,
 "nbformat_minor": 0
}
