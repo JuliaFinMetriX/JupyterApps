{
 "cells": [
  {
   "cell_type": "markdown",
   "metadata": {},
   "source": [
    "In this notebook we will take a look at the huge database provided by The World Bank, which comprises a bunch of socio-economic indicators for almost all countries and some regional and income aggregates. Thereby we will make use of packages `WorldBankDataTd` and time series data stored in `TimeData` types."
   ]
  },
  {
   "cell_type": "markdown",
   "metadata": {},
   "source": [
    "#### Data download"
   ]
  },
  {
   "cell_type": "markdown",
   "metadata": {},
   "source": [
    "- load required packages\n",
    "- load World Bank metadata into cache"
   ]
  },
  {
   "cell_type": "code",
   "execution_count": 1,
   "metadata": {
    "collapsed": false
   },
   "outputs": [
    {
     "name": "stderr",
     "output_type": "stream",
     "text": [
      "Warning: New definition \n",
      "    get(Any,Colon) at /home/jovyan/.julia/v0.3/TimeData/src/abstractFuncs.jl:77\n",
      "is ambiguous with: \n",
      "    get(Nullable{T},Any) at /home/jovyan/.julia/v0.3/Compat/src/nullable.jl:39.\n",
      "To fix, define \n",
      "    get(Nullable{T},Colon)\n",
      "before the new definition.\n",
      "Warning: New definition \n",
      "    get(Any,Colon) at /home/jovyan/.julia/v0.3/TimeData/src/abstractFuncs.jl:77\n",
      "is ambiguous with: \n",
      "    get(OrderedDict{K,V},Any...) at /home/jovyan/.julia/v0.3/DataStructures/src/delegate.jl:11.\n",
      "To fix, define \n",
      "    get(OrderedDict{K,V},Colon)\n",
      "before the new definition.\n",
      "Warning: New definition \n",
      "    get(Any,Colon) at /home/jovyan/.julia/v0.3/TimeData/src/abstractFuncs.jl:77\n",
      "is ambiguous with: \n",
      "    get(DefaultDictBase{K,V,F,D},Any...) at /home/jovyan/.julia/v0.3/DataStructures/src/delegate.jl:11.\n",
      "To fix, define \n",
      "    get(DefaultDictBase{K,V,F,D},Colon)\n",
      "before the new definition.\n",
      "Warning: New definition \n",
      "    get(Any,Colon) at /home/jovyan/.julia/v0.3/TimeData/src/abstractFuncs.jl:77\n",
      "is ambiguous with: \n",
      "    get(DefaultDict{K,V,F},Any...) at /home/jovyan/.julia/v0.3/DataStructures/src/delegate.jl:11.\n",
      "To fix, define \n",
      "    get(DefaultDict{K,V,F},Colon)\n",
      "before the new definition.\n",
      "Warning: New definition \n",
      "    get(Any,Colon) at /home/jovyan/.julia/v0.3/TimeData/src/abstractFuncs.jl:77\n",
      "is ambiguous with: \n",
      "    get(DefaultOrderedDict{K,V,F},Any...) at /home/jovyan/.julia/v0.3/DataStructures/src/delegate.jl:11.\n",
      "To fix, define \n",
      "    get(DefaultOrderedDict{K,V,F},Colon)\n",
      "before the new definition.\n"
     ]
    },
    {
     "data": {
      "text/plain": [
       "12-element Array{Symbol,1}:\n",
       " :iso3c    \n",
       " :iso2c    \n",
       " :name     \n",
       " :region   \n",
       " :regionId \n",
       " :capital  \n",
       " :longitude\n",
       " :latitude \n",
       " :income   \n",
       " :incomeId \n",
       " :lending  \n",
       " :lendingId"
      ]
     },
     "execution_count": 1,
     "metadata": {},
     "output_type": "execute_result"
    }
   ],
   "source": [
    "using WorldBankDataTd\n",
    "using TimeData\n",
    "using Base.Test\n",
    "\n",
    "loadWBMeta(\"countries\")\n",
    "loadWBMeta(\"indicators\")\n",
    "\n",
    "names(WorldBankDataTd.country_cache)"
   ]
  },
  {
   "cell_type": "markdown",
   "metadata": {},
   "source": [
    "- less relevant: metadata of individual indicators"
   ]
  },
  {
   "cell_type": "code",
   "execution_count": 2,
   "metadata": {
    "collapsed": false
   },
   "outputs": [
    {
     "data": {
      "text/plain": [
       "6-element Array{Symbol,1}:\n",
       " :indicator          \n",
       " :name               \n",
       " :description        \n",
       " :source_database    \n",
       " :source_databaseId  \n",
       " :source_organization"
      ]
     },
     "execution_count": 2,
     "metadata": {},
     "output_type": "execute_result"
    }
   ],
   "source": [
    "names(WorldBankDataTd.indicator_cache)"
   ]
  },
  {
   "cell_type": "markdown",
   "metadata": {},
   "source": [
    "- specify indicators for download, together with less cryptic names"
   ]
  },
  {
   "cell_type": "code",
   "execution_count": 3,
   "metadata": {
    "collapsed": false
   },
   "outputs": [
    {
     "data": {
      "text/plain": [
       "Dict{Symbol,String} with 2 entries:\n",
       "  :gdp_pc => \"NY.GDP.PCAP.KD\"\n",
       "  :gdp    => \"NY.GDP.MKTP.CD\""
      ]
     },
     "execution_count": 3,
     "metadata": {},
     "output_type": "execute_result"
    }
   ],
   "source": [
    "indic2acron = Dict{Symbol, String}()\n",
    "indic2acron[:gdp] = \"NY.GDP.MKTP.CD\"\n",
    "indic2acron[:gdp_pc] = \"NY.GDP.PCAP.KD\"\n",
    "\n",
    "## invert dictionary\n",
    "acron2indic = Dict{String, Symbol}()\n",
    "for (key, val) in indic2acron\n",
    "    acron2indic[val] = key\n",
    "end\n",
    "\n",
    "indic2acron"
   ]
  },
  {
   "cell_type": "code",
   "execution_count": 4,
   "metadata": {
    "collapsed": false
   },
   "outputs": [
    {
     "data": {
      "text/plain": [
       "Dict{String,Symbol} with 2 entries:\n",
       "  \"NY.GDP.MKTP.CD\" => :gdp\n",
       "  \"NY.GDP.PCAP.KD\" => :gdp_pc"
      ]
     },
     "execution_count": 4,
     "metadata": {},
     "output_type": "execute_result"
    }
   ],
   "source": [
    "acron2indic"
   ]
  },
  {
   "cell_type": "markdown",
   "metadata": {},
   "source": [
    "- download data for *all* entities\n",
    "- rename acronyms to own indicator names"
   ]
  },
  {
   "cell_type": "code",
   "execution_count": 5,
   "metadata": {
    "collapsed": false
   },
   "outputs": [
    {
     "name": "stdout",
     "output_type": "stream",
     "text": [
      "download: http://api.worldbank.org/countries/AW;AF;A9;AO;AL;AD;L5;1A;AE;AR;AM;AS;AG;AU;AT;AZ;BI;BE;BJ;BF;BD;BG;BH;BS;BA;BY;BZ;BM;BO;BR;BB;BN;BT;BW;C9;CF;CA;C4;B8;C5;CH;JG;CL;CN;CI;C6;C7;CM;CD;CG;CO;KM;CV;CR;C8;S3;CU;CW;KY;CY;CZ;DE;DJ;DM;DK;DO;DZ;4E;Z4;7E;Z7;EC;EG;XC;ER;ES;EE;ET;EU;F1;FI;FJ;FR;FO;FM;GA;GB;GE;GH;GN;GM;GW;GQ;GR;GD;GL;GT;GU;GY;XD;HK;HN;XE;HR;HT;HU;ID;IM;IN;XY;IE;IR;IQ;IS;IL;IT;JM;JO;JP;KZ;KE;KG;KH;KI;KN;KR;KV;KW;XJ;LA;LB;LR;LY;LC;ZJ;L4;XL;XM;LI;LK;XN;XO;LS;LT;LU;LV;MO;MF;MA;L6;MC;MD;MG;MV;ZQ;MX;MH;XP;MK;ML;MT;MM;XQ;ME;MN;MP;MZ;MR;MU;MW;MY;XU;M2;NA;NC;NE;NG;NI;NL;XR;NO;NP;NZ;XS;OE;OM;S4;PK;PA;PE;PH;PW;PG;PL;PR;KP;PT;PY;PS;S2;PF;QA;RO;RU;RW;8S;SA;L7;SD;SN;SG;SB;SL;SV;SM;SO;RS;ZF;SS;ZG;S1;ST;SR;SK;SI;SE;SZ;SX;A4;SC;SY;TC;TD;TG;TH;TJ;TM;TL;TO;TT;TN;TR;TV;TZ;UG;UA;XT;UY;US;UZ;VC;VE;VI;VN;VU;1W;WS;A5;YE;ZA;ZM;ZW/indicators/NY.GDP.PCAP.KD?date=1800:3000&per_page=25000&format=json\n",
      "download: http://api.worldbank.org/countries/AW;AF;A9;AO;AL;AD;L5;1A;AE;AR;AM;AS;AG;AU;AT;AZ;BI;BE;BJ;BF;BD;BG;BH;BS;BA;BY;BZ;BM;BO;BR;BB;BN;BT;BW;C9;CF;CA;C4;B8;C5;CH;JG;CL;CN;CI;C6;C7;CM;CD;CG;CO;KM;CV;CR;C8;S3;CU;CW;KY;CY;CZ;DE;DJ;DM;DK;DO;DZ;4E;Z4;7E;Z7;EC;EG;XC;ER;ES;EE;ET;EU;F1;FI;FJ;FR;FO;FM;GA;GB;GE;GH;GN;GM;GW;GQ;GR;GD;GL;GT;GU;GY;XD;HK;HN;XE;HR;HT;HU;ID;IM;IN;XY;IE;IR;IQ;IS;IL;IT;JM;JO;JP;KZ;KE;KG;KH;KI;KN;KR;KV;KW;XJ;LA;LB;LR;LY;LC;ZJ;L4;XL;XM;LI;LK;XN;XO;LS;LT;LU;LV;MO;MF;MA;L6;MC;MD;MG;MV;ZQ;MX;MH;XP;MK;ML;MT;MM;XQ;ME;MN;MP;MZ;MR;MU;MW;MY;XU;M2;NA;NC;NE;NG;NI;NL;XR;NO;NP;NZ;XS;OE;OM;S4;PK;PA;PE;PH;PW;PG;PL;PR;KP;PT;PY;PS;S2;PF;QA;RO;RU;RW;8S;SA;L7;SD;SN;SG;SB;SL;SV;SM;SO;RS;ZF;SS;ZG;S1;ST;SR;SK;SI;SE;SZ;SX;A4;SC;SY;TC;TD;TG;TH;TJ;TM;TL;TO;TT;TN;TR;TV;TZ;UG;UA;XT;UY;US;UZ;VC;VE;VI;VN;VU;1W;WS;A5;YE;ZA;ZM;ZW/indicators/NY.GDP.MKTP.CD?date=1800:3000&per_page=25000&format=json\n"
     ]
    },
    {
     "data": {
      "text/html": [
       "<p><strong>Timedata{Date}</strong></p><p>Dimensions: <strong>(10316, 4)</strong></p><p>From: <strong>1968-12-31</strong>, To: <strong>2013-12-31</strong></p><table class=\"data-frame\"><tr><th></th><th>idx</th><th>iso2c</th><th>country</th><th>gdp_pc</th><th>gdp</th></tr><tr><th>1</th><td>1968-12-31</td><td>1A</td><td>Arab World</td><td>NA</td><td>2.56663748941163e10</td></tr><tr><th>2</th><td>1969-12-31</td><td>1A</td><td>Arab World</td><td>NA</td><td>2.83163058410547e10</td></tr><tr><th>3</th><td>1970-12-31</td><td>1A</td><td>Arab World</td><td>NA</td><td>3.09105279868433e10</td></tr><tr><th>4</th><td>1971-12-31</td><td>1A</td><td>Arab World</td><td>NA</td><td>3.58949220540846e10</td></tr><tr><th>5</th><td>1972-12-31</td><td>1A</td><td>Arab World</td><td>NA</td><td>4.27615044154761e10</td></tr><tr><th>6</th><td>1973-12-31</td><td>1A</td><td>Arab World</td><td>NA</td><td>5.43460112040674e10</td></tr><tr><th>7</th><td>1974-12-31</td><td>1A</td><td>Arab World</td><td>NA</td><td>1.04171520718403e11</td></tr><tr><th>8</th><td>1975-12-31</td><td>1A</td><td>Arab World</td><td>2602.49320053478</td><td>1.1555994555701e11</td></tr><tr><th>9</th><td>1976-12-31</td><td>1A</td><td>Arab World</td><td>2851.88842522894</td><td>1.43926191662762e11</td></tr><tr><th>10</th><td>1977-12-31</td><td>1A</td><td>Arab World</td><td>2993.6775339461</td><td>1.6585938589638e11</td></tr><tr><th>11</th><td>1978-12-31</td><td>1A</td><td>Arab World</td><td>2947.20663427543</td><td>1.83388384317175e11</td></tr><tr><th>12</th><td>1979-12-31</td><td>1A</td><td>Arab World</td><td>3148.50961405101</td><td>2.47383069811542e11</td></tr><tr><th>13</th><td>1980-12-31</td><td>1A</td><td>Arab World</td><td>3342.50738662605</td><td>3.36533958404118e11</td></tr><tr><th>14</th><td>1981-12-31</td><td>1A</td><td>Arab World</td><td>3375.70647016965</td><td>3.46360975887592e11</td></tr><tr><th>15</th><td>1982-12-31</td><td>1A</td><td>Arab World</td><td>3146.45798570752</td><td>3.22732035751819e11</td></tr><tr><th>16</th><td>1983-12-31</td><td>1A</td><td>Arab World</td><td>2963.50536377216</td><td>3.02612254596354e11</td></tr><tr><th>17</th><td>1984-12-31</td><td>1A</td><td>Arab World</td><td>2921.98653436217</td><td>3.06654358897441e11</td></tr><tr><th>18</th><td>1985-12-31</td><td>1A</td><td>Arab World</td><td>2832.62355583971</td><td>3.026961474628e11</td></tr><tr><th>19</th><td>1986-12-31</td><td>1A</td><td>Arab World</td><td>2767.89227245332</td><td>2.8801842418282e11</td></tr><tr><th>20</th><td>1987-12-31</td><td>1A</td><td>Arab World</td><td>2694.24419644667</td><td>3.11557517066344e11</td></tr><tr><th>21</th><td>1988-12-31</td><td>1A</td><td>Arab World</td><td>2737.87918704427</td><td>3.06163221843082e11</td></tr><tr><th>22</th><td>1989-12-31</td><td>1A</td><td>Arab World</td><td>2718.80573160708</td><td>3.20902061204838e11</td></tr><tr><th>23</th><td>1990-12-31</td><td>1A</td><td>Arab World</td><td>2881.58770256963</td><td>4.43859896980229e11</td></tr><tr><th>24</th><td>1991-12-31</td><td>1A</td><td>Arab World</td><td>2844.97942710384</td><td>4.36805584515447e11</td></tr><tr><th>25</th><td>1992-12-31</td><td>1A</td><td>Arab World</td><td>2933.04121445862</td><td>4.6783448365711e11</td></tr><tr><th>26</th><td>1993-12-31</td><td>1A</td><td>Arab World</td><td>2963.61175572189</td><td>4.73299323397529e11</td></tr><tr><th>27</th><td>1994-12-31</td><td>1A</td><td>Arab World</td><td>2993.84990479408</td><td>4.84261108020598e11</td></tr><tr><th>28</th><td>1995-12-31</td><td>1A</td><td>Arab World</td><td>2986.29906474241</td><td>5.20049266473856e11</td></tr><tr><th>29</th><td>1996-12-31</td><td>1A</td><td>Arab World</td><td>3062.74963939092</td><td>5.7446817797369e11</td></tr><tr><th>30</th><td>1997-12-31</td><td>1A</td><td>Arab World</td><td>3147.05606121395</td><td>6.09294244518064e11</td></tr><tr><th>&vellip;</th><td>&vellip;</td><td>&vellip;</td><td>&vellip;</td><td>&vellip;</td><td>&vellip;</td></tr></table>"
      ],
      "text/plain": [
       "Timedata{Date}(10316x4 DataFrame\n",
       "| Row   | iso2c | country      | gdp_pc  | gdp        |\n",
       "|-------|-------|--------------|---------|------------|\n",
       "| 1     | \"1A\"  | \"Arab World\" | NA      | 2.56664e10 |\n",
       "| 2     | \"1A\"  | \"Arab World\" | NA      | 2.83163e10 |\n",
       "| 3     | \"1A\"  | \"Arab World\" | NA      | 3.09105e10 |\n",
       "| 4     | \"1A\"  | \"Arab World\" | NA      | 3.58949e10 |\n",
       "| 5     | \"1A\"  | \"Arab World\" | NA      | 4.27615e10 |\n",
       "| 6     | \"1A\"  | \"Arab World\" | NA      | 5.4346e10  |\n",
       "| 7     | \"1A\"  | \"Arab World\" | NA      | 1.04172e11 |\n",
       "| 8     | \"1A\"  | \"Arab World\" | 2602.49 | 1.1556e11  |\n",
       "| 9     | \"1A\"  | \"Arab World\" | 2851.89 | 1.43926e11 |\n",
       "| 10    | \"1A\"  | \"Arab World\" | 2993.68 | 1.65859e11 |\n",
       "| 11    | \"1A\"  | \"Arab World\" | 2947.21 | 1.83388e11 |\n",
       "⋮\n",
       "| 10305 | \"ZW\"  | \"Zimbabwe\"   | 617.593 | 6.34212e9  |\n",
       "| 10306 | \"ZW\"  | \"Zimbabwe\"   | 511.331 | 5.72759e9  |\n",
       "| 10307 | \"ZW\"  | \"Zimbabwe\"   | 480.878 | 5.8056e9   |\n",
       "| 10308 | \"ZW\"  | \"Zimbabwe\"   | 452.789 | 5.75522e9  |\n",
       "| 10309 | \"ZW\"  | \"Zimbabwe\"   | 436.644 | 5.4439e9   |\n",
       "| 10310 | \"ZW\"  | \"Zimbabwe\"   | 420.169 | 5.29195e9  |\n",
       "| 10311 | \"ZW\"  | \"Zimbabwe\"   | 344.742 | 4.4157e9   |\n",
       "| 10312 | \"ZW\"  | \"Zimbabwe\"   | 362.4   | 8.15708e9  |\n",
       "| 10313 | \"ZW\"  | \"Zimbabwe\"   | 397.822 | 9.45681e9  |\n",
       "| 10314 | \"ZW\"  | \"Zimbabwe\"   | 435.794 | 1.09562e10 |\n",
       "| 10315 | \"ZW\"  | \"Zimbabwe\"   | 469.002 | 1.24724e10 |\n",
       "| 10316 | \"ZW\"  | \"Zimbabwe\"   | 475.302 | 1.349e10   |,[1968-12-31,1969-12-31,1970-12-31,1971-12-31,1972-12-31,1973-12-31,1974-12-31,1975-12-31,1976-12-31,1977-12-31  …  2004-12-31,2005-12-31,2006-12-31,2007-12-31,2008-12-31,2009-12-31,2010-12-31,2011-12-31,2012-12-31,2013-12-31])"
      ]
     },
     "execution_count": 5,
     "metadata": {},
     "output_type": "execute_result"
    }
   ],
   "source": [
    "indAcronyms = [values(indic2acron)...]\n",
    "data_raw = wdi(indAcronyms, \"all\")\n",
    "\n",
    "## rename variables\n",
    "for (acron, indName) in acron2indic\n",
    "    rename!(data_raw.vals, symbol(acron), indName)\n",
    "end\n",
    "\n",
    "data_raw"
   ]
  },
  {
   "cell_type": "markdown",
   "metadata": {},
   "source": [
    "## Restructure data"
   ]
  },
  {
   "cell_type": "markdown",
   "metadata": {},
   "source": [
    "- restructure data to relational database\n",
    "- first step:\n",
    "    - move country name / code conversion to extra table \n",
    "    - spaces in country names are not robust: work with iso2c codes\n",
    "    - eliminate country name column in observation table"
   ]
  },
  {
   "cell_type": "code",
   "execution_count": 6,
   "metadata": {
    "collapsed": false
   },
   "outputs": [
    {
     "data": {
      "text/html": [
       "<table class=\"data-frame\"><tr><th></th><th>iso3c</th><th>iso2c</th><th>name</th></tr><tr><th>1</th><td>ABW</td><td>AW</td><td>Aruba</td></tr><tr><th>2</th><td>AFG</td><td>AF</td><td>Afghanistan</td></tr><tr><th>3</th><td>AFR</td><td>A9</td><td>Africa</td></tr><tr><th>4</th><td>AGO</td><td>AO</td><td>Angola</td></tr><tr><th>5</th><td>ALB</td><td>AL</td><td>Albania</td></tr><tr><th>6</th><td>AND</td><td>AD</td><td>Andorra</td></tr></table>"
      ],
      "text/plain": [
       "6x3 DataFrame\n",
       "| Row | iso3c | iso2c | name          |\n",
       "|-----|-------|-------|---------------|\n",
       "| 1   | \"ABW\" | \"AW\"  | \"Aruba\"       |\n",
       "| 2   | \"AFG\" | \"AF\"  | \"Afghanistan\" |\n",
       "| 3   | \"AFR\" | \"A9\"  | \"Africa\"      |\n",
       "| 4   | \"AGO\" | \"AO\"  | \"Angola\"      |\n",
       "| 5   | \"ALB\" | \"AL\"  | \"Albania\"     |\n",
       "| 6   | \"AND\" | \"AD\"  | \"Andorra\"     |"
      ]
     },
     "execution_count": 6,
     "metadata": {},
     "output_type": "execute_result"
    }
   ],
   "source": [
    "isoCodes = WorldBankDataTd.country_cache[:, [:iso3c, :iso2c, :name]]\n",
    "head(isoCodes)"
   ]
  },
  {
   "cell_type": "code",
   "execution_count": 7,
   "metadata": {
    "collapsed": false
   },
   "outputs": [
    {
     "data": {
      "text/html": [
       "<p><strong>Timedata{Date}</strong></p><p>Dimensions: <strong>(2, 3)</strong></p><p>From: <strong>1968-12-31</strong>, To: <strong>1969-12-31</strong></p><table class=\"data-frame\"><tr><th></th><th>idx</th><th>iso2c</th><th>gdp_pc</th><th>gdp</th></tr><tr><th>1</th><td>1968-12-31</td><td>1A</td><td>NA</td><td>2.56663748941163e10</td></tr><tr><th>2</th><td>1969-12-31</td><td>1A</td><td>NA</td><td>2.83163058410547e10</td></tr></table>"
      ],
      "text/plain": [
       "Timedata{Date}(2x3 DataFrame\n",
       "| Row | iso2c | gdp_pc | gdp        |\n",
       "|-----|-------|--------|------------|\n",
       "| 1   | \"1A\"  | NA     | 2.56664e10 |\n",
       "| 2   | \"1A\"  | NA     | 2.83163e10 |,[1968-12-31,1969-12-31])"
      ]
     },
     "execution_count": 7,
     "metadata": {},
     "output_type": "execute_result"
    }
   ],
   "source": [
    "# function to remove specified columns from Timedata instance\n",
    "function rmCols(td::AbstractTimedata, colNames::Array{Symbol, 1})\n",
    "    remainCols = setdiff(names(td), colNames)\n",
    "    return td[remainCols]\n",
    "end\n",
    "\n",
    "data = rmCols(data_raw, [:country])\n",
    "\n",
    "data[1:2, :]"
   ]
  },
  {
   "cell_type": "markdown",
   "metadata": {},
   "source": [
    "- find missing entities"
   ]
  },
  {
   "cell_type": "code",
   "execution_count": 8,
   "metadata": {
    "collapsed": false
   },
   "outputs": [
    {
     "data": {
      "text/plain": [
       "26-element Array{UTF8String,1}:\n",
       " \"Africa\"                                               \n",
       " \"Andean Region\"                                        \n",
       " \"American Samoa\"                                       \n",
       " \"Sub-Saharan Africa (IFC classification)\"              \n",
       " \"East Asia and the Pacific (IFC classification)\"       \n",
       " \"Europe and Central Asia (IFC classification)\"         \n",
       " \"Latin America and the Caribbean (IFC classification)\" \n",
       " \"Middle East and North Africa (IFC classification)\"    \n",
       " \"South Asia (IFC classification)\"                      \n",
       " \"Curacao\"                                              \n",
       " \"Guam\"                                                 \n",
       " \"Not classified\"                                       \n",
       " \"Latin America and the Caribbean\"                      \n",
       " \"St. Martin (French part)\"                             \n",
       " \"Mexico and Central America\"                           \n",
       " \"Middle East (developing only)\"                        \n",
       " \"Myanmar\"                                              \n",
       " \"Northern Mariana Islands\"                             \n",
       " \"North America\"                                        \n",
       " \"North Africa\"                                         \n",
       " \"Korea, Dem. Rep.\"                                     \n",
       " \"Southern Cone Extended\"                               \n",
       " \"Sint Maarten (Dutch part)\"                            \n",
       " \"Sub-Saharan Africa excluding South Africa\"            \n",
       " \"Turks and Caicos Islands\"                             \n",
       " \"Sub-Saharan Africa excluding South Africa and Nigeria\""
      ]
     },
     "execution_count": 8,
     "metadata": {},
     "output_type": "execute_result"
    }
   ],
   "source": [
    "allEntities = array(WorldBankDataTd.country_cache[:iso2c])\n",
    "entitiesPresent = array(unique(data_raw.vals[:iso2c]))\n",
    "\n",
    "missEnts = setdiff(allEntities, entitiesPresent)\n",
    "\n",
    "missingEntities = UTF8String[isoCodes[find(isoCodes[:iso2c] .== missEnt), :name][1] for missEnt in missEnts]"
   ]
  },
  {
   "cell_type": "markdown",
   "metadata": {},
   "source": [
    "- split data into country observations and observations of aggregates\n",
    "- get list of countries / aggregates"
   ]
  },
  {
   "cell_type": "code",
   "execution_count": 9,
   "metadata": {
    "collapsed": false
   },
   "outputs": [
    {
     "data": {
      "text/plain": [
       "1x2 Array{Int64,2}:\n",
       " 49  214"
      ]
     },
     "execution_count": 9,
     "metadata": {},
     "output_type": "execute_result"
    }
   ],
   "source": [
    "# find aggregates\n",
    "aggrInds = WorldBankDataTd.country_cache[:region] .== \"Aggregates\"\n",
    "aggrList = array(WorldBankDataTd.country_cache[:iso2c][aggrInds]) # no need for DataArray\n",
    "ctryList = array(WorldBankDataTd.country_cache[:iso2c][!aggrInds]) # no need for DataArray\n",
    "\n",
    "# unit test \n",
    "nEntities = size(WorldBankDataTd.country_cache, 1)\n",
    "nCtry = size(ctryList, 1)\n",
    "nAggr = size(aggrList, 1)\n",
    "\n",
    "@test nCtry + nAggr == nEntities\n",
    "\n",
    "[size(aggrList, 1) size(ctryList, 1)]"
   ]
  },
  {
   "cell_type": "markdown",
   "metadata": {},
   "source": [
    "- get region and income affiliations for countries"
   ]
  },
  {
   "cell_type": "code",
   "execution_count": 10,
   "metadata": {
    "collapsed": false
   },
   "outputs": [
    {
     "data": {
      "text/plain": [
       "12-element Array{Symbol,1}:\n",
       " :iso3c    \n",
       " :iso2c    \n",
       " :name     \n",
       " :region   \n",
       " :regionId \n",
       " :capital  \n",
       " :longitude\n",
       " :latitude \n",
       " :income   \n",
       " :incomeId \n",
       " :lending  \n",
       " :lendingId"
      ]
     },
     "execution_count": 10,
     "metadata": {},
     "output_type": "execute_result"
    }
   ],
   "source": [
    "names(WorldBankDataTd.country_cache)"
   ]
  },
  {
   "cell_type": "code",
   "execution_count": 11,
   "metadata": {
    "collapsed": false
   },
   "outputs": [
    {
     "data": {
      "text/html": [
       "<table class=\"data-frame\"><tr><th></th><th>iso2c</th><th>regionId</th><th>incomeId</th></tr><tr><th>1</th><td>AW</td><td>LCN</td><td>NOC</td></tr><tr><th>2</th><td>AF</td><td>SAS</td><td>LIC</td></tr><tr><th>3</th><td>AO</td><td>SSF</td><td>UMC</td></tr><tr><th>4</th><td>AL</td><td>ECS</td><td>UMC</td></tr><tr><th>5</th><td>AD</td><td>ECS</td><td>NOC</td></tr><tr><th>6</th><td>AE</td><td>MEA</td><td>NOC</td></tr></table>"
      ],
      "text/plain": [
       "6x3 DataFrame\n",
       "| Row | iso2c | regionId | incomeId |\n",
       "|-----|-------|----------|----------|\n",
       "| 1   | \"AW\"  | \"LCN\"    | \"NOC\"    |\n",
       "| 2   | \"AF\"  | \"SAS\"    | \"LIC\"    |\n",
       "| 3   | \"AO\"  | \"SSF\"    | \"UMC\"    |\n",
       "| 4   | \"AL\"  | \"ECS\"    | \"UMC\"    |\n",
       "| 5   | \"AD\"  | \"ECS\"    | \"NOC\"    |\n",
       "| 6   | \"AE\"  | \"MEA\"    | \"NOC\"    |"
      ]
     },
     "execution_count": 11,
     "metadata": {},
     "output_type": "execute_result"
    }
   ],
   "source": [
    "isCtry = Bool[in(ent, ctryList) for ent in WorldBankDataTd.country_cache[:iso2c]]\n",
    "ctryAffil = WorldBankDataTd.country_cache[isCtry, [:iso2c, :regionId, :incomeId]]\n",
    "\n",
    "head(ctryAffil)"
   ]
  },
  {
   "cell_type": "markdown",
   "metadata": {},
   "source": [
    "- split observations: \n",
    "    - use row iterator to find countries\n",
    "    - extract entry from \"metadata\""
   ]
  },
  {
   "cell_type": "code",
   "execution_count": 12,
   "metadata": {
    "collapsed": false
   },
   "outputs": [
    {
     "data": {
      "text/plain": [
       "DataFrame (constructor with 11 methods)"
      ]
     },
     "execution_count": 12,
     "metadata": {},
     "output_type": "execute_result"
    }
   ],
   "source": [
    "typeof(data.vals[5, :]) # not yet"
   ]
  },
  {
   "cell_type": "code",
   "execution_count": 13,
   "metadata": {
    "collapsed": false
   },
   "outputs": [
    {
     "data": {
      "text/plain": [
       "DataArray{ASCIIString,1} (constructor with 1 method)"
      ]
     },
     "execution_count": 13,
     "metadata": {},
     "output_type": "execute_result"
    }
   ],
   "source": [
    "typeof(data.vals[5, :][:iso2c]) # still not yet"
   ]
  },
  {
   "cell_type": "code",
   "execution_count": 14,
   "metadata": {
    "collapsed": false
   },
   "outputs": [
    {
     "data": {
      "text/plain": [
       "ASCIIString (constructor with 2 methods)"
      ]
     },
     "execution_count": 14,
     "metadata": {},
     "output_type": "execute_result"
    }
   ],
   "source": [
    "typeof(data.vals[5, :][:iso2c][1]) # finally"
   ]
  },
  {
   "cell_type": "code",
   "execution_count": 15,
   "metadata": {
    "collapsed": false
   },
   "outputs": [
    {
     "data": {
      "text/html": [
       "<p><strong>Timedata{Date}</strong></p><p>Dimensions: <strong>(2, 3)</strong></p><p>From: <strong>1970-12-31</strong>, To: <strong>1971-12-31</strong></p><table class=\"data-frame\"><tr><th></th><th>idx</th><th>iso2c</th><th>gdp_pc</th><th>gdp</th></tr><tr><th>1</th><td>1970-12-31</td><td>AD</td><td>28806.210599991</td><td>7.86175703229253e7</td></tr><tr><th>2</th><td>1971-12-31</td><td>AD</td><td>28634.7321388267</td><td>8.94066595140116e7</td></tr></table>"
      ],
      "text/plain": [
       "Timedata{Date}(2x3 DataFrame\n",
       "| Row | iso2c | gdp_pc  | gdp       |\n",
       "|-----|-------|---------|-----------|\n",
       "| 1   | \"AD\"  | 28806.2 | 7.86176e7 |\n",
       "| 2   | \"AD\"  | 28634.7 | 8.94067e7 |,[1970-12-31,1971-12-31])"
      ]
     },
     "execution_count": 15,
     "metadata": {},
     "output_type": "execute_result"
    }
   ],
   "source": [
    "isCtry = Bool[in(obs[:iso2c][1], ctryList) for obs in eachrow(data)]\n",
    "\n",
    "ctryData = data[isCtry, :]\n",
    "aggrData = data[!isCtry, :]\n",
    "\n",
    "ctryData[1:2, :]"
   ]
  },
  {
   "cell_type": "markdown",
   "metadata": {},
   "source": [
    "- extract relevant `gdp_pc` column"
   ]
  },
  {
   "cell_type": "code",
   "execution_count": 16,
   "metadata": {
    "collapsed": false
   },
   "outputs": [
    {
     "data": {
      "text/html": [
       "<p><strong>Timedata{Date}</strong></p><p>Dimensions: <strong>(2, 2)</strong></p><p>From: <strong>1968-12-31</strong>, To: <strong>1969-12-31</strong></p><table class=\"data-frame\"><tr><th></th><th>idx</th><th>iso2c</th><th>gdp_pc</th></tr><tr><th>1</th><td>1968-12-31</td><td>1A</td><td>NA</td></tr><tr><th>2</th><td>1969-12-31</td><td>1A</td><td>NA</td></tr></table>"
      ],
      "text/plain": [
       "Timedata{Date}(2x2 DataFrame\n",
       "| Row | iso2c | gdp_pc |\n",
       "|-----|-------|--------|\n",
       "| 1   | \"1A\"  | NA     |\n",
       "| 2   | \"1A\"  | NA     |,[1968-12-31,1969-12-31])"
      ]
     },
     "execution_count": 16,
     "metadata": {},
     "output_type": "execute_result"
    }
   ],
   "source": [
    "ctryGdp_long = ctryData[:, [:iso2c, :gdp_pc]]\n",
    "aggrGdp_long = aggrData[:, [:iso2c, :gdp_pc]]\n",
    "\n",
    "aggrGdp_long[1:2, :]"
   ]
  },
  {
   "cell_type": "markdown",
   "metadata": {},
   "source": [
    "- transform data to wide format"
   ]
  },
  {
   "cell_type": "code",
   "execution_count": 17,
   "metadata": {
    "collapsed": false
   },
   "outputs": [
    {
     "data": {
      "text/plain": [
       "singleIndicatorWide (generic function with 1 method)"
      ]
     },
     "execution_count": 17,
     "metadata": {},
     "output_type": "execute_result"
    }
   ],
   "source": [
    "function singleIndicatorWide(td::AbstractTimedata)\n",
    "    # return Timenum with columns representing countries\n",
    "    dfNAs = convert(DataFrame, td)\n",
    "    \n",
    "    # eliminate missing observations\n",
    "    inds = complete_cases(dfNAs)\n",
    "    df = dfNAs[inds, :]\n",
    "    \n",
    "    df_wide = unstack(df, :idx, :iso2c, :gdp_pc)\n",
    "    return Timenum(df_wide[:, 2:end], df_wide[:, 1])\n",
    "end"
   ]
  },
  {
   "cell_type": "markdown",
   "metadata": {},
   "source": [
    "- get log GDP\n",
    "- get growth rates"
   ]
  },
  {
   "cell_type": "code",
   "execution_count": 18,
   "metadata": {
    "collapsed": false
   },
   "outputs": [
    {
     "data": {
      "text/html": [
       "<p><strong>Timenum{Date}</strong></p><p>Dimensions: <strong>(12, 5)</strong></p><p>From: <strong>1961-12-31</strong>, To: <strong>1972-12-31</strong></p><table class=\"data-frame\"><tr><th></th><th>idx</th><th>AD</th><th>AE</th><th>AF</th><th>AG</th></tr><tr><th>1</th><td>1961-12-31</td><td>NA</td><td>NA</td><td>NA</td><td>NA</td></tr><tr><th>2</th><td>1962-12-31</td><td>NA</td><td>NA</td><td>NA</td><td>NA</td></tr><tr><th>3</th><td>1963-12-31</td><td>NA</td><td>NA</td><td>NA</td><td>NA</td></tr><tr><th>4</th><td>1964-12-31</td><td>NA</td><td>NA</td><td>NA</td><td>NA</td></tr><tr><th>5</th><td>1965-12-31</td><td>NA</td><td>NA</td><td>NA</td><td>NA</td></tr><tr><th>6</th><td>1966-12-31</td><td>NA</td><td>NA</td><td>NA</td><td>NA</td></tr><tr><th>7</th><td>1967-12-31</td><td>NA</td><td>NA</td><td>NA</td><td>NA</td></tr><tr><th>8</th><td>1968-12-31</td><td>NA</td><td>NA</td><td>NA</td><td>NA</td></tr><tr><th>9</th><td>1969-12-31</td><td>NA</td><td>NA</td><td>NA</td><td>NA</td></tr><tr><th>10</th><td>1970-12-31</td><td>NA</td><td>NA</td><td>NA</td><td>NA</td></tr><tr><th>11</th><td>1971-12-31</td><td>-0.0059706182523182605</td><td>NA</td><td>NA</td><td>NA</td></tr><tr><th>12</th><td>1972-12-31</td><td>0.027546400031200236</td><td>NA</td><td>NA</td><td>NA</td></tr></table>"
      ],
      "text/plain": [
       "Timenum{Date}(12x5 DataFrame\n",
       "| Row | AD          | AE | AF | AG | AL |\n",
       "|-----|-------------|----|----|----|----|\n",
       "| 1   | NA          | NA | NA | NA | NA |\n",
       "| 2   | NA          | NA | NA | NA | NA |\n",
       "| 3   | NA          | NA | NA | NA | NA |\n",
       "| 4   | NA          | NA | NA | NA | NA |\n",
       "| 5   | NA          | NA | NA | NA | NA |\n",
       "| 6   | NA          | NA | NA | NA | NA |\n",
       "| 7   | NA          | NA | NA | NA | NA |\n",
       "| 8   | NA          | NA | NA | NA | NA |\n",
       "| 9   | NA          | NA | NA | NA | NA |\n",
       "| 10  | NA          | NA | NA | NA | NA |\n",
       "| 11  | -0.00597062 | NA | NA | NA | NA |\n",
       "| 12  | 0.0275464   | NA | NA | NA | NA |,[1961-12-31,1962-12-31,1963-12-31,1964-12-31,1965-12-31,1966-12-31,1967-12-31,1968-12-31,1969-12-31,1970-12-31,1971-12-31,1972-12-31])"
      ]
     },
     "execution_count": 18,
     "metadata": {},
     "output_type": "execute_result"
    }
   ],
   "source": [
    "aggrGdp = singleIndicatorWide(aggrGdp_long)\n",
    "ctryGdp = singleIndicatorWide(ctryGdp_long)\n",
    "\n",
    "aggrLogGdp = log(aggrGdp)\n",
    "ctryLogGdp = log(ctryGdp)\n",
    "\n",
    "aggrGdpGrowth = aggrLogGdp[2:end, :] .- aggrLogGdp[1:(end-1), :]\n",
    "ctryGdpGrowth = ctryLogGdp[2:end, :] .- ctryLogGdp[1:(end-1), :]\n",
    "\n",
    "ctryGdpGrowth[1:12, 1:5]"
   ]
  },
  {
   "cell_type": "markdown",
   "metadata": {},
   "source": [
    "- get quantiles of growth rates"
   ]
  },
  {
   "cell_type": "code",
   "execution_count": 19,
   "metadata": {
    "collapsed": false
   },
   "outputs": [
    {
     "data": {
      "text/plain": [
       "getQuantiles (generic function with 1 method)"
      ]
     },
     "execution_count": 19,
     "metadata": {},
     "output_type": "execute_result"
    }
   ],
   "source": [
    "function getQuantiles(dfRow::DataFrame, quants::Array{Float64, 1})\n",
    "    # get values without NaNs\n",
    "    vals = asArr(dfRow[1, :], Float64, NaN)[:]\n",
    "    return quantile(vals[!isnan(vals)], quants)'\n",
    "end"
   ]
  },
  {
   "cell_type": "code",
   "execution_count": 20,
   "metadata": {
    "collapsed": false
   },
   "outputs": [
    {
     "data": {
      "text/html": [
       "<p><strong>Timematr{Date}</strong></p><p>Dimensions: <strong>(53, 5)</strong></p><p>From: <strong>1961-12-31</strong>, To: <strong>2013-12-31</strong></p><table class=\"data-frame\"><tr><th></th><th>idx</th><th>q2</th><th>q25</th><th>q50</th><th>q75</th><th>q98</th></tr><tr><th>1</th><td>1961-12-31</td><td>-0.104</td><td>0.005</td><td>0.029</td><td>0.033</td><td>0.06</td></tr><tr><th>2</th><td>1962-12-31</td><td>-0.011</td><td>0.017</td><td>0.036</td><td>0.043</td><td>0.052</td></tr><tr><th>3</th><td>1963-12-31</td><td>0.0</td><td>0.025</td><td>0.036</td><td>0.038</td><td>0.051</td></tr><tr><th>4</th><td>1964-12-31</td><td>0.018</td><td>0.043</td><td>0.05</td><td>0.052</td><td>0.081</td></tr><tr><th>5</th><td>1965-12-31</td><td>-0.024</td><td>0.028</td><td>0.034</td><td>0.04</td><td>0.066</td></tr><tr><th>6</th><td>1966-12-31</td><td>-0.012</td><td>0.007</td><td>0.023</td><td>0.044</td><td>0.059</td></tr><tr><th>7</th><td>1967-12-31</td><td>-0.026</td><td>0.014</td><td>0.021</td><td>0.035</td><td>0.058</td></tr><tr><th>8</th><td>1968-12-31</td><td>-0.001</td><td>0.021</td><td>0.04</td><td>0.049</td><td>0.074</td></tr><tr><th>9</th><td>1969-12-31</td><td>0.021</td><td>0.037</td><td>0.045</td><td>0.049</td><td>0.083</td></tr><tr><th>10</th><td>1970-12-31</td><td>0.0</td><td>0.028</td><td>0.047</td><td>0.052</td><td>0.09</td></tr><tr><th>11</th><td>1971-12-31</td><td>-0.008</td><td>0.025</td><td>0.029</td><td>0.035</td><td>0.055</td></tr><tr><th>12</th><td>1972-12-31</td><td>-0.039</td><td>0.008</td><td>0.039</td><td>0.044</td><td>0.125</td></tr><tr><th>13</th><td>1973-12-31</td><td>0.005</td><td>0.018</td><td>0.05</td><td>0.053</td><td>0.066</td></tr><tr><th>14</th><td>1974-12-31</td><td>-0.011</td><td>0.005</td><td>0.027</td><td>0.039</td><td>0.091</td></tr><tr><th>15</th><td>1975-12-31</td><td>-0.032</td><td>-0.012</td><td>0.005</td><td>0.029</td><td>0.047</td></tr><tr><th>16</th><td>1976-12-31</td><td>-0.005</td><td>0.024</td><td>0.035</td><td>0.04</td><td>0.102</td></tr><tr><th>17</th><td>1977-12-31</td><td>-0.009</td><td>0.021</td><td>0.025</td><td>0.032</td><td>0.062</td></tr><tr><th>18</th><td>1978-12-31</td><td>-0.025</td><td>-0.002</td><td>0.024</td><td>0.034</td><td>0.078</td></tr><tr><th>19</th><td>1979-12-31</td><td>-0.042</td><td>0.009</td><td>0.03</td><td>0.04</td><td>0.062</td></tr><tr><th>20</th><td>1980-12-31</td><td>-0.034</td><td>0.005</td><td>0.018</td><td>0.036</td><td>0.059</td></tr><tr><th>21</th><td>1981-12-31</td><td>-0.021</td><td>-0.003</td><td>0.005</td><td>0.011</td><td>0.038</td></tr><tr><th>22</th><td>1982-12-31</td><td>-0.065</td><td>-0.016</td><td>-0.006</td><td>0.005</td><td>0.047</td></tr><tr><th>23</th><td>1983-12-31</td><td>-0.057</td><td>-0.034</td><td>-0.005</td><td>0.02</td><td>0.053</td></tr><tr><th>24</th><td>1984-12-31</td><td>-0.018</td><td>-0.001</td><td>0.019</td><td>0.03</td><td>0.06</td></tr><tr><th>25</th><td>1985-12-31</td><td>-0.038</td><td>-0.014</td><td>0.013</td><td>0.023</td><td>0.051</td></tr><tr><th>26</th><td>1986-12-31</td><td>-0.042</td><td>0.005</td><td>0.014</td><td>0.023</td><td>0.05</td></tr><tr><th>27</th><td>1987-12-31</td><td>-0.043</td><td>-0.02</td><td>0.015</td><td>0.025</td><td>0.052</td></tr><tr><th>28</th><td>1988-12-31</td><td>-0.021</td><td>0.008</td><td>0.016</td><td>0.04</td><td>0.069</td></tr><tr><th>29</th><td>1989-12-31</td><td>-0.013</td><td>-0.004</td><td>0.02</td><td>0.032</td><td>0.043</td></tr><tr><th>30</th><td>1990-12-31</td><td>-0.029</td><td>-0.001</td><td>0.013</td><td>0.031</td><td>0.068</td></tr><tr><th>&vellip;</th><td>&vellip;</td><td>&vellip;</td><td>&vellip;</td><td>&vellip;</td><td>&vellip;</td><td>&vellip;</td></tr></table>"
      ],
      "text/plain": [
       "Timematr{Date}(53x5 DataFrame\n",
       "| Row | q2           | q25        | q50        | q75       | q98       |\n",
       "|-----|--------------|------------|------------|-----------|-----------|\n",
       "| 1   | -0.10401     | 0.00455358 | 0.0290458  | 0.0330994 | 0.059993  |\n",
       "| 2   | -0.0107847   | 0.0168517  | 0.0360496  | 0.0433259 | 0.0517786 |\n",
       "| 3   | 0.000117929  | 0.0251127  | 0.0363666  | 0.0384009 | 0.0509905 |\n",
       "| 4   | 0.0179963    | 0.0430001  | 0.049834   | 0.0522777 | 0.0812625 |\n",
       "| 5   | -0.0243688   | 0.027729   | 0.0340725  | 0.040389  | 0.0658237 |\n",
       "| 6   | -0.0124641   | 0.00658564 | 0.0228717  | 0.0442506 | 0.0587734 |\n",
       "| 7   | -0.0257794   | 0.0138324  | 0.0214243  | 0.0349738 | 0.0577606 |\n",
       "| 8   | -0.000594091 | 0.020708   | 0.0401549  | 0.0494303 | 0.0744312 |\n",
       "| 9   | 0.0209212    | 0.03739    | 0.0446217  | 0.049032  | 0.0826314 |\n",
       "| 10  | 0.000186326  | 0.0276613  | 0.0474117  | 0.0522476 | 0.0903734 |\n",
       "| 11  | -0.00798229  | 0.0248758  | 0.0293906  | 0.035327  | 0.0545153 |\n",
       "⋮\n",
       "| 42  | -0.0180741   | 0.00816979 | 0.0128192  | 0.0263113 | 0.0591301 |\n",
       "| 43  | -0.0200711   | 0.0137888  | 0.0226319  | 0.0398317 | 0.0665721 |\n",
       "| 44  | 0.0193152    | 0.0310074  | 0.0547145  | 0.0634475 | 0.0830625 |\n",
       "| 45  | 0.00989041   | 0.0261657  | 0.0340753  | 0.0506706 | 0.0749404 |\n",
       "| 46  | 0.0175758    | 0.0301427  | 0.0402724  | 0.0638843 | 0.0817741 |\n",
       "| 47  | 0.010655     | 0.0287179  | 0.0397997  | 0.0594932 | 0.0875169 |\n",
       "| 48  | -0.00520339  | 0.00952168 | 0.0234596  | 0.032823  | 0.0580815 |\n",
       "| 49  | -0.051971    | -0.0430393 | -0.0176081 | 0.0176453 | 0.0620692 |\n",
       "| 50  | 0.0103155    | 0.0228143  | 0.029724   | 0.0499017 | 0.0782205 |\n",
       "| 51  | -0.0682051   | 0.0141758  | 0.0170878  | 0.0386404 | 0.0606419 |\n",
       "| 52  | -0.00380724  | 0.00921369 | 0.0177858  | 0.0372239 | 0.077984  |\n",
       "| 53  | -0.0179398   | 0.00856968 | 0.0132885  | 0.0305264 | 0.055003  |,[1961-12-31,1962-12-31,1963-12-31,1964-12-31,1965-12-31,1966-12-31,1967-12-31,1968-12-31,1969-12-31,1970-12-31  …  2004-12-31,2005-12-31,2006-12-31,2007-12-31,2008-12-31,2009-12-31,2010-12-31,2011-12-31,2012-12-31,2013-12-31])"
      ]
     },
     "execution_count": 20,
     "metadata": {},
     "output_type": "execute_result"
    }
   ],
   "source": [
    "quants = [0.02; 0.25; 0.5; 0.75; 0.98]\n",
    "\n",
    "# for each date, get quantiles\n",
    "ctryQuantileVals = vcat([getQuantiles(vals, quants) for vals in eachrow(aggrGdpGrowth)]...)\n",
    "\n",
    "# get column names\n",
    "qNames = [symbol(string(\"q\", int(q*100))) for q in quants]\n",
    "\n",
    "# append dates\n",
    "ctryQuantiles = Timematr(ctryQuantileVals, qNames, idx(ctryGdpGrowth))"
   ]
  },
  {
   "cell_type": "markdown",
   "metadata": {},
   "source": [
    "- save relational database to disk"
   ]
  },
  {
   "cell_type": "code",
   "execution_count": 21,
   "metadata": {
    "collapsed": true
   },
   "outputs": [],
   "source": [
    "run(`mkdir -p ../tmp`)"
   ]
  },
  {
   "cell_type": "code",
   "execution_count": 22,
   "metadata": {
    "collapsed": true
   },
   "outputs": [],
   "source": [
    "writetable(\"../tmp/isoCodes.csv\", isoCodes)\n",
    "writetable(\"../tmp/ctryAffil.csv\", ctryAffil)\n",
    "\n",
    "writeTimedata(\"../tmp/ctryGdp.csv\", ctryGdp)\n",
    "writeTimedata(\"../tmp/ctryGdpGrowth.csv\", ctryGdpGrowth)\n",
    "\n",
    "writeTimedata(\"../tmp/aggrGdp.csv\", aggrGdp)\n",
    "writeTimedata(\"../tmp/aggrGdpGrowth.csv\", aggrGdpGrowth)\n",
    "\n",
    "writeTimedata(\"../tmp/ctryQuantiles.csv\", ctryQuantiles)"
   ]
  },
  {
   "cell_type": "markdown",
   "metadata": {},
   "source": [
    "# Not yet required part"
   ]
  },
  {
   "cell_type": "markdown",
   "metadata": {},
   "source": [
    "##### Initialize data handling functions"
   ]
  },
  {
   "cell_type": "markdown",
   "metadata": {},
   "source": [
    "- functions for data transformations, subsetting, manipulation\n",
    "- two common ways of subsetting:\n",
    "    - all indicators for single country\n",
    "    - single indicator for each country\n",
    "- splitting data: individual countries vs. aggregates"
   ]
  },
  {
   "cell_type": "markdown",
   "metadata": {},
   "source": [
    "As any analysis requires steady transformations, subsetting and manipulation of data, we start by setting up some additional convenience functions customized for the given dataset.\n",
    "\n",
    "Thereby, two ways of subsetting the data at hand will be of special importance: picking all indicators over time for any given single country, as well as all countries over time for any given single indicator. In both cases, data should be stored in wide format, such that each remaining variable is stored as column of the dataset.\n",
    "\n",
    "Given the current data format, picking a single indicator would be extremely easy. However, we also want to simultaneously get rid of all non-numeric columns, as we already know the single chosen country."
   ]
  },
  {
   "cell_type": "code",
   "execution_count": 23,
   "metadata": {
    "collapsed": false
   },
   "outputs": [
    {
     "data": {
      "text/plain": [
       "selectDates (generic function with 1 method)"
      ]
     },
     "execution_count": 23,
     "metadata": {},
     "output_type": "execute_result"
    }
   ],
   "source": [
    "function selectDates(data::AbstractTimedata, f::Function; replaceNA::Bool=false)\n",
    "    ssData = chkDates(f, eachdate(data)) |> \n",
    "        x -> asArr(x, Bool, replaceNA) |>\n",
    "        x -> data[x[:], :]\n",
    "    return ssData\n",
    "end"
   ]
  },
  {
   "cell_type": "code",
   "execution_count": 24,
   "metadata": {
    "collapsed": false
   },
   "outputs": [
    {
     "data": {
      "text/html": [
       "<p><strong>Timedata{Date}</strong></p><p>Dimensions: <strong>(54, 4)</strong></p><p>From: <strong>1960-12-31</strong>, To: <strong>2013-12-31</strong></p><table class=\"data-frame\"><tr><th></th><th>idx</th><th>iso2c</th><th>country</th><th>gdp_pc</th><th>gdp</th></tr><tr><th>1</th><td>1960-12-31</td><td>US</td><td>United States</td><td>15791.8617334524</td><td>5.433e11</td></tr><tr><th>2</th><td>1961-12-31</td><td>US</td><td>United States</td><td>15928.4988153057</td><td>5.633e11</td></tr><tr><th>3</th><td>1962-12-31</td><td>US</td><td>United States</td><td>16644.4416516107</td><td>6.051e11</td></tr><tr><th>4</th><td>1963-12-31</td><td>US</td><td>United States</td><td>17122.0022069121</td><td>6.386e11</td></tr><tr><th>5</th><td>1964-12-31</td><td>US</td><td>United States</td><td>17859.9978203397</td><td>6.858e11</td></tr><tr><th>6</th><td>1965-12-31</td><td>US</td><td>United States</td><td>18783.3483348074</td><td>7.437e11</td></tr><tr><th>7</th><td>1966-12-31</td><td>US</td><td>United States</td><td>19791.3412231558</td><td>8.15e11</td></tr><tr><th>8</th><td>1967-12-31</td><td>US</td><td>United States</td><td>20114.2756101855</td><td>8.617e11</td></tr><tr><th>9</th><td>1968-12-31</td><td>US</td><td>United States</td><td>20893.6109639579</td><td>9.425e11</td></tr><tr><th>10</th><td>1969-12-31</td><td>US</td><td>United States</td><td>21339.8107118115</td><td>1.0199e12</td></tr><tr><th>11</th><td>1970-12-31</td><td>US</td><td>United States</td><td>21135.1277032917</td><td>1.0759e12</td></tr><tr><th>12</th><td>1971-12-31</td><td>US</td><td>United States</td><td>21557.1671561574</td><td>1.1678e12</td></tr><tr><th>13</th><td>1972-12-31</td><td>US</td><td>United States</td><td>22448.5742828508</td><td>1.2824e12</td></tr><tr><th>14</th><td>1973-12-31</td><td>US</td><td>United States</td><td>23491.445208444</td><td>1.4285e12</td></tr><tr><th>15</th><td>1974-12-31</td><td>US</td><td>United States</td><td>23163.6019390245</td><td>1.5488e12</td></tr><tr><th>16</th><td>1975-12-31</td><td>US</td><td>United States</td><td>22885.6519499818</td><td>1.6889e12</td></tr><tr><th>17</th><td>1976-12-31</td><td>US</td><td>United States</td><td>23890.1373054893</td><td>1.8776e12</td></tr><tr><th>18</th><td>1977-12-31</td><td>US</td><td>United States</td><td>24744.7687682267</td><td>2.086e12</td></tr><tr><th>19</th><td>1978-12-31</td><td>US</td><td>United States</td><td>25846.164138636</td><td>2.3566e12</td></tr><tr><th>20</th><td>1979-12-31</td><td>US</td><td>United States</td><td>26374.0622276806</td><td>2.6321e12</td></tr><tr><th>21</th><td>1980-12-31</td><td>US</td><td>United States</td><td>26052.0328648512</td><td>2.8625e12</td></tr><tr><th>22</th><td>1981-12-31</td><td>US</td><td>United States</td><td>26453.5961403417</td><td>3.211e12</td></tr><tr><th>23</th><td>1982-12-31</td><td>US</td><td>United States</td><td>25727.8166415947</td><td>3.345e12</td></tr><tr><th>24</th><td>1983-12-31</td><td>US</td><td>United States</td><td>26676.4182315706</td><td>3.6381e12</td></tr><tr><th>25</th><td>1984-12-31</td><td>US</td><td>United States</td><td>28365.4889799695</td><td>4.0407e12</td></tr><tr><th>26</th><td>1985-12-31</td><td>US</td><td>United States</td><td>29307.1214881257</td><td>4.3467e12</td></tr><tr><th>27</th><td>1986-12-31</td><td>US</td><td>United States</td><td>30054.6181354082</td><td>4.5902e12</td></tr><tr><th>28</th><td>1987-12-31</td><td>US</td><td>United States</td><td>30849.6045899747</td><td>4.8702e12</td></tr><tr><th>29</th><td>1988-12-31</td><td>US</td><td>United States</td><td>31854.476154441</td><td>5.2526e12</td></tr><tr><th>30</th><td>1989-12-31</td><td>US</td><td>United States</td><td>32716.6550467694</td><td>5.6577e12</td></tr><tr><th>&vellip;</th><td>&vellip;</td><td>&vellip;</td><td>&vellip;</td><td>&vellip;</td><td>&vellip;</td></tr></table>"
      ],
      "text/plain": [
       "Timedata{Date}(54x4 DataFrame\n",
       "| Row | iso2c | country         | gdp_pc  | gdp        |\n",
       "|-----|-------|-----------------|---------|------------|\n",
       "| 1   | \"US\"  | \"United States\" | 15791.9 | 5.433e11   |\n",
       "| 2   | \"US\"  | \"United States\" | 15928.5 | 5.633e11   |\n",
       "| 3   | \"US\"  | \"United States\" | 16644.4 | 6.051e11   |\n",
       "| 4   | \"US\"  | \"United States\" | 17122.0 | 6.386e11   |\n",
       "| 5   | \"US\"  | \"United States\" | 17860.0 | 6.858e11   |\n",
       "| 6   | \"US\"  | \"United States\" | 18783.3 | 7.437e11   |\n",
       "| 7   | \"US\"  | \"United States\" | 19791.3 | 8.15e11    |\n",
       "| 8   | \"US\"  | \"United States\" | 20114.3 | 8.617e11   |\n",
       "| 9   | \"US\"  | \"United States\" | 20893.6 | 9.425e11   |\n",
       "| 10  | \"US\"  | \"United States\" | 21339.8 | 1.0199e12  |\n",
       "| 11  | \"US\"  | \"United States\" | 21135.1 | 1.0759e12  |\n",
       "⋮\n",
       "| 43  | \"US\"  | \"United States\" | 41282.9 | 1.09775e13 |\n",
       "| 44  | \"US\"  | \"United States\" | 42078.9 | 1.15107e13 |\n",
       "| 45  | \"US\"  | \"United States\" | 43270.4 | 1.22749e13 |\n",
       "| 46  | \"US\"  | \"United States\" | 44307.8 | 1.30937e13 |\n",
       "| 47  | \"US\"  | \"United States\" | 45052.5 | 1.38559e13 |\n",
       "| 48  | \"US\"  | \"United States\" | 45417.4 | 1.44776e13 |\n",
       "| 49  | \"US\"  | \"United States\" | 44873.0 | 1.47186e13 |\n",
       "| 50  | \"US\"  | \"United States\" | 43234.3 | 1.44187e13 |\n",
       "| 51  | \"US\"  | \"United States\" | 43961.0 | 1.49644e13 |\n",
       "| 52  | \"US\"  | \"United States\" | 44341.8 | 1.55179e13 |\n",
       "| 53  | \"US\"  | \"United States\" | 45038.2 | 1.61632e13 |\n",
       "| 54  | \"US\"  | \"United States\" | 45710.3 | 1.67681e13 |,[1960-12-31,1961-12-31,1962-12-31,1963-12-31,1964-12-31,1965-12-31,1966-12-31,1967-12-31,1968-12-31,1969-12-31  …  2004-12-31,2005-12-31,2006-12-31,2007-12-31,2008-12-31,2009-12-31,2010-12-31,2011-12-31,2012-12-31,2013-12-31])"
      ]
     },
     "execution_count": 24,
     "metadata": {},
     "output_type": "execute_result"
    }
   ],
   "source": [
    "kk = selectDates(data_raw, x -> get(x[:iso2c], :) == \"US\", replaceNA = false)"
   ]
  },
  {
   "cell_type": "code",
   "execution_count": 25,
   "metadata": {
    "collapsed": false
   },
   "outputs": [
    {
     "data": {
      "text/plain": [
       "selectCountry (generic function with 1 method)"
      ]
     },
     "execution_count": 25,
     "metadata": {},
     "output_type": "execute_result"
    }
   ],
   "source": [
    "function selectCountry(td::AbstractTimedata, ctry::String)\n",
    "    # find observations\n",
    "    ssData = chkDates(x -> (get(x[:iso2c][1], :) == ctry), eachdate(td)) |> \n",
    "        x -> asArr(x, Bool, false) |>\n",
    "        x -> td[x[:], :]\n",
    "    # remove non-numeric columns\n",
    "    #vals_num = rmCols(ssData, [:iso2c, :country])\n",
    "    # return convert(Timenum, vals_num)\n",
    "    return ssData\n",
    "end"
   ]
  },
  {
   "cell_type": "markdown",
   "metadata": {},
   "source": [
    "Next, we want to be able to select a single indicator. This requires getting rid of additional indicators, and spreading country information contained in a single column into separate columns for each country. We will achieve this by making use of `DataFrames` built-in function `unstack`, which allows to transform long format data into wide format."
   ]
  },
  {
   "cell_type": "code",
   "execution_count": 26,
   "metadata": {
    "collapsed": false
   },
   "outputs": [
    {
     "data": {
      "text/plain": [
       "selectIndicator (generic function with 1 method)"
      ]
     },
     "execution_count": 26,
     "metadata": {},
     "output_type": "execute_result"
    }
   ],
   "source": [
    "function selectIndicator(td::AbstractTimedata, col::Symbol)\n",
    "    # select single indicator, returning Timenum with countries as\n",
    "    # columns\n",
    "    df = convert(DataFrame, td)\n",
    "    df_singleInd = df[[:idx, :iso2c, col]]\n",
    "    df_2 = df_singleInd[complete_cases(df_singleInd), :]\n",
    "    df_wide = unstack(df_2, :idx, :iso2c, col)\n",
    "    return Timenum(df_wide[:, 2:end], df_wide[:, 1])\n",
    "end"
   ]
  },
  {
   "cell_type": "markdown",
   "metadata": {},
   "source": [
    "#### Analyse GDP data"
   ]
  },
  {
   "cell_type": "code",
   "execution_count": 27,
   "metadata": {
    "collapsed": false
   },
   "outputs": [
    {
     "data": {
      "text/html": [
       "<p><strong>Timenum{Date}</strong></p><p>Dimensions: <strong>(54, 237)</strong></p><p>From: <strong>1960-12-31</strong>, To: <strong>2013-12-31</strong></p><table class=\"data-frame\"><tr><th></th><th>idx</th><th>1A</th><th>1W</th><th>4E</th><th>7E</th></tr><tr><th>1</th><td>1960-12-31</td><td>NA</td><td>1.36872971365877e12</td><td>8.06466268587625e10</td><td>NA</td></tr><tr><th>2</th><td>1961-12-31</td><td>NA</td><td>1.42411744276561e12</td><td>7.08247109271835e10</td><td>NA</td></tr><tr><th>3</th><td>1962-12-31</td><td>NA</td><td>1.52912630710178e12</td><td>6.48994068950856e10</td><td>NA</td></tr><tr><th>4</th><td>1963-12-31</td><td>NA</td><td>1.64523495662912e12</td><td>6.97948230608379e10</td><td>NA</td></tr><tr><th>5</th><td>1964-12-31</td><td>NA</td><td>1.80287547728753e12</td><td>8.09825978572922e10</td><td>NA</td></tr><tr><th>6</th><td>1965-12-31</td><td>NA</td><td>1.96400492296657e12</td><td>9.45032015210714e10</td><td>NA</td></tr><tr><th>7</th><td>1966-12-31</td><td>NA</td><td>2.12995879938421e12</td><td>1.03400148579424e11</td><td>NA</td></tr><tr><th>8</th><td>1967-12-31</td><td>NA</td><td>2.26614866505647e12</td><td>1.00275936086332e11</td><td>NA</td></tr><tr><th>9</th><td>1968-12-31</td><td>2.56663748941163e10</td><td>2.44425066357928e12</td><td>1.01275587456905e11</td><td>NA</td></tr><tr><th>10</th><td>1969-12-31</td><td>2.83163058410547e10</td><td>2.69158096067856e12</td><td>1.13723269232021e11</td><td>NA</td></tr><tr><th>11</th><td>1970-12-31</td><td>3.09105279868433e10</td><td>2.954213357438e12</td><td>1.26747460813294e11</td><td>NA</td></tr><tr><th>12</th><td>1971-12-31</td><td>3.58949220540846e10</td><td>3.26257888259211e12</td><td>1.36030134185847e11</td><td>NA</td></tr><tr><th>13</th><td>1972-12-31</td><td>4.27615044154761e10</td><td>3.76180631259791e12</td><td>1.54231468014374e11</td><td>NA</td></tr><tr><th>14</th><td>1973-12-31</td><td>5.43460112040674e10</td><td>4.58297250418556e12</td><td>1.94568857827898e11</td><td>NA</td></tr><tr><th>15</th><td>1974-12-31</td><td>1.04171520718403e11</td><td>5.28608135550736e12</td><td>2.20078000773083e11</td><td>NA</td></tr><tr><th>16</th><td>1975-12-31</td><td>1.1555994555701e11</td><td>5.89208916506817e12</td><td>2.47300150438898e11</td><td>NA</td></tr><tr><th>17</th><td>1976-12-31</td><td>1.43926191662762e11</td><td>6.40934272681492e12</td><td>2.51477732289895e11</td><td>NA</td></tr><tr><th>18</th><td>1977-12-31</td><td>1.6585938589638e11</td><td>7.24782798963027e12</td><td>2.90931942413347e11</td><td>NA</td></tr><tr><th>19</th><td>1978-12-31</td><td>1.83388384317175e11</td><td>8.53365479790639e12</td><td>2.82677165399014e11</td><td>NA</td></tr><tr><th>20</th><td>1979-12-31</td><td>2.47383069811542e11</td><td>9.91415220103879e12</td><td>3.27852267660642e11</td><td>NA</td></tr><tr><th>21</th><td>1980-12-31</td><td>3.36533958404118e11</td><td>1.11609148604539e13</td><td>3.79738930998572e11</td><td>NA</td></tr><tr><th>22</th><td>1981-12-31</td><td>3.46360975887592e11</td><td>1.1448548480997e13</td><td>4.06420523239356e11</td><td>NA</td></tr><tr><th>23</th><td>1982-12-31</td><td>3.22732035751819e11</td><td>1.13463323250305e13</td><td>4.23607544012188e11</td><td>NA</td></tr><tr><th>24</th><td>1983-12-31</td><td>3.02612254596354e11</td><td>1.16002067249212e13</td><td>4.43602584026137e11</td><td>NA</td></tr><tr><th>25</th><td>1984-12-31</td><td>3.06654358897441e11</td><td>1.2038493725394e13</td><td>4.79714157806449e11</td><td>NA</td></tr><tr><th>26</th><td>1985-12-31</td><td>3.026961474628e11</td><td>1.26565051786484e13</td><td>5.24530790157073e11</td><td>NA</td></tr><tr><th>27</th><td>1986-12-31</td><td>2.8801842418282e11</td><td>1.49783832967859e13</td><td>5.20907034015938e11</td><td>NA</td></tr><tr><th>28</th><td>1987-12-31</td><td>3.11557517066344e11</td><td>1.70391634045849e13</td><td>5.14161134066414e11</td><td>3.39503426304787e11</td></tr><tr><th>29</th><td>1988-12-31</td><td>3.06163221843082e11</td><td>1.90758766729691e13</td><td>5.74864557222834e11</td><td>3.57550059607696e11</td></tr><tr><th>30</th><td>1989-12-31</td><td>3.20902061204838e11</td><td>2.00190494239959e13</td><td>6.2273891451007e11</td><td>3.94718200464013e11</td></tr><tr><th>&vellip;</th><td>&vellip;</td><td>&vellip;</td><td>&vellip;</td><td>&vellip;</td><td>&vellip;</td></tr></table>"
      ],
      "text/plain": [
       "Timenum{Date}(54x237 DataFrame\n",
       "| Row | 1A         | 1W         | 4E         | 7E         | 8S         |\n",
       "|-----|------------|------------|------------|------------|------------|\n",
       "| 1   | NA         | 1.36873e12 | 8.06466e10 | NA         | 4.76896e10 |\n",
       "| 2   | NA         | 1.42412e12 | 7.08247e10 | NA         | 5.08613e10 |\n",
       "| 3   | NA         | 1.52913e12 | 6.48994e10 | NA         | 5.42967e10 |\n",
       "| 4   | NA         | 1.64523e12 | 6.97948e10 | NA         | 6.10605e10 |\n",
       "| 5   | NA         | 1.80288e12 | 8.09826e10 | NA         | 6.99635e10 |\n",
       "| 6   | NA         | 1.964e12   | 9.45032e10 | NA         | 7.51417e10 |\n",
       "| 7   | NA         | 2.12996e12 | 1.034e11   | NA         | 6.3056e10  |\n",
       "| 8   | NA         | 2.26615e12 | 1.00276e11 | NA         | 6.94097e10 |\n",
       "| 9   | 2.56664e10 | 2.44425e12 | 1.01276e11 | NA         | 7.28686e10 |\n",
       "| 10  | 2.83163e10 | 2.69158e12 | 1.13723e11 | NA         | 8.00062e10 |\n",
       "| 11  | 3.09105e10 | 2.95421e12 | 1.26747e11 | NA         | 8.66535e10 |\n",
       "⋮\n",
       "| 43  | 7.2401e11  | 3.43174e13 | 2.02843e12 | 5.09499e11 | 6.72494e11 |\n",
       "| 44  | 8.15539e11 | 3.85397e13 | 2.29138e12 | 6.47767e11 | 7.84883e11 |\n",
       "| 45  | 9.59405e11 | 4.34214e13 | 2.65718e12 | 8.24927e11 | 9.11124e11 |\n",
       "| 46  | 1.1761e12  | 4.69753e13 | 3.07202e12 | 1.00907e12 | 1.04462e12 |\n",
       "| 47  | 1.39982e12 | 5.08906e13 | 3.69339e12 | 1.16418e12 | 1.20477e12 |\n",
       "| 48  | 1.63867e12 | 5.73458e13 | 4.66384e12 | 1.47512e12 | 1.52596e12 |\n",
       "| 49  | 2.07957e12 | 6.28782e13 | 5.89584e12 | 1.75656e12 | 1.55241e12 |\n",
       "| 50  | 1.79175e12 | 5.95606e13 | 6.36043e12 | 1.46306e12 | 1.70643e12 |\n",
       "| 51  | 2.09788e12 | 6.52378e13 | 7.62908e12 | 1.65286e12 | 2.08612e12 |\n",
       "| 52  | 2.48791e12 | 7.21286e13 | 9.29407e12 | 1.84786e12 | 2.28512e12 |\n",
       "| 53  | 2.74438e12 | 7.35212e13 | 1.03308e13 | 1.87398e12 | 2.2966e12  |\n",
       "| 54  | 2.85308e12 | 7.56219e13 | 1.14137e13 | 2.00115e12 | 2.36829e12 |\n",
       "\n",
       "| Row | AD        | AE         | AF         | AG        | AL         |\n",
       "|-----|-----------|------------|------------|-----------|------------|\n",
       "| 1   | NA        | NA         | 5.37778e8  | NA        | NA         |\n",
       "| 2   | NA        | NA         | 5.48889e8  | NA        | NA         |\n",
       "| 3   | NA        | NA         | 5.46667e8  | NA        | NA         |\n",
       "| 4   | NA        | NA         | 7.51111e8  | NA        | NA         |\n",
       "| 5   | NA        | NA         | 8.0e8      | NA        | NA         |\n",
       "| 6   | NA        | NA         | 1.00667e9  | NA        | NA         |\n",
       "| 7   | NA        | NA         | 1.4e9      | NA        | NA         |\n",
       "| 8   | NA        | NA         | 1.67333e9  | NA        | NA         |\n",
       "| 9   | NA        | NA         | 1.37333e9  | NA        | NA         |\n",
       "| 10  | NA        | NA         | 1.40889e9  | NA        | NA         |\n",
       "| 11  | 7.86176e7 | NA         | 1.74889e9  | NA        | NA         |\n",
       "⋮\n",
       "| 43  | 1.4562e9  | 1.09816e11 | 4.12882e9  | 8.02529e8 | 4.44937e9  |\n",
       "| 44  | 1.91795e9 | 1.24346e11 | 4.58365e9  | 8.39996e8 | 5.65233e9  |\n",
       "| 45  | 2.32216e9 | 1.47824e11 | 5.28546e9  | 8.98356e8 | 7.46445e9  |\n",
       "| 46  | 2.53976e9 | 1.80617e11 | 6.27508e9  | 9.97374e8 | 8.37648e9  |\n",
       "| 47  | 2.8235e9  | 2.22106e11 | 7.0576e9   | 1.13514e9 | 9.13256e9  |\n",
       "| 48  | 3.24541e9 | 2.57916e11 | 9.84385e9  | 1.28925e9 | 1.0701e10  |\n",
       "| 49  | 3.71203e9 | 3.15475e11 | 1.01905e10 | 1.34735e9 | 1.28814e10 |\n",
       "| 50  | NA        | 2.53547e11 | 1.2487e10  | 1.20641e9 | 1.20442e10 |\n",
       "| 51  | NA        | 2.86049e11 | 1.59368e10 | 1.13554e9 | 1.1927e10  |\n",
       "| 52  | NA        | 3.47454e11 | 1.78702e10 | 1.12992e9 | 1.28909e10 |\n",
       "| 53  | NA        | 3.72314e11 | 2.05068e10 | 1.20471e9 | 1.23445e10 |\n",
       "| 54  | NA        | 4.0234e11  | 2.03097e10 | 1.20059e9 | 1.29232e10 |\n",
       "\n",
       "| Row | AM         | AO         | AR         | AT         | AU         |\n",
       "|-----|------------|------------|------------|------------|------------|\n",
       "| 1   | NA         | NA         | NA         | 6.59269e9  | 1.85743e10 |\n",
       "| 2   | NA         | NA         | NA         | 7.31175e9  | 1.96517e10 |\n",
       "| 3   | NA         | NA         | 2.44506e10 | 7.75611e9  | 1.98869e10 |\n",
       "| 4   | NA         | NA         | 1.82721e10 | 8.37418e9  | 2.15007e10 |\n",
       "| 5   | NA         | NA         | 2.56052e10 | 9.16998e9  | 2.37585e10 |\n",
       "| 6   | NA         | NA         | 2.83447e10 | 9.99407e9  | 2.59301e10 |\n",
       "| 7   | NA         | NA         | 2.86305e10 | 1.08877e10 | 2.7255e10  |\n",
       "| 8   | NA         | NA         | 2.42567e10 | 1.15794e10 | 3.0383e10  |\n",
       "| 9   | NA         | NA         | 2.64369e10 | 1.24406e10 | 3.26476e10 |\n",
       "| 10  | NA         | NA         | 3.12563e10 | 1.35828e10 | 3.66122e10 |\n",
       "| 11  | NA         | NA         | 3.15842e10 | 1.5336e10  | 4.12521e10 |\n",
       "⋮\n",
       "| 43  | 2.37634e9  | 1.24973e10 | 1.0204e11  | 2.12971e11 | 3.94251e11 |\n",
       "| 44  | 2.80706e9  | 1.41889e10 | 1.29597e11 | 2.60721e11 | 4.66451e11 |\n",
       "| 45  | 3.57662e9  | 1.96409e10 | 1.83296e11 | 2.9987e11  | 6.12872e11 |\n",
       "| 46  | 4.90044e9  | 2.82337e10 | 2.22908e11 | 3.14641e11 | 6.93339e11 |\n",
       "| 47  | 6.38446e9  | 4.17895e10 | 2.6449e11  | 3.34292e11 | 7.47206e11 |\n",
       "| 48  | 9.2063e9   | 6.04489e10 | 3.29761e11 | 3.86439e11 | 8.53441e11 |\n",
       "| 49  | 1.1662e10  | 8.41781e10 | 4.06004e11 | 4.27627e11 | 1.05503e12 |\n",
       "| 50  | 8.64794e9  | 7.54924e10 | 3.78496e11 | 3.9757e11  | 9.26283e11 |\n",
       "| 51  | 9.26029e9  | 8.24709e10 | 4.62704e11 | 3.89656e11 | 1.14127e12 |\n",
       "| 52  | 1.01423e10 | 1.04116e11 | 5.57727e11 | 4.291e11   | 1.38807e12 |\n",
       "| 53  | 9.95822e9  | 1.15342e11 | 6.03153e11 | 4.07575e11 | 1.53443e12 |\n",
       "| 54  | 1.04322e10 | 1.24178e11 | 6.09889e11 | 4.28322e11 | 1.56037e12 |\n",
       "\n",
       "| Row | AW        | AZ         | B8         | BA         | BB        |\n",
       "|-----|-----------|------------|------------|------------|-----------|\n",
       "| 1   | NA        | NA         | NA         | NA         | 8.73831e7 |\n",
       "| 2   | NA        | NA         | NA         | NA         | 9.32164e7 |\n",
       "| 3   | NA        | NA         | NA         | NA         | 9.69498e7 |\n",
       "| 4   | NA        | NA         | NA         | NA         | 1.09083e8 |\n",
       "| 5   | NA        | NA         | NA         | NA         | 1.08383e8 |\n",
       "| 6   | NA        | NA         | NA         | NA         | 1.14683e8 |\n",
       "| 7   | NA        | NA         | NA         | NA         | 1.23608e8 |\n",
       "| 8   | NA        | NA         | NA         | NA         | 1.37104e8 |\n",
       "| 9   | NA        | NA         | NA         | NA         | 1.373e8   |\n",
       "| 10  | NA        | NA         | NA         | NA         | 1.544e8   |\n",
       "| 11  | NA        | NA         | NA         | NA         | 1.815e8   |\n",
       "⋮\n",
       "| 43  | 1.94109e9 | 6.23602e9  | 5.26448e11 | 6.65123e9  | 3.1686e9  |\n",
       "| 44  | 2.0213e9  | 7.27577e9  | 6.32905e11 | 8.37002e9  | 3.2712e9  |\n",
       "| 45  | 2.22828e9 | 8.68051e9  | 7.59226e11 | 1.00228e10 | 3.5097e9  |\n",
       "| 46  | 2.33101e9 | 1.32454e10 | 8.81333e11 | 1.09038e10 | 3.8915e9  |\n",
       "| 47  | 2.42147e9 | 2.09823e10 | 9.96747e11 | 1.25502e10 | 4.31405e9 |\n",
       "| 48  | 2.62373e9 | 3.30503e10 | 1.25513e12 | 1.54411e10 | 4.51325e9 |\n",
       "| 49  | 2.79196e9 | 4.88525e10 | 1.5108e12  | 1.87119e10 | 4.54155e9 |\n",
       "| 50  | 2.49893e9 | 4.42915e10 | 1.27015e12 | 1.72649e10 | 4.59265e9 |\n",
       "| 51  | 2.4677e9  | 5.29027e10 | 1.30358e12 | 1.68475e10 | 4.4337e9  |\n",
       "| 52  | 2.58446e9 | 6.59516e10 | 1.43487e12 | 1.83184e10 | 4.3689e9  |\n",
       "| 53  | NA        | 6.87309e10 | 1.34063e12 | 1.6906e10  | 4.22485e9 |\n",
       "| 54  | NA        | 7.35605e10 | 1.41754e12 | 1.78513e10 | NA        |\n",
       "\n",
       "| Row | BD         | BE         | BF         | BG         | BH         |\n",
       "|-----|------------|------------|------------|------------|------------|\n",
       "| 1   | 4.27489e9  | 1.16587e10 | 3.30443e8  | NA         | NA         |\n",
       "| 2   | 4.81758e9  | 1.24001e10 | 3.50247e8  | NA         | NA         |\n",
       "| 3   | 5.08141e9  | 1.3264e10  | 3.79567e8  | NA         | NA         |\n",
       "| 4   | 5.31946e9  | 1.426e10   | 3.94041e8  | NA         | NA         |\n",
       "| 5   | 5.38605e9  | 1.59601e10 | 4.10322e8  | NA         | NA         |\n",
       "| 6   | 5.90664e9  | 1.73715e10 | 4.22917e8  | NA         | NA         |\n",
       "| 7   | 6.43969e9  | 1.86519e10 | 4.3389e8   | NA         | NA         |\n",
       "| 8   | 7.25358e9  | 1.9992e10  | 4.50754e8  | NA         | NA         |\n",
       "| 9   | 7.48369e9  | 2.13764e10 | 4.60443e8  | NA         | NA         |\n",
       "| 10  | 8.47101e9  | 2.37107e10 | 4.78299e8  | NA         | NA         |\n",
       "| 11  | 8.99272e9  | 2.68079e10 | 4.58404e8  | NA         | NA         |\n",
       "⋮\n",
       "| 43  | 4.75711e10 | 2.5839e11  | 3.20559e9  | 1.63433e10 | 9.63241e9  |\n",
       "| 44  | 5.19137e10 | 3.18573e11 | 4.20569e9  | 2.11014e10 | 1.10751e10 |\n",
       "| 45  | 5.65607e10 | 3.70461e11 | 4.83855e9  | 2.59198e10 | 1.31505e10 |\n",
       "| 46  | 6.02776e10 | 3.86945e11 | 5.46271e9  | 2.93006e10 | 1.59692e10 |\n",
       "| 47  | 7.18191e10 | 4.10678e11 | 5.84467e9  | 3.36496e10 | 1.85055e10 |\n",
       "| 48  | 7.96119e10 | 4.72285e11 | 6.75583e9  | 4.36346e10 | 2.17306e10 |\n",
       "| 49  | 9.16313e10 | 5.20109e11 | 8.35071e9  | 5.33164e10 | 2.57112e10 |\n",
       "| 50  | 1.02478e11 | 4.85804e11 | 8.34816e9  | 5.01614e10 | 2.29385e10 |\n",
       "| 51  | 1.15279e11 | 4.84404e11 | 8.99268e9  | 4.86691e10 | 2.57135e10 |\n",
       "| 52  | 1.28638e11 | 5.28238e11 | 1.07556e10 | 5.57651e10 | 2.90444e10 |\n",
       "| 53  | 1.33356e11 | 4.98853e11 | 1.16119e10 | 5.25881e10 | 3.07568e10 |\n",
       "| 54  | 1.4999e11  | 5.24806e11 | 1.28849e10 | 5.44799e10 | 3.28901e10 |\n",
       "\n",
       "| Row | BI        | BJ        | BM        | BN         | BO         |\n",
       "|-----|-----------|-----------|-----------|------------|------------|\n",
       "| 1   | 1.96e8    | 2.26196e8 | 8.44667e7 | NA         | 5.6311e8   |\n",
       "| 2   | 2.03e8    | 2.35668e8 | 8.925e7   | NA         | 6.12519e8  |\n",
       "| 3   | 2.135e8   | 2.36435e8 | 9.415e7   | NA         | 6.69723e8  |\n",
       "| 4   | 2.3275e8  | 2.53928e8 | 9.63667e7 | NA         | 7.21143e8  |\n",
       "| 5   | 2.6075e8  | 2.69819e8 | 1.07567e8 | NA         | 8.12543e8  |\n",
       "| 6   | 1.58995e8 | 2.89909e8 | 1.14339e8 | 1.1404e8   | 9.08875e8  |\n",
       "| 7   | 1.65445e8 | 3.02925e8 | 1.34173e8 | 1.32758e8  | 9.94045e8  |\n",
       "| 8   | 1.78297e8 | 3.06222e8 | 1.55103e8 | 1.3903e8   | 1.08406e9  |\n",
       "| 9   | 1.832e8   | 3.26323e8 | 1.5e8     | 1.60819e8  | 9.08875e8  |\n",
       "| 10  | 1.90206e8 | 3.30748e8 | 1.649e8   | 1.61211e8  | 9.64616e8  |\n",
       "| 11  | 2.42733e8 | 3.33628e8 | 1.863e8   | 1.7908e8   | 1.01717e9  |\n",
       "⋮\n",
       "| 43  | 8.25394e8 | 2.80766e9 | 3.93723e9 | 5.84333e9  | 7.90549e9  |\n",
       "| 44  | 7.84654e8 | 3.55723e9 | 4.18653e9 | 6.55733e9  | 8.0824e9   |\n",
       "| 45  | 9.15257e8 | 4.05087e9 | 4.4847e9  | 7.87233e9  | 8.77345e9  |\n",
       "| 46  | 1.11725e9 | 4.35802e9 | 4.86814e9 | 9.5314e9   | 9.5492e9   |\n",
       "| 47  | 1.27318e9 | 4.70509e9 | 5.4143e9  | 1.14707e10 | 1.14518e10 |\n",
       "| 48  | 1.35608e9 | 5.51188e9 | 5.89505e9 | 1.22477e10 | 1.31202e10 |\n",
       "| 49  | 1.61163e9 | 6.63346e9 | 6.10993e9 | 1.43931e10 | 1.66743e10 |\n",
       "| 50  | 1.73978e9 | 6.58448e9 | 5.80638e9 | 1.07324e10 | 1.734e10   |\n",
       "| 51  | 2.02686e9 | 6.56178e9 | 5.74441e9 | 1.23697e10 | 1.96496e10 |\n",
       "| 52  | 2.35565e9 | 7.28978e9 | 5.55077e9 | 1.66914e10 | 2.39485e10 |\n",
       "| 53  | 2.47238e9 | 7.54318e9 | 5.47354e9 | 1.6954e10  | 2.70351e10 |\n",
       "| 54  | 2.71451e9 | 8.30722e9 | NA        | 1.61111e10 | 3.06012e10 |\n",
       "\n",
       "| Row | BR         | BS        | BT        | BW         | BY         |\n",
       "|-----|------------|-----------|-----------|------------|------------|\n",
       "| 1   | 1.51656e10 | 1.69802e8 | NA        | 3.04114e7  | NA         |\n",
       "| 2   | 1.52369e10 | 1.90096e8 | NA        | 3.29027e7  | NA         |\n",
       "| 3   | 1.99263e10 | 2.12253e8 | NA        | 3.5645e7   | NA         |\n",
       "| 4   | 2.30215e10 | 2.37743e8 | NA        | 3.80918e7  | NA         |\n",
       "| 5   | 2.12119e10 | 2.66664e8 | NA        | 4.16164e7  | NA         |\n",
       "| 6   | 2.179e10   | 3.00392e8 | NA        | 4.57887e7  | NA         |\n",
       "| 7   | 2.70627e10 | 3.4e8     | NA        | 5.14656e7  | NA         |\n",
       "| 8   | 3.05918e10 | 3.90196e8 | NA        | 5.86424e7  | NA         |\n",
       "| 9   | 3.38759e10 | 4.44902e8 | NA        | 6.62484e7  | NA         |\n",
       "| 10  | 3.74589e10 | 5.28137e8 | NA        | 7.73615e7  | NA         |\n",
       "| 11  | 4.23276e10 | 5.38423e8 | NA        | 9.62433e7  | NA         |\n",
       "⋮\n",
       "| 43  | 5.04221e11 | 6.958e9   | 5.3705e8  | 5.43886e9  | 1.45949e10 |\n",
       "| 44  | 5.52469e11 | 6.94932e9 | 6.22026e8 | 7.51154e9  | 1.78254e10 |\n",
       "| 45  | 6.6376e11  | 7.09441e9 | 7.02682e8 | 8.95749e9  | 2.31416e10 |\n",
       "| 46  | 8.82186e11 | 7.70622e9 | 8.18869e8 | 9.93122e9  | 3.02101e10 |\n",
       "| 47  | 1.08892e12 | 7.96559e9 | 8.97672e8 | 1.0127e10  | 3.69619e10 |\n",
       "| 48  | 1.36682e12 | 8.319e9   | 1.19609e9 | 1.0939e10  | 4.52757e10 |\n",
       "| 49  | 1.65351e12 | 8.24665e9 | 1.25819e9 | 1.1113e10  | 6.07635e10 |\n",
       "| 50  | 1.62019e12 | 7.82042e9 | 1.26476e9 | 1.01068e10 | 4.92087e10 |\n",
       "| 51  | 2.14307e12 | 7.91e9    | 1.5854e9  | 1.37467e10 | 5.52209e10 |\n",
       "| 52  | 2.47669e12 | 7.931e9   | 1.82021e9 | 1.53652e10 | 5.97346e10 |\n",
       "| 53  | 2.24878e12 | 8.219e9   | 1.82369e9 | 1.45375e10 | 6.36154e10 |\n",
       "| 54  | 2.24567e12 | 8.42e9    | 1.78126e9 | 1.47847e10 | 7.17095e10 |\n",
       "\n",
       "| Row | BZ        | CA         | CD         | CF        | CG         |\n",
       "|-----|-----------|------------|------------|-----------|------------|\n",
       "| 1   | 2.80725e7 | 4.10935e10 | 3.3594e9   | 1.12156e8 | 1.31732e8  |\n",
       "| 2   | 2.9965e7  | 4.0768e10  | 3.08675e9  | 1.23135e8 | 1.51676e8  |\n",
       "| 3   | 3.18576e7 | 4.19789e10 | 3.77984e9  | 1.24483e8 | 1.66521e8  |\n",
       "| 4   | 3.37501e7 | 4.46572e10 | 6.21319e9  | 1.29379e8 | 1.72233e8  |\n",
       "| 5   | 3.61946e7 | 4.88829e10 | 2.88155e9  | 1.42025e8 | 1.85694e8  |\n",
       "| 6   | 4.00699e7 | 5.39096e10 | 4.0439e9   | 1.50575e8 | 1.98318e8  |\n",
       "| 7   | 4.44056e7 | 6.03586e10 | 4.53266e9  | 1.5793e8  | 2.20614e8  |\n",
       "| 8   | 4.73793e7 | 6.47688e10 | 3.38406e9  | 1.63821e8 | 2.37397e8  |\n",
       "| 9   | 4.49102e7 | 7.0759e10  | 3.90978e9  | 1.91767e8 | 2.51247e8  |\n",
       "| 10  | 4.73054e7 | 7.78875e10 | 5.03243e9  | 1.88039e8 | 2.6504e8   |\n",
       "| 11  | 5.32335e7 | 8.77623e10 | 4.87768e9  | 1.89107e8 | 2.74961e8  |\n",
       "⋮\n",
       "| 43  | 9.32676e8 | 7.52532e11 | 8.72804e9  | 9.91388e8 | 3.01999e9  |\n",
       "| 44  | 9.9035e8  | 8.87752e11 | 8.93756e9  | 1.13975e9 | 3.49587e9  |\n",
       "| 45  | 1.05785e9 | 1.01839e12 | 1.02975e10 | 1.27008e9 | 4.64863e9  |\n",
       "| 46  | 1.1142e9  | 1.16418e12 | 1.19645e10 | 1.3503e9  | 6.087e9    |\n",
       "| 47  | 1.21744e9 | 1.3108e12  | 1.42965e10 | 1.47372e9 | 7.73126e9  |\n",
       "| 48  | 1.29054e9 | 1.45787e12 | 1.6364e10  | 1.69813e9 | 8.39469e9  |\n",
       "| 49  | 1.36863e9 | 1.54256e12 | 1.9206e10  | 1.98537e9 | 1.1859e10  |\n",
       "| 50  | 1.33696e9 | 1.37084e12 | 1.82627e10 | 1.98173e9 | 9.59354e9  |\n",
       "| 51  | 1.39711e9 | 1.61407e12 | 2.15619e10 | 1.98601e9 | 1.20079e10 |\n",
       "| 52  | 1.48701e9 | 1.77863e12 | 2.58354e10 | 2.1956e9  | 1.44256e10 |\n",
       "| 53  | 1.57387e9 | 1.82145e12 | 2.93062e10 | 2.16971e9 | 1.36779e10 |\n",
       "| 54  | 1.62429e9 | 1.82677e12 | 3.26909e10 | 1.53818e9 | 1.40859e10 |\n",
       "\n",
       "| Row | CH         | CI         | CL         | CM         | CN         |\n",
       "|-----|------------|------------|------------|------------|------------|\n",
       "| 1   | 9.52275e9  | 5.46204e8  | 4.21176e9  | 6.18741e8  | 5.91841e10 |\n",
       "| 2   | 1.07127e10 | 6.18246e8  | 4.70538e9  | 6.57597e8  | 4.95571e10 |\n",
       "| 3   | 1.188e10   | 6.45284e8  | 5.50276e9  | 6.99374e8  | 4.66852e10 |\n",
       "| 4   | 1.30636e10 | 7.61047e8  | 5.48275e9  | 7.23624e8  | 5.00973e10 |\n",
       "| 5   | 1.44806e10 | 9.21063e8  | 5.7943e9   | 7.82384e8  | 5.90623e10 |\n",
       "| 6   | 1.53467e10 | 9.19771e8  | 6.05379e9  | 8.1414e8   | 6.97092e10 |\n",
       "| 7   | 1.64801e10 | 1.0241e9   | 7.01358e9  | 8.53269e8  | 7.58794e10 |\n",
       "| 8   | 1.774e10   | 1.08292e9  | 6.91356e9  | 9.34079e8  | 7.2057e10  |\n",
       "| 9   | 1.89427e10 | 1.28128e9  | 7.07482e9  | 1.05308e9  | 6.99935e10 |\n",
       "| 10  | 2.05249e10 | 1.36136e9  | 8.17977e9  | 1.15242e9  | 7.87188e10 |\n",
       "| 11  | NA         | 1.45548e9  | 8.98111e9  | 1.16e9     | 9.15062e10 |\n",
       "⋮\n",
       "| 43  | 3.01128e11 | 1.14867e10 | 7.09846e10 | 1.08798e10 | 1.45383e12 |\n",
       "| 44  | 3.51983e11 | 1.37375e10 | 7.78402e10 | 1.36217e10 | 1.64096e12 |\n",
       "| 45  | 3.93542e11 | 1.54811e10 | 1.00631e11 | 1.57754e10 | 1.93164e12 |\n",
       "| 46  | 4.07543e11 | 1.70849e10 | 1.24404e11 | 1.65879e10 | 2.2569e12  |\n",
       "| 47  | 4.29181e11 | 1.78009e10 | 1.54671e11 | 1.79531e10 | 2.71295e12 |\n",
       "| 48  | 4.77421e11 | 2.03436e10 | 1.73006e11 | 2.04318e10 | 3.49406e12 |\n",
       "| 49  | 5.51552e11 | 2.42249e10 | 1.79858e11 | 2.33223e10 | 4.52183e12 |\n",
       "| 50  | 5.39508e11 | 2.42775e10 | 1.72323e11 | 2.33811e10 | 4.99023e12 |\n",
       "| 51  | 5.81209e11 | 2.48845e10 | 2.17502e11 | 2.36225e10 | 5.9305e12  |\n",
       "| 52  | 6.96279e11 | 2.53816e10 | 2.51162e11 | 2.65873e10 | 7.32189e12 |\n",
       "| 53  | 6.66101e11 | 2.70986e10 | 2.66259e11 | 2.64721e10 | 8.22949e12 |\n",
       "| 54  | 6.85434e11 | 3.1062e10  | 2.77199e11 | 2.95675e10 | 9.24027e12 |\n",
       "\n",
       "| Row | CO         | CR         | CU         | CV        | CY         |\n",
       "|-----|------------|------------|------------|-----------|------------|\n",
       "| 1   | 4.04095e9  | 5.07517e8  | NA         | NA        | NA         |\n",
       "| 2   | 4.55291e9  | 4.90324e8  | NA         | NA        | NA         |\n",
       "| 3   | 4.9686e9   | 4.79181e8  | NA         | NA        | NA         |\n",
       "| 4   | 4.83884e9  | 5.11903e8  | NA         | NA        | NA         |\n",
       "| 5   | 5.99217e9  | 5.42579e8  | NA         | NA        | NA         |\n",
       "| 6   | 5.79025e9  | 5.92981e8  | NA         | NA        | NA         |\n",
       "| 7   | 5.45276e9  | 6.47306e8  | NA         | NA        | NA         |\n",
       "| 8   | 5.72721e9  | 6.99457e8  | NA         | NA        | NA         |\n",
       "| 9   | 5.91847e9  | 7.73841e8  | NA         | NA        | NA         |\n",
       "| 10  | 6.40544e9  | 8.5363e8   | NA         | NA        | NA         |\n",
       "| 11  | 7.19837e9  | 9.8483e8   | 5.69301e9  | NA        | NA         |\n",
       "⋮\n",
       "| 43  | 9.79334e10 | 1.68444e10 | 3.35904e10 | 6.20975e8 | 1.05574e10 |\n",
       "| 44  | 9.46846e10 | 1.75175e10 | 3.59015e10 | 8.13964e8 | 1.33195e10 |\n",
       "| 45  | 1.17075e11 | 1.85964e10 | 3.82028e10 | 9.24319e8 | 1.5817e10  |\n",
       "| 46  | 1.4652e11  | 1.99649e10 | 4.26442e10 | 9.71977e8 | 1.69978e10 |\n",
       "| 47  | 1.62774e11 | 2.25265e10 | 5.27421e10 | 1.10789e9 | 1.84358e10 |\n",
       "| 48  | 2.0752e11  | 2.6322e10  | 5.86035e10 | 1.51393e9 | 2.18418e10 |\n",
       "| 49  | 2.44057e11 | 2.98312e10 | 6.08062e10 | 1.78933e9 | 2.53215e10 |\n",
       "| 50  | 2.33822e11 | 2.93827e10 | 6.20786e10 | 1.71182e9 | 2.35427e10 |\n",
       "| 51  | 2.87018e11 | 3.62983e10 | 6.43282e10 | 1.66431e9 | 2.31325e10 |\n",
       "| 52  | 3.35415e11 | 4.12373e10 | 6.82339e10 | 1.86482e9 | 2.48513e10 |\n",
       "| 53  | 3.70328e11 | 4.53748e10 | NA         | 1.7573e9  | 2.27669e10 |\n",
       "| 54  | 3.78415e11 | 4.96211e10 | NA         | 1.8794e9  | 2.19114e10 |\n",
       "\n",
       "| Row | CZ         | DE         | DJ        | DK         | DM        |\n",
       "|-----|------------|------------|-----------|------------|-----------|\n",
       "| 1   | NA         | NA         | NA        | 6.24895e9  | NA        |\n",
       "| 2   | NA         | NA         | NA        | 6.93384e9  | NA        |\n",
       "| 3   | NA         | NA         | NA        | 7.81297e9  | NA        |\n",
       "| 4   | NA         | NA         | NA        | 8.31669e9  | NA        |\n",
       "| 5   | NA         | NA         | NA        | 9.50668e9  | NA        |\n",
       "| 6   | NA         | NA         | NA        | 1.06789e10 | NA        |\n",
       "| 7   | NA         | NA         | NA        | 1.17212e10 | NA        |\n",
       "| 8   | NA         | NA         | NA        | 1.27885e10 | NA        |\n",
       "| 9   | NA         | NA         | NA        | 1.31965e10 | NA        |\n",
       "| 10  | NA         | NA         | NA        | 1.50094e10 | NA        |\n",
       "| 11  | NA         | 2.15022e11 | NA        | 1.68662e10 | NA        |\n",
       "⋮\n",
       "| 43  | 8.16967e10 | 2.0763e12  | 5.91122e8 | 1.78635e11 | 3.37696e8 |\n",
       "| 44  | 9.93003e10 | 2.50231e12 | 6.22045e8 | 2.18096e11 | 3.50091e8 |\n",
       "| 45  | 1.18976e11 | 2.81559e12 | 6.66072e8 | 2.51245e11 | 3.74771e8 |\n",
       "| 46  | 1.3599e11  | 2.85756e12 | 7.08633e8 | 2.64559e11 | 3.7037e8  |\n",
       "| 47  | 1.55213e11 | 2.99847e12 | 7.68874e8 | 2.82962e11 | 3.97778e8 |\n",
       "| 48  | 1.88818e11 | 3.43551e12 | 8.47919e8 | 3.195e11   | 4.28889e8 |\n",
       "| 49  | 2.35205e11 | 3.74706e12 | 9.99105e8 | 3.52589e11 | 4.68889e8 |\n",
       "| 50  | 2.0573e11  | 3.41277e12 | 1.199e9   | 3.19764e11 | 4.98889e8 |\n",
       "| 51  | 2.07016e11 | 3.41201e12 | 1.12861e9 | 3.19812e11 | 4.92963e8 |\n",
       "| 52  | 2.27307e11 | 3.75211e12 | 1.23914e9 | 3.41498e11 | 5.08519e8 |\n",
       "| 53  | 2.06751e11 | 3.53324e12 | 1.35363e9 | 3.22277e11 | 5.14815e8 |\n",
       "| 54  | 2.08796e11 | 3.73026e12 | 1.45634e9 | 3.35878e11 | 5.16667e8 |\n",
       "\n",
       "| Row | DO         | DZ         | EC         | EE         | EG         |\n",
       "|-----|------------|------------|------------|------------|------------|\n",
       "| 1   | 6.724e8    | 2.72364e9  | 1.01033e9  | NA         | NA         |\n",
       "| 2   | 6.541e8    | 2.43477e9  | 9.79109e8  | NA         | NA         |\n",
       "| 3   | 8.241e8    | 2.00146e9  | 9.58598e8  | NA         | NA         |\n",
       "| 4   | 9.408e8    | 2.703e9    | 1.03839e9  | NA         | NA         |\n",
       "| 5   | 1.0256e9   | 2.90934e9  | 1.15615e9  | NA         | NA         |\n",
       "| 6   | 8.881e8    | 3.13628e9  | 2.38705e9  | NA         | 5.11162e9  |\n",
       "| 7   | 9.839e8    | 3.03986e9  | 2.42931e9  | NA         | 5.33952e9  |\n",
       "| 8   | 1.0348e9   | 3.37087e9  | 2.5536e9   | NA         | 5.57917e9  |\n",
       "| 9   | 1.0791e9   | 3.85215e9  | 2.58218e9  | NA         | 6.10911e9  |\n",
       "| 10  | 1.2305e9   | 4.25725e9  | 3.11217e9  | NA         | 6.86174e9  |\n",
       "| 11  | 1.4854e9   | 4.86349e9  | 2.8625e9   | NA         | 7.68249e9  |\n",
       "⋮\n",
       "| 43  | 2.65704e10 | 5.67603e10 | 2.85489e10 | 7.30861e9  | 8.78507e10 |\n",
       "| 44  | 2.1268e10  | 6.78638e10 | 3.24329e10 | 9.82214e9  | 8.29237e10 |\n",
       "| 45  | 2.21639e10 | 8.5325e10  | 3.65917e10 | 1.20576e10 | 7.88452e10 |\n",
       "| 46  | 3.39697e10 | 1.03199e11 | 4.15071e10 | 1.40031e10 | 8.96857e10 |\n",
       "| 47  | 3.5965e10  | 1.17027e11 | 4.6802e10  | 1.6958e10  | 1.07484e11 |\n",
       "| 48  | 4.40783e10 | 1.34978e11 | 5.10078e10 | 2.22287e10 | 1.30478e11 |\n",
       "| 49  | 4.81438e10 | 1.71e11    | 6.17626e10 | 2.41858e10 | 1.62818e11 |\n",
       "| 50  | 4.7889e10  | 1.37212e11 | 6.25197e10 | 1.96406e10 | 1.88984e11 |\n",
       "| 51  | 5.30429e10 | 1.61207e11 | 6.95554e10 | 1.9479e10  | 2.18888e11 |\n",
       "| 52  | 5.81453e10 | 1.99071e11 | 7.92767e10 | 2.28034e10 | 2.36001e11 |\n",
       "| 53  | 6.03317e10 | 2.04331e11 | 8.76234e10 | 2.26608e10 | 2.62832e11 |\n",
       "| 54  | 6.11637e10 | 2.10183e11 | 9.44727e10 | 2.48803e10 | 2.71973e11 |\n",
       "\n",
       "| Row | ER        | ES         | ET         | EU         | F1         |\n",
       "|-----|-----------|------------|------------|------------|------------|\n",
       "| 1   | NA        | 1.20721e10 | NA         | 3.59356e11 | NA         |\n",
       "| 2   | NA        | 1.38343e10 | NA         | 3.91242e11 | NA         |\n",
       "| 3   | NA        | 1.61385e10 | NA         | 4.27403e11 | NA         |\n",
       "| 4   | NA        | 1.90749e10 | NA         | 4.70842e11 | NA         |\n",
       "| 5   | NA        | 2.13438e10 | NA         | 5.21802e11 | NA         |\n",
       "| 6   | NA        | 2.4757e10  | NA         | 5.68248e11 | NA         |\n",
       "| 7   | NA        | 2.87211e10 | NA         | 6.15997e11 | NA         |\n",
       "| 8   | NA        | 3.16471e10 | NA         | 6.61933e11 | NA         |\n",
       "| 9   | NA        | 3.14755e10 | NA         | 6.8801e11  | NA         |\n",
       "| 10  | NA        | 3.60387e10 | NA         | 7.55671e11 | NA         |\n",
       "| 11  | NA        | 4.08817e10 | NA         | 8.55685e11 | NA         |\n",
       "⋮\n",
       "| 43  | 7.29321e8 | 7.05146e11 | 7.85081e9  | 9.71995e12 | 1.6973e11  |\n",
       "| 44  | 8.70248e8 | 9.06853e11 | 8.62369e9  | 1.18523e13 | 1.91128e11 |\n",
       "| 45  | 1.10905e9 | 1.0696e12  | 1.01312e10 | 1.36897e13 | 2.26905e11 |\n",
       "| 46  | 1.09843e9 | 1.15725e12 | 1.24011e10 | 1.43126e13 | 2.76221e11 |\n",
       "| 47  | 1.21116e9 | 1.26449e12 | 1.52809e10 | 1.52737e13 | 3.32785e11 |\n",
       "| 48  | 1.31797e9 | 1.47927e12 | 1.97076e10 | 1.76614e13 | 4.1926e11  |\n",
       "| 49  | 1.38019e9 | 1.63505e12 | 2.70669e10 | 1.90089e13 | 5.3548e11  |\n",
       "| 50  | 1.8567e9  | 1.49898e12 | 3.24374e10 | 1.70018e13 | 4.72585e11 |\n",
       "| 51  | 2.11704e9 | 1.43159e12 | 2.99338e10 | 1.69348e13 | 5.56081e11 |\n",
       "| 52  | 2.60774e9 | 1.4946e12  | 3.19528e10 | 1.83083e13 | 5.89816e11 |\n",
       "| 53  | 3.09197e9 | 1.35573e12 | 4.33107e10 | 1.7252e13  | 6.80552e11 |\n",
       "| 54  | 3.4441e9  | 1.39304e12 | 4.75252e10 | 1.79581e13 | 7.13499e11 |\n",
       "\n",
       "| Row | FI         | FJ        | FM        | FO        | FR         |\n",
       "|-----|------------|-----------|-----------|-----------|------------|\n",
       "| 1   | 5.2241e9   | 1.12334e8 | NA        | NA        | 6.26515e10 |\n",
       "| 2   | 5.92166e9  | 1.16994e8 | NA        | NA        | 6.83467e10 |\n",
       "| 3   | 6.34058e9  | 1.22913e8 | NA        | NA        | 7.63138e10 |\n",
       "| 4   | 6.88592e9  | 1.29462e8 | NA        | NA        | 8.55511e10 |\n",
       "| 5   | 7.76666e9  | 1.4004e8  | NA        | NA        | 9.49066e10 |\n",
       "| 6   | 8.58934e9  | 1.47085e8 | NA        | NA        | 1.02161e11 |\n",
       "| 7   | 9.20852e9  | 1.50604e8 | NA        | NA        | 1.10597e11 |\n",
       "| 8   | 9.36895e9  | 1.62626e8 | NA        | NA        | 1.19466e11 |\n",
       "| 9   | 8.82303e9  | 1.66953e8 | NA        | NA        | 1.29847e11 |\n",
       "| 10  | 1.00708e10 | 1.82182e8 | NA        | NA        | 1.40725e11 |\n",
       "| 11  | 1.1366e10  | 2.19878e8 | NA        | NA        | 1.48949e11 |\n",
       "⋮\n",
       "| 43  | 1.39553e11 | 1.84269e9 | 2.41543e8 | 1.26845e9 | 1.50034e12 |\n",
       "| 44  | 1.71071e11 | 2.31594e9 | 2.44991e8 | 1.48686e9 | 1.84812e12 |\n",
       "| 45  | 1.96777e11 | 2.72751e9 | 2.39563e8 | 1.684e9   | 2.1242e12  |\n",
       "| 46  | 2.04431e11 | 3.00673e9 | 2.49846e8 | 1.73089e9 | 2.20362e12 |\n",
       "| 47  | 2.16541e11 | 3.1031e9  | 2.52991e8 | 1.97014e9 | 2.32489e12 |\n",
       "| 48  | 2.55372e11 | 3.40505e9 | 2.55891e8 | 2.27823e9 | 2.66298e12 |\n",
       "| 49  | 2.83753e11 | 3.52319e9 | 2.6134e8  | 2.41286e9 | 2.92357e12 |\n",
       "| 50  | 2.51484e11 | 2.87062e9 | 2.77511e8 | 2.19814e9 | 2.69367e12 |\n",
       "| 51  | 2.478e11   | 3.14051e9 | 2.94117e8 | NA        | 2.64684e12 |\n",
       "| 52  | 2.73674e11 | 3.64642e9 | 3.10288e8 | NA        | 2.86268e12 |\n",
       "| 53  | 2.55776e11 | 3.84982e9 | 3.26161e8 | NA        | 2.68672e12 |\n",
       "| 54  | 2.67329e11 | 3.85502e9 | 3.16246e8 | NA        | 2.80643e12 |\n",
       "\n",
       "| Row | GA         | GB         | GD        | GE         | GH         |\n",
       "|-----|------------|------------|-----------|------------|------------|\n",
       "| 1   | 1.41469e8  | 7.2328e10  | NA        | NA         | 1.21723e9  |\n",
       "| 2   | 1.67638e8  | 7.66944e10 | NA        | NA         | 1.30267e9  |\n",
       "| 3   | 1.82797e8  | 8.06019e10 | NA        | NA         | 1.38252e9  |\n",
       "| 4   | 1.5448e8   | 8.54438e10 | NA        | NA         | 1.5408e9   |\n",
       "| 5   | 2.1568e8   | 9.33876e10 | NA        | NA         | 1.7313e9   |\n",
       "| 6   | 2.26474e8  | 1.00596e11 | NA        | NA         | 2.05346e9  |\n",
       "| 7   | 2.4585e8   | 1.07091e11 | NA        | NA         | 2.1263e9   |\n",
       "| 8   | 2.71544e8  | 1.11185e11 | NA        | NA         | 1.74719e9  |\n",
       "| 9   | 2.94469e8  | 1.04703e11 | NA        | NA         | 1.66691e9  |\n",
       "| 10  | 3.18125e8  | 1.12677e11 | NA        | NA         | 1.96205e9  |\n",
       "| 11  | 3.23802e8  | 1.30596e11 | NA        | NA         | 2.21503e9  |\n",
       "⋮\n",
       "| 43  | 4.9315e9   | 1.67442e12 | 5.40337e8 | 3.39578e9  | 6.1662e9   |\n",
       "| 44  | 6.05488e9  | 1.94371e12 | 5.91018e8 | 3.99137e9  | 7.63272e9  |\n",
       "| 45  | 7.17814e9  | 2.29813e12 | 5.99119e8 | 5.12527e9  | 8.88142e9  |\n",
       "| 46  | 8.66574e9  | 2.41212e12 | 6.9537e8  | 6.41115e9  | 1.07319e10 |\n",
       "| 47  | 9.54598e9  | 2.58282e12 | 6.98701e8 | 7.7619e9   | 2.04103e10 |\n",
       "| 48  | 1.15709e10 | 2.96327e12 | 7.58684e8 | 1.01723e10 | 2.47576e10 |\n",
       "| 49  | 1.56854e10 | 2.79186e12 | 8.25978e8 | 1.27993e10 | 2.8528e10  |\n",
       "| 50  | 1.20313e10 | 2.30893e12 | 7.71278e8 | 1.07668e10 | 2.59785e10 |\n",
       "| 51  | 1.45695e10 | 2.40793e12 | 7.71016e8 | 1.16385e10 | 3.21748e10 |\n",
       "| 52  | 1.87962e10 | 2.59185e12 | 7.78649e8 | 1.44346e10 | 3.95648e10 |\n",
       "| 53  | 1.78438e10 | 2.61495e12 | 7.99882e8 | 1.58465e10 | 4.17409e10 |\n",
       "| 54  | 1.93435e10 | 2.67845e12 | 8.35582e8 | 1.614e10   | 4.8137e10  |\n",
       "\n",
       "| Row | GL        | GM        | GN        | GQ         | GR         |\n",
       "|-----|-----------|-----------|-----------|------------|------------|\n",
       "| 1   | NA        | NA        | NA        | NA         | 4.44653e9  |\n",
       "| 2   | NA        | NA        | NA        | NA         | 5.01605e9  |\n",
       "| 3   | NA        | NA        | NA        | 9.12275e6  | 5.32757e9  |\n",
       "| 4   | NA        | NA        | NA        | 1.08401e7  | 5.94948e9  |\n",
       "| 5   | NA        | NA        | NA        | 1.27125e7  | 6.6803e9   |\n",
       "| 6   | NA        | NA        | NA        | 6.47483e7  | 7.60058e9  |\n",
       "| 7   | NA        | 4.42121e7 | NA        | 6.911e7    | 8.45561e9  |\n",
       "| 8   | NA        | 4.6695e7  | NA        | 7.23174e7  | 9.13671e9  |\n",
       "| 9   | NA        | 4.11601e7 | NA        | 6.75143e7  | 9.91514e9  |\n",
       "| 10  | NA        | 4.51681e7 | NA        | 6.72257e7  | 1.12661e10 |\n",
       "| 11  | 6.952e7   | 5.22961e7 | NA        | 6.63314e7  | 1.31883e10 |\n",
       "⋮\n",
       "| 43  | 1.16914e9 | 5.78235e8 | 2.94964e9 | 1.80674e9  | 1.52714e11 |\n",
       "| 44  | 1.42645e9 | 4.87039e8 | 3.44644e9 | 2.48475e9  | 2.01547e11 |\n",
       "| 45  | 1.64495e9 | 5.78786e8 | 3.66635e9 | 4.41076e9  | 2.39659e11 |\n",
       "| 46  | 1.70254e9 | 6.24174e8 | 2.93707e9 | 8.21737e9  | 2.47666e11 |\n",
       "| 47  | 1.73843e9 | 6.55068e8 | 2.82135e9 | 8.08198e9  | 2.73265e11 |\n",
       "| 48  | 2.12176e9 | 7.9887e8  | 4.13417e9 | 1.02012e10 | 3.18668e11 |\n",
       "| 49  | 1.73958e9 | 9.65771e8 | 4.51582e9 | 1.54397e10 | 3.54629e11 |\n",
       "| 50  | 1.26771e9 | 9.00641e8 | 4.60992e9 | 9.36483e9  | 3.29837e11 |\n",
       "| 51  | NA        | 9.51827e8 | 4.73596e9 | 1.15829e10 | 2.99598e11 |\n",
       "| 52  | NA        | 9.04256e8 | 5.06736e9 | 1.57257e10 | 2.88803e11 |\n",
       "| 53  | NA        | 9.12428e8 | 5.65109e9 | 1.64965e10 | 2.49525e11 |\n",
       "| 54  | NA        | 9.03497e8 | 6.14413e9 | 1.55806e10 | 2.4223e11  |\n",
       "\n",
       "| Row | GT         | GW        | GY        | HK         | HN         |\n",
       "|-----|------------|-----------|-----------|------------|------------|\n",
       "| 1   | 1.0436e9   | NA        | 1.70216e8 | 1.3208e9   | 3.3565e8   |\n",
       "| 2   | 1.0767e9   | NA        | 1.8585e8  | 1.53075e9  | 3.562e8    |\n",
       "| 3   | 1.1436e9   | NA        | 1.9495e8  | 1.72485e9  | 3.8775e8   |\n",
       "| 4   | 1.2628e9   | NA        | 1.75758e8 | 1.97505e9  | 4.102e8    |\n",
       "| 5   | 1.2991e9   | NA        | 1.94775e8 | 2.27471e9  | 4.57e8     |\n",
       "| 6   | 1.3314e9   | NA        | 2.13235e8 | 2.43508e9  | 5.0865e8   |\n",
       "| 7   | 1.3907e9   | NA        | 2.28706e8 | 2.48985e9  | 5.4995e8   |\n",
       "| 8   | 1.4535e9   | NA        | 2.50176e8 | 2.69247e9  | 5.981e8    |\n",
       "| 9   | 1.6105e9   | NA        | 2.2975e8  | 2.71696e9  | 6.468e8    |\n",
       "| 10  | 1.7154e9   | NA        | 2.493e8   | 3.18974e9  | 6.68e8     |\n",
       "| 11  | 1.904e9    | 7.87335e7 | 2.678e8   | 3.80077e9  | 7.23e8     |\n",
       "⋮\n",
       "| 43  | 2.07765e10 | 4.15843e8 | 7.22461e8 | 1.66349e11 | 7.77646e9  |\n",
       "| 44  | 2.19176e10 | 4.76388e8 | 7.41929e8 | 1.61385e11 | 8.14029e9  |\n",
       "| 45  | 2.39653e10 | 5.31109e8 | 7.85919e8 | 1.691e11   | 8.7722e9   |\n",
       "| 46  | 2.72112e10 | 5.86792e8 | 8.24881e8 | 1.8157e11  | 9.67201e9  |\n",
       "| 47  | 3.02311e10 | 5.9183e8  | 1.45845e9 | 1.93536e11 | 1.08417e10 |\n",
       "| 48  | 3.41131e10 | 6.95606e8 | 1.74033e9 | 2.11597e11 | 1.22755e10 |\n",
       "| 49  | 3.91365e10 | 8.64108e8 | 1.9226e9  | 2.1928e11  | 1.37897e10 |\n",
       "| 50  | 3.77337e10 | 8.25797e8 | 2.02557e9 | 2.14046e11 | 1.45875e10 |\n",
       "| 51  | 4.1338e10  | 8.47491e8 | 2.25929e9 | 2.28638e11 | 1.58393e10 |\n",
       "| 52  | 4.76548e10 | 1.10365e9 | 2.5766e9  | 2.48514e11 | 1.77103e10 |\n",
       "| 53  | 5.03885e10 | 9.58858e8 | 2.85115e9 | 2.6263e11  | 1.85643e10 |\n",
       "| 54  | 5.37967e10 | 9.60778e8 | 2.99013e9 | 2.74013e11 | 1.855e10   |\n",
       "\n",
       "| Row | HR         | HT        | HU         | ID         | IE         |\n",
       "|-----|------------|-----------|------------|------------|------------|\n",
       "| 1   | NA         | NA        | NA         | NA         | 1.93933e9  |\n",
       "| 2   | NA         | NA        | NA         | NA         | 2.08801e9  |\n",
       "| 3   | NA         | NA        | NA         | NA         | 2.26035e9  |\n",
       "| 4   | NA         | NA        | NA         | NA         | 2.43084e9  |\n",
       "| 5   | NA         | NA        | NA         | NA         | 2.76661e9  |\n",
       "| 6   | NA         | NA        | NA         | NA         | 2.9457e9   |\n",
       "| 7   | NA         | NA        | NA         | NA         | 3.10403e9  |\n",
       "| 8   | NA         | NA        | NA         | 5.98084e9  | 3.34364e9  |\n",
       "| 9   | NA         | NA        | NA         | 7.46736e9  | 3.27858e9  |\n",
       "| 10  | NA         | NA        | NA         | 8.79896e9  | 3.78708e9  |\n",
       "| 11  | NA         | NA        | NA         | 9.65674e9  | 4.39161e9  |\n",
       "⋮\n",
       "| 43  | 2.68785e10 | 3.21463e9 | 6.73663e10 | 1.95661e11 | 1.27215e11 |\n",
       "| 44  | 3.46581e10 | 2.82648e9 | 8.47384e10 | 2.34772e11 | 1.63476e11 |\n",
       "| 45  | 4.15745e10 | 3.66048e9 | 1.03157e11 | 2.56837e11 | 1.93043e11 |\n",
       "| 46  | 4.54164e10 | 4.15429e9 | 1.1189e11  | 2.85869e11 | 2.10358e11 |\n",
       "| 47  | 5.04363e10 | 4.87974e9 | 1.14238e11 | 3.64571e11 | 2.30523e11 |\n",
       "| 48  | 6.00652e10 | 5.88533e9 | 1.3858e11  | 4.32217e11 | 2.69283e11 |\n",
       "| 49  | 7.04615e10 | 6.54853e9 | 1.56579e11 | 5.10245e11 | 2.73732e11 |\n",
       "| 50  | 6.26367e10 | 6.58465e9 | 1.2936e11  | 5.3958e11  | 2.33542e11 |\n",
       "| 51  | 5.96438e10 | 6.62254e9 | 1.29586e11 | 7.09191e11 | 2.18435e11 |\n",
       "| 52  | 6.22414e10 | 7.51683e9 | 1.3944e11  | 8.45932e11 | 2.37772e11 |\n",
       "| 53  | 5.64795e10 | 7.89022e9 | 1.26825e11 | 8.76719e11 | 2.21966e11 |\n",
       "| 54  | 5.78687e10 | 8.45933e9 | 1.33424e11 | 8.68346e11 | 2.32077e11 |\n",
       "\n",
       "| Row | IL         | IM        | IN         | IQ         | IR         |\n",
       "|-----|------------|-----------|------------|------------|------------|\n",
       "| 1   | 2.88708e9  | NA        | 3.76793e10 | 1.68392e9  | NA         |\n",
       "| 2   | 3.48695e9  | NA        | 3.99205e10 | 1.83148e9  | NA         |\n",
       "| 3   | 2.59655e9  | NA        | 4.29009e10 | 1.9544e9   | NA         |\n",
       "| 4   | 2.99217e9  | NA        | 4.92711e10 | 1.9782e9   | NA         |\n",
       "| 5   | 3.40546e9  | NA        | 5.74708e10 | 2.34024e9  | NA         |\n",
       "| 6   | 3.66335e9  | NA        | 6.05993e10 | NA         | 6.15474e9  |\n",
       "| 7   | 3.98001e9  | NA        | 4.66698e10 | NA         | 6.7061e9   |\n",
       "| 8   | 3.92109e9  | NA        | 5.10142e10 | NA         | 7.42539e9  |\n",
       "| 9   | 3.95915e9  | NA        | 5.40164e10 | 2.89695e9  | 8.4479e9   |\n",
       "| 10  | 4.56801e9  | NA        | 5.9473e10  | 3.00812e9  | 9.48234e9  |\n",
       "| 11  | 5.3723e9   | NA        | 6.35172e10 | 3.28171e9  | 1.05881e10 |\n",
       "⋮\n",
       "| 43  | 1.19876e11 | 1.89761e9 | 5.23969e11 | NA         | 1.16421e11 |\n",
       "| 44  | 1.25467e11 | 2.26491e9 | 6.18356e11 | NA         | 1.3541e11  |\n",
       "| 45  | 1.34021e11 | 2.75812e9 | 7.21586e11 | 3.66279e10 | 1.63227e11 |\n",
       "| 46  | 1.41213e11 | 2.91571e9 | 8.34215e11 | 4.99549e10 | 1.92015e11 |\n",
       "| 47  | 1.52231e11 | 3.43745e9 | 9.49117e11 | 6.5141e10  | 2.22881e11 |\n",
       "| 48  | 1.76674e11 | 4.07566e9 | 1.2387e12  | 8.88377e10 | 2.86058e11 |\n",
       "| 49  | 2.13921e11 | NA        | 1.2241e12  | 1.31612e11 | 3.55988e11 |\n",
       "| 50  | 2.06479e11 | NA        | 1.36537e12 | 1.11661e11 | 3.62661e11 |\n",
       "| 51  | 2.32908e11 | NA        | 1.70846e12 | 1.38517e11 | 4.22568e11 |\n",
       "| 52  | 2.58418e11 | NA        | 1.84302e12 | 1.8575e11  | 5.28426e11 |\n",
       "| 53  | 2.57206e11 | NA        | 1.83582e12 | 2.16044e11 | 5.02729e11 |\n",
       "| 54  | 2.90551e11 | NA        | 1.87514e12 | 2.29327e11 | 3.68904e11 |\n",
       "\n",
       "| Row | IS         | IT         | JG         | JM         | JO         |\n",
       "|-----|------------|------------|------------|------------|------------|\n",
       "| 1   | 2.48434e8  | 4.03853e10 | NA         | 6.99064e8  | NA         |\n",
       "| 2   | 2.53886e8  | 4.48428e10 | NA         | 7.48043e8  | NA         |\n",
       "| 3   | 2.84917e8  | 5.03839e10 | NA         | 7.77728e8  | NA         |\n",
       "| 4   | 3.40062e8  | 5.77107e10 | NA         | 8.26707e8  | NA         |\n",
       "| 5   | 4.34268e8  | 6.31754e10 | NA         | 8.97949e8  | NA         |\n",
       "| 6   | 5.23695e8  | 6.79782e10 | NA         | 9.7216e8   | 5.9976e8   |\n",
       "| 7   | 6.28893e8  | 7.36549e10 | NA         | 1.09676e9  | 6.58e8     |\n",
       "| 8   | 6.21226e8  | 8.11331e10 | NA         | 1.14801e9  | 6.3168e8   |\n",
       "| 9   | 4.74399e8  | 8.79422e10 | NA         | 1.08384e9  | 5.6112e8   |\n",
       "| 10  | 4.14709e8  | 9.70851e10 | NA         | 1.19124e9  | 6.9888e8   |\n",
       "| 11  | 5.32726e8  | 1.13062e11 | NA         | 1.40472e9  | 6.3952e8   |\n",
       "⋮\n",
       "| 43  | 9.18496e9  | 1.26704e12 | 6.66367e9  | 9.71899e9  | 9.58016e9  |\n",
       "| 44  | 1.13244e10 | 1.57033e12 | 7.33224e9  | 9.43024e9  | 1.0193e10  |\n",
       "| 45  | 1.3737e10  | 1.7992e12  | 8.55364e9  | 1.01732e10 | 1.14076e10 |\n",
       "| 46  | 1.67985e10 | 1.85347e12 | 8.82727e9  | 1.10758e10 | 1.25887e10 |\n",
       "| 47  | 1.7101e10  | 1.94343e12 | 9.67617e9  | 1.1903e10  | 1.50569e10 |\n",
       "| 48  | 2.14467e10 | 2.20397e12 | 1.15146e10 | 1.28201e10 | 1.71106e10 |\n",
       "| 49  | 1.75992e10 | 2.39196e12 | NA         | 1.36768e10 | 2.19718e10 |\n",
       "| 50  | 1.28238e10 | 2.18611e12 | NA         | 1.2125e10  | 2.38183e10 |\n",
       "| 51  | 1.3261e10  | 2.12662e12 | NA         | 1.32308e10 | 2.64254e10 |\n",
       "| 52  | 1.46658e10 | 2.27823e12 | NA         | 1.44339e10 | 2.88403e10 |\n",
       "| 53  | 1.41826e10 | 2.09176e12 | NA         | 1.47948e10 | 3.10152e10 |\n",
       "| 54  | 1.53301e10 | 2.14948e12 | NA         | 1.43623e10 | 3.36785e10 |\n",
       "\n",
       "| Row | JP         | KE         | KG        | KH         | KI        |\n",
       "|-----|------------|------------|-----------|------------|-----------|\n",
       "| 1   | 4.43073e10 | 7.91261e8  | NA        | 6.37143e8  | NA        |\n",
       "| 2   | 5.35086e10 | 7.92955e8  | NA        | 6.42857e8  | NA        |\n",
       "| 3   | 6.0723e10  | 8.68107e8  | NA        | 6.6e8      | NA        |\n",
       "| 4   | 6.94981e10 | 9.26584e8  | NA        | 7.28571e8  | NA        |\n",
       "| 5   | 8.1749e10  | 9.98754e8  | NA        | 7.82857e8  | NA        |\n",
       "| 6   | 9.09503e10 | 9.97914e8  | NA        | 8.68571e8  | NA        |\n",
       "| 7   | 1.05628e11 | 1.16451e9  | NA        | 9.14286e8  | NA        |\n",
       "| 8   | 1.23782e11 | 1.23255e9  | NA        | 9.62857e8  | NA        |\n",
       "| 9   | 1.46601e11 | 1.35329e9  | NA        | 1.06571e9  | NA        |\n",
       "| 10  | 1.72204e11 | 1.45837e9  | NA        | 9.78873e8  | NA        |\n",
       "| 11  | 2.09071e11 | 1.60344e9  | NA        | 7.18401e8  | 1.42953e7 |\n",
       "⋮\n",
       "| 43  | 3.98082e12 | 1.31477e10 | 1.60564e9 | 4.28403e9  | 7.2259e7  |\n",
       "| 44  | 4.30294e12 | 1.49045e10 | 1.91901e9 | 4.65825e9  | 9.01485e7 |\n",
       "| 45  | 4.6558e12  | 1.60953e10 | 2.21154e9 | 5.33783e9  | 1.02221e8 |\n",
       "| 46  | 4.57187e12 | 1.87379e10 | 2.45988e9 | 6.29305e9  | 1.06147e8 |\n",
       "| 47  | 4.35675e12 | 2.58255e10 | 2.83417e9 | 7.27442e9  | 1.04669e8 |\n",
       "| 48  | 4.35635e12 | 3.19582e10 | 3.80257e9 | 8.63916e9  | 1.23005e8 |\n",
       "| 49  | 4.84918e12 | 3.58952e10 | 5.13996e9 | 1.03518e10 | 1.35044e8 |\n",
       "| 50  | 5.03514e12 | 3.70215e10 | 4.69006e9 | 1.04019e10 | 1.27125e8 |\n",
       "| 51  | 5.49539e12 | 4.00001e10 | 4.79436e9 | 1.12423e10 | 1.50431e8 |\n",
       "| 52  | 5.90563e12 | 4.1955e10  | 6.19777e9 | 1.28295e10 | 1.72254e8 |\n",
       "| 53  | 5.95448e12 | 5.03347e10 | 6.60514e9 | 1.40544e10 | 1.74984e8 |\n",
       "| 54  | 4.91956e12 | 5.52431e10 | 7.2263e9  | 1.52387e10 | 1.68952e8 |\n",
       "\n",
       "| Row | KM        | KN        | KR         | KV        | KW         | KY |\n",
       "|-----|-----------|-----------|------------|-----------|------------|----|\n",
       "| 1   | NA        | 1.23666e7 | 3.89185e9  | NA        | NA         | NA |\n",
       "| 2   | NA        | 1.24833e7 | 2.35706e9  | NA        | NA         | NA |\n",
       "| 3   | NA        | 1.25416e7 | 2.74594e9  | NA        | NA         | NA |\n",
       "| 4   | NA        | 1.28333e7 | 3.86373e9  | NA        | NA         | NA |\n",
       "| 5   | NA        | 1.34166e7 | 3.35813e9  | NA        | NA         | NA |\n",
       "| 6   | NA        | 1.35939e7 | 3.01761e9  | NA        | 2.0972e9   | NA |\n",
       "| 7   | NA        | 1.44691e7 | 3.80604e9  | NA        | 2.3912e9   | NA |\n",
       "| 8   | NA        | 1.67423e7 | 4.70275e9  | NA        | 2.4416e9   | NA |\n",
       "| 9   | NA        | 1.46e7    | 5.95534e9  | NA        | 2.6628e9   | NA |\n",
       "| 10  | NA        | 1.585e7   | 7.47569e9  | NA        | 2.7692e9   | NA |\n",
       "| 11  | NA        | 1.63e7    | 9.40978e9  | NA        | 2.87364e9  | NA |\n",
       "⋮\n",
       "| 43  | 2.46738e8 | 4.80826e8 | 6.0902e11  | 2.70243e9 | 3.81388e10 | NA |\n",
       "| 44  | 3.17562e8 | 4.63419e8 | 6.80521e11 | 3.35508e9 | 4.78758e10 | NA |\n",
       "| 45  | 3.68143e8 | 5.01151e8 | 7.64881e11 | 3.63994e9 | 5.94405e10 | NA |\n",
       "| 46  | 3.80373e8 | 5.4317e8  | 8.98134e11 | 3.74312e9 | 8.07979e10 | NA |\n",
       "| 47  | 4.06112e8 | 6.36071e8 | 1.0118e12  | 3.91818e9 | 1.01561e11 | NA |\n",
       "| 48  | 4.62454e8 | 6.84149e8 | 1.12268e12 | 4.69451e9 | 1.14722e11 | NA |\n",
       "| 49  | 5.17478e8 | 7.3466e8  | 1.00222e12 | 5.68749e9 | 1.47402e11 | NA |\n",
       "| 50  | 5.14788e8 | 7.08891e8 | 9.01935e11 | 5.65386e9 | 1.05911e11 | NA |\n",
       "| 51  | 5.16963e8 | 6.92457e8 | 1.0945e12  | 5.83032e9 | 1.15429e11 | NA |\n",
       "| 52  | 5.66025e8 | 7.28051e8 | 1.20246e12 | 6.6925e9  | 1.54032e11 | NA |\n",
       "| 53  | 5.50476e8 | 7.3192e8  | 1.22281e12 | 6.49994e9 | 1.74045e11 | NA |\n",
       "| 54  | 5.98926e8 | 7.65871e8 | 1.30455e12 | 7.07196e9 | 1.75831e11 | NA |\n",
       "\n",
       "| Row | KZ         | LA         | LB         | LC        | LI        |\n",
       "|-----|------------|------------|------------|-----------|-----------|\n",
       "| 1   | NA         | NA         | NA         | NA        | NA        |\n",
       "| 2   | NA         | NA         | NA         | NA        | NA        |\n",
       "| 3   | NA         | NA         | NA         | NA        | NA        |\n",
       "| 4   | NA         | NA         | NA         | NA        | NA        |\n",
       "| 5   | NA         | NA         | NA         | NA        | NA        |\n",
       "| 6   | NA         | NA         | NA         | NA        | NA        |\n",
       "| 7   | NA         | NA         | NA         | NA        | NA        |\n",
       "| 8   | NA         | NA         | NA         | NA        | NA        |\n",
       "| 9   | NA         | NA         | NA         | NA        | NA        |\n",
       "| 10  | NA         | NA         | NA         | NA        | NA        |\n",
       "| 11  | NA         | NA         | NA         | NA        | 9.00994e7 |\n",
       "⋮\n",
       "| 43  | 2.46366e10 | 1.75818e9  | 1.91522e10 | 7.41966e8 | 2.68862e9 |\n",
       "| 44  | 3.08337e10 | 2.02332e9  | 2.00829e10 | 8.05837e8 | 3.0708e9  |\n",
       "| 45  | 4.31516e10 | 2.3664e9   | 2.09552e10 | 8.85242e8 | 3.45437e9 |\n",
       "| 46  | 5.71237e10 | 2.73555e9  | 2.12876e10 | 9.35463e8 | 3.65836e9 |\n",
       "| 47  | 8.10039e10 | 3.4529e9   | 2.17964e10 | 1.06694e9 | 3.98878e9 |\n",
       "| 48  | 1.0485e11  | 4.22295e9  | 2.45771e10 | 1.14348e9 | 4.60235e9 |\n",
       "| 49  | 1.33442e11 | 5.44393e9  | 2.88299e10 | 1.17137e9 | 4.92941e9 |\n",
       "| 50  | 1.15309e11 | 5.83288e9  | 3.51396e10 | 1.17661e9 | 4.82617e9 |\n",
       "| 51  | 1.48047e11 | 7.18144e9  | 3.801e10   | 1.2443e9  | NA        |\n",
       "| 52  | 1.88049e11 | 8.25409e9  | 4.00789e10 | 1.28953e9 | NA        |\n",
       "| 53  | 2.03517e11 | 9.35919e9  | 4.32051e10 | 1.30267e9 | NA        |\n",
       "| 54  | 2.31876e11 | 1.12425e10 | 4.43524e10 | 1.33576e9 | NA        |\n",
       "\n",
       "| Row | LK         | LR        | LS        | LT         | LU         |\n",
       "|-----|------------|-----------|-----------|------------|------------|\n",
       "| 1   | 1.41963e9  | 1.90496e8 | 3.45793e7 | NA         | 7.03926e8  |\n",
       "| 2   | 1.45434e9  | 1.83921e8 | 3.56993e7 | NA         | 7.04146e8  |\n",
       "| 3   | 1.45861e9  | 1.91862e8 | 4.18592e7 | NA         | 7.41509e8  |\n",
       "| 4   | 1.24139e9  | 2.0023e8  | 4.70391e7 | NA         | 7.91141e8  |\n",
       "| 5   | 1.32184e9  | 2.18929e8 | 5.1939e7  | NA         | 9.03159e8  |\n",
       "| 6   | 1.69832e9  | 2.29261e8 | 5.48789e7 | NA         | 9.21601e8  |\n",
       "| 7   | 1.75147e9  | 2.44459e8 | 5.66989e7 | NA         | 9.6844e8   |\n",
       "| 8   | 1.85947e9  | 2.61024e8 | 5.92608e7 | NA         | 9.74722e8  |\n",
       "| 9   | 1.80118e9  | 2.76821e8 | 6.14448e7 | NA         | 1.06645e9  |\n",
       "| 10  | 1.96555e9  | 3.06962e8 | 6.59667e7 | NA         | 1.23488e9  |\n",
       "| 11  | 2.29647e9  | 3.231e8   | 6.87386e7 | NA         | 1.51904e9  |\n",
       "⋮\n",
       "| 43  | 1.71026e10 | 5.36e8    | 6.56753e8 | 1.41639e10 | 2.32859e10 |\n",
       "| 44  | 1.88818e10 | 4.09e8    | 9.69167e8 | 1.86087e10 | 2.9095e10  |\n",
       "| 45  | 2.06625e10 | 4.67e8    | 1.23422e9 | 2.26593e10 | 3.42093e10 |\n",
       "| 46  | 2.44058e10 | 5.42e8    | 1.36835e9 | 2.60853e10 | 3.70236e10 |\n",
       "| 47  | 2.82674e10 | 6.04029e8 | 1.42885e9 | 3.02464e10 | 4.17791e10 |\n",
       "| 48  | 3.23512e10 | 7.39027e8 | 1.5975e9  | 3.9326e10  | 4.9208e10  |\n",
       "| 49  | 4.07152e10 | 8.5004e8  | 1.63067e9 | 4.74384e10 | 5.4964e10  |\n",
       "| 50  | 4.2068e10  | 1.15515e9 | 1.70879e9 | 3.70501e10 | 5.01413e10 |\n",
       "| 51  | 4.95675e10 | 1.2927e9  | 2.17569e9 | 3.67095e10 | 5.21437e10 |\n",
       "| 52  | 5.9178e10  | 1.53775e9 | 2.48736e9 | 4.30831e10 | 5.89561e10 |\n",
       "| 53  | 5.93931e10 | 1.73383e9 | 2.32822e9 | 4.23436e10 | 5.62924e10 |\n",
       "| 54  | 6.7182e10  | 1.95096e9 | 2.33499e9 | 4.5932e10  | 6.01308e10 |\n",
       "\n",
       "| Row | LV         | LY         | MA         | MC        | MD        |\n",
       "|-----|------------|------------|------------|-----------|-----------|\n",
       "| 1   | NA         | NA         | 2.03715e9  | NA        | NA        |\n",
       "| 2   | NA         | NA         | 2.02569e9  | NA        | NA        |\n",
       "| 3   | NA         | NA         | 2.37961e9  | NA        | NA        |\n",
       "| 4   | NA         | NA         | 2.65725e9  | NA        | NA        |\n",
       "| 5   | NA         | NA         | 2.79835e9  | NA        | NA        |\n",
       "| 6   | NA         | NA         | 2.94833e9  | NA        | NA        |\n",
       "| 7   | NA         | NA         | 2.8764e9   | NA        | NA        |\n",
       "| 8   | NA         | NA         | 3.04634e9  | NA        | NA        |\n",
       "| 9   | NA         | NA         | 3.27142e9  | NA        | NA        |\n",
       "| 10  | NA         | NA         | 3.65162e9  | NA        | NA        |\n",
       "| 11  | NA         | NA         | 3.95633e9  | 2.93074e8 | NA        |\n",
       "⋮\n",
       "| 43  | 9.31478e9  | 1.98425e10 | 4.04161e10 | 2.90597e9 | 1.66182e9 |\n",
       "| 44  | 1.11865e10 | 2.40625e10 | 4.98227e10 | 3.58899e9 | 1.9809e9  |\n",
       "| 45  | 1.37616e10 | 3.33846e10 | 5.6948e10  | 4.11035e9 | 2.59823e9 |\n",
       "| 46  | 1.60418e10 | 4.4e10     | 5.95239e10 | 4.28007e9 | 2.98817e9 |\n",
       "| 47  | 1.9935e10  | 5.64844e10 | 6.56371e10 | 4.66349e9 | 3.40845e9 |\n",
       "| 48  | 2.87657e10 | 7.18033e10 | 7.52263e10 | 5.97437e9 | 4.4025e9  |\n",
       "| 49  | 3.36694e10 | 9.31677e10 | 8.8883e10  | 6.91924e9 | 6.05481e9 |\n",
       "| 50  | 2.58758e10 | 6.23604e10 | 9.09084e10 | 5.55758e9 | 5.43942e9 |\n",
       "| 51  | 2.40097e10 | 7.47553e10 | 9.07707e10 | 5.35099e9 | 5.8116e9  |\n",
       "| 52  | 2.84803e10 | 3.46994e10 | 9.92113e10 | 6.07451e9 | 7.01616e9 |\n",
       "| 53  | 2.83726e10 | 8.18737e10 | 9.59037e10 | NA        | 7.28469e9 |\n",
       "| 54  | 3.09567e10 | 7.41995e10 | 1.03836e11 | NA        | 7.96962e9 |\n",
       "\n",
       "| Row | ME        | MG         | MH        | MK         | ML         |\n",
       "|-----|-----------|------------|-----------|------------|------------|\n",
       "| 1   | NA        | 6.73082e8  | NA        | NA         | NA         |\n",
       "| 2   | NA        | 6.99162e8  | NA        | NA         | NA         |\n",
       "| 3   | NA        | 7.39287e8  | NA        | NA         | NA         |\n",
       "| 4   | NA        | 7.59346e8  | NA        | NA         | NA         |\n",
       "| 5   | NA        | 8.02482e8  | NA        | NA         | NA         |\n",
       "| 6   | NA        | 8.33563e8  | NA        | NA         | NA         |\n",
       "| 7   | NA        | 9.00265e8  | NA        | NA         | NA         |\n",
       "| 8   | NA        | 9.56437e8  | NA        | NA         | 2.75494e8  |\n",
       "| 9   | NA        | 1.03167e9  | NA        | NA         | 3.43772e8  |\n",
       "| 10  | NA        | 1.05639e9  | NA        | NA         | 3.39914e8  |\n",
       "| 11  | NA        | 1.11186e9  | NA        | NA         | 3.59772e8  |\n",
       "⋮\n",
       "| 43  | 1.2845e9  | 4.39725e9  | 1.24735e8 | 3.79131e9  | 3.34282e9  |\n",
       "| 44  | 1.70766e9 | 5.47403e9  | 1.26888e8 | 4.75622e9  | 4.36244e9  |\n",
       "| 45  | 2.07326e9 | 4.36393e9  | 1.31106e8 | 5.51425e9  | 4.87418e9  |\n",
       "| 46  | 2.25717e9 | 5.03929e9  | 1.37745e8 | 5.98581e9  | 5.30532e9  |\n",
       "| 47  | 2.69602e9 | 5.51588e9  | 1.43615e8 | 6.56055e9  | 6.12264e9  |\n",
       "| 48  | 3.67338e9 | 7.34292e9  | 1.50042e8 | 8.15983e9  | 7.14539e9  |\n",
       "| 49  | 4.53835e9 | 9.413e9    | 1.52785e8 | 9.83403e9  | 8.73769e9  |\n",
       "| 50  | 4.15814e9 | 8.55036e9  | 1.52116e8 | 9.31357e9  | 8.96448e9  |\n",
       "| 51  | 4.11488e9 | 8.72994e9  | 1.63917e8 | 9.33867e9  | 9.42227e9  |\n",
       "| 52  | 4.50175e9 | 9.8927e9   | 1.72957e8 | 1.03952e10 | 1.06475e10 |\n",
       "| 53  | 4.04581e9 | 9.91978e9  | 1.84359e8 | 9.57648e9  | 1.03408e10 |\n",
       "| 54  | 4.41608e9 | 1.06135e10 | 1.90915e8 | 1.01954e10 | 1.09427e10 |\n",
       "\n",
       "| Row | MN         | MO         | MR        | MT        | MU         |\n",
       "|-----|------------|------------|-----------|-----------|------------|\n",
       "| 1   | NA         | NA         | 9.26092e7 | NA        | NA         |\n",
       "| 2   | NA         | NA         | 1.07726e8 | NA        | NA         |\n",
       "| 3   | NA         | NA         | 1.11149e8 | NA        | NA         |\n",
       "| 4   | NA         | NA         | 1.13797e8 | NA        | NA         |\n",
       "| 5   | NA         | NA         | 1.51897e8 | NA        | NA         |\n",
       "| 6   | NA         | NA         | 1.72767e8 | NA        | NA         |\n",
       "| 7   | NA         | NA         | 1.80341e8 | NA        | NA         |\n",
       "| 8   | NA         | NA         | 1.91222e8 | NA        | NA         |\n",
       "| 9   | NA         | NA         | 2.10695e8 | NA        | NA         |\n",
       "| 10  | NA         | NA         | 1.99643e8 | NA        | NA         |\n",
       "| 11  | NA         | NA         | 2.09348e8 | 2.50729e8 | NA         |\n",
       "⋮\n",
       "| 43  | 1.39656e9  | 7.00803e9  | 1.14966e9 | 4.29616e9 | 4.7673e9   |\n",
       "| 44  | 1.5953e9   | 7.92637e9  | 1.28518e9 | 5.11962e9 | 5.60984e9  |\n",
       "| 45  | 1.99207e9  | 1.02583e10 | 1.49646e9 | 5.64353e9 | 6.38569e9  |\n",
       "| 46  | 2.52336e9  | 1.17926e10 | 1.85784e9 | 5.9808e9  | 6.2838e9   |\n",
       "| 47  | 3.41405e9  | 1.45687e10 | 2.69918e9 | 6.39012e9 | 6.73154e9  |\n",
       "| 48  | 4.23489e9  | 1.80547e10 | 2.83753e9 | 7.51383e9 | 7.79206e9  |\n",
       "| 49  | 5.62324e9  | 2.0731e10  | 3.58528e9 | 8.55429e9 | 9.64108e9  |\n",
       "| 50  | 4.58383e9  | 2.13133e10 | 3.02702e9 | 8.0994e9  | 8.83466e9  |\n",
       "| 51  | 6.20036e9  | 2.83597e10 | 3.52695e9 | 8.16384e9 | 9.71823e9  |\n",
       "| 52  | 8.76143e9  | 3.66347e10 | 4.13608e9 | 9.30206e9 | 1.12524e10 |\n",
       "| 53  | 1.0322e10  | 4.29815e10 | 3.9587e9  | 8.86308e9 | 1.14421e10 |\n",
       "| 54  | 1.15164e10 | 5.17531e10 | 4.15818e9 | 9.64233e9 | 1.19293e10 |\n",
       "\n",
       "| Row | MV        | MW        | MX         | MY         | MZ         |\n",
       "|-----|-----------|-----------|------------|------------|------------|\n",
       "| 1   | NA        | 1.6296e8  | 1.30562e10 | 2.44102e9  | NA         |\n",
       "| 2   | NA        | 1.7458e8  | 1.4154e10  | 2.42272e9  | NA         |\n",
       "| 3   | NA        | 1.8312e8  | 1.52211e10 | 2.54381e9  | NA         |\n",
       "| 4   | NA        | 1.9082e8  | 1.69363e10 | 2.70847e9  | NA         |\n",
       "| 5   | NA        | 1.9474e8  | 2.00701e10 | 2.89975e9  | NA         |\n",
       "| 6   | NA        | 2.2946e8  | 2.18297e10 | 3.18785e9  | NA         |\n",
       "| 7   | NA        | 2.604e8   | 2.43372e10 | 3.39277e9  | NA         |\n",
       "| 8   | NA        | 2.69813e8 | 2.65564e10 | 3.51585e9  | NA         |\n",
       "| 9   | NA        | 2.4516e8  | 2.93636e10 | 3.66721e9  | NA         |\n",
       "| 10  | NA        | 2.658e8   | 3.25158e10 | 4.05076e9  | NA         |\n",
       "| 11  | NA        | 2.9052e8  | 3.55417e10 | 4.27667e9  | NA         |\n",
       "⋮\n",
       "| 43  | 8.28241e8 | 2.66516e9 | 7.41559e11 | 1.00846e11 | 4.20133e9  |\n",
       "| 44  | 9.49868e8 | 2.42466e9 | 7.13284e11 | 1.10202e11 | 4.6662e9   |\n",
       "| 45  | 1.07561e9 | 2.62513e9 | 7.70268e11 | 1.2475e11  | 5.69799e9  |\n",
       "| 46  | 9.92474e8 | 2.755e9   | 8.66346e11 | 1.43533e11 | 6.57852e9  |\n",
       "| 47  | 1.30338e9 | 3.11679e9 | 9.66736e11 | 1.62692e11 | 7.09591e9  |\n",
       "| 48  | 1.54198e9 | 3.64782e9 | 1.04339e12 | 1.93553e11 | 9.19294e9  |\n",
       "| 49  | 1.89163e9 | 4.27677e9 | 1.09907e12 | 2.30989e11 | 1.10262e10 |\n",
       "| 50  | 1.98464e9 | 5.03064e9 | 8.95313e11 | 2.02251e11 | 1.07266e10 |\n",
       "| 51  | 2.1341e9  | 5.39862e9 | 1.05163e12 | 2.47534e11 | 1.01654e10 |\n",
       "| 52  | 2.16299e9 | 5.6279e9  | 1.17009e12 | 2.89548e11 | 1.32449e10 |\n",
       "| 53  | 2.11318e9 | 4.24049e9 | 1.18646e12 | 3.05264e11 | 1.49529e10 |\n",
       "| 54  | 2.29984e9 | 3.70539e9 | 1.26091e12 | 3.13159e11 | 1.56303e10 |\n",
       "\n",
       "| Row | NA         | NC        | NE        | NG         | NI         |\n",
       "|-----|------------|-----------|-----------|------------|------------|\n",
       "| 1   | NA         | NA        | 4.49527e8 | 4.19617e9  | 2.27223e8  |\n",
       "| 2   | NA         | NA        | 4.85785e8 | 4.46729e9  | 2.44144e8  |\n",
       "| 3   | NA         | NA        | 5.31737e8 | 4.9094e9   | 2.69284e8  |\n",
       "| 4   | NA         | NA        | 5.86295e8 | 5.16559e9  | 2.97324e8  |\n",
       "| 5   | NA         | NA        | 5.82816e8 | 5.55293e9  | 3.4712e8   |\n",
       "| 6   | NA         | 1.59594e8 | 6.73384e8 | 5.87442e9  | 5.6429e8   |\n",
       "| 7   | NA         | 1.64207e8 | 7.02296e8 | 6.36679e9  | 6.0714e8   |\n",
       "| 8   | NA         | 1.80037e8 | 6.65587e8 | 5.20314e9  | 6.5714e8   |\n",
       "| 9   | NA         | 2.15507e8 | 6.41214e8 | 5.2009e9   | 6.9286e8   |\n",
       "| 10  | NA         | 2.63109e8 | 6.25868e8 | 6.63419e9  | 7.5e8      |\n",
       "| 11  | NA         | 3.58816e8 | 6.49917e8 | 1.25458e10 | 7.7857e8   |\n",
       "⋮\n",
       "| 43  | 3.36124e9  | NA        | 2.17048e9 | 5.91169e10 | 5.22421e9  |\n",
       "| 44  | 4.93128e9  | NA        | 2.73142e9 | 6.76558e10 | 5.32244e9  |\n",
       "| 45  | 6.60687e9  | NA        | 3.0529e9  | 8.78454e10 | 5.79557e9  |\n",
       "| 46  | 7.2613e9   | NA        | 3.40513e9 | 1.12248e11 | 6.32258e9  |\n",
       "| 47  | 7.97868e9  | NA        | 3.64673e9 | 1.4543e11  | 6.78629e9  |\n",
       "| 48  | 8.74092e9  | NA        | 4.29136e9 | 1.66451e11 | 7.4581e9   |\n",
       "| 49  | 8.48652e9  | NA        | 5.40336e9 | 2.08065e11 | 8.49139e9  |\n",
       "| 50  | 8.87596e9  | NA        | 5.39712e9 | 1.69481e11 | 8.38073e9  |\n",
       "| 51  | 1.1282e10  | NA        | 5.71859e9 | 3.69062e11 | 8.93821e9  |\n",
       "| 52  | 1.24124e10 | NA        | 6.40917e9 | 4.11744e11 | 9.89858e9  |\n",
       "| 53  | 1.30374e10 | NA        | 6.61134e9 | 4.62979e11 | 1.06449e10 |\n",
       "| 54  | 1.31131e10 | NA        | 7.40742e9 | 5.21803e11 | 1.12556e10 |\n",
       "\n",
       "| Row | NL         | NO         | NP         | NZ         | OE         |\n",
       "|-----|------------|------------|------------|------------|------------|\n",
       "| 1   | 1.22767e10 | 5.16327e9  | 5.08334e8  | 5.48585e9  | 1.07138e12 |\n",
       "| 2   | 1.34938e10 | 5.63246e9  | 5.3196e8   | 5.67006e9  | 1.12613e12 |\n",
       "| 3   | 1.46471e10 | 6.06698e9  | 5.74091e8  | 6.0775e9   | 1.21581e12 |\n",
       "| 4   | 1.58912e10 | 6.51024e9  | 4.96949e8  | 6.63894e9  | 1.30977e12 |\n",
       "| 5   | 1.86994e10 | 7.1592e9   | 4.96099e8  | 7.27414e9  | 1.43138e12 |\n",
       "| 6   | 2.10006e10 | 8.05868e9  | 7.35267e8  | 5.65446e9  | 1.55427e12 |\n",
       "| 7   | 2.28672e10 | 8.69646e9  | 9.06812e8  | 5.86373e9  | 1.70646e12 |\n",
       "| 8   | 2.50876e10 | 9.5145e9   | 8.41974e8  | 5.96142e9  | 1.83097e12 |\n",
       "| 9   | 2.78176e10 | 1.01599e10 | 7.7223e8   | 5.1806e9   | 1.98422e12 |\n",
       "| 10  | 3.15039e10 | 1.10631e10 | 7.88642e8  | 5.76159e9  | 2.17766e12 |\n",
       "| 11  | 3.75302e10 | 1.27297e10 | 8.65975e8  | NA         | 2.38598e12 |\n",
       "⋮\n",
       "| 43  | 4.64479e11 | 1.91927e11 | 6.05088e9  | 6.6021e10  | 2.80397e13 |\n",
       "| 44  | 5.70918e11 | 2.24881e11 | 6.33048e9  | 8.74405e10 | 3.14324e13 |\n",
       "| 45  | 6.4607e11  | 2.60029e11 | 7.27393e9  | 1.02986e11 | 3.49827e13 |\n",
       "| 46  | 6.72357e11 | 3.0406e11  | 8.13026e9  | 1.13791e11 | 3.6952e13  |\n",
       "| 47  | 7.19376e11 | 3.40042e11 | 9.04372e9  | 1.10205e11 | 3.89754e13 |\n",
       "| 48  | 8.33148e11 | 3.93479e11 | 1.03256e10 | 1.35295e11 | 4.26254e13 |\n",
       "| 49  | 9.31328e11 | 4.53885e11 | 1.25454e10 | 1.30459e11 | 4.51101e13 |\n",
       "| 50  | 8.58034e11 | 3.78849e11 | 1.28997e10 | 1.18953e11 | 4.22218e13 |\n",
       "| 51  | 8.3639e11  | 4.20946e11 | 1.59941e10 | 1.43467e11 | 4.42714e13 |\n",
       "| 52  | 8.93757e11 | 4.90807e11 | 1.88504e10 | 1.63841e11 | 4.75147e13 |\n",
       "| 53  | 8.23139e11 | 5.0003e11  | 1.92068e10 | 1.71461e11 | 4.74181e13 |\n",
       "| 54  | 8.53539e11 | 5.1258e11  | 1.92943e10 | 1.85788e11 | 4.79769e13 |\n",
       "\n",
       "| Row | OM         | PA         | PE         | PF        | PG         |\n",
       "|-----|------------|------------|------------|-----------|------------|\n",
       "| 1   | 4.42347e7  | 4.158e8    | 2.50371e9  | NA        | 2.30496e8  |\n",
       "| 2   | 4.56345e7  | 4.637e8    | 2.82276e9  | NA        | 2.44832e8  |\n",
       "| 3   | 5.62732e7  | 5.048e8    | 3.19962e9  | NA        | 2.61184e8  |\n",
       "| 4   | 5.99128e7  | 5.595e8    | 3.50547e9  | NA        | 2.75968e8  |\n",
       "| 5   | 6.18725e7  | 6.008e8    | 4.24138e9  | NA        | 3.05312e8  |\n",
       "| 6   | 6.328e7    | 6.599e8    | 5.0261e9   | 1.76535e8 | 3.44159e8  |\n",
       "| 7   | 6.776e7    | 7.19e8     | 5.94705e9  | 2.15659e8 | 3.90973e8  |\n",
       "| 8   | 1.07152e8  | 8.007e8    | 6.02975e9  | 2.20984e8 | 4.41707e8  |\n",
       "| 9   | 1.8888e8   | 8.614e8    | 5.58398e9  | 2.5959e8  | 4.85161e8  |\n",
       "| 10  | 2.4e8      | 9.454e8    | 6.25065e9  | 2.42944e8 | 5.51237e8  |\n",
       "| 11  | 2.5632e8   | 1.0163e9   | 7.23514e9  | 2.54036e8 | 6.45537e8  |\n",
       "⋮\n",
       "| 43  | 2.01428e10 | 1.22724e10 | 5.44525e10 | NA        | 2.99954e9  |\n",
       "| 44  | 2.16338e10 | 1.29332e10 | 5.90341e10 | NA        | 3.53646e9  |\n",
       "| 45  | 2.47636e10 | 1.41793e10 | 6.67303e10 | NA        | 3.92711e9  |\n",
       "| 46  | 3.10819e10 | 1.54647e10 | 7.49638e10 | NA        | 4.86903e9  |\n",
       "| 47  | 3.72159e10 | 1.7137e10  | 8.79857e10 | NA        | 5.5219e9   |\n",
       "| 48  | 4.20853e10 | 2.11219e10 | 1.02172e11 | NA        | 6.33064e9  |\n",
       "| 49  | 6.09053e10 | 2.4884e10  | 1.21572e11 | NA        | 8.00037e9  |\n",
       "| 50  | 4.83883e10 | 2.59251e10 | 1.212e11   | NA        | 8.09094e9  |\n",
       "| 51  | 5.86414e10 | 2.88141e10 | 1.48523e11 | NA        | 9.71718e9  |\n",
       "| 52  | 6.9522e10  | 3.32705e10 | 1.70564e11 | NA        | 1.28732e10 |\n",
       "| 53  | 7.74973e10 | 3.79562e10 | 1.92628e11 | NA        | 1.53913e10 |\n",
       "| 54  | 7.96559e10 | 4.26481e10 | 2.0235e11  | NA        | 1.54132e10 |\n",
       "\n",
       "| Row | PH         | PK         | PL         | PR         | PS         |\n",
       "|-----|------------|------------|------------|------------|------------|\n",
       "| 1   | 6.68469e9  | 3.70706e9  | NA         | 1.6919e9   | NA         |\n",
       "| 2   | 7.25705e9  | 4.0546e9   | NA         | 1.8651e9   | NA         |\n",
       "| 3   | 4.39982e9  | 4.2331e9   | NA         | 2.0944e9   | NA         |\n",
       "| 4   | 4.87525e9  | 4.54053e9  | NA         | 2.3336e9   | NA         |\n",
       "| 5   | 5.27136e9  | 5.13041e9  | NA         | 2.5705e9   | NA         |\n",
       "| 6   | 5.7844e9   | 5.88471e9  | NA         | 2.8815e9   | NA         |\n",
       "| 7   | 6.37149e9  | 6.46661e9  | NA         | 3.1705e9   | NA         |\n",
       "| 8   | 6.80905e9  | 7.40382e9  | NA         | 3.5327e9   | NA         |\n",
       "| 9   | 7.5916e9   | 8.09009e9  | NA         | 3.9417e9   | NA         |\n",
       "| 10  | 8.40827e9  | 8.63293e9  | NA         | 4.4607e9   | NA         |\n",
       "| 11  | 6.68722e9  | 1.00271e10 | NA         | 5.0347e9   | NA         |\n",
       "⋮\n",
       "| 43  | 8.13577e10 | 7.23068e10 | 1.98679e11 | 7.25462e10 | 3.55745e9  |\n",
       "| 44  | 8.39082e10 | 8.32448e10 | 2.17514e11 | 7.5834e10  | 3.95928e9  |\n",
       "| 45  | 9.13712e10 | 9.79778e10 | 2.53526e11 | 8.03223e10 | 4.32727e9  |\n",
       "| 46  | 1.03066e11 | 1.09502e11 | 3.04412e11 | 8.39145e10 | 4.83428e9  |\n",
       "| 47  | 1.22211e11 | 1.37264e11 | 3.43339e11 | 8.72762e10 | 4.91473e9  |\n",
       "| 48  | 1.4936e11  | 1.52386e11 | 4.28949e11 | 8.95241e10 | 5.50835e9  |\n",
       "| 49  | 1.73603e11 | 1.70078e11 | 5.30185e11 | 9.36393e10 | 6.6735e9   |\n",
       "| 50  | 1.68334e11 | 1.67875e11 | 4.36476e11 | 9.63856e10 | 7.2682e9   |\n",
       "| 51  | 1.99589e11 | 1.77166e11 | 4.76688e11 | 9.83813e10 | 8.9131e9   |\n",
       "| 52  | 2.24143e11 | 2.13587e11 | 5.24363e11 | 1.00352e11 | 1.04654e10 |\n",
       "| 53  | 2.5024e11  | 2.24384e11 | 4.96206e11 | 1.01081e11 | 1.12621e10 |\n",
       "| 54  | 2.72067e11 | 2.32287e11 | 5.25866e11 | 1.03135e11 | NA         |\n",
       "\n",
       "| Row | PT         | PW        | PY         | QA         | RO         |\n",
       "|-----|------------|-----------|------------|------------|------------|\n",
       "| 1   | 3.1932e9   | NA        | NA         | NA         | NA         |\n",
       "| 2   | 3.41752e9  | NA        | NA         | NA         | NA         |\n",
       "| 3   | 3.66822e9  | NA        | NA         | NA         | NA         |\n",
       "| 4   | 3.90573e9  | NA        | NA         | NA         | NA         |\n",
       "| 5   | 4.23561e9  | NA        | NA         | NA         | NA         |\n",
       "| 6   | 4.68746e9  | NA        | 4.0013e8   | NA         | NA         |\n",
       "| 7   | 5.13539e9  | NA        | 4.217e8    | NA         | NA         |\n",
       "| 8   | 5.74024e9  | NA        | 4.51524e8  | NA         | NA         |\n",
       "| 9   | 6.35426e9  | NA        | 4.77013e8  | NA         | NA         |\n",
       "| 10  | 6.96903e9  | NA        | 5.12729e8  | NA         | NA         |\n",
       "| 11  | 8.10903e9  | NA        | 5.48758e8  | 3.01791e8  | NA         |\n",
       "⋮\n",
       "| 43  | 1.34229e11 | 1.68681e8 | 6.32515e9  | 1.93637e10 | 4.59885e10 |\n",
       "| 44  | 1.64964e11 | 1.73899e8 | 6.5881e9   | 2.35338e10 | 5.9466e10  |\n",
       "| 45  | 1.89196e11 | 1.91243e8 | 8.03388e9  | 3.17341e10 | 7.57947e10 |\n",
       "| 46  | 1.973e11   | 2.06233e8 | 8.73465e9  | 4.45305e10 | 9.91726e10 |\n",
       "| 47  | 2.08556e11 | 2.08666e8 | 1.0662e10  | 6.08821e10 | 1.22696e11 |\n",
       "| 48  | 2.40157e11 | 2.11559e8 | 1.37949e10 | 7.97118e10 | 1.70617e11 |\n",
       "| 49  | 2.62017e11 | 2.13355e8 | 1.85041e10 | 1.1527e11  | 2.04339e11 |\n",
       "| 50  | 2.43731e11 | 1.98202e8 | 1.59299e10 | 9.77983e10 | 1.64344e11 |\n",
       "| 51  | 2.38303e11 | 1.97559e8 | 2.00305e10 | 1.25122e11 | 1.64792e11 |\n",
       "| 52  | 2.44895e11 | 2.17378e8 | 2.50712e10 | 1.69805e11 | 1.82611e11 |\n",
       "| 53  | 2.18e11    | 2.32479e8 | 2.4611e10  | 1.9029e11  | 1.69396e11 |\n",
       "| 54  | 2.27324e11 | 2.47043e8 | 2.90094e10 | 2.03235e11 | 1.89638e11 |\n",
       "\n",
       "| Row | RS         | RU         | RW        | S1         | S2        |\n",
       "|-----|------------|------------|-----------|------------|-----------|\n",
       "| 1   | NA         | NA         | 1.19e8    | 2.90169e9  | NA        |\n",
       "| 2   | NA         | NA         | 1.22e8    | 3.15444e9  | NA        |\n",
       "| 3   | NA         | NA         | 1.25e8    | 3.34191e9  | NA        |\n",
       "| 4   | NA         | NA         | 1.28e8    | 3.51635e9  | NA        |\n",
       "| 5   | NA         | NA         | 1.3e8     | 3.86384e9  | NA        |\n",
       "| 6   | NA         | NA         | 1.488e8   | 4.21215e9  | NA        |\n",
       "| 7   | NA         | NA         | 1.24526e8 | 4.55317e9  | NA        |\n",
       "| 8   | NA         | NA         | 1.5956e8  | 4.89199e9  | NA        |\n",
       "| 9   | NA         | NA         | 1.722e8   | 4.91589e9  | NA        |\n",
       "| 10  | NA         | NA         | 1.887e8   | 5.37223e9  | NA        |\n",
       "| 11  | NA         | NA         | 2.199e8   | 5.91537e9  | NA        |\n",
       "⋮\n",
       "| 43  | 1.61168e10 | 3.4511e11  | 1.67745e9 | 6.70076e10 | 3.53951e9 |\n",
       "| 44  | 2.11887e10 | 4.30348e11 | 1.84598e9 | 7.82586e10 | 4.16423e9 |\n",
       "| 45  | 2.48615e10 | 5.91017e11 | 2.08919e9 | 9.11924e10 | 4.8144e9  |\n",
       "| 46  | 2.6252e10  | 7.64001e11 | 2.58147e9 | 1.05036e11 | 5.26486e9 |\n",
       "| 47  | 3.0608e10  | 9.89931e11 | 3.11033e9 | 1.14912e11 | 5.53426e9 |\n",
       "| 48  | 4.02896e10 | 1.29971e12 | 3.77545e9 | 1.30854e11 | 6.06724e9 |\n",
       "| 49  | 4.92595e10 | 1.66084e12 | 4.79657e9 | 1.52902e11 | 6.52327e9 |\n",
       "| 50  | 4.26167e10 | 1.22264e12 | 5.30899e9 | 1.30375e11 | 5.7414e9  |\n",
       "| 51  | 3.93686e10 | 1.52492e12 | 5.69855e9 | 1.47767e11 | 6.37302e9 |\n",
       "| 52  | 4.64625e10 | 1.90479e12 | 6.40673e9 | 1.68166e11 | 7.37943e9 |\n",
       "| 53  | 4.07914e10 | 2.01747e12 | 7.21966e9 | 1.69029e11 | 7.85268e9 |\n",
       "| 54  | 4.55197e10 | 2.09678e12 | 7.52126e9 | 1.7327e11  | 8.0093e9  |\n",
       "\n",
       "| Row | S3         | S4         | SA         | SB        | SC        |\n",
       "|-----|------------|------------|------------|-----------|-----------|\n",
       "| 1   | 1.85923e9  | NA         | NA         | NA        | 1.20123e7 |\n",
       "| 2   | 2.01081e9  | NA         | NA         | NA        | 1.15923e7 |\n",
       "| 3   | 2.12035e9  | NA         | NA         | NA        | 1.26423e7 |\n",
       "| 4   | 2.25823e9  | NA         | NA         | NA        | 1.39233e7 |\n",
       "| 5   | 2.42989e9  | NA         | NA         | NA        | 1.53933e7 |\n",
       "| 6   | 2.6144e9   | NA         | NA         | NA        | 1.56033e7 |\n",
       "| 7   | 2.83472e9  | NA         | NA         | NA        | 1.64434e7 |\n",
       "| 8   | 3.0474e9   | NA         | NA         | 2.52035e7 | 1.66321e7 |\n",
       "| 9   | 3.03124e9  | NA         | 4.18778e9  | 2.80843e7 | 1.60742e7 |\n",
       "| 10  | 3.30391e9  | NA         | 4.48578e9  | 2.86064e7 | 1.64522e7 |\n",
       "| 11  | 3.64698e9  | NA         | 5.01444e9  | NA        | 1.84322e7 |\n",
       "⋮\n",
       "| 43  | 3.49526e10 | 2.85155e10 | 1.88551e11 | 3.41663e8 | 6.97518e8 |\n",
       "| 44  | 3.74224e10 | 3.66721e10 | 2.14573e11 | 3.32736e8 | 7.05705e8 |\n",
       "| 45  | 4.07705e10 | 4.56074e10 | 2.58742e11 | 3.7511e8  | 9.1694e8  |\n",
       "| 46  | 4.65871e10 | 5.31835e10 | 3.2846e11  | 4.1391e8  | 9.1694e8  |\n",
       "| 47  | 5.24909e10 | 5.68867e10 | 3.769e11   | 4.56735e8 | 1.0197e9  |\n",
       "| 48  | 5.84387e10 | 6.63479e10 | 4.15909e11 | 5.16209e8 | 1.01895e9 |\n",
       "| 49  | 6.66987e10 | 7.968e10   | 5.19797e11 | 6.08293e8 | 9.62318e8 |\n",
       "| 50  | 5.61453e10 | 6.84885e10 | 4.29098e11 | 5.97765e8 | 8.47427e8 |\n",
       "| 51  | 5.9375e10  | 8.20186e10 | 5.26811e11 | 6.81587e8 | 9.7336e8  |\n",
       "| 52  | 6.40081e10 | 9.67788e10 | 6.69507e11 | 8.68574e8 | 1.0596e9  |\n",
       "| 53  | 6.53603e10 | 9.58161e10 | 7.33956e11 | 9.89912e8 | 1.0322e9  |\n",
       "| 54  | 6.70331e10 | 9.82295e10 | 7.4845e11  | 1.0964e9  | 1.44335e9 |\n",
       "\n",
       "| Row | SD         | SE         | SG         | SI         | SK         |\n",
       "|-----|------------|------------|------------|------------|------------|\n",
       "| 1   | 1.12636e9  | 1.48429e10 | 7.04458e8  | NA         | NA         |\n",
       "| 2   | 1.22286e9  | 1.61472e10 | 7.64303e8  | NA         | NA         |\n",
       "| 3   | 1.32826e9  | 1.75115e10 | 8.2588e8   | NA         | NA         |\n",
       "| 4   | 1.35123e9  | 1.89541e10 | 9.17216e8  | NA         | NA         |\n",
       "| 5   | 1.38828e9  | 2.11372e10 | 8.93729e8  | NA         | NA         |\n",
       "| 6   | 1.44687e9  | 2.32603e10 | 9.74187e8  | NA         | NA         |\n",
       "| 7   | 1.48449e9  | 2.5302e10  | 1.0959e9   | NA         | NA         |\n",
       "| 8   | 1.60741e9  | 2.74634e10 | 1.23742e9  | NA         | NA         |\n",
       "| 9   | 1.67777e9  | 2.91434e10 | 1.42502e9  | NA         | NA         |\n",
       "| 10  | 1.8475e9   | 3.16492e10 | 1.65904e9  | NA         | NA         |\n",
       "| 11  | 2.10023e9  | 3.75554e10 | 1.9195e9   | NA         | NA         |\n",
       "⋮\n",
       "| 43  | 1.48034e10 | 2.63926e11 | 9.19418e10 | 2.3563e10  | 3.51448e10 |\n",
       "| 44  | 1.76463e10 | 3.31109e11 | 9.70023e10 | 2.96985e10 | 4.6811e10  |\n",
       "| 45  | 2.14579e10 | 3.81706e11 | 1.14187e11 | 3.44706e10 | 5.73294e10 |\n",
       "| 46  | 2.6525e10  | 3.89043e11 | 1.27418e11 | 3.63449e10 | 6.26766e10 |\n",
       "| 47  | 3.58219e10 | 4.20029e11 | 1.47794e11 | 3.95854e10 | 7.04502e10 |\n",
       "| 48  | 4.58989e10 | 4.87818e11 | 1.79981e11 | 4.81147e10 | 8.6031e10  |\n",
       "| 49  | 5.45275e10 | 5.13966e11 | 1.92231e11 | 5.55898e10 | 9.98325e10 |\n",
       "| 50  | 5.31494e10 | 4.29656e11 | 1.92406e11 | 5.02448e10 | 8.86343e10 |\n",
       "| 51  | 6.56321e10 | 4.88378e11 | 2.3642e11  | 4.7973e10  | 8.90119e10 |\n",
       "| 52  | 6.73208e10 | 5.6311e11  | 2.74065e11 | 5.12489e10 | 9.75254e10 |\n",
       "| 53  | 6.31522e10 | 5.43881e11 | 2.86908e11 | 4.62623e10 | 9.27467e10 |\n",
       "| 54  | 6.65659e10 | 5.7968e11  | 2.97941e11 | 4.79873e10 | 9.77073e10 |\n",
       "\n",
       "| Row | SL        | SM        | SN         | SO        | SR        |\n",
       "|-----|-----------|-----------|------------|-----------|-----------|\n",
       "| 1   | 3.22009e8 | NA        | 7.92825e8  | 1.80461e8 | 9.385e7   |\n",
       "| 2   | 3.27835e8 | NA        | 8.36493e8  | 1.91661e8 | 9.84e7    |\n",
       "| 3   | 3.42722e8 | NA        | 8.57426e8  | 2.03533e8 | 1.035e8   |\n",
       "| 4   | 3.48547e8 | NA        | 8.86387e8  | 2.16147e8 | 1.1e8     |\n",
       "| 5   | 3.71848e8 | NA        | 9.39146e8  | 2.29531e8 | 1.2085e8  |\n",
       "| 6   | 3.5938e8  | NA        | 9.55835e8  | 2.43726e8 | 1.3865e8  |\n",
       "| 7   | 3.7548e8  | NA        | 9.84943e8  | 2.57376e8 | 1.711e8   |\n",
       "| 8   | 3.48795e8 | NA        | 9.84605e8  | 2.71782e8 | 1.9845e8  |\n",
       "| 9   | 3.2986e8  | NA        | 1.03429e9  | 2.8672e8  | 2.206e8   |\n",
       "| 10  | 4.0869e8  | NA        | 9.83621e8  | 3.0023e8  | 2.3345e8  |\n",
       "| 11  | 4.3441e8  | NA        | 1.02483e9  | 3.16148e8 | 2.4715e8  |\n",
       "⋮\n",
       "| 43  | 1.239e9   | 8.79957e8 | 5.33386e9  | NA        | 1.0784e9  |\n",
       "| 44  | 1.37144e9 | 1.12298e9 | 6.85895e9  | NA        | 1.2712e9  |\n",
       "| 45  | 1.43121e9 | 1.31736e9 | 8.03134e9  | NA        | 1.48409e9 |\n",
       "| 46  | 1.62785e9 | 1.37542e9 | 8.70702e9  | NA        | 1.79356e9 |\n",
       "| 47  | 1.88743e9 | 1.46908e9 | 9.35871e9  | NA        | 2.62609e9 |\n",
       "| 48  | 2.15865e9 | 1.68765e9 | 1.12846e10 | NA        | 2.93661e9 |\n",
       "| 49  | 2.50562e9 | 1.89981e9 | 1.33863e10 | NA        | 3.53297e9 |\n",
       "| 50  | 2.45397e9 | NA        | 1.2813e10  | NA        | 3.87541e9 |\n",
       "| 51  | 2.57816e9 | NA        | 1.29324e10 | NA        | 4.3684e9  |\n",
       "| 52  | 2.92539e9 | NA        | 1.44407e10 | NA        | 4.42319e9 |\n",
       "| 53  | 3.52935e9 | NA        | 1.40457e10 | NA        | 5.01303e9 |\n",
       "| 54  | 4.13628e9 | NA        | 1.47917e10 | NA        | 5.29879e9 |\n",
       "\n",
       "| Row | SS         | ST        | SV         | SY         | SZ        |\n",
       "|-----|------------|-----------|------------|------------|-----------|\n",
       "| 1   | NA         | NA        | NA         | 8.57704e8  | 3.50762e7 |\n",
       "| 2   | NA         | NA        | NA         | 9.45245e8  | 4.30252e7 |\n",
       "| 3   | NA         | NA        | NA         | 1.11057e9  | 4.59271e7 |\n",
       "| 4   | NA         | NA        | NA         | 1.20045e9  | 5.41284e7 |\n",
       "| 5   | NA         | NA        | NA         | 1.33949e9  | 6.49793e7 |\n",
       "| 6   | NA         | NA        | 8.7772e8   | 1.47204e9  | 7.02786e7 |\n",
       "| 7   | NA         | NA        | 9.2952e8   | 1.34229e9  | 7.68585e7 |\n",
       "| 8   | NA         | NA        | 9.762e8    | 1.58023e9  | 7.47585e7 |\n",
       "| 9   | NA         | NA        | 1.00976e9  | 1.75375e9  | 7.97984e7 |\n",
       "| 10  | NA         | NA        | 1.0494e9   | 2.24501e9  | 1.05418e8 |\n",
       "| 11  | NA         | NA        | 1.13292e9  | 2.14038e9  | 1.12138e8 |\n",
       "⋮\n",
       "| 43  | NA         | 8.4618e7  | 1.43067e10 | 2.15822e10 | 1.22423e9 |\n",
       "| 44  | NA         | 1.01315e8 | 1.50467e10 | 2.18281e10 | 1.85403e9 |\n",
       "| 45  | NA         | 1.10723e8 | 1.57983e10 | 2.50869e10 | 2.42065e9 |\n",
       "| 46  | NA         | 1.23259e8 | 1.70938e10 | 2.8859e10  | 2.58409e9 |\n",
       "| 47  | NA         | 1.35182e8 | 1.85507e10 | 3.33328e10 | 2.94794e9 |\n",
       "| 48  | NA         | 1.44259e8 | 2.01049e10 | 4.0405e10  | 3.05385e9 |\n",
       "| 49  | 1.55504e10 | 1.83465e8 | 2.1431e10  | NA         | 3.01978e9 |\n",
       "| 50  | 1.22313e10 | 1.96474e8 | 2.0661e10  | NA         | 3.14471e9 |\n",
       "| 51  | 1.57278e10 | 2.01038e8 | 2.14183e10 | NA         | 3.89158e9 |\n",
       "| 52  | 1.88308e10 | 2.48287e8 | 2.3139e10  | NA         | 4.14579e9 |\n",
       "| 53  | 1.0369e10  | 2.63328e8 | 2.38136e10 | NA         | 4.04962e9 |\n",
       "| 54  | 1.18044e10 | 3.10685e8 | 2.42591e10 | NA         | 3.7913e9  |\n",
       "\n",
       "| Row | TD         | TG        | TH         | TJ        | TL      | TM         |\n",
       "|-----|------------|-----------|------------|-----------|---------|------------|\n",
       "| 1   | 3.13583e8  | 1.21128e8 | 2.76075e9  | NA        | NA      | NA         |\n",
       "| 2   | 3.33975e8  | 1.26396e8 | 3.03404e9  | NA        | NA      | NA         |\n",
       "| 3   | 3.57636e8  | 1.32237e8 | 3.30891e9  | NA        | NA      | NA         |\n",
       "| 4   | 3.71767e8  | 1.43256e8 | 3.5404e9   | NA        | NA      | NA         |\n",
       "| 5   | 3.92247e8  | 1.66104e8 | 3.88913e9  | NA        | NA      | NA         |\n",
       "| 6   | 4.16926e8  | 1.873e8   | 4.38894e9  | NA        | NA      | NA         |\n",
       "| 7   | 4.32795e8  | 2.16136e8 | 5.27923e9  | NA        | NA      | NA         |\n",
       "| 8   | 4.49826e8  | 2.31706e8 | 5.63846e9  | NA        | NA      | NA         |\n",
       "| 9   | 4.5398e8   | 2.41957e8 | 6.08101e9  | NA        | NA      | NA         |\n",
       "| 10  | 4.71636e8  | 2.67732e8 | 6.69534e9  | NA        | NA      | NA         |\n",
       "| 11  | 4.69267e8  | 2.53977e8 | 7.08654e9  | NA        | NA      | NA         |\n",
       "⋮\n",
       "| 43  | 1.98762e9  | 1.47463e9 | 1.26877e11 | 1.22111e9 | 4.44e8  | 4.46203e9  |\n",
       "| 44  | 2.73667e9  | 1.67369e9 | 1.4264e11  | 1.55413e9 | 4.53e8  | 5.97744e9  |\n",
       "| 45  | 4.41493e9  | 1.93707e9 | 1.6134e11  | 2.07615e9 | 4.66e8  | 6.83835e9  |\n",
       "| 46  | 6.64666e9  | 2.11515e9 | 1.76352e11 | 2.31232e9 | 4.91e8  | 8.10436e9  |\n",
       "| 47  | 7.4221e9   | 2.20281e9 | 2.07089e11 | 2.83024e9 | 4.63e8  | 1.02776e10 |\n",
       "| 48  | 8.63871e9  | 2.52346e9 | 2.46977e11 | 3.7195e9  | 5.59e8  | 1.26642e10 |\n",
       "| 49  | 1.03519e10 | 3.16342e9 | 2.72578e11 | 5.16134e9 | 6.94e8  | 1.92715e10 |\n",
       "| 50  | 9.25349e9  | 3.163e9   | 2.63711e11 | 4.97948e9 | 8.18e8  | 2.02144e10 |\n",
       "| 51  | 1.06577e10 | 3.17295e9 | 3.18908e11 | 5.64218e9 | 9.34e8  | 2.21481e10 |\n",
       "| 52  | 1.21564e10 | 3.75602e9 | 3.45672e11 | 6.52273e9 | 1.123e9 | 2.92333e10 |\n",
       "| 53  | 1.28871e10 | 3.91575e9 | 3.65966e11 | 7.63305e9 | 1.27e9  | 3.51642e10 |\n",
       "| 54  | 1.35136e10 | 4.33858e9 | 3.87252e11 | 8.5081e9  | NA      | 4.18509e10 |\n",
       "\n",
       "| Row | TN         | TO        | TR         | TT         | TV        |\n",
       "|-----|------------|-----------|------------|------------|-----------|\n",
       "| 1   | NA         | NA        | 1.39951e10 | 5.35673e8  | NA        |\n",
       "| 2   | NA         | NA        | 8.01748e9  | 5.84965e8  | NA        |\n",
       "| 3   | NA         | NA        | 8.91904e9  | 6.19323e8  | NA        |\n",
       "| 4   | NA         | NA        | 1.03519e10 | 6.78239e8  | NA        |\n",
       "| 5   | NA         | NA        | 1.1173e10  | 7.11898e8  | NA        |\n",
       "| 6   | 9.91048e8  | NA        | 1.19457e10 | 7.36573e8  | NA        |\n",
       "| 7   | 1.04095e9  | NA        | 1.41191e10 | 7.2374e8   | NA        |\n",
       "| 8   | 1.08571e9  | NA        | 1.56647e10 | 7.61981e8  | NA        |\n",
       "| 9   | 1.21467e9  | NA        | 1.75e10    | 7.589e8    | NA        |\n",
       "| 10  | 1.2899e9   | NA        | 1.94667e10 | 7.792e8    | NA        |\n",
       "| 11  | 1.43924e9  | NA        | 1.7087e10  | 8.2185e8   | NA        |\n",
       "⋮\n",
       "| 43  | 2.31418e10 | 1.81802e8 | 2.32535e11 | 9.00827e9  | 1.54513e7 |\n",
       "| 44  | 2.74531e10 | 2.08099e8 | 3.03005e11 | 1.1236e10  | 1.82309e7 |\n",
       "| 45  | 3.11831e10 | 2.40795e8 | 3.92166e11 | 1.28847e10 | 2.15357e7 |\n",
       "| 46  | 3.2283e10  | 2.64813e8 | 4.8298e11  | 1.60885e10 | 2.18395e7 |\n",
       "| 47  | 3.43784e10 | 2.95998e8 | 5.309e11   | 1.84609e10 | 2.29033e7 |\n",
       "| 48  | 3.89202e10 | 3.01064e8 | 6.47155e11 | 2.18304e10 | 2.7031e7  |\n",
       "| 49  | 4.48566e10 | 3.4685e8  | 7.30337e11 | 2.81658e10 | 3.02908e7 |\n",
       "| 50  | 4.34549e10 | 3.18522e8 | 6.14554e11 | 1.93323e10 | 2.71013e7 |\n",
       "| 51  | 4.4426e10  | 3.69212e8 | 7.31168e11 | 2.07582e10 | 3.18247e7 |\n",
       "| 52  | 4.59508e10 | 4.23038e8 | 7.74754e11 | 2.36763e10 | 3.93135e7 |\n",
       "| 53  | 4.52386e10 | 4.71575e8 | 7.88863e11 | 2.34363e10 | 3.98757e7 |\n",
       "| 54  | 4.69936e10 | 4.66259e8 | 8.22135e11 | 2.46408e10 | 3.83224e7 |\n",
       "\n",
       "| Row | TZ         | UA         | UG         | US         | UY         |\n",
       "|-----|------------|------------|------------|------------|------------|\n",
       "| 1   | NA         | NA         | 4.23008e8  | 5.433e11   | 1.24399e9  |\n",
       "| 2   | NA         | NA         | 4.41524e8  | 5.633e11   | 1.54962e9  |\n",
       "| 3   | NA         | NA         | 4.49013e8  | 6.051e11   | 1.70922e9  |\n",
       "| 4   | NA         | NA         | 5.16148e8  | 6.386e11   | 1.53897e9  |\n",
       "| 5   | NA         | NA         | 5.89057e8  | 6.858e11   | 1.97451e9  |\n",
       "| 6   | NA         | NA         | 8.84874e8  | 7.437e11   | 1.88919e9  |\n",
       "| 7   | NA         | NA         | 9.2577e8   | 8.15e11    | 1.80878e9  |\n",
       "| 8   | NA         | NA         | 9.67647e8  | 8.617e11   | 1.59815e9  |\n",
       "| 9   | NA         | NA         | 1.03782e9  | 9.425e11   | 1.5937e9   |\n",
       "| 10  | NA         | NA         | 1.16905e9  | 1.0199e12  | 2.00434e9  |\n",
       "| 11  | NA         | NA         | 1.26008e9  | 1.0759e12  | 2.13724e9  |\n",
       "⋮\n",
       "| 43  | 1.08056e10 | 4.23929e10 | 6.17856e9  | 1.09775e13 | 1.36065e10 |\n",
       "| 44  | 1.16591e10 | 5.0133e10  | 6.3367e9   | 1.15107e13 | 1.20456e10 |\n",
       "| 45  | 1.28258e10 | 6.48831e10 | 7.94036e9  | 1.22749e13 | 1.36863e10 |\n",
       "| 46  | 1.41419e10 | 8.6142e10  | 9.01383e9  | 1.30937e13 | 1.73629e10 |\n",
       "| 47  | 1.43312e10 | 1.07753e11 | 9.9426e9   | 1.38559e13 | 1.95795e10 |\n",
       "| 48  | 2.15014e10 | 1.42719e11 | 1.22928e10 | 1.44776e13 | 2.34105e10 |\n",
       "| 49  | 2.72822e10 | 1.79992e11 | 1.4239e10  | 1.47186e13 | 3.03661e10 |\n",
       "| 50  | 2.85963e10 | 1.17228e11 | 1.69929e10 | 1.44187e13 | 3.04613e10 |\n",
       "| 51  | 3.09174e10 | 1.36419e11 | 1.88039e10 | 1.49644e13 | 3.88811e10 |\n",
       "| 52  | 3.33169e10 | 1.63422e11 | 1.86613e10 | 1.55179e13 | 4.72367e10 |\n",
       "| 53  | 3.8734e10  | 1.76603e11 | 2.37247e10 | 1.61632e13 | 5.00044e10 |\n",
       "| 54  | 4.36467e10 | 1.77431e11 | 2.47033e10 | 1.67681e13 | 5.57079e10 |\n",
       "\n",
       "| Row | UZ         | VC        | VE         | VI      | VN         | VU        |\n",
       "|-----|------------|-----------|------------|---------|------------|-----------|\n",
       "| 1   | NA         | 1.30666e7 | 8.6076e9   | 2.42e7  | NA         | NA        |\n",
       "| 2   | NA         | 1.4e7     | 8.92337e9  | 2.57e7  | NA         | NA        |\n",
       "| 3   | NA         | 1.4525e7  | 9.8734e9   | 3.69e7  | NA         | NA        |\n",
       "| 4   | NA         | 1.37083e7 | 1.06634e10 | 4.14e7  | NA         | NA        |\n",
       "| 5   | NA         | 1.47583e7 | 9.11358e9  | 5.38e7  | NA         | NA        |\n",
       "| 6   | NA         | 1.51083e7 | 9.60294e9  | 6.65e7  | NA         | NA        |\n",
       "| 7   | NA         | 1.61e7    | 1.00966e10 | 8.41e7  | NA         | NA        |\n",
       "| 8   | NA         | 1.58351e7 | 1.04728e10 | 1.154e8 | NA         | NA        |\n",
       "| 9   | NA         | 1.535e7   | 1.14709e10 | 1.738e8 | NA         | NA        |\n",
       "| 10  | NA         | 1.665e7   | 1.19276e10 | 2.113e8 | NA         | NA        |\n",
       "| 11  | NA         | 1.845e7   | 1.29931e10 | 2.19e8  | NA         | NA        |\n",
       "⋮\n",
       "| 43  | 9.68795e9  | 4.61883e8 | 9.28896e10 | NA      | 3.79479e10 | 2.62604e8 |\n",
       "| 44  | 1.01281e10 | 4.81806e8 | 8.36222e10 | NA      | 4.27171e10 | 3.14463e8 |\n",
       "| 45  | 1.203e10   | 5.21975e8 | 1.12451e11 | NA      | 4.94241e10 | 3.64997e8 |\n",
       "| 46  | 1.43075e10 | 5.50729e8 | 1.45513e11 | NA      | 5.76333e10 | 3.94963e8 |\n",
       "| 47  | 1.70309e10 | 6.10778e8 | 1.83478e11 | NA      | 6.63717e10 | 4.37073e8 |\n",
       "| 48  | 2.23114e10 | 6.84049e8 | 2.30364e11 | NA      | 7.74144e10 | 5.26426e8 |\n",
       "| 49  | 2.7934e10  | 6.95429e8 | 3.156e11   | NA      | 9.91303e10 | 6.07984e8 |\n",
       "| 50  | 3.28168e10 | 6.74922e8 | 3.29419e11 | NA      | 1.06015e11 | 6.10076e8 |\n",
       "| 51  | 3.93328e10 | 6.81226e8 | 3.93802e11 | NA      | 1.15932e11 | 7.00804e8 |\n",
       "| 52  | 4.53243e10 | 6.76407e8 | 3.16482e11 | NA      | 1.35539e11 | 7.9215e8  |\n",
       "| 53  | 5.11834e10 | 6.93304e8 | 3.81286e11 | NA      | 1.5582e11  | 7.81703e8 |\n",
       "| 54  | 5.67957e10 | 7.09358e8 | 4.38284e11 | NA      | 1.7139e11  | 8.28237e8 |\n",
       "\n",
       "| Row | WS        | XC         | XD         | XE         | XJ         |\n",
       "|-----|-----------|------------|------------|------------|------------|\n",
       "| 1   | NA        | 2.45741e11 | 1.09229e12 | 1.75368e10 | 7.30991e10 |\n",
       "| 2   | NA        | 2.70496e11 | 1.15611e12 | 1.79987e10 | 7.68006e10 |\n",
       "| 3   | NA        | 3.00179e11 | 1.24821e12 | 1.96187e10 | 8.85575e10 |\n",
       "| 4   | NA        | 3.36754e11 | 1.34324e12 | 2.3763e10  | 8.87056e10 |\n",
       "| 5   | NA        | 3.74547e11 | 1.46684e12 | 2.11557e10 | 9.88267e10 |\n",
       "| 6   | NA        | 4.08704e11 | 1.59279e12 | 2.47535e10 | 1.07118e11 |\n",
       "| 7   | NA        | 4.45678e11 | 1.74679e12 | 2.70053e10 | 1.17399e11 |\n",
       "| 8   | NA        | 4.84135e11 | 1.87324e12 | 2.64286e10 | 1.20363e11 |\n",
       "| 9   | NA        | 5.19007e11 | 2.02905e12 | 2.76407e10 | 1.30028e11 |\n",
       "| 10  | NA        | 5.73353e11 | 2.22704e12 | 3.08329e10 | 1.45092e11 |\n",
       "| 11  | NA        | 6.42231e11 | 2.44596e12 | 3.2292e10  | 1.57555e11 |\n",
       "⋮\n",
       "| 43  | 2.88075e8 | 7.16602e12 | 2.85189e13 | 1.57552e11 | 1.79099e12 |\n",
       "| 44  | 3.38836e8 | 8.84255e12 | 3.20344e13 | 1.79173e11 | 1.83533e12 |\n",
       "| 45  | 4.20318e8 | 1.01396e13 | 3.57646e13 | 2.06564e11 | 2.134e12   |\n",
       "| 46  | 4.62645e8 | 1.05207e13 | 3.79404e13 | 2.3706e11  | 2.59209e12 |\n",
       "| 47  | 5.08505e8 | 1.11683e13 | 4.02519e13 | 2.83322e11 | 3.04293e12 |\n",
       "| 48  | 5.50967e8 | 1.28601e13 | 4.42341e13 | 3.43705e11 | 3.60973e12 |\n",
       "| 49  | 6.44145e8 | 1.41004e13 | 4.72632e13 | 4.14119e11 | 4.21348e12 |\n",
       "| 50  | 5.62358e8 | 1.28948e13 | 4.39785e13 | 4.16659e11 | 3.94994e12 |\n",
       "| 51  | 6.43059e8 | 1.26323e13 | 4.63665e13 | 4.61551e11 | 4.89706e12 |\n",
       "| 52  | 7.37054e8 | 1.36201e13 | 5.0266e13  | 5.15341e11 | 5.48825e12 |\n",
       "| 53  | 8.01804e8 | 1.26626e13 | 5.04427e13 | 5.53348e11 | 5.47245e12 |\n",
       "| 54  | 8.01916e8 | 1.3194e13  | 5.1091e13  | 5.99028e11 | 5.65737e12 |\n",
       "\n",
       "| Row | XL         | XM         | XN         | XO         | XP         |\n",
       "|-----|------------|------------|------------|------------|------------|\n",
       "| 1   | NA         | 2.20125e10 | 8.68208e10 | 2.77053e11 | 2.58396e11 |\n",
       "| 2   | NA         | 2.27981e10 | 9.22866e10 | 2.66654e11 | 2.47292e11 |\n",
       "| 3   | NA         | 2.47395e10 | 9.46748e10 | 2.78771e11 | 2.5774e11  |\n",
       "| 4   | NA         | 2.94826e10 | 1.05686e11 | 2.99687e11 | 2.74833e11 |\n",
       "| 5   | NA         | 2.54525e10 | 1.20358e11 | 3.33455e11 | 3.11517e11 |\n",
       "| 6   | NA         | 2.95317e10 | 1.29168e11 | 3.68401e11 | 3.43056e11 |\n",
       "| 7   | NA         | 3.2529e10  | 1.14863e11 | 3.80935e11 | 3.53237e11 |\n",
       "| 8   | NA         | 3.29538e10 | 1.22092e11 | 3.91162e11 | 3.63057e11 |\n",
       "| 9   | NA         | 3.43341e10 | 1.31139e11 | 4.1383e11  | 3.8449e11  |\n",
       "| 10  | NA         | 3.84162e10 | 1.46299e11 | 4.6256e11  | 4.29737e11 |\n",
       "| 11  | NA         | 4.00629e10 | 1.61685e11 | 5.062e11   | 4.71744e11 |\n",
       "⋮\n",
       "| 43  | 2.01017e11 | 1.76501e11 | 1.34697e12 | 5.79595e12 | 5.62099e12 |\n",
       "| 44  | 2.25334e11 | 1.93556e11 | 1.54309e12 | 6.50238e12 | 6.31006e12 |\n",
       "| 45  | 2.62897e11 | 2.16796e11 | 1.76908e12 | 7.65586e12 | 7.43928e12 |\n",
       "| 46  | 3.09153e11 | 2.42141e11 | 2.04169e12 | 9.03589e12 | 8.79241e12 |\n",
       "| 47  | 3.70797e11 | 2.80351e11 | 2.42919e12 | 1.06421e13 | 1.03596e13 |\n",
       "| 48  | 4.60587e11 | 3.36477e11 | 2.99973e12 | 1.31185e13 | 1.27783e13 |\n",
       "| 49  | 5.67109e11 | 3.98215e11 | 3.33712e12 | 1.56292e13 | 1.52262e13 |\n",
       "| 50  | 5.64192e11 | 4.28522e11 | 3.41623e12 | 1.5599e13  | 1.51693e13 |\n",
       "| 51  | 6.32271e11 | 4.67336e11 | 4.30772e12 | 1.88972e13 | 1.84225e13 |\n",
       "| 52  | 7.13248e11 | 5.20969e11 | 4.83396e12 | 2.18953e13 | 2.13635e13 |\n",
       "| 53  | 7.5797e11  | 5.78104e11 | 5.01991e12 | 2.31174e13 | 2.2531e13  |\n",
       "| 54  | 8.20035e11 | 6.2961e11  | 5.2326e12  | 2.45768e13 | 2.394e13   |\n",
       "\n",
       "| Row | XQ         | XR         | XS         | XT         | YE         |\n",
       "|-----|------------|------------|------------|------------|------------|\n",
       "| 1   | NA         | NA         | 1.04214e12 | 1.7333e11  | NA         |\n",
       "| 2   | NA         | NA         | 1.10239e12 | 1.57261e11 | NA         |\n",
       "| 3   | NA         | NA         | 1.18995e12 | 1.65321e11 | NA         |\n",
       "| 4   | NA         | NA         | 1.28049e12 | 1.72548e11 | NA         |\n",
       "| 5   | NA         | NA         | 1.39779e12 | 1.95132e11 | NA         |\n",
       "| 6   | NA         | NA         | 1.51796e12 | 2.17589e11 | NA         |\n",
       "| 7   | NA         | NA         | 1.66506e12 | 2.38952e11 | NA         |\n",
       "| 8   | NA         | NA         | 1.78548e12 | 2.42278e11 | NA         |\n",
       "| 9   | NA         | NA         | 1.93368e12 | 2.54977e11 | NA         |\n",
       "| 10  | NA         | NA         | 2.12159e12 | 2.85217e11 | NA         |\n",
       "| 11  | NA         | NA         | 2.32943e12 | 3.12161e11 | NA         |\n",
       "⋮\n",
       "| 43  | 4.38152e11 | 1.51854e12 | 2.69983e13 | 4.27395e12 | 1.06933e10 |\n",
       "| 44  | 4.87799e11 | 1.70066e12 | 3.03314e13 | 4.76669e12 | 1.17778e10 |\n",
       "| 45  | 5.61857e11 | 2.04654e12 | 3.37171e13 | 5.6702e12  | 1.38735e10 |\n",
       "| 46  | 6.55693e11 | 2.45178e12 | 3.54908e13 | 6.75072e12 | 1.67538e10 |\n",
       "| 47  | 7.63984e11 | 2.89399e12 | 3.73635e13 | 7.93042e12 | 1.90817e10 |\n",
       "| 48  | 9.40384e11 | 3.447e12   | 4.07963e13 | 9.77861e12 | 2.56337e10 |\n",
       "| 49  | 1.18825e12 | 4.15642e12 | 4.31241e13 | 1.1886e13  | 3.03972e10 |\n",
       "| 50  | 1.14155e12 | 3.40402e12 | 4.05826e13 | 1.17507e13 | 2.78387e10 |\n",
       "| 51  | 1.3138e12  | 4.02458e12 | 4.2359e13  | 1.41133e13 | 3.17438e10 |\n",
       "| 52  | 1.50354e12 | 4.86392e12 | 4.54304e13 | 1.65265e13 | 2.92073e10 |\n",
       "| 53  | 1.59637e12 | 5.1612e12  | 4.53159e13 | 1.75075e13 | 3.19928e10 |\n",
       "| 54  | 1.49567e12 | 5.36874e12 | 4.57605e13 | 1.87028e13 | 3.59545e10 |\n",
       "\n",
       "| Row | Z4         | Z7         | ZA         | ZF         | ZG         |\n",
       "|-----|------------|------------|------------|------------|------------|\n",
       "| 1   | 1.53588e11 | 4.33636e11 | 7.3631e9   | 2.97238e10 | 2.97157e10 |\n",
       "| 2   | 1.54225e11 | 4.6159e11  | 7.74263e9  | 3.08582e10 | 3.08498e10 |\n",
       "| 3   | 1.57741e11 | 5.04649e11 | 8.2697e9   | 3.34676e10 | 3.34585e10 |\n",
       "| 4   | 1.7543e11  | 5.56483e11 | 9.17487e9  | 3.84039e10 | 3.83939e10 |\n",
       "| 5   | 2.01677e11 | 6.16261e11 | 1.00714e10 | 3.74037e10 | 3.73964e10 |\n",
       "| 6   | 2.24506e11 | 6.70609e11 | 1.10024e10 | 4.16237e10 | 4.16732e10 |\n",
       "| 7   | 2.50955e11 | 7.28542e11 | 1.1995e10  | 4.49384e10 | 4.4991e10  |\n",
       "| 8   | 2.72046e11 | 7.83848e11 | 1.33823e10 | 4.43555e10 | 4.44121e10 |\n",
       "| 9   | 2.99829e11 | 8.17514e11 | 1.44757e10 | 4.74569e10 | 4.75063e10 |\n",
       "| 10  | 3.4537e11  | 8.97547e11 | 1.63153e10 | 5.44172e10 | 5.44623e10 |\n",
       "| 11  | 4.04731e11 | 1.0089e12  | 1.7907e10  | 6.4065e10  | 6.41036e10 |\n",
       "⋮\n",
       "| 43  | 7.66483e12 | 1.09617e13 | 1.15482e11 | 3.56645e11 | 3.58451e11 |\n",
       "| 44  | 8.42729e12 | 1.33703e13 | 1.75257e11 | 4.55584e11 | 4.58069e11 |\n",
       "| 45  | 9.45113e12 | 1.55882e13 | 2.28594e11 | 5.6615e11  | 5.70565e11 |\n",
       "| 46  | 1.00592e13 | 1.65948e13 | 2.57773e11 | 6.61095e11 | 6.69328e11 |\n",
       "| 47  | 1.06751e13 | 1.79669e13 | 2.71639e11 | 7.71919e11 | 7.80014e11 |\n",
       "| 48  | 1.19556e13 | 2.10037e13 | 2.9942e11  | 9.03133e11 | 9.13352e11 |\n",
       "| 49  | 1.37855e13 | 2.30653e13 | 2.8677e11  | 1.02789e12 | 1.04336e12 |\n",
       "| 50  | 1.41622e13 | 2.03006e13 | 2.9594e11  | 9.85495e11 | 9.94954e11 |\n",
       "| 51  | 1.64396e13 | 2.08111e13 | 3.75349e11 | 1.3227e12  | 1.33442e12 |\n",
       "| 52  | 1.89932e13 | 2.29136e13 | 4.16597e11 | 1.48532e12 | 1.50117e12 |\n",
       "| 53  | 2.02932e13 | 2.20025e13 | 3.97391e11 | 1.5575e12  | 1.57412e12 |\n",
       "| 54  | 2.04987e13 | 2.29202e13 | 3.66058e11 | 1.64336e12 | 1.6591e12  |\n",
       "\n",
       "| Row | ZJ         | ZM         | ZQ         | ZW         |\n",
       "|-----|------------|------------|------------|------------|\n",
       "| 1   | 8.11448e10 | 6.9874e8   | NA         | 1.05299e9  |\n",
       "| 2   | 8.61707e10 | 6.8236e8   | NA         | 1.09665e9  |\n",
       "| 3   | 9.91858e10 | 6.7928e8   | NA         | 1.1176e9   |\n",
       "| 4   | 9.94916e10 | 7.0434e8   | NA         | 1.15951e9  |\n",
       "| 5   | 1.10705e11 | 8.2264e8   | NA         | 1.21714e9  |\n",
       "| 6   | 1.1957e11  | 1.0612e9   | NA         | 1.31144e9  |\n",
       "| 7   | 1.31114e11 | 1.239e9    | NA         | 1.28175e9  |\n",
       "| 8   | 1.34271e11 | 1.34064e9  | NA         | 1.397e9    |\n",
       "| 9   | 1.44629e11 | 1.57374e9  | 3.20168e10 | 1.4796e9   |\n",
       "| 10  | 1.61962e11 | 1.9264e9   | 3.56619e10 | 1.748e9    |\n",
       "| 11  | 1.76076e11 | 1.78878e9  | 3.93872e10 | 1.88421e9  |\n",
       "⋮\n",
       "| 43  | 1.97771e12 | 4.19385e9  | 9.47457e11 | 6.34212e9  |\n",
       "| 44  | 2.03326e12 | 4.90187e9  | 1.06104e12 | 5.72759e9  |\n",
       "| 45  | 2.36439e12 | 6.22111e9  | 1.23718e12 | 5.8056e9   |\n",
       "| 46  | 2.85977e12 | 8.33186e9  | 1.48434e12 | 5.75522e9  |\n",
       "| 47  | 3.35164e12 | 1.2757e10  | 1.73978e12 | 5.4439e9   |\n",
       "| 48  | 3.94935e12 | 1.40569e10 | 2.05665e12 | 5.29195e9  |\n",
       "| 49  | 4.5799e12  | 1.7911e10  | 2.59522e12 | 4.4157e9   |\n",
       "| 50  | 4.30098e12 | 1.53283e10 | 2.31015e12 | 8.15708e9  |\n",
       "| 51  | 5.30862e12 | 2.02654e10 | 2.68902e12 | 9.45681e9  |\n",
       "| 52  | 5.94915e12 | 2.37319e10 | 3.20907e12 | 1.09562e10 |\n",
       "| 53  | 5.95217e12 | 2.49395e10 | 3.4403e12  | 1.24724e10 |\n",
       "| 54  | 6.15828e12 | 2.68209e10 | 3.44235e12 | 1.349e10   |,[1960-12-31,1961-12-31,1962-12-31,1963-12-31,1964-12-31,1965-12-31,1966-12-31,1967-12-31,1968-12-31,1969-12-31  …  2004-12-31,2005-12-31,2006-12-31,2007-12-31,2008-12-31,2009-12-31,2010-12-31,2011-12-31,2012-12-31,2013-12-31])"
      ]
     },
     "execution_count": 27,
     "metadata": {},
     "output_type": "execute_result"
    }
   ],
   "source": [
    "gdp_data = selectIndicator(data_raw, :gdp)"
   ]
  },
  {
   "cell_type": "code",
   "execution_count": 28,
   "metadata": {
    "collapsed": true
   },
   "outputs": [],
   "source": [
    "writeTimedata(\"../tmp/gdp.csv\", gdp_data)"
   ]
  },
  {
   "cell_type": "markdown",
   "metadata": {},
   "source": [
    "# Session info"
   ]
  },
  {
   "cell_type": "code",
   "execution_count": 29,
   "metadata": {
    "collapsed": false
   },
   "outputs": [
    {
     "name": "stdout",
     "output_type": "stream",
     "text": [
      "Julia Version 0.3.6\n",
      "Commit a05f87b* (2015-01-08 22:33 UTC)\n",
      "Platform Info:\n",
      "  System: Linux (x86_64-linux-gnu)\n",
      "  CPU: Intel(R) Core(TM) i5-4210U CPU @ 1.70GHz\n",
      "  WORD_SIZE: 64\n",
      "  BLAS: libopenblas (DYNAMIC_ARCH NO_AFFINITY Haswell)\n",
      "  LAPACK: libopenblas\n",
      "  LIBM: libopenlibm\n",
      "  LLVM: libLLVM-3.3\n"
     ]
    }
   ],
   "source": [
    "versioninfo()"
   ]
  },
  {
   "cell_type": "code",
   "execution_count": 30,
   "metadata": {
    "collapsed": false
   },
   "outputs": [
    {
     "name": "stdout",
     "output_type": "stream",
     "text": [
      "19 required packages:\n",
      " - DataArrays                    0.2.13\n",
      " - DataFrames                    0.6.3\n",
      " - Dates                         0.3.2\n",
      " - Debug                         0.1.2\n",
      " - Distributions                 0.7.0\n",
      " - EconDatasets                  0.0.2\n",
      " - GLM                           0.4.5\n",
      " - Gadfly                        0.3.11\n",
      " - IJulia                        0.2.3\n",
      " - JuMP                          0.9.0\n",
      " - MAT                           0.2.11\n",
      " - NLopt                         0.2.0\n",
      " - Plotly                        0.0.3+             master\n",
      " - Quandl                        0.4.1\n",
      " - RDatasets                     0.1.2\n",
      " - Taro                          0.1.4\n",
      " - TimeData                      0.5.1\n",
      " - TimeSeries                    0.5.7\n",
      " - Winston                       0.11.9\n",
      "57 additional packages:\n",
      " - ArrayViews                    0.6.1\n",
      " - BinDeps                       0.3.11\n",
      " - Blosc                         0.1.2\n",
      " - Cairo                         0.2.26\n",
      " - Calculus                      0.1.6\n",
      " - Codecs                        0.1.3\n",
      " - Color                         0.4.4\n",
      " - Compat                        0.4.1\n",
      " - Compose                       0.3.11\n",
      " - Contour                       0.0.6\n",
      " - Copulas                       0.0.0-             master (unregistered)\n",
      " - DataStructures                0.3.8\n",
      " - Distances                     0.2.0\n",
      " - Docile                        0.4.10\n",
      " - DualNumbers                   0.1.3\n",
      " - Econometrics                  0.0.0-             master (unregistered)\n",
      " - FixedPointNumbers             0.0.7\n",
      " - GZip                          0.2.15\n",
      " - GnuTLS                        0.0.4\n",
      " - Graphics                      0.1.0\n",
      " - Grid                          0.3.8\n",
      " - Gumbo                         0.1.2\n",
      " - HDF5                          0.4.13\n",
      " - HTTPClient                    0.1.4\n",
      " - Hexagons                      0.0.2\n",
      " - HttpCommon                    0.0.12\n",
      " - HttpParser                    0.0.11\n",
      " - ImmutableArrays               0.0.6\n",
      " - IniFile                       0.2.4\n",
      " - Iterators                     0.1.7\n",
      " - JSON                          0.4.2\n",
      " - JavaCall                      0.2.2\n",
      " - KernelDensity                 0.1.0              b2c9f7d6 (dirty)\n",
      " - LibCURL                       0.1.4\n",
      " - Loess                         0.0.3\n",
      " - MathProgBase                  0.3.11\n",
      " - Memoize                       0.0.0\n",
      " - NaNMath                       0.0.2\n",
      " - Nettle                        0.1.8\n",
      " - NumericFuns                   0.2.3\n",
      " - Optim                         0.4.1\n",
      " - PDMats                        0.3.3\n",
      " - REPLCompletions               0.0.3\n",
      " - Reexport                      0.0.2\n",
      " - Requests                      0.0.8\n",
      " - Requires                      0.1.1\n",
      " - ReverseDiffSparse             0.2.7\n",
      " - SHA                           0.0.4\n",
      " - Showoff                       0.0.4\n",
      " - SortingAlgorithms             0.0.4\n",
      " - StatsBase                     0.6.14\n",
      " - Tk                            0.3.1\n",
      " - URIParser                     0.0.5\n",
      " - WoodburyMatrices              0.0.1\n",
      " - WorldBankDataTd               0.0.0-             master (unregistered)\n",
      " - ZMQ                           0.1.17\n",
      " - Zlib                          0.1.8\n"
     ]
    }
   ],
   "source": [
    "Pkg.status()"
   ]
  }
 ],
 "metadata": {
  "kernelspec": {
   "display_name": "Julia",
   "language": "julia",
   "name": "julia"
  },
  "language_info": {
   "name": "julia",
   "version": "0.3.6"
  }
 },
 "nbformat": 4,
 "nbformat_minor": 0
}
